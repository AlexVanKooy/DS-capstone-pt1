{
 "cells": [
  {
   "cell_type": "code",
   "execution_count": 1,
   "id": "6f5fbf71-d0eb-48ff-b6b8-1ed87f617240",
   "metadata": {},
   "outputs": [],
   "source": [
    "# general imports\n",
    "import requests as rq\n",
    "import numpy as np\n",
    "import pandas as pd\n",
    "import re\n",
    "from urllib.request import urlopen\n",
    "import json\n",
    "import os\n",
    "import pathlib\n",
    "import plotly.express as px\n",
    "import matplotlib.pyplot as plt\n",
    "%matplotlib inline"
   ]
  },
  {
   "cell_type": "code",
   "execution_count": 93,
   "id": "aa8a2019-181f-4846-abc5-8146dd67c63e",
   "metadata": {
    "tags": []
   },
   "outputs": [],
   "source": [
    "# pandas formatting \n",
    "pd.set_option(\"display.max_rows\", 500)\n",
    "pd.set_option('display.max_columns', 500)\n",
    "pd.set_option('display.width', 1000)"
   ]
  },
  {
   "cell_type": "code",
   "execution_count": 3,
<<<<<<< Updated upstream
   "id": "222d678e-bcd6-45a2-9cea-ad3f6016dd92",
   "metadata": {},
   "outputs": [],
   "source": [
=======
   "id": "6167c477-fb05-43a2-bdaf-3e839584aebc",
   "metadata": {},
   "outputs": [],
   "source": [
    "cwd = pathlib.Path.cwd()\n",
    "air_data_dir = cwd.joinpath(\"data\",\"air_quality\")\n",
    "NOAH_WKDIR = cwd.joinpath(\"data\",\"covid\")\n",
    "\n",
>>>>>>> Stashed changes
    "# load county information for plotly from saved file \n",
    "with open('counties.json','r') as jin:\n",
    "    counties = json.load(jin)"
   ]
  },
  {
   "cell_type": "code",
   "execution_count": 4,
   "id": "c65c4011-7c4c-4a0e-8f4c-2e6150462ae5",
   "metadata": {},
   "outputs": [],
   "source": [
    "#Does not need to run, just documenting\n",
    "def load_fips_mapping(file_path=None):\n",
<<<<<<< Updated upstream
    "    f2c_map = pd.read_csv('temp.csv', usecols=['fips','county_name','state_name'])\n",
=======
    "    f2c_map = pd.read_csv('temp.csv', usecols=['fips','county_name','state_name'], dtype={'fips':'string'})\n",
>>>>>>> Stashed changes
    "    return f2c_map\n",
    "    \n",
    "def request_fips_mapping():\n",
    "    r = rq.get('https://raw.githubusercontent.com/kjhealy/fips-codes/master/county_fips_master.csv')\n",
    "    cleaned = r.text.replace('\\r\\n','\\n')\n",
<<<<<<< Updated upstream
    "    with open('temp.csv', 'w',encoding='utf-8') as tempout:\n",
    "        tempout.write(cleaned)"
=======
    "    return cleaned\n",
    "    # with open('temp.csv', 'w',encoding='utf-8') as tempout:\n",
    "    #     tempout.write(cleaned)"
>>>>>>> Stashed changes
   ]
  },
  {
   "cell_type": "markdown",
   "id": "a373a558-a646-49c8-8c94-184310563f72",
   "metadata": {},
   "source": [
    "## Utility functions"
   ]
  },
  {
   "cell_type": "code",
   "execution_count": 5,
   "id": "240318cf-3be9-47c9-b6d7-6bbbc90ca8ab",
   "metadata": {
    "tags": []
   },
   "outputs": [],
   "source": [
    "def FIPS_function(row):\n",
    "    state = str(row['State Code']).zfill(2)\n",
    "    county = str(row['County Code']).zfill(3)\n",
    "    return str(state + county)\n",
    "# convert to NO2 ug/m^3 for reference\n",
    "def no2_mass_by_vol(ppb):\n",
    "    ugm3 = 1.88*ppb\n",
    "    return ugm3\n",
    "\n",
    "\n",
    "\n",
    "def set_daily_cases_deaths(df):\n",
    "    df['daily_new_cases'] = df['JHU_ConfirmedCases.data'].diff()\n",
    "    df['daily_new_deaths'] = df['JHU_ConfirmedDeaths.data'].diff()\n",
    "    return df\n",
    "# plotting one day's avg \n",
    "def show_day_mean(df, date):\n",
    "    fig = px.choropleth(df[df['Date Local']==date], geojson=counties, locations='fips', color='Arithmetic Mean',\n",
    "                               color_continuous_scale=\"Plasma\",\n",
    "                               range_color=(0, 70), #max value for daily avg is ~60ppb\n",
    "                               scope=\"usa\",\n",
    "                               labels={'Arithmetic Mean':'Arithmetic Mean (ppb)'}\n",
    "                              )\n",
    "    fig.update_layout(margin={\"r\":0,\"t\":0,\"l\":0,\"b\":1,'autoexpand':True })\n",
    "    fig.update_layout(\n",
    "        autosize=False,\n",
    "        width=1200,\n",
    "        height=900,\n",
    "    )\n",
    "    return fig\n",
    "\n",
    "\n",
    "# plotting one day's max value\n",
    "def show_day_max(df, date):\n",
    "    fig = px.choropleth(df[df['Date Local']==date], geojson=counties, locations='fips', color='1st Max Value',\n",
    "                               color_continuous_scale=\"Plasma\",\n",
    "                               range_color=(0, 70), #max value for daily avg is ~60ppb\n",
    "                               scope=\"usa\",\n",
    "                               labels={'1st Max Value':'1st Max Value (ppb)'}\n",
    "                              )\n",
    "    fig.update_layout(margin={\"r\":0,\"t\":0,\"l\":0,\"b\":1,'autoexpand':True })\n",
    "    fig.update_layout(\n",
    "        autosize=False,\n",
    "        width=1200,\n",
    "        height=900,\n",
    "    )\n",
    "    return fig   \n",
    "def show_sites(df):\n",
    "    fig = px.choropleth(df, geojson=counties, locations='fips', color='Parameter Code',\n",
    "                               color_continuous_scale=\"Plasma\",\n",
    "                               range_color=(0, 1), #max value for daily avg is ~60ppb\n",
    "                               scope=\"usa\",\n",
    "                               labels={'1st Max Value':'1st Max Value (ppb)'}\n",
    "                              )\n",
    "    fig.update_layout(margin={\"r\":0,\"t\":0,\"l\":0,\"b\":1,'autoexpand':True })\n",
    "    fig.update_layout(\n",
    "        autosize=False,\n",
    "        width=1200,\n",
    "        height=900,\n",
    "    )\n",
    "    return fig\n",
    "\n",
    "def get_counties_df(file_name='./data/covid/config/counties.json'):\n",
    "    with open(file_name) as file:\n",
    "                county_data = json.load(file)\n",
    "    \n",
    "    df = pd.DataFrame.from_dict(county_data)\n",
    "    \n",
    "    data = [df[col] for col in df.columns]    \n",
    "    \n",
    "    # pivot\n",
    "    return pd.DataFrame(data,columns=df.index, index=df.columns)\n",
    "\n",
    "def get_fips_from_county_lookup():\n",
    "    counties = get_counties_df() \n",
    "    counties = counties.dropna(subset=['fips'])\n",
    "    counties.fips = counties.fips.apply(lambda f: eval(str(f)).get('id'))\n",
    "    counties_index = {k: v for k, v in zip(counties.index, counties.fips)}\n",
    "    def get_fips_from_county(county):\n",
    "        return counties_index[county]\n",
    "    return get_fips_from_county\n",
    "\n",
    "def avg_county_pollution(df, column_to_avg = \"Arithmetic Mean\", date_column=None):    \n",
    "    if date_column == None:\n",
    "        date_column = 'Date Local'\n",
    "    # All days \n",
    "    # days = list(df[date_column].unique())\n",
    "    # all_fips = list(df['fips'].unique())\n",
    "    avg_by_day = df.groupby(['Date Local','fips']).agg({'Arithmetic Mean': 'mean','1st Max Value':'max','AQI':'max'})\n",
    "    return avg_by_day\n"
<<<<<<< Updated upstream
   ]
  },
  {
   "cell_type": "markdown",
   "id": "27fe20af-1d9b-452c-aa76-67e7a743b0f4",
   "metadata": {
    "tags": []
   },
   "source": [
    "# Loading EPA Data"
=======
>>>>>>> Stashed changes
   ]
  },
  {
   "cell_type": "code",
   "execution_count": 6,
<<<<<<< Updated upstream
   "id": "c43cd4d3-b7ca-4762-a7a7-9b11c0cb8384",
=======
   "id": "e995ffd5-ad2e-4e12-9c4b-cb299fb4e850",
>>>>>>> Stashed changes
   "metadata": {
    "tags": []
   },
   "outputs": [],
   "source": [
<<<<<<< Updated upstream
    "# defining useful pathlib partials\n",
    "\n",
    "cwd = pathlib.Path.cwd()\n",
    "air_data_dir = cwd.joinpath(\"data\",\"air_quality\")\n"
   ]
  },
  {
=======
    "# FIPS codes from the FCC.  Attempt to match all counties\n",
    "\n",
    "\n",
    "def make_lookup_functions():\n",
    "    fcc_county_file = NOAH_WKDIR.joinpath(\"config\",\"fcc_county_fips.txt\")\n",
    "    with open(fcc_county_file) as fh:\n",
    "        state = None\n",
    "        fips_to_county = {}\n",
    "        county_to_fips = {}\n",
    "        for row in fh:\n",
    "            if match := re.match(r'\\s+(\\d\\d\\d\\d\\d)\\s+ (.*)', row):\n",
    "                fips, location = match.groups()\n",
    "                if fips.endswith('000'):\n",
    "                    state = location.replace(' ','')\n",
    "                    continue\n",
    "                location = location.split(' County')[0]\n",
    "                location = location.split(' Borough')[0]\n",
    "                location = location.split(' Census Area')[0]\n",
    "                location = location.split(' Parish')[0]\n",
    "                location = location.split(' National Park')[0]\n",
    "                \n",
    "                if state == 'Florida' and location == 'Dade':\n",
    "                    location = 'Miami-Dade'\n",
    "                if state == 'Massachusetts' and location == 'Dukes':\n",
    "                    location = 'DukesandNantucket'\n",
    "                if state == 'Alaska' and location == 'Wrangell-Petersburg':\n",
    "                    location = 'Wrangell'\n",
    "                if state == 'Alaska' and location == 'Skagway-Hoonah-Angoon':\n",
    "                    location = 'Skagway'\n",
    "                if state == 'Alaska' and location == 'Prince of Wales-Outer Ketchikan':\n",
    "                    location = 'Prince of Wales'\n",
    "                if state == 'New York' and location == 'New York':\n",
    "                    location = 'New York City'\n",
    "                    \n",
    "                try:\n",
    "                    location = ''.join([s[0].upper() + s[1:] for s in location.split(' ')])    \n",
    "                except Exception as e:\n",
    "                    pass  # garbage\n",
    "\n",
    "                county = location.replace(' ', '') + '_' + state + '_UnitedStates'\n",
    "                fips_to_county[int(fips)] = county\n",
    "                county_to_fips[county.lower()] = int(fips)\n",
    "                \n",
    "        def lookup_county_from_fips(fips_):\n",
    "            return fips_to_county[int(fips_)]\n",
    "        \n",
    "        def lookup_fips_from_county(county_):\n",
    "            try:\n",
    "                return county_to_fips[county_.lower()]\n",
    "            except KeyError:\n",
    "                pass\n",
    "            \n",
    "            try:\n",
    "                county_ = county_.lower()\n",
    "                parts = county_.split('_')\n",
    "                parts[0] = parts[0][:parts[0].index('city')]\n",
    "                return county_to_fips['_'.join(parts)]\n",
    "            except:\n",
    "                pass\n",
    "            \n",
    "            try:\n",
    "                parts = county_.split('_')\n",
    "                parts[0] = parts[0] +'city'\n",
    "                return county_to_fips['_'.join(parts)]\n",
    "            except:\n",
    "                pass\n",
    "    \n",
    "            parts = county_.split('_')\n",
    "            for k, v in county_to_fips.items():\n",
    "                part0, part1, _ = k.split('_')\n",
    "                if part1 != parts[1]:\n",
    "                    continue\n",
    "                if parts[0].startswith(part0) or part0.startswith(parts[0]):\n",
    "                    return v\n",
    "\n",
    "            raise KeyError\n",
    "                \n",
    "        \n",
    "        return lookup_county_from_fips, lookup_fips_from_county\n",
    "\n",
    "get_county_from_fips,  get_fips_from_county = make_lookup_functions()"
   ]
  },
  {
   "cell_type": "markdown",
   "id": "27fe20af-1d9b-452c-aa76-67e7a743b0f4",
   "metadata": {
    "tags": []
   },
   "source": [
    "# Loading EPA Data"
   ]
  },
  {
>>>>>>> Stashed changes
   "cell_type": "markdown",
   "id": "89c36c14-fc11-4263-a6b0-8b9a1827d266",
   "metadata": {
    "tags": []
   },
   "source": [
    "#### Argument for removing columns\n",
    " \n",
    "We are looking for a link between 2 datasets, for now we will assume things like the 'POC' field (This is the “Parameter Occurrence Code” used to distinguish different instruments that measure the same parameter at the same site.) are unimportant to our investigation.\n",
    "\n",
    "Similarly we will remove the method code, method name, ect.\n",
    "\n",
    "more information on the field definitions can be found here -> https://aqs.epa.gov/aqsweb/airdata/FileFormats.html#_content_4"
   ]
  },
  {
   "cell_type": "code",
   "execution_count": 7,
   "id": "f0e7fada-5aa4-46b4-9a98-64f7381d28d6",
   "metadata": {
    "tags": []
   },
   "outputs": [],
<<<<<<< Updated upstream
   "source": [
    "no2_20 = pd.read_csv(air_data_dir.joinpath(\"no2\",\"daily_no2_2020_with_FIPS.csv\"), dtype={'fips':'string'})\n",
    "no2_columns = ['Date Local', 'fips', 'Arithmetic Mean','1st Max Value', '1st Max Hour',\n",
    "               'AQI', 'Units of Measure', 'Event Type', 'Mean ugm3', 'Site Num', 'Observation Count',\n",
    "               'Observation Percent', 'Longitude', 'Latitude', 'Site Num','Local Site Name', 'Address', \n",
    "               'State Name', 'County Name', 'CBSA Name', 'State Code', 'County Code']\n",
    "slim_no2 = no2_20[no2_columns]"
=======
   "source": [
    "no2_20 = pd.read_csv(air_data_dir.joinpath(\"no2\",\"daily_no2_2020_with_FIPS.csv\"), dtype={'fips':'string'})\n",
    "no2_columns = ['Date Local','fips',\n",
    "'Arithmetic Mean','AQI',\n",
    "'Mean ugm3','1st Max Value',\n",
    "'Units of Measure','Site Num',\n",
    "'Latitude','Longitude',\n",
    "'Event Type','State Name',\n",
    "'County Name','State Code',\n",
    "'County Code','City Name',\n",
    "'Observation Count','Observation Percent',\n",
    "'Date of Last Change']\n",
    "slim_no2 = no2_20[no2_columns]"
   ]
  },
  {
   "cell_type": "code",
   "execution_count": 8,
   "id": "a4356aab-1ffe-42cf-a577-7fb5b9ea0265",
   "metadata": {},
   "outputs": [
    {
     "data": {
      "text/plain": [
       "['State Code',\n",
       " 'County Code',\n",
       " 'Site Num',\n",
       " 'Parameter Code',\n",
       " 'POC',\n",
       " 'Latitude',\n",
       " 'Longitude',\n",
       " 'Datum',\n",
       " 'Parameter Name',\n",
       " 'Sample Duration',\n",
       " 'Pollutant Standard',\n",
       " 'Date Local',\n",
       " 'Units of Measure',\n",
       " 'Event Type',\n",
       " 'Observation Count',\n",
       " 'Observation Percent',\n",
       " 'Arithmetic Mean',\n",
       " '1st Max Value',\n",
       " '1st Max Hour',\n",
       " 'AQI',\n",
       " 'Method Code',\n",
       " 'Method Name',\n",
       " 'Local Site Name',\n",
       " 'Address',\n",
       " 'State Name',\n",
       " 'County Name',\n",
       " 'City Name',\n",
       " 'CBSA Name',\n",
       " 'Date of Last Change',\n",
       " 'fips',\n",
       " 'Mean ugm3']"
      ]
     },
     "execution_count": 8,
     "metadata": {},
     "output_type": "execute_result"
    }
   ],
   "source": [
    "list(no2_20.columns)"
>>>>>>> Stashed changes
   ]
  },
  {
   "cell_type": "markdown",
   "id": "35227ae6-a669-4de4-ab50-c3a77698a08b",
   "metadata": {
    "tags": []
   },
   "source": [
    "## Multiple sample sites in some counties\n",
    "\n",
    "Some counties have multiple air monitoring stations. Below code builds a dictionary whose keys are the fips codes with multiple sites."
   ]
  },
  {
   "cell_type": "code",
   "execution_count": 8,
   "id": "da7c3959-79b3-4c62-9cfe-0065670fc7b5",
   "metadata": {
    "tags": []
   },
   "outputs": [
    {
     "data": {
      "text/html": [
       "<div>\n",
       "<style scoped>\n",
       "    .dataframe tbody tr th:only-of-type {\n",
       "        vertical-align: middle;\n",
       "    }\n",
       "\n",
       "    .dataframe tbody tr th {\n",
       "        vertical-align: top;\n",
       "    }\n",
       "\n",
       "    .dataframe thead th {\n",
       "        text-align: right;\n",
       "    }\n",
       "</style>\n",
       "<table border=\"1\" class=\"dataframe\">\n",
       "  <thead>\n",
       "    <tr style=\"text-align: right;\">\n",
       "      <th></th>\n",
       "      <th>Date Local</th>\n",
       "      <th>fips</th>\n",
       "      <th>Arithmetic Mean</th>\n",
       "      <th>AQI</th>\n",
       "      <th>Mean ugm3</th>\n",
       "      <th>1st Max Value</th>\n",
       "      <th>Units of Measure</th>\n",
       "      <th>Site Num</th>\n",
       "      <th>Latitude</th>\n",
       "      <th>Longitude</th>\n",
       "      <th>Event Type</th>\n",
       "      <th>State Name</th>\n",
       "      <th>County Name</th>\n",
       "      <th>State Code</th>\n",
       "      <th>County Code</th>\n",
       "      <th>City Name</th>\n",
       "      <th>Observation Count</th>\n",
       "      <th>Observation Percent</th>\n",
       "      <th>Date of Last Change</th>\n",
       "    </tr>\n",
       "  </thead>\n",
       "  <tbody>\n",
       "    <tr>\n",
       "      <th>4002</th>\n",
       "      <td>2020-01-01</td>\n",
       "      <td>06001</td>\n",
       "      <td>7.865217</td>\n",
       "      <td>17</td>\n",
       "      <td>14.786608</td>\n",
       "      <td>18.5</td>\n",
       "      <td>Parts per billion</td>\n",
       "      <td>7</td>\n",
       "      <td>37.687526</td>\n",
       "      <td>-121.784217</td>\n",
       "      <td>None</td>\n",
       "      <td>California</td>\n",
       "      <td>Alameda</td>\n",
       "      <td>6</td>\n",
       "      <td>1</td>\n",
       "      <td>Livermore</td>\n",
       "      <td>23</td>\n",
       "      <td>96.0</td>\n",
       "      <td>2021-04-05</td>\n",
       "    </tr>\n",
       "    <tr>\n",
       "      <th>4368</th>\n",
       "      <td>2020-01-01</td>\n",
       "      <td>06001</td>\n",
       "      <td>12.617391</td>\n",
       "      <td>20</td>\n",
       "      <td>23.720695</td>\n",
       "      <td>21.3</td>\n",
       "      <td>Parts per billion</td>\n",
       "      <td>9</td>\n",
       "      <td>37.743065</td>\n",
       "      <td>-122.169935</td>\n",
       "      <td>None</td>\n",
       "      <td>California</td>\n",
       "      <td>Alameda</td>\n",
       "      <td>6</td>\n",
       "      <td>1</td>\n",
       "      <td>Oakland</td>\n",
       "      <td>23</td>\n",
       "      <td>96.0</td>\n",
       "      <td>2021-04-05</td>\n",
       "    </tr>\n",
       "    <tr>\n",
       "      <th>4733</th>\n",
       "      <td>2020-01-01</td>\n",
       "      <td>06001</td>\n",
       "      <td>15.921739</td>\n",
       "      <td>26</td>\n",
       "      <td>29.932869</td>\n",
       "      <td>28.0</td>\n",
       "      <td>Parts per billion</td>\n",
       "      <td>11</td>\n",
       "      <td>37.814781</td>\n",
       "      <td>-122.282347</td>\n",
       "      <td>None</td>\n",
       "      <td>California</td>\n",
       "      <td>Alameda</td>\n",
       "      <td>6</td>\n",
       "      <td>1</td>\n",
       "      <td>Oakland</td>\n",
       "      <td>23</td>\n",
       "      <td>96.0</td>\n",
       "      <td>2021-04-21</td>\n",
       "    </tr>\n",
       "    <tr>\n",
       "      <th>5096</th>\n",
       "      <td>2020-01-01</td>\n",
       "      <td>06001</td>\n",
       "      <td>15.934783</td>\n",
       "      <td>22</td>\n",
       "      <td>29.957392</td>\n",
       "      <td>23.2</td>\n",
       "      <td>Parts per billion</td>\n",
       "      <td>12</td>\n",
       "      <td>37.793624</td>\n",
       "      <td>-122.263376</td>\n",
       "      <td>None</td>\n",
       "      <td>California</td>\n",
       "      <td>Alameda</td>\n",
       "      <td>6</td>\n",
       "      <td>1</td>\n",
       "      <td>Oakland</td>\n",
       "      <td>23</td>\n",
       "      <td>96.0</td>\n",
       "      <td>2021-04-05</td>\n",
       "    </tr>\n",
       "    <tr>\n",
       "      <th>5462</th>\n",
       "      <td>2020-01-01</td>\n",
       "      <td>06001</td>\n",
       "      <td>12.826087</td>\n",
       "      <td>22</td>\n",
       "      <td>24.113044</td>\n",
       "      <td>23.5</td>\n",
       "      <td>Parts per billion</td>\n",
       "      <td>13</td>\n",
       "      <td>37.864767</td>\n",
       "      <td>-122.302741</td>\n",
       "      <td>None</td>\n",
       "      <td>California</td>\n",
       "      <td>Alameda</td>\n",
       "      <td>6</td>\n",
       "      <td>1</td>\n",
       "      <td>Not in a city</td>\n",
       "      <td>23</td>\n",
       "      <td>96.0</td>\n",
       "      <td>2021-04-05</td>\n",
       "    </tr>\n",
       "    <tr>\n",
       "      <th>5828</th>\n",
       "      <td>2020-01-01</td>\n",
       "      <td>06001</td>\n",
       "      <td>10.808696</td>\n",
       "      <td>17</td>\n",
       "      <td>20.320348</td>\n",
       "      <td>18.7</td>\n",
       "      <td>Parts per billion</td>\n",
       "      <td>15</td>\n",
       "      <td>37.701222</td>\n",
       "      <td>-121.903019</td>\n",
       "      <td>None</td>\n",
       "      <td>California</td>\n",
       "      <td>Alameda</td>\n",
       "      <td>6</td>\n",
       "      <td>1</td>\n",
       "      <td>Pleasanton</td>\n",
       "      <td>23</td>\n",
       "      <td>96.0</td>\n",
       "      <td>2021-04-05</td>\n",
       "    </tr>\n",
       "  </tbody>\n",
       "</table>\n",
       "</div>"
      ],
      "text/plain": [
       "      Date Local   fips  Arithmetic Mean  AQI  Mean ugm3  1st Max Value   Units of Measure  Site Num   Latitude   Longitude Event Type  State Name County Name  State Code  County Code      City Name  Observation Count  Observation Percent Date of Last Change\n",
       "4002  2020-01-01  06001         7.865217   17  14.786608           18.5  Parts per billion         7  37.687526 -121.784217       None  California     Alameda           6            1      Livermore                 23                 96.0          2021-04-05\n",
       "4368  2020-01-01  06001        12.617391   20  23.720695           21.3  Parts per billion         9  37.743065 -122.169935       None  California     Alameda           6            1        Oakland                 23                 96.0          2021-04-05\n",
       "4733  2020-01-01  06001        15.921739   26  29.932869           28.0  Parts per billion        11  37.814781 -122.282347       None  California     Alameda           6            1        Oakland                 23                 96.0          2021-04-21\n",
       "5096  2020-01-01  06001        15.934783   22  29.957392           23.2  Parts per billion        12  37.793624 -122.263376       None  California     Alameda           6            1        Oakland                 23                 96.0          2021-04-05\n",
       "5462  2020-01-01  06001        12.826087   22  24.113044           23.5  Parts per billion        13  37.864767 -122.302741       None  California     Alameda           6            1  Not in a city                 23                 96.0          2021-04-05\n",
       "5828  2020-01-01  06001        10.808696   17  20.320348           18.7  Parts per billion        15  37.701222 -121.903019       None  California     Alameda           6            1     Pleasanton                 23                 96.0          2021-04-05"
      ]
     },
     "execution_count": 8,
     "metadata": {},
     "output_type": "execute_result"
    }
   ],
   "source": [
    "# multiple sites in one county\n",
    "slim_no2.loc[(slim_no2['Date Local']=='2020-01-01') & (slim_no2['fips']=='06001')]"
   ]
  },
  {
   "cell_type": "code",
<<<<<<< Updated upstream
   "execution_count": 9,
=======
   "execution_count": 10,
>>>>>>> Stashed changes
   "id": "7a0816af-a0c0-408b-9d23-59f6cd6b23c9",
   "metadata": {},
   "outputs": [
    {
     "data": {
      "text/html": [
       "<div>\n",
       "<style scoped>\n",
       "    .dataframe tbody tr th:only-of-type {\n",
       "        vertical-align: middle;\n",
       "    }\n",
       "\n",
       "    .dataframe tbody tr th {\n",
       "        vertical-align: top;\n",
       "    }\n",
       "\n",
       "    .dataframe thead th {\n",
       "        text-align: right;\n",
       "    }\n",
       "</style>\n",
       "<table border=\"1\" class=\"dataframe\">\n",
       "  <thead>\n",
       "    <tr style=\"text-align: right;\">\n",
       "      <th></th>\n",
       "      <th>Date Local</th>\n",
       "      <th>fips</th>\n",
       "      <th>Arithmetic Mean</th>\n",
<<<<<<< Updated upstream
       "      <th>1st Max Value</th>\n",
       "      <th>1st Max Hour</th>\n",
       "      <th>AQI</th>\n",
       "      <th>Units of Measure</th>\n",
       "      <th>Event Type</th>\n",
       "      <th>Mean ugm3</th>\n",
       "      <th>Site Num</th>\n",
       "      <th>Observation Count</th>\n",
       "      <th>Observation Percent</th>\n",
       "      <th>Longitude</th>\n",
       "      <th>Latitude</th>\n",
       "      <th>Site Num</th>\n",
       "      <th>Local Site Name</th>\n",
       "      <th>Address</th>\n",
       "      <th>State Name</th>\n",
       "      <th>County Name</th>\n",
       "      <th>CBSA Name</th>\n",
       "      <th>State Code</th>\n",
       "      <th>County Code</th>\n",
=======
       "      <th>AQI</th>\n",
       "      <th>Mean ugm3</th>\n",
       "      <th>1st Max Value</th>\n",
       "      <th>Units of Measure</th>\n",
       "      <th>Site Num</th>\n",
       "      <th>Latitude</th>\n",
       "      <th>Longitude</th>\n",
       "      <th>Event Type</th>\n",
       "      <th>State Name</th>\n",
       "      <th>County Name</th>\n",
       "      <th>State Code</th>\n",
       "      <th>County Code</th>\n",
       "      <th>City Name</th>\n",
       "      <th>Observation Count</th>\n",
       "      <th>Observation Percent</th>\n",
       "      <th>Date of Last Change</th>\n",
>>>>>>> Stashed changes
       "    </tr>\n",
       "  </thead>\n",
       "  <tbody>\n",
       "    <tr>\n",
       "      <th>0</th>\n",
       "      <td>2020-01-01</td>\n",
       "      <td>01073</td>\n",
       "      <td>15.752381</td>\n",
<<<<<<< Updated upstream
       "      <td>28.2</td>\n",
       "      <td>6</td>\n",
       "      <td>26</td>\n",
       "      <td>Parts per billion</td>\n",
       "      <td>None</td>\n",
       "      <td>29.614476</td>\n",
       "      <td>23</td>\n",
       "      <td>21</td>\n",
       "      <td>88.0</td>\n",
       "      <td>-86.815000</td>\n",
       "      <td>33.553056</td>\n",
       "      <td>23</td>\n",
       "      <td>North Birmingham</td>\n",
       "      <td>NO. B'HAM,SOU R.R., 3009 28TH ST. NO.</td>\n",
       "      <td>Alabama</td>\n",
       "      <td>Jefferson</td>\n",
       "      <td>Birmingham-Hoover, AL</td>\n",
       "      <td>1</td>\n",
       "      <td>73</td>\n",
=======
       "      <td>26</td>\n",
       "      <td>29.614476</td>\n",
       "      <td>28.2</td>\n",
       "      <td>Parts per billion</td>\n",
       "      <td>23</td>\n",
       "      <td>33.553056</td>\n",
       "      <td>-86.815000</td>\n",
       "      <td>None</td>\n",
       "      <td>Alabama</td>\n",
       "      <td>Jefferson</td>\n",
       "      <td>1</td>\n",
       "      <td>73</td>\n",
       "      <td>Birmingham</td>\n",
       "      <td>21</td>\n",
       "      <td>88.0</td>\n",
       "      <td>2021-02-25</td>\n",
>>>>>>> Stashed changes
       "    </tr>\n",
       "    <tr>\n",
       "      <th>362</th>\n",
       "      <td>2020-01-01</td>\n",
       "      <td>01073</td>\n",
       "      <td>16.995455</td>\n",
<<<<<<< Updated upstream
       "      <td>31.0</td>\n",
       "      <td>18</td>\n",
       "      <td>29</td>\n",
       "      <td>Parts per billion</td>\n",
       "      <td>None</td>\n",
       "      <td>31.951455</td>\n",
       "      <td>2059</td>\n",
       "      <td>22</td>\n",
       "      <td>92.0</td>\n",
       "      <td>-86.844112</td>\n",
       "      <td>33.521427</td>\n",
       "      <td>2059</td>\n",
       "      <td>Arkadelphia/Near Road</td>\n",
       "      <td>1110 5th Street West Birmingham, AL 35204</td>\n",
       "      <td>Alabama</td>\n",
       "      <td>Jefferson</td>\n",
       "      <td>Birmingham-Hoover, AL</td>\n",
       "      <td>1</td>\n",
       "      <td>73</td>\n",
=======
       "      <td>29</td>\n",
       "      <td>31.951455</td>\n",
       "      <td>31.0</td>\n",
       "      <td>Parts per billion</td>\n",
       "      <td>2059</td>\n",
       "      <td>33.521427</td>\n",
       "      <td>-86.844112</td>\n",
       "      <td>None</td>\n",
       "      <td>Alabama</td>\n",
       "      <td>Jefferson</td>\n",
       "      <td>1</td>\n",
       "      <td>73</td>\n",
       "      <td>Birmingham</td>\n",
       "      <td>22</td>\n",
       "      <td>92.0</td>\n",
       "      <td>2021-02-25</td>\n",
>>>>>>> Stashed changes
       "    </tr>\n",
       "  </tbody>\n",
       "</table>\n",
       "</div>"
      ],
      "text/plain": [
<<<<<<< Updated upstream
       "     Date Local   fips  Arithmetic Mean  1st Max Value  1st Max Hour  AQI   Units of Measure Event Type  Mean ugm3  Site Num  Observation Count  Observation Percent  Longitude   Latitude  Site Num        Local Site Name                                    Address State Name County Name              CBSA Name  State Code  County Code\n",
       "0    2020-01-01  01073        15.752381           28.2             6   26  Parts per billion       None  29.614476        23                 21                 88.0 -86.815000  33.553056        23       North Birmingham      NO. B'HAM,SOU R.R., 3009 28TH ST. NO.    Alabama   Jefferson  Birmingham-Hoover, AL           1           73\n",
       "362  2020-01-01  01073        16.995455           31.0            18   29  Parts per billion       None  31.951455      2059                 22                 92.0 -86.844112  33.521427      2059  Arkadelphia/Near Road  1110 5th Street West Birmingham, AL 35204    Alabama   Jefferson  Birmingham-Hoover, AL           1           73"
      ]
     },
     "execution_count": 9,
=======
       "     Date Local   fips  Arithmetic Mean  AQI  Mean ugm3  1st Max Value   Units of Measure  Site Num   Latitude  Longitude Event Type State Name County Name  State Code  County Code   City Name  Observation Count  Observation Percent Date of Last Change\n",
       "0    2020-01-01  01073        15.752381   26  29.614476           28.2  Parts per billion        23  33.553056 -86.815000       None    Alabama   Jefferson           1           73  Birmingham                 21                 88.0          2021-02-25\n",
       "362  2020-01-01  01073        16.995455   29  31.951455           31.0  Parts per billion      2059  33.521427 -86.844112       None    Alabama   Jefferson           1           73  Birmingham                 22                 92.0          2021-02-25"
      ]
     },
     "execution_count": 10,
>>>>>>> Stashed changes
     "metadata": {},
     "output_type": "execute_result"
    }
   ],
   "source": [
    "slim_no2[(slim_no2['Date Local']== '2020-01-01') & (slim_no2['fips']=='01073')]"
<<<<<<< Updated upstream
   ]
  },
  {
   "cell_type": "markdown",
   "id": "880c5cba-ae8f-46ab-aa6a-a1bca66b6a77",
   "metadata": {},
   "source": [
    "For a quick naive solution we can average the averages for each county.\n",
    "\n",
    "This method below achieves this but the other columns are not captured."
   ]
  },
  {
   "cell_type": "code",
   "execution_count": 10,
   "id": "00d0b424-6501-4e1b-b0d1-b56868b3aba8",
   "metadata": {},
   "outputs": [
    {
     "data": {
      "text/plain": [
       "Arithmetic Mean    16.373918\n",
       "Name: (2020-01-01, 01073), dtype: float64"
      ]
     },
     "execution_count": 10,
     "metadata": {},
     "output_type": "execute_result"
    }
   ],
   "source": [
    "county_mean= slim_no2.groupby(['Date Local','fips']).agg({'Arithmetic Mean':'mean'})\n",
    "county_mean.loc[('2020-01-01','01073')]"
   ]
  },
  {
   "cell_type": "code",
   "execution_count": 11,
   "id": "d538af89-efa5-4bf4-810b-4100b6933a34",
   "metadata": {},
   "outputs": [
    {
     "data": {
      "text/html": [
       "<div>\n",
       "<style scoped>\n",
       "    .dataframe tbody tr th:only-of-type {\n",
       "        vertical-align: middle;\n",
       "    }\n",
       "\n",
       "    .dataframe tbody tr th {\n",
       "        vertical-align: top;\n",
       "    }\n",
       "\n",
       "    .dataframe thead th {\n",
       "        text-align: right;\n",
       "    }\n",
       "</style>\n",
       "<table border=\"1\" class=\"dataframe\">\n",
       "  <thead>\n",
       "    <tr style=\"text-align: right;\">\n",
       "      <th></th>\n",
       "      <th></th>\n",
       "      <th>Arithmetic Mean</th>\n",
       "      <th>1st Max Value</th>\n",
       "      <th>AQI</th>\n",
       "    </tr>\n",
       "    <tr>\n",
       "      <th>Date Local</th>\n",
       "      <th>fips</th>\n",
       "      <th></th>\n",
       "      <th></th>\n",
       "      <th></th>\n",
       "    </tr>\n",
       "  </thead>\n",
       "  <tbody>\n",
       "    <tr>\n",
       "      <th rowspan=\"5\" valign=\"top\">2020-01-01</th>\n",
       "      <th>01073</th>\n",
       "      <td>16.373918</td>\n",
       "      <td>31.0</td>\n",
       "      <td>29</td>\n",
       "    </tr>\n",
       "    <tr>\n",
       "      <th>04013</th>\n",
       "      <td>16.660833</td>\n",
       "      <td>34.0</td>\n",
       "      <td>32</td>\n",
       "    </tr>\n",
       "    <tr>\n",
       "      <th>04019</th>\n",
       "      <td>11.206250</td>\n",
       "      <td>23.7</td>\n",
       "      <td>22</td>\n",
       "    </tr>\n",
       "    <tr>\n",
       "      <th>05035</th>\n",
       "      <td>9.175000</td>\n",
       "      <td>23.1</td>\n",
       "      <td>22</td>\n",
       "    </tr>\n",
       "    <tr>\n",
       "      <th>05119</th>\n",
       "      <td>12.637500</td>\n",
       "      <td>28.9</td>\n",
       "      <td>26</td>\n",
       "    </tr>\n",
       "  </tbody>\n",
       "</table>\n",
       "</div>"
      ],
      "text/plain": [
       "                  Arithmetic Mean  1st Max Value  AQI\n",
       "Date Local fips                                      \n",
       "2020-01-01 01073        16.373918           31.0   29\n",
       "           04013        16.660833           34.0   32\n",
       "           04019        11.206250           23.7   22\n",
       "           05035         9.175000           23.1   22\n",
       "           05119        12.637500           28.9   26"
      ]
     },
     "execution_count": 11,
     "metadata": {},
     "output_type": "execute_result"
    }
   ],
   "source": [
    "\n",
    "squashed_no2 = avg_county_pollution(slim_no2)\n",
    "# squashed_no2['Arithmetic Mean'].idxmax()\n",
    "# squashed_no2.to_pickle(air_data_dir.joinpath(\"no2\",\"daily_2020_multi_index.pkl\"))\n",
    "squashed_no2.head()"
=======
>>>>>>> Stashed changes
   ]
  },
  {
   "cell_type": "markdown",
<<<<<<< Updated upstream
   "id": "5314c5a4-21f4-4eb2-ad8d-5878a27586e2",
   "metadata": {},
   "source": [
    "## Find days with significant NO2 pollution"
   ]
  },
  {
   "cell_type": "code",
   "execution_count": 12,
   "id": "60870b09-68e0-490a-8455-73b7909b54d1",
   "metadata": {},
   "outputs": [
    {
     "data": {
      "text/html": [
       "<div>\n",
       "<style scoped>\n",
       "    .dataframe tbody tr th:only-of-type {\n",
       "        vertical-align: middle;\n",
       "    }\n",
       "\n",
       "    .dataframe tbody tr th {\n",
       "        vertical-align: top;\n",
       "    }\n",
       "\n",
       "    .dataframe thead th {\n",
       "        text-align: right;\n",
       "    }\n",
       "</style>\n",
       "<table border=\"1\" class=\"dataframe\">\n",
       "  <thead>\n",
       "    <tr style=\"text-align: right;\">\n",
       "      <th></th>\n",
       "      <th></th>\n",
       "      <th>Arithmetic Mean</th>\n",
       "      <th>1st Max Value</th>\n",
       "      <th>AQI</th>\n",
       "    </tr>\n",
       "    <tr>\n",
       "      <th>Date Local</th>\n",
       "      <th>fips</th>\n",
       "      <th></th>\n",
       "      <th></th>\n",
       "      <th></th>\n",
       "    </tr>\n",
       "  </thead>\n",
       "  <tbody>\n",
       "    <tr>\n",
       "      <th rowspan=\"5\" valign=\"top\">2020-01-01</th>\n",
       "      <th>01073</th>\n",
       "      <td>16.373918</td>\n",
       "      <td>31.0</td>\n",
       "      <td>29</td>\n",
       "    </tr>\n",
       "    <tr>\n",
       "      <th>04013</th>\n",
       "      <td>16.660833</td>\n",
       "      <td>34.0</td>\n",
       "      <td>32</td>\n",
       "    </tr>\n",
       "    <tr>\n",
       "      <th>04019</th>\n",
       "      <td>11.206250</td>\n",
       "      <td>23.7</td>\n",
       "      <td>22</td>\n",
       "    </tr>\n",
       "    <tr>\n",
       "      <th>05035</th>\n",
       "      <td>9.175000</td>\n",
       "      <td>23.1</td>\n",
       "      <td>22</td>\n",
       "    </tr>\n",
       "    <tr>\n",
       "      <th>05119</th>\n",
       "      <td>12.637500</td>\n",
       "      <td>28.9</td>\n",
       "      <td>26</td>\n",
       "    </tr>\n",
       "    <tr>\n",
       "      <th>...</th>\n",
       "      <th>...</th>\n",
       "      <td>...</td>\n",
       "      <td>...</td>\n",
       "      <td>...</td>\n",
       "    </tr>\n",
       "    <tr>\n",
       "      <th rowspan=\"5\" valign=\"top\">2020-12-31</th>\n",
       "      <th>56021</th>\n",
       "      <td>4.660000</td>\n",
       "      <td>14.6</td>\n",
       "      <td>13</td>\n",
       "    </tr>\n",
       "    <tr>\n",
       "      <th>56025</th>\n",
       "      <td>6.164167</td>\n",
       "      <td>30.6</td>\n",
       "      <td>28</td>\n",
       "    </tr>\n",
       "    <tr>\n",
       "      <th>56035</th>\n",
       "      <td>1.275326</td>\n",
       "      <td>7.5</td>\n",
       "      <td>7</td>\n",
       "    </tr>\n",
       "    <tr>\n",
       "      <th>56037</th>\n",
       "      <td>4.892572</td>\n",
       "      <td>28.4</td>\n",
       "      <td>26</td>\n",
       "    </tr>\n",
       "    <tr>\n",
       "      <th>72025</th>\n",
       "      <td>8.004167</td>\n",
       "      <td>15.2</td>\n",
       "      <td>14</td>\n",
       "    </tr>\n",
       "  </tbody>\n",
       "</table>\n",
       "<p>90840 rows × 3 columns</p>\n",
       "</div>"
      ],
      "text/plain": [
       "                  Arithmetic Mean  1st Max Value  AQI\n",
       "Date Local fips                                      \n",
       "2020-01-01 01073        16.373918           31.0   29\n",
       "           04013        16.660833           34.0   32\n",
       "           04019        11.206250           23.7   22\n",
       "           05035         9.175000           23.1   22\n",
       "           05119        12.637500           28.9   26\n",
       "...                           ...            ...  ...\n",
       "2020-12-31 56021         4.660000           14.6   13\n",
       "           56025         6.164167           30.6   28\n",
       "           56035         1.275326            7.5    7\n",
       "           56037         4.892572           28.4   26\n",
       "           72025         8.004167           15.2   14\n",
       "\n",
       "[90840 rows x 3 columns]"
      ]
     },
     "metadata": {},
     "output_type": "display_data"
    }
   ],
   "source": [
    "display(squashed_no2)"
   ]
  },
  {
   "cell_type": "code",
   "execution_count": 13,
   "id": "e5c8d603-ca7c-4ddd-9387-51164e4cddf9",
   "metadata": {},
   "outputs": [
    {
     "data": {
      "text/html": [
       "<div>\n",
       "<style scoped>\n",
       "    .dataframe tbody tr th:only-of-type {\n",
       "        vertical-align: middle;\n",
       "    }\n",
       "\n",
       "    .dataframe tbody tr th {\n",
       "        vertical-align: top;\n",
       "    }\n",
       "\n",
       "    .dataframe thead th {\n",
       "        text-align: right;\n",
       "    }\n",
       "</style>\n",
       "<table border=\"1\" class=\"dataframe\">\n",
       "  <thead>\n",
       "    <tr style=\"text-align: right;\">\n",
       "      <th></th>\n",
       "      <th>Arithmetic Mean</th>\n",
       "      <th>AQI</th>\n",
       "    </tr>\n",
       "    <tr>\n",
       "      <th>fips</th>\n",
       "      <th></th>\n",
       "      <th></th>\n",
       "    </tr>\n",
       "  </thead>\n",
       "  <tbody>\n",
       "    <tr>\n",
       "      <th>01073</th>\n",
       "      <td>9.486212</td>\n",
       "      <td>21.729508</td>\n",
       "    </tr>\n",
       "    <tr>\n",
       "      <th>04013</th>\n",
       "      <td>15.218185</td>\n",
       "      <td>37.560109</td>\n",
       "    </tr>\n",
       "    <tr>\n",
       "      <th>04019</th>\n",
       "      <td>7.204793</td>\n",
       "      <td>18.172131</td>\n",
       "    </tr>\n",
       "    <tr>\n",
       "      <th>05035</th>\n",
       "      <td>6.824061</td>\n",
       "      <td>15.281421</td>\n",
       "    </tr>\n",
       "    <tr>\n",
       "      <th>05119</th>\n",
       "      <td>7.160531</td>\n",
       "      <td>16.030055</td>\n",
       "    </tr>\n",
       "  </tbody>\n",
       "</table>\n",
       "</div>"
      ],
      "text/plain": [
       "       Arithmetic Mean        AQI\n",
       "fips                             \n",
       "01073         9.486212  21.729508\n",
       "04013        15.218185  37.560109\n",
       "04019         7.204793  18.172131\n",
       "05035         6.824061  15.281421\n",
       "05119         7.160531  16.030055"
      ]
     },
     "execution_count": 13,
     "metadata": {},
     "output_type": "execute_result"
    }
   ],
   "source": [
    "# looking for deviations of at least 5 ppb from average.\n",
    "\n",
    "# reset index, then take the year's average per fips. This will be our benchmark\n",
    "dfn = squashed_no2.reset_index().groupby(['fips']).mean()\n",
    "county_means = dfn.drop(['1st Max Value'],axis=1)\n",
    "county_means.head()\n"
   ]
  },
  {
   "cell_type": "markdown",
   "id": "281863f5-fbe3-4adb-83c8-ac0c2b254ed2",
   "metadata": {},
   "source": [
    "### Creating dictonary of the avg ppb and AQI per county for 2020"
   ]
  },
  {
   "cell_type": "code",
   "execution_count": 14,
   "id": "0fb202f9-73ca-447c-8338-b4ae22e8b431",
   "metadata": {},
   "outputs": [],
   "source": [
    "county_means.rename(columns={'Arithmetic Mean':'mean_ppb','AQI':'mean_AQI'},inplace=True)\n",
    "county_benchmarks = county_means.to_dict('index')"
=======
   "id": "880c5cba-ae8f-46ab-aa6a-a1bca66b6a77",
   "metadata": {},
   "source": [
    "For a quick naive solution we can average the averages for each county.\n",
    "\n",
    "This method below achieves this but the other columns are not captured."
>>>>>>> Stashed changes
   ]
  },
  {
   "cell_type": "code",
<<<<<<< Updated upstream
   "execution_count": 15,
   "id": "7462d4c7-925c-4813-91c3-9bf78fab9c35",
=======
   "execution_count": 11,
   "id": "00d0b424-6501-4e1b-b0d1-b56868b3aba8",
>>>>>>> Stashed changes
   "metadata": {},
   "outputs": [
    {
     "data": {
      "text/plain": [
<<<<<<< Updated upstream
       "15.218184866848818"
      ]
     },
     "execution_count": 15,
=======
       "Arithmetic Mean    16.373918\n",
       "Name: (2020-01-01, 01073), dtype: float64"
      ]
     },
     "execution_count": 11,
>>>>>>> Stashed changes
     "metadata": {},
     "output_type": "execute_result"
    }
   ],
   "source": [
<<<<<<< Updated upstream
    "county_benchmarks['04013']['mean_ppb']"
   ]
  },
  {
   "cell_type": "markdown",
   "id": "17539ae7-f13a-4ed0-9ca4-e87a55280e53",
   "metadata": {},
   "source": [
    "# Fix the below.\n",
    "\n",
    "Need a way to ID the peak pollution days in a manner that lets me check covid data for coorelations."
   ]
  },
  {
   "cell_type": "code",
   "execution_count": 56,
   "id": "3cea955f-f93c-4424-a2ec-d73a91d743d1",
   "metadata": {
    "tags": []
   },
   "outputs": [],
   "source": [
    "def check_level(df, averages, delta=0):\n",
    "    \"\"\"Return dictonary with higher than average ppb for each fips code.\n",
    "    \n",
    "    \n",
    "    Parameters:\n",
    "    \n",
    "    df -- single full dataframe\n",
    "    \n",
    "    averages -- dict of structure fips:(mean_ppb, AQI)\n",
    "    \n",
    "    delta -- ppb difference to flag, default = 0\n",
    "    \n",
    "    The averages dictionary should have one entry per fips code, giving the average concentration for that county.\n",
    "    \n",
    "    Return:\n",
    "    peaks -- dict of structure fips:[dates]\n",
    "    \"\"\"\n",
    "    \n",
    "    targets = {}\n",
    "    for fipc in list(averages.keys()):\n",
    "        df[df['fips']==fipc]\n",
    "        peak_df = df[(df['fips']==fipc) & (df['Arithmetic Mean'] >= (averages[fipc]['mean_ppb'] + delta))]\n",
    "        targets[fipc] = peak_df[['Date Local','Arithmetic Mean']].to_dict()\n",
    "    return targets"
   ]
  },
  {
   "cell_type": "code",
   "execution_count": 44,
   "id": "e357a781-a781-429c-ba34-e5193391b5f1",
   "metadata": {},
   "outputs": [],
   "source": [
    "#checking logic\n",
    "fipc = '05035'\n",
    "df = slim_no2\n",
    "averages = county_benchmarks\n",
    "local_mean = averages[fipc]['mean_ppb']"
=======
    "county_mean= slim_no2.groupby(['Date Local','fips']).agg({'Arithmetic Mean':'mean'})\n",
    "county_mean.loc[('2020-01-01','01073')]"
>>>>>>> Stashed changes
   ]
  },
  {
   "cell_type": "code",
<<<<<<< Updated upstream
   "execution_count": 46,
   "id": "f10c3702-986b-4fdd-a41e-90e8068017ac",
   "metadata": {},
   "outputs": [],
   "source": [
    "delta = 5\n",
    "t1 = df[df['fips']==fipc]\n",
    "t2 = t1[t1['Arithmetic Mean']>= (averages[fipc]['mean_ppb'] + delta)]\n",
    "x = t2[['Date Local','Arithmetic Mean']].to_dict()"
   ]
  },
  {
   "cell_type": "code",
   "execution_count": 73,
   "id": "4badf797-1930-4995-b325-af537daa5eb2",
   "metadata": {},
   "outputs": [
    {
     "data": {
      "text/plain": [
       "{'Date Local': {3271: '2020-01-02',\n",
       "  3276: '2020-01-07',\n",
       "  3277: '2020-01-08',\n",
       "  3282: '2020-01-13',\n",
       "  3291: '2020-01-22',\n",
       "  3292: '2020-01-23',\n",
       "  3308: '2020-02-08',\n",
       "  3316: '2020-02-16',\n",
       "  3322: '2020-02-22',\n",
       "  3329: '2020-02-29',\n",
       "  3333: '2020-03-04',\n",
       "  3336: '2020-03-07',\n",
       "  3359: '2020-03-30',\n",
       "  3363: '2020-04-03',\n",
       "  3375: '2020-04-15',\n",
       "  3384: '2020-04-24',\n",
       "  3423: '2020-06-02',\n",
       "  3549: '2020-10-06',\n",
       "  3550: '2020-10-07',\n",
       "  3551: '2020-10-08',\n",
       "  3564: '2020-10-21',\n",
       "  3578: '2020-11-04',\n",
       "  3579: '2020-11-05',\n",
       "  3580: '2020-11-06',\n",
       "  3586: '2020-11-12',\n",
       "  3590: '2020-11-16',\n",
       "  3605: '2020-12-01',\n",
       "  3606: '2020-12-02',\n",
       "  3607: '2020-12-03',\n",
       "  3609: '2020-12-05',\n",
       "  3612: '2020-12-08',\n",
       "  3613: '2020-12-09',\n",
       "  3614: '2020-12-10',\n",
       "  3622: '2020-12-18',\n",
       "  3626: '2020-12-22'},\n",
       " 'Arithmetic Mean': {3271: 14.225,\n",
       "  3276: 16.154545,\n",
       "  3277: 13.108333,\n",
       "  3282: 12.458333,\n",
       "  3291: 15.026087,\n",
       "  3292: 12.716667,\n",
       "  3308: 14.8,\n",
       "  3316: 12.304167,\n",
       "  3322: 14.666667,\n",
       "  3329: 15.608333,\n",
       "  3333: 14.736364,\n",
       "  3336: 12.895833,\n",
       "  3359: 14.595833,\n",
       "  3363: 11.841667,\n",
       "  3375: 13.191667,\n",
       "  3384: 12.275,\n",
       "  3423: 13.291667,\n",
       "  3549: 13.404167,\n",
       "  3550: 17.754167,\n",
       "  3551: 17.1375,\n",
       "  3564: 13.370833,\n",
       "  3578: 13.845833,\n",
       "  3579: 15.154167,\n",
       "  3580: 15.716667,\n",
       "  3586: 12.134783,\n",
       "  3590: 16.979167,\n",
       "  3605: 16.15,\n",
       "  3606: 15.166667,\n",
       "  3607: 12.783333,\n",
       "  3609: 15.2,\n",
       "  3612: 19.45,\n",
       "  3613: 21.870833,\n",
       "  3614: 15.545833,\n",
       "  3622: 14.525,\n",
       "  3626: 16.529167}}"
      ]
     },
     "execution_count": 73,
     "metadata": {},
     "output_type": "execute_result"
    }
   ],
   "source": [
    "x"
   ]
  },
  {
   "cell_type": "code",
   "execution_count": 54,
   "id": "a0a87ec9-c94a-442d-a1e4-3dc858956049",
   "metadata": {},
   "outputs": [],
   "source": [
    "# xval=list(x.values())\n",
    "# xval[0]\n",
    "y = pd.DataFrame.from_dict(x)"
=======
   "execution_count": 12,
   "id": "d538af89-efa5-4bf4-810b-4100b6933a34",
   "metadata": {},
   "outputs": [
    {
     "data": {
      "text/html": [
       "<div>\n",
       "<style scoped>\n",
       "    .dataframe tbody tr th:only-of-type {\n",
       "        vertical-align: middle;\n",
       "    }\n",
       "\n",
       "    .dataframe tbody tr th {\n",
       "        vertical-align: top;\n",
       "    }\n",
       "\n",
       "    .dataframe thead th {\n",
       "        text-align: right;\n",
       "    }\n",
       "</style>\n",
       "<table border=\"1\" class=\"dataframe\">\n",
       "  <thead>\n",
       "    <tr style=\"text-align: right;\">\n",
       "      <th></th>\n",
       "      <th></th>\n",
       "      <th>Arithmetic Mean</th>\n",
       "      <th>1st Max Value</th>\n",
       "      <th>AQI</th>\n",
       "    </tr>\n",
       "    <tr>\n",
       "      <th>Date Local</th>\n",
       "      <th>fips</th>\n",
       "      <th></th>\n",
       "      <th></th>\n",
       "      <th></th>\n",
       "    </tr>\n",
       "  </thead>\n",
       "  <tbody>\n",
       "    <tr>\n",
       "      <th rowspan=\"5\" valign=\"top\">2020-01-01</th>\n",
       "      <th>01073</th>\n",
       "      <td>16.373918</td>\n",
       "      <td>31.0</td>\n",
       "      <td>29</td>\n",
       "    </tr>\n",
       "    <tr>\n",
       "      <th>04013</th>\n",
       "      <td>16.660833</td>\n",
       "      <td>34.0</td>\n",
       "      <td>32</td>\n",
       "    </tr>\n",
       "    <tr>\n",
       "      <th>04019</th>\n",
       "      <td>11.206250</td>\n",
       "      <td>23.7</td>\n",
       "      <td>22</td>\n",
       "    </tr>\n",
       "    <tr>\n",
       "      <th>05035</th>\n",
       "      <td>9.175000</td>\n",
       "      <td>23.1</td>\n",
       "      <td>22</td>\n",
       "    </tr>\n",
       "    <tr>\n",
       "      <th>05119</th>\n",
       "      <td>12.637500</td>\n",
       "      <td>28.9</td>\n",
       "      <td>26</td>\n",
       "    </tr>\n",
       "  </tbody>\n",
       "</table>\n",
       "</div>"
      ],
      "text/plain": [
       "                  Arithmetic Mean  1st Max Value  AQI\n",
       "Date Local fips                                      \n",
       "2020-01-01 01073        16.373918           31.0   29\n",
       "           04013        16.660833           34.0   32\n",
       "           04019        11.206250           23.7   22\n",
       "           05035         9.175000           23.1   22\n",
       "           05119        12.637500           28.9   26"
      ]
     },
     "execution_count": 12,
     "metadata": {},
     "output_type": "execute_result"
    }
   ],
   "source": [
    "\n",
    "squashed_no2 = avg_county_pollution(slim_no2)\n",
    "squashed_no2.head()"
   ]
  },
  {
   "cell_type": "markdown",
   "id": "5314c5a4-21f4-4eb2-ad8d-5878a27586e2",
   "metadata": {},
   "source": [
    "## Find days with significant NO2 pollution"
   ]
  },
  {
   "cell_type": "code",
   "execution_count": 13,
   "id": "e5c8d603-ca7c-4ddd-9387-51164e4cddf9",
   "metadata": {},
   "outputs": [],
   "source": [
    "# looking for deviations of at least 5 ppb from average.\n",
    "\n",
    "# reset index, then take the year's average per fips. This will be our benchmark\n",
    "dfn = squashed_no2.reset_index().groupby(['fips']).mean()\n",
    "county_means = dfn.drop(['1st Max Value'],axis=1)\n",
    "\n"
   ]
  },
  {
   "cell_type": "markdown",
   "id": "281863f5-fbe3-4adb-83c8-ac0c2b254ed2",
   "metadata": {},
   "source": [
    "### Creating dictonary of the avg ppb and AQI per county for 2020"
>>>>>>> Stashed changes
   ]
  },
  {
   "cell_type": "code",
<<<<<<< Updated upstream
   "execution_count": 55,
   "id": "448776c0-8f09-4672-81af-93ae93e2a569",
=======
   "execution_count": 14,
   "id": "0fb202f9-73ca-447c-8338-b4ae22e8b431",
   "metadata": {},
   "outputs": [],
   "source": [
    "county_means.rename(columns={'Arithmetic Mean':'mean_ppb','AQI':'mean_AQI'},inplace=True)\n",
    "county_benchmarks = county_means.to_dict('index')\n",
    "county_benchmarks['04013']['mean_ppb']"
   ]
  },
  {
   "cell_type": "markdown",
   "id": "17539ae7-f13a-4ed0-9ca4-e87a55280e53",
   "metadata": {},
   "source": [
    "# Fix the below.\n",
    "\n",
    "Need a way to ID the peak pollution days in a manner that lets me check covid data for coorelations."
   ]
  },
  {
   "cell_type": "code",
   "execution_count": 16,
   "id": "3cea955f-f93c-4424-a2ec-d73a91d743d1",
   "metadata": {
    "tags": []
   },
   "outputs": [],
   "source": [
    "def check_level(df, averages, delta=0):\n",
    "    \"\"\"Return dictonary with higher than average ppb for each fips code.\n",
    "    \n",
    "    \n",
    "    Parameters:\n",
    "    \n",
    "    df -- single full dataframe\n",
    "    \n",
    "    averages -- dict of structure fips:(mean_ppb, AQI)\n",
    "    \n",
    "    delta -- ppb difference to flag, default = 0\n",
    "    \n",
    "    The averages dictionary should have one entry per fips code, giving the average concentration for that county.\n",
    "    \n",
    "    Return:\n",
    "    peaks -- dict of structure fips:[dates]\n",
    "    \"\"\"\n",
    "    \n",
    "    targets = {}\n",
    "    for fipc in list(averages.keys()):\n",
    "        df[df['fips']==fipc]\n",
    "        peak_df = df[(df['fips']==fipc) & (df['Arithmetic Mean'] >= (averages[fipc]['mean_ppb'] + delta))]\n",
    "        targets[fipc] = peak_df[['Date Local','Arithmetic Mean']].to_dict()\n",
    "    return targets"
   ]
  },
  {
   "cell_type": "code",
   "execution_count": 327,
   "id": "74f634db-2d06-4865-bba8-336b99b17e6b",
   "metadata": {},
   "outputs": [],
   "source": [
    "to_cross_ref = check_level(slim_no2, county_benchmarks, delta=10) "
   ]
  },
  {
   "cell_type": "code",
   "execution_count": 330,
   "id": "8192646e-dd75-4399-a5df-93219486eab7",
>>>>>>> Stashed changes
   "metadata": {},
   "outputs": [
    {
     "data": {
      "text/html": [
       "<div>\n",
       "<style scoped>\n",
       "    .dataframe tbody tr th:only-of-type {\n",
       "        vertical-align: middle;\n",
       "    }\n",
       "\n",
       "    .dataframe tbody tr th {\n",
       "        vertical-align: top;\n",
       "    }\n",
       "\n",
       "    .dataframe thead th {\n",
       "        text-align: right;\n",
       "    }\n",
       "</style>\n",
       "<table border=\"1\" class=\"dataframe\">\n",
       "  <thead>\n",
       "    <tr style=\"text-align: right;\">\n",
       "      <th></th>\n",
       "      <th>Date Local</th>\n",
       "      <th>Arithmetic Mean</th>\n",
       "    </tr>\n",
       "  </thead>\n",
       "  <tbody>\n",
       "    <tr>\n",
       "      <th>3271</th>\n",
       "      <td>2020-01-02</td>\n",
       "      <td>14.225000</td>\n",
       "    </tr>\n",
       "    <tr>\n",
       "      <th>3276</th>\n",
       "      <td>2020-01-07</td>\n",
       "      <td>16.154545</td>\n",
       "    </tr>\n",
       "    <tr>\n",
       "      <th>3277</th>\n",
       "      <td>2020-01-08</td>\n",
       "      <td>13.108333</td>\n",
       "    </tr>\n",
       "    <tr>\n",
       "      <th>3282</th>\n",
       "      <td>2020-01-13</td>\n",
       "      <td>12.458333</td>\n",
       "    </tr>\n",
       "    <tr>\n",
       "      <th>3291</th>\n",
       "      <td>2020-01-22</td>\n",
       "      <td>15.026087</td>\n",
       "    </tr>\n",
       "  </tbody>\n",
       "</table>\n",
       "</div>"
      ],
      "text/plain": [
<<<<<<< Updated upstream
       "      Date Local  Arithmetic Mean\n",
       "3271  2020-01-02        14.225000\n",
       "3276  2020-01-07        16.154545\n",
       "3277  2020-01-08        13.108333\n",
       "3282  2020-01-13        12.458333\n",
       "3291  2020-01-22        15.026087"
      ]
     },
     "execution_count": 55,
=======
       "['01073',\n",
       " '04013',\n",
       " '04019',\n",
       " '05035',\n",
       " '05119',\n",
       " '06001',\n",
       " '06007',\n",
       " '06013',\n",
       " '06019',\n",
       " '06023']"
      ]
     },
     "execution_count": 330,
>>>>>>> Stashed changes
     "metadata": {},
     "output_type": "execute_result"
    }
   ],
   "source": [
<<<<<<< Updated upstream
    "y.head()"
=======
    "cref_keys = list(to_cross_ref.keys())\n",
    "cref_keys[0:10]"
>>>>>>> Stashed changes
   ]
  },
  {
   "cell_type": "code",
<<<<<<< Updated upstream
   "execution_count": 57,
   "id": "fb0e2a05-f08d-4e8b-9d0f-87a700b04097",
   "metadata": {},
   "outputs": [],
   "source": [
    "to_cross_ref = check_level(slim_no2, averages, delta=5) "
   ]
  },
  {
   "cell_type": "code",
   "execution_count": 58,
   "id": "82cf61b0-418e-4ed7-9046-88a0d2ede459",
=======
   "execution_count": 21,
   "id": "db4d71b4-2b00-4d90-8267-32d3cee49ff0",
>>>>>>> Stashed changes
   "metadata": {},
   "outputs": [
    {
     "data": {
      "text/plain": [
<<<<<<< Updated upstream
       "['06041', '06047', '06053', '06055', '06059']"
      ]
     },
     "execution_count": 58,
=======
       "<AxesSubplot:xlabel='Date Local'>"
      ]
     },
     "execution_count": 21,
>>>>>>> Stashed changes
     "metadata": {},
     "output_type": "execute_result"
    },
    {
     "data": {
      "image/png": "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\n",
      "text/plain": [
       "<Figure size 432x288 with 1 Axes>"
      ]
     },
     "metadata": {
      "needs_background": "light"
     },
     "output_type": "display_data"
    }
   ],
   "source": [
<<<<<<< Updated upstream
    "cref_keys = list(to_cross_ref.keys())\n",
    "cref_keys[15:20]\n"
   ]
  },
  {
   "cell_type": "code",
   "execution_count": 60,
   "id": "85e938c7-b37e-43af-b980-0c46f7993b25",
=======
    "slim_no2[(slim_no2['fips'] == '06047') & (slim_no2['Date Local']>'2020-07-00')&(slim_no2['Date Local']<'2020-12-00')].plot(x=\"Date Local\",y=\"Arithmetic Mean\")"
   ]
  },
  {
   "cell_type": "markdown",
   "id": "4f65303d-857e-4f34-abe8-240f022b2653",
   "metadata": {},
   "source": [
    "The peak times from the above show an increase during the fall/winter months, I would be fine comparing trends into and out of this time period"
   ]
  },
  {
   "cell_type": "markdown",
   "id": "d436a050-329f-4834-837e-be3210f1da71",
   "metadata": {},
   "source": [
    "### Now we can cross check data\n",
    "\n",
    "With the dict of list of dicts above we can take the key (fips) and the dates within to select the correct data from the covid19 repository and establish a window of effect"
   ]
  },
  {
   "cell_type": "markdown",
   "id": "cc4354ad-1c93-4037-839c-365556800f6c",
>>>>>>> Stashed changes
   "metadata": {},
   "outputs": [],
   "source": [
<<<<<<< Updated upstream
    "# Okay now I've got the dates that are above the mean.\n",
    "\n",
    "# Need to d\n",
    "y = pd.DataFrame.from_dict(to_cross_ref['06047'])\n"
=======
    "- Select fips & date from peak dates\n",
    "    - Might want to select window of days surrounding the peak\n",
    "- grab covid data for peak dates\n",
    "    - will want days leading up to and trailing the peak dates\n",
    "\n",
    "\n",
    " "
   ]
  },
  {
   "cell_type": "code",
   "execution_count": 25,
   "id": "8fc79de9-ac6a-4c47-b10b-15461c04ce48",
   "metadata": {},
   "outputs": [],
   "source": [
    "def load_covid_by_fips(fipcode):\n",
    "    df = pd.read_pickle(NOAH_WKDIR.joinpath(\"processed_data\",\"county_merged_parts\",get_county_from_fips(fipcode)+'.pkl'))\n",
    "    \n",
    "    return df\n"
   ]
  },
  {
   "cell_type": "code",
   "execution_count": 26,
   "id": "52dac22d-f89e-4a14-a0a0-9439ffeba84d",
   "metadata": {},
   "outputs": [],
   "source": [
    "clamped_covid = ['fips',\n",
    "                 'JHU_ConfirmedCases.data',\n",
    "                 'JHU_ConfirmedDeaths.data', \n",
    "                 'latestTotalPopulation',\n",
    "                 'MaleAndFemale_AtLeast65_Population.data',\n",
    "                 'Male_Total_Population.data',\n",
    "                 'Female_Total_Population.data',\n",
    "                 'MaleAndFemale_Under18_Population.data',\n",
    "                 'BLS_EmployedPopulation.data',\n",
    "                 'BLS_UnemployedPopulation.data',\n",
    "                 'BLS_UnemploymentRate.data',\n",
    "                 'BLS_LaborForcePopulation.data',\n",
    "                 'AverageWindDirection.data',\n",
    "                ]"
   ]
  },
  {
   "cell_type": "markdown",
   "id": "de06c7bc-6737-4cbc-87fb-f76c577c2b0a",
   "metadata": {},
   "source": [
    "## FIPS codes are officially 5 digit numbers\n",
    "most commonly they are preserved as strings, so will need to convert noah's to strings when using plotly\n"
>>>>>>> Stashed changes
   ]
  },
  {
   "cell_type": "code",
<<<<<<< Updated upstream
   "execution_count": 74,
   "id": "db4d71b4-2b00-4d90-8267-32d3cee49ff0",
=======
   "execution_count": 32,
   "id": "0d74f949-9dbe-4f2b-9794-fe662e880674",
>>>>>>> Stashed changes
   "metadata": {},
   "outputs": [
    {
     "data": {
      "text/plain": [
       "<AxesSubplot:xlabel='Date Local'>"
      ]
     },
     "execution_count": 74,
     "metadata": {},
     "output_type": "execute_result"
    },
    {
     "data": {
      "image/png": "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\n",
      "text/plain": [
       "<Figure size 432x288 with 1 Axes>"
      ]
     },
     "metadata": {
      "needs_background": "light"
     },
     "output_type": "display_data"
    }
   ],
   "source": [
<<<<<<< Updated upstream
    "slim_no2[(slim_no2['fips'] == '06047') & (slim_no2['Date Local']>'2020-07-00')&(slim_no2['Date Local']<'2020-12-00')].plot(x=\"Date Local\",y=\"Arithmetic Mean\")"
=======
    "to_cross_ref = check_level(slim_no2, county_benchmarks, delta=10) "
>>>>>>> Stashed changes
   ]
  },
  {
   "cell_type": "code",
<<<<<<< Updated upstream
   "execution_count": 64,
   "id": "a6b9c341-872a-49fd-bf13-639dbfe95e69",
=======
   "execution_count": 39,
   "id": "9d502225-2127-4f22-b928-2f5bd1b964e1",
   "metadata": {},
   "outputs": [
    {
     "name": "stdout",
     "output_type": "stream",
     "text": [
      "# of successes 260, # of fails 3\n"
     ]
    }
   ],
   "source": [
    "## This builds a list of all the covid counties we have pollution info for\n",
    "##\n",
    "no2_fips = list(slim_no2['fips'].unique())\n",
    "county_filepaths = []\n",
    "problem_counties = []\n",
    "for fip in no2_fips:\n",
    "    try:\n",
    "        county_name = get_county_from_fips(fip)\n",
    "    except KeyError:\n",
    "        problem_counties.append(fip)\n",
    "        pass\n",
    "        \n",
    "    county_filepaths.append(NOAH_WKDIR.joinpath(\"processed_data\",\"county_merged_parts\",county_name+\".pkl\"))\n",
    "        \n",
    "    \n",
    "print(f\"# of successes {len(county_filepaths)}, # of fails {len(problem_counties)}\") "
   ]
  },
  {
   "cell_type": "code",
   "execution_count": 186,
   "id": "aefeb9d8-4e6e-40e8-ac7b-cbd208ff7c82",
>>>>>>> Stashed changes
   "metadata": {},
   "outputs": [
    {
     "data": {
<<<<<<< Updated upstream
      "text/html": [
       "<div>\n",
       "<style scoped>\n",
       "    .dataframe tbody tr th:only-of-type {\n",
       "        vertical-align: middle;\n",
       "    }\n",
       "\n",
       "    .dataframe tbody tr th {\n",
       "        vertical-align: top;\n",
       "    }\n",
       "\n",
       "    .dataframe thead th {\n",
       "        text-align: right;\n",
       "    }\n",
       "</style>\n",
       "<table border=\"1\" class=\"dataframe\">\n",
       "  <thead>\n",
       "    <tr style=\"text-align: right;\">\n",
       "      <th></th>\n",
       "      <th>Date Local</th>\n",
       "      <th>Arithmetic Mean</th>\n",
       "    </tr>\n",
       "  </thead>\n",
       "  <tbody>\n",
       "    <tr>\n",
       "      <th>19818</th>\n",
       "      <td>2020-09-11</td>\n",
       "      <td>11.808696</td>\n",
       "    </tr>\n",
       "    <tr>\n",
       "      <th>19835</th>\n",
       "      <td>2020-09-28</td>\n",
       "      <td>12.513043</td>\n",
       "    </tr>\n",
       "    <tr>\n",
       "      <th>19838</th>\n",
       "      <td>2020-10-01</td>\n",
       "      <td>15.142857</td>\n",
       "    </tr>\n",
       "    <tr>\n",
       "      <th>19839</th>\n",
       "      <td>2020-10-02</td>\n",
       "      <td>16.726087</td>\n",
       "    </tr>\n",
       "    <tr>\n",
       "      <th>19842</th>\n",
       "      <td>2020-10-05</td>\n",
       "      <td>13.821739</td>\n",
       "    </tr>\n",
       "    <tr>\n",
       "      <th>19843</th>\n",
       "      <td>2020-10-06</td>\n",
       "      <td>12.663636</td>\n",
       "    </tr>\n",
       "    <tr>\n",
       "      <th>19849</th>\n",
       "      <td>2020-10-12</td>\n",
       "      <td>12.600000</td>\n",
       "    </tr>\n",
       "    <tr>\n",
       "      <th>19850</th>\n",
       "      <td>2020-10-13</td>\n",
       "      <td>12.130435</td>\n",
       "    </tr>\n",
       "    <tr>\n",
       "      <th>19853</th>\n",
       "      <td>2020-10-16</td>\n",
       "      <td>13.130435</td>\n",
       "    </tr>\n",
       "    <tr>\n",
       "      <th>19856</th>\n",
       "      <td>2020-10-19</td>\n",
       "      <td>12.760870</td>\n",
       "    </tr>\n",
       "    <tr>\n",
       "      <th>19857</th>\n",
       "      <td>2020-10-20</td>\n",
       "      <td>11.960870</td>\n",
       "    </tr>\n",
       "    <tr>\n",
       "      <th>19866</th>\n",
       "      <td>2020-10-29</td>\n",
       "      <td>13.921739</td>\n",
       "    </tr>\n",
       "    <tr>\n",
       "      <th>19867</th>\n",
       "      <td>2020-10-30</td>\n",
       "      <td>13.560870</td>\n",
       "    </tr>\n",
       "    <tr>\n",
       "      <th>19870</th>\n",
       "      <td>2020-11-02</td>\n",
       "      <td>12.795652</td>\n",
       "    </tr>\n",
       "    <tr>\n",
       "      <th>19871</th>\n",
       "      <td>2020-11-03</td>\n",
       "      <td>12.991304</td>\n",
       "    </tr>\n",
       "    <tr>\n",
       "      <th>19877</th>\n",
       "      <td>2020-11-09</td>\n",
       "      <td>12.021739</td>\n",
       "    </tr>\n",
       "    <tr>\n",
       "      <th>19878</th>\n",
       "      <td>2020-11-10</td>\n",
       "      <td>13.819048</td>\n",
       "    </tr>\n",
       "    <tr>\n",
       "      <th>19879</th>\n",
       "      <td>2020-11-11</td>\n",
       "      <td>13.891304</td>\n",
       "    </tr>\n",
       "    <tr>\n",
       "      <th>19880</th>\n",
       "      <td>2020-11-12</td>\n",
       "      <td>13.804348</td>\n",
       "    </tr>\n",
       "    <tr>\n",
       "      <th>19885</th>\n",
       "      <td>2020-11-17</td>\n",
       "      <td>13.713043</td>\n",
       "    </tr>\n",
       "    <tr>\n",
       "      <th>19891</th>\n",
       "      <td>2020-11-23</td>\n",
       "      <td>11.986957</td>\n",
       "    </tr>\n",
       "    <tr>\n",
       "      <th>19892</th>\n",
       "      <td>2020-11-24</td>\n",
       "      <td>12.582609</td>\n",
       "    </tr>\n",
       "    <tr>\n",
       "      <th>19896</th>\n",
       "      <td>2020-11-28</td>\n",
       "      <td>13.004545</td>\n",
       "    </tr>\n",
       "    <tr>\n",
       "      <th>19897</th>\n",
       "      <td>2020-11-29</td>\n",
       "      <td>12.643478</td>\n",
       "    </tr>\n",
       "    <tr>\n",
       "      <th>19898</th>\n",
       "      <td>2020-11-30</td>\n",
       "      <td>14.973913</td>\n",
       "    </tr>\n",
       "    <tr>\n",
       "      <th>19899</th>\n",
       "      <td>2020-12-01</td>\n",
       "      <td>14.365217</td>\n",
       "    </tr>\n",
       "    <tr>\n",
       "      <th>19900</th>\n",
       "      <td>2020-12-02</td>\n",
       "      <td>16.169565</td>\n",
       "    </tr>\n",
       "    <tr>\n",
       "      <th>19901</th>\n",
       "      <td>2020-12-03</td>\n",
       "      <td>14.647826</td>\n",
       "    </tr>\n",
       "    <tr>\n",
       "      <th>19902</th>\n",
       "      <td>2020-12-04</td>\n",
       "      <td>17.356522</td>\n",
       "    </tr>\n",
       "    <tr>\n",
       "      <th>19903</th>\n",
       "      <td>2020-12-05</td>\n",
       "      <td>14.654545</td>\n",
       "    </tr>\n",
       "    <tr>\n",
       "      <th>19904</th>\n",
       "      <td>2020-12-06</td>\n",
       "      <td>14.521739</td>\n",
       "    </tr>\n",
       "    <tr>\n",
       "      <th>19905</th>\n",
       "      <td>2020-12-07</td>\n",
       "      <td>13.313043</td>\n",
       "    </tr>\n",
       "    <tr>\n",
       "      <th>19906</th>\n",
       "      <td>2020-12-08</td>\n",
       "      <td>14.252174</td>\n",
       "    </tr>\n",
       "    <tr>\n",
       "      <th>19907</th>\n",
       "      <td>2020-12-09</td>\n",
       "      <td>18.085714</td>\n",
       "    </tr>\n",
       "    <tr>\n",
       "      <th>19908</th>\n",
       "      <td>2020-12-10</td>\n",
       "      <td>14.734783</td>\n",
       "    </tr>\n",
       "    <tr>\n",
       "      <th>19909</th>\n",
       "      <td>2020-12-11</td>\n",
       "      <td>13.152174</td>\n",
       "    </tr>\n",
       "  </tbody>\n",
       "</table>\n",
       "</div>"
      ],
      "text/plain": [
       "       Date Local  Arithmetic Mean\n",
       "19818  2020-09-11        11.808696\n",
       "19835  2020-09-28        12.513043\n",
       "19838  2020-10-01        15.142857\n",
       "19839  2020-10-02        16.726087\n",
       "19842  2020-10-05        13.821739\n",
       "19843  2020-10-06        12.663636\n",
       "19849  2020-10-12        12.600000\n",
       "19850  2020-10-13        12.130435\n",
       "19853  2020-10-16        13.130435\n",
       "19856  2020-10-19        12.760870\n",
       "19857  2020-10-20        11.960870\n",
       "19866  2020-10-29        13.921739\n",
       "19867  2020-10-30        13.560870\n",
       "19870  2020-11-02        12.795652\n",
       "19871  2020-11-03        12.991304\n",
       "19877  2020-11-09        12.021739\n",
       "19878  2020-11-10        13.819048\n",
       "19879  2020-11-11        13.891304\n",
       "19880  2020-11-12        13.804348\n",
       "19885  2020-11-17        13.713043\n",
       "19891  2020-11-23        11.986957\n",
       "19892  2020-11-24        12.582609\n",
       "19896  2020-11-28        13.004545\n",
       "19897  2020-11-29        12.643478\n",
       "19898  2020-11-30        14.973913\n",
       "19899  2020-12-01        14.365217\n",
       "19900  2020-12-02        16.169565\n",
       "19901  2020-12-03        14.647826\n",
       "19902  2020-12-04        17.356522\n",
       "19903  2020-12-05        14.654545\n",
       "19904  2020-12-06        14.521739\n",
       "19905  2020-12-07        13.313043\n",
       "19906  2020-12-08        14.252174\n",
       "19907  2020-12-09        18.085714\n",
       "19908  2020-12-10        14.734783\n",
       "19909  2020-12-11        13.152174"
      ]
     },
     "execution_count": 64,
=======
      "text/plain": [
       "['12086', '72025', '72061']"
      ]
     },
     "execution_count": 186,
>>>>>>> Stashed changes
     "metadata": {},
     "output_type": "execute_result"
    }
   ],
   "source": [
<<<<<<< Updated upstream
    "# y is for the FIPS 06047\n",
    "y"
   ]
  },
  {
   "cell_type": "markdown",
   "id": "4f65303d-857e-4f34-abe8-240f022b2653",
   "metadata": {},
   "source": [
    "The peak times from the above show an increase during the fall/winter months, I would be fine comparing trends into and out of this time period"
   ]
  },
  {
   "cell_type": "markdown",
   "id": "d436a050-329f-4834-837e-be3210f1da71",
   "metadata": {},
   "source": [
    "### Now we can cross check data\n",
    "\n",
    "With the dict of list of dicts above we can take the key (fips) and the dates within to select the correct data from the covid19 repository and establish a window of effect"
   ]
  },
  {
   "cell_type": "markdown",
   "id": "cc4354ad-1c93-4037-839c-365556800f6c",
   "metadata": {},
   "source": [
    "- Select fips & date from peak dates\n",
    "    - Might want to select window of days surrounding the peak\n",
    "- grab covid data for peak dates\n",
    "    - will want days leading up to and trailing the peak dates\n",
    "\n",
    "\n",
    " "
=======
    "problem_counties"
   ]
  },
  {
   "cell_type": "code",
   "execution_count": 329,
   "id": "8bd90949-8f84-4c67-bc58-058675953be3",
   "metadata": {},
   "outputs": [
    {
     "data": {
      "text/plain": [
       "['01073',\n",
       " '04013',\n",
       " '04019',\n",
       " '05035',\n",
       " '05119',\n",
       " '06001',\n",
       " '06007',\n",
       " '06013',\n",
       " '06019',\n",
       " '06023']"
      ]
     },
     "execution_count": 329,
     "metadata": {},
     "output_type": "execute_result"
    }
   ],
   "source": [
    "list(to_cross_ref.keys())[:10]"
>>>>>>> Stashed changes
   ]
  },
  {
   "cell_type": "code",
<<<<<<< Updated upstream
   "execution_count": 76,
   "id": "c10f4b66-df0b-4633-b34e-d822a6e27cc9",
=======
   "execution_count": 247,
   "id": "2aaf4a6e-fb0a-4f5f-9816-cab866fb834a",
   "metadata": {},
   "outputs": [],
   "source": [
    "clamped_covid = ['fips','JHU_ConfirmedCases.data','JHU_ConfirmedDeaths.data', \n",
    "                 'latestTotalPopulation','MaleAndFemale_AtLeast65_Population.data',\n",
    "                 'Male_Total_Population.data','Female_Total_Population.data',\n",
    "                 'MaleAndFemale_Under18_Population.data','BLS_EmployedPopulation.data',\n",
    "                 'BLS_UnemployedPopulation.data','BLS_UnemploymentRate.data',\n",
    "                 'BLS_LaborForcePopulation.data','AverageWindDirection.data',\n",
    "                ]\n",
    "def covid_load(cross_ref_dict, subset=None):\n",
    "    if subset ==None:\n",
    "        t_fips = list(cross_ref_dict.keys())\n",
    "    else:\n",
    "        t_fips = list(cross_ref_dict.keys())[:subset]\n",
    "    dflist, get_county_fails, cant_load = load_all_covid_fips(t_fips, clamped_covid)\n",
    "    # df = clean_and_merge(dflist)\n",
    "    # df = rolling_cases(df, window_size=7)\n",
    "    return dflist, get_county_fails, cant_load\n",
    "\n",
    "def stringify_fips(row):\n",
    "    ''' Convert the INTeger representation of fips to a string with leading zeros.\n",
    "            intended to be used in a lamda function.\n",
    "            \n",
    "    Arguments:\n",
    "    \n",
    "    row - a single row of a dataframe. Intended to be used like \"df4.apply(lambda row: stringify_fips(row), axis=1)\"\n",
    "    \n",
    "    '''\n",
    "    strFips = str(row['fips']).zfill(5)\n",
    "    return strFips\n",
    "\n",
    "def load_all_covid_fips(t_fips, columns=None):\n",
    "    dflist = []\n",
    "    problem_counties = []\n",
    "    cant_load = []\n",
    "    for fip in t_fips:\n",
    "        try:\n",
    "            county_name = get_county_from_fips(fip)\n",
    "        except KeyError:\n",
    "            problem_counties.append(fip)\n",
    "            pass\n",
    "        try:\n",
    "            tempdf = pd.read_pickle(NOAH_WKDIR.joinpath(\"processed_data\",\"county_merged_parts\",county_name+\".pkl\"))\n",
    "        except FileNotFoundError:\n",
    "            cant_load.append(fip)\n",
    "            pass\n",
    "        if columns != None:\n",
    "            tempdf = tempdf[columns]\n",
    "        if tempdf['fips'].isna().sum() > 0:\n",
    "            tempdf['fips'] = fip\n",
    "        else:\n",
    "            try:\n",
    "                dflist.append(tempdf.astype({\"fips\":\"int\"}).astype({\"fips\":\"string\"}))\n",
    "            except Exception as E:\n",
    "                print(f\"Error for fip {fip}\")\n",
    "                raise\n",
    "    return dflist, problem_counties, cant_load\n",
    "\n",
    "def clean_and_merge(dflist):\n",
    "    parent_df = None\n",
    "    for idx, df in enumerate(dflist):\n",
    "        df['fips']=df.apply(lambda row: stringify_fips(row), axis=1)\n",
    "        dflist[idx] = df\n",
    "    # all now have correct fips code format\n",
    "    parent_df = pd.concat(dflist)\n",
    "    return parent_df\n",
    "\n",
    "\n",
    "def rolling_cases(df, window_size=7):\n",
    "    df['1wkroll'] = df['JHU_ConfirmedCases.data'].rolling(window=window_size).mean()\n",
    "    df.reset_index(inplace=True)\n",
    "    df.set_index(\"dates\",inplace = True)\n",
    "    return df"
   ]
  },
  {
   "cell_type": "code",
   "execution_count": 306,
   "id": "99604c27-0b8e-4fba-bbda-51071d52307c",
   "metadata": {},
   "outputs": [
    {
     "name": "stdout",
     "output_type": "stream",
     "text": [
      "list length = 247, cant_load = ['24033', '51650', '51710'], fips not found = ['12086', '72025', '72061']\n"
     ]
    }
   ],
   "source": [
    "# df4['1wkroll'] = df4.groupby('fips')['JHU_ConfirmedCases.data'].rolling(window=7).mean().reset_index(0,drop=True)\n",
    "# df4.set_index(\"dates\",inplace=True)\n",
    "\n",
    "# t_fips = list(cross_ref_dict.keys())\n",
    "\n",
    "biglist,get_county_fails, cant_load = covid_load(to_cross_ref)\n",
    "print(f\"list length = {len(biglist)}, cant_load = {cant_load}, fips not found = {get_county_fails}\")"
   ]
  },
  {
   "cell_type": "code",
   "execution_count": 307,
   "id": "a9ab9a5c-c046-4893-8d1f-5762a20be166",
   "metadata": {
    "tags": []
   },
   "outputs": [
    {
     "name": "stdout",
     "output_type": "stream",
     "text": [
      "done\n"
     ]
    }
   ],
   "source": [
    "\n",
    "for idx, df in enumerate(biglist):\n",
    "    if idx != 0:\n",
    "        df['fips'] = df.apply(lambda row: stringify_fips(row), axis=1)\n",
    "        biglist[idx] = df\n",
    "print('done')\n",
    "    "
   ]
  },
  {
   "cell_type": "code",
   "execution_count": 308,
   "id": "523b3eb5-b1a8-46dc-9702-33e691250e9b",
   "metadata": {},
   "outputs": [],
   "source": [
    "for idx, df in enumerate(biglist):\n",
    "    biglist[idx]['1wkroll']= df['JHU_ConfirmedCases.data'].rolling(window=7).mean()"
   ]
  },
  {
   "cell_type": "code",
   "execution_count": 313,
   "id": "a181c4a2-9ede-48bf-9edf-51de00734f6b",
   "metadata": {},
   "outputs": [],
   "source": [
    "dfdict = {}\n",
    "for i in biglist:\n",
    "    k=i.iloc[0]['fips']\n",
    "    dfdict[k] = i"
   ]
  },
  {
   "cell_type": "code",
   "execution_count": 332,
   "id": "1ac5c65d-4ec2-4695-a73f-e4b0e05e7898",
   "metadata": {},
   "outputs": [],
   "source": [
    "last = load_covid_by_fips('01073')"
   ]
  },
  {
   "cell_type": "code",
   "execution_count": 334,
   "id": "1f4dba25-c6aa-4d64-95f3-33b19f87a66e",
   "metadata": {},
   "outputs": [
    {
     "data": {
      "text/plain": [
       "Index(['2020-01-01', '2020-01-02', '2020-01-03', '2020-01-04', '2020-01-05', '2020-01-06', '2020-01-07', '2020-01-08', '2020-01-09', '2020-01-10',\n",
       "       ...\n",
       "       '2021-10-06', '2021-10-07', '2021-10-08', '2021-10-09', '2021-10-10', '2021-10-11', '2021-10-12', '2021-10-13', '2021-10-14', '2021-10-15'], dtype='object', name='dates', length=654)"
      ]
     },
     "execution_count": 334,
     "metadata": {},
     "output_type": "execute_result"
    }
   ],
   "source": [
    "last.index"
   ]
  },
  {
   "cell_type": "code",
   "execution_count": 289,
   "id": "5efa08cb-df3b-41ae-95c5-c38eedcd0798",
   "metadata": {},
   "outputs": [],
   "source": [
    "maindf = pd.concat( biglist)"
   ]
  },
  {
   "cell_type": "code",
   "execution_count": 290,
   "id": "1db2d2f9-0004-4f5d-8493-71db3f1ebd3d",
   "metadata": {
    "tags": []
   },
   "outputs": [],
   "source": [
    "# maindf['wk1rolling'] = maindf.groupby('fips')\n",
    "# ['JHU_ConfirmedCases.data'].rolling(window=7).mean()\n",
    "# .reset_index(0,drop=True)\n",
    "maindf.reset_index(inplace=True)"
   ]
  },
  {
   "cell_type": "code",
   "execution_count": 292,
   "id": "73456554-4142-43aa-b135-cb8ccee8ac27",
   "metadata": {},
   "outputs": [],
   "source": [
    "# maindf.set_index(['dates','fips'])\n",
    "grouped = maindf.groupby(['fips'])['JHU_ConfirmedCases.data'].rolling(window=7).mean()"
   ]
  },
  {
   "cell_type": "markdown",
   "id": "826ede36-7a19-4e23-8f34-94e110faa5bc",
   "metadata": {},
   "source": [
    "# multi index is being a pain\n",
    "\n",
    "All data frames are in the `dfdict` object who's keys are the fips codes of interest. Still need a function to grab the time window needed. "
   ]
  },
  {
   "cell_type": "code",
   "execution_count": 315,
   "id": "35ed6c1e-9e30-434d-9733-0c8671ab3f47",
>>>>>>> Stashed changes
   "metadata": {},
   "outputs": [
    {
     "data": {
      "text/plain": [
<<<<<<< Updated upstream
       "dict_keys(['type', 'features'])"
      ]
     },
     "execution_count": 76,
=======
       "['01073',\n",
       " '04013',\n",
       " '04019',\n",
       " '05035',\n",
       " '05119',\n",
       " '06001',\n",
       " '06007',\n",
       " '06013',\n",
       " '06019',\n",
       " '06023']"
      ]
     },
     "execution_count": 315,
     "metadata": {},
     "output_type": "execute_result"
    }
   ],
   "source": [
    "list(to_cross_ref.keys())[0:10]"
   ]
  },
  {
   "cell_type": "code",
   "execution_count": 325,
   "id": "e03cb752-8977-45e6-92d0-fd906118e158",
   "metadata": {},
   "outputs": [],
   "source": [
    "test_days = to_cross_ref['04013']"
   ]
  },
  {
   "cell_type": "code",
   "execution_count": 322,
   "id": "0f2d6550-df28-451a-a908-ac9d1202a4d3",
   "metadata": {},
   "outputs": [],
   "source": [
    "aldf = dfdict['04013']"
   ]
  },
  {
   "cell_type": "code",
   "execution_count": 326,
   "id": "99a7b0d2-2c18-409b-ba6b-150026805e4b",
   "metadata": {},
   "outputs": [
    {
     "data": {
      "text/plain": [
       "{'Date Local': {740: '2020-01-15',\n",
       "  998: '2020-09-29',\n",
       "  1012: '2020-10-13',\n",
       "  1013: '2020-10-21',\n",
       "  1023: '2020-10-31',\n",
       "  1026: '2020-11-03',\n",
       "  1035: '2020-11-12',\n",
       "  1036: '2020-11-13',\n",
       "  1037: '2020-11-14',\n",
       "  1038: '2020-11-15',\n",
       "  1039: '2020-11-16',\n",
       "  1041: '2020-11-18',\n",
       "  1057: '2020-12-04',\n",
       "  1070: '2020-12-17',\n",
       "  1074: '2020-12-21',\n",
       "  1087: '2020-01-03',\n",
       "  1088: '2020-01-04',\n",
       "  1090: '2020-01-06',\n",
       "  1091: '2020-01-07',\n",
       "  1092: '2020-01-08',\n",
       "  1098: '2020-01-14',\n",
       "  1099: '2020-01-15',\n",
       "  1102: '2020-01-18',\n",
       "  1103: '2020-01-19',\n",
       "  1108: '2020-01-24',\n",
       "  1112: '2020-01-28',\n",
       "  1114: '2020-02-07',\n",
       "  1124: '2020-02-17',\n",
       "  1125: '2020-02-18',\n",
       "  1126: '2020-02-19',\n",
       "  1127: '2020-02-20',\n",
       "  1134: '2020-02-27',\n",
       "  1135: '2020-02-28',\n",
       "  1331: '2020-09-11',\n",
       "  1350: '2020-09-30',\n",
       "  1351: '2020-10-01',\n",
       "  1357: '2020-10-07',\n",
       "  1363: '2020-10-13',\n",
       "  1366: '2020-10-16',\n",
       "  1370: '2020-10-20',\n",
       "  1371: '2020-10-21',\n",
       "  1380: '2020-10-30',\n",
       "  1381: '2020-10-31',\n",
       "  1384: '2020-11-03',\n",
       "  1385: '2020-11-04',\n",
       "  1387: '2020-11-06',\n",
       "  1393: '2020-11-12',\n",
       "  1394: '2020-11-13',\n",
       "  1396: '2020-11-15',\n",
       "  1397: '2020-11-16',\n",
       "  1398: '2020-11-17',\n",
       "  1399: '2020-11-18',\n",
       "  1400: '2020-11-19',\n",
       "  1401: '2020-11-20',\n",
       "  1402: '2020-11-21',\n",
       "  1412: '2020-12-01',\n",
       "  1415: '2020-12-04',\n",
       "  1416: '2020-12-05',\n",
       "  1420: '2020-12-09',\n",
       "  1427: '2020-12-16',\n",
       "  1428: '2020-12-17',\n",
       "  1429: '2020-12-18',\n",
       "  1430: '2020-12-19',\n",
       "  1431: '2020-12-20',\n",
       "  1432: '2020-12-21',\n",
       "  1433: '2020-12-22',\n",
       "  1809: '2020-01-03',\n",
       "  1810: '2020-01-04',\n",
       "  1812: '2020-01-06',\n",
       "  1813: '2020-01-07',\n",
       "  1814: '2020-01-08',\n",
       "  1819: '2020-01-13',\n",
       "  1820: '2020-01-14',\n",
       "  1821: '2020-01-15',\n",
       "  1822: '2020-01-16',\n",
       "  1824: '2020-01-18',\n",
       "  1825: '2020-01-19',\n",
       "  1826: '2020-01-20',\n",
       "  1829: '2020-01-23',\n",
       "  1830: '2020-01-24',\n",
       "  1831: '2020-01-25',\n",
       "  1832: '2020-01-26',\n",
       "  1833: '2020-01-27',\n",
       "  1834: '2020-01-28',\n",
       "  1835: '2020-01-29',\n",
       "  1836: '2020-01-30',\n",
       "  1837: '2020-01-31',\n",
       "  1838: '2020-02-01',\n",
       "  1839: '2020-02-02',\n",
       "  1842: '2020-02-05',\n",
       "  1843: '2020-02-06',\n",
       "  1844: '2020-02-07',\n",
       "  1845: '2020-02-08',\n",
       "  1850: '2020-02-13',\n",
       "  1851: '2020-02-14',\n",
       "  1852: '2020-02-15',\n",
       "  1853: '2020-02-16',\n",
       "  1854: '2020-02-17',\n",
       "  1855: '2020-02-18',\n",
       "  1856: '2020-02-19',\n",
       "  1857: '2020-02-20',\n",
       "  1858: '2020-02-21',\n",
       "  1863: '2020-02-26',\n",
       "  1864: '2020-02-27',\n",
       "  1865: '2020-02-28',\n",
       "  1870: '2020-03-04',\n",
       "  1871: '2020-03-05',\n",
       "  1872: '2020-03-06',\n",
       "  1886: '2020-03-20',\n",
       "  1891: '2020-03-25',\n",
       "  1896: '2020-03-30',\n",
       "  1897: '2020-03-31',\n",
       "  1898: '2020-04-01',\n",
       "  1900: '2020-04-03',\n",
       "  1912: '2020-04-15',\n",
       "  1913: '2020-04-16',\n",
       "  1919: '2020-04-22',\n",
       "  1920: '2020-04-23',\n",
       "  1921: '2020-04-24',\n",
       "  1924: '2020-04-27',\n",
       "  1925: '2020-04-28',\n",
       "  1926: '2020-04-29',\n",
       "  1927: '2020-04-30',\n",
       "  1928: '2020-05-01',\n",
       "  1931: '2020-05-04',\n",
       "  1932: '2020-05-05',\n",
       "  1933: '2020-05-06',\n",
       "  1934: '2020-05-07',\n",
       "  1935: '2020-05-08',\n",
       "  1942: '2020-05-15',\n",
       "  1947: '2020-05-20',\n",
       "  1948: '2020-05-21',\n",
       "  1949: '2020-05-22',\n",
       "  1953: '2020-05-26',\n",
       "  1954: '2020-05-27',\n",
       "  1956: '2020-05-29',\n",
       "  1962: '2020-06-04',\n",
       "  1967: '2020-06-09',\n",
       "  1968: '2020-06-10',\n",
       "  1969: '2020-06-11',\n",
       "  1982: '2020-06-24',\n",
       "  1983: '2020-06-25',\n",
       "  2008: '2020-07-20',\n",
       "  2025: '2020-08-06',\n",
       "  2029: '2020-08-10',\n",
       "  2043: '2020-08-24',\n",
       "  2044: '2020-08-25',\n",
       "  2045: '2020-08-26',\n",
       "  2054: '2020-09-04',\n",
       "  2060: '2020-09-10',\n",
       "  2061: '2020-09-11',\n",
       "  2062: '2020-09-12',\n",
       "  2063: '2020-09-13',\n",
       "  2064: '2020-09-14',\n",
       "  2065: '2020-09-15',\n",
       "  2066: '2020-09-16',\n",
       "  2067: '2020-09-17',\n",
       "  2068: '2020-09-18',\n",
       "  2070: '2020-09-20',\n",
       "  2071: '2020-09-21',\n",
       "  2072: '2020-09-22',\n",
       "  2075: '2020-09-25',\n",
       "  2078: '2020-09-28',\n",
       "  2079: '2020-09-29',\n",
       "  2080: '2020-09-30',\n",
       "  2081: '2020-10-01',\n",
       "  2082: '2020-10-02',\n",
       "  2083: '2020-10-03',\n",
       "  2085: '2020-10-05',\n",
       "  2086: '2020-10-06',\n",
       "  2087: '2020-10-07',\n",
       "  2088: '2020-10-08',\n",
       "  2089: '2020-10-09',\n",
       "  2090: '2020-10-10',\n",
       "  2092: '2020-10-12',\n",
       "  2093: '2020-10-13',\n",
       "  2094: '2020-10-14',\n",
       "  2095: '2020-10-15',\n",
       "  2096: '2020-10-16',\n",
       "  2097: '2020-10-17',\n",
       "  2098: '2020-10-18',\n",
       "  2099: '2020-10-19',\n",
       "  2100: '2020-10-20',\n",
       "  2101: '2020-10-21',\n",
       "  2102: '2020-10-22',\n",
       "  2103: '2020-10-23',\n",
       "  2108: '2020-10-28',\n",
       "  2109: '2020-10-29',\n",
       "  2110: '2020-10-30',\n",
       "  2111: '2020-10-31',\n",
       "  2112: '2020-11-01',\n",
       "  2113: '2020-11-02',\n",
       "  2114: '2020-11-03',\n",
       "  2115: '2020-11-04',\n",
       "  2116: '2020-11-05',\n",
       "  2117: '2020-11-06',\n",
       "  2121: '2020-11-10',\n",
       "  2122: '2020-11-11',\n",
       "  2123: '2020-11-12',\n",
       "  2124: '2020-11-13',\n",
       "  2125: '2020-11-14',\n",
       "  2126: '2020-11-15',\n",
       "  2127: '2020-11-16',\n",
       "  2128: '2020-11-17',\n",
       "  2129: '2020-11-18',\n",
       "  2130: '2020-11-19',\n",
       "  2131: '2020-11-20',\n",
       "  2132: '2020-11-21',\n",
       "  2133: '2020-11-22',\n",
       "  2134: '2020-11-23',\n",
       "  2135: '2020-11-24',\n",
       "  2136: '2020-11-25',\n",
       "  2138: '2020-11-27',\n",
       "  2139: '2020-11-28',\n",
       "  2140: '2020-11-29',\n",
       "  2141: '2020-11-30',\n",
       "  2142: '2020-12-01',\n",
       "  2143: '2020-12-02',\n",
       "  2144: '2020-12-03',\n",
       "  2145: '2020-12-04',\n",
       "  2146: '2020-12-05',\n",
       "  2147: '2020-12-06',\n",
       "  2148: '2020-12-07',\n",
       "  2149: '2020-12-08',\n",
       "  2150: '2020-12-09',\n",
       "  2155: '2020-12-14',\n",
       "  2156: '2020-12-15',\n",
       "  2157: '2020-12-16',\n",
       "  2158: '2020-12-17',\n",
       "  2159: '2020-12-18',\n",
       "  2160: '2020-12-19',\n",
       "  2161: '2020-12-20',\n",
       "  2162: '2020-12-21',\n",
       "  2163: '2020-12-22',\n",
       "  2164: '2020-12-23',\n",
       "  2165: '2020-12-24',\n",
       "  2166: '2020-12-25',\n",
       "  2167: '2020-12-26',\n",
       "  2168: '2020-12-27',\n",
       "  2169: '2020-12-28',\n",
       "  2170: '2020-12-29',\n",
       "  2171: '2020-12-30',\n",
       "  2172: '2020-12-31',\n",
       "  2175: '2020-01-03',\n",
       "  2186: '2020-01-14',\n",
       "  2187: '2020-01-15',\n",
       "  2203: '2020-01-31',\n",
       "  2477: '2020-10-31',\n",
       "  2490: '2020-11-13',\n",
       "  2492: '2020-11-15',\n",
       "  2493: '2020-11-16',\n",
       "  2511: '2020-12-04',\n",
       "  2523: '2020-12-16',\n",
       "  2524: '2020-12-17',\n",
       "  2525: '2020-12-18',\n",
       "  2528: '2020-12-21'},\n",
       " 'Arithmetic Mean': {740: 25.916667,\n",
       "  998: 26.368421,\n",
       "  1012: 31.0,\n",
       "  1013: 28.181818,\n",
       "  1023: 27.875,\n",
       "  1026: 27.208333,\n",
       "  1035: 26.0,\n",
       "  1036: 27.416667,\n",
       "  1037: 27.791667,\n",
       "  1038: 26.291667,\n",
       "  1039: 25.958333,\n",
       "  1041: 27.0,\n",
       "  1057: 26.708333,\n",
       "  1070: 26.375,\n",
       "  1074: 26.875,\n",
       "  1087: 25.541667,\n",
       "  1088: 25.291667,\n",
       "  1090: 27.666667,\n",
       "  1091: 28.608696,\n",
       "  1092: 26.791667,\n",
       "  1098: 27.458333,\n",
       "  1099: 31.875,\n",
       "  1102: 28.333333,\n",
       "  1103: 27.208333,\n",
       "  1108: 27.0,\n",
       "  1112: 28.833333,\n",
       "  1114: 25.333333,\n",
       "  1124: 25.416667,\n",
       "  1125: 26.047619,\n",
       "  1126: 27.894737,\n",
       "  1127: 27.875,\n",
       "  1134: 25.458333,\n",
       "  1135: 26.125,\n",
       "  1331: 25.666667,\n",
       "  1350: 25.625,\n",
       "  1351: 25.863636,\n",
       "  1357: 28.227273,\n",
       "  1363: 26.090909,\n",
       "  1366: 26.708333,\n",
       "  1370: 27.166667,\n",
       "  1371: 28.409091,\n",
       "  1380: 27.166667,\n",
       "  1381: 29.0,\n",
       "  1384: 29.583333,\n",
       "  1385: 30.727273,\n",
       "  1387: 25.416667,\n",
       "  1393: 26.375,\n",
       "  1394: 28.75,\n",
       "  1396: 28.791667,\n",
       "  1397: 30.333333,\n",
       "  1398: 28.958333,\n",
       "  1399: 27.565217,\n",
       "  1400: 25.25,\n",
       "  1401: 29.166667,\n",
       "  1402: 26.708333,\n",
       "  1412: 25.25,\n",
       "  1415: 28.666667,\n",
       "  1416: 26.5,\n",
       "  1420: 27.142857,\n",
       "  1427: 29.428571,\n",
       "  1428: 29.0,\n",
       "  1429: 29.875,\n",
       "  1430: 26.125,\n",
       "  1431: 26.083333,\n",
       "  1432: 36.208333,\n",
       "  1433: 27.26087,\n",
       "  1809: 27.625,\n",
       "  1810: 28.333333,\n",
       "  1812: 28.666667,\n",
       "  1813: 32.166667,\n",
       "  1814: 29.416667,\n",
       "  1819: 32.0,\n",
       "  1820: 35.208333,\n",
       "  1821: 38.666667,\n",
       "  1822: 27.791667,\n",
       "  1824: 29.375,\n",
       "  1825: 28.791667,\n",
       "  1826: 31.541667,\n",
       "  1829: 27.625,\n",
       "  1830: 33.916667,\n",
       "  1831: 26.625,\n",
       "  1832: 25.25,\n",
       "  1833: 27.818182,\n",
       "  1834: 32.583333,\n",
       "  1835: 32.541667,\n",
       "  1836: 28.25,\n",
       "  1837: 34.833333,\n",
       "  1838: 31.541667,\n",
       "  1839: 26.583333,\n",
       "  1842: 27.380952,\n",
       "  1843: 29.375,\n",
       "  1844: 33.0,\n",
       "  1845: 31.125,\n",
       "  1850: 30.958333,\n",
       "  1851: 28.75,\n",
       "  1852: 26.625,\n",
       "  1853: 26.166667,\n",
       "  1854: 32.958333,\n",
       "  1855: 39.291667,\n",
       "  1856: 34.363636,\n",
       "  1857: 37.833333,\n",
       "  1858: 26.833333,\n",
       "  1863: 29.0,\n",
       "  1864: 34.5,\n",
       "  1865: 36.583333,\n",
       "  1870: 26.083333,\n",
       "  1871: 27.958333,\n",
       "  1872: 27.916667,\n",
       "  1886: 29.458333,\n",
       "  1891: 33.125,\n",
       "  1896: 25.916667,\n",
       "  1897: 29.809524,\n",
       "  1898: 25.416667,\n",
       "  1900: 25.75,\n",
       "  1912: 27.181818,\n",
       "  1913: 31.583333,\n",
       "  1919: 25.5,\n",
       "  1920: 26.5,\n",
       "  1921: 28.333333,\n",
       "  1924: 26.666667,\n",
       "  1925: 32.083333,\n",
       "  1926: 32.863636,\n",
       "  1927: 31.75,\n",
       "  1928: 25.75,\n",
       "  1931: 30.347826,\n",
       "  1932: 33.541667,\n",
       "  1933: 35.125,\n",
       "  1934: 34.625,\n",
       "  1935: 28.208333,\n",
       "  1942: 26.416667,\n",
       "  1947: 25.625,\n",
       "  1948: 33.041667,\n",
       "  1949: 29.416667,\n",
       "  1953: 32.833333,\n",
       "  1954: 29.227273,\n",
       "  1956: 27.666667,\n",
       "  1962: 27.291667,\n",
       "  1967: 26.583333,\n",
       "  1968: 32.708333,\n",
       "  1969: 33.333333,\n",
       "  1982: 26.368421,\n",
       "  1983: 27.75,\n",
       "  2008: 26.333333,\n",
       "  2025: 28.833333,\n",
       "  2029: 26.047619,\n",
       "  2043: 31.666667,\n",
       "  2044: 30.26087,\n",
       "  2045: 27.166667,\n",
       "  2054: 29.083333,\n",
       "  2060: 30.875,\n",
       "  2061: 32.083333,\n",
       "  2062: 26.791667,\n",
       "  2063: 27.083333,\n",
       "  2064: 28.125,\n",
       "  2065: 29.541667,\n",
       "  2066: 32.954545,\n",
       "  2067: 38.458333,\n",
       "  2068: 29.583333,\n",
       "  2070: 30.333333,\n",
       "  2071: 30.090909,\n",
       "  2072: 29.416667,\n",
       "  2075: 30.833333,\n",
       "  2078: 30.583333,\n",
       "  2079: 29.583333,\n",
       "  2080: 34.541667,\n",
       "  2081: 34.636364,\n",
       "  2082: 30.791667,\n",
       "  2083: 26.416667,\n",
       "  2085: 36.136364,\n",
       "  2086: 38.291667,\n",
       "  2087: 40.916667,\n",
       "  2088: 36.041667,\n",
       "  2089: 27.791667,\n",
       "  2090: 26.958333,\n",
       "  2092: 34.208333,\n",
       "  2093: 38.904762,\n",
       "  2094: 31.875,\n",
       "  2095: 32.708333,\n",
       "  2096: 37.041667,\n",
       "  2097: 27.208333,\n",
       "  2098: 28.958333,\n",
       "  2099: 34.652174,\n",
       "  2100: 36.25,\n",
       "  2101: 41.291667,\n",
       "  2102: 36.583333,\n",
       "  2103: 27.416667,\n",
       "  2108: 28.318182,\n",
       "  2109: 33.833333,\n",
       "  2110: 36.416667,\n",
       "  2111: 38.625,\n",
       "  2112: 30.041667,\n",
       "  2113: 35.958333,\n",
       "  2114: 44.913043,\n",
       "  2115: 38.916667,\n",
       "  2116: 36.541667,\n",
       "  2117: 29.958333,\n",
       "  2121: 28.333333,\n",
       "  2122: 32.208333,\n",
       "  2123: 36.5,\n",
       "  2124: 38.583333,\n",
       "  2125: 33.458333,\n",
       "  2126: 34.916667,\n",
       "  2127: 38.708333,\n",
       "  2128: 39.130435,\n",
       "  2129: 40.166667,\n",
       "  2130: 36.125,\n",
       "  2131: 35.958333,\n",
       "  2132: 32.291667,\n",
       "  2133: 28.458333,\n",
       "  2134: 29.272727,\n",
       "  2135: 29.958333,\n",
       "  2136: 37.125,\n",
       "  2138: 25.5,\n",
       "  2139: 33.458333,\n",
       "  2140: 36.083333,\n",
       "  2141: 35.541667,\n",
       "  2142: 38.347826,\n",
       "  2143: 28.75,\n",
       "  2144: 30.083333,\n",
       "  2145: 41.666667,\n",
       "  2146: 38.541667,\n",
       "  2147: 36.666667,\n",
       "  2148: 37.25,\n",
       "  2149: 37.666667,\n",
       "  2150: 40.458333,\n",
       "  2155: 28.0,\n",
       "  2156: 35.285714,\n",
       "  2157: 39.083333,\n",
       "  2158: 40.5,\n",
       "  2159: 41.708333,\n",
       "  2160: 39.0,\n",
       "  2161: 38.666667,\n",
       "  2162: 45.125,\n",
       "  2163: 40.045455,\n",
       "  2164: 33.625,\n",
       "  2165: 34.791667,\n",
       "  2166: 28.125,\n",
       "  2167: 29.375,\n",
       "  2168: 28.416667,\n",
       "  2169: 29.25,\n",
       "  2170: 31.521739,\n",
       "  2171: 33.666667,\n",
       "  2172: 32.625,\n",
       "  2175: 25.833333,\n",
       "  2186: 26.8,\n",
       "  2187: 29.975,\n",
       "  2203: 25.291667,\n",
       "  2477: 25.6,\n",
       "  2490: 26.135,\n",
       "  2492: 25.333333,\n",
       "  2493: 25.727273,\n",
       "  2511: 27.908333,\n",
       "  2523: 26.641667,\n",
       "  2524: 25.566667,\n",
       "  2525: 27.8375,\n",
       "  2528: 33.75}}"
      ]
     },
     "execution_count": 326,
>>>>>>> Stashed changes
     "metadata": {},
     "output_type": "execute_result"
    }
   ],
   "source": [
<<<<<<< Updated upstream
    "counties.keys()"
=======
    "# aldf.loc[\n",
    "test_days"
>>>>>>> Stashed changes
   ]
  },
  {
   "cell_type": "code",
   "execution_count": null,
<<<<<<< Updated upstream
   "id": "8ab5359b-f843-410f-8d4e-5a7ac6870042",
=======
   "id": "a070da84-9292-4448-84e8-9dae332cccd1",
>>>>>>> Stashed changes
   "metadata": {},
   "outputs": [],
   "source": []
  }
 ],
 "metadata": {
  "kernelspec": {
   "display_name": "capstone",
   "language": "python",
   "name": "capstone"
  },
  "language_info": {
   "codemirror_mode": {
    "name": "ipython",
    "version": 3
   },
   "file_extension": ".py",
   "mimetype": "text/x-python",
   "name": "python",
   "nbconvert_exporter": "python",
   "pygments_lexer": "ipython3",
   "version": "3.9.5"
  }
 },
 "nbformat": 4,
 "nbformat_minor": 5
}
