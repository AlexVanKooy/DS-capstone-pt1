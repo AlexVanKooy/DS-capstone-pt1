{
 "cells": [
  {
   "cell_type": "code",
   "execution_count": 5,
   "id": "6f5fbf71-d0eb-48ff-b6b8-1ed87f617240",
   "metadata": {},
   "outputs": [],
   "source": [
    "# general imports\n",
    "import math\n",
    "import requests as rq\n",
    "\n",
    "import numpy as np\n",
    "import pandas as pd\n",
    "import re\n",
    "from urllib.request import urlopen\n",
    "import json\n",
    "import os\n",
    "import pathlib\n",
    "\n",
    "import plotly.express as px\n",
    "import matplotlib.pyplot as plt\n",
    "from matplotlib.patches import Ellipse\n",
    "from matplotlib.text import OffsetFrom\n",
    "%matplotlib inline"
   ]
  },
  {
   "cell_type": "code",
   "execution_count": 6,
   "id": "d5ec1b1d-bbe2-486a-98dc-66d4f6f0529f",
   "metadata": {
    "tags": []
   },
   "outputs": [],
   "source": [
    "# pandas formatting \n",
    "pd.set_option(\"display.max_rows\", 500)\n",
    "pd.set_option('display.max_columns', 500)\n",
    "pd.set_option('display.width', 1000)\n",
    "\n",
    "# default plotting formats\n",
    "plt.rcParams['figure.figsize'] = [12, 8]\n",
    "plt.rcParams['figure.dpi'] = 100 # 200 e.g. is really fine, but slower\n",
    "\n",
    "cwd = pathlib.Path.cwd()\n",
    "air_data_dir = cwd.joinpath(\"data\",\"air_quality\")\n",
    "NOAH_WKDIR = cwd.joinpath(\"data\",\"covid\")\n",
    "my_savedir = cwd.joinpath(\"local_covid\")\n",
    "\n",
    "# load county information for plotly from saved file \n",
    "with open('counties.json','r') as jin:\n",
    "    counties = json.load(jin)\n",
    "\n",
    "\n",
    "\n",
    "#Does not need to run, just documenting\n",
    "def load_fips_mapping(file_path=None):\n",
    "    f2c_map = pd.read_csv('temp.csv', usecols=['fips','county_name','state_name'], dtype={'fips':'string'})\n",
    "    return f2c_map\n",
    "    \n",
    "def request_fips_mapping():\n",
    "    r = rq.get('https://raw.githubusercontent.com/kjhealy/fips-codes/master/county_fips_master.csv')\n",
    "    cleaned = r.text.replace('\\r\\n','\\n')\n",
    "    return cleaned\n",
    "    # with open('temp.csv', 'w',encoding='utf-8') as tempout:\n",
    "    #     tempout.write(cleaned)"
   ]
  },
  {
   "cell_type": "markdown",
   "id": "a373a558-a646-49c8-8c94-184310563f72",
   "metadata": {},
   "source": [
    "## Utility functions"
   ]
  },
  {
   "cell_type": "code",
   "execution_count": 7,
   "id": "240318cf-3be9-47c9-b6d7-6bbbc90ca8ab",
   "metadata": {
    "tags": []
   },
   "outputs": [],
   "source": [
    "def FIPS_function(row):\n",
    "    state = str(row['State Code']).zfill(2)\n",
    "    county = str(row['County Code']).zfill(3)\n",
    "    return str(state + county)\n",
    "# convert to NO2 ug/m^3 for reference\n",
    "def no2_mass_by_vol(ppb):\n",
    "    ugm3 = 1.88*ppb\n",
    "    return ugm3\n",
    "\n",
    "\n",
    "\n",
    "def set_daily_cases_deaths(df):\n",
    "    df['daily_new_cases'] = df['JHU_ConfirmedCases.data'].diff()\n",
    "    df['daily_new_deaths'] = df['JHU_ConfirmedDeaths.data'].diff()\n",
    "    return df\n",
    "# plotting one day's avg \n",
    "def show_day_mean(df, date):\n",
    "    fig = px.choropleth(df[df['Date Local']==date], geojson=counties, locations='fips', color='Arithmetic Mean',\n",
    "                               color_continuous_scale=\"Plasma\",\n",
    "                               range_color=(0, 70), #max value for daily avg is ~60ppb\n",
    "                               scope=\"usa\",\n",
    "                               labels={'Arithmetic Mean':'Arithmetic Mean (ppb)'}\n",
    "                              )\n",
    "    fig.update_layout(margin={\"r\":0,\"t\":0,\"l\":0,\"b\":1,'autoexpand':True })\n",
    "    fig.update_layout(\n",
    "        autosize=False,\n",
    "        width=1200,\n",
    "        height=900,\n",
    "    )\n",
    "    return fig\n",
    "\n",
    "\n",
    "# plotting one day's max value\n",
    "def show_day_max(df, date):\n",
    "    fig = px.choropleth(df[df['Date Local']==date], geojson=counties, locations='fips', color='1st Max Value',\n",
    "                               color_continuous_scale=\"Plasma\",\n",
    "                               range_color=(0, 70), #max value for daily avg is ~60ppb\n",
    "                               scope=\"usa\",\n",
    "                               labels={'1st Max Value':'1st Max Value (ppb)'}\n",
    "                              )\n",
    "    fig.update_layout(margin={\"r\":0,\"t\":0,\"l\":0,\"b\":1,'autoexpand':True })\n",
    "    fig.update_layout(\n",
    "        autosize=False,\n",
    "        width=1200,\n",
    "        height=900,\n",
    "    )\n",
    "    return fig   \n",
    "def show_sites(df):\n",
    "    fig = px.choropleth(df, geojson=counties, locations='fips', color='Parameter Code',\n",
    "                               color_continuous_scale=\"Plasma\",\n",
    "                               range_color=(0, 1), #max value for daily avg is ~60ppb\n",
    "                               scope=\"usa\",\n",
    "                               labels={'1st Max Value':'1st Max Value (ppb)'}\n",
    "                              )\n",
    "    fig.update_layout(margin={\"r\":0,\"t\":0,\"l\":0,\"b\":1,'autoexpand':True })\n",
    "    fig.update_layout(\n",
    "        autosize=False,\n",
    "        width=1200,\n",
    "        height=900,\n",
    "    )\n",
    "    return fig\n",
    "\n",
    "def get_counties_df(file_name='./data/covid/config/counties.json'):\n",
    "    with open(file_name) as file:\n",
    "                county_data = json.load(file)\n",
    "    \n",
    "    df = pd.DataFrame.from_dict(county_data)\n",
    "    \n",
    "    data = [df[col] for col in df.columns]    \n",
    "    \n",
    "    # pivot\n",
    "    return pd.DataFrame(data,columns=df.index, index=df.columns)\n",
    "\n",
    "def get_fips_from_county_lookup():\n",
    "    counties = get_counties_df() \n",
    "    counties = counties.dropna(subset=['fips'])\n",
    "    counties.fips = counties.fips.apply(lambda f: eval(str(f)).get('id'))\n",
    "    counties_index = {k: v for k, v in zip(counties.index, counties.fips)}\n",
    "    def get_fips_from_county(county):\n",
    "        return counties_index[county]\n",
    "    return get_fips_from_county\n",
    "\n",
    "def daily_avg_county_pollution(df, column_to_avg = \"Arithmetic Mean\", date_column=None):    \n",
    "    if date_column == None:\n",
    "        date_column = 'Date Local'\n",
    "        avg_by_day = df.groupby([date_column,'fips']).agg({'Arithmetic Mean': 'mean','1st Max Value':'max','AQI':'max'})\n",
    "    else:\n",
    "        avg_by_day = df.groupby([date_column,'Date Local','fips']).agg({'Arithmetic Mean': 'mean','1st Max Value':'max','AQI':'max'})\n",
    "        \n",
    "        \n",
    "    return avg_by_day\n"
   ]
  },
  {
   "cell_type": "code",
   "execution_count": 8,
   "id": "e995ffd5-ad2e-4e12-9c4b-cb299fb4e850",
   "metadata": {
    "jupyter": {
     "source_hidden": true
    },
    "tags": []
   },
   "outputs": [],
   "source": [
    "# FIPS codes from the FCC.  Attempt to match all counties\n",
    "\n",
    "\n",
    "def make_lookup_functions():\n",
    "    fcc_county_file = NOAH_WKDIR.joinpath(\"config\",\"fcc_county_fips.txt\")\n",
    "    with open(fcc_county_file) as fh:\n",
    "        state = None\n",
    "        fips_to_county = {}\n",
    "        county_to_fips = {}\n",
    "        for row in fh:\n",
    "            if match := re.match(r'\\s+(\\d\\d\\d\\d\\d)\\s+ (.*)', row):\n",
    "                fips, location = match.groups()\n",
    "                if fips.endswith('000'):\n",
    "                    state = location.replace(' ','')\n",
    "                    continue\n",
    "                location = location.split(' County')[0]\n",
    "                location = location.split(' Borough')[0]\n",
    "                location = location.split(' Census Area')[0]\n",
    "                location = location.split(' Parish')[0]\n",
    "                location = location.split(' National Park')[0]\n",
    "                \n",
    "                if state == 'Florida' and location == 'Dade':\n",
    "                    location = 'Miami-Dade'\n",
    "                if state == 'Massachusetts' and location == 'Dukes':\n",
    "                    location = 'DukesandNantucket'\n",
    "                if state == 'Alaska' and location == 'Wrangell-Petersburg':\n",
    "                    location = 'Wrangell'\n",
    "                if state == 'Alaska' and location == 'Skagway-Hoonah-Angoon':\n",
    "                    location = 'Skagway'\n",
    "                if state == 'Alaska' and location == 'Prince of Wales-Outer Ketchikan':\n",
    "                    location = 'Prince of Wales'\n",
    "                if state == 'New York' and location == 'New York':\n",
    "                    location = 'New York City'\n",
    "                    \n",
    "                try:\n",
    "                    location = ''.join([s[0].upper() + s[1:] for s in location.split(' ')])    \n",
    "                except Exception as e:\n",
    "                    pass  # garbage\n",
    "\n",
    "                county = location.replace(' ', '') + '_' + state + '_UnitedStates'\n",
    "                fips_to_county[int(fips)] = county\n",
    "                county_to_fips[county.lower()] = int(fips)\n",
    "                \n",
    "        def lookup_county_from_fips(fips_):\n",
    "            return fips_to_county[int(fips_)]\n",
    "        \n",
    "        def lookup_fips_from_county(county_):\n",
    "            try:\n",
    "                return county_to_fips[county_.lower()]\n",
    "            except KeyError:\n",
    "                pass\n",
    "            \n",
    "            try:\n",
    "                county_ = county_.lower()\n",
    "                parts = county_.split('_')\n",
    "                parts[0] = parts[0][:parts[0].index('city')]\n",
    "                return county_to_fips['_'.join(parts)]\n",
    "            except:\n",
    "                pass\n",
    "            \n",
    "            try:\n",
    "                parts = county_.split('_')\n",
    "                parts[0] = parts[0] +'city'\n",
    "                return county_to_fips['_'.join(parts)]\n",
    "            except:\n",
    "                pass\n",
    "    \n",
    "            parts = county_.split('_')\n",
    "            for k, v in county_to_fips.items():\n",
    "                part0, part1, _ = k.split('_')\n",
    "                if part1 != parts[1]:\n",
    "                    continue\n",
    "                if parts[0].startswith(part0) or part0.startswith(parts[0]):\n",
    "                    return v\n",
    "\n",
    "            raise KeyError\n",
    "                \n",
    "        \n",
    "        return lookup_county_from_fips, lookup_fips_from_county\n",
    "\n",
    "get_county_from_fips,  get_fips_from_county = make_lookup_functions()"
   ]
  },
  {
   "cell_type": "markdown",
   "id": "27fe20af-1d9b-452c-aa76-67e7a743b0f4",
   "metadata": {
    "tags": []
   },
   "source": [
    "# Loading EPA Data"
   ]
  },
  {
   "cell_type": "markdown",
   "id": "89c36c14-fc11-4263-a6b0-8b9a1827d266",
   "metadata": {
    "tags": []
   },
   "source": [
    "#### Argument for removing columns\n",
    " \n",
    "We are looking for a link between 2 datasets, for now we will assume things like the 'POC' field (This is the “Parameter Occurrence Code” used to distinguish different instruments that measure the same parameter at the same site.) are unimportant to our investigation.\n",
    "\n",
    "Similarly we will remove the method code, method name, ect.\n",
    "\n",
    "more information on the field definitions can be found here -> https://aqs.epa.gov/aqsweb/airdata/FileFormats.html#_content_4"
   ]
  },
  {
   "cell_type": "markdown",
   "id": "395de0d5-469c-4781-b349-ce5eb76d1d22",
   "metadata": {},
   "source": [
    "## Loading and merging no2 for 2020 and 2021"
   ]
  },
  {
   "cell_type": "code",
   "execution_count": 9,
   "id": "f0e7fada-5aa4-46b4-9a98-64f7381d28d6",
   "metadata": {
    "tags": []
   },
   "outputs": [],
   "source": [
    "# parser warned to use the pd.to_datetime instead\n",
    "no2_20 = pd.read_csv(air_data_dir.joinpath(\"no2\",\"daily_no2_2020_with_FIPS.csv\"), dtype={'fips':'string'})\n",
    "# putting datetime in new column out of an abundace of caution\n",
    "no2_20['Date Local'] = pd.to_datetime(no2_20['Date Local'], format=\"%Y/%m/%d\")\n",
    "\n",
    "no2_columns = ['Date Local','fips',\n",
    "               'Arithmetic Mean','AQI',\n",
    "               '1st Max Value','Units of Measure',\n",
    "               'Mean ugm3','Site Num',\n",
    "               'Event Type','Latitude',\n",
    "               'Longitude','State Code','County Code',\n",
    "               'Observation Count','Observation Percent']\n",
    "slim_no2_20 = no2_20[no2_columns]\n"
   ]
  },
  {
   "cell_type": "code",
   "execution_count": 10,
   "id": "071976db-e959-4515-bc9d-06debe932f8d",
   "metadata": {},
   "outputs": [],
   "source": [
    "no2_21 =  pd.read_csv(air_data_dir.joinpath(\"no2\",\"daily_no2_2021_with_FIPS.csv\"), dtype={'fips':'string'})\n",
    "no2_21['Date Local'] = pd.to_datetime(no2_21['Date Local'], format=\"%Y/%m/%d\")\n",
    "no2_columns = ['Date Local','fips',\n",
    "               'Arithmetic Mean','AQI',\n",
    "               '1st Max Value','Units of Measure',\n",
    "               'Mean ugm3','Site Num',\n",
    "               'Event Type','Latitude',\n",
    "               'Longitude','State Code','County Code',\n",
    "               'Observation Count','Observation Percent']\n",
    "slim_no2_21 = no2_21[no2_columns]"
   ]
  },
  {
   "cell_type": "code",
   "execution_count": 11,
   "id": "494733a7-37ef-4d89-9cdc-09f944cd7076",
   "metadata": {},
   "outputs": [],
   "source": [
    "slim_no2 = pd.concat([slim_no2_20,slim_no2_21])\n"
   ]
  },
  {
   "cell_type": "markdown",
   "id": "35227ae6-a669-4de4-ab50-c3a77698a08b",
   "metadata": {
    "tags": []
   },
   "source": [
    "## Issue: multiple sample sites in some counties\n",
    "\n",
    "Some counties have multiple air monitoring stations. Below code builds a dictionary whose keys are the fips codes with multiple sites."
   ]
  },
  {
   "cell_type": "code",
   "execution_count": 12,
   "id": "da7c3959-79b3-4c62-9cfe-0065670fc7b5",
   "metadata": {
    "tags": []
   },
   "outputs": [
    {
     "data": {
      "text/html": [
       "<div>\n",
       "<style scoped>\n",
       "    .dataframe tbody tr th:only-of-type {\n",
       "        vertical-align: middle;\n",
       "    }\n",
       "\n",
       "    .dataframe tbody tr th {\n",
       "        vertical-align: top;\n",
       "    }\n",
       "\n",
       "    .dataframe thead th {\n",
       "        text-align: right;\n",
       "    }\n",
       "</style>\n",
       "<table border=\"1\" class=\"dataframe\">\n",
       "  <thead>\n",
       "    <tr style=\"text-align: right;\">\n",
       "      <th></th>\n",
       "      <th>Date Local</th>\n",
       "      <th>fips</th>\n",
       "      <th>Arithmetic Mean</th>\n",
       "      <th>AQI</th>\n",
       "      <th>1st Max Value</th>\n",
       "      <th>Units of Measure</th>\n",
       "      <th>Mean ugm3</th>\n",
       "      <th>Site Num</th>\n",
       "      <th>Event Type</th>\n",
       "      <th>Latitude</th>\n",
       "      <th>Longitude</th>\n",
       "      <th>State Code</th>\n",
       "      <th>County Code</th>\n",
       "      <th>Observation Count</th>\n",
       "      <th>Observation Percent</th>\n",
       "    </tr>\n",
       "  </thead>\n",
       "  <tbody>\n",
       "    <tr>\n",
       "      <th>4002</th>\n",
       "      <td>2020-01-01</td>\n",
       "      <td>06001</td>\n",
       "      <td>7.865217</td>\n",
       "      <td>17</td>\n",
       "      <td>18.5</td>\n",
       "      <td>Parts per billion</td>\n",
       "      <td>14.786608</td>\n",
       "      <td>7</td>\n",
       "      <td>None</td>\n",
       "      <td>37.687526</td>\n",
       "      <td>-121.784217</td>\n",
       "      <td>6</td>\n",
       "      <td>1</td>\n",
       "      <td>23</td>\n",
       "      <td>96.0</td>\n",
       "    </tr>\n",
       "    <tr>\n",
       "      <th>4368</th>\n",
       "      <td>2020-01-01</td>\n",
       "      <td>06001</td>\n",
       "      <td>12.617391</td>\n",
       "      <td>20</td>\n",
       "      <td>21.3</td>\n",
       "      <td>Parts per billion</td>\n",
       "      <td>23.720695</td>\n",
       "      <td>9</td>\n",
       "      <td>None</td>\n",
       "      <td>37.743065</td>\n",
       "      <td>-122.169935</td>\n",
       "      <td>6</td>\n",
       "      <td>1</td>\n",
       "      <td>23</td>\n",
       "      <td>96.0</td>\n",
       "    </tr>\n",
       "    <tr>\n",
       "      <th>4733</th>\n",
       "      <td>2020-01-01</td>\n",
       "      <td>06001</td>\n",
       "      <td>15.921739</td>\n",
       "      <td>26</td>\n",
       "      <td>28.0</td>\n",
       "      <td>Parts per billion</td>\n",
       "      <td>29.932869</td>\n",
       "      <td>11</td>\n",
       "      <td>None</td>\n",
       "      <td>37.814781</td>\n",
       "      <td>-122.282347</td>\n",
       "      <td>6</td>\n",
       "      <td>1</td>\n",
       "      <td>23</td>\n",
       "      <td>96.0</td>\n",
       "    </tr>\n",
       "    <tr>\n",
       "      <th>5096</th>\n",
       "      <td>2020-01-01</td>\n",
       "      <td>06001</td>\n",
       "      <td>15.934783</td>\n",
       "      <td>22</td>\n",
       "      <td>23.2</td>\n",
       "      <td>Parts per billion</td>\n",
       "      <td>29.957392</td>\n",
       "      <td>12</td>\n",
       "      <td>None</td>\n",
       "      <td>37.793624</td>\n",
       "      <td>-122.263376</td>\n",
       "      <td>6</td>\n",
       "      <td>1</td>\n",
       "      <td>23</td>\n",
       "      <td>96.0</td>\n",
       "    </tr>\n",
       "    <tr>\n",
       "      <th>5462</th>\n",
       "      <td>2020-01-01</td>\n",
       "      <td>06001</td>\n",
       "      <td>12.826087</td>\n",
       "      <td>22</td>\n",
       "      <td>23.5</td>\n",
       "      <td>Parts per billion</td>\n",
       "      <td>24.113044</td>\n",
       "      <td>13</td>\n",
       "      <td>None</td>\n",
       "      <td>37.864767</td>\n",
       "      <td>-122.302741</td>\n",
       "      <td>6</td>\n",
       "      <td>1</td>\n",
       "      <td>23</td>\n",
       "      <td>96.0</td>\n",
       "    </tr>\n",
       "  </tbody>\n",
       "</table>\n",
       "</div>"
      ],
      "text/plain": [
       "     Date Local   fips  Arithmetic Mean  AQI  1st Max Value   Units of Measure  Mean ugm3  Site Num Event Type   Latitude   Longitude  State Code  County Code  Observation Count  Observation Percent\n",
       "4002 2020-01-01  06001         7.865217   17           18.5  Parts per billion  14.786608         7       None  37.687526 -121.784217           6            1                 23                 96.0\n",
       "4368 2020-01-01  06001        12.617391   20           21.3  Parts per billion  23.720695         9       None  37.743065 -122.169935           6            1                 23                 96.0\n",
       "4733 2020-01-01  06001        15.921739   26           28.0  Parts per billion  29.932869        11       None  37.814781 -122.282347           6            1                 23                 96.0\n",
       "5096 2020-01-01  06001        15.934783   22           23.2  Parts per billion  29.957392        12       None  37.793624 -122.263376           6            1                 23                 96.0\n",
       "5462 2020-01-01  06001        12.826087   22           23.5  Parts per billion  24.113044        13       None  37.864767 -122.302741           6            1                 23                 96.0"
      ]
     },
     "execution_count": 12,
     "metadata": {},
     "output_type": "execute_result"
    }
   ],
   "source": [
    "# multiple sites in one county\n",
    "slim_no2.loc[(slim_no2['Date Local']=='2020-01-01') & (slim_no2['fips']=='06001')].head()"
   ]
  },
  {
   "cell_type": "markdown",
   "id": "880c5cba-ae8f-46ab-aa6a-a1bca66b6a77",
   "metadata": {},
   "source": [
    "### A Quick naive solution\n",
    "\n",
    "... we can average the averages for each county.\n",
    "\n",
    "This method below achieves this but the other columns are not captured."
   ]
  },
  {
   "cell_type": "code",
   "execution_count": 13,
   "id": "e5c28f3b-7afb-49a9-989d-dff11d9f5418",
   "metadata": {},
   "outputs": [
    {
     "data": {
      "text/html": [
       "<div>\n",
       "<style scoped>\n",
       "    .dataframe tbody tr th:only-of-type {\n",
       "        vertical-align: middle;\n",
       "    }\n",
       "\n",
       "    .dataframe tbody tr th {\n",
       "        vertical-align: top;\n",
       "    }\n",
       "\n",
       "    .dataframe thead th {\n",
       "        text-align: right;\n",
       "    }\n",
       "</style>\n",
       "<table border=\"1\" class=\"dataframe\">\n",
       "  <thead>\n",
       "    <tr style=\"text-align: right;\">\n",
       "      <th></th>\n",
       "      <th></th>\n",
       "      <th>Arithmetic Mean</th>\n",
       "      <th>1st Max Value</th>\n",
       "      <th>AQI</th>\n",
       "    </tr>\n",
       "    <tr>\n",
       "      <th>Date Local</th>\n",
       "      <th>fips</th>\n",
       "      <th></th>\n",
       "      <th></th>\n",
       "      <th></th>\n",
       "    </tr>\n",
       "  </thead>\n",
       "  <tbody>\n",
       "    <tr>\n",
       "      <th rowspan=\"5\" valign=\"top\">2020-01-01</th>\n",
       "      <th>01073</th>\n",
       "      <td>16.373918</td>\n",
       "      <td>31.0</td>\n",
       "      <td>29</td>\n",
       "    </tr>\n",
       "    <tr>\n",
       "      <th>04013</th>\n",
       "      <td>16.660833</td>\n",
       "      <td>34.0</td>\n",
       "      <td>32</td>\n",
       "    </tr>\n",
       "    <tr>\n",
       "      <th>04019</th>\n",
       "      <td>11.206250</td>\n",
       "      <td>23.7</td>\n",
       "      <td>22</td>\n",
       "    </tr>\n",
       "    <tr>\n",
       "      <th>05035</th>\n",
       "      <td>9.175000</td>\n",
       "      <td>23.1</td>\n",
       "      <td>22</td>\n",
       "    </tr>\n",
       "    <tr>\n",
       "      <th>05119</th>\n",
       "      <td>12.637500</td>\n",
       "      <td>28.9</td>\n",
       "      <td>26</td>\n",
       "    </tr>\n",
       "  </tbody>\n",
       "</table>\n",
       "</div>"
      ],
      "text/plain": [
       "                  Arithmetic Mean  1st Max Value  AQI\n",
       "Date Local fips                                      \n",
       "2020-01-01 01073        16.373918           31.0   29\n",
       "           04013        16.660833           34.0   32\n",
       "           04019        11.206250           23.7   22\n",
       "           05035         9.175000           23.1   22\n",
       "           05119        12.637500           28.9   26"
      ]
     },
     "execution_count": 13,
     "metadata": {},
     "output_type": "execute_result"
    }
   ],
   "source": [
    "daily_avg_no2 = daily_avg_county_pollution(slim_no2)\n",
    "daily_avg_no2.head()"
   ]
  },
  {
   "cell_type": "code",
   "execution_count": 14,
   "id": "ce721396-9a42-40c5-99cd-3c09fdd54dbf",
   "metadata": {},
   "outputs": [],
   "source": [
    "# reset index, then take the year's average per fips (dropping the max value since we want avgs anyway). This will be our benchmark\n",
    "county_means =daily_avg_no2.reset_index().groupby(['fips']).mean().drop(['1st Max Value'],axis=1)"
   ]
  },
  {
   "cell_type": "markdown",
   "id": "281863f5-fbe3-4adb-83c8-ac0c2b254ed2",
   "metadata": {},
   "source": [
    "### Creating dictonary of the avg ppb and AQI per county for 2020"
   ]
  },
  {
   "cell_type": "code",
   "execution_count": 15,
   "id": "0fb202f9-73ca-447c-8338-b4ae22e8b431",
   "metadata": {},
   "outputs": [
    {
     "data": {
      "text/plain": [
       "15.597742065935673"
      ]
     },
     "execution_count": 15,
     "metadata": {},
     "output_type": "execute_result"
    }
   ],
   "source": [
    "county_means.rename(columns={'Arithmetic Mean':'mean_ppb','AQI':'mean_AQI'},inplace=True)\n",
    "county_benchmarks = county_means.to_dict('index')\n",
    "county_benchmarks['04013']['mean_ppb']"
   ]
  },
  {
   "cell_type": "markdown",
   "id": "17539ae7-f13a-4ed0-9ca4-e87a55280e53",
   "metadata": {},
   "source": [
    "## Building functions to identify important dates"
   ]
  },
  {
   "cell_type": "code",
   "execution_count": 16,
   "id": "3cea955f-f93c-4424-a2ec-d73a91d743d1",
   "metadata": {
    "tags": []
   },
   "outputs": [],
   "source": [
    "def check_level(df, averages, delta=0):\n",
    "    \"\"\"Return dictonary with higher than average ppb for each fips code.\n",
    "    \n",
    "    \n",
    "    Parameters:\n",
    "    \n",
    "    df -- single full dataframe\n",
    "    \n",
    "    averages -- dict of structure fips:(mean_ppb, AQI)\n",
    "    \n",
    "    delta -- ppb difference to flag, default = 0\n",
    "    \n",
    "    The averages dictionary should have one entry per fips code, giving the average concentration for that county.\n",
    "    \n",
    "    Return:\n",
    "    peaks -- dict of structure fips:[{'Date_Local' dates]\n",
    "    \"\"\"\n",
    "    \n",
    "    targets = {}\n",
    "    for fipc in list(averages.keys()):\n",
    "        df[df['fips']==fipc]\n",
    "        peak_df = df[(df['fips']==fipc) & (df['Arithmetic Mean'] >= (averages[fipc]['mean_ppb'] + delta))]\n",
    "        targets[fipc] = peak_df[['Date Local','Arithmetic Mean']].to_dict('index')\n",
    "    return targets"
   ]
  },
  {
   "cell_type": "code",
   "execution_count": 17,
   "id": "6fe6862e-d779-458c-939d-4f3775d755f1",
   "metadata": {},
   "outputs": [],
   "source": [
    "flat_daily_avg = daily_avg_no2.reset_index()\n",
    "to_cross_ref = check_level(flat_daily_avg, county_benchmarks, delta=15)"
   ]
  },
  {
   "cell_type": "code",
   "execution_count": 18,
   "id": "ccf62db6-4fee-4300-adba-b9a2b158547a",
   "metadata": {},
   "outputs": [
    {
     "data": {
      "text/plain": [
       "{1744: {'Date Local': Timestamp('2020-01-08 00:00:00'),\n",
       "  'Arithmetic Mean': 30.13},\n",
       " 85413: {'Date Local': Timestamp('2020-12-10 00:00:00'),\n",
       "  'Arithmetic Mean': 25.422916999999998}}"
      ]
     },
     "execution_count": 18,
     "metadata": {},
     "output_type": "execute_result"
    }
   ],
   "source": [
    "to_cross_ref['01073']"
   ]
  },
  {
   "cell_type": "markdown",
   "id": "4f65303d-857e-4f34-abe8-240f022b2653",
   "metadata": {},
   "source": [
    "The peak times from the above show an increase during the fall/winter months, I would be fine comparing trends into and out of this time period"
   ]
  },
  {
   "cell_type": "markdown",
   "id": "d436a050-329f-4834-837e-be3210f1da71",
   "metadata": {},
   "source": [
    "# Cross check data\n",
    "\n",
    "With the dict of list of dicts above we can take the key (fips) and the dates within to select the correct data from the covid19 repository and establish a window of effect"
   ]
  },
  {
   "cell_type": "markdown",
   "id": "cc4354ad-1c93-4037-839c-365556800f6c",
   "metadata": {},
   "source": [
    "- Select fips & date from peak dates\n",
    "    - Might want to select window of days surrounding the peak\n",
    "- grab covid data for peak dates\n",
    "    - will want days leading up to and trailing the peak dates\n",
    "\n",
    "\n",
    " "
   ]
  },
  {
   "cell_type": "code",
   "execution_count": 19,
   "id": "2aaf4a6e-fb0a-4f5f-9816-cab866fb834a",
   "metadata": {
    "tags": []
   },
   "outputs": [],
   "source": [
    "# helper function for me to load one of the pickles provided by Noah\n",
    "def load_covid_by_fips(fipcode):\n",
    "    df = pd.read_pickle(NOAH_WKDIR.joinpath(\"processed_data\",\"county_merged_parts\",get_county_from_fips(fipcode)+'.pkl'))   \n",
    "    return df\n",
    "clamped_covid = ['fips','JHU_ConfirmedCases.data','JHU_ConfirmedDeaths.data', \n",
    "                 'latestTotalPopulation','MaleAndFemale_AtLeast65_Population.data',\n",
    "                 'Male_Total_Population.data','Female_Total_Population.data',\n",
    "                 'MaleAndFemale_Under18_Population.data','BLS_EmployedPopulation.data',\n",
    "                 'BLS_UnemployedPopulation.data','BLS_UnemploymentRate.data',\n",
    "                 'BLS_LaborForcePopulation.data','AverageWindDirection.data',\n",
    "                ]\n",
    "\n",
    "def stringify_fips(row):\n",
    "    ''' Convert the INTeger representation of fips to a string with leading zeros.\n",
    "            intended to be used in a lamda function.\n",
    "            \n",
    "    Arguments:\n",
    "    \n",
    "    row - a single row of a dataframe. Intended to be used like \"df4.apply(lambda row: stringify_fips(row), axis=1)\"\n",
    "    \n",
    "    '''\n",
    "    strFips = str(row['fips']).zfill(5)\n",
    "    return strFips\n",
    "\n",
    "def rolling_cases(df, window_size=7):\n",
    "    df['1wkroll'] = df['daily_new_cases'].rolling(window=window_size).mean()\n",
    "    df.reset_index(inplace=True)\n",
    "    df.set_index(\"dates\",inplace = True)\n",
    "    return df\n",
    "\n",
    "# cases / 100,000 people\n",
    "def set_weighted_cases(df):\n",
    "    wpop =  df['latestTotalPopulation'].max()/100000\n",
    "    z = df.loc[:,'JHU_ConfirmedCases.data'] / wpop\n",
    "    df['total_cases_per_100k'] = z.values    \n",
    "    return df\n",
    "\n",
    "#deaths per person infected\n",
    "def set_death_per_cases(df):\n",
    "    df.loc[:,'deaths_per_cases']= np.where((df.loc[:,'JHU_ConfirmedDeaths.data'] / df.loc[:,'JHU_ConfirmedCases.data'])>=0,\n",
    "                                          (df.loc[:,'JHU_ConfirmedDeaths.data'] / df.loc[:,'JHU_ConfirmedCases.data']), 0)\n",
    "    return df\n",
    "    "
   ]
  },
  {
   "cell_type": "code",
   "execution_count": 20,
   "id": "5d8bda44-d780-4894-82bb-4cd051b4eaec",
   "metadata": {},
   "outputs": [],
   "source": [
    "# To make the covid data play nice with my current setup I need to do some processing \n",
    "\n",
    "def load_and_augment_fips(fips):\n",
    "    tdf = load_covid_by_fips(fips)\n",
    "    # pickle loads numbers as floats; converting fips to int\n",
    "    tdf['fips'] = tdf.apply(lambda row: math.floor(row['fips']), axis=1)\n",
    "\n",
    "    # Making fips a string to match on other datasets with leading zero\n",
    "    df2= tdf.astype({\"fips\":\"int\"}).astype({'fips':'string'})\n",
    "    \n",
    "    # adding leading zero where needed\n",
    "    df2['fips'] = df2.apply(lambda row: stringify_fips(row), axis=1)\n",
    "    \n",
    "    #need daily change in cases to get the rolling delta of new infections\n",
    "    df2 = set_daily_cases_deaths(df2)\n",
    "    df2 = rolling_cases(df2)\n",
    "    df2.index = pd.to_datetime(df2.index, format=\"%Y/%m/%d\")\n",
    "    top_level_covid = ['fips','daily_new_cases','daily_new_deaths', \"1wkroll\",\n",
    "                   'JHU_ConfirmedCases.data','JHU_ConfirmedDeaths.data', \n",
    "                   'latestTotalPopulation']\n",
    "    \n",
    "    \n",
    "    df3 = df2[top_level_covid].copy()\n",
    "    df3 = set_weighted_cases(df3)\n",
    "    df3 = set_death_per_cases(df3)\n",
    "    # clunky? yes. Technically safest way to do this in pandas (i think) feel free to edit\n",
    "    del df2\n",
    "    del tdf\n",
    "    \n",
    "    \n",
    "    \n",
    "    return df3"
   ]
  },
  {
   "cell_type": "markdown",
   "id": "fecaf2a9-d4eb-472d-af48-f8ac156f4ca9",
   "metadata": {},
   "source": [
    "## Leveraging the datetime functionality in pandas"
   ]
  },
  {
   "cell_type": "code",
   "execution_count": 21,
   "id": "67104f3d-b938-43ca-bab7-69eac0659f20",
   "metadata": {},
   "outputs": [],
   "source": [
    "no2df = daily_avg_no2.reset_index().set_index(\"Date Local\")\n",
    "tdate = pd.Timestamp('2020-12-10')\n",
    "# days forward and backward to look\n",
    "offset = pd.offsets.Week()"
   ]
  },
  {
   "cell_type": "markdown",
   "id": "c7e2b0d9-ade5-4a82-8cfe-2be2e5e0b3a5",
   "metadata": {
    "tags": []
   },
   "source": [
    "### Verify values\n",
    "\n",
    "According to the [nytimes covid information](https://www.nytimes.com/interactive/2021/us/covid-cases.html), Jefferson Alabama (Fips = '01073') has a total case number = 1 in 6 of the population and deaths 1 in 330. \n",
    "\n",
    "Lets see what our data says"
   ]
  },
  {
   "cell_type": "code",
   "execution_count": 22,
   "id": "d07d6549-60c9-47f1-a457-315f02a04ec9",
   "metadata": {},
   "outputs": [],
   "source": [
    "covdf2 = load_and_augment_fips(\"01073\")"
   ]
  },
  {
   "cell_type": "code",
   "execution_count": 23,
   "id": "10f6cce4-0feb-48ce-8a31-c7fc64705661",
   "metadata": {},
   "outputs": [
    {
     "data": {
      "text/plain": [
       "0.15336492689496836"
      ]
     },
     "execution_count": 23,
     "metadata": {},
     "output_type": "execute_result"
    }
   ],
   "source": [
    "tcase_for_pop = covdf2[\"JHU_ConfirmedCases.data\"].max()/covdf2[\"latestTotalPopulation\"].max()\n",
    "tcase_for_pop"
   ]
  },
  {
   "cell_type": "code",
   "execution_count": 24,
   "id": "a456e966-5549-438b-b262-d9e0e3748645",
   "metadata": {
    "tags": []
   },
   "outputs": [
    {
     "name": "stdout",
     "output_type": "stream",
     "text": [
      "given the estimate of 0.16666666666666666 from the nyt, we found a case rate of 0.15336492689496836 for the population of Jefferson county\n"
     ]
    }
   ],
   "source": [
    "print(f\"given the estimate of {1/6} from the nyt, we found a case rate of {tcase_for_pop} for the population of Jefferson county\")"
   ]
  },
  {
   "cell_type": "markdown",
   "id": "dd113653-ce23-4c1b-b88b-9111895c007b",
   "metadata": {},
   "source": [
    "### Simplistic rolling averages\n",
    "\n",
    "It is agreed that No2 has an effect on the immune system but estimates of the duration of that impact vary."
   ]
  },
  {
   "cell_type": "code",
   "execution_count": 25,
   "id": "0d903d61-9f98-410b-b56b-87a47a5b5783",
   "metadata": {},
   "outputs": [
    {
     "ename": "TypeError",
     "evalue": "'float' object is not subscriptable",
     "output_type": "error",
     "traceback": [
      "\u001b[1;31m---------------------------------------------------------------------------\u001b[0m",
      "\u001b[1;31mTypeError\u001b[0m                                 Traceback (most recent call last)",
      "\u001b[1;32m~\\AppData\\Local\\Temp/ipykernel_16432/2634624325.py\u001b[0m in \u001b[0;36m<module>\u001b[1;34m\u001b[0m\n\u001b[0;32m     10\u001b[0m \u001b[1;32mfor\u001b[0m \u001b[0martup\u001b[0m \u001b[1;32min\u001b[0m \u001b[0mno2_rolling_peak\u001b[0m\u001b[1;33m.\u001b[0m\u001b[0mvalues\u001b[0m\u001b[1;33m:\u001b[0m\u001b[1;33m\u001b[0m\u001b[1;33m\u001b[0m\u001b[0m\n\u001b[0;32m     11\u001b[0m     \u001b[0mtup\u001b[0m \u001b[1;33m=\u001b[0m \u001b[0martup\u001b[0m\u001b[1;33m[\u001b[0m\u001b[1;36m0\u001b[0m\u001b[1;33m]\u001b[0m\u001b[1;33m\u001b[0m\u001b[1;33m\u001b[0m\u001b[0m\n\u001b[1;32m---> 12\u001b[1;33m     \u001b[0mrolling_peaks_dict\u001b[0m\u001b[1;33m[\u001b[0m\u001b[0mtup\u001b[0m\u001b[1;33m[\u001b[0m\u001b[1;36m0\u001b[0m\u001b[1;33m]\u001b[0m\u001b[1;33m]\u001b[0m \u001b[1;33m=\u001b[0m \u001b[0mtup\u001b[0m\u001b[1;33m[\u001b[0m\u001b[1;36m1\u001b[0m\u001b[1;33m]\u001b[0m\u001b[1;33m\u001b[0m\u001b[1;33m\u001b[0m\u001b[0m\n\u001b[0m\u001b[0;32m     13\u001b[0m \u001b[1;33m\u001b[0m\u001b[0m\n\u001b[0;32m     14\u001b[0m \u001b[0mraw_peaks_dict\u001b[0m \u001b[1;33m=\u001b[0m \u001b[1;33m{\u001b[0m\u001b[1;33m}\u001b[0m\u001b[1;33m\u001b[0m\u001b[1;33m\u001b[0m\u001b[0m\n",
      "\u001b[1;31mTypeError\u001b[0m: 'float' object is not subscriptable"
     ]
    }
   ],
   "source": [
    "# getting a rolling average of the no2 concentrations\n",
    "no2_rolling_mean = no2df.groupby(\"fips\")[['Arithmetic Mean']].rolling(window=7).mean()\n",
    "no2_rolling_weakly = no2df.groupby(\"fips\")[['Arithmetic Mean']].rolling(window=7).mean()\n",
    "no2_rolling_peak = no2_rolling_mean.groupby(\"fips\").idxmax()\n",
    "\n",
    "no2_raw_peak = no2df.groupby(\"fips\")[['Arithmetic Mean']].idxmax()\n",
    "\n",
    "rolling_peaks_dict = {}\n",
    "\n",
    "for artup in no2_rolling_peak.values:\n",
    "    tup = artup[0]\n",
    "    rolling_peaks_dict[tup[0]] = tup[1]\n",
    "\n",
    "raw_peaks_dict = {}\n",
    "for tup in no2_raw_peak.itertuples():\n",
    "    raw_peaks_dict[tup[0]] = tup[1]"
   ]
  },
  {
   "cell_type": "code",
   "execution_count": 26,
   "id": "23ef443e-56f3-4840-b5d4-d97cc1722a97",
   "metadata": {},
   "outputs": [
    {
     "data": {
      "text/html": [
       "<div>\n",
       "<style scoped>\n",
       "    .dataframe tbody tr th:only-of-type {\n",
       "        vertical-align: middle;\n",
       "    }\n",
       "\n",
       "    .dataframe tbody tr th {\n",
       "        vertical-align: top;\n",
       "    }\n",
       "\n",
       "    .dataframe thead th {\n",
       "        text-align: right;\n",
       "    }\n",
       "</style>\n",
       "<table border=\"1\" class=\"dataframe\">\n",
       "  <thead>\n",
       "    <tr style=\"text-align: right;\">\n",
       "      <th></th>\n",
       "      <th></th>\n",
       "      <th>Arithmetic Mean</th>\n",
       "    </tr>\n",
       "    <tr>\n",
       "      <th>fips</th>\n",
       "      <th>Date Local</th>\n",
       "      <th></th>\n",
       "    </tr>\n",
       "  </thead>\n",
       "  <tbody>\n",
       "    <tr>\n",
       "      <th rowspan=\"5\" valign=\"top\">01073</th>\n",
       "      <th>2020-01-01</th>\n",
       "      <td>NaN</td>\n",
       "    </tr>\n",
       "    <tr>\n",
       "      <th>2020-01-02</th>\n",
       "      <td>NaN</td>\n",
       "    </tr>\n",
       "    <tr>\n",
       "      <th>2020-01-03</th>\n",
       "      <td>NaN</td>\n",
       "    </tr>\n",
       "    <tr>\n",
       "      <th>2020-01-04</th>\n",
       "      <td>NaN</td>\n",
       "    </tr>\n",
       "    <tr>\n",
       "      <th>2020-01-05</th>\n",
       "      <td>NaN</td>\n",
       "    </tr>\n",
       "  </tbody>\n",
       "</table>\n",
       "</div>"
      ],
      "text/plain": [
       "                  Arithmetic Mean\n",
       "fips  Date Local                 \n",
       "01073 2020-01-01              NaN\n",
       "      2020-01-02              NaN\n",
       "      2020-01-03              NaN\n",
       "      2020-01-04              NaN\n",
       "      2020-01-05              NaN"
      ]
     },
     "execution_count": 26,
     "metadata": {},
     "output_type": "execute_result"
    }
   ],
   "source": [
    "no2_rolling_weakly.head()"
   ]
  },
  {
   "cell_type": "code",
   "execution_count": 27,
   "id": "120020e6-abe4-46d9-840f-4585ef4a692c",
   "metadata": {},
   "outputs": [],
   "source": [
    "no2_week_rolldf = no2_rolling_weakly.reset_index().set_index(\"Date Local\")"
   ]
  },
  {
   "cell_type": "code",
   "execution_count": 49,
   "id": "53e40e59-4bf9-46ec-a45b-28390caa457e",
   "metadata": {},
   "outputs": [
    {
     "data": {
      "text/plain": [
       "[<matplotlib.lines.Line2D at 0x1f47540b880>]"
      ]
     },
     "execution_count": 49,
     "metadata": {},
     "output_type": "execute_result"
    },
    {
     "data": {
      "image/png": "[encoded data removed]",
      "text/plain": [
       "<Figure size 2000x800 with 2 Axes>"
      ]
     },
     "metadata": {
      "needs_background": "light"
     },
     "output_type": "display_data"
    }
   ],
   "source": [
    "fig, axs = plt.subplots(2,1,figsize =(20,8), sharex=True)\n",
    "tfip = \"06001\"\n",
    "cov_df = load_and_augment_fips(tfip)\n",
    "\n",
    "# axs.set_title(\"NO2 raw data for Navarro Texas\")\n",
    "axs[1].plot(no2df[no2df['fips']==tfip].loc['2020-6-01':]['Arithmetic Mean'],'r')\n",
    "axs[0].plot(cov_df.loc['2020-6-01':'2021-01-01']['1wkroll'])\n",
    "# axs[1].plot(no2_week_rolldf[no2_week_rolldf['fips']==tfip].loc['2020-6-01':]['Arithmetic Mean'],'r')"
   ]
  },
  {
   "cell_type": "markdown",
   "id": "48fde5c0-f47b-4d85-9d5d-709b8f1a4538",
   "metadata": {
    "tags": []
   },
   "source": [
    "### Our (estimated) threshold compared to the data\n",
    "\n",
    "We selected a threshold of 15 ppb above each county's yearly average concentration. It should be noted that in animal trials, some effects has been observed from exposure to as little as 5ppb, however the immunosupressive aspect is less prominant in these concentrations. The antibody titers had not changed in the animals but there was a decline in the production of antibody-forming cells but no other immune metric saw a change https://pubmed.ncbi.nlm.nih.gov/3959113/"
   ]
  },
  {
   "cell_type": "code",
   "execution_count": 30,
   "id": "092118ab-934e-426a-88e2-0d54253c9977",
   "metadata": {
    "tags": []
   },
   "outputs": [
    {
     "data": {
      "text/plain": [
       "fips\n",
       "01073    4.678560\n",
       "04013    6.425989\n",
       "04019    3.936105\n",
       "05035    3.790456\n",
       "05119    3.877636\n",
       "06001    5.764433\n",
       "06007    3.266836\n",
       "06013    3.525177\n",
       "06019    5.229202\n",
       "06023    1.469440\n",
       "Name: Arithmetic Mean, dtype: float64"
      ]
     },
     "execution_count": 30,
     "metadata": {},
     "output_type": "execute_result"
    }
   ],
   "source": [
    "# confirming that +15 ppb is actually above the std div\n",
    "stdList = flat_daily_avg.groupby(\"fips\")['Arithmetic Mean'].std()\n",
    "stdList[:10]"
   ]
  },
  {
   "cell_type": "code",
   "execution_count": 31,
   "id": "201a9992-27cd-411b-b738-325cd613e7d9",
   "metadata": {},
   "outputs": [],
   "source": [
    "def dual_plot(tfip, no2df,rolling_peaks_dict):\n",
    "    elist = []\n",
    "    center_date = rolling_peaks_dict[tfip]\n",
    "    covdf2 = load_and_augment_fips(tfip)       \n",
    "    \n",
    "    fig, axs = plt.subplots(2,1,figsize =(11,8), sharex=True)\n",
    "    no2_vals = no2df[no2df['fips'] == tfip].loc[center_date - offset:center_date+offset][\"Arithmetic Mean\"]\n",
    "    cov_interval = covdf2.loc[center_date - offset:center_date+offset]    \n",
    "    title_text = \"{} daily cases\".format(tfip)\n",
    "    axs[0].set_title(title_text)\n",
    "    axs[0].plot(cov_interval[\"daily_new_cases\"],'b',label=\"daily cases\")\n",
    "    # axs[0].plot(cov_interval[\"daily_new_cases\"].shift(-7,freq=\"D\"),'r', label=\"shifted back 7 days\")\n",
    "    axs[0].legend()\n",
    "    axs[1].plot(no2_vals)\n",
    "    axs[1].set_title(\"NO2 concentrations\")\n",
    "    # fig.update_layout(\n",
    "    #         autosize=False,\n",
    "    #         width=1300,\n",
    "    #         height=1100,)\n",
    "    # fig.savefig(cwd.joinpath(\"no2_images\",\"county_peak_plots\",f\"{tfip}_comparison.jpg\"))\n",
    "    # plt.close()\n"
   ]
  },
  {
   "cell_type": "code",
   "execution_count": 32,
   "id": "63911176-9576-42ca-9ecd-4346c90bafea",
   "metadata": {},
   "outputs": [
    {
     "data": {
      "image/png": "[encoded data removed]",
      "text/plain": [
       "<Figure size 1100x800 with 2 Axes>"
      ]
     },
     "metadata": {
      "needs_background": "light"
     },
     "output_type": "display_data"
    }
   ],
   "source": [
    "dual_plot('06001', no2df, rolling_peaks_dict)"
   ]
  },
  {
   "cell_type": "code",
   "execution_count": 33,
   "id": "e52a977e-78c7-451e-b05f-de1ece442ab0",
   "metadata": {},
   "outputs": [
    {
     "data": {
      "text/plain": [
       "{1744: {'Date Local': Timestamp('2020-01-08 00:00:00'),\n",
       "  'Arithmetic Mean': 30.13},\n",
       " 85413: {'Date Local': Timestamp('2020-12-10 00:00:00'),\n",
       "  'Arithmetic Mean': 25.422916999999998}}"
      ]
     },
     "execution_count": 33,
     "metadata": {},
     "output_type": "execute_result"
    }
   ],
   "source": [
    "reflist= list(to_cross_ref.values())\n",
    "reflist[0]"
   ]
  },
  {
   "cell_type": "code",
   "execution_count": 34,
   "id": "1ecbf7ea-4319-40f7-8ba6-0e2954211c43",
   "metadata": {},
   "outputs": [],
   "source": [
    "cref_keys = list(to_cross_ref.keys())"
   ]
  },
  {
   "cell_type": "markdown",
   "id": "74281dc0-39cb-4f6c-a925-ac5843d1f41d",
   "metadata": {},
   "source": [
    "# Correlations"
   ]
  },
  {
   "cell_type": "markdown",
   "id": "a74e828a-c255-42d5-8039-889887f7fade",
   "metadata": {},
   "source": [
    "## Raw Correlations"
   ]
  },
  {
   "cell_type": "code",
   "execution_count": 35,
   "id": "b0f15650-b1bd-44a5-8265-c552e6d6c155",
   "metadata": {},
   "outputs": [],
   "source": [
    "# no2df\n",
    "\n",
    "cdf = load_and_augment_fips(cref_keys[4])\n",
    "# target pollution dataframe = tpdf\n",
    "tpdf=no2df[no2df['fips'] == cref_keys[4]].copy() # ensure we can manipulate as needed\n",
    "cor_df = tpdf.join(cdf,lsuffix=\"_L\", rsuffix=\"_R\")"
   ]
  },
  {
   "cell_type": "code",
   "execution_count": 36,
   "id": "0279fd60-a3c7-4fea-9b96-323ff219e7c5",
   "metadata": {},
   "outputs": [
    {
     "data": {
      "text/html": [
       "<div>\n",
       "<style scoped>\n",
       "    .dataframe tbody tr th:only-of-type {\n",
       "        vertical-align: middle;\n",
       "    }\n",
       "\n",
       "    .dataframe tbody tr th {\n",
       "        vertical-align: top;\n",
       "    }\n",
       "\n",
       "    .dataframe thead th {\n",
       "        text-align: right;\n",
       "    }\n",
       "</style>\n",
       "<table border=\"1\" class=\"dataframe\">\n",
       "  <thead>\n",
       "    <tr style=\"text-align: right;\">\n",
       "      <th></th>\n",
       "      <th>fips_L</th>\n",
       "      <th>Arithmetic Mean</th>\n",
       "      <th>1st Max Value</th>\n",
       "      <th>AQI</th>\n",
       "      <th>fips_R</th>\n",
       "      <th>daily_new_cases</th>\n",
       "      <th>daily_new_deaths</th>\n",
       "      <th>1wkroll</th>\n",
       "      <th>JHU_ConfirmedCases.data</th>\n",
       "      <th>JHU_ConfirmedDeaths.data</th>\n",
       "      <th>latestTotalPopulation</th>\n",
       "      <th>total_cases_per_100k</th>\n",
       "      <th>deaths_per_cases</th>\n",
       "    </tr>\n",
       "    <tr>\n",
       "      <th>Date Local</th>\n",
       "      <th></th>\n",
       "      <th></th>\n",
       "      <th></th>\n",
       "      <th></th>\n",
       "      <th></th>\n",
       "      <th></th>\n",
       "      <th></th>\n",
       "      <th></th>\n",
       "      <th></th>\n",
       "      <th></th>\n",
       "      <th></th>\n",
       "      <th></th>\n",
       "      <th></th>\n",
       "    </tr>\n",
       "  </thead>\n",
       "  <tbody>\n",
       "    <tr>\n",
       "      <th>2020-01-01</th>\n",
       "      <td>05119</td>\n",
       "      <td>12.637500</td>\n",
       "      <td>28.9</td>\n",
       "      <td>26</td>\n",
       "      <td>05119</td>\n",
       "      <td>NaN</td>\n",
       "      <td>NaN</td>\n",
       "      <td>NaN</td>\n",
       "      <td>0.0</td>\n",
       "      <td>0.0</td>\n",
       "      <td>391911.0</td>\n",
       "      <td>0.0</td>\n",
       "      <td>0.0</td>\n",
       "    </tr>\n",
       "    <tr>\n",
       "      <th>2020-01-02</th>\n",
       "      <td>05119</td>\n",
       "      <td>11.736364</td>\n",
       "      <td>23.5</td>\n",
       "      <td>22</td>\n",
       "      <td>05119</td>\n",
       "      <td>0.0</td>\n",
       "      <td>0.0</td>\n",
       "      <td>NaN</td>\n",
       "      <td>0.0</td>\n",
       "      <td>0.0</td>\n",
       "      <td>391911.0</td>\n",
       "      <td>0.0</td>\n",
       "      <td>0.0</td>\n",
       "    </tr>\n",
       "    <tr>\n",
       "      <th>2020-01-03</th>\n",
       "      <td>05119</td>\n",
       "      <td>5.033333</td>\n",
       "      <td>9.5</td>\n",
       "      <td>8</td>\n",
       "      <td>05119</td>\n",
       "      <td>0.0</td>\n",
       "      <td>0.0</td>\n",
       "      <td>NaN</td>\n",
       "      <td>0.0</td>\n",
       "      <td>0.0</td>\n",
       "      <td>391911.0</td>\n",
       "      <td>0.0</td>\n",
       "      <td>0.0</td>\n",
       "    </tr>\n",
       "    <tr>\n",
       "      <th>2020-01-04</th>\n",
       "      <td>05119</td>\n",
       "      <td>6.541667</td>\n",
       "      <td>31.1</td>\n",
       "      <td>29</td>\n",
       "      <td>05119</td>\n",
       "      <td>0.0</td>\n",
       "      <td>0.0</td>\n",
       "      <td>NaN</td>\n",
       "      <td>0.0</td>\n",
       "      <td>0.0</td>\n",
       "      <td>391911.0</td>\n",
       "      <td>0.0</td>\n",
       "      <td>0.0</td>\n",
       "    </tr>\n",
       "    <tr>\n",
       "      <th>2020-01-05</th>\n",
       "      <td>05119</td>\n",
       "      <td>12.566667</td>\n",
       "      <td>26.3</td>\n",
       "      <td>25</td>\n",
       "      <td>05119</td>\n",
       "      <td>0.0</td>\n",
       "      <td>0.0</td>\n",
       "      <td>NaN</td>\n",
       "      <td>0.0</td>\n",
       "      <td>0.0</td>\n",
       "      <td>391911.0</td>\n",
       "      <td>0.0</td>\n",
       "      <td>0.0</td>\n",
       "    </tr>\n",
       "  </tbody>\n",
       "</table>\n",
       "</div>"
      ],
      "text/plain": [
       "           fips_L  Arithmetic Mean  1st Max Value  AQI fips_R  daily_new_cases  daily_new_deaths  1wkroll  JHU_ConfirmedCases.data  JHU_ConfirmedDeaths.data  latestTotalPopulation  total_cases_per_100k  deaths_per_cases\n",
       "Date Local                                                                                                                                                                                                                 \n",
       "2020-01-01  05119        12.637500           28.9   26  05119              NaN               NaN      NaN                      0.0                       0.0               391911.0                   0.0               0.0\n",
       "2020-01-02  05119        11.736364           23.5   22  05119              0.0               0.0      NaN                      0.0                       0.0               391911.0                   0.0               0.0\n",
       "2020-01-03  05119         5.033333            9.5    8  05119              0.0               0.0      NaN                      0.0                       0.0               391911.0                   0.0               0.0\n",
       "2020-01-04  05119         6.541667           31.1   29  05119              0.0               0.0      NaN                      0.0                       0.0               391911.0                   0.0               0.0\n",
       "2020-01-05  05119        12.566667           26.3   25  05119              0.0               0.0      NaN                      0.0                       0.0               391911.0                   0.0               0.0"
      ]
     },
     "execution_count": 36,
     "metadata": {},
     "output_type": "execute_result"
    }
   ],
   "source": [
    "cor_df.head()"
   ]
  },
  {
   "cell_type": "code",
   "execution_count": 37,
   "id": "f44077ba-8679-4d9a-b0f7-385657d067c8",
   "metadata": {},
   "outputs": [],
   "source": [
    "cor_df.drop(['fips_L','fips_R','latestTotalPopulation'],axis=1,inplace=True)"
   ]
  },
  {
   "cell_type": "code",
   "execution_count": 38,
   "id": "ab0b03fb-a71b-4c04-9755-c6fce669b259",
   "metadata": {},
   "outputs": [
    {
     "data": {
      "text/html": [
       "<div>\n",
       "<style scoped>\n",
       "    .dataframe tbody tr th:only-of-type {\n",
       "        vertical-align: middle;\n",
       "    }\n",
       "\n",
       "    .dataframe tbody tr th {\n",
       "        vertical-align: top;\n",
       "    }\n",
       "\n",
       "    .dataframe thead th {\n",
       "        text-align: right;\n",
       "    }\n",
       "</style>\n",
       "<table border=\"1\" class=\"dataframe\">\n",
       "  <thead>\n",
       "    <tr style=\"text-align: right;\">\n",
       "      <th></th>\n",
       "      <th>Arithmetic Mean</th>\n",
       "      <th>1st Max Value</th>\n",
       "      <th>AQI</th>\n",
       "      <th>daily_new_cases</th>\n",
       "      <th>daily_new_deaths</th>\n",
       "      <th>1wkroll</th>\n",
       "      <th>JHU_ConfirmedCases.data</th>\n",
       "      <th>JHU_ConfirmedDeaths.data</th>\n",
       "      <th>total_cases_per_100k</th>\n",
       "      <th>deaths_per_cases</th>\n",
       "    </tr>\n",
       "  </thead>\n",
       "  <tbody>\n",
       "    <tr>\n",
       "      <th>Arithmetic Mean</th>\n",
       "      <td>1.000000</td>\n",
       "      <td>0.824795</td>\n",
       "      <td>0.822294</td>\n",
       "      <td>0.192969</td>\n",
       "      <td>0.136487</td>\n",
       "      <td>0.224025</td>\n",
       "      <td>0.239878</td>\n",
       "      <td>0.235991</td>\n",
       "      <td>0.239878</td>\n",
       "      <td>-0.252937</td>\n",
       "    </tr>\n",
       "    <tr>\n",
       "      <th>1st Max Value</th>\n",
       "      <td>0.824795</td>\n",
       "      <td>1.000000</td>\n",
       "      <td>0.998902</td>\n",
       "      <td>0.110580</td>\n",
       "      <td>0.046509</td>\n",
       "      <td>0.157150</td>\n",
       "      <td>0.228758</td>\n",
       "      <td>0.222301</td>\n",
       "      <td>0.228758</td>\n",
       "      <td>-0.211751</td>\n",
       "    </tr>\n",
       "    <tr>\n",
       "      <th>AQI</th>\n",
       "      <td>0.822294</td>\n",
       "      <td>0.998902</td>\n",
       "      <td>1.000000</td>\n",
       "      <td>0.113076</td>\n",
       "      <td>0.047419</td>\n",
       "      <td>0.157322</td>\n",
       "      <td>0.228856</td>\n",
       "      <td>0.222372</td>\n",
       "      <td>0.228856</td>\n",
       "      <td>-0.214951</td>\n",
       "    </tr>\n",
       "    <tr>\n",
       "      <th>daily_new_cases</th>\n",
       "      <td>0.192969</td>\n",
       "      <td>0.110580</td>\n",
       "      <td>0.113076</td>\n",
       "      <td>1.000000</td>\n",
       "      <td>0.445556</td>\n",
       "      <td>0.636134</td>\n",
       "      <td>0.342490</td>\n",
       "      <td>0.338872</td>\n",
       "      <td>0.342490</td>\n",
       "      <td>0.022335</td>\n",
       "    </tr>\n",
       "    <tr>\n",
       "      <th>daily_new_deaths</th>\n",
       "      <td>0.136487</td>\n",
       "      <td>0.046509</td>\n",
       "      <td>0.047419</td>\n",
       "      <td>0.445556</td>\n",
       "      <td>1.000000</td>\n",
       "      <td>0.427733</td>\n",
       "      <td>0.346763</td>\n",
       "      <td>0.352212</td>\n",
       "      <td>0.346763</td>\n",
       "      <td>0.064365</td>\n",
       "    </tr>\n",
       "    <tr>\n",
       "      <th>1wkroll</th>\n",
       "      <td>0.224025</td>\n",
       "      <td>0.157150</td>\n",
       "      <td>0.157322</td>\n",
       "      <td>0.636134</td>\n",
       "      <td>0.427733</td>\n",
       "      <td>1.000000</td>\n",
       "      <td>0.580560</td>\n",
       "      <td>0.573934</td>\n",
       "      <td>0.580560</td>\n",
       "      <td>0.010104</td>\n",
       "    </tr>\n",
       "    <tr>\n",
       "      <th>JHU_ConfirmedCases.data</th>\n",
       "      <td>0.239878</td>\n",
       "      <td>0.228758</td>\n",
       "      <td>0.228856</td>\n",
       "      <td>0.342490</td>\n",
       "      <td>0.346763</td>\n",
       "      <td>0.580560</td>\n",
       "      <td>1.000000</td>\n",
       "      <td>0.998458</td>\n",
       "      <td>1.000000</td>\n",
       "      <td>-0.029490</td>\n",
       "    </tr>\n",
       "    <tr>\n",
       "      <th>JHU_ConfirmedDeaths.data</th>\n",
       "      <td>0.235991</td>\n",
       "      <td>0.222301</td>\n",
       "      <td>0.222372</td>\n",
       "      <td>0.338872</td>\n",
       "      <td>0.352212</td>\n",
       "      <td>0.573934</td>\n",
       "      <td>0.998458</td>\n",
       "      <td>1.000000</td>\n",
       "      <td>0.998458</td>\n",
       "      <td>-0.001165</td>\n",
       "    </tr>\n",
       "    <tr>\n",
       "      <th>total_cases_per_100k</th>\n",
       "      <td>0.239878</td>\n",
       "      <td>0.228758</td>\n",
       "      <td>0.228856</td>\n",
       "      <td>0.342490</td>\n",
       "      <td>0.346763</td>\n",
       "      <td>0.580560</td>\n",
       "      <td>1.000000</td>\n",
       "      <td>0.998458</td>\n",
       "      <td>1.000000</td>\n",
       "      <td>-0.029490</td>\n",
       "    </tr>\n",
       "    <tr>\n",
       "      <th>deaths_per_cases</th>\n",
       "      <td>-0.252937</td>\n",
       "      <td>-0.211751</td>\n",
       "      <td>-0.214951</td>\n",
       "      <td>0.022335</td>\n",
       "      <td>0.064365</td>\n",
       "      <td>0.010104</td>\n",
       "      <td>-0.029490</td>\n",
       "      <td>-0.001165</td>\n",
       "      <td>-0.029490</td>\n",
       "      <td>1.000000</td>\n",
       "    </tr>\n",
       "  </tbody>\n",
       "</table>\n",
       "</div>"
      ],
      "text/plain": [
       "                          Arithmetic Mean  1st Max Value       AQI  daily_new_cases  daily_new_deaths   1wkroll  JHU_ConfirmedCases.data  JHU_ConfirmedDeaths.data  total_cases_per_100k  deaths_per_cases\n",
       "Arithmetic Mean                  1.000000       0.824795  0.822294         0.192969          0.136487  0.224025                 0.239878                  0.235991              0.239878         -0.252937\n",
       "1st Max Value                    0.824795       1.000000  0.998902         0.110580          0.046509  0.157150                 0.228758                  0.222301              0.228758         -0.211751\n",
       "AQI                              0.822294       0.998902  1.000000         0.113076          0.047419  0.157322                 0.228856                  0.222372              0.228856         -0.214951\n",
       "daily_new_cases                  0.192969       0.110580  0.113076         1.000000          0.445556  0.636134                 0.342490                  0.338872              0.342490          0.022335\n",
       "daily_new_deaths                 0.136487       0.046509  0.047419         0.445556          1.000000  0.427733                 0.346763                  0.352212              0.346763          0.064365\n",
       "1wkroll                          0.224025       0.157150  0.157322         0.636134          0.427733  1.000000                 0.580560                  0.573934              0.580560          0.010104\n",
       "JHU_ConfirmedCases.data          0.239878       0.228758  0.228856         0.342490          0.346763  0.580560                 1.000000                  0.998458              1.000000         -0.029490\n",
       "JHU_ConfirmedDeaths.data         0.235991       0.222301  0.222372         0.338872          0.352212  0.573934                 0.998458                  1.000000              0.998458         -0.001165\n",
       "total_cases_per_100k             0.239878       0.228758  0.228856         0.342490          0.346763  0.580560                 1.000000                  0.998458              1.000000         -0.029490\n",
       "deaths_per_cases                -0.252937      -0.211751 -0.214951         0.022335          0.064365  0.010104                -0.029490                 -0.001165             -0.029490          1.000000"
      ]
     },
     "execution_count": 38,
     "metadata": {},
     "output_type": "execute_result"
    }
   ],
   "source": [
    "cor_df.corr()"
   ]
  },
  {
   "cell_type": "markdown",
   "id": "524d50d4-31be-4289-bf19-8ca29f97b46a",
   "metadata": {},
   "source": [
    "### Low correlation values\n",
    "\n",
    "It's my suspision that the relatively low correlation values we see here are due in part to the fact the no2 levels vary during the period prior to the area in question seeing a covid case."
   ]
  },
  {
   "cell_type": "code",
   "execution_count": 39,
   "id": "c57c6a4e-4477-42bf-8a95-669351ed882c",
   "metadata": {},
   "outputs": [
    {
     "data": {
      "text/plain": [
       "Text(0.5, 1.0, 'NO2 concentrations')"
      ]
     },
     "execution_count": 39,
     "metadata": {},
     "output_type": "execute_result"
    },
    {
     "data": {
      "image/png": "[encoded data removed]",
      "text/plain": [
       "<Figure size 1000x800 with 2 Axes>"
      ]
     },
     "metadata": {
      "needs_background": "light"
     },
     "output_type": "display_data"
    }
   ],
   "source": [
    "import matplotlib.collections as collections\n",
    "tfip = \"06001\"\n",
    "covdf = load_and_augment_fips(tfip)\n",
    "covdf2 = covdf.loc[:'2020-05-30']\n",
    "fig, axs = plt.subplots(2,1,figsize =(10,8), sharex=True)\n",
    "no2_vals =no2df[no2df['fips'] == tfip][\"Arithmetic Mean\"].loc[:'2020-05-30']\n",
    "covid_title_text = \"{} daily cases\".format(get_county_from_fips(tfip))\n",
    "\n",
    "axs[0].set_title(covid_title_text)\n",
    "axs[0].plot(covdf2[\"daily_new_cases\"],'b',label=\"daily cases\")\n",
    "axs[0].annotate('Problem region',\n",
    "            xy=(pd.to_datetime('2020-01-30'), 3), xycoords='data',\n",
    "            xytext=(0.2, 0.5), textcoords='axes fraction',\n",
    "            arrowprops=dict(facecolor='black',shrink=0.05),\n",
    "             horizontalalignment='center', verticalalignment='top',fontsize = 15)\n",
    "axs[1].plot(no2_vals)\n",
    "axs[1].set_title(\"NO2 concentrations\")\n"
   ]
  },
  {
   "cell_type": "markdown",
   "id": "011cd677-1c45-429e-867d-017f2af69710",
   "metadata": {},
   "source": [
    "So we will cut out the dates leading up to march from both datasets. That way we are not attempting to correlate prior to the effect being present."
   ]
  },
  {
   "cell_type": "code",
   "execution_count": 40,
   "id": "7294dd3d-527a-40cb-b87d-7ccdd68c04ae",
   "metadata": {},
   "outputs": [],
   "source": [
    "tempdf = load_and_augment_fips(cref_keys[4])\n",
    "tightdf = tempdf.loc['2020-05-20':'2021-03-01']\n",
    "narrow_covid = tightdf.drop([\"fips\",\"latestTotalPopulation\"], axis =1)\n",
    "tno2 = no2df[no2df['fips'] == cref_keys[4]].copy()\n",
    "tno2 = tno2.loc['2020-05-20':'2021-03-01']\n",
    "\n",
    "tight_correlation = tno2.join(tightdf,lsuffix=\"_L\", rsuffix=\"_R\")"
   ]
  },
  {
   "cell_type": "code",
   "execution_count": 41,
   "id": "10c9c06e-3340-40fc-a516-08c79728360f",
   "metadata": {},
   "outputs": [
    {
     "data": {
      "text/html": [
       "<div>\n",
       "<style scoped>\n",
       "    .dataframe tbody tr th:only-of-type {\n",
       "        vertical-align: middle;\n",
       "    }\n",
       "\n",
       "    .dataframe tbody tr th {\n",
       "        vertical-align: top;\n",
       "    }\n",
       "\n",
       "    .dataframe thead th {\n",
       "        text-align: right;\n",
       "    }\n",
       "</style>\n",
       "<table border=\"1\" class=\"dataframe\">\n",
       "  <thead>\n",
       "    <tr style=\"text-align: right;\">\n",
       "      <th></th>\n",
       "      <th>Arithmetic Mean</th>\n",
       "      <th>1st Max Value</th>\n",
       "      <th>AQI</th>\n",
       "      <th>daily_new_cases</th>\n",
       "      <th>daily_new_deaths</th>\n",
       "      <th>1wkroll</th>\n",
       "      <th>JHU_ConfirmedCases.data</th>\n",
       "      <th>JHU_ConfirmedDeaths.data</th>\n",
       "      <th>latestTotalPopulation</th>\n",
       "      <th>total_cases_per_100k</th>\n",
       "      <th>deaths_per_cases</th>\n",
       "    </tr>\n",
       "  </thead>\n",
       "  <tbody>\n",
       "    <tr>\n",
       "      <th>Arithmetic Mean</th>\n",
       "      <td>1.000000</td>\n",
       "      <td>0.833260</td>\n",
       "      <td>0.830373</td>\n",
       "      <td>0.236470</td>\n",
       "      <td>0.159825</td>\n",
       "      <td>0.291976</td>\n",
       "      <td>0.326344</td>\n",
       "      <td>0.335850</td>\n",
       "      <td>NaN</td>\n",
       "      <td>0.326344</td>\n",
       "      <td>-0.243483</td>\n",
       "    </tr>\n",
       "    <tr>\n",
       "      <th>1st Max Value</th>\n",
       "      <td>0.833260</td>\n",
       "      <td>1.000000</td>\n",
       "      <td>0.998885</td>\n",
       "      <td>0.150550</td>\n",
       "      <td>0.054296</td>\n",
       "      <td>0.215411</td>\n",
       "      <td>0.271045</td>\n",
       "      <td>0.273467</td>\n",
       "      <td>NaN</td>\n",
       "      <td>0.271045</td>\n",
       "      <td>-0.220100</td>\n",
       "    </tr>\n",
       "    <tr>\n",
       "      <th>AQI</th>\n",
       "      <td>0.830373</td>\n",
       "      <td>0.998885</td>\n",
       "      <td>1.000000</td>\n",
       "      <td>0.154376</td>\n",
       "      <td>0.056238</td>\n",
       "      <td>0.215736</td>\n",
       "      <td>0.271765</td>\n",
       "      <td>0.274224</td>\n",
       "      <td>NaN</td>\n",
       "      <td>0.271765</td>\n",
       "      <td>-0.220085</td>\n",
       "    </tr>\n",
       "    <tr>\n",
       "      <th>daily_new_cases</th>\n",
       "      <td>0.236470</td>\n",
       "      <td>0.150550</td>\n",
       "      <td>0.154376</td>\n",
       "      <td>1.000000</td>\n",
       "      <td>0.400499</td>\n",
       "      <td>0.554820</td>\n",
       "      <td>0.343062</td>\n",
       "      <td>0.337933</td>\n",
       "      <td>NaN</td>\n",
       "      <td>0.343062</td>\n",
       "      <td>-0.257245</td>\n",
       "    </tr>\n",
       "    <tr>\n",
       "      <th>daily_new_deaths</th>\n",
       "      <td>0.159825</td>\n",
       "      <td>0.054296</td>\n",
       "      <td>0.056238</td>\n",
       "      <td>0.400499</td>\n",
       "      <td>1.000000</td>\n",
       "      <td>0.367004</td>\n",
       "      <td>0.262473</td>\n",
       "      <td>0.267916</td>\n",
       "      <td>NaN</td>\n",
       "      <td>0.262473</td>\n",
       "      <td>-0.166982</td>\n",
       "    </tr>\n",
       "    <tr>\n",
       "      <th>1wkroll</th>\n",
       "      <td>0.291976</td>\n",
       "      <td>0.215411</td>\n",
       "      <td>0.215736</td>\n",
       "      <td>0.554820</td>\n",
       "      <td>0.367004</td>\n",
       "      <td>1.000000</td>\n",
       "      <td>0.681029</td>\n",
       "      <td>0.672009</td>\n",
       "      <td>NaN</td>\n",
       "      <td>0.681029</td>\n",
       "      <td>-0.499140</td>\n",
       "    </tr>\n",
       "    <tr>\n",
       "      <th>JHU_ConfirmedCases.data</th>\n",
       "      <td>0.326344</td>\n",
       "      <td>0.271045</td>\n",
       "      <td>0.271765</td>\n",
       "      <td>0.343062</td>\n",
       "      <td>0.262473</td>\n",
       "      <td>0.681029</td>\n",
       "      <td>1.000000</td>\n",
       "      <td>0.998061</td>\n",
       "      <td>NaN</td>\n",
       "      <td>1.000000</td>\n",
       "      <td>-0.545556</td>\n",
       "    </tr>\n",
       "    <tr>\n",
       "      <th>JHU_ConfirmedDeaths.data</th>\n",
       "      <td>0.335850</td>\n",
       "      <td>0.273467</td>\n",
       "      <td>0.274224</td>\n",
       "      <td>0.337933</td>\n",
       "      <td>0.267916</td>\n",
       "      <td>0.672009</td>\n",
       "      <td>0.998061</td>\n",
       "      <td>1.000000</td>\n",
       "      <td>NaN</td>\n",
       "      <td>0.998061</td>\n",
       "      <td>-0.522867</td>\n",
       "    </tr>\n",
       "    <tr>\n",
       "      <th>latestTotalPopulation</th>\n",
       "      <td>NaN</td>\n",
       "      <td>NaN</td>\n",
       "      <td>NaN</td>\n",
       "      <td>NaN</td>\n",
       "      <td>NaN</td>\n",
       "      <td>NaN</td>\n",
       "      <td>NaN</td>\n",
       "      <td>NaN</td>\n",
       "      <td>NaN</td>\n",
       "      <td>NaN</td>\n",
       "      <td>NaN</td>\n",
       "    </tr>\n",
       "    <tr>\n",
       "      <th>total_cases_per_100k</th>\n",
       "      <td>0.326344</td>\n",
       "      <td>0.271045</td>\n",
       "      <td>0.271765</td>\n",
       "      <td>0.343062</td>\n",
       "      <td>0.262473</td>\n",
       "      <td>0.681029</td>\n",
       "      <td>1.000000</td>\n",
       "      <td>0.998061</td>\n",
       "      <td>NaN</td>\n",
       "      <td>1.000000</td>\n",
       "      <td>-0.545556</td>\n",
       "    </tr>\n",
       "    <tr>\n",
       "      <th>deaths_per_cases</th>\n",
       "      <td>-0.243483</td>\n",
       "      <td>-0.220100</td>\n",
       "      <td>-0.220085</td>\n",
       "      <td>-0.257245</td>\n",
       "      <td>-0.166982</td>\n",
       "      <td>-0.499140</td>\n",
       "      <td>-0.545556</td>\n",
       "      <td>-0.522867</td>\n",
       "      <td>NaN</td>\n",
       "      <td>-0.545556</td>\n",
       "      <td>1.000000</td>\n",
       "    </tr>\n",
       "  </tbody>\n",
       "</table>\n",
       "</div>"
      ],
      "text/plain": [
       "                          Arithmetic Mean  1st Max Value       AQI  daily_new_cases  daily_new_deaths   1wkroll  JHU_ConfirmedCases.data  JHU_ConfirmedDeaths.data  latestTotalPopulation  total_cases_per_100k  deaths_per_cases\n",
       "Arithmetic Mean                  1.000000       0.833260  0.830373         0.236470          0.159825  0.291976                 0.326344                  0.335850                    NaN              0.326344         -0.243483\n",
       "1st Max Value                    0.833260       1.000000  0.998885         0.150550          0.054296  0.215411                 0.271045                  0.273467                    NaN              0.271045         -0.220100\n",
       "AQI                              0.830373       0.998885  1.000000         0.154376          0.056238  0.215736                 0.271765                  0.274224                    NaN              0.271765         -0.220085\n",
       "daily_new_cases                  0.236470       0.150550  0.154376         1.000000          0.400499  0.554820                 0.343062                  0.337933                    NaN              0.343062         -0.257245\n",
       "daily_new_deaths                 0.159825       0.054296  0.056238         0.400499          1.000000  0.367004                 0.262473                  0.267916                    NaN              0.262473         -0.166982\n",
       "1wkroll                          0.291976       0.215411  0.215736         0.554820          0.367004  1.000000                 0.681029                  0.672009                    NaN              0.681029         -0.499140\n",
       "JHU_ConfirmedCases.data          0.326344       0.271045  0.271765         0.343062          0.262473  0.681029                 1.000000                  0.998061                    NaN              1.000000         -0.545556\n",
       "JHU_ConfirmedDeaths.data         0.335850       0.273467  0.274224         0.337933          0.267916  0.672009                 0.998061                  1.000000                    NaN              0.998061         -0.522867\n",
       "latestTotalPopulation                 NaN            NaN       NaN              NaN               NaN       NaN                      NaN                       NaN                    NaN                   NaN               NaN\n",
       "total_cases_per_100k             0.326344       0.271045  0.271765         0.343062          0.262473  0.681029                 1.000000                  0.998061                    NaN              1.000000         -0.545556\n",
       "deaths_per_cases                -0.243483      -0.220100 -0.220085        -0.257245         -0.166982 -0.499140                -0.545556                 -0.522867                    NaN             -0.545556          1.000000"
      ]
     },
     "execution_count": 41,
     "metadata": {},
     "output_type": "execute_result"
    }
   ],
   "source": [
    "tight_correlation.corr()"
   ]
  },
  {
   "cell_type": "code",
   "execution_count": 42,
   "id": "d8d3e9bd-fe8b-473e-ac2f-d80d0467cba0",
   "metadata": {},
   "outputs": [
    {
     "data": {
      "text/html": [
       "<div>\n",
       "<style scoped>\n",
       "    .dataframe tbody tr th:only-of-type {\n",
       "        vertical-align: middle;\n",
       "    }\n",
       "\n",
       "    .dataframe tbody tr th {\n",
       "        vertical-align: top;\n",
       "    }\n",
       "\n",
       "    .dataframe thead th {\n",
       "        text-align: right;\n",
       "    }\n",
       "</style>\n",
       "<table border=\"1\" class=\"dataframe\">\n",
       "  <thead>\n",
       "    <tr style=\"text-align: right;\">\n",
       "      <th></th>\n",
       "      <th>Arithmetic Mean</th>\n",
       "      <th>1st Max Value</th>\n",
       "      <th>AQI</th>\n",
       "      <th>daily_new_cases</th>\n",
       "      <th>daily_new_deaths</th>\n",
       "      <th>1wkroll</th>\n",
       "      <th>JHU_ConfirmedCases.data</th>\n",
       "      <th>JHU_ConfirmedDeaths.data</th>\n",
       "      <th>latestTotalPopulation</th>\n",
       "      <th>total_cases_per_100k</th>\n",
       "      <th>deaths_per_cases</th>\n",
       "    </tr>\n",
       "  </thead>\n",
       "  <tbody>\n",
       "    <tr>\n",
       "      <th>Arithmetic Mean</th>\n",
       "      <td>1.000000</td>\n",
       "      <td>0.858712</td>\n",
       "      <td>0.858289</td>\n",
       "      <td>0.154337</td>\n",
       "      <td>0.181229</td>\n",
       "      <td>0.311168</td>\n",
       "      <td>0.375408</td>\n",
       "      <td>0.375533</td>\n",
       "      <td>NaN</td>\n",
       "      <td>0.375408</td>\n",
       "      <td>-0.165918</td>\n",
       "    </tr>\n",
       "    <tr>\n",
       "      <th>1st Max Value</th>\n",
       "      <td>0.858712</td>\n",
       "      <td>1.000000</td>\n",
       "      <td>0.999065</td>\n",
       "      <td>0.147712</td>\n",
       "      <td>0.135899</td>\n",
       "      <td>0.249501</td>\n",
       "      <td>0.269779</td>\n",
       "      <td>0.269567</td>\n",
       "      <td>NaN</td>\n",
       "      <td>0.269779</td>\n",
       "      <td>-0.178829</td>\n",
       "    </tr>\n",
       "    <tr>\n",
       "      <th>AQI</th>\n",
       "      <td>0.858289</td>\n",
       "      <td>0.999065</td>\n",
       "      <td>1.000000</td>\n",
       "      <td>0.145735</td>\n",
       "      <td>0.132261</td>\n",
       "      <td>0.248471</td>\n",
       "      <td>0.269003</td>\n",
       "      <td>0.268790</td>\n",
       "      <td>NaN</td>\n",
       "      <td>0.269003</td>\n",
       "      <td>-0.175842</td>\n",
       "    </tr>\n",
       "    <tr>\n",
       "      <th>daily_new_cases</th>\n",
       "      <td>0.154337</td>\n",
       "      <td>0.147712</td>\n",
       "      <td>0.145735</td>\n",
       "      <td>1.000000</td>\n",
       "      <td>0.272409</td>\n",
       "      <td>0.460083</td>\n",
       "      <td>0.254579</td>\n",
       "      <td>0.253091</td>\n",
       "      <td>NaN</td>\n",
       "      <td>0.254579</td>\n",
       "      <td>-0.257137</td>\n",
       "    </tr>\n",
       "    <tr>\n",
       "      <th>daily_new_deaths</th>\n",
       "      <td>0.181229</td>\n",
       "      <td>0.135899</td>\n",
       "      <td>0.132261</td>\n",
       "      <td>0.272409</td>\n",
       "      <td>1.000000</td>\n",
       "      <td>0.299572</td>\n",
       "      <td>0.301212</td>\n",
       "      <td>0.305804</td>\n",
       "      <td>NaN</td>\n",
       "      <td>0.301212</td>\n",
       "      <td>-0.146839</td>\n",
       "    </tr>\n",
       "    <tr>\n",
       "      <th>1wkroll</th>\n",
       "      <td>0.311168</td>\n",
       "      <td>0.249501</td>\n",
       "      <td>0.248471</td>\n",
       "      <td>0.460083</td>\n",
       "      <td>0.299572</td>\n",
       "      <td>1.000000</td>\n",
       "      <td>0.718423</td>\n",
       "      <td>0.717759</td>\n",
       "      <td>NaN</td>\n",
       "      <td>0.718423</td>\n",
       "      <td>-0.446033</td>\n",
       "    </tr>\n",
       "    <tr>\n",
       "      <th>JHU_ConfirmedCases.data</th>\n",
       "      <td>0.375408</td>\n",
       "      <td>0.269779</td>\n",
       "      <td>0.269003</td>\n",
       "      <td>0.254579</td>\n",
       "      <td>0.301212</td>\n",
       "      <td>0.718423</td>\n",
       "      <td>1.000000</td>\n",
       "      <td>0.999921</td>\n",
       "      <td>NaN</td>\n",
       "      <td>1.000000</td>\n",
       "      <td>-0.588603</td>\n",
       "    </tr>\n",
       "    <tr>\n",
       "      <th>JHU_ConfirmedDeaths.data</th>\n",
       "      <td>0.375533</td>\n",
       "      <td>0.269567</td>\n",
       "      <td>0.268790</td>\n",
       "      <td>0.253091</td>\n",
       "      <td>0.305804</td>\n",
       "      <td>0.717759</td>\n",
       "      <td>0.999921</td>\n",
       "      <td>1.000000</td>\n",
       "      <td>NaN</td>\n",
       "      <td>0.999921</td>\n",
       "      <td>-0.587427</td>\n",
       "    </tr>\n",
       "    <tr>\n",
       "      <th>latestTotalPopulation</th>\n",
       "      <td>NaN</td>\n",
       "      <td>NaN</td>\n",
       "      <td>NaN</td>\n",
       "      <td>NaN</td>\n",
       "      <td>NaN</td>\n",
       "      <td>NaN</td>\n",
       "      <td>NaN</td>\n",
       "      <td>NaN</td>\n",
       "      <td>NaN</td>\n",
       "      <td>NaN</td>\n",
       "      <td>NaN</td>\n",
       "    </tr>\n",
       "    <tr>\n",
       "      <th>total_cases_per_100k</th>\n",
       "      <td>0.375408</td>\n",
       "      <td>0.269779</td>\n",
       "      <td>0.269003</td>\n",
       "      <td>0.254579</td>\n",
       "      <td>0.301212</td>\n",
       "      <td>0.718423</td>\n",
       "      <td>1.000000</td>\n",
       "      <td>0.999921</td>\n",
       "      <td>NaN</td>\n",
       "      <td>1.000000</td>\n",
       "      <td>-0.588603</td>\n",
       "    </tr>\n",
       "    <tr>\n",
       "      <th>deaths_per_cases</th>\n",
       "      <td>-0.165918</td>\n",
       "      <td>-0.178829</td>\n",
       "      <td>-0.175842</td>\n",
       "      <td>-0.257137</td>\n",
       "      <td>-0.146839</td>\n",
       "      <td>-0.446033</td>\n",
       "      <td>-0.588603</td>\n",
       "      <td>-0.587427</td>\n",
       "      <td>NaN</td>\n",
       "      <td>-0.588603</td>\n",
       "      <td>1.000000</td>\n",
       "    </tr>\n",
       "  </tbody>\n",
       "</table>\n",
       "</div>"
      ],
      "text/plain": [
       "                          Arithmetic Mean  1st Max Value       AQI  daily_new_cases  daily_new_deaths   1wkroll  JHU_ConfirmedCases.data  JHU_ConfirmedDeaths.data  latestTotalPopulation  total_cases_per_100k  deaths_per_cases\n",
       "Arithmetic Mean                  1.000000       0.858712  0.858289         0.154337          0.181229  0.311168                 0.375408                  0.375533                    NaN              0.375408         -0.165918\n",
       "1st Max Value                    0.858712       1.000000  0.999065         0.147712          0.135899  0.249501                 0.269779                  0.269567                    NaN              0.269779         -0.178829\n",
       "AQI                              0.858289       0.999065  1.000000         0.145735          0.132261  0.248471                 0.269003                  0.268790                    NaN              0.269003         -0.175842\n",
       "daily_new_cases                  0.154337       0.147712  0.145735         1.000000          0.272409  0.460083                 0.254579                  0.253091                    NaN              0.254579         -0.257137\n",
       "daily_new_deaths                 0.181229       0.135899  0.132261         0.272409          1.000000  0.299572                 0.301212                  0.305804                    NaN              0.301212         -0.146839\n",
       "1wkroll                          0.311168       0.249501  0.248471         0.460083          0.299572  1.000000                 0.718423                  0.717759                    NaN              0.718423         -0.446033\n",
       "JHU_ConfirmedCases.data          0.375408       0.269779  0.269003         0.254579          0.301212  0.718423                 1.000000                  0.999921                    NaN              1.000000         -0.588603\n",
       "JHU_ConfirmedDeaths.data         0.375533       0.269567  0.268790         0.253091          0.305804  0.717759                 0.999921                  1.000000                    NaN              0.999921         -0.587427\n",
       "latestTotalPopulation                 NaN            NaN       NaN              NaN               NaN       NaN                      NaN                       NaN                    NaN                   NaN               NaN\n",
       "total_cases_per_100k             0.375408       0.269779  0.269003         0.254579          0.301212  0.718423                 1.000000                  0.999921                    NaN              1.000000         -0.588603\n",
       "deaths_per_cases                -0.165918      -0.178829 -0.175842        -0.257137         -0.146839 -0.446033                -0.588603                 -0.587427                    NaN             -0.588603          1.000000"
      ]
     },
     "execution_count": 42,
     "metadata": {},
     "output_type": "execute_result"
    }
   ],
   "source": [
    "tight_correlation.corr(method='spearman')"
   ]
  },
  {
   "cell_type": "code",
   "execution_count": 43,
   "id": "8865f915-9966-492a-be71-86621a1db140",
   "metadata": {},
   "outputs": [
    {
     "data": {
      "text/html": [
       "<div>\n",
       "<style scoped>\n",
       "    .dataframe tbody tr th:only-of-type {\n",
       "        vertical-align: middle;\n",
       "    }\n",
       "\n",
       "    .dataframe tbody tr th {\n",
       "        vertical-align: top;\n",
       "    }\n",
       "\n",
       "    .dataframe thead th {\n",
       "        text-align: right;\n",
       "    }\n",
       "</style>\n",
       "<table border=\"1\" class=\"dataframe\">\n",
       "  <thead>\n",
       "    <tr style=\"text-align: right;\">\n",
       "      <th></th>\n",
       "      <th>fips</th>\n",
       "      <th>daily_new_cases</th>\n",
       "      <th>daily_new_deaths</th>\n",
       "      <th>1wkroll</th>\n",
       "      <th>JHU_ConfirmedCases.data</th>\n",
       "      <th>JHU_ConfirmedDeaths.data</th>\n",
       "      <th>latestTotalPopulation</th>\n",
       "      <th>total_cases_per_100k</th>\n",
       "      <th>deaths_per_cases</th>\n",
       "    </tr>\n",
       "    <tr>\n",
       "      <th>dates</th>\n",
       "      <th></th>\n",
       "      <th></th>\n",
       "      <th></th>\n",
       "      <th></th>\n",
       "      <th></th>\n",
       "      <th></th>\n",
       "      <th></th>\n",
       "      <th></th>\n",
       "      <th></th>\n",
       "    </tr>\n",
       "  </thead>\n",
       "  <tbody>\n",
       "    <tr>\n",
       "      <th>2020-06-03</th>\n",
       "      <td>05119</td>\n",
       "      <td>34.0</td>\n",
       "      <td>0.0</td>\n",
       "      <td>27.857143</td>\n",
       "      <td>1003.0</td>\n",
       "      <td>35.0</td>\n",
       "      <td>391911.0</td>\n",
       "      <td>255.925452</td>\n",
       "      <td>0.034895</td>\n",
       "    </tr>\n",
       "    <tr>\n",
       "      <th>2020-06-04</th>\n",
       "      <td>05119</td>\n",
       "      <td>36.0</td>\n",
       "      <td>2.0</td>\n",
       "      <td>29.857143</td>\n",
       "      <td>1039.0</td>\n",
       "      <td>37.0</td>\n",
       "      <td>391911.0</td>\n",
       "      <td>265.111211</td>\n",
       "      <td>0.035611</td>\n",
       "    </tr>\n",
       "    <tr>\n",
       "      <th>2020-06-05</th>\n",
       "      <td>05119</td>\n",
       "      <td>26.0</td>\n",
       "      <td>0.0</td>\n",
       "      <td>31.285714</td>\n",
       "      <td>1065.0</td>\n",
       "      <td>37.0</td>\n",
       "      <td>391911.0</td>\n",
       "      <td>271.745371</td>\n",
       "      <td>0.034742</td>\n",
       "    </tr>\n",
       "    <tr>\n",
       "      <th>2020-06-06</th>\n",
       "      <td>05119</td>\n",
       "      <td>26.0</td>\n",
       "      <td>0.0</td>\n",
       "      <td>30.714286</td>\n",
       "      <td>1091.0</td>\n",
       "      <td>37.0</td>\n",
       "      <td>391911.0</td>\n",
       "      <td>278.379530</td>\n",
       "      <td>0.033914</td>\n",
       "    </tr>\n",
       "    <tr>\n",
       "      <th>2020-06-07</th>\n",
       "      <td>05119</td>\n",
       "      <td>12.0</td>\n",
       "      <td>0.0</td>\n",
       "      <td>30.714286</td>\n",
       "      <td>1103.0</td>\n",
       "      <td>37.0</td>\n",
       "      <td>391911.0</td>\n",
       "      <td>281.441450</td>\n",
       "      <td>0.033545</td>\n",
       "    </tr>\n",
       "  </tbody>\n",
       "</table>\n",
       "</div>"
      ],
      "text/plain": [
       "             fips  daily_new_cases  daily_new_deaths    1wkroll  JHU_ConfirmedCases.data  JHU_ConfirmedDeaths.data  latestTotalPopulation  total_cases_per_100k  deaths_per_cases\n",
       "dates                                                                                                                                                                            \n",
       "2020-06-03  05119             34.0               0.0  27.857143                   1003.0                      35.0               391911.0            255.925452          0.034895\n",
       "2020-06-04  05119             36.0               2.0  29.857143                   1039.0                      37.0               391911.0            265.111211          0.035611\n",
       "2020-06-05  05119             26.0               0.0  31.285714                   1065.0                      37.0               391911.0            271.745371          0.034742\n",
       "2020-06-06  05119             26.0               0.0  30.714286                   1091.0                      37.0               391911.0            278.379530          0.033914\n",
       "2020-06-07  05119             12.0               0.0  30.714286                   1103.0                      37.0               391911.0            281.441450          0.033545"
      ]
     },
     "execution_count": 43,
     "metadata": {},
     "output_type": "execute_result"
    }
   ],
   "source": [
    "tempdf[tempdf['JHU_ConfirmedCases.data'] >1000].head()"
   ]
  },
  {
   "cell_type": "code",
   "execution_count": 44,
   "id": "7fa74248-a484-4872-b7d2-ab7dd50d4b9e",
   "metadata": {},
   "outputs": [
    {
     "data": {
      "text/plain": [
       "Text(0.5, 1.0, 'NO2 concentrations')"
      ]
     },
     "execution_count": 44,
     "metadata": {},
     "output_type": "execute_result"
    },
    {
     "data": {
      "image/png": "[encoded data removed]",
      "text/plain": [
       "<Figure size 1300x800 with 2 Axes>"
      ]
     },
     "metadata": {
      "needs_background": "light"
     },
     "output_type": "display_data"
    }
   ],
   "source": [
    "tfip='05119'\n",
    "covdf2 = tempdf.loc['2020-04-20':'2021-03-01']\n",
    "fig, axs = plt.subplots(2,1,figsize =(13,8), sharex=True)\n",
    "no2_vals =no2df[no2df['fips'] == tfip][\"Arithmetic Mean\"].loc['2020-04-20':'2021-03-01']\n",
    "covid_title_text = \"{} daily cases\".format(get_county_from_fips(tfip))\n",
    "\n",
    "axs[0].set_title(covid_title_text)\n",
    "axs[0].plot(covdf2[\"total_cases_per_100k\"].diff(),'b',label=\"daily cases\")\n",
    "# axs[0].annotate('Problem region',\n",
    "#             xy=(pd.to_datetime('2020-01-30'), 3), xycoords='data',\n",
    "#             xytext=(0.2, 0.5), textcoords='axes fraction',\n",
    "#             arrowprops=dict(facecolor='black',shrink=0.05),\n",
    "#              horizontalalignment='center', verticalalignment='top',fontsize = 15)\n",
    "axs[1].plot(no2_vals)\n",
    "axs[1].set_title(\"NO2 concentrations\")"
   ]
  },
  {
   "cell_type": "markdown",
   "id": "ac8b1c8b-57c1-4a55-a850-7ac6312637e0",
   "metadata": {},
   "source": [
    "# Idea for correlation \n",
    "\n",
    "instead of plotting all the peaks ect automate the removal of the pre pandemic data, then do the correlations for each county and pop them into a df/csv by county."
   ]
  },
  {
   "cell_type": "code",
   "execution_count": 45,
   "id": "462507ff-4d5f-4935-9dc4-6c4662b51b69",
   "metadata": {},
   "outputs": [
    {
     "data": {
      "text/plain": [
       "'Fremont_Wyoming_UnitedStates'"
      ]
     },
     "execution_count": 45,
     "metadata": {},
     "output_type": "execute_result"
    }
   ],
   "source": [
    "get_county_from_fips('56013')"
   ]
  },
  {
   "cell_type": "code",
   "execution_count": 89,
   "id": "c237b47b-1fed-4017-a352-cd097a06dbfe",
   "metadata": {},
   "outputs": [],
   "source": [
    "\n",
    "\n",
    "def get_coeffcient(tfip, no2_week_rolldf=no2_week_rolldf, column_return='1wkroll'):\n",
    "    covdf2 = load_and_augment_fips(tfip).drop(columns=['latestTotalPopulation'])\n",
    "\n",
    "\n",
    "    fcase_date = covdf2[covdf2[\"1wkroll\"] > 2].index[0]\n",
    "    local_no2 = no2_week_rolldf[no2_week_rolldf['fips'] == tfip].loc[fcase_date:]\n",
    "\n",
    "    last_date = local_no2.index[-1]\n",
    "    tdf = local_no2.join(covdf2,lsuffix=\"_L\", rsuffix=\"_R\")\n",
    "    cdf = tdf.corr()\n",
    "    return cdf['Arithmetic Mean']['1wkroll']"
   ]
  },
  {
   "cell_type": "code",
   "execution_count": 79,
   "id": "a72ef4e9-a61a-42b9-98e6-2b1cb32026ac",
   "metadata": {},
   "outputs": [
    {
     "data": {
      "text/plain": [
       "1wkroll                    NaN\n",
       "Arithmetic Mean            NaN\n",
       "JHU_ConfirmedCases.data    NaN\n",
       "JHU_ConfirmedDeaths.data   NaN\n",
       "daily_new_cases            NaN\n",
       "daily_new_deaths           NaN\n",
       "deaths_per_cases           NaN\n",
       "latestTotalPopulation      NaN\n",
       "total_cases_per_100k       NaN\n",
       "dtype: float64"
      ]
     },
     "execution_count": 79,
     "metadata": {},
     "output_type": "execute_result"
    }
   ],
   "source": [
    "local_no2.corrwith(covdf2.loc[fcase_date:last_date])"
   ]
  },
  {
   "cell_type": "code",
   "execution_count": 81,
   "id": "3218bb57-421e-4aa1-a997-f4f885fd9cb0",
   "metadata": {},
   "outputs": [],
   "source": [
    "tdf = local_no2.join(covdf2,lsuffix=\"_L\", rsuffix=\"_R\")"
   ]
  },
  {
   "cell_type": "code",
   "execution_count": 91,
   "id": "a1accfce-f2e0-4864-b1d9-654da5192ab5",
   "metadata": {},
   "outputs": [
    {
     "data": {
      "text/plain": [
       "0.5076884757484107"
      ]
     },
     "execution_count": 91,
     "metadata": {},
     "output_type": "execute_result"
    }
   ],
   "source": [
    "# cdf = tdf.corr()\n",
    "# cdf['Arithmetic Mean']\n",
    "get_coeffcient('56013',no2_week_rolldf)"
   ]
  },
  {
   "cell_type": "code",
   "execution_count": 94,
   "id": "0b795962-ee63-4f69-b133-0c91bd62c508",
   "metadata": {},
   "outputs": [
    {
     "name": "stdout",
     "output_type": "stream",
     "text": [
      "errors found with 5 entries.\n"
     ]
    }
   ],
   "source": [
    "corr_1wkroll={}\n",
    "fips_error = []\n",
    "for fip in cref_keys:\n",
    "    try:\n",
    "        corr_1wkroll[fip]=get_coeffcient(fip,no2_week_rolldf)\n",
    "    except :\n",
    "        fips_error.append(fip)\n",
    "print(f\"errors found with {len(fip)} entries.\")\n",
    "\n",
    "        \n",
    "        \n",
    "        \n"
   ]
  },
  {
   "cell_type": "code",
   "execution_count": 98,
   "id": "a5a06aa4-caf4-4ae8-895c-7750ee4171d0",
   "metadata": {},
   "outputs": [
    {
     "data": {
      "text/plain": [
       "0.387122873645758"
      ]
     },
     "execution_count": 98,
     "metadata": {},
     "output_type": "execute_result"
    }
   ],
   "source": [
    "\n",
    "corr_list = list(corr_1wkroll.values())\n",
    "sum(corr_list)/len(corr_list)"
   ]
  },
  {
   "cell_type": "code",
   "execution_count": 100,
   "id": "93d0866a-438a-4da8-8a1e-0ac3d9d26332",
   "metadata": {},
   "outputs": [
    {
     "data": {
      "text/plain": [
       "0.8287969490488998"
      ]
     },
     "execution_count": 100,
     "metadata": {},
     "output_type": "execute_result"
    }
   ],
   "source": [
    "max(corr_list)"
   ]
  }
 ],
 "metadata": {
  "kernelspec": {
   "display_name": "capstone",
   "language": "python",
   "name": "capstone"
  },
  "language_info": {
   "codemirror_mode": {
    "name": "ipython",
    "version": 3
   },
   "file_extension": ".py",
   "mimetype": "text/x-python",
   "name": "python",
   "nbconvert_exporter": "python",
   "pygments_lexer": "ipython3",
   "version": "3.9.5"
  }
 },
 "nbformat": 4,
 "nbformat_minor": 5
}
