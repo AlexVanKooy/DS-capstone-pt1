{
 "cells": [
  {
   "cell_type": "code",
   "execution_count": 1,
   "id": "6f5fbf71-d0eb-48ff-b6b8-1ed87f617240",
   "metadata": {},
   "outputs": [],
   "source": [
    "# general imports\n",
    "import math\n",
    "import requests as rq\n",
    "\n",
    "import numpy as np\n",
    "import pandas as pd\n",
    "import re\n",
    "from urllib.request import urlopen\n",
    "import json\n",
    "import os\n",
    "import pathlib\n",
    "import plotly.express as px\n",
    "import matplotlib.pyplot as plt\n",
    "%matplotlib inline"
   ]
  },
  {
   "cell_type": "code",
   "execution_count": 2,
   "id": "aa8a2019-181f-4846-abc5-8146dd67c63e",
   "metadata": {
    "tags": []
   },
   "outputs": [],
   "source": [
    "# pandas formatting \n",
    "pd.set_option(\"display.max_rows\", 500)\n",
    "pd.set_option('display.max_columns', 500)\n",
    "pd.set_option('display.width', 1000)\n",
    "\n",
    "# default plotting formats\n",
    "plt.rcParams['figure.figsize'] = [12, 8]\n",
    "plt.rcParams['figure.dpi'] = 100 # 200 e.g. is really fine, but slower"
   ]
  },
  {
   "cell_type": "code",
   "execution_count": 3,
   "id": "6167c477-fb05-43a2-bdaf-3e839584aebc",
   "metadata": {},
   "outputs": [],
   "source": [
    "cwd = pathlib.Path.cwd()\n",
    "air_data_dir = cwd.joinpath(\"data\",\"air_quality\")\n",
    "NOAH_WKDIR = cwd.joinpath(\"data\",\"covid\")\n",
    "my_savedir = cwd.joinpath(\"local_covid\")\n",
    "\n",
    "# load county information for plotly from saved file \n",
    "with open('counties.json','r') as jin:\n",
    "    counties = json.load(jin)\n",
    "\n"
   ]
  },
  {
   "cell_type": "code",
   "execution_count": 4,
   "id": "c65c4011-7c4c-4a0e-8f4c-2e6150462ae5",
   "metadata": {},
   "outputs": [],
   "source": [
    "#Does not need to run, just documenting\n",
    "def load_fips_mapping(file_path=None):\n",
    "    f2c_map = pd.read_csv('temp.csv', usecols=['fips','county_name','state_name'], dtype={'fips':'string'})\n",
    "    return f2c_map\n",
    "    \n",
    "def request_fips_mapping():\n",
    "    r = rq.get('https://raw.githubusercontent.com/kjhealy/fips-codes/master/county_fips_master.csv')\n",
    "    cleaned = r.text.replace('\\r\\n','\\n')\n",
    "    return cleaned\n",
    "    # with open('temp.csv', 'w',encoding='utf-8') as tempout:\n",
    "    #     tempout.write(cleaned)"
   ]
  },
  {
   "cell_type": "markdown",
   "id": "a373a558-a646-49c8-8c94-184310563f72",
   "metadata": {},
   "source": [
    "## Utility functions"
   ]
  },
  {
   "cell_type": "code",
   "execution_count": 5,
   "id": "240318cf-3be9-47c9-b6d7-6bbbc90ca8ab",
   "metadata": {
    "tags": []
   },
   "outputs": [],
   "source": [
    "def FIPS_function(row):\n",
    "    state = str(row['State Code']).zfill(2)\n",
    "    county = str(row['County Code']).zfill(3)\n",
    "    return str(state + county)\n",
    "# convert to NO2 ug/m^3 for reference\n",
    "def no2_mass_by_vol(ppb):\n",
    "    ugm3 = 1.88*ppb\n",
    "    return ugm3\n",
    "\n",
    "\n",
    "\n",
    "def set_daily_cases_deaths(df):\n",
    "    df['daily_new_cases'] = df['JHU_ConfirmedCases.data'].diff()\n",
    "    df['daily_new_deaths'] = df['JHU_ConfirmedDeaths.data'].diff()\n",
    "    return df\n",
    "# plotting one day's avg \n",
    "def show_day_mean(df, date):\n",
    "    fig = px.choropleth(df[df['Date Local']==date], geojson=counties, locations='fips', color='Arithmetic Mean',\n",
    "                               color_continuous_scale=\"Plasma\",\n",
    "                               range_color=(0, 70), #max value for daily avg is ~60ppb\n",
    "                               scope=\"usa\",\n",
    "                               labels={'Arithmetic Mean':'Arithmetic Mean (ppb)'}\n",
    "                              )\n",
    "    fig.update_layout(margin={\"r\":0,\"t\":0,\"l\":0,\"b\":1,'autoexpand':True })\n",
    "    fig.update_layout(\n",
    "        autosize=False,\n",
    "        width=1200,\n",
    "        height=900,\n",
    "    )\n",
    "    return fig\n",
    "\n",
    "\n",
    "# plotting one day's max value\n",
    "def show_day_max(df, date):\n",
    "    fig = px.choropleth(df[df['Date Local']==date], geojson=counties, locations='fips', color='1st Max Value',\n",
    "                               color_continuous_scale=\"Plasma\",\n",
    "                               range_color=(0, 70), #max value for daily avg is ~60ppb\n",
    "                               scope=\"usa\",\n",
    "                               labels={'1st Max Value':'1st Max Value (ppb)'}\n",
    "                              )\n",
    "    fig.update_layout(margin={\"r\":0,\"t\":0,\"l\":0,\"b\":1,'autoexpand':True })\n",
    "    fig.update_layout(\n",
    "        autosize=False,\n",
    "        width=1200,\n",
    "        height=900,\n",
    "    )\n",
    "    return fig   \n",
    "def show_sites(df):\n",
    "    fig = px.choropleth(df, geojson=counties, locations='fips', color='Parameter Code',\n",
    "                               color_continuous_scale=\"Plasma\",\n",
    "                               range_color=(0, 1), #max value for daily avg is ~60ppb\n",
    "                               scope=\"usa\",\n",
    "                               labels={'1st Max Value':'1st Max Value (ppb)'}\n",
    "                              )\n",
    "    fig.update_layout(margin={\"r\":0,\"t\":0,\"l\":0,\"b\":1,'autoexpand':True })\n",
    "    fig.update_layout(\n",
    "        autosize=False,\n",
    "        width=1200,\n",
    "        height=900,\n",
    "    )\n",
    "    return fig\n",
    "\n",
    "def get_counties_df(file_name='./data/covid/config/counties.json'):\n",
    "    with open(file_name) as file:\n",
    "                county_data = json.load(file)\n",
    "    \n",
    "    df = pd.DataFrame.from_dict(county_data)\n",
    "    \n",
    "    data = [df[col] for col in df.columns]    \n",
    "    \n",
    "    # pivot\n",
    "    return pd.DataFrame(data,columns=df.index, index=df.columns)\n",
    "\n",
    "def get_fips_from_county_lookup():\n",
    "    counties = get_counties_df() \n",
    "    counties = counties.dropna(subset=['fips'])\n",
    "    counties.fips = counties.fips.apply(lambda f: eval(str(f)).get('id'))\n",
    "    counties_index = {k: v for k, v in zip(counties.index, counties.fips)}\n",
    "    def get_fips_from_county(county):\n",
    "        return counties_index[county]\n",
    "    return get_fips_from_county\n",
    "\n",
    "def daily_avg_county_pollution(df, column_to_avg = \"Arithmetic Mean\", date_column=None):    \n",
    "    if date_column == None:\n",
    "        date_column = 'Date Local'\n",
    "        avg_by_day = df.groupby([date_column,'fips']).agg({'Arithmetic Mean': 'mean','1st Max Value':'max','AQI':'max'})\n",
    "    else:\n",
    "        avg_by_day = df.groupby([date_column,'Date Local','fips']).agg({'Arithmetic Mean': 'mean','1st Max Value':'max','AQI':'max'})\n",
    "        \n",
    "        \n",
    "    return avg_by_day\n"
   ]
  },
  {
   "cell_type": "code",
   "execution_count": 6,
   "id": "e995ffd5-ad2e-4e12-9c4b-cb299fb4e850",
   "metadata": {
    "tags": []
   },
   "outputs": [],
   "source": [
    "# FIPS codes from the FCC.  Attempt to match all counties\n",
    "\n",
    "\n",
    "def make_lookup_functions():\n",
    "    fcc_county_file = NOAH_WKDIR.joinpath(\"config\",\"fcc_county_fips.txt\")\n",
    "    with open(fcc_county_file) as fh:\n",
    "        state = None\n",
    "        fips_to_county = {}\n",
    "        county_to_fips = {}\n",
    "        for row in fh:\n",
    "            if match := re.match(r'\\s+(\\d\\d\\d\\d\\d)\\s+ (.*)', row):\n",
    "                fips, location = match.groups()\n",
    "                if fips.endswith('000'):\n",
    "                    state = location.replace(' ','')\n",
    "                    continue\n",
    "                location = location.split(' County')[0]\n",
    "                location = location.split(' Borough')[0]\n",
    "                location = location.split(' Census Area')[0]\n",
    "                location = location.split(' Parish')[0]\n",
    "                location = location.split(' National Park')[0]\n",
    "                \n",
    "                if state == 'Florida' and location == 'Dade':\n",
    "                    location = 'Miami-Dade'\n",
    "                if state == 'Massachusetts' and location == 'Dukes':\n",
    "                    location = 'DukesandNantucket'\n",
    "                if state == 'Alaska' and location == 'Wrangell-Petersburg':\n",
    "                    location = 'Wrangell'\n",
    "                if state == 'Alaska' and location == 'Skagway-Hoonah-Angoon':\n",
    "                    location = 'Skagway'\n",
    "                if state == 'Alaska' and location == 'Prince of Wales-Outer Ketchikan':\n",
    "                    location = 'Prince of Wales'\n",
    "                if state == 'New York' and location == 'New York':\n",
    "                    location = 'New York City'\n",
    "                    \n",
    "                try:\n",
    "                    location = ''.join([s[0].upper() + s[1:] for s in location.split(' ')])    \n",
    "                except Exception as e:\n",
    "                    pass  # garbage\n",
    "\n",
    "                county = location.replace(' ', '') + '_' + state + '_UnitedStates'\n",
    "                fips_to_county[int(fips)] = county\n",
    "                county_to_fips[county.lower()] = int(fips)\n",
    "                \n",
    "        def lookup_county_from_fips(fips_):\n",
    "            return fips_to_county[int(fips_)]\n",
    "        \n",
    "        def lookup_fips_from_county(county_):\n",
    "            try:\n",
    "                return county_to_fips[county_.lower()]\n",
    "            except KeyError:\n",
    "                pass\n",
    "            \n",
    "            try:\n",
    "                county_ = county_.lower()\n",
    "                parts = county_.split('_')\n",
    "                parts[0] = parts[0][:parts[0].index('city')]\n",
    "                return county_to_fips['_'.join(parts)]\n",
    "            except:\n",
    "                pass\n",
    "            \n",
    "            try:\n",
    "                parts = county_.split('_')\n",
    "                parts[0] = parts[0] +'city'\n",
    "                return county_to_fips['_'.join(parts)]\n",
    "            except:\n",
    "                pass\n",
    "    \n",
    "            parts = county_.split('_')\n",
    "            for k, v in county_to_fips.items():\n",
    "                part0, part1, _ = k.split('_')\n",
    "                if part1 != parts[1]:\n",
    "                    continue\n",
    "                if parts[0].startswith(part0) or part0.startswith(parts[0]):\n",
    "                    return v\n",
    "\n",
    "            raise KeyError\n",
    "                \n",
    "        \n",
    "        return lookup_county_from_fips, lookup_fips_from_county\n",
    "\n",
    "get_county_from_fips,  get_fips_from_county = make_lookup_functions()"
   ]
  },
  {
   "cell_type": "markdown",
   "id": "27fe20af-1d9b-452c-aa76-67e7a743b0f4",
   "metadata": {
    "tags": []
   },
   "source": [
    "# Loading EPA Data"
   ]
  },
  {
   "cell_type": "markdown",
   "id": "89c36c14-fc11-4263-a6b0-8b9a1827d266",
   "metadata": {
    "tags": []
   },
   "source": [
    "#### Argument for removing columns\n",
    " \n",
    "We are looking for a link between 2 datasets, for now we will assume things like the 'POC' field (This is the “Parameter Occurrence Code” used to distinguish different instruments that measure the same parameter at the same site.) are unimportant to our investigation.\n",
    "\n",
    "Similarly we will remove the method code, method name, ect.\n",
    "\n",
    "more information on the field definitions can be found here -> https://aqs.epa.gov/aqsweb/airdata/FileFormats.html#_content_4"
   ]
  },
  {
   "cell_type": "code",
   "execution_count": 7,
   "id": "f0e7fada-5aa4-46b4-9a98-64f7381d28d6",
   "metadata": {
    "tags": []
   },
   "outputs": [],
   "source": [
    "# parser warned to use the pd.to_datetime instead\n",
    "no2_20 = pd.read_csv(air_data_dir.joinpath(\"no2\",\"daily_no2_2020_with_FIPS.csv\"), dtype={'fips':'string'})\n",
    "# putting datetime in new column out of an abundace of caution\n",
    "no2_20['Date Local'] = pd.to_datetime(no2_20['Date Local'], format=\"%Y/%m/%d\")\n",
    "\n",
    "no2_columns = ['Date Local','fips',\n",
    "               'Arithmetic Mean','AQI',\n",
    "               '1st Max Value','Units of Measure',\n",
    "               'Mean ugm3','Site Num',\n",
    "               'Event Type','Latitude',\n",
    "               'Longitude','State Code','County Code',\n",
    "               'Observation Count','Observation Percent']\n",
    "slim_no2 = no2_20[no2_columns]\n"
   ]
  },
  {
   "cell_type": "markdown",
   "id": "35227ae6-a669-4de4-ab50-c3a77698a08b",
   "metadata": {
    "tags": []
   },
   "source": [
    "## Multiple sample sites in some counties\n",
    "\n",
    "Some counties have multiple air monitoring stations. Below code builds a dictionary whose keys are the fips codes with multiple sites."
   ]
  },
  {
   "cell_type": "code",
   "execution_count": 8,
   "id": "da7c3959-79b3-4c62-9cfe-0065670fc7b5",
   "metadata": {
    "tags": []
   },
   "outputs": [
    {
     "data": {
      "text/html": [
       "<div>\n",
       "<style scoped>\n",
       "    .dataframe tbody tr th:only-of-type {\n",
       "        vertical-align: middle;\n",
       "    }\n",
       "\n",
       "    .dataframe tbody tr th {\n",
       "        vertical-align: top;\n",
       "    }\n",
       "\n",
       "    .dataframe thead th {\n",
       "        text-align: right;\n",
       "    }\n",
       "</style>\n",
       "<table border=\"1\" class=\"dataframe\">\n",
       "  <thead>\n",
       "    <tr style=\"text-align: right;\">\n",
       "      <th></th>\n",
       "      <th>Date Local</th>\n",
       "      <th>fips</th>\n",
       "      <th>Arithmetic Mean</th>\n",
       "      <th>AQI</th>\n",
       "      <th>1st Max Value</th>\n",
       "      <th>Units of Measure</th>\n",
       "      <th>Mean ugm3</th>\n",
       "      <th>Site Num</th>\n",
       "      <th>Event Type</th>\n",
       "      <th>Latitude</th>\n",
       "      <th>Longitude</th>\n",
       "      <th>State Code</th>\n",
       "      <th>County Code</th>\n",
       "      <th>Observation Count</th>\n",
       "      <th>Observation Percent</th>\n",
       "    </tr>\n",
       "  </thead>\n",
       "  <tbody>\n",
       "    <tr>\n",
       "      <th>4002</th>\n",
       "      <td>2020-01-01</td>\n",
       "      <td>06001</td>\n",
       "      <td>7.865217</td>\n",
       "      <td>17</td>\n",
       "      <td>18.5</td>\n",
       "      <td>Parts per billion</td>\n",
       "      <td>14.786608</td>\n",
       "      <td>7</td>\n",
       "      <td>None</td>\n",
       "      <td>37.687526</td>\n",
       "      <td>-121.784217</td>\n",
       "      <td>6</td>\n",
       "      <td>1</td>\n",
       "      <td>23</td>\n",
       "      <td>96.0</td>\n",
       "    </tr>\n",
       "    <tr>\n",
       "      <th>4368</th>\n",
       "      <td>2020-01-01</td>\n",
       "      <td>06001</td>\n",
       "      <td>12.617391</td>\n",
       "      <td>20</td>\n",
       "      <td>21.3</td>\n",
       "      <td>Parts per billion</td>\n",
       "      <td>23.720695</td>\n",
       "      <td>9</td>\n",
       "      <td>None</td>\n",
       "      <td>37.743065</td>\n",
       "      <td>-122.169935</td>\n",
       "      <td>6</td>\n",
       "      <td>1</td>\n",
       "      <td>23</td>\n",
       "      <td>96.0</td>\n",
       "    </tr>\n",
       "    <tr>\n",
       "      <th>4733</th>\n",
       "      <td>2020-01-01</td>\n",
       "      <td>06001</td>\n",
       "      <td>15.921739</td>\n",
       "      <td>26</td>\n",
       "      <td>28.0</td>\n",
       "      <td>Parts per billion</td>\n",
       "      <td>29.932869</td>\n",
       "      <td>11</td>\n",
       "      <td>None</td>\n",
       "      <td>37.814781</td>\n",
       "      <td>-122.282347</td>\n",
       "      <td>6</td>\n",
       "      <td>1</td>\n",
       "      <td>23</td>\n",
       "      <td>96.0</td>\n",
       "    </tr>\n",
       "    <tr>\n",
       "      <th>5096</th>\n",
       "      <td>2020-01-01</td>\n",
       "      <td>06001</td>\n",
       "      <td>15.934783</td>\n",
       "      <td>22</td>\n",
       "      <td>23.2</td>\n",
       "      <td>Parts per billion</td>\n",
       "      <td>29.957392</td>\n",
       "      <td>12</td>\n",
       "      <td>None</td>\n",
       "      <td>37.793624</td>\n",
       "      <td>-122.263376</td>\n",
       "      <td>6</td>\n",
       "      <td>1</td>\n",
       "      <td>23</td>\n",
       "      <td>96.0</td>\n",
       "    </tr>\n",
       "    <tr>\n",
       "      <th>5462</th>\n",
       "      <td>2020-01-01</td>\n",
       "      <td>06001</td>\n",
       "      <td>12.826087</td>\n",
       "      <td>22</td>\n",
       "      <td>23.5</td>\n",
       "      <td>Parts per billion</td>\n",
       "      <td>24.113044</td>\n",
       "      <td>13</td>\n",
       "      <td>None</td>\n",
       "      <td>37.864767</td>\n",
       "      <td>-122.302741</td>\n",
       "      <td>6</td>\n",
       "      <td>1</td>\n",
       "      <td>23</td>\n",
       "      <td>96.0</td>\n",
       "    </tr>\n",
       "  </tbody>\n",
       "</table>\n",
       "</div>"
      ],
      "text/plain": [
       "     Date Local   fips  Arithmetic Mean  AQI  1st Max Value   Units of Measure  Mean ugm3  Site Num Event Type   Latitude   Longitude  State Code  County Code  Observation Count  Observation Percent\n",
       "4002 2020-01-01  06001         7.865217   17           18.5  Parts per billion  14.786608         7       None  37.687526 -121.784217           6            1                 23                 96.0\n",
       "4368 2020-01-01  06001        12.617391   20           21.3  Parts per billion  23.720695         9       None  37.743065 -122.169935           6            1                 23                 96.0\n",
       "4733 2020-01-01  06001        15.921739   26           28.0  Parts per billion  29.932869        11       None  37.814781 -122.282347           6            1                 23                 96.0\n",
       "5096 2020-01-01  06001        15.934783   22           23.2  Parts per billion  29.957392        12       None  37.793624 -122.263376           6            1                 23                 96.0\n",
       "5462 2020-01-01  06001        12.826087   22           23.5  Parts per billion  24.113044        13       None  37.864767 -122.302741           6            1                 23                 96.0"
      ]
     },
     "execution_count": 8,
     "metadata": {},
     "output_type": "execute_result"
    }
   ],
   "source": [
    "# multiple sites in one county\n",
    "slim_no2.loc[(slim_no2['Date Local']=='2020-01-01') & (slim_no2['fips']=='06001')].head()"
   ]
  },
  {
   "cell_type": "markdown",
   "id": "880c5cba-ae8f-46ab-aa6a-a1bca66b6a77",
   "metadata": {},
   "source": [
    "### A Quick naive solution\n",
    "\n",
    "... we can average the averages for each county.\n",
    "\n",
    "This method below achieves this but the other columns are not captured."
   ]
  },
  {
   "cell_type": "code",
   "execution_count": 9,
   "id": "e5c28f3b-7afb-49a9-989d-dff11d9f5418",
   "metadata": {},
   "outputs": [
    {
     "data": {
      "text/html": [
       "<div>\n",
       "<style scoped>\n",
       "    .dataframe tbody tr th:only-of-type {\n",
       "        vertical-align: middle;\n",
       "    }\n",
       "\n",
       "    .dataframe tbody tr th {\n",
       "        vertical-align: top;\n",
       "    }\n",
       "\n",
       "    .dataframe thead th {\n",
       "        text-align: right;\n",
       "    }\n",
       "</style>\n",
       "<table border=\"1\" class=\"dataframe\">\n",
       "  <thead>\n",
       "    <tr style=\"text-align: right;\">\n",
       "      <th></th>\n",
       "      <th></th>\n",
       "      <th>Arithmetic Mean</th>\n",
       "      <th>1st Max Value</th>\n",
       "      <th>AQI</th>\n",
       "    </tr>\n",
       "    <tr>\n",
       "      <th>Date Local</th>\n",
       "      <th>fips</th>\n",
       "      <th></th>\n",
       "      <th></th>\n",
       "      <th></th>\n",
       "    </tr>\n",
       "  </thead>\n",
       "  <tbody>\n",
       "    <tr>\n",
       "      <th rowspan=\"5\" valign=\"top\">2020-01-01</th>\n",
       "      <th>01073</th>\n",
       "      <td>16.373918</td>\n",
       "      <td>31.0</td>\n",
       "      <td>29</td>\n",
       "    </tr>\n",
       "    <tr>\n",
       "      <th>04013</th>\n",
       "      <td>16.660833</td>\n",
       "      <td>34.0</td>\n",
       "      <td>32</td>\n",
       "    </tr>\n",
       "    <tr>\n",
       "      <th>04019</th>\n",
       "      <td>11.206250</td>\n",
       "      <td>23.7</td>\n",
       "      <td>22</td>\n",
       "    </tr>\n",
       "    <tr>\n",
       "      <th>05035</th>\n",
       "      <td>9.175000</td>\n",
       "      <td>23.1</td>\n",
       "      <td>22</td>\n",
       "    </tr>\n",
       "    <tr>\n",
       "      <th>05119</th>\n",
       "      <td>12.637500</td>\n",
       "      <td>28.9</td>\n",
       "      <td>26</td>\n",
       "    </tr>\n",
       "  </tbody>\n",
       "</table>\n",
       "</div>"
      ],
      "text/plain": [
       "                  Arithmetic Mean  1st Max Value  AQI\n",
       "Date Local fips                                      \n",
       "2020-01-01 01073        16.373918           31.0   29\n",
       "           04013        16.660833           34.0   32\n",
       "           04019        11.206250           23.7   22\n",
       "           05035         9.175000           23.1   22\n",
       "           05119        12.637500           28.9   26"
      ]
     },
     "execution_count": 9,
     "metadata": {},
     "output_type": "execute_result"
    }
   ],
   "source": [
    "daily_avg_no2 = daily_avg_county_pollution(slim_no2)\n",
    "daily_avg_no2.head()"
   ]
  },
  {
   "cell_type": "code",
   "execution_count": 10,
   "id": "ce721396-9a42-40c5-99cd-3c09fdd54dbf",
   "metadata": {},
   "outputs": [],
   "source": [
    "# reset index, then take the year's average per fips (dropping the max value since we want avgs anyway). This will be our benchmark\n",
    "county_means =daily_avg_no2.reset_index().groupby(['fips']).mean().drop(['1st Max Value'],axis=1)"
   ]
  },
  {
   "cell_type": "markdown",
   "id": "281863f5-fbe3-4adb-83c8-ac0c2b254ed2",
   "metadata": {},
   "source": [
    "### Creating dictonary of the avg ppb and AQI per county for 2020"
   ]
  },
  {
   "cell_type": "code",
   "execution_count": 11,
   "id": "0fb202f9-73ca-447c-8338-b4ae22e8b431",
   "metadata": {},
   "outputs": [
    {
     "data": {
      "text/plain": [
       "15.218184866848818"
      ]
     },
     "execution_count": 11,
     "metadata": {},
     "output_type": "execute_result"
    }
   ],
   "source": [
    "county_means.rename(columns={'Arithmetic Mean':'mean_ppb','AQI':'mean_AQI'},inplace=True)\n",
    "county_benchmarks = county_means.to_dict('index')\n",
    "county_benchmarks['04013']['mean_ppb']"
   ]
  },
  {
   "cell_type": "markdown",
   "id": "17539ae7-f13a-4ed0-9ca4-e87a55280e53",
   "metadata": {},
   "source": [
    "# Fix the below.\n",
    "\n",
    "Need a way to ID the peak pollution days in a manner that lets me check covid data for coorelations."
   ]
  },
  {
   "cell_type": "code",
   "execution_count": 12,
   "id": "3cea955f-f93c-4424-a2ec-d73a91d743d1",
   "metadata": {
    "tags": []
   },
   "outputs": [],
   "source": [
    "def check_level(df, averages, delta=0):\n",
    "    \"\"\"Return dictonary with higher than average ppb for each fips code.\n",
    "    \n",
    "    \n",
    "    Parameters:\n",
    "    \n",
    "    df -- single full dataframe\n",
    "    \n",
    "    averages -- dict of structure fips:(mean_ppb, AQI)\n",
    "    \n",
    "    delta -- ppb difference to flag, default = 0\n",
    "    \n",
    "    The averages dictionary should have one entry per fips code, giving the average concentration for that county.\n",
    "    \n",
    "    Return:\n",
    "    peaks -- dict of structure fips:[dates]\n",
    "    \"\"\"\n",
    "    \n",
    "    targets = {}\n",
    "    for fipc in list(averages.keys()):\n",
    "        df[df['fips']==fipc]\n",
    "        peak_df = df[(df['fips']==fipc) & (df['Arithmetic Mean'] >= (averages[fipc]['mean_ppb'] + delta))]\n",
    "        targets[fipc] = peak_df[['Date Local','Arithmetic Mean']].to_dict()\n",
    "    return targets"
   ]
  },
  {
   "cell_type": "code",
   "execution_count": 13,
   "id": "6fe6862e-d779-458c-939d-4f3775d755f1",
   "metadata": {},
   "outputs": [],
   "source": [
    "flat_daily_avg = daily_avg_no2.reset_index()"
   ]
  },
  {
   "cell_type": "code",
   "execution_count": 14,
   "id": "d4d84b9b-6b51-4b9b-a2ac-ffa4513d9b49",
   "metadata": {},
   "outputs": [],
   "source": [
    "# flat_daily_avg.head()\n",
    "to_cross_ref = check_level(flat_daily_avg, county_benchmarks, delta=15)"
   ]
  },
  {
   "cell_type": "code",
   "execution_count": 15,
   "id": "8192646e-dd75-4399-a5df-93219486eab7",
   "metadata": {},
   "outputs": [
    {
     "data": {
      "text/plain": [
       "260"
      ]
     },
     "execution_count": 15,
     "metadata": {},
     "output_type": "execute_result"
    }
   ],
   "source": [
    "cref_keys = list(to_cross_ref.keys())\n",
    "len(cref_keys)"
   ]
  },
  {
   "cell_type": "code",
   "execution_count": 16,
   "id": "ccf62db6-4fee-4300-adba-b9a2b158547a",
   "metadata": {},
   "outputs": [
    {
     "data": {
      "text/plain": [
       "[Timestamp('2020-01-08 00:00:00'), Timestamp('2020-12-10 00:00:00')]"
      ]
     },
     "execution_count": 16,
     "metadata": {},
     "output_type": "execute_result"
    }
   ],
   "source": [
    "list(to_cross_ref['01073']['Date Local'].values())"
   ]
  },
  {
   "cell_type": "markdown",
   "id": "4f65303d-857e-4f34-abe8-240f022b2653",
   "metadata": {},
   "source": [
    "The peak times from the above show an increase during the fall/winter months, I would be fine comparing trends into and out of this time period"
   ]
  },
  {
   "cell_type": "markdown",
   "id": "d436a050-329f-4834-837e-be3210f1da71",
   "metadata": {},
   "source": [
    "### Now we can cross check data\n",
    "\n",
    "With the dict of list of dicts above we can take the key (fips) and the dates within to select the correct data from the covid19 repository and establish a window of effect"
   ]
  },
  {
   "cell_type": "markdown",
   "id": "cc4354ad-1c93-4037-839c-365556800f6c",
   "metadata": {},
   "source": [
    "- Select fips & date from peak dates\n",
    "    - Might want to select window of days surrounding the peak\n",
    "- grab covid data for peak dates\n",
    "    - will want days leading up to and trailing the peak dates\n",
    "\n",
    "\n",
    " "
   ]
  },
  {
   "cell_type": "code",
   "execution_count": 17,
   "id": "2aaf4a6e-fb0a-4f5f-9816-cab866fb834a",
   "metadata": {
    "tags": []
   },
   "outputs": [],
   "source": [
    "def load_covid_by_fips(fipcode):\n",
    "    df = pd.read_pickle(NOAH_WKDIR.joinpath(\"processed_data\",\"county_merged_parts\",get_county_from_fips(fipcode)+'.pkl'))   \n",
    "    return df\n",
    "clamped_covid = ['fips','JHU_ConfirmedCases.data','JHU_ConfirmedDeaths.data', \n",
    "                 'latestTotalPopulation','MaleAndFemale_AtLeast65_Population.data',\n",
    "                 'Male_Total_Population.data','Female_Total_Population.data',\n",
    "                 'MaleAndFemale_Under18_Population.data','BLS_EmployedPopulation.data',\n",
    "                 'BLS_UnemployedPopulation.data','BLS_UnemploymentRate.data',\n",
    "                 'BLS_LaborForcePopulation.data','AverageWindDirection.data',\n",
    "                ]\n",
    "\n",
    "def stringify_fips(row):\n",
    "    ''' Convert the INTeger representation of fips to a string with leading zeros.\n",
    "            intended to be used in a lamda function.\n",
    "            \n",
    "    Arguments:\n",
    "    \n",
    "    row - a single row of a dataframe. Intended to be used like \"df4.apply(lambda row: stringify_fips(row), axis=1)\"\n",
    "    \n",
    "    '''\n",
    "    strFips = str(row['fips']).zfill(5)\n",
    "    return strFips\n",
    "\n",
    "def rolling_cases(df, window_size=7):\n",
    "    df['1wkroll'] = df['daily_new_cases'].rolling(window=window_size).mean()\n",
    "    df.reset_index(inplace=True)\n",
    "    df.set_index(\"dates\",inplace = True)\n",
    "    return df\n",
    "\n",
    "# cases / 100,000 people\n",
    "def set_weighted_cases(df):\n",
    "    wpop =  df['latestTotalPopulation'].max()/100000\n",
    "    z = df.loc[:,'JHU_ConfirmedCases.data'] / wpop\n",
    "    df['total_cases_per_100k'] = z.values    \n",
    "    return df\n",
    "\n",
    "#deaths per person infected\n",
    "def set_death_per_cases(df):\n",
    "    df.loc[:,'deaths_per_cases']= np.where((df.loc[:,'JHU_ConfirmedDeaths.data'] / df.loc[:,'JHU_ConfirmedCases.data'])>=0,\n",
    "                                          (df.loc[:,'JHU_ConfirmedDeaths.data'] / df.loc[:,'JHU_ConfirmedCases.data']), 0)\n",
    "    return df\n",
    "    "
   ]
  },
  {
   "cell_type": "code",
   "execution_count": 18,
   "id": "853fc0e9-00d0-43c2-8a19-830d71338135",
   "metadata": {
    "tags": []
   },
   "outputs": [],
   "source": [
    "# Collect list of dates for the target county\n",
    "target_fips = '01073'\n",
    "c_dates = list(to_cross_ref['01073']['Date Local'].values())"
   ]
  },
  {
   "cell_type": "code",
   "execution_count": 19,
   "id": "5d8bda44-d780-4894-82bb-4cd051b4eaec",
   "metadata": {},
   "outputs": [],
   "source": [
    "\n",
    "def save_if_not(df, fip):\n",
    "    # if *fip* not found in 'my_savedir' then save it correctly\n",
    "    pass\n",
    "\n",
    "    \n",
    "\n",
    "\n",
    "def load_and_augment_fips(fips):\n",
    "    tdf = load_covid_by_fips(fips)\n",
    "    # pickle loads numbers as floats; converting fips to int\n",
    "    tdf['fips'] = tdf.apply(lambda row: math.floor(row['fips']), axis=1)\n",
    "\n",
    "    # Making fips a string to match on other datasets with leading zero\n",
    "    df2= tdf.astype({\"fips\":\"int\"}).astype({'fips':'string'})\n",
    "    \n",
    "    # adding leading zero where needed\n",
    "    df2['fips'] = df2.apply(lambda row: stringify_fips(row), axis=1)\n",
    "    \n",
    "    #need daily change in cases to get the rolling delta of new infections\n",
    "    df2 = set_daily_cases_deaths(df2)\n",
    "    df2 = rolling_cases(df2)\n",
    "    df2.index = pd.to_datetime(df2.index, format=\"%Y/%m/%d\")\n",
    "    top_level_covid = ['fips','daily_new_cases','daily_new_deaths', \"1wkroll\",\n",
    "                   'JHU_ConfirmedCases.data','JHU_ConfirmedDeaths.data', \n",
    "                   'latestTotalPopulation']\n",
    "    \n",
    "    \n",
    "    df3 = df2[top_level_covid].copy()\n",
    "    df3 = set_weighted_cases(df3)\n",
    "    df3 = set_death_per_cases(df3)\n",
    "    \n",
    "    del df2\n",
    "    del tdf\n",
    "    \n",
    "    \n",
    "    \n",
    "    return df3"
   ]
  },
  {
   "cell_type": "code",
   "execution_count": 20,
   "id": "fd6c413c-aab0-455a-afb4-0f0b95fabcc2",
   "metadata": {},
   "outputs": [],
   "source": [
    "covdf2 = load_and_augment_fips(\"01073\")\n",
    "bsdf = load_and_augment_fips(\"04013\")"
   ]
  },
  {
   "cell_type": "code",
   "execution_count": 21,
   "id": "32e563c4-c1cc-4502-bbfe-cab6a800a0ca",
   "metadata": {},
   "outputs": [
    {
     "data": {
      "text/html": [
       "<div>\n",
       "<style scoped>\n",
       "    .dataframe tbody tr th:only-of-type {\n",
       "        vertical-align: middle;\n",
       "    }\n",
       "\n",
       "    .dataframe tbody tr th {\n",
       "        vertical-align: top;\n",
       "    }\n",
       "\n",
       "    .dataframe thead th {\n",
       "        text-align: right;\n",
       "    }\n",
       "</style>\n",
       "<table border=\"1\" class=\"dataframe\">\n",
       "  <thead>\n",
       "    <tr style=\"text-align: right;\">\n",
       "      <th></th>\n",
       "      <th>fips</th>\n",
       "      <th>daily_new_cases</th>\n",
       "      <th>daily_new_deaths</th>\n",
       "      <th>1wkroll</th>\n",
       "      <th>JHU_ConfirmedCases.data</th>\n",
       "      <th>JHU_ConfirmedDeaths.data</th>\n",
       "      <th>latestTotalPopulation</th>\n",
       "      <th>total_cases_per_100k</th>\n",
       "      <th>deaths_per_cases</th>\n",
       "    </tr>\n",
       "    <tr>\n",
       "      <th>dates</th>\n",
       "      <th></th>\n",
       "      <th></th>\n",
       "      <th></th>\n",
       "      <th></th>\n",
       "      <th></th>\n",
       "      <th></th>\n",
       "      <th></th>\n",
       "      <th></th>\n",
       "      <th></th>\n",
       "    </tr>\n",
       "  </thead>\n",
       "  <tbody>\n",
       "    <tr>\n",
       "      <th>2020-01-01</th>\n",
       "      <td>04013</td>\n",
       "      <td>NaN</td>\n",
       "      <td>NaN</td>\n",
       "      <td>NaN</td>\n",
       "      <td>0.0</td>\n",
       "      <td>0.0</td>\n",
       "      <td>4485414.0</td>\n",
       "      <td>0.0</td>\n",
       "      <td>0.0</td>\n",
       "    </tr>\n",
       "    <tr>\n",
       "      <th>2020-01-02</th>\n",
       "      <td>04013</td>\n",
       "      <td>0.0</td>\n",
       "      <td>0.0</td>\n",
       "      <td>NaN</td>\n",
       "      <td>0.0</td>\n",
       "      <td>0.0</td>\n",
       "      <td>4485414.0</td>\n",
       "      <td>0.0</td>\n",
       "      <td>0.0</td>\n",
       "    </tr>\n",
       "    <tr>\n",
       "      <th>2020-01-03</th>\n",
       "      <td>04013</td>\n",
       "      <td>0.0</td>\n",
       "      <td>0.0</td>\n",
       "      <td>NaN</td>\n",
       "      <td>0.0</td>\n",
       "      <td>0.0</td>\n",
       "      <td>4485414.0</td>\n",
       "      <td>0.0</td>\n",
       "      <td>0.0</td>\n",
       "    </tr>\n",
       "    <tr>\n",
       "      <th>2020-01-04</th>\n",
       "      <td>04013</td>\n",
       "      <td>0.0</td>\n",
       "      <td>0.0</td>\n",
       "      <td>NaN</td>\n",
       "      <td>0.0</td>\n",
       "      <td>0.0</td>\n",
       "      <td>4485414.0</td>\n",
       "      <td>0.0</td>\n",
       "      <td>0.0</td>\n",
       "    </tr>\n",
       "    <tr>\n",
       "      <th>2020-01-05</th>\n",
       "      <td>04013</td>\n",
       "      <td>0.0</td>\n",
       "      <td>0.0</td>\n",
       "      <td>NaN</td>\n",
       "      <td>0.0</td>\n",
       "      <td>0.0</td>\n",
       "      <td>4485414.0</td>\n",
       "      <td>0.0</td>\n",
       "      <td>0.0</td>\n",
       "    </tr>\n",
       "  </tbody>\n",
       "</table>\n",
       "</div>"
      ],
      "text/plain": [
       "             fips  daily_new_cases  daily_new_deaths  1wkroll  JHU_ConfirmedCases.data  JHU_ConfirmedDeaths.data  latestTotalPopulation  total_cases_per_100k  deaths_per_cases\n",
       "dates                                                                                                                                                                          \n",
       "2020-01-01  04013              NaN               NaN      NaN                      0.0                       0.0              4485414.0                   0.0               0.0\n",
       "2020-01-02  04013              0.0               0.0      NaN                      0.0                       0.0              4485414.0                   0.0               0.0\n",
       "2020-01-03  04013              0.0               0.0      NaN                      0.0                       0.0              4485414.0                   0.0               0.0\n",
       "2020-01-04  04013              0.0               0.0      NaN                      0.0                       0.0              4485414.0                   0.0               0.0\n",
       "2020-01-05  04013              0.0               0.0      NaN                      0.0                       0.0              4485414.0                   0.0               0.0"
      ]
     },
     "execution_count": 21,
     "metadata": {},
     "output_type": "execute_result"
    }
   ],
   "source": [
    "bsdf.head()"
   ]
  },
  {
   "cell_type": "code",
   "execution_count": 22,
   "id": "bd24bb87-511c-4203-876a-6f77ee747546",
   "metadata": {},
   "outputs": [],
   "source": [
    "no2df = daily_avg_no2.reset_index().set_index(\"Date Local\")"
   ]
  },
  {
   "cell_type": "markdown",
   "id": "73a5aacf-5bc4-4e66-8ec3-4b594dd78af3",
   "metadata": {
    "tags": []
   },
   "source": [
    "## Datetime Index conditions"
   ]
  },
  {
   "cell_type": "code",
   "execution_count": 23,
   "id": "87a000d1-7f36-4f32-8f02-c329165a4663",
   "metadata": {
    "tags": []
   },
   "outputs": [
    {
     "data": {
      "text/html": [
       "<div>\n",
       "<style scoped>\n",
       "    .dataframe tbody tr th:only-of-type {\n",
       "        vertical-align: middle;\n",
       "    }\n",
       "\n",
       "    .dataframe tbody tr th {\n",
       "        vertical-align: top;\n",
       "    }\n",
       "\n",
       "    .dataframe thead th {\n",
       "        text-align: right;\n",
       "    }\n",
       "</style>\n",
       "<table border=\"1\" class=\"dataframe\">\n",
       "  <thead>\n",
       "    <tr style=\"text-align: right;\">\n",
       "      <th></th>\n",
       "      <th>Arithmetic Mean</th>\n",
       "    </tr>\n",
       "    <tr>\n",
       "      <th>Date Local</th>\n",
       "      <th></th>\n",
       "    </tr>\n",
       "  </thead>\n",
       "  <tbody>\n",
       "    <tr>\n",
       "      <th>2020-12-01</th>\n",
       "      <td>14.980952</td>\n",
       "    </tr>\n",
       "    <tr>\n",
       "      <th>2020-12-02</th>\n",
       "      <td>19.790476</td>\n",
       "    </tr>\n",
       "    <tr>\n",
       "      <th>2020-12-03</th>\n",
       "      <td>14.652976</td>\n",
       "    </tr>\n",
       "    <tr>\n",
       "      <th>2020-12-04</th>\n",
       "      <td>7.270347</td>\n",
       "    </tr>\n",
       "    <tr>\n",
       "      <th>2020-12-05</th>\n",
       "      <td>11.602083</td>\n",
       "    </tr>\n",
       "    <tr>\n",
       "      <th>2020-12-06</th>\n",
       "      <td>14.316667</td>\n",
       "    </tr>\n",
       "    <tr>\n",
       "      <th>2020-12-07</th>\n",
       "      <td>8.619508</td>\n",
       "    </tr>\n",
       "    <tr>\n",
       "      <th>2020-12-08</th>\n",
       "      <td>16.688095</td>\n",
       "    </tr>\n",
       "    <tr>\n",
       "      <th>2020-12-09</th>\n",
       "      <td>21.626190</td>\n",
       "    </tr>\n",
       "    <tr>\n",
       "      <th>2020-12-10</th>\n",
       "      <td>25.422917</td>\n",
       "    </tr>\n",
       "    <tr>\n",
       "      <th>2020-12-11</th>\n",
       "      <td>18.551779</td>\n",
       "    </tr>\n",
       "    <tr>\n",
       "      <th>2020-12-12</th>\n",
       "      <td>11.454167</td>\n",
       "    </tr>\n",
       "    <tr>\n",
       "      <th>2020-12-13</th>\n",
       "      <td>10.147917</td>\n",
       "    </tr>\n",
       "    <tr>\n",
       "      <th>2020-12-14</th>\n",
       "      <td>3.923675</td>\n",
       "    </tr>\n",
       "    <tr>\n",
       "      <th>2020-12-15</th>\n",
       "      <td>11.741456</td>\n",
       "    </tr>\n",
       "    <tr>\n",
       "      <th>2020-12-16</th>\n",
       "      <td>6.130392</td>\n",
       "    </tr>\n",
       "    <tr>\n",
       "      <th>2020-12-17</th>\n",
       "      <td>9.942225</td>\n",
       "    </tr>\n",
       "    <tr>\n",
       "      <th>2020-12-18</th>\n",
       "      <td>17.406250</td>\n",
       "    </tr>\n",
       "    <tr>\n",
       "      <th>2020-12-19</th>\n",
       "      <td>11.395834</td>\n",
       "    </tr>\n",
       "    <tr>\n",
       "      <th>2020-12-20</th>\n",
       "      <td>8.360416</td>\n",
       "    </tr>\n",
       "  </tbody>\n",
       "</table>\n",
       "</div>"
      ],
      "text/plain": [
       "            Arithmetic Mean\n",
       "Date Local                 \n",
       "2020-12-01        14.980952\n",
       "2020-12-02        19.790476\n",
       "2020-12-03        14.652976\n",
       "2020-12-04         7.270347\n",
       "2020-12-05        11.602083\n",
       "2020-12-06        14.316667\n",
       "2020-12-07         8.619508\n",
       "2020-12-08        16.688095\n",
       "2020-12-09        21.626190\n",
       "2020-12-10        25.422917\n",
       "2020-12-11        18.551779\n",
       "2020-12-12        11.454167\n",
       "2020-12-13        10.147917\n",
       "2020-12-14         3.923675\n",
       "2020-12-15        11.741456\n",
       "2020-12-16         6.130392\n",
       "2020-12-17         9.942225\n",
       "2020-12-18        17.406250\n",
       "2020-12-19        11.395834\n",
       "2020-12-20         8.360416"
      ]
     },
     "execution_count": 23,
     "metadata": {},
     "output_type": "execute_result"
    }
   ],
   "source": [
    "no2df[['Arithmetic Mean']][no2df['fips'] == '01073'].loc['2020-12-01':'2020-12-20']"
   ]
  },
  {
   "cell_type": "markdown",
   "id": "fecaf2a9-d4eb-472d-af48-f8ac156f4ca9",
   "metadata": {},
   "source": [
    "## Leveraging the datetime functionality in pandas"
   ]
  },
  {
   "cell_type": "code",
   "execution_count": 24,
   "id": "67104f3d-b938-43ca-bab7-69eac0659f20",
   "metadata": {},
   "outputs": [],
   "source": [
    "tdate = pd.Timestamp('2020-12-10')\n",
    "# days forward and backward to look\n",
    "offset = pd.offsets.Week()"
   ]
  },
  {
   "cell_type": "code",
   "execution_count": 25,
   "id": "df494306-71c5-487c-9a63-a476084f436c",
   "metadata": {
    "tags": []
   },
   "outputs": [],
   "source": [
    "no_vals = no2df[no2df['fips'] == '01073'].loc[tdate - offset:tdate+offset][\"Arithmetic Mean\"]\n",
    "cov_interval = covdf2.loc[tdate - offset:tdate+offset]"
   ]
  },
  {
   "cell_type": "code",
   "execution_count": 26,
   "id": "83d3b784-fc15-42db-8c52-f6b236c1777c",
   "metadata": {
    "tags": []
   },
   "outputs": [
    {
     "data": {
      "text/plain": [
       "<AxesSubplot:xlabel='dates'>"
      ]
     },
     "execution_count": 26,
     "metadata": {},
     "output_type": "execute_result"
    },
    {
     "data": {
      "image/png": "[encoded data removed]",
      "text/plain": [
       "<Figure size 1200x800 with 1 Axes>"
      ]
     },
     "metadata": {
      "needs_background": "light"
     },
     "output_type": "display_data"
    }
   ],
   "source": [
    "cov_interval[['daily_new_cases','daily_new_deaths','total_cases_per_100k','deaths_per_cases']].plot()\n",
    "\n",
    "\n",
    "\n",
    "# idx = pd.date_range(start=\"2020-12-20\", freq=\"D\", periods=7)\n",
    "# no2df[no2df['fips']=='01073'].loc[idx]\n",
    "# no2df[['Arithmetic Mean']][no2df['fips'] == '01073'].loc[tdate:'2020-12-20']"
   ]
  },
  {
   "cell_type": "code",
   "execution_count": 27,
   "id": "10f6cce4-0feb-48ce-8a31-c7fc64705661",
   "metadata": {
    "tags": []
   },
   "outputs": [
    {
     "data": {
      "text/plain": [
       "0.15336492689496836"
      ]
     },
     "execution_count": 27,
     "metadata": {},
     "output_type": "execute_result"
    }
   ],
   "source": [
    "tcase_for_pop = covdf2[\"JHU_ConfirmedCases.data\"].max()/covdf2[\"latestTotalPopulation\"].max()\n",
    "tcase_for_pop"
   ]
  },
  {
   "cell_type": "markdown",
   "id": "c7e2b0d9-ade5-4a82-8cfe-2be2e5e0b3a5",
   "metadata": {
    "tags": []
   },
   "source": [
    "### Verify values\n",
    "\n",
    "According to the [nytimes covid information](https://www.nytimes.com/interactive/2021/us/covid-cases.html), Jefferson Alabama (Fips = '010173') has a total case number = 1 in 6 of the population and deaths 1 in 330"
   ]
  },
  {
   "cell_type": "code",
   "execution_count": 28,
   "id": "a456e966-5549-438b-b262-d9e0e3748645",
   "metadata": {
    "tags": []
   },
   "outputs": [
    {
     "name": "stdout",
     "output_type": "stream",
     "text": [
      "given the estimate of 0.16666666666666666 from the nyt, we found a case rate of 0.15336492689496836 for the population of Jefferson county\n"
     ]
    }
   ],
   "source": [
    "print(f\"given the estimate of {1/6} from the nyt, we found a case rate of {tcase_for_pop} for the population of Jefferson county\")"
   ]
  },
  {
   "cell_type": "code",
   "execution_count": 29,
   "id": "fbb70c7e-3927-408f-bdda-1a85da3e68cd",
   "metadata": {},
   "outputs": [],
   "source": [
    "# getting a rolling average of the no2 concentrations\n",
    "no2_rolling_mean = no2df.groupby(\"fips\")[['Arithmetic Mean']].rolling(window=3).mean()\n",
    "no2rolling_peak = no2_rolling_mean.groupby(\"fips\").idxmax()\n",
    "no2raw_peak = no2df.groupby(\"fips\")[['Arithmetic Mean']].idxmax()"
   ]
  },
  {
   "cell_type": "code",
   "execution_count": 30,
   "id": "2e8cba0a-6671-4450-9307-99221b14148f",
   "metadata": {},
   "outputs": [
    {
     "data": {
      "text/html": [
       "<div>\n",
       "<style scoped>\n",
       "    .dataframe tbody tr th:only-of-type {\n",
       "        vertical-align: middle;\n",
       "    }\n",
       "\n",
       "    .dataframe tbody tr th {\n",
       "        vertical-align: top;\n",
       "    }\n",
       "\n",
       "    .dataframe thead th {\n",
       "        text-align: right;\n",
       "    }\n",
       "</style>\n",
       "<table border=\"1\" class=\"dataframe\">\n",
       "  <thead>\n",
       "    <tr style=\"text-align: right;\">\n",
       "      <th></th>\n",
       "      <th></th>\n",
       "      <th>Arithmetic Mean</th>\n",
       "    </tr>\n",
       "    <tr>\n",
       "      <th>fips</th>\n",
       "      <th>Date Local</th>\n",
       "      <th></th>\n",
       "    </tr>\n",
       "  </thead>\n",
       "  <tbody>\n",
       "    <tr>\n",
       "      <th rowspan=\"5\" valign=\"top\">01073</th>\n",
       "      <th>2020-01-03</th>\n",
       "      <td>15.149274</td>\n",
       "    </tr>\n",
       "    <tr>\n",
       "      <th>2020-01-04</th>\n",
       "      <td>10.919079</td>\n",
       "    </tr>\n",
       "    <tr>\n",
       "      <th>2020-01-05</th>\n",
       "      <td>12.587500</td>\n",
       "    </tr>\n",
       "    <tr>\n",
       "      <th>2020-01-06</th>\n",
       "      <td>11.839583</td>\n",
       "    </tr>\n",
       "    <tr>\n",
       "      <th>2020-01-07</th>\n",
       "      <td>14.112599</td>\n",
       "    </tr>\n",
       "    <tr>\n",
       "      <th>...</th>\n",
       "      <th>...</th>\n",
       "      <td>...</td>\n",
       "    </tr>\n",
       "    <tr>\n",
       "      <th rowspan=\"5\" valign=\"top\">72061</th>\n",
       "      <th>2020-01-21</th>\n",
       "      <td>16.951389</td>\n",
       "    </tr>\n",
       "    <tr>\n",
       "      <th>2020-01-22</th>\n",
       "      <td>14.392572</td>\n",
       "    </tr>\n",
       "    <tr>\n",
       "      <th>2020-01-23</th>\n",
       "      <td>12.910628</td>\n",
       "    </tr>\n",
       "    <tr>\n",
       "      <th>2020-01-24</th>\n",
       "      <td>12.952295</td>\n",
       "    </tr>\n",
       "    <tr>\n",
       "      <th>2020-01-25</th>\n",
       "      <td>12.338889</td>\n",
       "    </tr>\n",
       "  </tbody>\n",
       "</table>\n",
       "<p>19716 rows × 1 columns</p>\n",
       "</div>"
      ],
      "text/plain": [
       "                  Arithmetic Mean\n",
       "fips  Date Local                 \n",
       "01073 2020-01-03        15.149274\n",
       "      2020-01-04        10.919079\n",
       "      2020-01-05        12.587500\n",
       "      2020-01-06        11.839583\n",
       "      2020-01-07        14.112599\n",
       "...                           ...\n",
       "72061 2020-01-21        16.951389\n",
       "      2020-01-22        14.392572\n",
       "      2020-01-23        12.910628\n",
       "      2020-01-24        12.952295\n",
       "      2020-01-25        12.338889\n",
       "\n",
       "[19716 rows x 1 columns]"
      ]
     },
     "execution_count": 30,
     "metadata": {},
     "output_type": "execute_result"
    }
   ],
   "source": [
    "no2_rolling_mean[no2_rolling_mean['Arithmetic Mean'] >= county_benchmarks['01073']['mean_ppb']]"
   ]
  },
  {
   "cell_type": "code",
   "execution_count": 31,
   "id": "171a9dc6-c884-4327-a46f-784f3cdf6e86",
   "metadata": {},
   "outputs": [
    {
     "data": {
      "text/html": [
       "<div>\n",
       "<style scoped>\n",
       "    .dataframe tbody tr th:only-of-type {\n",
       "        vertical-align: middle;\n",
       "    }\n",
       "\n",
       "    .dataframe tbody tr th {\n",
       "        vertical-align: top;\n",
       "    }\n",
       "\n",
       "    .dataframe thead th {\n",
       "        text-align: right;\n",
       "    }\n",
       "</style>\n",
       "<table border=\"1\" class=\"dataframe\">\n",
       "  <thead>\n",
       "    <tr style=\"text-align: right;\">\n",
       "      <th></th>\n",
       "      <th>Arithmetic Mean</th>\n",
       "    </tr>\n",
       "    <tr>\n",
       "      <th>Date Local</th>\n",
       "      <th></th>\n",
       "    </tr>\n",
       "  </thead>\n",
       "  <tbody>\n",
       "    <tr>\n",
       "      <th>2020-01-01</th>\n",
       "      <td>NaN</td>\n",
       "    </tr>\n",
       "    <tr>\n",
       "      <th>2020-01-02</th>\n",
       "      <td>NaN</td>\n",
       "    </tr>\n",
       "    <tr>\n",
       "      <th>2020-01-03</th>\n",
       "      <td>15.149274</td>\n",
       "    </tr>\n",
       "    <tr>\n",
       "      <th>2020-01-04</th>\n",
       "      <td>10.919079</td>\n",
       "    </tr>\n",
       "    <tr>\n",
       "      <th>2020-01-05</th>\n",
       "      <td>12.587500</td>\n",
       "    </tr>\n",
       "  </tbody>\n",
       "</table>\n",
       "</div>"
      ],
      "text/plain": [
       "            Arithmetic Mean\n",
       "Date Local                 \n",
       "2020-01-01              NaN\n",
       "2020-01-02              NaN\n",
       "2020-01-03        15.149274\n",
       "2020-01-04        10.919079\n",
       "2020-01-05        12.587500"
      ]
     },
     "execution_count": 31,
     "metadata": {},
     "output_type": "execute_result"
    }
   ],
   "source": [
    "# fgroups = no2_rolling_mean.groupby('fips')\n",
    "idx = pd.IndexSlice\n",
    "t = no2_rolling_mean.loc(axis=0)[idx['01073']]\n",
    "t.head()"
   ]
  },
  {
   "cell_type": "code",
   "execution_count": 32,
   "id": "949f4278-2e43-4371-9cae-c6a71b07d170",
   "metadata": {},
   "outputs": [],
   "source": [
    "al_raw = no2df[no2df['fips'] == '01073'][['Arithmetic Mean']]"
   ]
  },
  {
   "cell_type": "code",
   "execution_count": 47,
   "id": "26662c9f-eb16-4c79-a35e-3712826e5efd",
   "metadata": {},
   "outputs": [],
   "source": [
    "first_case_date = pd.Timestamp('2020-1-20')\n",
    "rolling_peaks_dict = {}\n",
    "for artup in no2rolling_peak.values:\n",
    "    tup = artup[0]\n",
    "    rolling_peaks_dict[tup[0]] = tup[1]"
   ]
  },
  {
   "cell_type": "code",
   "execution_count": 36,
   "id": "7acb31fd-fea1-4850-a39e-38ca445e14c3",
   "metadata": {},
   "outputs": [],
   "source": [
    "no2fips=list(ex_dict.keys())"
   ]
  },
  {
   "cell_type": "code",
   "execution_count": 37,
   "id": "5d29d68f-e11d-4a3a-8f76-80a70cb27315",
   "metadata": {},
   "outputs": [
    {
     "name": "stdout",
     "output_type": "stream",
     "text": [
      "161\n"
     ]
    }
   ],
   "source": [
    "tlist = []\n",
    "for fip in no2fips:\n",
    "    if ex_dict[fip] > first_case_date+(4*pd.offsets.Week()):\n",
    "        tlist.append(fip)\n",
    "print(len(tlist))\n",
    "    "
   ]
  },
  {
   "cell_type": "code",
   "execution_count": 38,
   "id": "fc0d8bae-4244-498a-ba6b-5602f770436d",
   "metadata": {},
   "outputs": [
    {
     "data": {
      "text/plain": [
       "{'Date Local': {1744: Timestamp('2020-01-08 00:00:00'),\n",
       "  85413: Timestamp('2020-12-10 00:00:00')},\n",
       " 'Arithmetic Mean': {1744: 30.13, 85413: 25.422916999999998}}"
      ]
     },
     "execution_count": 38,
     "metadata": {},
     "output_type": "execute_result"
    }
   ],
   "source": [
    "to_cross_ref['01073']"
   ]
  },
  {
   "cell_type": "markdown",
   "id": "5202a6d8-92c2-4d4b-a29a-fc553c84fece",
   "metadata": {},
   "source": [
    "### taking stock\n",
    "I currently have\n",
    "- list of fips codes that have very hi break above "
   ]
  },
  {
   "cell_type": "code",
   "execution_count": 39,
   "id": "092118ab-934e-426a-88e2-0d54253c9977",
   "metadata": {},
   "outputs": [
    {
     "data": {
      "text/plain": [
       "fips\n",
       "01073    4.487149\n",
       "04013    6.220100\n",
       "04019    3.936105\n",
       "05035    3.444462\n",
       "05119    3.568080\n",
       "06001    5.764433\n",
       "06007    3.266836\n",
       "06013    3.525177\n",
       "06019    5.229202\n",
       "06023    1.469440\n",
       "Name: Arithmetic Mean, dtype: float64"
      ]
     },
     "execution_count": 39,
     "metadata": {},
     "output_type": "execute_result"
    }
   ],
   "source": [
    "# confirming that +15 ppb is actually above the std div\n",
    "stdList = flat_daily_avg.groupby(\"fips\")['Arithmetic Mean'].std()\n",
    "stdList[:10]"
   ]
  },
  {
   "cell_type": "code",
   "execution_count": 40,
   "id": "652a4ef4-5e68-4b45-8a97-b0cf02ca8019",
   "metadata": {
    "tags": []
   },
   "outputs": [
    {
     "data": {
      "text/plain": [
       "[<matplotlib.lines.Line2D at 0x1994cc92190>]"
      ]
     },
     "execution_count": 40,
     "metadata": {},
     "output_type": "execute_result"
    },
    {
     "data": {
      "image/png": "[encoded data removed]",
      "text/plain": [
       "<Figure size 1000x800 with 2 Axes>"
      ]
     },
     "metadata": {
      "needs_background": "light"
     },
     "output_type": "display_data"
    }
   ],
   "source": [
    "tfip = \"01073\"\n",
    "center_date = ex_dict[tfip]\n",
    "covdf2 = load_and_augment_fips(tfip)\n",
    "fig, axs = plt.subplots(2,1,figsize =(10,8) )\n",
    "no2_vals = no2df[no2df['fips'] == tfip].loc[center_date - offset:center_date+offset][\"Arithmetic Mean\"]\n",
    "cov_interval = covdf2.loc[center_date - offset:center_date+offset]\n",
    "\n",
    "axs[0].plot(cov_interval['daily_new_cases'])\n",
    "axs[1].plot(no2_vals)\n"
   ]
  },
  {
   "cell_type": "code",
   "execution_count": 135,
   "id": "a5fa4b84-3d75-476a-98ae-6f83da7c0ac0",
   "metadata": {},
   "outputs": [
    {
     "data": {
      "text/plain": [
       "'Maricopa_Arizona_UnitedStates'"
      ]
     },
     "execution_count": 135,
     "metadata": {},
     "output_type": "execute_result"
    }
   ],
   "source": [
    "get_county_from_fips(\"04013\")"
   ]
  },
  {
   "cell_type": "code",
   "execution_count": 41,
   "id": "8ec1c9e9-d9c6-493a-98dd-e8a7cd5f86a5",
   "metadata": {
    "tags": []
   },
   "outputs": [
    {
     "data": {
      "text/plain": [
       "[<matplotlib.lines.Line2D at 0x1994cd24220>]"
      ]
     },
     "execution_count": 41,
     "metadata": {},
     "output_type": "execute_result"
    },
    {
     "data": {
      "image/png": "[encoded data removed]",
      "text/plain": [
       "<Figure size 1000x800 with 2 Axes>"
      ]
     },
     "metadata": {
      "needs_background": "light"
     },
     "output_type": "display_data"
    }
   ],
   "source": [
    "tfip = \"04013\"\n",
    "center_date = ex_dict[tfip]\n",
    "\n",
    "covdf2 = load_and_augment_fips(tfip)\n",
    "fig, axs = plt.subplots(2,1,figsize =(10,8))\n",
    "no2_vals = no2df[no2df['fips'] == tfip].loc[center_date - offset:center_date+offset][\"Arithmetic Mean\"]\n",
    "cov_interval = covdf2.loc[center_date - offset:center_date+offset]\n",
    "\n",
    "axs[0].plot(cov_interval['daily_new_cases'])\n",
    "axs[1].plot(no2_vals)\n"
   ]
  },
  {
   "cell_type": "code",
   "execution_count": 42,
   "id": "a6dc02c6-ed39-4350-a66a-a2dbbce7308f",
   "metadata": {},
   "outputs": [
    {
     "data": {
      "text/plain": [
       "Text(0.5, 1.0, 'NO2 concentrations')"
      ]
     },
     "execution_count": 42,
     "metadata": {},
     "output_type": "execute_result"
    },
    {
     "data": {
      "image/png": "[encoded data removed]",
      "text/plain": [
       "<Figure size 1400x1100 with 2 Axes>"
      ]
     },
     "metadata": {
      "needs_background": "light"
     },
     "output_type": "display_data"
    }
   ],
   "source": [
    "temp = cov_interval.copy()\n",
    "fig, axs = plt.subplots(2,1,figsize =(14,11), sharex='col')\n",
    "no2_vals = no2df[no2df['fips'] == tfip].loc[center_date - 2*offset:center_date+2*offset][\"Arithmetic Mean\"]\n",
    "#plotting unshiftedtemp[\"daily_new_cases\"]\n",
    "axs[0].set_title(\"daily_new_cases\")\n",
    "axs[0].plot(temp[\"daily_new_cases\"],'b',label=\"daily cases\")\n",
    "axs[0].plot(temp[\"daily_new_cases\"].shift(-7,freq=\"D\"),'r', label=\"shifted back 7 days\")\n",
    "axs[0].legend()\n",
    "axs[1].plot(no2_vals)\n",
    "axs[1].set_title(\"NO2 concentrations\")"
   ]
  },
  {
   "cell_type": "markdown",
   "id": "8978fd3a-76b3-490e-8000-f6ffc264156d",
   "metadata": {},
   "source": [
    "### Caveats! \n",
    "\n",
    "- This is right around the christmas holiday in Arizona..."
   ]
  },
  {
   "cell_type": "code",
   "execution_count": 53,
   "id": "fb3efd3f-8608-4dce-ab84-88833262a47d",
   "metadata": {},
   "outputs": [],
   "source": [
    "ntest = load_and_augment_fips('06067')"
   ]
  },
  {
   "cell_type": "code",
   "execution_count": 71,
   "id": "a3a64990-9d5a-4e34-882c-0c24c2c1b3a0",
   "metadata": {},
   "outputs": [
    {
     "data": {
      "text/plain": [
       "'04013 daily cases'"
      ]
     },
     "execution_count": 71,
     "metadata": {},
     "output_type": "execute_result"
    }
   ],
   "source": [
    "\"{} daily cases\".format(tfip)"
   ]
  },
  {
   "cell_type": "code",
   "execution_count": 84,
   "id": "201a9992-27cd-411b-b738-325cd613e7d9",
   "metadata": {},
   "outputs": [],
   "source": [
    "def dual_plot(tfip, no2df,rolling_peaks_dict):\n",
    "    center_date = rolling_peaks_dict[tfip]\n",
    "    covdf2 = load_and_augment_fips(tfip)\n",
    "    fig, axs = plt.subplots(2,1,figsize =(11,8), sharex=True)\n",
    "    no2_vals = no2df[no2df['fips'] == tfip].loc[center_date - offset:center_date+offset][\"Arithmetic Mean\"]\n",
    "    cov_interval = covdf2.loc[center_date - offset:center_date+offset]\n",
    "    \n",
    "  \n",
    "\n",
    "    title_text = \"{} daily cases\".format(tfip)\n",
    "    axs[0].set_title(\"{} daily cases\".format(tfip))\n",
    "    axs[0].plot(cov_interval[\"daily_new_cases\"],'b',label=\"daily cases\")\n",
    "    axs[0].plot(cov_interval[\"daily_new_cases\"].shift(-7,freq=\"D\"),'r', label=\"shifted back 7 days\")\n",
    "    axs[0].legend()\n",
    "    axs[1].plot(no2_vals)\n",
    "    axs[1].set_title(\"NO2 concentrations\")\n",
    "    \n",
    "    "
   ]
  },
  {
   "cell_type": "code",
   "execution_count": 85,
   "id": "a777604b-fd4d-4866-bf8e-a9c655a78a2d",
   "metadata": {},
   "outputs": [
    {
     "data": {
      "image/png": "[encoded data removed]",
      "text/plain": [
       "<Figure size 1100x800 with 2 Axes>"
      ]
     },
     "metadata": {
      "needs_background": "light"
     },
     "output_type": "display_data"
    }
   ],
   "source": [
    "dual_plot('06067',no2df,rolling_peaks_dict)"
   ]
  },
  {
   "cell_type": "code",
   "execution_count": 88,
   "id": "d43498e8-1a3a-4312-b0b2-56a99f7a9339",
   "metadata": {},
   "outputs": [],
   "source": [
    "def gen_covid_df(fiplist):\n",
    "    # pass back the next dataframe in list\n",
    "    \n",
    "    for county in fiplist:\n",
    "        yield load_and_augment_fips(county)\n",
    "\n",
    "def make_and_save_figs(fiplist):\n",
    "    for df in gen_covid_df:\n",
    "        "
   ]
  },
  {
   "cell_type": "code",
   "execution_count": null,
   "id": "88a1a513-cd89-4d2c-b648-409d5438ce29",
   "metadata": {},
   "outputs": [],
   "source": [
    "fiplist = list(rolling_peaks_dict.keys())\n",
    "\n"
   ]
  }
 ],
 "metadata": {
  "kernelspec": {
   "display_name": "capstone",
   "language": "python",
   "name": "capstone"
  },
  "language_info": {
   "codemirror_mode": {
    "name": "ipython",
    "version": 3
   },
   "file_extension": ".py",
   "mimetype": "text/x-python",
   "name": "python",
   "nbconvert_exporter": "python",
   "pygments_lexer": "ipython3",
   "version": "3.9.5"
  }
 },
 "nbformat": 4,
 "nbformat_minor": 5
}
