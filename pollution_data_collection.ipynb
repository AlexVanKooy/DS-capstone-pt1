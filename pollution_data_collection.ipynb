{
 "cells": [
  {
   "cell_type": "code",
   "execution_count": null,
   "id": "28e01b0e-7294-4cf0-83f3-4e58839dc04e",
   "metadata": {},
   "outputs": [],
   "source": [
    "# general imports\n",
    "import numpy as np\n",
    "import pandas as pd\n",
    "from urllib.request import urlopen\n",
    "import json\n",
    "\n",
    "import plotly.express as px"
   ]
  },
  {
   "cell_type": "markdown",
   "id": "72497171-1114-4ac0-9e34-521c1fd58886",
   "metadata": {},
   "source": [
    "# Loading EPA Data"
   ]
  },
  {
   "cell_type": "code",
   "execution_count": null,
   "id": "f30d03c0-ecdd-4a55-8dc7-459a83b0ae54",
   "metadata": {
    "tags": []
   },
   "outputs": [],
   "source": [
    "air_data_21 = pd.read_csv(\"./local_datasets/air_quality/daily_summaries/daily_no2_42602_2021.csv\")\n",
    "air_data_20 = pd.read_csv(\"./local_datasets/air_quality/daily_summaries/daily_no2_42602_2020.csv\")\n",
    "air_data_19 = pd.read_csv(\"./local_datasets/air_quality/daily_summaries/daily_no2_42602_2019.csv\")"
   ]
  },
  {
   "cell_type": "markdown",
   "id": "3b019fb9-944c-4ce1-9d34-d06824723959",
   "metadata": {},
   "source": [
    "## Augmenting EPA Data\n",
    "\n",
    "The EPA daily summary has the fips code broken apart into it's components. For ease of use I'll be adding it to the df"
   ]
  },
  {
   "cell_type": "code",
   "execution_count": null,
   "id": "cfd50fe5-980e-4ae9-97f6-dccdc508e081",
   "metadata": {},
   "outputs": [],
   "source": [
    "def FIPS_function(row):\n",
    "    state = str(row['State Code']).zfill(2)\n",
    "    county = str(row['County Code']).zfill(3)\n",
    "    return state + county\n",
    "# convert to NO2 ug/m^3 for reference\n",
    "def no2_mass_by_vol(ppb):\n",
    "    ugm3 = 1.88*ppb\n",
    "    return ugm3\n"
   ]
  },
  {
   "cell_type": "code",
   "execution_count": null,
   "id": "7cd5f1df-2fe2-4bfa-b3f5-1ef5651fee24",
   "metadata": {},
   "outputs": [],
   "source": [
    "# adding a full fips code for simplicity and the average micrograms per liter \n",
    "air_data_20['fips'] = air_data_20.apply(lambda row: FIPS_function(row), axis=1)\n",
    "air_data_20['Mean ugm3'] = air_data_20.apply(lambda row: no2_mass_by_vol(row['Arithmetic Mean']), axis=1)\n",
    "\n",
    "# Same operations on 2021 data.\n",
    "air_data_21['fips'] = air_data_21.apply(lambda row: FIPS_function(row), axis=1)\n",
    "air_data_21['Mean ugm3'] = air_data_21.apply(lambda row: no2_mass_by_vol(row['Arithmetic Mean']), axis=1)\n",
    "\n",
    "air_data_19['fips'] = air_data_19.apply(lambda row: FIPS_function(row), axis=1)\n",
    "air_data_19['Mean ugm3'] = air_data_19.apply(lambda row: no2_mass_by_vol(row['Arithmetic Mean']), axis=1)\n",
    "# Exporting for github upload.\n",
    "\n",
    "#"
   ]
  },
  {
   "cell_type": "code",
   "execution_count": null,
   "id": "d39c7bf5-5014-443b-a826-64b518900f86",
   "metadata": {},
   "outputs": [],
   "source": [
    "air_data_20.to_csv(\"./data/air_quality/no2/daily_no2_2020_with_FIPS.csv\",index=False)\n",
    "air_data_19.to_csv(\"./data/air_quality/no2/daily_no2_2019_with_FIPS.csv\",index=False)\n",
    "air_data_21.to_csv(\"./data/air_quality/no2/daily_no2_2021_with_FIPS.csv\",index=False)"
   ]
  },
  {
   "cell_type": "markdown",
   "id": "c6946a9a-8ee8-4a73-adb1-75a37ba3b7c4",
   "metadata": {},
   "source": [
    "## Can we make a single dataset for these?"
   ]
  },
  {
   "cell_type": "code",
   "execution_count": null,
   "id": "2b1940df-16fe-440b-81b4-da5e63525e31",
   "metadata": {},
   "outputs": [],
   "source": [
    "len(air_data_20)"
   ]
  },
  {
   "cell_type": "markdown",
   "id": "c40c23e6-fd16-4f96-93cd-3661b95b21d0",
   "metadata": {},
   "source": [
    "150k + rows is a lot, we might have to get clever with this stuff"
   ]
  },
  {
   "cell_type": "markdown",
   "id": "06447f66-51ff-4d51-959e-470f6214475d",
   "metadata": {},
   "source": [
    "## Setting up US county map\n",
    "\n",
    "Documentation for Plotly's county map system available [here](https://plotly.com/python/choropleth-maps/)"
   ]
  },
  {
   "cell_type": "code",
   "execution_count": null,
   "id": "0f4da2c4-00ca-4b3b-8362-bcf14ce80b4a",
   "metadata": {
    "tags": []
   },
   "outputs": [],
   "source": [
    "# Pulling a GeoJSON file to give the geometry information for us counties, See docs for more details\n",
    "\n",
    "#might want to pickle \n",
    "with urlopen('https://raw.githubusercontent.com/plotly/datasets/master/geojson-counties-fips.json') as response:\n",
    "    counties = json.load(response)\n",
    "# feature.id is a FIPS code\n"
   ]
  },
  {
   "cell_type": "code",
   "execution_count": null,
   "id": "1af83108-3c2f-4245-9cf6-8c3c1a275e48",
   "metadata": {},
   "outputs": [],
   "source": [
    "# tweaked the plotly example to show where the monitoring sites are\n",
    "fig = px.choropleth(air_data_20, geojson=counties, locations='fips', color='POC',\n",
    "                           color_continuous_scale=\"Viridis\",\n",
    "                           range_color=(0, 12),\n",
    "                           scope=\"usa\",\n",
    "                           # labels={'POC':'location of sites'}\n",
    "                          )\n",
    "# fig.update_layout(margin={\"r\":0,\"t\":0,\"l\":0,\"b\":0})\n",
    "fig.update_layout(\n",
    "    autosize=False,\n",
    "    width=800,\n",
    "    height=800,)\n",
    "fig.show()"
   ]
  }
 ],
 "metadata": {
  "kernelspec": {
   "display_name": "capstone",
   "language": "python",
   "name": "capstone"
  },
  "language_info": {
   "codemirror_mode": {
    "name": "ipython",
    "version": 3
   },
   "file_extension": ".py",
   "mimetype": "text/x-python",
   "name": "python",
   "nbconvert_exporter": "python",
   "pygments_lexer": "ipython3",
   "version": "3.9.5"
  }
 },
 "nbformat": 4,
 "nbformat_minor": 5
}
