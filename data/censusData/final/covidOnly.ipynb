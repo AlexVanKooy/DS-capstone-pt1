{
 "cells": [
  {
   "cell_type": "markdown",
   "id": "e5c4fe28",
   "metadata": {},
   "source": [
    "Libraries and options"
   ]
  },
  {
   "cell_type": "code",
   "execution_count": 36,
   "id": "859eb158",
   "metadata": {},
   "outputs": [],
   "source": [
    "import numpy as np, pandas as pd\n",
    "import sys, os, re, zipfile, shutil, pickle, matplotlib.pyplot as plt, seaborn as sns, bz2,time\n",
    "import scipy.stats as stats\n",
    "pd.options.display.max_columns = 500\n",
    "pd.options.display.max_rows = 500\n",
    "pd.options.display.max_colwidth = 50"
   ]
  },
  {
   "cell_type": "code",
   "execution_count": 2,
   "id": "4a6c2b30",
   "metadata": {},
   "outputs": [],
   "source": [
    "def importPbz2( file ):\n",
    "    data = bz2.BZ2File(file,'rb')\n",
    "    return pd.read_pickle(data)"
   ]
  },
  {
   "cell_type": "code",
   "execution_count": 3,
   "id": "46fcae6f",
   "metadata": {},
   "outputs": [],
   "source": [
    "# newDF = importPbz2('covidPollutionCensus.pbz2')\n",
    "newDF = importPbz2('covidCensus.pbz2')\n",
    "# newDF = importPbz2('covid.pbz2')"
   ]
  },
  {
   "cell_type": "code",
   "execution_count": 4,
   "id": "c2a416bb",
   "metadata": {},
   "outputs": [],
   "source": [
    "newDF['fips'] = newDF['fips'].astype('str').str.zfill(5)\n",
    "# newDF['State Code'] = newDF['State Code'].astype('str').str.zfill(5)\n",
    "# newDF['County Code'] = newDF['County Code'].astype('str').str.zfill(5)\n",
    "newDF['dates'] = pd.to_datetime(newDF['dates'])"
   ]
  },
  {
   "cell_type": "markdown",
   "id": "b70fd3b6",
   "metadata": {},
   "source": [
    "And explore..."
   ]
  },
  {
   "cell_type": "code",
   "execution_count": 5,
   "id": "612cd54b",
   "metadata": {},
   "outputs": [],
   "source": [
    "newDF[['totalMoved','movedWithinState','movedWithoutState','movedFromAbroad','publicTrans','totalTrans','householdsTotal','houseWith65',\n",
    "      'house2+with65','houseFamily65','houseNonfam65','houseNo65','house2+No65','houseFamilyNo65','houseNonfamNo65',\n",
    "      'householdStructuresTotal','householdIncomeMedian','gini','hoursWorkedMean','unitsInStructure','healthInsTotal',\n",
    "      'healthInsNativeWith','healthInsForeignNatWith','healthInsForeignNoncitWith','healthInsForeignNatNo',\n",
    "      'healthInsForeignNoncitNo','healthInsNativeNo']]  = \\\n",
    "newDF[['totalMoved','movedWithinState','movedWithoutState','movedFromAbroad','publicTrans','totalTrans','householdsTotal','houseWith65',\n",
    "      'house2+with65','houseFamily65','houseNonfam65','houseNo65','house2+No65','houseFamilyNo65','houseNonfamNo65',\n",
    "      'householdStructuresTotal','householdIncomeMedian','gini','hoursWorkedMean','unitsInStructure','healthInsTotal',\n",
    "      'healthInsNativeWith','healthInsForeignNatWith','healthInsForeignNoncitWith','healthInsForeignNatNo',\n",
    "      'healthInsForeignNoncitNo','healthInsNativeNo']].astype('float64')"
   ]
  },
  {
   "cell_type": "code",
   "execution_count": 6,
   "id": "ad0487af",
   "metadata": {},
   "outputs": [],
   "source": [
    "testDF = newDF.groupby([pd.Grouper(key='dates',freq='W'),'fips']).agg('mean')\n",
    "\n",
    "# testDF = newDF.groupby('dates').agg('mean')"
   ]
  },
  {
   "cell_type": "code",
   "execution_count": 7,
   "id": "fa62bbe2",
   "metadata": {},
   "outputs": [],
   "source": [
    "testDF = testDF.reset_index()#.set_index(['dates','fips','pollutant'])"
   ]
  },
  {
   "cell_type": "code",
   "execution_count": 8,
   "id": "1c136554",
   "metadata": {},
   "outputs": [],
   "source": [
    "testDF = testDF[testDF['dates'].between('2020-03-11','2021-03-11')]"
   ]
  },
  {
   "cell_type": "code",
   "execution_count": 9,
   "id": "51bf1090",
   "metadata": {},
   "outputs": [],
   "source": [
    "testDF = testDF.sort_values(['dates','fips'])"
   ]
  },
  {
   "cell_type": "code",
   "execution_count": 10,
   "id": "c332634e",
   "metadata": {},
   "outputs": [],
   "source": [
    "wokka=[i for i in testDF if not (i.endswith('.missing'))|(i.startswith('NYT'))]\n",
    "testDF = testDF[wokka]"
   ]
  },
  {
   "cell_type": "code",
   "execution_count": 11,
   "id": "e500153d",
   "metadata": {},
   "outputs": [],
   "source": [
    "def rateCalc( numerators, denominator, DF  ):\n",
    "    for col in numerators:\n",
    "        DF[col+'Rate'] = DF[col] / DF[denominator]"
   ]
  },
  {
   "cell_type": "code",
   "execution_count": 12,
   "id": "68e3519d",
   "metadata": {},
   "outputs": [],
   "source": [
    "testDF['density']=testDF['TotalPopulation.data']/testDF['LND110210']\n",
    "testDF['caseRate']=testDF['JHU_ConfirmedCases.data'] / testDF['latestTotalPopulation']\n",
    "testDF['deathRate']=testDF['JHU_ConfirmedDeaths.data'] / testDF['latestTotalPopulation']"
   ]
  },
  {
   "cell_type": "code",
   "execution_count": 50,
   "id": "5dc8642a",
   "metadata": {},
   "outputs": [],
   "source": [
    "# testingDF = testDF[testDF['movedWithinState'].notna()].copy()\n",
    "# co = testingDF.sample(1)['fips'].values\n",
    "# print(co[0])\n",
    "# testingDF = testingDF.loc[testDF['fips']==co[0] ].groupby('dates').agg('mean')\n",
    "\n",
    "ratesDF = testDF.copy()\n",
    "\n",
    "rateCalc(['movedWithinState',\n",
    "         'movedWithoutState',\n",
    "         'movedFromAbroad'], 'totalMoved', ratesDF)\n",
    "\n",
    "rateCalc(['publicTrans'], 'totalTrans', ratesDF)\n",
    "\n",
    "rateCalc(['houseWith65', #householdsTotal\n",
    "'house2+with65',\n",
    "'houseFamily65',\n",
    "'houseNonfam65',\n",
    "'houseNo65',\n",
    "'house2+No65',\n",
    "'houseFamilyNo65',\n",
    "'houseNonfamNo65'], 'householdsTotal', ratesDF)\n",
    "\n",
    "rateCalc(['healthInsNativeWith', #healthInsTotal\n",
    "'healthInsForeignNatWith',\n",
    "'healthInsForeignNoncitWith'], 'healthInsTotal', ratesDF)\n",
    "\n",
    "rateCalc(['hospitalIcuBeds',\n",
    "          'hospitalLicensedBeds',\n",
    "          'hospitalStaffedBeds'], 'latestTotalPopulation', ratesDF)\n",
    "\n",
    "rateCalc(['MaleAndFemale_AtLeast65_Population.data'], 'latestTotalPopulation', ratesDF)\n",
    "\n",
    "ratesDF['healthInsRates']  = ratesDF[['healthInsNativeWith','healthInsForeignNatWith','healthInsForeignNoncitWith']].sum(axis=1) / ratesDF['healthInsTotal']\n",
    "ratesDF['householdsWith65Rate'] = ratesDF[['houseWith65Rate','house2+with65Rate','houseNonfam65Rate','houseFamily65']].sum(axis=1)\n",
    "ratesDF.drop(columns=['houseWith65Rate', \n",
    "              'house2+with65Rate',\n",
    "              'houseFamily65Rate',\n",
    "              'houseNonfam65Rate',\n",
    "              'houseNo65Rate',\n",
    "              'house2+No65Rate',\n",
    "              'houseFamilyNo65Rate',\n",
    "              'houseNonfamNo65Rate'], inplace=True)"
   ]
  },
  {
   "cell_type": "code",
   "execution_count": 42,
   "id": "db1a595d",
   "metadata": {},
   "outputs": [],
   "source": [
    "keep = ['dates','fips','AverageDailyTemperature.data','AveragePrecipitationTotal.data','AverageWindSpeed.data','BLS_UnemploymentRate.data',\\\n",
    "       'gini','hoursWorkedMean','unitsInStructure','density','householdIncomeMedian']\n",
    "wokka = [x for x in ratesDF if x.endswith('Rate')]\n",
    "keep.extend(wokka)\n",
    "ratesDF = ratesDF[keep]"
   ]
  },
  {
   "cell_type": "code",
   "execution_count": 69,
   "id": "50345fb9",
   "metadata": {},
   "outputs": [
    {
     "data": {
      "text/plain": [
       "3117"
      ]
     },
     "execution_count": 69,
     "metadata": {},
     "output_type": "execute_result"
    }
   ],
   "source": [
    "cols = ['dates','fips','deathRate','householdIncomeMedian','AverageDailyTemperature.data','gini','hospitalStaffedBedsRate','publicTransRate','householdsWith65Rate','density']\n",
    "rateFipsMean = ratesDF.loc[:,cols].groupby('fips').agg('mean')\n",
    "rateFipsMean\n",
    "\n",
    "rateCorrs = rateFipsMean.corr()#.sort_values('deathRate',ascending=False,key=abs)\n",
    "rateCorrs.round(3)\n",
    "ratesDF['fips'].nunique()"
   ]
  },
  {
   "cell_type": "code",
   "execution_count": 62,
   "id": "57ef0a20",
   "metadata": {},
   "outputs": [
    {
     "data": {
      "text/html": [
       "<div>\n",
       "<style scoped>\n",
       "    .dataframe tbody tr th:only-of-type {\n",
       "        vertical-align: middle;\n",
       "    }\n",
       "\n",
       "    .dataframe tbody tr th {\n",
       "        vertical-align: top;\n",
       "    }\n",
       "\n",
       "    .dataframe thead th {\n",
       "        text-align: right;\n",
       "    }\n",
       "</style>\n",
       "<table border=\"1\" class=\"dataframe\">\n",
       "  <thead>\n",
       "    <tr style=\"text-align: right;\">\n",
       "      <th></th>\n",
       "      <th>deathRate</th>\n",
       "      <th>householdIncomeMedian</th>\n",
       "      <th>AverageDailyTemperature.data</th>\n",
       "      <th>gini</th>\n",
       "      <th>hospitalStaffedBedsRate</th>\n",
       "      <th>publicTransRate</th>\n",
       "      <th>householdsWith65Rate</th>\n",
       "      <th>density</th>\n",
       "    </tr>\n",
       "  </thead>\n",
       "  <tbody>\n",
       "    <tr>\n",
       "      <th>deathRate</th>\n",
       "      <td>0.000</td>\n",
       "      <td>0.0</td>\n",
       "      <td>0.000</td>\n",
       "      <td>0.0</td>\n",
       "      <td>0.000</td>\n",
       "      <td>0.000</td>\n",
       "      <td>0.00</td>\n",
       "      <td>0.009</td>\n",
       "    </tr>\n",
       "    <tr>\n",
       "      <th>AverageDailyTemperature.data</th>\n",
       "      <td>0.000</td>\n",
       "      <td>0.0</td>\n",
       "      <td>0.000</td>\n",
       "      <td>0.0</td>\n",
       "      <td>0.000</td>\n",
       "      <td>0.000</td>\n",
       "      <td>0.00</td>\n",
       "      <td>0.000</td>\n",
       "    </tr>\n",
       "    <tr>\n",
       "      <th>gini</th>\n",
       "      <td>0.000</td>\n",
       "      <td>0.0</td>\n",
       "      <td>0.000</td>\n",
       "      <td>0.0</td>\n",
       "      <td>0.374</td>\n",
       "      <td>0.110</td>\n",
       "      <td>0.00</td>\n",
       "      <td>0.004</td>\n",
       "    </tr>\n",
       "    <tr>\n",
       "      <th>hospitalStaffedBedsRate</th>\n",
       "      <td>0.000</td>\n",
       "      <td>0.0</td>\n",
       "      <td>0.000</td>\n",
       "      <td>0.0</td>\n",
       "      <td>0.000</td>\n",
       "      <td>0.000</td>\n",
       "      <td>0.00</td>\n",
       "      <td>0.000</td>\n",
       "    </tr>\n",
       "    <tr>\n",
       "      <th>publicTransRate</th>\n",
       "      <td>0.000</td>\n",
       "      <td>0.0</td>\n",
       "      <td>0.374</td>\n",
       "      <td>0.0</td>\n",
       "      <td>0.000</td>\n",
       "      <td>0.749</td>\n",
       "      <td>0.53</td>\n",
       "      <td>0.005</td>\n",
       "    </tr>\n",
       "    <tr>\n",
       "      <th>householdIncomeMedian</th>\n",
       "      <td>0.000</td>\n",
       "      <td>0.0</td>\n",
       "      <td>0.110</td>\n",
       "      <td>0.0</td>\n",
       "      <td>0.749</td>\n",
       "      <td>0.000</td>\n",
       "      <td>0.00</td>\n",
       "      <td>0.000</td>\n",
       "    </tr>\n",
       "    <tr>\n",
       "      <th>householdsWith65Rate</th>\n",
       "      <td>0.000</td>\n",
       "      <td>0.0</td>\n",
       "      <td>0.000</td>\n",
       "      <td>0.0</td>\n",
       "      <td>0.530</td>\n",
       "      <td>0.000</td>\n",
       "      <td>0.00</td>\n",
       "      <td>0.000</td>\n",
       "    </tr>\n",
       "    <tr>\n",
       "      <th>density</th>\n",
       "      <td>0.009</td>\n",
       "      <td>0.0</td>\n",
       "      <td>0.004</td>\n",
       "      <td>0.0</td>\n",
       "      <td>0.005</td>\n",
       "      <td>0.000</td>\n",
       "      <td>0.00</td>\n",
       "      <td>0.000</td>\n",
       "    </tr>\n",
       "  </tbody>\n",
       "</table>\n",
       "</div>"
      ],
      "text/plain": [
       "                              deathRate  householdIncomeMedian  \\\n",
       "deathRate                         0.000                    0.0   \n",
       "AverageDailyTemperature.data      0.000                    0.0   \n",
       "gini                              0.000                    0.0   \n",
       "hospitalStaffedBedsRate           0.000                    0.0   \n",
       "publicTransRate                   0.000                    0.0   \n",
       "householdIncomeMedian             0.000                    0.0   \n",
       "householdsWith65Rate              0.000                    0.0   \n",
       "density                           0.009                    0.0   \n",
       "\n",
       "                              AverageDailyTemperature.data  gini  \\\n",
       "deathRate                                            0.000   0.0   \n",
       "AverageDailyTemperature.data                         0.000   0.0   \n",
       "gini                                                 0.000   0.0   \n",
       "hospitalStaffedBedsRate                              0.000   0.0   \n",
       "publicTransRate                                      0.374   0.0   \n",
       "householdIncomeMedian                                0.110   0.0   \n",
       "householdsWith65Rate                                 0.000   0.0   \n",
       "density                                              0.004   0.0   \n",
       "\n",
       "                              hospitalStaffedBedsRate  publicTransRate  \\\n",
       "deathRate                                       0.000            0.000   \n",
       "AverageDailyTemperature.data                    0.000            0.000   \n",
       "gini                                            0.374            0.110   \n",
       "hospitalStaffedBedsRate                         0.000            0.000   \n",
       "publicTransRate                                 0.000            0.749   \n",
       "householdIncomeMedian                           0.749            0.000   \n",
       "householdsWith65Rate                            0.530            0.000   \n",
       "density                                         0.005            0.000   \n",
       "\n",
       "                              householdsWith65Rate  density  \n",
       "deathRate                                     0.00    0.009  \n",
       "AverageDailyTemperature.data                  0.00    0.000  \n",
       "gini                                          0.00    0.004  \n",
       "hospitalStaffedBedsRate                       0.00    0.000  \n",
       "publicTransRate                               0.53    0.005  \n",
       "householdIncomeMedian                         0.00    0.000  \n",
       "householdsWith65Rate                          0.00    0.000  \n",
       "density                                       0.00    0.000  "
      ]
     },
     "execution_count": 62,
     "metadata": {},
     "output_type": "execute_result"
    }
   ],
   "source": [
    "# p values\n",
    "pVals = rateFipsMean.corr(method=lambda x, y: stats.pearsonr(x, y)[1]) - np.eye(len(rateFipsMean.columns)) \n",
    "pVals.set_index(rateCorrs.index).round(3)"
   ]
  }
 ],
 "metadata": {
  "kernelspec": {
   "display_name": "Python 3 (ipykernel)",
   "language": "python",
   "name": "python3"
  },
  "language_info": {
   "codemirror_mode": {
    "name": "ipython",
    "version": 3
   },
   "file_extension": ".py",
   "mimetype": "text/x-python",
   "name": "python",
   "nbconvert_exporter": "python",
   "pygments_lexer": "ipython3",
   "version": "3.8.12"
  }
 },
 "nbformat": 4,
 "nbformat_minor": 5
}
