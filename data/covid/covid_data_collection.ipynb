{
 "cells": [
  {
   "cell_type": "markdown",
   "id": "3260f273-6e59-41a1-8897-d0f91fdee373",
   "metadata": {},
   "source": [
    "# DSCI591 Data Collection\n",
    "## COVID-19"
   ]
  },
  {
   "cell_type": "code",
   "execution_count": 2,
   "id": "d0393b1b-4ab4-4024-825f-1e3608a7cca9",
   "metadata": {},
   "outputs": [],
   "source": [
    "import requests\n",
    "import json\n",
    "from time import sleep\n",
    "import os\n",
    "from os import path\n",
    "from datetime import datetime, timedelta\n",
    "from glob import glob\n",
    "import re\n",
    "import csv\n",
    "\n",
    "\n",
    "import pandas as pd\n",
    "from matplotlib import pyplot as plt\n",
    "from scipy.stats import gamma\n",
    "import numpy as np\n"
   ]
  },
  {
   "cell_type": "code",
   "execution_count": null,
   "id": "67181bd5-e508-4bb0-b629-d0619ede9b7f",
   "metadata": {},
   "outputs": [],
   "source": []
  }
 ],
 "metadata": {
  "kernelspec": {
   "display_name": "Python 3 (ipykernel)",
   "language": "python",
   "name": "python3"
  },
  "language_info": {
   "codemirror_mode": {
    "name": "ipython",
    "version": 3
   },
   "file_extension": ".py",
   "mimetype": "text/x-python",
   "name": "python",
   "nbconvert_exporter": "python",
   "pygments_lexer": "ipython3",
   "version": "3.9.3"
  }
 },
 "nbformat": 4,
 "nbformat_minor": 5
}
