{
 "cells": [
  {
   "cell_type": "markdown",
   "id": "overhead-constraint",
   "metadata": {},
   "source": [
    "# PM2.5 Speciation, lead, and ozone data"
   ]
  },
  {
   "cell_type": "code",
   "execution_count": 15,
   "id": "qualified-painting",
   "metadata": {},
   "outputs": [],
   "source": [
    "import pandas as pd\n",
    "import numpy as np\n",
    "import addfips"
   ]
  },
  {
   "cell_type": "markdown",
   "id": "sustainable-roller",
   "metadata": {},
   "source": [
    "## data imports"
   ]
  },
  {
   "cell_type": "code",
   "execution_count": 2,
   "id": "retired-flower",
   "metadata": {},
   "outputs": [
    {
     "name": "stderr",
     "output_type": "stream",
     "text": [
      "/Library/Frameworks/Python.framework/Versions/3.8/lib/python3.8/site-packages/IPython/core/interactiveshell.py:3146: DtypeWarning: Columns (27) have mixed types.Specify dtype option on import or set low_memory=False.\n",
      "  has_raised = await self.run_ast_nodes(code_ast.body, cell_name,\n"
     ]
    }
   ],
   "source": [
    "# https://aqs.epa.gov/aqsweb/airdata/download_files.html#Daily\n",
    "\n",
    "#pm2.5 speciation\n",
    "pm19 = pd.read_csv('daily_SPEC_2019.csv')\n",
    "pm20 = pd.read_csv('daily_SPEC_2020.csv')\n",
    "pm21 = pd.read_csv('daily_SPEC_2021.csv')\n",
    "\n",
    "#lead\n",
    "lead19 = pd.read_csv('daily_LEAD_2019.csv')\n",
    "lead20 = pd.read_csv('daily_LEAD_2020.csv')\n",
    "lead21 = pd.read_csv('daily_LEAD_2021.csv')\n",
    "\n",
    "#ozone\n",
    "ozone19 = pd.read_csv('daily_44201_2019.csv')\n",
    "ozone20 = pd.read_csv('daily_44201_2020.csv')\n",
    "ozone21 = pd.read_csv('daily_44201_2021.csv')"
   ]
  },
  {
   "cell_type": "markdown",
   "id": "interesting-bryan",
   "metadata": {},
   "source": [
    "## quick look"
   ]
  },
  {
   "cell_type": "code",
   "execution_count": 8,
   "id": "meaning-stewart",
   "metadata": {
    "scrolled": true
   },
   "outputs": [
    {
     "name": "stdout",
     "output_type": "stream",
     "text": [
      "2019-> (2000693, 29)  2020->  (1376492, 29)  2021->  (36228, 29)\n",
      "Columns:  Index(['State Code', 'County Code', 'Site Num', 'Parameter Code', 'POC',\n",
      "       'Latitude', 'Longitude', 'Datum', 'Parameter Name', 'Sample Duration',\n",
      "       'Pollutant Standard', 'Date Local', 'Units of Measure', 'Event Type',\n",
      "       'Observation Count', 'Observation Percent', 'Arithmetic Mean',\n",
      "       '1st Max Value', '1st Max Hour', 'AQI', 'Method Code', 'Method Name',\n",
      "       'Local Site Name', 'Address', 'State Name', 'County Name', 'City Name',\n",
      "       'CBSA Name', 'Date of Last Change'],\n",
      "      dtype='object')\n"
     ]
    },
    {
     "data": {
      "text/html": [
       "<div>\n",
       "<style scoped>\n",
       "    .dataframe tbody tr th:only-of-type {\n",
       "        vertical-align: middle;\n",
       "    }\n",
       "\n",
       "    .dataframe tbody tr th {\n",
       "        vertical-align: top;\n",
       "    }\n",
       "\n",
       "    .dataframe thead th {\n",
       "        text-align: right;\n",
       "    }\n",
       "</style>\n",
       "<table border=\"1\" class=\"dataframe\">\n",
       "  <thead>\n",
       "    <tr style=\"text-align: right;\">\n",
       "      <th></th>\n",
       "      <th>State Code</th>\n",
       "      <th>County Code</th>\n",
       "      <th>Site Num</th>\n",
       "      <th>Parameter Code</th>\n",
       "      <th>POC</th>\n",
       "      <th>Latitude</th>\n",
       "      <th>Longitude</th>\n",
       "      <th>Datum</th>\n",
       "      <th>Parameter Name</th>\n",
       "      <th>Sample Duration</th>\n",
       "      <th>...</th>\n",
       "      <th>AQI</th>\n",
       "      <th>Method Code</th>\n",
       "      <th>Method Name</th>\n",
       "      <th>Local Site Name</th>\n",
       "      <th>Address</th>\n",
       "      <th>State Name</th>\n",
       "      <th>County Name</th>\n",
       "      <th>City Name</th>\n",
       "      <th>CBSA Name</th>\n",
       "      <th>Date of Last Change</th>\n",
       "    </tr>\n",
       "  </thead>\n",
       "  <tbody>\n",
       "    <tr>\n",
       "      <th>0</th>\n",
       "      <td>1</td>\n",
       "      <td>73</td>\n",
       "      <td>23</td>\n",
       "      <td>68102</td>\n",
       "      <td>1</td>\n",
       "      <td>33.553056</td>\n",
       "      <td>-86.815</td>\n",
       "      <td>WGS84</td>\n",
       "      <td>Sample Volume</td>\n",
       "      <td>24 HOUR</td>\n",
       "      <td>...</td>\n",
       "      <td>NaN</td>\n",
       "      <td>142</td>\n",
       "      <td>BGI Models PQ200-VSCC or PQ200A-VSCC - Calcula...</td>\n",
       "      <td>North Birmingham</td>\n",
       "      <td>NO. B'HAM,SOU R.R., 3009 28TH ST. NO.</td>\n",
       "      <td>Alabama</td>\n",
       "      <td>Jefferson</td>\n",
       "      <td>Birmingham</td>\n",
       "      <td>Birmingham-Hoover, AL</td>\n",
       "      <td>2020-03-25</td>\n",
       "    </tr>\n",
       "  </tbody>\n",
       "</table>\n",
       "<p>1 rows × 29 columns</p>\n",
       "</div>"
      ],
      "text/plain": [
       "   State Code  County Code  Site Num  Parameter Code  POC   Latitude  \\\n",
       "0           1           73        23           68102    1  33.553056   \n",
       "\n",
       "   Longitude  Datum Parameter Name Sample Duration  ...  AQI Method Code  \\\n",
       "0    -86.815  WGS84  Sample Volume         24 HOUR  ...  NaN         142   \n",
       "\n",
       "                                         Method Name   Local Site Name  \\\n",
       "0  BGI Models PQ200-VSCC or PQ200A-VSCC - Calcula...  North Birmingham   \n",
       "\n",
       "                                 Address  State Name  County Name   City Name  \\\n",
       "0  NO. B'HAM,SOU R.R., 3009 28TH ST. NO.     Alabama    Jefferson  Birmingham   \n",
       "\n",
       "               CBSA Name  Date of Last Change  \n",
       "0  Birmingham-Hoover, AL           2020-03-25  \n",
       "\n",
       "[1 rows x 29 columns]"
      ]
     },
     "execution_count": 8,
     "metadata": {},
     "output_type": "execute_result"
    }
   ],
   "source": [
    "print('2019->', pm19.shape,' 2020-> ',pm20.shape,' 2021-> ',pm21.shape)\n",
    "print('Columns: ',pm19.columns)\n",
    "pm19.head(1)"
   ]
  },
  {
   "cell_type": "code",
   "execution_count": 9,
   "id": "sexual-adelaide",
   "metadata": {},
   "outputs": [
    {
     "name": "stdout",
     "output_type": "stream",
     "text": [
      "2019->  (12938, 29)  2020->  (10165, 29)  2021->  (442, 29)\n",
      "Columns:  Index(['State Code', 'County Code', 'Site Num', 'Parameter Code', 'POC',\n",
      "       'Latitude', 'Longitude', 'Datum', 'Parameter Name', 'Sample Duration',\n",
      "       'Pollutant Standard', 'Date Local', 'Units of Measure', 'Event Type',\n",
      "       'Observation Count', 'Observation Percent', 'Arithmetic Mean',\n",
      "       '1st Max Value', '1st Max Hour', 'AQI', 'Method Code', 'Method Name',\n",
      "       'Local Site Name', 'Address', 'State Name', 'County Name', 'City Name',\n",
      "       'CBSA Name', 'Date of Last Change'],\n",
      "      dtype='object')\n"
     ]
    },
    {
     "data": {
      "text/html": [
       "<div>\n",
       "<style scoped>\n",
       "    .dataframe tbody tr th:only-of-type {\n",
       "        vertical-align: middle;\n",
       "    }\n",
       "\n",
       "    .dataframe tbody tr th {\n",
       "        vertical-align: top;\n",
       "    }\n",
       "\n",
       "    .dataframe thead th {\n",
       "        text-align: right;\n",
       "    }\n",
       "</style>\n",
       "<table border=\"1\" class=\"dataframe\">\n",
       "  <thead>\n",
       "    <tr style=\"text-align: right;\">\n",
       "      <th></th>\n",
       "      <th>State Code</th>\n",
       "      <th>County Code</th>\n",
       "      <th>Site Num</th>\n",
       "      <th>Parameter Code</th>\n",
       "      <th>POC</th>\n",
       "      <th>Latitude</th>\n",
       "      <th>Longitude</th>\n",
       "      <th>Datum</th>\n",
       "      <th>Parameter Name</th>\n",
       "      <th>Sample Duration</th>\n",
       "      <th>...</th>\n",
       "      <th>AQI</th>\n",
       "      <th>Method Code</th>\n",
       "      <th>Method Name</th>\n",
       "      <th>Local Site Name</th>\n",
       "      <th>Address</th>\n",
       "      <th>State Name</th>\n",
       "      <th>County Name</th>\n",
       "      <th>City Name</th>\n",
       "      <th>CBSA Name</th>\n",
       "      <th>Date of Last Change</th>\n",
       "    </tr>\n",
       "  </thead>\n",
       "  <tbody>\n",
       "    <tr>\n",
       "      <th>0</th>\n",
       "      <td>1</td>\n",
       "      <td>109</td>\n",
       "      <td>3</td>\n",
       "      <td>14129</td>\n",
       "      <td>1</td>\n",
       "      <td>31.790479</td>\n",
       "      <td>-85.978974</td>\n",
       "      <td>NAD83</td>\n",
       "      <td>Lead (TSP) LC</td>\n",
       "      <td>24 HOUR</td>\n",
       "      <td>...</td>\n",
       "      <td>NaN</td>\n",
       "      <td>44</td>\n",
       "      <td>Hi-Vol - Flameless Atomic absorption (GFAA) EP...</td>\n",
       "      <td>TROY LEAD</td>\n",
       "      <td>HENDERSON ROAD</td>\n",
       "      <td>Alabama</td>\n",
       "      <td>Pike</td>\n",
       "      <td>Troy</td>\n",
       "      <td>Troy, AL</td>\n",
       "      <td>2020-07-01</td>\n",
       "    </tr>\n",
       "  </tbody>\n",
       "</table>\n",
       "<p>1 rows × 29 columns</p>\n",
       "</div>"
      ],
      "text/plain": [
       "   State Code  County Code  Site Num  Parameter Code  POC   Latitude  \\\n",
       "0           1          109         3           14129    1  31.790479   \n",
       "\n",
       "   Longitude  Datum Parameter Name Sample Duration  ... AQI Method Code  \\\n",
       "0 -85.978974  NAD83  Lead (TSP) LC         24 HOUR  ... NaN          44   \n",
       "\n",
       "                                         Method Name Local Site Name  \\\n",
       "0  Hi-Vol - Flameless Atomic absorption (GFAA) EP...       TROY LEAD   \n",
       "\n",
       "          Address  State Name  County Name  City Name  CBSA Name  \\\n",
       "0  HENDERSON ROAD     Alabama         Pike       Troy   Troy, AL   \n",
       "\n",
       "   Date of Last Change  \n",
       "0           2020-07-01  \n",
       "\n",
       "[1 rows x 29 columns]"
      ]
     },
     "execution_count": 9,
     "metadata": {},
     "output_type": "execute_result"
    }
   ],
   "source": [
    "print('2019-> ', lead19.shape,' 2020-> ',lead20.shape,' 2021-> ',lead21.shape)\n",
    "print('Columns: ',lead19.columns)\n",
    "lead19.head(1)"
   ]
  },
  {
   "cell_type": "code",
   "execution_count": 12,
   "id": "dangerous-tiger",
   "metadata": {},
   "outputs": [
    {
     "name": "stdout",
     "output_type": "stream",
     "text": [
      "2019->  (392252, 29)  2020->  (391923, 29)  2021->  (37694, 29)\n",
      "Columns:  Index(['State Code', 'County Code', 'Site Num', 'Parameter Code', 'POC',\n",
      "       'Latitude', 'Longitude', 'Datum', 'Parameter Name', 'Sample Duration',\n",
      "       'Pollutant Standard', 'Date Local', 'Units of Measure', 'Event Type',\n",
      "       'Observation Count', 'Observation Percent', 'Arithmetic Mean',\n",
      "       '1st Max Value', '1st Max Hour', 'AQI', 'Method Code', 'Method Name',\n",
      "       'Local Site Name', 'Address', 'State Name', 'County Name', 'City Name',\n",
      "       'CBSA Name', 'Date of Last Change'],\n",
      "      dtype='object')\n"
     ]
    },
    {
     "data": {
      "text/html": [
       "<div>\n",
       "<style scoped>\n",
       "    .dataframe tbody tr th:only-of-type {\n",
       "        vertical-align: middle;\n",
       "    }\n",
       "\n",
       "    .dataframe tbody tr th {\n",
       "        vertical-align: top;\n",
       "    }\n",
       "\n",
       "    .dataframe thead th {\n",
       "        text-align: right;\n",
       "    }\n",
       "</style>\n",
       "<table border=\"1\" class=\"dataframe\">\n",
       "  <thead>\n",
       "    <tr style=\"text-align: right;\">\n",
       "      <th></th>\n",
       "      <th>State Code</th>\n",
       "      <th>County Code</th>\n",
       "      <th>Site Num</th>\n",
       "      <th>Parameter Code</th>\n",
       "      <th>POC</th>\n",
       "      <th>Latitude</th>\n",
       "      <th>Longitude</th>\n",
       "      <th>Datum</th>\n",
       "      <th>Parameter Name</th>\n",
       "      <th>Sample Duration</th>\n",
       "      <th>...</th>\n",
       "      <th>AQI</th>\n",
       "      <th>Method Code</th>\n",
       "      <th>Method Name</th>\n",
       "      <th>Local Site Name</th>\n",
       "      <th>Address</th>\n",
       "      <th>State Name</th>\n",
       "      <th>County Name</th>\n",
       "      <th>City Name</th>\n",
       "      <th>CBSA Name</th>\n",
       "      <th>Date of Last Change</th>\n",
       "    </tr>\n",
       "  </thead>\n",
       "  <tbody>\n",
       "    <tr>\n",
       "      <th>0</th>\n",
       "      <td>1</td>\n",
       "      <td>3</td>\n",
       "      <td>10</td>\n",
       "      <td>44201</td>\n",
       "      <td>1</td>\n",
       "      <td>30.497478</td>\n",
       "      <td>-87.880258</td>\n",
       "      <td>NAD83</td>\n",
       "      <td>Ozone</td>\n",
       "      <td>8-HR RUN AVG BEGIN HOUR</td>\n",
       "      <td>...</td>\n",
       "      <td>12</td>\n",
       "      <td>NaN</td>\n",
       "      <td>-</td>\n",
       "      <td>FAIRHOPE, Alabama</td>\n",
       "      <td>FAIRHOPE HIGH SCHOOL, 1 PIRATE DRIVE, FAIRHOPE...</td>\n",
       "      <td>Alabama</td>\n",
       "      <td>Baldwin</td>\n",
       "      <td>Fairhope</td>\n",
       "      <td>Daphne-Fairhope-Foley, AL</td>\n",
       "      <td>2020-02-18</td>\n",
       "    </tr>\n",
       "  </tbody>\n",
       "</table>\n",
       "<p>1 rows × 29 columns</p>\n",
       "</div>"
      ],
      "text/plain": [
       "   State Code  County Code  Site Num  Parameter Code  POC   Latitude  \\\n",
       "0           1            3        10           44201    1  30.497478   \n",
       "\n",
       "   Longitude  Datum Parameter Name          Sample Duration  ... AQI  \\\n",
       "0 -87.880258  NAD83          Ozone  8-HR RUN AVG BEGIN HOUR  ...  12   \n",
       "\n",
       "  Method Code Method Name    Local Site Name  \\\n",
       "0         NaN          -   FAIRHOPE, Alabama   \n",
       "\n",
       "                                             Address  State Name  County Name  \\\n",
       "0  FAIRHOPE HIGH SCHOOL, 1 PIRATE DRIVE, FAIRHOPE...     Alabama      Baldwin   \n",
       "\n",
       "   City Name                  CBSA Name  Date of Last Change  \n",
       "0   Fairhope  Daphne-Fairhope-Foley, AL           2020-02-18  \n",
       "\n",
       "[1 rows x 29 columns]"
      ]
     },
     "execution_count": 12,
     "metadata": {},
     "output_type": "execute_result"
    }
   ],
   "source": [
    "print('2019-> ',ozone19.shape,' 2020-> ',ozone20.shape,' 2021-> ',ozone21.shape)\n",
    "print('Columns: ',ozone19.columns)\n",
    "ozone19.head(1)"
   ]
  },
  {
   "cell_type": "code",
   "execution_count": null,
   "id": "national-sussex",
   "metadata": {},
   "outputs": [],
   "source": [
    "# if you wanted to combine the datasets for and add a year column\n",
    "\n",
    "#print(spec19.head()); print(spec20.head()); #print(spec21.head())\n",
    "#spec19.head(2)\n",
    "#spec19['collection_year'] = 2019;spec20['collection_year'] = 2020;spec21['collection_year'] = 2021\n",
    "#PM25_speciation = pd.concat([spec19,spec20,spec21], ignore_index=True)\n",
    "#PM25_speciation.head(2)"
   ]
  },
  {
   "cell_type": "markdown",
   "id": "minimal-sunday",
   "metadata": {},
   "source": [
    "## add FIPS codes, not needed"
   ]
  },
  {
   "cell_type": "code",
   "execution_count": null,
   "id": "prescribed-macedonia",
   "metadata": {},
   "outputs": [],
   "source": [
    "#example\n",
    "#af = addfips.AddFIPS()\n",
    "#print(af.get_state_fips('Alabama'))\n",
    "#01\n",
    "#print(af.get_county_fips('Jefferson','Alabama'))\n",
    "#01073"
   ]
  },
  {
   "cell_type": "code",
   "execution_count": 13,
   "id": "spanish-claim",
   "metadata": {},
   "outputs": [],
   "source": [
    "#don't have to run, my intial take\n",
    "\n",
    "af = addfips.AddFIPS()\n",
    "pm19['fips'] = [af.get_county_fips(row._26,row._25) for row in pm19.itertuples()]\n",
    "#pm20['FIPS'] = [af.get_county_fips(row._26,row._25) for row in pm20.itertuples()]\n",
    "#pm21['FIPS'] = [af.get_county_fips(row._26,row._25) for row in pm21.itertuples()]"
   ]
  },
  {
   "cell_type": "code",
   "execution_count": 19,
   "id": "nasty-fortune",
   "metadata": {},
   "outputs": [
    {
     "data": {
      "text/plain": [
       "array(['Alaska', 'Aleutians East ', 'Denali ', 'Fairbanks North Star ',\n",
       "       'Kenai Peninsula ', 'Matanuska-Susitna ', 'North Slope ',\n",
       "       'St John', 'Virgin Islands'], dtype='<U21')"
      ]
     },
     "execution_count": 19,
     "metadata": {},
     "output_type": "execute_result"
    }
   ],
   "source": [
    "missingPM = []\n",
    "for row in pm19.itertuples():\n",
    "    if row.fips is None:\n",
    "        missingPM.append((row._26,row._25))\n",
    "np.unique(missingPM)"
   ]
  },
  {
   "cell_type": "markdown",
   "id": "muslim-protocol",
   "metadata": {},
   "source": [
    "### actually add fips codes"
   ]
  },
  {
   "cell_type": "code",
   "execution_count": 20,
   "id": "turned-bibliography",
   "metadata": {},
   "outputs": [],
   "source": [
    "# alex's function that adds leading zeros based off state and county codes\n",
    "\n",
    "def FIPS_function(row):\n",
    "    state = str(row['State Code']).zfill(2)\n",
    "    county = str(row['County Code']).zfill(3)\n",
    "    return state + county"
   ]
  },
  {
   "cell_type": "code",
   "execution_count": 21,
   "id": "fifty-cardiff",
   "metadata": {},
   "outputs": [],
   "source": [
    "pm19['fips'] = pm19.apply(lambda row: FIPS_function(row), axis=1)\n",
    "pm20['fips'] = pm20.apply(lambda row: FIPS_function(row), axis=1)\n",
    "pm21['fips'] = pm21.apply(lambda row: FIPS_function(row), axis=1)"
   ]
  },
  {
   "cell_type": "code",
   "execution_count": 22,
   "id": "filled-focus",
   "metadata": {},
   "outputs": [
    {
     "data": {
      "text/plain": [
       "array([], dtype=float64)"
      ]
     },
     "execution_count": 22,
     "metadata": {},
     "output_type": "execute_result"
    }
   ],
   "source": [
    "missingPM = []\n",
    "for row in pm19.itertuples():\n",
    "    if row.fips is None:\n",
    "        missingPM.append((row._26,row._25))\n",
    "np.unique(missingPM)"
   ]
  },
  {
   "cell_type": "code",
   "execution_count": 23,
   "id": "charming-apparel",
   "metadata": {},
   "outputs": [],
   "source": [
    "lead19['fips'] = lead19.apply(lambda row: FIPS_function(row), axis=1)\n",
    "lead20['fips'] = lead20.apply(lambda row: FIPS_function(row), axis=1)\n",
    "lead21['fips'] = lead21.apply(lambda row: FIPS_function(row), axis=1)\n",
    "\n",
    "ozone19['fips'] = ozone19.apply(lambda row: FIPS_function(row), axis=1)\n",
    "ozone20['fips'] = ozone20.apply(lambda row: FIPS_function(row), axis=1)\n",
    "ozone21['fips'] = ozone21.apply(lambda row: FIPS_function(row), axis=1)"
   ]
  },
  {
   "cell_type": "code",
   "execution_count": 24,
   "id": "universal-rogers",
   "metadata": {},
   "outputs": [],
   "source": [
    "pm19.to_csv(\"./daily_pm25_speciation_2019_FIPS.csv\",index=False)\n",
    "pm20.to_csv(\"./daily_pm25_speciation_2020_FIPS.csv\",index=False)\n",
    "pm21.to_csv(\"./daily_pm25_speciation_2021_FIPS.csv\",index=False)\n",
    "\n",
    "\n",
    "lead19.to_csv(\"./daily_lead_2019_FIPS.csv\",index=False)\n",
    "lead20.to_csv(\"./daily_lead_2020_FIPS.csv\",index=False)\n",
    "lead21.to_csv(\"./daily_lead_2021_FIPS.csv\",index=False)\n",
    "\n",
    "\n",
    "ozone19.to_csv(\"./daily_ozone_2019_FIPS.csv\",index=False)\n",
    "ozone20.to_csv(\"./daily_ozone_2020_FIPS.csv\",index=False)\n",
    "ozone21.to_csv(\"./daily_ozone_2021_FIPS.csv\",index=False)"
   ]
  },
  {
   "cell_type": "code",
   "execution_count": null,
   "id": "framed-charleston",
   "metadata": {},
   "outputs": [],
   "source": []
  }
 ],
 "metadata": {
  "kernelspec": {
   "display_name": "Python 3",
   "language": "python",
   "name": "python3"
  },
  "language_info": {
   "codemirror_mode": {
    "name": "ipython",
    "version": 3
   },
   "file_extension": ".py",
   "mimetype": "text/x-python",
   "name": "python",
   "nbconvert_exporter": "python",
   "pygments_lexer": "ipython3",
   "version": "3.8.4"
  }
 },
 "nbformat": 4,
 "nbformat_minor": 5
}
