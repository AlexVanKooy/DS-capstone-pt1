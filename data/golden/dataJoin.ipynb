{
 "cells": [
  {
   "cell_type": "markdown",
   "id": "e5c4fe28",
   "metadata": {},
   "source": [
    "Libraries and options"
   ]
  },
  {
   "cell_type": "code",
   "execution_count": 1,
   "id": "859eb158",
   "metadata": {},
   "outputs": [],
   "source": [
    "import numpy as np, pandas as pd, pickle, bz2, time"
   ]
  },
  {
   "cell_type": "markdown",
   "id": "b5e1c276-a378-4bc3-a32a-cd07ed9e9eb8",
   "metadata": {},
   "source": [
    "Functions"
   ]
  },
  {
   "cell_type": "code",
   "execution_count": 13,
   "id": "dfd94800-e993-4429-a2f2-3caccfff6367",
   "metadata": {},
   "outputs": [],
   "source": [
    "def exportPbz2( outfile, infile ):\n",
    "    start = time.time()\n",
    "    with bz2.BZ2File(outfile+'.pbz2','wb') as file:\n",
    "        pickle.dump(infile,file)\n",
    "    print(time.time()-start)\n",
    "    \n",
    "def importPbz2( file ):\n",
    "    data = bz2.BZ2File(file,'rb')\n",
    "    return pd.read_pickle(data)"
   ]
  },
  {
   "cell_type": "markdown",
   "id": "d95db547-d428-4555-bc1c-51183d6d0c78",
   "metadata": {},
   "source": [
    "Importing census data"
   ]
  },
  {
   "cell_type": "code",
   "execution_count": 3,
   "id": "f832539c-25f4-4393-98b3-f8048d88b2e6",
   "metadata": {},
   "outputs": [],
   "source": [
    "censusDF = pd.read_csv('../censusData/censusData.csv')\n",
    "\n",
    "censusDF['fips'] = censusDF['fips'].astype('str').str.zfill(5)\n",
    "censusDF['state']  = censusDF['state'].astype('str').str.zfill(2)\n",
    "censusDF['county'] = censusDF['county'].astype('str').str.zfill(3)"
   ]
  },
  {
   "cell_type": "code",
   "execution_count": 4,
   "id": "a8fcc85d-3cf3-4b19-85f0-9fdbb506e15d",
   "metadata": {},
   "outputs": [],
   "source": [
    "cols=['totalMoved','movedWithinState','movedWithoutState','movedFromAbroad','publicTrans','totalTrans','householdsTotal',\n",
    "      'houseWith65','house2+with65','houseFamily65','houseNonfam65','houseNo65',\n",
    "      'house2+No65','houseFamilyNo65','houseNonfamNo65','householdStructuresTotal','householdIncomeMedian',\n",
    "      'gini','hoursWorkedMean','unitsInStructure','healthInsTotal','healthInsNativeWith',\n",
    "      'healthInsForeignNatWith','healthInsForeignNoncitWith','healthInsForeignNatNo','healthInsForeignNoncitNo','healthInsNativeNo',\n",
    "      'countyStateName','stateFip','countyFip','fips'\n",
    "     ]\n",
    "censusDF = pd.DataFrame(censusDF.values, columns=cols)"
   ]
  },
  {
   "cell_type": "markdown",
   "id": "34f333b2",
   "metadata": {},
   "source": [
    "Importing covid data"
   ]
  },
  {
   "cell_type": "code",
   "execution_count": 5,
   "id": "8da9bab0",
   "metadata": {},
   "outputs": [],
   "source": [
    "testDF= pd.read_pickle('../covid/covid_data_df.pkl')\n",
    "\n",
    "# mask = testDF['fips'].isnull()\n",
    "testDF.dropna(subset=['fips'], inplace=True)\n",
    "\n",
    "testDF['fips']=testDF['fips'].astype(int).astype(str)\n",
    "\n",
    "testDF['fips'] = testDF['fips'].str.zfill(5)"
   ]
  },
  {
   "cell_type": "markdown",
   "id": "93b87169",
   "metadata": {},
   "source": [
    "Joining census and covid data"
   ]
  },
  {
   "cell_type": "code",
   "execution_count": 6,
   "id": "484997a2",
   "metadata": {},
   "outputs": [],
   "source": [
    "testDF = testDF.merge(censusDF, left_on=['fips'], right_on=['fips'], how='left')"
   ]
  },
  {
   "cell_type": "code",
   "execution_count": 7,
   "id": "ef325e34-7ba4-4815-a833-77c2f57aacd4",
   "metadata": {},
   "outputs": [
    {
     "name": "stdout",
     "output_type": "stream",
     "text": [
      "dates\n",
      "JHU_ConfirmedCases.data\n",
      "JHU_ConfirmedCases.missing\n",
      "NYT_ConfirmedCases.data\n",
      "NYT_ConfirmedCases.missing\n",
      "JHU_ConfirmedDeaths.data\n",
      "JHU_ConfirmedDeaths.missing\n",
      "JHU_ConfirmedRecoveries.data\n",
      "JHU_ConfirmedRecoveries.missing\n",
      "NYT_AllCausesDeathsWeekly_Expected_Deaths_AllCauses.data\n",
      "NYT_AllCausesDeathsWeekly_Expected_Deaths_AllCauses.missing\n",
      "NYT_ConfirmedDeaths.data\n",
      "NYT_ConfirmedDeaths.missing\n",
      "NYT_AllCausesDeathsWeekly_Excess_Deaths.data\n",
      "NYT_AllCausesDeathsWeekly_Excess_Deaths.missing\n",
      "NYT_AllCausesDeathsWeekly_Deaths_AllCauses.data\n",
      "NYT_AllCausesDeathsWeekly_Deaths_AllCauses.missing\n",
      "NYT_AllCausesDeathsMonthly_Deaths_AllCauses.data\n",
      "NYT_AllCausesDeathsMonthly_Deaths_AllCauses.missing\n",
      "NYT_AllCausesDeathsMonthly_Excess_Deaths.data\n",
      "NYT_AllCausesDeathsMonthly_Excess_Deaths.missing\n",
      "NYT_AllCausesDeathsMonthly_Expected_Deaths_AllCauses.data\n",
      "NYT_AllCausesDeathsMonthly_Expected_Deaths_AllCauses.missing\n",
      "TotalPopulation.data\n",
      "TotalPopulation.missing\n",
      "MaleAndFemale_AtLeast65_Population.data\n",
      "MaleAndFemale_AtLeast65_Population.missing\n",
      "Male_Total_Population.data\n",
      "Male_Total_Population.missing\n",
      "Female_Total_Population.data\n",
      "Female_Total_Population.missing\n",
      "MaleAndFemale_Under18_Population.data\n",
      "MaleAndFemale_Under18_Population.missing\n",
      "BLS_EmployedPopulation.data\n",
      "BLS_EmployedPopulation.missing\n",
      "BLS_UnemployedPopulation.data\n",
      "BLS_UnemployedPopulation.missing\n",
      "BLS_UnemploymentRate.data\n",
      "BLS_UnemploymentRate.missing\n",
      "BLS_LaborForcePopulation.data\n",
      "BLS_LaborForcePopulation.missing\n",
      "AverageDailyTemperature.data\n",
      "AverageDailyTemperature.missing\n",
      "AverageDewPoint.data\n",
      "AverageDewPoint.missing\n",
      "AverageRelativeHumidity.data\n",
      "AverageRelativeHumidity.missing\n",
      "AverageSurfaceAirPressure.data\n",
      "AverageSurfaceAirPressure.missing\n",
      "AveragePrecipitationTotal.data\n",
      "AveragePrecipitationTotal.missing\n",
      "AveragePrecipitation.data\n",
      "AveragePrecipitation.missing\n",
      "AverageWindDirection.data\n",
      "AverageWindDirection.missing\n",
      "AverageWindSpeed.data\n",
      "AverageWindSpeed.missing\n",
      "hospitalIcuBeds\n",
      "hospitalStaffedBeds\n",
      "hospitalLicensedBeds\n",
      "latestTotalPopulation\n",
      "fips\n",
      "populationOfAllChildren\n",
      "latestLaborForce\n",
      "latestEmployedPopulation\n",
      "latestUnemployedPopulation\n",
      "latestUnemploymentRate\n",
      "laborForceOfAllChildren\n",
      "locationType\n",
      "populationCDS\n",
      "hospitalPrediction\n",
      "county\n",
      "Date Local\n",
      "jhu_daily_death\n",
      "jhu_daily_cases\n",
      "jhu_daily_recoveries\n",
      "jhu_daily_new_cases\n",
      "jhu_daily_death_rolling_7\n",
      "jhu_daily_cases_rolling_7\n",
      "jhu_daily_new_cases_rolling_7\n",
      "jhu_daily_death_rolling_30\n",
      "jhu_daily_cases_rolling_30\n",
      "jhu_daily_new_cases_rolling_30\n",
      "LND110210\n",
      "jhu_death_rate\n",
      "jhu_case_rate\n",
      "jhu_new_case_rate\n",
      "density\n",
      "icu_beds_per_person\n",
      "staffed_beds_per_person\n",
      "licensed_beds_per_person\n",
      "cold_days\n",
      "hot_days\n",
      "moderate_days\n",
      "gte_65_percent\n",
      "lt_18_percent\n",
      "employed_percent\n",
      "unemployed_percent\n",
      "totalMoved\n",
      "movedWithinState\n",
      "movedWithoutState\n",
      "movedFromAbroad\n",
      "publicTrans\n",
      "totalTrans\n",
      "householdsTotal\n",
      "houseWith65\n",
      "house2+with65\n",
      "houseFamily65\n",
      "houseNonfam65\n",
      "houseNo65\n",
      "house2+No65\n",
      "houseFamilyNo65\n",
      "houseNonfamNo65\n",
      "householdStructuresTotal\n",
      "householdIncomeMedian\n",
      "gini\n",
      "hoursWorkedMean\n",
      "unitsInStructure\n",
      "healthInsTotal\n",
      "healthInsNativeWith\n",
      "healthInsForeignNatWith\n",
      "healthInsForeignNoncitWith\n",
      "healthInsForeignNatNo\n",
      "healthInsForeignNoncitNo\n",
      "healthInsNativeNo\n",
      "countyStateName\n",
      "stateFip\n",
      "countyFip\n"
     ]
    }
   ],
   "source": [
    "_=[print(x) for x in testDF.columns]"
   ]
  },
  {
   "cell_type": "markdown",
   "id": "f12442f5",
   "metadata": {},
   "source": [
    "Import pm25"
   ]
  },
  {
   "cell_type": "code",
   "execution_count": 8,
   "id": "1652207f-e25f-46d6-a8f3-ab38b50231b1",
   "metadata": {},
   "outputs": [],
   "source": [
    "pm25DF = pd.read_csv('../pm25/county_pm25.txt')\n",
    "pm25DF.drop(['year'],axis=1,inplace=True)"
   ]
  },
  {
   "cell_type": "code",
   "execution_count": 9,
   "id": "af952c0e-b924-4089-a256-f8dc7fee7c0b",
   "metadata": {},
   "outputs": [],
   "source": [
    "pm25DF= pm25DF[['fips','pm25']].groupby(['fips'],as_index=False).mean()"
   ]
  },
  {
   "cell_type": "code",
   "execution_count": 10,
   "id": "f0adfba8-8a55-4e80-b639-2976bdae6127",
   "metadata": {},
   "outputs": [],
   "source": [
    "pm25DF['fips'] = pm25DF['fips'].astype(str).str.zfill(5)"
   ]
  },
  {
   "cell_type": "markdown",
   "id": "60024885",
   "metadata": {},
   "source": [
    "Put it all together"
   ]
  },
  {
   "cell_type": "code",
   "execution_count": 11,
   "id": "75f3790c",
   "metadata": {},
   "outputs": [],
   "source": [
    "testDF = testDF.merge(pm25DF, left_on=['fips'], right_on=['fips'], how='left')"
   ]
  },
  {
   "cell_type": "code",
   "execution_count": 12,
   "id": "c60a3a31",
   "metadata": {},
   "outputs": [
    {
     "name": "stdout",
     "output_type": "stream",
     "text": [
      "128.12999820709229\n"
     ]
    }
   ],
   "source": [
    "# exportPbz2('feeFiFoFum.pbz2', testDF)"
   ]
  }
 ],
 "metadata": {
  "kernelspec": {
   "display_name": "Python 3 (ipykernel)",
   "language": "python",
   "name": "python3"
  },
  "language_info": {
   "codemirror_mode": {
    "name": "ipython",
    "version": 3
   },
   "file_extension": ".py",
   "mimetype": "text/x-python",
   "name": "python",
   "nbconvert_exporter": "python",
   "pygments_lexer": "ipython3",
   "version": "3.9.10"
  }
 },
 "nbformat": 4,
 "nbformat_minor": 5
}
