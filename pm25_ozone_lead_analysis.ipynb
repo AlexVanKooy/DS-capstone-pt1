{
 "cells": [
  {
   "cell_type": "markdown",
   "id": "constitutional-latex",
   "metadata": {},
   "source": [
    "### preprocess & manipulation, pre-analysis\n",
    " - lead, ozone, pm2.5"
   ]
  },
  {
   "cell_type": "markdown",
   "id": "pointed-fence",
   "metadata": {},
   "source": [
    "### imports"
   ]
  },
  {
   "cell_type": "code",
   "execution_count": 1,
   "id": "arabic-kansas",
   "metadata": {},
   "outputs": [],
   "source": [
    "import pandas as pd\n",
    "import numpy as np\n",
    "import seaborn as sns\n",
    "import matplotlib.pyplot as plt\n",
    "import pickle\n",
    "import requests as rq\n",
    "from urllib.request import urlopen\n",
    "import json\n",
    "import os\n",
    "import pathlib\n",
    "import plotly.express as px\n",
    "%matplotlib inline"
   ]
  },
  {
   "cell_type": "code",
   "execution_count": 2,
   "id": "acquired-marathon",
   "metadata": {},
   "outputs": [],
   "source": [
    "# pandas formatting \n",
    "pd.set_option(\"display.max_rows\", 500)\n",
    "pd.set_option('display.max_columns', 500)\n",
    "pd.set_option('display.width', 1000)"
   ]
  },
  {
   "cell_type": "markdown",
   "id": "behavioral-indie",
   "metadata": {},
   "source": [
    "### functions"
   ]
  },
  {
   "cell_type": "code",
   "execution_count": 3,
   "id": "proper-porter",
   "metadata": {},
   "outputs": [],
   "source": [
    "# functions\n",
    "\n",
    "def FIPS_function(row):\n",
    "    state = str(row['State Code']).zfill(2)\n",
    "    county = str(row['County Code']).zfill(3)\n",
    "    return str(state + county)\n",
    "# convert to NO2 ug/m^3 for reference\n",
    "def no2_mass_by_vol(ppb):\n",
    "    ugm3 = 1.88*ppb\n",
    "    return ugm3\n",
    "\n",
    "def set_daily_cases_deaths(df):\n",
    "    df['daily_new_cases'] = df['JHU_ConfirmedCases.data'].diff()\n",
    "    df['daily_new_deaths'] = df['JHU_ConfirmedDeaths.data'].diff()\n",
    "    return df\n",
    "\n",
    "# plotting one day's avg \n",
    "def show_day_mean(df, date):\n",
    "    fig = px.choropleth(df[df['Date Local']==date], geojson=counties, locations='fips', color='Arithmetic Mean',\n",
    "                               color_continuous_scale=\"Plasma\",\n",
    "                               range_color=(0, 70), #max value for daily avg is ~60ppb\n",
    "                               scope=\"usa\",\n",
    "                               labels={'Arithmetic Mean':'Arithmetic Mean (ppb)'}\n",
    "                              )\n",
    "    fig.update_layout(margin={\"r\":0,\"t\":0,\"l\":0,\"b\":1,'autoexpand':True })\n",
    "    fig.update_layout(\n",
    "        autosize=False,\n",
    "        width=1200,\n",
    "        height=900,\n",
    "    )\n",
    "    return fig\n",
    "\n",
    "# plotting one day's max value\n",
    "def show_day_max(df, date):\n",
    "    fig = px.choropleth(df[df['Date Local']==date], geojson=counties, locations='fips', color='1st Max Value',\n",
    "                               color_continuous_scale=\"Plasma\",\n",
    "                               range_color=(0, 70), #max value for daily avg is ~60ppb\n",
    "                               scope=\"usa\",\n",
    "                               labels={'1st Max Value':'1st Max Value (ppb)'}\n",
    "                              )\n",
    "    fig.update_layout(margin={\"r\":0,\"t\":0,\"l\":0,\"b\":1,'autoexpand':True })\n",
    "    fig.update_layout(\n",
    "        autosize=False,\n",
    "        width=1200,\n",
    "        height=900,\n",
    "    )\n",
    "    return fig  \n",
    "\n",
    "def show_sites(df):\n",
    "    fig = px.choropleth(df, geojson=counties, locations='fips', color='Parameter Code',\n",
    "                               color_continuous_scale=\"Plasma\",\n",
    "                               range_color=(0, 1), #max value for daily avg is ~60ppb\n",
    "                               scope=\"usa\",\n",
    "                               labels={'1st Max Value':'1st Max Value (ppb)'}\n",
    "                              )\n",
    "    fig.update_layout(margin={\"r\":0,\"t\":0,\"l\":0,\"b\":1,'autoexpand':True })\n",
    "    fig.update_layout(\n",
    "        autosize=False,\n",
    "        width=1200,\n",
    "        height=900,\n",
    "    )\n",
    "    return fig\n",
    "\n",
    "def get_counties_df(file_name='./data/covid/config/counties.json'):\n",
    "    with open(file_name) as file:\n",
    "                county_data = json.load(file)\n",
    "    \n",
    "    df = pd.DataFrame.from_dict(county_data)\n",
    "    \n",
    "    data = [df[col] for col in df.columns]    \n",
    "    \n",
    "    # pivot\n",
    "    return pd.DataFrame(data,columns=df.index, index=df.columns)\n",
    "\n",
    "def get_fips_from_county_lookup():\n",
    "    counties = get_counties_df() \n",
    "    counties = counties.dropna(subset=['fips'])\n",
    "    counties.fips = counties.fips.apply(lambda f: eval(str(f)).get('id'))\n",
    "    counties_index = {k: v for k, v in zip(counties.index, counties.fips)}\n",
    "    def get_fips_from_county(county):\n",
    "        return counties_index[county]\n",
    "    return get_fips_from_county\n",
    "\n",
    "def avg_county_pollution(df, column_to_avg = \"Arithmetic Mean\", date_column=None):    \n",
    "    if date_column == None:\n",
    "        date_column = 'Date Local'\n",
    "    # All days \n",
    "    # days = list(df[date_column].unique())\n",
    "    # all_fips = list(df['fips'].unique())\n",
    "    avg_by_day = df.groupby(['Date Local','fips']).agg({'Arithmetic Mean': 'mean','1st Max Value':'max','AQI':'max'})\n",
    "    return avg_by_day\n",
    "\n",
    "def cols_missing(df):\n",
    "    total = 0\n",
    "    for col in df.columns:\n",
    "        missing_vals = df[col].isnull().sum()\n",
    "        total += missing_vals\n",
    "        pct = df[col].isna().mean() * 100\n",
    "        if missing_vals != 0:\n",
    "            print(f\"{col} = {df[col].isnull().sum()}\",'--','{} = {}%'.format(col, round(pct, 2)))\n",
    "    if total == 0:\n",
    "        print(\"no missing values left\")\n",
    "        \n",
    "def print_outliers(df,col):\n",
    "    print(col)\n",
    "    #print(df[col].describe())\n",
    "    print('Min: ',df[col].min())\n",
    "    print('1st quartile: ',df[col].quantile(0.25))\n",
    "    print('3rd quartile: ',df[col].quantile(0.75))\n",
    "    print('Max: ',df[col].max())\n",
    "    #print(sns.boxplot(x=df[col]))"
   ]
  },
  {
   "cell_type": "code",
   "execution_count": 183,
   "id": "lyric-option",
   "metadata": {},
   "outputs": [],
   "source": [
    "##\n",
    "def daily_avg_county_pollution(df, column_to_avg = \"Arithmetic Mean\", date_column=None):    \n",
    "    if date_column == None:\n",
    "        date_column = 'Date Local'\n",
    "        avg_by_day = df.groupby([date_column,'fips']).agg({'Arithmetic Mean': 'mean','1st Max Value':'max','AQI':'max'})\n",
    "    else:\n",
    "        avg_by_day = df.groupby([date_column,'Date Local','fips']).agg({'Arithmetic Mean': 'mean','1st Max Value':'max','AQI':'max'})\n",
    "        \n",
    "        \n",
    "    return avg_by_day\n",
    "\n",
    "def daily_avg_county_pollution_lead(df, column_to_avg = \"1st Max Value\", date_column=None):    \n",
    "    if date_column == None:\n",
    "        date_column = 'Date Local'\n",
    "        avg_by_day = df.groupby([date_column,'fips']).agg({'Arithmetic Mean': 'mean','1st Max Value':'max','AQI':'max'})\n",
    "    else:\n",
    "        avg_by_day = df.groupby([date_column,'Date Local','fips']).agg({'Arithmetic Mean': 'mean','1st Max Value':'max','AQI':'max'})\n",
    "        \n",
    "        \n",
    "    return avg_by_day"
   ]
  },
  {
   "cell_type": "markdown",
   "id": "egyptian-duplicate",
   "metadata": {},
   "source": [
    "### import data"
   ]
  },
  {
   "cell_type": "code",
   "execution_count": 5,
   "id": "played-effectiveness",
   "metadata": {},
   "outputs": [],
   "source": [
    "#pm2.5 speciation\n",
    "og_pm19 = pd.read_csv('data/daily_pm25_2019_FIPS.csv', dtype={'fips':'string'})\n",
    "og_pm20 = pd.read_csv('data/daily_pm25_2020_FIPS.csv', dtype={'fips':'string'})\n",
    "og_pm21 = pd.read_csv('data/daily_pm25_2021_FIPS.csv', dtype={'fips':'string'})\n",
    "\n",
    "#ozone\n",
    "og_ozone19 = pd.read_csv('data/daily_ozone_2019_FIPS.csv', dtype={'fips':'string'})\n",
    "og_ozone20 = pd.read_csv('data/daily_ozone_2020_FIPS.csv', dtype={'fips':'string'})\n",
    "og_ozone21 = pd.read_csv('data/daily_ozone_2021_FIPS.csv', dtype={'fips':'string'})\n",
    "\n",
    "#lead\n",
    "og_lead19 = pd.read_csv('data/daily_lead_2019_FIPS.csv', dtype={'fips':'string'})\n",
    "og_lead20 = pd.read_csv('data/daily_lead_2020_FIPS.csv', dtype={'fips':'string'})\n",
    "og_lead21 = pd.read_csv('data/daily_lead_2021_FIPS.csv', dtype={'fips':'string'})\n",
    "\n",
    "\n",
    "\n",
    "####drop columns\n",
    "cols_to_drop = ['Pollutant Standard','POC','Parameter Code','Parameter Name','Sample Duration'\n",
    "               , 'Method Code','Method Name','City Name','Date of Last Change']\n",
    "\n",
    "pm19 = og_pm19.drop(cols_to_drop, axis=1)\n",
    "pm20 = og_pm20.drop(cols_to_drop, axis=1)\n",
    "pm21 = og_pm21.drop(cols_to_drop, axis=1)\n",
    "\n",
    "ozone19 = og_ozone19.drop(columns=cols_to_drop,axis=1)\n",
    "ozone20 = og_ozone20.drop(columns=cols_to_drop,axis=1)\n",
    "ozone21 = og_ozone21.drop(columns=cols_to_drop,axis=1)\n",
    "\n",
    "lead19 = og_lead19.drop(columns=cols_to_drop,axis=1)\n",
    "lead20 = og_lead20.drop(columns=cols_to_drop,axis=1)\n",
    "lead21 = og_lead21.drop(columns=cols_to_drop,axis=1)"
   ]
  },
  {
   "cell_type": "code",
   "execution_count": 7,
   "id": "alpha-jesus",
   "metadata": {},
   "outputs": [],
   "source": [
    "#no2_20['Date Local'] = pd.to_datetime(no2_20['Date Local'], format=\"%Y/%m/%d\")\n",
    "\n",
    "pm19['Date Local'] = pd.to_datetime(pm19['Date Local'], format=\"%Y/%m/%d\")\n",
    "pm20['Date Local'] = pd.to_datetime(pm20['Date Local'], format=\"%Y/%m/%d\")\n",
    "pm21['Date Local'] = pd.to_datetime(pm21['Date Local'], format=\"%Y/%m/%d\")\n",
    "\n",
    "ozone19['Date Local'] = pd.to_datetime(ozone19['Date Local'], format=\"%Y/%m/%d\")\n",
    "ozone20['Date Local'] = pd.to_datetime(ozone20['Date Local'], format=\"%Y/%m/%d\")\n",
    "ozone21['Date Local'] = pd.to_datetime(ozone21['Date Local'], format=\"%Y/%m/%d\")\n",
    "\n",
    "lead19['Date Local'] = pd.to_datetime(lead19['Date Local'], format=\"%Y/%m/%d\")\n",
    "lead20['Date Local'] = pd.to_datetime(lead20['Date Local'], format=\"%Y/%m/%d\")\n",
    "lead21['Date Local'] = pd.to_datetime(lead21['Date Local'], format=\"%Y/%m/%d\")"
   ]
  },
  {
   "cell_type": "markdown",
   "id": "serial-fifty",
   "metadata": {},
   "source": [
    "### daily avg"
   ]
  },
  {
   "cell_type": "code",
   "execution_count": 184,
   "id": "covered-vessel",
   "metadata": {},
   "outputs": [],
   "source": [
    "#pm\n",
    "daily_avg_pm19 = daily_avg_county_pollution(pm19)\n",
    "daily_avg_pm20 = daily_avg_county_pollution(pm20)\n",
    "daily_avg_pm21 = daily_avg_county_pollution(pm21)\n",
    "\n",
    "#ozone\n",
    "daily_avg_ozone19 = daily_avg_county_pollution(ozone19)\n",
    "daily_avg_ozone20 = daily_avg_county_pollution(ozone20)\n",
    "daily_avg_ozone21 = daily_avg_county_pollution(ozone21)\n",
    "\n",
    "#lead\n",
    "daily_avg_lead19 = daily_avg_county_pollution(lead19)\n",
    "daily_avg_lead20 = daily_avg_county_pollution(lead20)\n",
    "daily_avg_lead21 = daily_avg_county_pollution(lead21)"
   ]
  },
  {
   "cell_type": "code",
   "execution_count": 185,
   "id": "assigned-wings",
   "metadata": {},
   "outputs": [
    {
     "data": {
      "text/html": [
       "<div>\n",
       "<style scoped>\n",
       "    .dataframe tbody tr th:only-of-type {\n",
       "        vertical-align: middle;\n",
       "    }\n",
       "\n",
       "    .dataframe tbody tr th {\n",
       "        vertical-align: top;\n",
       "    }\n",
       "\n",
       "    .dataframe thead th {\n",
       "        text-align: right;\n",
       "    }\n",
       "</style>\n",
       "<table border=\"1\" class=\"dataframe\">\n",
       "  <thead>\n",
       "    <tr style=\"text-align: right;\">\n",
       "      <th></th>\n",
       "      <th></th>\n",
       "      <th>Arithmetic Mean</th>\n",
       "      <th>1st Max Value</th>\n",
       "      <th>AQI</th>\n",
       "    </tr>\n",
       "    <tr>\n",
       "      <th>Date Local</th>\n",
       "      <th>fips</th>\n",
       "      <th></th>\n",
       "      <th></th>\n",
       "      <th></th>\n",
       "    </tr>\n",
       "  </thead>\n",
       "  <tbody>\n",
       "    <tr>\n",
       "      <th rowspan=\"2\" valign=\"top\">2020-01-01</th>\n",
       "      <th>01003</th>\n",
       "      <td>11.6</td>\n",
       "      <td>11.6</td>\n",
       "      <td>48.0</td>\n",
       "    </tr>\n",
       "    <tr>\n",
       "      <th>01049</th>\n",
       "      <td>7.0</td>\n",
       "      <td>7.0</td>\n",
       "      <td>29.0</td>\n",
       "    </tr>\n",
       "  </tbody>\n",
       "</table>\n",
       "</div>"
      ],
      "text/plain": [
       "                  Arithmetic Mean  1st Max Value   AQI\n",
       "Date Local fips                                       \n",
       "2020-01-01 01003             11.6           11.6  48.0\n",
       "           01049              7.0            7.0  29.0"
      ]
     },
     "execution_count": 185,
     "metadata": {},
     "output_type": "execute_result"
    }
   ],
   "source": [
    "daily_avg_pm20.head(2)"
   ]
  },
  {
   "cell_type": "code",
   "execution_count": 186,
   "id": "genuine-composite",
   "metadata": {},
   "outputs": [
    {
     "data": {
      "text/html": [
       "<div>\n",
       "<style scoped>\n",
       "    .dataframe tbody tr th:only-of-type {\n",
       "        vertical-align: middle;\n",
       "    }\n",
       "\n",
       "    .dataframe tbody tr th {\n",
       "        vertical-align: top;\n",
       "    }\n",
       "\n",
       "    .dataframe thead th {\n",
       "        text-align: right;\n",
       "    }\n",
       "</style>\n",
       "<table border=\"1\" class=\"dataframe\">\n",
       "  <thead>\n",
       "    <tr style=\"text-align: right;\">\n",
       "      <th></th>\n",
       "      <th></th>\n",
       "      <th>Arithmetic Mean</th>\n",
       "      <th>1st Max Value</th>\n",
       "      <th>AQI</th>\n",
       "    </tr>\n",
       "    <tr>\n",
       "      <th>Date Local</th>\n",
       "      <th>fips</th>\n",
       "      <th></th>\n",
       "      <th></th>\n",
       "      <th></th>\n",
       "    </tr>\n",
       "  </thead>\n",
       "  <tbody>\n",
       "    <tr>\n",
       "      <th rowspan=\"2\" valign=\"top\">2020-01-01</th>\n",
       "      <th>01049</th>\n",
       "      <td>0.036529</td>\n",
       "      <td>0.041</td>\n",
       "      <td>38</td>\n",
       "    </tr>\n",
       "    <tr>\n",
       "      <th>01073</th>\n",
       "      <td>0.030824</td>\n",
       "      <td>0.034</td>\n",
       "      <td>31</td>\n",
       "    </tr>\n",
       "  </tbody>\n",
       "</table>\n",
       "</div>"
      ],
      "text/plain": [
       "                  Arithmetic Mean  1st Max Value  AQI\n",
       "Date Local fips                                      \n",
       "2020-01-01 01049         0.036529          0.041   38\n",
       "           01073         0.030824          0.034   31"
      ]
     },
     "execution_count": 186,
     "metadata": {},
     "output_type": "execute_result"
    }
   ],
   "source": [
    "daily_avg_ozone20.head(2)"
   ]
  },
  {
   "cell_type": "code",
   "execution_count": 187,
   "id": "unique-checklist",
   "metadata": {},
   "outputs": [
    {
     "data": {
      "text/html": [
       "<div>\n",
       "<style scoped>\n",
       "    .dataframe tbody tr th:only-of-type {\n",
       "        vertical-align: middle;\n",
       "    }\n",
       "\n",
       "    .dataframe tbody tr th {\n",
       "        vertical-align: top;\n",
       "    }\n",
       "\n",
       "    .dataframe thead th {\n",
       "        text-align: right;\n",
       "    }\n",
       "</style>\n",
       "<table border=\"1\" class=\"dataframe\">\n",
       "  <thead>\n",
       "    <tr style=\"text-align: right;\">\n",
       "      <th></th>\n",
       "      <th></th>\n",
       "      <th>Arithmetic Mean</th>\n",
       "      <th>1st Max Value</th>\n",
       "      <th>AQI</th>\n",
       "    </tr>\n",
       "    <tr>\n",
       "      <th>Date Local</th>\n",
       "      <th>fips</th>\n",
       "      <th></th>\n",
       "      <th></th>\n",
       "      <th></th>\n",
       "    </tr>\n",
       "  </thead>\n",
       "  <tbody>\n",
       "    <tr>\n",
       "      <th rowspan=\"2\" valign=\"top\">2020-01-01</th>\n",
       "      <th>06037</th>\n",
       "      <td>0.008</td>\n",
       "      <td>0.009</td>\n",
       "      <td>NaN</td>\n",
       "    </tr>\n",
       "    <tr>\n",
       "      <th>26163</th>\n",
       "      <td>0.014</td>\n",
       "      <td>0.014</td>\n",
       "      <td>NaN</td>\n",
       "    </tr>\n",
       "  </tbody>\n",
       "</table>\n",
       "</div>"
      ],
      "text/plain": [
       "                  Arithmetic Mean  1st Max Value  AQI\n",
       "Date Local fips                                      \n",
       "2020-01-01 06037            0.008          0.009  NaN\n",
       "           26163            0.014          0.014  NaN"
      ]
     },
     "execution_count": 187,
     "metadata": {},
     "output_type": "execute_result"
    }
   ],
   "source": [
    "daily_avg_lead20.head(2)"
   ]
  },
  {
   "cell_type": "code",
   "execution_count": 10,
   "id": "serial-representation",
   "metadata": {},
   "outputs": [],
   "source": [
    "#pm19_county_mean= pm19.groupby(['Date Local','fips']).agg({'Arithmetic Mean':'mean'})\n",
    "#ozone19_county_mean= ozone19.groupby(['Date Local','fips']).agg({'Arithmetic Mean':'mean'})\n",
    "#lead19_county_mean= lead19.groupby(['Date Local','fips']).agg({'Arithmetic Mean':'mean'})"
   ]
  },
  {
   "cell_type": "code",
   "execution_count": 11,
   "id": "aggressive-portrait",
   "metadata": {},
   "outputs": [],
   "source": [
    "#pm19_county_means = avg_county_pollution(pm19).drop(['1st Max Value'],axis=1).reset_index().groupby(['fips']).mean()\n",
    "#ozone19_county_means = avg_county_pollution(ozone19).drop(['1st Max Value'],axis=1).reset_index().groupby(['fips']).mean()\n",
    "#lead19_county_means = avg_county_pollution(lead19).reset_index().groupby(['fips']).mean()"
   ]
  },
  {
   "cell_type": "markdown",
   "id": "listed-penalty",
   "metadata": {},
   "source": [
    "### county means"
   ]
  },
  {
   "cell_type": "code",
   "execution_count": 188,
   "id": "going-specialist",
   "metadata": {},
   "outputs": [],
   "source": [
    "#pm\n",
    "county_means_pm19 = daily_avg_pm19.reset_index().groupby(['fips']).mean().drop(['1st Max Value'],axis=1)\n",
    "county_means_pm20 = daily_avg_pm20.reset_index().groupby(['fips']).mean().drop(['1st Max Value'],axis=1)\n",
    "county_means_pm21 = daily_avg_pm21.reset_index().groupby(['fips']).mean().drop(['1st Max Value'],axis=1)\n",
    "\n",
    "#ozone\n",
    "county_means_ozone19 = daily_avg_ozone19.reset_index().groupby(['fips']).mean().drop(['1st Max Value'],axis=1)\n",
    "county_means_ozone20 = daily_avg_ozone20.reset_index().groupby(['fips']).mean().drop(['1st Max Value'],axis=1)\n",
    "county_means_ozone21 = daily_avg_ozone21.reset_index().groupby(['fips']).mean().drop(['1st Max Value'],axis=1)\n",
    "\n",
    "\n",
    "#shoudl do avgs for 1st max\n",
    "\n",
    "#lead\n",
    "county_means_lead19 = daily_avg_lead19.reset_index().groupby(['fips']).mean().drop(['AQI'],axis=1)\n",
    "county_means_lead20 = daily_avg_lead20.reset_index().groupby(['fips']).mean().drop(['AQI'],axis=1)\n",
    "county_means_lead21 = daily_avg_lead21.reset_index().groupby(['fips']).mean().drop(['AQI'],axis=1)"
   ]
  },
  {
   "cell_type": "code",
   "execution_count": 189,
   "id": "alive-princess",
   "metadata": {},
   "outputs": [
    {
     "data": {
      "text/html": [
       "<div>\n",
       "<style scoped>\n",
       "    .dataframe tbody tr th:only-of-type {\n",
       "        vertical-align: middle;\n",
       "    }\n",
       "\n",
       "    .dataframe tbody tr th {\n",
       "        vertical-align: top;\n",
       "    }\n",
       "\n",
       "    .dataframe thead th {\n",
       "        text-align: right;\n",
       "    }\n",
       "</style>\n",
       "<table border=\"1\" class=\"dataframe\">\n",
       "  <thead>\n",
       "    <tr style=\"text-align: right;\">\n",
       "      <th></th>\n",
       "      <th>Arithmetic Mean</th>\n",
       "      <th>AQI</th>\n",
       "    </tr>\n",
       "    <tr>\n",
       "      <th>fips</th>\n",
       "      <th></th>\n",
       "      <th></th>\n",
       "    </tr>\n",
       "  </thead>\n",
       "  <tbody>\n",
       "    <tr>\n",
       "      <th>01003</th>\n",
       "      <td>7.846903</td>\n",
       "      <td>32.345133</td>\n",
       "    </tr>\n",
       "    <tr>\n",
       "      <th>01027</th>\n",
       "      <td>6.784259</td>\n",
       "      <td>27.833333</td>\n",
       "    </tr>\n",
       "  </tbody>\n",
       "</table>\n",
       "</div>"
      ],
      "text/plain": [
       "       Arithmetic Mean        AQI\n",
       "fips                             \n",
       "01003         7.846903  32.345133\n",
       "01027         6.784259  27.833333"
      ]
     },
     "execution_count": 189,
     "metadata": {},
     "output_type": "execute_result"
    }
   ],
   "source": [
    "county_means_pm20.head(2)"
   ]
  },
  {
   "cell_type": "code",
   "execution_count": 190,
   "id": "decreased-belfast",
   "metadata": {},
   "outputs": [
    {
     "data": {
      "text/html": [
       "<div>\n",
       "<style scoped>\n",
       "    .dataframe tbody tr th:only-of-type {\n",
       "        vertical-align: middle;\n",
       "    }\n",
       "\n",
       "    .dataframe tbody tr th {\n",
       "        vertical-align: top;\n",
       "    }\n",
       "\n",
       "    .dataframe thead th {\n",
       "        text-align: right;\n",
       "    }\n",
       "</style>\n",
       "<table border=\"1\" class=\"dataframe\">\n",
       "  <thead>\n",
       "    <tr style=\"text-align: right;\">\n",
       "      <th></th>\n",
       "      <th>Arithmetic Mean</th>\n",
       "      <th>AQI</th>\n",
       "    </tr>\n",
       "    <tr>\n",
       "      <th>fips</th>\n",
       "      <th></th>\n",
       "      <th></th>\n",
       "    </tr>\n",
       "  </thead>\n",
       "  <tbody>\n",
       "    <tr>\n",
       "      <th>01003</th>\n",
       "      <td>0.028291</td>\n",
       "      <td>33.508547</td>\n",
       "    </tr>\n",
       "    <tr>\n",
       "      <th>01049</th>\n",
       "      <td>0.030688</td>\n",
       "      <td>34.573770</td>\n",
       "    </tr>\n",
       "  </tbody>\n",
       "</table>\n",
       "</div>"
      ],
      "text/plain": [
       "       Arithmetic Mean        AQI\n",
       "fips                             \n",
       "01003         0.028291  33.508547\n",
       "01049         0.030688  34.573770"
      ]
     },
     "execution_count": 190,
     "metadata": {},
     "output_type": "execute_result"
    }
   ],
   "source": [
    "county_means_ozone20.head(2)"
   ]
  },
  {
   "cell_type": "code",
   "execution_count": 191,
   "id": "about-madness",
   "metadata": {},
   "outputs": [
    {
     "data": {
      "text/html": [
       "<div>\n",
       "<style scoped>\n",
       "    .dataframe tbody tr th:only-of-type {\n",
       "        vertical-align: middle;\n",
       "    }\n",
       "\n",
       "    .dataframe tbody tr th {\n",
       "        vertical-align: top;\n",
       "    }\n",
       "\n",
       "    .dataframe thead th {\n",
       "        text-align: right;\n",
       "    }\n",
       "</style>\n",
       "<table border=\"1\" class=\"dataframe\">\n",
       "  <thead>\n",
       "    <tr style=\"text-align: right;\">\n",
       "      <th></th>\n",
       "      <th>Arithmetic Mean</th>\n",
       "      <th>1st Max Value</th>\n",
       "    </tr>\n",
       "    <tr>\n",
       "      <th>fips</th>\n",
       "      <th></th>\n",
       "      <th></th>\n",
       "    </tr>\n",
       "  </thead>\n",
       "  <tbody>\n",
       "    <tr>\n",
       "      <th>01109</th>\n",
       "      <td>0.072311</td>\n",
       "      <td>0.075033</td>\n",
       "    </tr>\n",
       "    <tr>\n",
       "      <th>04007</th>\n",
       "      <td>0.011845</td>\n",
       "      <td>0.019217</td>\n",
       "    </tr>\n",
       "  </tbody>\n",
       "</table>\n",
       "</div>"
      ],
      "text/plain": [
       "       Arithmetic Mean  1st Max Value\n",
       "fips                                 \n",
       "01109         0.072311       0.075033\n",
       "04007         0.011845       0.019217"
      ]
     },
     "execution_count": 191,
     "metadata": {},
     "output_type": "execute_result"
    }
   ],
   "source": [
    "county_means_lead20.head(2)"
   ]
  },
  {
   "cell_type": "markdown",
   "id": "seventh-association",
   "metadata": {},
   "source": [
    "### convert to dictionary"
   ]
  },
  {
   "cell_type": "code",
   "execution_count": 192,
   "id": "cooperative-strand",
   "metadata": {},
   "outputs": [],
   "source": [
    "# pm25\n",
    "county_means_pm19.rename(columns={'Arithmetic Mean':'mean_ppb','AQI':'mean_AQI'},inplace=True)\n",
    "county_means_pm20.rename(columns={'Arithmetic Mean':'mean_ppb','AQI':'mean_AQI'},inplace=True)\n",
    "county_means_pm21.rename(columns={'Arithmetic Mean':'mean_ppb','AQI':'mean_AQI'},inplace=True)\n",
    "\n",
    "county_benchmarks_pm19 = county_means_pm19.to_dict('index')\n",
    "county_benchmarks_pm20 = county_means_pm20.to_dict('index')\n",
    "county_benchmarks_pm21 = county_means_pm21.to_dict('index')\n",
    "\n",
    "\n",
    "# ozone\n",
    "county_means_ozone19.rename(columns={'Arithmetic Mean':'mean_ppb','AQI':'mean_AQI'},inplace=True)\n",
    "county_means_ozone20.rename(columns={'Arithmetic Mean':'mean_ppb','AQI':'mean_AQI'},inplace=True)\n",
    "county_means_ozone21.rename(columns={'Arithmetic Mean':'mean_ppb','AQI':'mean_AQI'},inplace=True)\n",
    "\n",
    "county_benchmarks_ozone19 = county_means_ozone19.to_dict('index')\n",
    "county_benchmarks_ozone20 = county_means_ozone20.to_dict('index')\n",
    "county_benchmarks_ozone21 = county_means_ozone21.to_dict('index')\n",
    "\n",
    "\n",
    "# lead\n",
    "county_means_lead19.rename(columns={'Arithmetic Mean':'mean_ppb','1st Max Value':'mean_max'},inplace=True)\n",
    "county_means_lead20.rename(columns={'Arithmetic Mean':'mean_ppb','1st Max Value':'mean_max'},inplace=True)\n",
    "county_means_lead21.rename(columns={'Arithmetic Mean':'mean_ppb','1st Max Value':'mean_max'},inplace=True)\n",
    "\n",
    "county_benchmarks_lead19 = county_means_lead19.to_dict('index')\n",
    "county_benchmarks_lead20 = county_means_lead20.to_dict('index')\n",
    "county_benchmarks_lead21 = county_means_lead21.to_dict('index')"
   ]
  },
  {
   "cell_type": "code",
   "execution_count": 194,
   "id": "pretty-bread",
   "metadata": {},
   "outputs": [],
   "source": [
    "\n",
    "def check_level(df, averages, delta=0):\n",
    "    \"\"\"Return dictonary with higher than average ppb for each fips code.\n",
    "    \n",
    "    \n",
    "    Parameters:\n",
    "    \n",
    "    df -- single full dataframe\n",
    "    averages -- dict of structure fips:(mean_ppb, AQI)\n",
    "    delta -- ppb difference to flag, default = 0\n",
    "    \n",
    "    The averages dictionary should have one entry per fips code, \n",
    "            giving the average concentration for that county.\n",
    "    \n",
    "    Return:\n",
    "    peaks -- dict of structure fips:[dates]\n",
    "    \"\"\"\n",
    "    \n",
    "    targets = {}\n",
    "    for fipc in list(averages.keys()):\n",
    "        df[df['fips']==fipc]\n",
    "        peak_df = df[(df['fips']==fipc) & (df['Arithmetic Mean'] >= (averages[fipc]['mean_ppb'] + delta))]\n",
    "        targets[fipc] = peak_df[['Date Local','Arithmetic Mean']].to_dict()\n",
    "    return targets"
   ]
  },
  {
   "cell_type": "code",
   "execution_count": 195,
   "id": "mental-beatles",
   "metadata": {},
   "outputs": [],
   "source": [
    "##flats\n",
    "\n",
    "#pm\n",
    "flat_daily_avg_pm19 = daily_avg_pm19.reset_index()\n",
    "flat_daily_avg_pm20 = daily_avg_pm20.reset_index()\n",
    "flat_daily_avg_pm21 = daily_avg_pm21.reset_index()\n",
    "\n",
    "#ozone\n",
    "flat_daily_avg_ozone19 = daily_avg_ozone19.reset_index()\n",
    "flat_daily_avg_ozone20 = daily_avg_ozone20.reset_index()\n",
    "flat_daily_avg_ozone21 = daily_avg_ozone21.reset_index()\n",
    "\n",
    "#lead\n",
    "flat_daily_avg_lead19 = daily_avg_lead19.reset_index()\n",
    "flat_daily_avg_lead20 = daily_avg_lead20.reset_index()\n",
    "flat_daily_avg_lead21 = daily_avg_lead21.reset_index()"
   ]
  },
  {
   "cell_type": "markdown",
   "id": "growing-lucas",
   "metadata": {},
   "source": [
    "### cross ref keys"
   ]
  },
  {
   "cell_type": "code",
   "execution_count": 196,
   "id": "happy-government",
   "metadata": {},
   "outputs": [],
   "source": [
    "#pm19\n",
    "to_cross_ref_pm19 = check_level(flat_daily_avg_pm19,county_benchmarks_pm19,delta=15)\n",
    "to_cross_ref_pm20 = check_level(flat_daily_avg_pm20,county_benchmarks_pm20,delta=15)\n",
    "to_cross_ref_pm21 = check_level(flat_daily_avg_pm21,county_benchmarks_pm21,delta=15)\n",
    "\n",
    "pm19_cref_keys = list(to_cross_ref_pm19.keys())\n",
    "pm20_cref_keys = list(to_cross_ref_pm20.keys())\n",
    "pm21_cref_keys = list(to_cross_ref_pm21.keys())\n",
    "\n",
    "#ozone\n",
    "to_cross_ref_ozone19 = check_level(flat_daily_avg_ozone19,county_benchmarks_ozone19,delta=15)\n",
    "to_cross_ref_ozone20 = check_level(flat_daily_avg_ozone20,county_benchmarks_ozone20,delta=15)\n",
    "to_cross_ref_ozone21 = check_level(flat_daily_avg_ozone21,county_benchmarks_ozone21,delta=15)\n",
    "\n",
    "ozone19_cref_keys = list(to_cross_ref_ozone19.keys())\n",
    "ozone20_cref_keys = list(to_cross_ref_ozone20.keys())\n",
    "ozone21_cref_keys = list(to_cross_ref_ozone21.keys())\n",
    "\n",
    "\n",
    "#lead \n",
    "to_cross_ref_lead19 = check_level(flat_daily_avg_lead19,county_benchmarks_lead19,delta=15)\n",
    "to_cross_ref_lead20 = check_level(flat_daily_avg_lead20,county_benchmarks_lead20,delta=15)\n",
    "to_cross_ref_lead21 = check_level(flat_daily_avg_lead21,county_benchmarks_lead21,delta=15)\n",
    "\n",
    "lead19_cref_keys = list(to_cross_ref_lead19.keys())\n",
    "lead20_cref_keys = list(to_cross_ref_lead20.keys())\n",
    "lead21_cref_keys = list(to_cross_ref_lead21.keys())"
   ]
  },
  {
   "cell_type": "code",
   "execution_count": 197,
   "id": "correct-vanilla",
   "metadata": {},
   "outputs": [
    {
     "name": "stdout",
     "output_type": "stream",
     "text": [
      "pm19 keys to cref:  634\n",
      "pm20 keys to cref:  626\n",
      "pm21 keys to cref:  308\n",
      "\n",
      "ozone19 keys to cref:  776\n",
      "ozone20 keys to cref:  767\n",
      "ozone21 keys to cref:  408\n",
      "\n",
      "lead19 keys to cref:  80\n",
      "lead20 keys to cref:  71\n",
      "lead21 keys to cref:  19\n"
     ]
    }
   ],
   "source": [
    "#pm cref counts\n",
    "print('pm19 keys to cref: ', len(pm19_cref_keys))\n",
    "print('pm20 keys to cref: ', len(pm20_cref_keys))\n",
    "print('pm21 keys to cref: ', len(pm21_cref_keys))\n",
    "\n",
    "#ozone cref counts\n",
    "print('\\nozone19 keys to cref: ', len(ozone19_cref_keys))\n",
    "print('ozone20 keys to cref: ', len(ozone20_cref_keys))\n",
    "print('ozone21 keys to cref: ', len(ozone21_cref_keys))\n",
    "\n",
    "#lead cref counts\n",
    "print('\\nlead19 keys to cref: ', len(lead19_cref_keys))\n",
    "print('lead20 keys to cref: ', len(lead20_cref_keys))\n",
    "print('lead21 keys to cref: ', len(lead21_cref_keys))"
   ]
  },
  {
   "cell_type": "code",
   "execution_count": null,
   "id": "educated-bacon",
   "metadata": {},
   "outputs": [],
   "source": []
  },
  {
   "cell_type": "markdown",
   "id": "federal-peripheral",
   "metadata": {},
   "source": [
    "# -----------------------------------------\n",
    "    - began side look at the bottom for given fips"
   ]
  },
  {
   "cell_type": "code",
   "execution_count": 205,
   "id": "eastern-telephone",
   "metadata": {},
   "outputs": [
    {
     "name": "stdout",
     "output_type": "stream",
     "text": [
      "pm data count:  15\n",
      "ozone data count:  0\n",
      "lead data count:  0\n"
     ]
    }
   ],
   "source": [
    "# Collect list of dates for the target county\n",
    "target_fips = '06075' #sanfran 06075 #denver 08031\n",
    "\n",
    "#pm\n",
    "pm20_dates = list(to_cross_ref_pm20[target_fips]['Date Local'].values())\n",
    "print('pm data count: ', len(pm20_dates))\n",
    "\n",
    "#ozone\n",
    "ozone20_dates = list(to_cross_ref_ozone20[target_fips]['Date Local'].values())\n",
    "print('ozone data count: ', len(ozone20_dates))\n",
    "\n",
    "#lead\n",
    "lead20_dates = list(to_cross_ref_lead20[target_fips]['Date Local'].values())\n",
    "print('lead data count: ', len(lead20_dates))"
   ]
  },
  {
   "cell_type": "markdown",
   "id": "limited-genre",
   "metadata": {},
   "source": [
    "# --------------------------------------\n"
   ]
  },
  {
   "cell_type": "markdown",
   "id": "generic-glory",
   "metadata": {},
   "source": [
    "# covid functions"
   ]
  },
  {
   "cell_type": "code",
   "execution_count": 211,
   "id": "higher-direction",
   "metadata": {},
   "outputs": [],
   "source": [
    "def load_covid_by_fips(fipcode):\n",
    "    df = pd.read_pickle(NOAH_WKDIR.joinpath(\"processed_data\",\"county_merged_parts\",get_county_from_fips(fipcode)+'.pkl'))   \n",
    "    return df\n",
    "clamped_covid = ['fips','JHU_ConfirmedCases.data','JHU_ConfirmedDeaths.data', \n",
    "                 'latestTotalPopulation','MaleAndFemale_AtLeast65_Population.data',\n",
    "                 'Male_Total_Population.data','Female_Total_Population.data',\n",
    "                 'MaleAndFemale_Under18_Population.data','BLS_EmployedPopulation.data',\n",
    "                 'BLS_UnemployedPopulation.data','BLS_UnemploymentRate.data',\n",
    "                 'BLS_LaborForcePopulation.data','AverageWindDirection.data',\n",
    "                ]\n",
    "\n",
    "def stringify_fips(row):\n",
    "    ''' Convert the INTeger representation of fips to a string with leading zeros.\n",
    "            intended to be used in a lamda function.\n",
    "            \n",
    "    Arguments:\n",
    "    \n",
    "    row - a single row of a dataframe. Intended to be used like \"df4.apply(lambda row: stringify_fips(row), axis=1)\"\n",
    "    \n",
    "    '''\n",
    "    strFips = str(row['fips']).zfill(5)\n",
    "    return strFips\n",
    "\n",
    "def rolling_cases(df, window_size=7):\n",
    "    df['1wkroll'] = df['daily_new_cases'].rolling(window=window_size).mean()\n",
    "    df.reset_index(inplace=True)\n",
    "    df.set_index(\"dates\",inplace = True)\n",
    "    return df\n",
    "\n",
    "# cases / 100,000 people\n",
    "def set_weighted_cases(df):\n",
    "    wpop =  df['latestTotalPopulation'].max()/100000\n",
    "    z = df.loc[:,'JHU_ConfirmedCases.data'] / wpop\n",
    "    df['total_cases_per_100k'] = z.values    \n",
    "    return df\n",
    "\n",
    "#deaths per person infected\n",
    "def set_death_per_cases(df):\n",
    "    df.loc[:,'deaths_per_cases']= np.where((df.loc[:,'JHU_ConfirmedDeaths.data'] / df.loc[:,'JHU_ConfirmedCases.data'])>=0,\n",
    "                                          (df.loc[:,'JHU_ConfirmedDeaths.data'] / df.loc[:,'JHU_ConfirmedCases.data']), 0)\n",
    "    return df"
   ]
  },
  {
   "cell_type": "code",
   "execution_count": 212,
   "id": "matched-humanity",
   "metadata": {},
   "outputs": [],
   "source": [
    "\n",
    "def save_if_not(df, fip):\n",
    "    # if *fip* not found in 'my_savedir' then save it correctly\n",
    "    pass\n",
    "\n",
    "\n",
    "def load_and_augment_fips(fips):\n",
    "    tdf = load_covid_by_fips(fips)\n",
    "    # pickle loads numbers as floats; converting fips to int\n",
    "    tdf['fips'] = tdf.apply(lambda row: math.floor(row['fips']), axis=1)\n",
    "\n",
    "    # Making fips a string to match on other datasets with leading zero\n",
    "    df2= tdf.astype({\"fips\":\"int\"}).astype({'fips':'string'})\n",
    "    \n",
    "    # adding leading zero where needed\n",
    "    df2['fips'] = df2.apply(lambda row: stringify_fips(row), axis=1)\n",
    "    \n",
    "    #need daily change in cases to get the rolling delta of new infections\n",
    "    df2 = set_daily_cases_deaths(df2)\n",
    "    df2 = rolling_cases(df2)\n",
    "    df2.index = pd.to_datetime(df2.index, format=\"%Y/%m/%d\")\n",
    "    top_level_covid = ['fips','daily_new_cases','daily_new_deaths', \"1wkroll\",\n",
    "                   'JHU_ConfirmedCases.data','JHU_ConfirmedDeaths.data', \n",
    "                   'latestTotalPopulation']\n",
    "    \n",
    "    \n",
    "    df3 = df2[top_level_covid].copy()\n",
    "    df3 = set_weighted_cases(df3)\n",
    "    df3 = set_death_per_cases(df3)\n",
    "    \n",
    "    del df2\n",
    "    del tdf\n",
    "    \n",
    "    \n",
    "    \n",
    "    return df3"
   ]
  },
  {
   "cell_type": "code",
   "execution_count": 213,
   "id": "statistical-richardson",
   "metadata": {},
   "outputs": [],
   "source": [
    "# function to pull from url\n",
    "\n",
    "def pull_covid_data_BY_fips(fips):\n",
    "    return df\n",
    "\n",
    "\n",
    "#temp function to pull from work directory\n",
    "\n",
    "def pull_covid_data_by_fips(name):\n",
    "    df = pd.read_pickle(name)\n",
    "    return df"
   ]
  },
  {
   "cell_type": "code",
   "execution_count": 234,
   "id": "automotive-monte",
   "metadata": {
    "scrolled": true
   },
   "outputs": [
    {
     "ename": "AttributeError",
     "evalue": "Can't get attribute 'new_block' on <module 'pandas.core.internals.blocks' from '/Library/Frameworks/Python.framework/Versions/3.8/lib/python3.8/site-packages/pandas/core/internals/blocks.py'>",
     "output_type": "error",
     "traceback": [
      "\u001b[0;31m---------------------------------------------------------------------------\u001b[0m",
      "\u001b[0;31mAttributeError\u001b[0m                            Traceback (most recent call last)",
      "\u001b[0;32m<ipython-input-234-659788a47e5c>\u001b[0m in \u001b[0;36m<module>\u001b[0;34m\u001b[0m\n\u001b[1;32m      1\u001b[0m \u001b[0;31m## somethings up with pickel\u001b[0m\u001b[0;34m\u001b[0m\u001b[0;34m\u001b[0m\u001b[0;34m\u001b[0m\u001b[0m\n\u001b[0;32m----> 2\u001b[0;31m \u001b[0mdenver_covid\u001b[0m \u001b[0;34m=\u001b[0m \u001b[0mpd\u001b[0m\u001b[0;34m.\u001b[0m\u001b[0mread_pickle\u001b[0m\u001b[0;34m(\u001b[0m\u001b[0;34m'Denver_Colorado_UnitedStates.pkl'\u001b[0m\u001b[0;34m)\u001b[0m\u001b[0;34m\u001b[0m\u001b[0;34m\u001b[0m\u001b[0m\n\u001b[0m",
      "\u001b[0;32m/Library/Frameworks/Python.framework/Versions/3.8/lib/python3.8/site-packages/pandas/io/pickle.py\u001b[0m in \u001b[0;36mread_pickle\u001b[0;34m(filepath_or_buffer, compression, storage_options)\u001b[0m\n\u001b[1;32m    194\u001b[0m                 \u001b[0;31m#  \"No module named 'pandas.core.sparse.series'\"\u001b[0m\u001b[0;34m\u001b[0m\u001b[0;34m\u001b[0m\u001b[0;34m\u001b[0m\u001b[0m\n\u001b[1;32m    195\u001b[0m                 \u001b[0;31m#  \"Can't get attribute '__nat_unpickle' on <module 'pandas._libs.tslib\"\u001b[0m\u001b[0;34m\u001b[0m\u001b[0;34m\u001b[0m\u001b[0;34m\u001b[0m\u001b[0m\n\u001b[0;32m--> 196\u001b[0;31m                 \u001b[0;32mreturn\u001b[0m \u001b[0mpc\u001b[0m\u001b[0;34m.\u001b[0m\u001b[0mload\u001b[0m\u001b[0;34m(\u001b[0m\u001b[0mhandles\u001b[0m\u001b[0;34m.\u001b[0m\u001b[0mhandle\u001b[0m\u001b[0;34m,\u001b[0m \u001b[0mencoding\u001b[0m\u001b[0;34m=\u001b[0m\u001b[0;32mNone\u001b[0m\u001b[0;34m)\u001b[0m\u001b[0;34m\u001b[0m\u001b[0;34m\u001b[0m\u001b[0m\n\u001b[0m\u001b[1;32m    197\u001b[0m         \u001b[0;32mexcept\u001b[0m \u001b[0mUnicodeDecodeError\u001b[0m\u001b[0;34m:\u001b[0m\u001b[0;34m\u001b[0m\u001b[0;34m\u001b[0m\u001b[0m\n\u001b[1;32m    198\u001b[0m             \u001b[0;31m# e.g. can occur for files written in py27; see GH#28645 and GH#31988\u001b[0m\u001b[0;34m\u001b[0m\u001b[0;34m\u001b[0m\u001b[0;34m\u001b[0m\u001b[0m\n",
      "\u001b[0;32m/Library/Frameworks/Python.framework/Versions/3.8/lib/python3.8/site-packages/pandas/compat/pickle_compat.py\u001b[0m in \u001b[0;36mload\u001b[0;34m(fh, encoding, is_verbose)\u001b[0m\n\u001b[1;32m    247\u001b[0m         \u001b[0mup\u001b[0m\u001b[0;34m.\u001b[0m\u001b[0mis_verbose\u001b[0m \u001b[0;34m=\u001b[0m \u001b[0mis_verbose\u001b[0m\u001b[0;34m\u001b[0m\u001b[0;34m\u001b[0m\u001b[0m\n\u001b[1;32m    248\u001b[0m \u001b[0;34m\u001b[0m\u001b[0m\n\u001b[0;32m--> 249\u001b[0;31m         \u001b[0;32mreturn\u001b[0m \u001b[0mup\u001b[0m\u001b[0;34m.\u001b[0m\u001b[0mload\u001b[0m\u001b[0;34m(\u001b[0m\u001b[0;34m)\u001b[0m\u001b[0;34m\u001b[0m\u001b[0;34m\u001b[0m\u001b[0m\n\u001b[0m\u001b[1;32m    250\u001b[0m     \u001b[0;32mexcept\u001b[0m \u001b[0;34m(\u001b[0m\u001b[0mValueError\u001b[0m\u001b[0;34m,\u001b[0m \u001b[0mTypeError\u001b[0m\u001b[0;34m)\u001b[0m\u001b[0;34m:\u001b[0m\u001b[0;34m\u001b[0m\u001b[0;34m\u001b[0m\u001b[0m\n\u001b[1;32m    251\u001b[0m         \u001b[0;32mraise\u001b[0m\u001b[0;34m\u001b[0m\u001b[0;34m\u001b[0m\u001b[0m\n",
      "\u001b[0;32m/Library/Frameworks/Python.framework/Versions/3.8/lib/python3.8/pickle.py\u001b[0m in \u001b[0;36mload\u001b[0;34m(self)\u001b[0m\n\u001b[1;32m   1208\u001b[0m                     \u001b[0;32mraise\u001b[0m \u001b[0mEOFError\u001b[0m\u001b[0;34m\u001b[0m\u001b[0;34m\u001b[0m\u001b[0m\n\u001b[1;32m   1209\u001b[0m                 \u001b[0;32massert\u001b[0m \u001b[0misinstance\u001b[0m\u001b[0;34m(\u001b[0m\u001b[0mkey\u001b[0m\u001b[0;34m,\u001b[0m \u001b[0mbytes_types\u001b[0m\u001b[0;34m)\u001b[0m\u001b[0;34m\u001b[0m\u001b[0;34m\u001b[0m\u001b[0m\n\u001b[0;32m-> 1210\u001b[0;31m                 \u001b[0mdispatch\u001b[0m\u001b[0;34m[\u001b[0m\u001b[0mkey\u001b[0m\u001b[0;34m[\u001b[0m\u001b[0;36m0\u001b[0m\u001b[0;34m]\u001b[0m\u001b[0;34m]\u001b[0m\u001b[0;34m(\u001b[0m\u001b[0mself\u001b[0m\u001b[0;34m)\u001b[0m\u001b[0;34m\u001b[0m\u001b[0;34m\u001b[0m\u001b[0m\n\u001b[0m\u001b[1;32m   1211\u001b[0m         \u001b[0;32mexcept\u001b[0m \u001b[0m_Stop\u001b[0m \u001b[0;32mas\u001b[0m \u001b[0mstopinst\u001b[0m\u001b[0;34m:\u001b[0m\u001b[0;34m\u001b[0m\u001b[0;34m\u001b[0m\u001b[0m\n\u001b[1;32m   1212\u001b[0m             \u001b[0;32mreturn\u001b[0m \u001b[0mstopinst\u001b[0m\u001b[0;34m.\u001b[0m\u001b[0mvalue\u001b[0m\u001b[0;34m\u001b[0m\u001b[0;34m\u001b[0m\u001b[0m\n",
      "\u001b[0;32m/Library/Frameworks/Python.framework/Versions/3.8/lib/python3.8/pickle.py\u001b[0m in \u001b[0;36mload_stack_global\u001b[0;34m(self)\u001b[0m\n\u001b[1;32m   1533\u001b[0m         \u001b[0;32mif\u001b[0m \u001b[0mtype\u001b[0m\u001b[0;34m(\u001b[0m\u001b[0mname\u001b[0m\u001b[0;34m)\u001b[0m \u001b[0;32mis\u001b[0m \u001b[0;32mnot\u001b[0m \u001b[0mstr\u001b[0m \u001b[0;32mor\u001b[0m \u001b[0mtype\u001b[0m\u001b[0;34m(\u001b[0m\u001b[0mmodule\u001b[0m\u001b[0;34m)\u001b[0m \u001b[0;32mis\u001b[0m \u001b[0;32mnot\u001b[0m \u001b[0mstr\u001b[0m\u001b[0;34m:\u001b[0m\u001b[0;34m\u001b[0m\u001b[0;34m\u001b[0m\u001b[0m\n\u001b[1;32m   1534\u001b[0m             \u001b[0;32mraise\u001b[0m \u001b[0mUnpicklingError\u001b[0m\u001b[0;34m(\u001b[0m\u001b[0;34m\"STACK_GLOBAL requires str\"\u001b[0m\u001b[0;34m)\u001b[0m\u001b[0;34m\u001b[0m\u001b[0;34m\u001b[0m\u001b[0m\n\u001b[0;32m-> 1535\u001b[0;31m         \u001b[0mself\u001b[0m\u001b[0;34m.\u001b[0m\u001b[0mappend\u001b[0m\u001b[0;34m(\u001b[0m\u001b[0mself\u001b[0m\u001b[0;34m.\u001b[0m\u001b[0mfind_class\u001b[0m\u001b[0;34m(\u001b[0m\u001b[0mmodule\u001b[0m\u001b[0;34m,\u001b[0m \u001b[0mname\u001b[0m\u001b[0;34m)\u001b[0m\u001b[0;34m)\u001b[0m\u001b[0;34m\u001b[0m\u001b[0;34m\u001b[0m\u001b[0m\n\u001b[0m\u001b[1;32m   1536\u001b[0m     \u001b[0mdispatch\u001b[0m\u001b[0;34m[\u001b[0m\u001b[0mSTACK_GLOBAL\u001b[0m\u001b[0;34m[\u001b[0m\u001b[0;36m0\u001b[0m\u001b[0;34m]\u001b[0m\u001b[0;34m]\u001b[0m \u001b[0;34m=\u001b[0m \u001b[0mload_stack_global\u001b[0m\u001b[0;34m\u001b[0m\u001b[0;34m\u001b[0m\u001b[0m\n\u001b[1;32m   1537\u001b[0m \u001b[0;34m\u001b[0m\u001b[0m\n",
      "\u001b[0;32m/Library/Frameworks/Python.framework/Versions/3.8/lib/python3.8/site-packages/pandas/compat/pickle_compat.py\u001b[0m in \u001b[0;36mfind_class\u001b[0;34m(self, module, name)\u001b[0m\n\u001b[1;32m    187\u001b[0m         \u001b[0mkey\u001b[0m \u001b[0;34m=\u001b[0m \u001b[0;34m(\u001b[0m\u001b[0mmodule\u001b[0m\u001b[0;34m,\u001b[0m \u001b[0mname\u001b[0m\u001b[0;34m)\u001b[0m\u001b[0;34m\u001b[0m\u001b[0;34m\u001b[0m\u001b[0m\n\u001b[1;32m    188\u001b[0m         \u001b[0mmodule\u001b[0m\u001b[0;34m,\u001b[0m \u001b[0mname\u001b[0m \u001b[0;34m=\u001b[0m \u001b[0m_class_locations_map\u001b[0m\u001b[0;34m.\u001b[0m\u001b[0mget\u001b[0m\u001b[0;34m(\u001b[0m\u001b[0mkey\u001b[0m\u001b[0;34m,\u001b[0m \u001b[0mkey\u001b[0m\u001b[0;34m)\u001b[0m\u001b[0;34m\u001b[0m\u001b[0;34m\u001b[0m\u001b[0m\n\u001b[0;32m--> 189\u001b[0;31m         \u001b[0;32mreturn\u001b[0m \u001b[0msuper\u001b[0m\u001b[0;34m(\u001b[0m\u001b[0;34m)\u001b[0m\u001b[0;34m.\u001b[0m\u001b[0mfind_class\u001b[0m\u001b[0;34m(\u001b[0m\u001b[0mmodule\u001b[0m\u001b[0;34m,\u001b[0m \u001b[0mname\u001b[0m\u001b[0;34m)\u001b[0m\u001b[0;34m\u001b[0m\u001b[0;34m\u001b[0m\u001b[0m\n\u001b[0m\u001b[1;32m    190\u001b[0m \u001b[0;34m\u001b[0m\u001b[0m\n\u001b[1;32m    191\u001b[0m \u001b[0;34m\u001b[0m\u001b[0m\n",
      "\u001b[0;32m/Library/Frameworks/Python.framework/Versions/3.8/lib/python3.8/pickle.py\u001b[0m in \u001b[0;36mfind_class\u001b[0;34m(self, module, name)\u001b[0m\n\u001b[1;32m   1577\u001b[0m         \u001b[0m__import__\u001b[0m\u001b[0;34m(\u001b[0m\u001b[0mmodule\u001b[0m\u001b[0;34m,\u001b[0m \u001b[0mlevel\u001b[0m\u001b[0;34m=\u001b[0m\u001b[0;36m0\u001b[0m\u001b[0;34m)\u001b[0m\u001b[0;34m\u001b[0m\u001b[0;34m\u001b[0m\u001b[0m\n\u001b[1;32m   1578\u001b[0m         \u001b[0;32mif\u001b[0m \u001b[0mself\u001b[0m\u001b[0;34m.\u001b[0m\u001b[0mproto\u001b[0m \u001b[0;34m>=\u001b[0m \u001b[0;36m4\u001b[0m\u001b[0;34m:\u001b[0m\u001b[0;34m\u001b[0m\u001b[0;34m\u001b[0m\u001b[0m\n\u001b[0;32m-> 1579\u001b[0;31m             \u001b[0;32mreturn\u001b[0m \u001b[0m_getattribute\u001b[0m\u001b[0;34m(\u001b[0m\u001b[0msys\u001b[0m\u001b[0;34m.\u001b[0m\u001b[0mmodules\u001b[0m\u001b[0;34m[\u001b[0m\u001b[0mmodule\u001b[0m\u001b[0;34m]\u001b[0m\u001b[0;34m,\u001b[0m \u001b[0mname\u001b[0m\u001b[0;34m)\u001b[0m\u001b[0;34m[\u001b[0m\u001b[0;36m0\u001b[0m\u001b[0;34m]\u001b[0m\u001b[0;34m\u001b[0m\u001b[0;34m\u001b[0m\u001b[0m\n\u001b[0m\u001b[1;32m   1580\u001b[0m         \u001b[0;32melse\u001b[0m\u001b[0;34m:\u001b[0m\u001b[0;34m\u001b[0m\u001b[0;34m\u001b[0m\u001b[0m\n\u001b[1;32m   1581\u001b[0m             \u001b[0;32mreturn\u001b[0m \u001b[0mgetattr\u001b[0m\u001b[0;34m(\u001b[0m\u001b[0msys\u001b[0m\u001b[0;34m.\u001b[0m\u001b[0mmodules\u001b[0m\u001b[0;34m[\u001b[0m\u001b[0mmodule\u001b[0m\u001b[0;34m]\u001b[0m\u001b[0;34m,\u001b[0m \u001b[0mname\u001b[0m\u001b[0;34m)\u001b[0m\u001b[0;34m\u001b[0m\u001b[0;34m\u001b[0m\u001b[0m\n",
      "\u001b[0;32m/Library/Frameworks/Python.framework/Versions/3.8/lib/python3.8/pickle.py\u001b[0m in \u001b[0;36m_getattribute\u001b[0;34m(obj, name)\u001b[0m\n\u001b[1;32m    329\u001b[0m             \u001b[0mobj\u001b[0m \u001b[0;34m=\u001b[0m \u001b[0mgetattr\u001b[0m\u001b[0;34m(\u001b[0m\u001b[0mobj\u001b[0m\u001b[0;34m,\u001b[0m \u001b[0msubpath\u001b[0m\u001b[0;34m)\u001b[0m\u001b[0;34m\u001b[0m\u001b[0;34m\u001b[0m\u001b[0m\n\u001b[1;32m    330\u001b[0m         \u001b[0;32mexcept\u001b[0m \u001b[0mAttributeError\u001b[0m\u001b[0;34m:\u001b[0m\u001b[0;34m\u001b[0m\u001b[0;34m\u001b[0m\u001b[0m\n\u001b[0;32m--> 331\u001b[0;31m             raise AttributeError(\"Can't get attribute {!r} on {!r}\"\n\u001b[0m\u001b[1;32m    332\u001b[0m                                  .format(name, obj)) from None\n\u001b[1;32m    333\u001b[0m     \u001b[0;32mreturn\u001b[0m \u001b[0mobj\u001b[0m\u001b[0;34m,\u001b[0m \u001b[0mparent\u001b[0m\u001b[0;34m\u001b[0m\u001b[0;34m\u001b[0m\u001b[0m\n",
      "\u001b[0;31mAttributeError\u001b[0m: Can't get attribute 'new_block' on <module 'pandas.core.internals.blocks' from '/Library/Frameworks/Python.framework/Versions/3.8/lib/python3.8/site-packages/pandas/core/internals/blocks.py'>"
     ]
    }
   ],
   "source": [
    "#### somethings up with pickel ####\n",
    "denver_covid = pd.read_pickle('Denver_Colorado_UnitedStates.pkl')"
   ]
  },
  {
   "cell_type": "code",
   "execution_count": 389,
   "id": "opening-outreach",
   "metadata": {},
   "outputs": [
    {
     "data": {
      "text/plain": [
       "'/Users/evanfalkowski/Documents/Drexel/Capstone/DSCI_591'"
      ]
     },
     "execution_count": 389,
     "metadata": {},
     "output_type": "execute_result"
    }
   ],
   "source": [
    "os.getcwd()"
   ]
  },
  {
   "cell_type": "markdown",
   "id": "premier-consumer",
   "metadata": {},
   "source": [
    "## check with one county"
   ]
  },
  {
   "cell_type": "code",
   "execution_count": 214,
   "id": "editorial-copper",
   "metadata": {},
   "outputs": [],
   "source": [
    "###### specifiy fips code\n",
    "fips_target = '01073'"
   ]
  },
  {
   "cell_type": "code",
   "execution_count": 215,
   "id": "included-bracelet",
   "metadata": {},
   "outputs": [
    {
     "data": {
      "text/plain": [
       "{'Date Local': {88846: Timestamp('2020-06-26 00:00:00'),\n",
       "  89436: Timestamp('2020-06-27 00:00:00'),\n",
       "  123819: Timestamp('2020-09-03 00:00:00'),\n",
       "  141589: Timestamp('2020-10-08 00:00:00'),\n",
       "  173142: Timestamp('2020-12-09 00:00:00'),\n",
       "  173610: Timestamp('2020-12-10 00:00:00')},\n",
       " 'Arithmetic Mean': {88846: 35.462962999999995,\n",
       "  89436: 25.924999999999997,\n",
       "  123819: 25.31354175,\n",
       "  141589: 26.729166499999998,\n",
       "  173142: 26.6204545,\n",
       "  173610: 25.4125}}"
      ]
     },
     "execution_count": 215,
     "metadata": {},
     "output_type": "execute_result"
    }
   ],
   "source": [
    "to_cross_ref_pm20[fips_target]\n",
    "#to_cross_ref_ozone20[fips_target]\n",
    "#to_cross_ref_lead20[fips_target]"
   ]
  },
  {
   "cell_type": "code",
   "execution_count": 216,
   "id": "expired-orlando",
   "metadata": {},
   "outputs": [
    {
     "data": {
      "text/plain": [
       "{'Date Local': {}, 'Arithmetic Mean': {}}"
      ]
     },
     "execution_count": 216,
     "metadata": {},
     "output_type": "execute_result"
    }
   ],
   "source": [
    "to_cross_ref_ozone20[fips_target]"
   ]
  },
  {
   "cell_type": "code",
   "execution_count": 217,
   "id": "attended-niger",
   "metadata": {},
   "outputs": [
    {
     "ename": "KeyError",
     "evalue": "'01073'",
     "output_type": "error",
     "traceback": [
      "\u001b[0;31m---------------------------------------------------------------------------\u001b[0m",
      "\u001b[0;31mKeyError\u001b[0m                                  Traceback (most recent call last)",
      "\u001b[0;32m<ipython-input-217-7c59762a458c>\u001b[0m in \u001b[0;36m<module>\u001b[0;34m\u001b[0m\n\u001b[0;32m----> 1\u001b[0;31m \u001b[0mto_cross_ref_lead20\u001b[0m\u001b[0;34m[\u001b[0m\u001b[0mfips_target\u001b[0m\u001b[0;34m]\u001b[0m\u001b[0;34m\u001b[0m\u001b[0;34m\u001b[0m\u001b[0m\n\u001b[0m",
      "\u001b[0;31mKeyError\u001b[0m: '01073'"
     ]
    }
   ],
   "source": [
    "to_cross_ref_lead20[fips_target]"
   ]
  },
  {
   "cell_type": "code",
   "execution_count": 218,
   "id": "behavioral-round",
   "metadata": {},
   "outputs": [
    {
     "name": "stdout",
     "output_type": "stream",
     "text": [
      "pm data count:  6\n",
      "ozone data count:  0\n"
     ]
    }
   ],
   "source": [
    "# Collect list of dates for the target county\n",
    "\n",
    "c_dates_pm20 = list(to_cross_ref_pm20[fips_target]['Date Local'].values())\n",
    "print('pm data count: ', len(c_dates_pm20))\n",
    "\n",
    "\n",
    "c_dates_ozone20 = list(to_cross_ref_ozone20[fips_target]['Date Local'].values())\n",
    "print('ozone data count: ', len(c_dates_ozone20))\n",
    "\n",
    "#lead gets an error\n",
    "#c_dates_lead20 = list(to_cross_ref_lead20[fips_target]['Date Local'].values())\n",
    "#print('lead data count: ', len(c_dates_lead20))"
   ]
  },
  {
   "cell_type": "markdown",
   "id": "viral-fraud",
   "metadata": {},
   "source": [
    "##### holding off on lead for now"
   ]
  },
  {
   "cell_type": "code",
   "execution_count": 219,
   "id": "confirmed-sweet",
   "metadata": {},
   "outputs": [
    {
     "data": {
      "text/html": [
       "<div>\n",
       "<style scoped>\n",
       "    .dataframe tbody tr th:only-of-type {\n",
       "        vertical-align: middle;\n",
       "    }\n",
       "\n",
       "    .dataframe tbody tr th {\n",
       "        vertical-align: top;\n",
       "    }\n",
       "\n",
       "    .dataframe thead th {\n",
       "        text-align: right;\n",
       "    }\n",
       "</style>\n",
       "<table border=\"1\" class=\"dataframe\">\n",
       "  <thead>\n",
       "    <tr style=\"text-align: right;\">\n",
       "      <th></th>\n",
       "      <th>Arithmetic Mean</th>\n",
       "    </tr>\n",
       "    <tr>\n",
       "      <th>Date Local</th>\n",
       "      <th></th>\n",
       "    </tr>\n",
       "  </thead>\n",
       "  <tbody>\n",
       "    <tr>\n",
       "      <th>2020-12-01</th>\n",
       "      <td>8.429167</td>\n",
       "    </tr>\n",
       "    <tr>\n",
       "      <th>2020-12-02</th>\n",
       "      <td>11.225000</td>\n",
       "    </tr>\n",
       "    <tr>\n",
       "      <th>2020-12-03</th>\n",
       "      <td>20.500000</td>\n",
       "    </tr>\n",
       "  </tbody>\n",
       "</table>\n",
       "</div>"
      ],
      "text/plain": [
       "            Arithmetic Mean\n",
       "Date Local                 \n",
       "2020-12-01         8.429167\n",
       "2020-12-02        11.225000\n",
       "2020-12-03        20.500000"
      ]
     },
     "execution_count": 219,
     "metadata": {},
     "output_type": "execute_result"
    }
   ],
   "source": [
    "#datetime index conditions\n",
    "\n",
    "#pm\n",
    "pm20df = daily_avg_pm20.reset_index().set_index('Date Local')\n",
    "pm20df[['Arithmetic Mean']][pm20df['fips'] == target_fips].loc['2020-12-01':'2020-12-20'][0:3]"
   ]
  },
  {
   "cell_type": "code",
   "execution_count": 220,
   "id": "brown-scientist",
   "metadata": {},
   "outputs": [
    {
     "data": {
      "text/html": [
       "<div>\n",
       "<style scoped>\n",
       "    .dataframe tbody tr th:only-of-type {\n",
       "        vertical-align: middle;\n",
       "    }\n",
       "\n",
       "    .dataframe tbody tr th {\n",
       "        vertical-align: top;\n",
       "    }\n",
       "\n",
       "    .dataframe thead th {\n",
       "        text-align: right;\n",
       "    }\n",
       "</style>\n",
       "<table border=\"1\" class=\"dataframe\">\n",
       "  <thead>\n",
       "    <tr style=\"text-align: right;\">\n",
       "      <th></th>\n",
       "      <th>Arithmetic Mean</th>\n",
       "    </tr>\n",
       "    <tr>\n",
       "      <th>Date Local</th>\n",
       "      <th></th>\n",
       "    </tr>\n",
       "  </thead>\n",
       "  <tbody>\n",
       "    <tr>\n",
       "      <th>2020-12-01</th>\n",
       "      <td>0.012353</td>\n",
       "    </tr>\n",
       "    <tr>\n",
       "      <th>2020-12-02</th>\n",
       "      <td>0.013471</td>\n",
       "    </tr>\n",
       "    <tr>\n",
       "      <th>2020-12-03</th>\n",
       "      <td>0.018824</td>\n",
       "    </tr>\n",
       "  </tbody>\n",
       "</table>\n",
       "</div>"
      ],
      "text/plain": [
       "            Arithmetic Mean\n",
       "Date Local                 \n",
       "2020-12-01         0.012353\n",
       "2020-12-02         0.013471\n",
       "2020-12-03         0.018824"
      ]
     },
     "execution_count": 220,
     "metadata": {},
     "output_type": "execute_result"
    }
   ],
   "source": [
    "#ozone\n",
    "ozone20df = daily_avg_ozone20.reset_index().set_index('Date Local')\n",
    "ozone20df[['Arithmetic Mean']][ozone20df['fips'] == target_fips].loc['2020-12-01':'2020-12-20'][0:3]"
   ]
  },
  {
   "cell_type": "code",
   "execution_count": 226,
   "id": "healthy-anderson",
   "metadata": {},
   "outputs": [
    {
     "data": {
      "text/html": [
       "<div>\n",
       "<style scoped>\n",
       "    .dataframe tbody tr th:only-of-type {\n",
       "        vertical-align: middle;\n",
       "    }\n",
       "\n",
       "    .dataframe tbody tr th {\n",
       "        vertical-align: top;\n",
       "    }\n",
       "\n",
       "    .dataframe thead th {\n",
       "        text-align: right;\n",
       "    }\n",
       "</style>\n",
       "<table border=\"1\" class=\"dataframe\">\n",
       "  <thead>\n",
       "    <tr style=\"text-align: right;\">\n",
       "      <th></th>\n",
       "      <th>Arithmetic Mean</th>\n",
       "    </tr>\n",
       "    <tr>\n",
       "      <th>Date Local</th>\n",
       "      <th></th>\n",
       "    </tr>\n",
       "  </thead>\n",
       "  <tbody>\n",
       "  </tbody>\n",
       "</table>\n",
       "</div>"
      ],
      "text/plain": [
       "Empty DataFrame\n",
       "Columns: [Arithmetic Mean]\n",
       "Index: []"
      ]
     },
     "execution_count": 226,
     "metadata": {},
     "output_type": "execute_result"
    }
   ],
   "source": [
    "#lead\n",
    "lead20df = daily_avg_lead20.reset_index().set_index('Date Local')\n",
    "lead20.head(3)\n",
    "lead20df[['Arithmetic Mean']][lead20df['fips'] == target_fips].loc['2020-12-01':'2020-12-20'][0:3]"
   ]
  },
  {
   "cell_type": "code",
   "execution_count": 227,
   "id": "recent-legislation",
   "metadata": {},
   "outputs": [],
   "source": [
    "## leveraging datetime functionality\n",
    "\n",
    "tdate = pd.Timestamp('2020-12-10')\n",
    "#tdate = pd.Timestamp.date(t)\n",
    "# days forward and backward to look\n",
    "offset = pd.offsets.Week()"
   ]
  },
  {
   "cell_type": "code",
   "execution_count": 229,
   "id": "nominated-illness",
   "metadata": {},
   "outputs": [],
   "source": [
    "pm20_vals = pm20df[pm20df['fips'] == target_fips].loc[tdate - offset:tdate+offset][\"Arithmetic Mean\"]\n",
    "ozone20_vals = ozone20df[ozone20df['fips'] == target_fips].loc[tdate - offset:tdate+offset][\"Arithmetic Mean\"]\n",
    "lead20_vals = lead20df[lead20df['fips'] == target_fips].loc[tdate - offset:tdate+offset][\"Arithmetic Mean\"]"
   ]
  },
  {
   "cell_type": "code",
   "execution_count": 230,
   "id": "timely-maker",
   "metadata": {},
   "outputs": [],
   "source": [
    "# getting a rolling average of the no2 concentrations\n",
    "\n",
    "pm20_rolling_mean = pm20df.groupby(\"fips\")[['Arithmetic Mean']].rolling(window=3).mean()\n",
    "ozone20_rolling_mean = ozone20df.groupby(\"fips\")[['Arithmetic Mean']].rolling(window=3).mean()\n",
    "lead20_rolling_mean = lead20df.groupby(\"fips\")[['Arithmetic Mean']].rolling(window=3).mean()\n",
    "\n",
    "\n",
    "pm20_rolling_peak = pm20_rolling_mean.groupby(\"fips\").idxmax()\n",
    "ozone20_rolling_peak = ozone20_rolling_mean.groupby(\"fips\").idxmax()\n",
    "lead20_rolling_peak = lead20_rolling_mean.groupby(\"fips\").idxmax()\n",
    "\n",
    "pm20_raw_peak = pm20df.groupby(\"fips\")[['Arithmetic Mean']].idxmax()\n",
    "ozone20_raw_peak = ozone20df.groupby(\"fips\")[['Arithmetic Mean']].idxmax()\n",
    "lead20_raw_peak = lead20df.groupby(\"fips\")[['Arithmetic Mean']].idxmax()\n",
    "\n",
    "\n",
    "rolling_peaks_dict_pm20 = {}\n",
    "rolling_peaks_dict_ozone20 = {}\n",
    "rolling_peaks_dict_lead20 = {}\n",
    "\n",
    "\n",
    "for artup in pm20_rolling_peak.values:\n",
    "    tup = artup[0]\n",
    "    rolling_peaks_dict_pm20[tup[0]] = tup[1]\n",
    "    \n",
    "for artup in ozone20_rolling_peak.values:\n",
    "    tup = artup[0]\n",
    "    rolling_peaks_dict_ozone20[tup[0]] = tup[1]\n",
    "    \n",
    "for artup in lead20_rolling_peak.values:\n",
    "    tup = artup[0]\n",
    "    rolling_peaks_dict[tup[0]] = tup[1]\n",
    "\n",
    "    \n",
    "raw_peaks_dict_pm20 = {}\n",
    "raw_peaks_dict_ozone20 = {}\n",
    "raw_peaks_dict_lead20 = {}\n",
    "\n",
    "for tup in pm20_raw_peak.itertuples():\n",
    "    raw_peaks_dict_pm20[tup[0]] = tup[1]\n",
    "    \n",
    "for tup in ozone20_raw_peak.itertuples():\n",
    "    raw_peaks_dict_ozone20[tup[0]] = tup[1]\n",
    "    \n",
    "for tup in lead20_raw_peak.itertuples():\n",
    "    raw_peaks_dict_lead20[tup[0]] = tup[1]"
   ]
  },
  {
   "cell_type": "code",
   "execution_count": 125,
   "id": "naked-findings",
   "metadata": {},
   "outputs": [
    {
     "name": "stdout",
     "output_type": "stream",
     "text": [
      "pm20:\n",
      " fips\n",
      "01003    3.364018\n",
      "01027    3.752287\n",
      "01049    4.076023\n",
      "01055    4.549206\n",
      "01073    4.537353\n",
      "Name: Arithmetic Mean, dtype: float64\n",
      "\n",
      "ozone20:\n",
      " fips\n",
      "01003    0.008369\n",
      "01049    0.007891\n",
      "01051    0.007654\n",
      "01055    0.008140\n",
      "01073    0.008428\n",
      "Name: Arithmetic Mean, dtype: float64\n",
      "\n",
      "lead20:\n",
      " fips\n",
      "01109    0.091110\n",
      "04007    0.017872\n",
      "06007    0.000749\n",
      "06019    0.002090\n",
      "06025    0.005476\n",
      "Name: Arithmetic Mean, dtype: float64\n"
     ]
    }
   ],
   "source": [
    "# taking stock\n",
    "\n",
    "# confirming that +15 ppb is actually above the std div\n",
    "\n",
    "#pm\n",
    "pm20_stdList = flat_daily_avg_pm20.groupby(\"fips\")['Arithmetic Mean'].std()\n",
    "print('pm20:\\n',pm20_stdList[:5])\n",
    "\n",
    "#ozone\n",
    "ozone20_stdList = flat_daily_avg_ozone20.groupby(\"fips\")['Arithmetic Mean'].std()\n",
    "print('\\nozone20:\\n',ozone20_stdList[:5])\n",
    "\n",
    "#lead\n",
    "lead20_stdList = flat_daily_avg_lead20.groupby(\"fips\")['Arithmetic Mean'].std()\n",
    "print('\\nlead20:\\n',lead20_stdList[:5])"
   ]
  },
  {
   "cell_type": "code",
   "execution_count": 231,
   "id": "familiar-catalog",
   "metadata": {},
   "outputs": [
    {
     "data": {
      "text/plain": [
       "[<matplotlib.lines.Line2D at 0x7ff2d3a14b50>]"
      ]
     },
     "execution_count": 231,
     "metadata": {},
     "output_type": "execute_result"
    },
    {
     "data": {
      "image/png": "[encoded data removed]",
      "text/plain": [
       "<Figure size 720x576 with 4 Axes>"
      ]
     },
     "metadata": {
      "needs_background": "light"
     },
     "output_type": "display_data"
    }
   ],
   "source": [
    "tfip = target_fips\n",
    "\n",
    "#center_date = ex_dict[tfip]\n",
    "center_date = pd.Timestamp('2020-01-30')\n",
    "\n",
    "fig, axs = plt.subplots(4,1,figsize =(10,8) )\n",
    "#covdf2 = load_and_augment_fips(tfip)\n",
    "\n",
    "#cov_interval = covdf2.loc[center_date - offset:center_date+offset]\n",
    "#axs[0].plot(cov_interval['daily_new_cases'])\n",
    "\n",
    "pm20_vals = pm20df[pm20df['fips'] == tfip].loc[center_date - offset:center_date+offset][\"Arithmetic Mean\"]\n",
    "axs[1].plot(pm20_vals)\n",
    "\n",
    "ozone20_vals = ozone20df[ozone20df['fips'] == tfip].loc[center_date - offset:center_date+offset][\"Arithmetic Mean\"]\n",
    "axs[2].plot(ozone20_vals)\n",
    "\n",
    "lead20_vals = lead20df[lead20df['fips'] == tfip].loc[center_date - offset:center_date+offset][\"Arithmetic Mean\"]\n",
    "axs[3].plot(lead20_vals)"
   ]
  },
  {
   "cell_type": "code",
   "execution_count": 232,
   "id": "bizarre-nation",
   "metadata": {},
   "outputs": [],
   "source": [
    "def dual_plot(tfip, no2df,rolling_peaks_dict):\n",
    "    elist = []\n",
    "    center_date = rolling_peaks_dict[tfip]\n",
    "    covdf2 = load_and_augment_fips(tfip)       \n",
    "    \n",
    "    fig, axs = plt.subplots(2,1,figsize =(11,8), sharex=True)\n",
    "    no2_vals = no2df[no2df['fips'] == tfip].loc[center_date - offset:center_date+offset][\"Arithmetic Mean\"]\n",
    "    cov_interval = covdf2.loc[center_date - offset:center_date+offset]    \n",
    "    title_text = \"{} daily cases\".format(tfip)\n",
    "    axs[0].set_title(title_text)\n",
    "    axs[0].plot(cov_interval[\"daily_new_cases\"],'b',label=\"daily cases\")\n",
    "    # axs[0].plot(cov_interval[\"daily_new_cases\"].shift(-7,freq=\"D\"),'r', label=\"shifted back 7 days\")\n",
    "    axs[0].legend()\n",
    "    axs[1].plot(no2_vals)\n",
    "    axs[1].set_title(\"Pollutant concentrations\")\n",
    "    # fig.update_layout(\n",
    "    #         autosize=False,\n",
    "    #         width=1300,\n",
    "    #         height=1100,)\n",
    "    # fig.savefig(cwd.joinpath(\"no2_images\",\"county_peak_plots\",f\"{tfip}_comparison.jpg\"))\n",
    "    # plt.close()"
   ]
  },
  {
   "cell_type": "code",
   "execution_count": 390,
   "id": "educated-ideal",
   "metadata": {},
   "outputs": [
    {
     "data": {
      "text/plain": [
       "Text(0.5, 1.0, 'ozone concentrations')"
      ]
     },
     "execution_count": 390,
     "metadata": {},
     "output_type": "execute_result"
    },
    {
     "data": {
      "image/png": "[encoded data removed]",
      "text/plain": [
       "<Figure size 1440x576 with 4 Axes>"
      ]
     },
     "metadata": {
      "needs_background": "light"
     },
     "output_type": "display_data"
    }
   ],
   "source": [
    "tfip = \"01073\"\n",
    "\n",
    "#covdf2 = load_and_augment_fips(tfip)\n",
    "fig, axs = plt.subplots(4,1,figsize =(20,8), sharex=True)\n",
    "pm20_vals = pm20df[pm20df['fips'] == tfip][\"Arithmetic Mean\"]\n",
    "ozone20_vals = ozone20df[ozone20df['fips'] == tfip][\"Arithmetic Mean\"]\n",
    "\n",
    "title_text = \"{} daily cases\".format(tfip)\n",
    "\n",
    "axs[0].set_title(title_text)\n",
    "#axs[0].plot(covdf2[\"daily_new_cases\"],'b',label=\"daily cases\")\n",
    "\n",
    "axs[1].plot(pm20_vals)\n",
    "axs[1].set_title(\"PM2.5 concentrations\")\n",
    "\n",
    "axs[2].plot(ozone20_vals)\n",
    "axs[2].set_title(\"ozone concentrations\")\n",
    "\n",
    "axs[3].plot(lead20_vals)\n",
    "axs[3].set_title(\"ozone concentrations\")\n",
    "\n",
    "# fig.savefig(cwd.joinpath(\"no2_images\",\"test\",f\"{tfip}_comparison.jpg\"))\n",
    "# plt.close()"
   ]
  },
  {
   "cell_type": "code",
   "execution_count": null,
   "id": "disturbed-flood",
   "metadata": {},
   "outputs": [],
   "source": []
  },
  {
   "cell_type": "markdown",
   "id": "moved-story",
   "metadata": {},
   "source": [
    "# ------- different look -----"
   ]
  },
  {
   "cell_type": "code",
   "execution_count": 244,
   "id": "raised-devil",
   "metadata": {},
   "outputs": [],
   "source": [
    "#give fips, get county\n",
    "\n",
    "def get_county_name(df,fips_code):\n",
    "    countyName = df[df['fips'] == fips_code]\n",
    "    countyName = pd.DataFrame(countyName, columns = ['County Name','fips'])\n",
    "    return pd.unique(countyName['County Name'])\n",
    "\n",
    "\n",
    "#give county, get fips\n",
    "def get_fips(df,county_name):\n",
    "    fips_df = df[df['County Name'] == county_name]\n",
    "    fips_df = pd.DataFrame(fips_df, columns = ['fips','County Name'])\n",
    "    return pd.unique(fips_df['fips'])"
   ]
  },
  {
   "cell_type": "code",
   "execution_count": 245,
   "id": "industrial-frontier",
   "metadata": {},
   "outputs": [],
   "source": [
    "#pm counties\n",
    "pm19_counties = pm19['County Name'].unique()\n",
    "pm20_counties = pm20['County Name'].unique()\n",
    "pm21_counties = pm21['County Name'].unique()\n",
    "\n",
    "#ozone counties\n",
    "ozone19_counties = ozone19['County Name'].unique()\n",
    "ozone20_counties = ozone20['County Name'].unique()\n",
    "ozone21_counties = ozone21['County Name'].unique()\n",
    "\n",
    "#lead counties\n",
    "lead19_counties = lead19['County Name'].unique()\n",
    "lead20_counties = lead20['County Name'].unique()\n",
    "lead21_counties = lead21['County Name'].unique()\n",
    "\n",
    "#pm fips\n",
    "pm19_fips = pm19['fips'].unique()\n",
    "pm20_fips = pm20['fips'].unique()\n",
    "pm21_fips = pm21['fips'].unique()\n",
    "\n",
    "#ozone fips \n",
    "ozone19_fips = ozone19['fips'].unique()\n",
    "ozone20_fips = ozone20['fips'].unique()\n",
    "ozone21_fips = ozone21['fips'].unique()\n",
    "\n",
    "#lead fips\n",
    "lead19_fips = lead19['fips'].unique()\n",
    "lead20_fips = lead20['fips'].unique()\n",
    "lead21_fips = lead21['fips'].unique()"
   ]
  },
  {
   "cell_type": "code",
   "execution_count": 246,
   "id": "exempt-modification",
   "metadata": {},
   "outputs": [],
   "source": [
    "def condense_df(df):\n",
    "    df = pd.DataFrame(df, columns = ['fips','County Name','Date Local','Arithmetic Mean'])\n",
    "    return df\n",
    "\n",
    "def collect_single_fips(df,fips):\n",
    "    df_result = df[df['fips'] == fips]\n",
    "    return df_result\n",
    "\n",
    "def condense_single_fips(df,fips):\n",
    "    df = pd.DataFrame(df, columns = ['fips','County Name','Date Local','Arithmetic Mean'])\n",
    "    df_result = df[df['fips'] == fips]\n",
    "    return df_result\n",
    "\n",
    "def add_avg_mean_month(df):\n",
    "    \n",
    "    return df"
   ]
  },
  {
   "cell_type": "code",
   "execution_count": 247,
   "id": "important-drilling",
   "metadata": {},
   "outputs": [
    {
     "name": "stdout",
     "output_type": "stream",
     "text": [
      "['Baldwin' 'Clay' 'DeKalb' 'Etowah' 'Jefferson']\n",
      "<StringArray>\n",
      "['01003', '01027', '01049', '01055', '01073']\n",
      "Length: 5, dtype: string\n"
     ]
    }
   ],
   "source": [
    "print(pm20_counties[0:5])\n",
    "print(pm20_fips[0:5])"
   ]
  },
  {
   "cell_type": "code",
   "execution_count": 248,
   "id": "opposite-tomato",
   "metadata": {},
   "outputs": [
    {
     "name": "stdout",
     "output_type": "stream",
     "text": [
      " pm\n",
      "2019 county name count:  525 & 2019 fips count:  634\n",
      "2020 county name count:  518 & 2020 fips count:  626\n",
      "2021 county name count:  266 & 2021 fips count:  308\n",
      "\n",
      " ozone\n",
      "2019 county name count:  621 & 2019 fips count:  776\n",
      "2020 county name count:  613 & 2020 fips count:  767\n",
      "2021 county name count:  349 & 2021 fips count:  408\n",
      "\n",
      " lead\n",
      "2019 county name count:  77 & 2019 fips count:  80\n",
      "2020 county name count:  69 & 2020 fips count:  71\n",
      "2021 county name count:  18 & 2021 fips count:  19\n"
     ]
    }
   ],
   "source": [
    "#pm\n",
    "print(' pm')\n",
    "print('2019 county name count: ',len(pm19_counties),'& 2019 fips count: ', len(pm19_fips));\n",
    "print('2020 county name count: ',len(pm20_counties),'& 2020 fips count: ', len(pm20_fips));\n",
    "print('2021 county name count: ',len(pm21_counties),'& 2021 fips count: ', len(pm21_fips));\n",
    "\n",
    "#ozone\n",
    "print('\\n ozone')\n",
    "print('2019 county name count: ', len(ozone19_counties),'& 2019 fips count: ',len(ozone19_fips));\n",
    "print('2020 county name count: ', len(ozone20_counties),'& 2020 fips count: ',len(ozone20_fips));\n",
    "print('2021 county name count: ', len(ozone21_counties),'& 2021 fips count: ',len(ozone21_fips));\n",
    "\n",
    "#lead\n",
    "print('\\n lead')\n",
    "print('2019 county name count: ', len(lead19_counties),'& 2019 fips count: ', len(lead19_fips));\n",
    "print('2020 county name count: ', len(lead20_counties),'& 2020 fips count: ', len(lead20_fips));\n",
    "print('2021 county name count: ', len(lead21_counties),'& 2021 fips count: ', len(lead21_fips));\n"
   ]
  },
  {
   "cell_type": "code",
   "execution_count": 348,
   "id": "impaired-investing",
   "metadata": {},
   "outputs": [
    {
     "name": "stdout",
     "output_type": "stream",
     "text": [
      "['Jefferson'] \n",
      "\n",
      "<StringArray>\n",
      "['01073', '21111', '22051', '29099', '39081', '48245']\n",
      "Length: 6, dtype: string\n"
     ]
    }
   ],
   "source": [
    "print(get_county_name(pm20,'01073'),'\\n')\n",
    "print(get_fips(pm20,'Jefferson'))"
   ]
  },
  {
   "cell_type": "code",
   "execution_count": 349,
   "id": "individual-patch",
   "metadata": {},
   "outputs": [
    {
     "name": "stdout",
     "output_type": "stream",
     "text": [
      "pm data count:  6\n",
      "ozone data count:  0\n"
     ]
    },
    {
     "ename": "KeyError",
     "evalue": "'01073'",
     "output_type": "error",
     "traceback": [
      "\u001b[0;31m---------------------------------------------------------------------------\u001b[0m",
      "\u001b[0;31mKeyError\u001b[0m                                  Traceback (most recent call last)",
      "\u001b[0;32m<ipython-input-349-ec6c89b2795a>\u001b[0m in \u001b[0;36m<module>\u001b[0;34m\u001b[0m\n\u001b[1;32m     10\u001b[0m \u001b[0;34m\u001b[0m\u001b[0m\n\u001b[1;32m     11\u001b[0m \u001b[0;31m#lead\u001b[0m\u001b[0;34m\u001b[0m\u001b[0;34m\u001b[0m\u001b[0;34m\u001b[0m\u001b[0m\n\u001b[0;32m---> 12\u001b[0;31m \u001b[0mlead20_dates\u001b[0m \u001b[0;34m=\u001b[0m \u001b[0mlist\u001b[0m\u001b[0;34m(\u001b[0m\u001b[0mto_cross_ref_lead20\u001b[0m\u001b[0;34m[\u001b[0m\u001b[0mtarget_fips\u001b[0m\u001b[0;34m]\u001b[0m\u001b[0;34m[\u001b[0m\u001b[0;34m'Date Local'\u001b[0m\u001b[0;34m]\u001b[0m\u001b[0;34m.\u001b[0m\u001b[0mvalues\u001b[0m\u001b[0;34m(\u001b[0m\u001b[0;34m)\u001b[0m\u001b[0;34m)\u001b[0m\u001b[0;34m\u001b[0m\u001b[0;34m\u001b[0m\u001b[0m\n\u001b[0m\u001b[1;32m     13\u001b[0m \u001b[0mprint\u001b[0m\u001b[0;34m(\u001b[0m\u001b[0;34m'lead data count: '\u001b[0m\u001b[0;34m,\u001b[0m \u001b[0mlen\u001b[0m\u001b[0;34m(\u001b[0m\u001b[0mlead20_dates\u001b[0m\u001b[0;34m)\u001b[0m\u001b[0;34m)\u001b[0m\u001b[0;34m\u001b[0m\u001b[0;34m\u001b[0m\u001b[0m\n",
      "\u001b[0;31mKeyError\u001b[0m: '01073'"
     ]
    }
   ],
   "source": [
    "target_fips = '01073' #sanfran 06075 #denver 08031\n",
    "\n",
    "#pm\n",
    "pm20_dates = list(to_cross_ref_pm20[target_fips]['Date Local'].values())\n",
    "print('pm data count: ', len(pm20_dates))\n",
    "\n",
    "#ozone\n",
    "ozone20_dates = list(to_cross_ref_ozone20[target_fips]['Date Local'].values())\n",
    "print('ozone data count: ', len(ozone20_dates))\n",
    "\n",
    "#lead\n",
    "lead20_dates = list(to_cross_ref_lead20[target_fips]['Date Local'].values())\n",
    "print('lead data count: ', len(lead20_dates))"
   ]
  },
  {
   "cell_type": "code",
   "execution_count": 276,
   "id": "desirable-stake",
   "metadata": {},
   "outputs": [],
   "source": [
    "## changing target fip will all data"
   ]
  },
  {
   "cell_type": "code",
   "execution_count": 350,
   "id": "developed-certification",
   "metadata": {},
   "outputs": [],
   "source": [
    "target_fip = '01073'\n",
    "\n",
    "#pm19_fip = pm19_single_fips_condensed #['fips','County Name','Date Local','Arithmetic Mean']\n",
    "\n",
    "#pm\n",
    "pm19_fip = condense_single_fips(pm19,target_fip).drop(['fips'],axis=1)\n",
    "pm20_fip = condense_single_fips(pm20,target_fip).drop(['fips'],axis=1)\n",
    "pm21_fip = condense_single_fips(pm21,target_fip).drop(['fips'],axis=1)\n",
    "\n",
    "#ozone\n",
    "ozone19_fip = condense_single_fips(ozone19,target_fip).drop(['fips'],axis=1)\n",
    "ozone20_fip = condense_single_fips(ozone20,target_fip).drop(['fips'],axis=1)\n",
    "ozone21_fip = condense_single_fips(ozone21,target_fip).drop(['fips'],axis=1)\n",
    "\n",
    "#lead\n",
    "lead19_fip = condense_single_fips(lead19,target_fip).drop(['fips'],axis=1)\n",
    "lead20_fip = condense_single_fips(lead20,target_fip).drop(['fips'],axis=1)\n",
    "lead21_fip = condense_single_fips(lead21,target_fip).drop(['fips'],axis=1)"
   ]
  },
  {
   "cell_type": "markdown",
   "id": "closed-engine",
   "metadata": {},
   "source": [
    "### count dates for given fips"
   ]
  },
  {
   "cell_type": "code",
   "execution_count": 351,
   "id": "driven-better",
   "metadata": {},
   "outputs": [
    {
     "name": "stdout",
     "output_type": "stream",
     "text": [
      "pm19 date count:  1446\n",
      "pm20 date count:  1247\n",
      "pm21 date count:  205\n",
      "\n",
      "ozone19 date count:  1502\n",
      "ozone20 date count:  1523\n",
      "ozone21 date count:  59\n",
      "\n",
      "lead19 date count:  0\n",
      "lead20 date count:  0\n",
      "lead21 date count:  0\n"
     ]
    }
   ],
   "source": [
    "#pm date count\n",
    "print('pm19 date count: ',len(pm19_fip['Date Local']))\n",
    "print('pm20 date count: ',len(pm20_fip['Date Local']))\n",
    "print('pm21 date count: ',len(pm21_fip['Date Local']))\n",
    "\n",
    "#ozone date count\n",
    "print('\\nozone19 date count: ',len(ozone19_fip['Date Local']))\n",
    "print('ozone20 date count: ',len(ozone20_fip['Date Local']))\n",
    "print('ozone21 date count: ',len(ozone21_fip['Date Local']))\n",
    "\n",
    "#lead date count\n",
    "print('\\nlead19 date count: ',len(lead19_fip['Date Local']))\n",
    "print('lead20 date count: ',len(lead20_fip['Date Local']))\n",
    "print('lead21 date count: ',len(lead21_fip['Date Local']))"
   ]
  },
  {
   "cell_type": "markdown",
   "id": "swedish-facing",
   "metadata": {},
   "source": [
    "#### set date local as index"
   ]
  },
  {
   "cell_type": "code",
   "execution_count": 352,
   "id": "guilty-europe",
   "metadata": {},
   "outputs": [],
   "source": [
    "\n",
    "#set Date as index\n",
    "#pm20.Date = pd.to_datetime(df.Date)\n",
    "#df_date = df.set_index('Date', inplace=False)\n",
    "\n",
    "pm19_fip = pm19_fip.set_index('Date Local', inplace=False)\n",
    "pm20_fip = pm20_fip.set_index('Date Local', inplace=False)\n",
    "pm21_fip = pm21_fip.set_index('Date Local', inplace=False)\n",
    "\n",
    "ozone19_fip = ozone19_fip.set_index('Date Local', inplace=False)\n",
    "ozone20_fip = ozone20_fip.set_index('Date Local', inplace=False)\n",
    "ozone21_fip = ozone21_fip.set_index('Date Local', inplace=False)\n",
    "\n",
    "lead19_fip = lead19_fip.set_index('Date Local', inplace=False)\n",
    "lead20_fip = lead20_fip.set_index('Date Local', inplace=False)\n",
    "lead21_fip = lead21_fip.set_index('Date Local', inplace=False)"
   ]
  },
  {
   "cell_type": "markdown",
   "id": "surgical-society",
   "metadata": {},
   "source": [
    "### averages for each month for a single fips"
   ]
  },
  {
   "cell_type": "code",
   "execution_count": 357,
   "id": "infinite-governor",
   "metadata": {},
   "outputs": [
    {
     "ename": "AttributeError",
     "evalue": "module 'pandas' has no attribute 'TimeGrouper'",
     "output_type": "error",
     "traceback": [
      "\u001b[0;31m---------------------------------------------------------------------------\u001b[0m",
      "\u001b[0;31mAttributeError\u001b[0m                            Traceback (most recent call last)",
      "\u001b[0;32m<ipython-input-357-8b84408f623a>\u001b[0m in \u001b[0;36m<module>\u001b[0;34m\u001b[0m\n\u001b[1;32m      1\u001b[0m \u001b[0mtest\u001b[0m \u001b[0;34m=\u001b[0m \u001b[0mpm20_fip\u001b[0m\u001b[0;34m\u001b[0m\u001b[0;34m\u001b[0m\u001b[0m\n\u001b[0;32m----> 2\u001b[0;31m \u001b[0mmonthly_test\u001b[0m \u001b[0;34m=\u001b[0m \u001b[0mtest\u001b[0m\u001b[0;34m.\u001b[0m\u001b[0mgroupby\u001b[0m\u001b[0;34m(\u001b[0m\u001b[0mpd\u001b[0m\u001b[0;34m.\u001b[0m\u001b[0mTimeGrouper\u001b[0m\u001b[0;34m(\u001b[0m\u001b[0mfreq\u001b[0m\u001b[0;34m=\u001b[0m\u001b[0;34m'M'\u001b[0m\u001b[0;34m)\u001b[0m\u001b[0;34m)\u001b[0m\u001b[0;34m\u001b[0m\u001b[0;34m\u001b[0m\u001b[0m\n\u001b[0m",
      "\u001b[0;32m/Library/Frameworks/Python.framework/Versions/3.8/lib/python3.8/site-packages/pandas/__init__.py\u001b[0m in \u001b[0;36m__getattr__\u001b[0;34m(name)\u001b[0m\n\u001b[1;32m    242\u001b[0m         \u001b[0;32mreturn\u001b[0m \u001b[0m_SparseArray\u001b[0m\u001b[0;34m\u001b[0m\u001b[0;34m\u001b[0m\u001b[0m\n\u001b[1;32m    243\u001b[0m \u001b[0;34m\u001b[0m\u001b[0m\n\u001b[0;32m--> 244\u001b[0;31m     \u001b[0;32mraise\u001b[0m \u001b[0mAttributeError\u001b[0m\u001b[0;34m(\u001b[0m\u001b[0;34mf\"module 'pandas' has no attribute '{name}'\"\u001b[0m\u001b[0;34m)\u001b[0m\u001b[0;34m\u001b[0m\u001b[0;34m\u001b[0m\u001b[0m\n\u001b[0m\u001b[1;32m    245\u001b[0m \u001b[0;34m\u001b[0m\u001b[0m\n\u001b[1;32m    246\u001b[0m \u001b[0;34m\u001b[0m\u001b[0m\n",
      "\u001b[0;31mAttributeError\u001b[0m: module 'pandas' has no attribute 'TimeGrouper'"
     ]
    }
   ],
   "source": [
    "test = pm20_fip\n",
    "monthly_test = test.groupby(pd.TimeGrouper(freq='M'))"
   ]
  },
  {
   "cell_type": "code",
   "execution_count": 363,
   "id": "annual-handy",
   "metadata": {},
   "outputs": [],
   "source": [
    "#get monthly mean\n",
    "pm19_month_avg = pm19_fip.resample('M').mean()\n",
    "pm20_month_avg = pm20_fip.resample('M').mean()\n",
    "pm21_month_avg = pm21_fip.resample('M').mean()\n",
    "\n",
    "ozone19_month_avg = ozone19_fip.resample('M').mean()\n",
    "ozone20_month_avg = ozone20_fip.resample('M').mean()\n",
    "ozone21_month_avg = ozone21_fip.resample('M').mean()\n",
    "\n",
    "lead19_month_avg = lead19_fip.resample('M').mean()\n",
    "lead20_month_avg = lead20_fip.resample('M').mean()\n",
    "lead21_month_avg = lead21_fip.resample('M').mean()\n",
    "\n",
    "#group months\n",
    "#df_monthly_mean = df_month.groupby(df_daily.index.month).mean()\n",
    "#test = pm20_month_avg.groupby(pm20_fip.index).mean()"
   ]
  },
  {
   "cell_type": "code",
   "execution_count": 364,
   "id": "virgin-orientation",
   "metadata": {},
   "outputs": [
    {
     "name": "stdout",
     "output_type": "stream",
     "text": [
      "pm20: \n",
      "             Arithmetic Mean\n",
      "Date Local                 \n",
      "2020-01-31         7.337859\n",
      "2020-02-29         7.246267\n",
      "2020-03-31         9.171109\n",
      "\n",
      "ozone20: \n",
      "             Arithmetic Mean\n",
      "Date Local                 \n",
      "2020-01-31         0.024208\n",
      "2020-02-29         0.024987\n",
      "2020-03-31         0.029085\n",
      "\n",
      "lead20:  Empty DataFrame\n",
      "Columns: [County Name, Arithmetic Mean]\n",
      "Index: []\n"
     ]
    }
   ],
   "source": [
    "print('pm20: \\n', pm20_month_avg.head(3))\n",
    "print('\\nozone20: \\n', ozone20_month_avg.head(3))\n",
    "print('\\nlead20: ', lead20_month_avg.head(3))"
   ]
  },
  {
   "cell_type": "code",
   "execution_count": 355,
   "id": "antique-message",
   "metadata": {},
   "outputs": [
    {
     "data": {
      "text/html": [
       "<div>\n",
       "<style scoped>\n",
       "    .dataframe tbody tr th:only-of-type {\n",
       "        vertical-align: middle;\n",
       "    }\n",
       "\n",
       "    .dataframe tbody tr th {\n",
       "        vertical-align: top;\n",
       "    }\n",
       "\n",
       "    .dataframe thead th {\n",
       "        text-align: right;\n",
       "    }\n",
       "</style>\n",
       "<table border=\"1\" class=\"dataframe\">\n",
       "  <thead>\n",
       "    <tr style=\"text-align: right;\">\n",
       "      <th></th>\n",
       "      <th>Arithmetic Mean</th>\n",
       "    </tr>\n",
       "    <tr>\n",
       "      <th>Date Local</th>\n",
       "      <th></th>\n",
       "    </tr>\n",
       "  </thead>\n",
       "  <tbody>\n",
       "    <tr>\n",
       "      <th>2020-01-31</th>\n",
       "      <td>7.337859</td>\n",
       "    </tr>\n",
       "    <tr>\n",
       "      <th>2020-02-29</th>\n",
       "      <td>7.246267</td>\n",
       "    </tr>\n",
       "    <tr>\n",
       "      <th>2020-03-31</th>\n",
       "      <td>9.171109</td>\n",
       "    </tr>\n",
       "    <tr>\n",
       "      <th>2020-04-30</th>\n",
       "      <td>8.731114</td>\n",
       "    </tr>\n",
       "    <tr>\n",
       "      <th>2020-05-31</th>\n",
       "      <td>7.860870</td>\n",
       "    </tr>\n",
       "    <tr>\n",
       "      <th>2020-06-30</th>\n",
       "      <td>12.130129</td>\n",
       "    </tr>\n",
       "    <tr>\n",
       "      <th>2020-07-31</th>\n",
       "      <td>9.519681</td>\n",
       "    </tr>\n",
       "    <tr>\n",
       "      <th>2020-08-31</th>\n",
       "      <td>9.879171</td>\n",
       "    </tr>\n",
       "    <tr>\n",
       "      <th>2020-09-30</th>\n",
       "      <td>9.549745</td>\n",
       "    </tr>\n",
       "    <tr>\n",
       "      <th>2020-10-31</th>\n",
       "      <td>10.386596</td>\n",
       "    </tr>\n",
       "    <tr>\n",
       "      <th>2020-11-30</th>\n",
       "      <td>10.615992</td>\n",
       "    </tr>\n",
       "    <tr>\n",
       "      <th>2020-12-31</th>\n",
       "      <td>11.631066</td>\n",
       "    </tr>\n",
       "  </tbody>\n",
       "</table>\n",
       "</div>"
      ],
      "text/plain": [
       "            Arithmetic Mean\n",
       "Date Local                 \n",
       "2020-01-31         7.337859\n",
       "2020-02-29         7.246267\n",
       "2020-03-31         9.171109\n",
       "2020-04-30         8.731114\n",
       "2020-05-31         7.860870\n",
       "2020-06-30        12.130129\n",
       "2020-07-31         9.519681\n",
       "2020-08-31         9.879171\n",
       "2020-09-30         9.549745\n",
       "2020-10-31        10.386596\n",
       "2020-11-30        10.615992\n",
       "2020-12-31        11.631066"
      ]
     },
     "execution_count": 355,
     "metadata": {},
     "output_type": "execute_result"
    }
   ],
   "source": [
    "pm20_month_avg"
   ]
  },
  {
   "cell_type": "code",
   "execution_count": 385,
   "id": "remarkable-lesbian",
   "metadata": {},
   "outputs": [],
   "source": [
    "def plot_all(df1,df2,df3):\n",
    "    fig, (plot1, plot2, plot3) = plt.subplots(3,1,figsize =(10,8))#sharex=True\n",
    "\n",
    "    plot1.scatter(df1.index, df1['Arithmetic Mean'],s=25, color='red')\n",
    "    plot1.plot(df1.index, df1['Arithmetic Mean'],linestyle='solid',color='red')\n",
    "\n",
    "    plot2.scatter(df2.index, df2['Arithmetic Mean'],s=25, color='blue')\n",
    "    plot2.plot(df2.index, df2['Arithmetic Mean'],linestyle='solid',color='blue')\n",
    "\n",
    "    plot3.scatter(df3.index, df3['Arithmetic Mean'],s=25, color='green')\n",
    "    plot3.plot(df3.index, df3['Arithmetic Mean'],linestyle='solid',color='green')\n",
    "\n",
    "    #plot4.scatter([df1.index, df2.index, df3.index], [df1['Arithmetic Mean'], df2['Arithmetic Mean'], df3['Arithmetic Mean']], color=('violet'), s = 10)"
   ]
  },
  {
   "cell_type": "code",
   "execution_count": 386,
   "id": "opponent-custody",
   "metadata": {},
   "outputs": [
    {
     "data": {
      "image/png": "[encoded data removed]",
      "text/plain": [
       "<Figure size 720x576 with 3 Axes>"
      ]
     },
     "metadata": {
      "needs_background": "light"
     },
     "output_type": "display_data"
    }
   ],
   "source": [
    "plot_all(pm19_month_avg,ozone19_month_avg,lead19_month_avg)"
   ]
  },
  {
   "cell_type": "code",
   "execution_count": 387,
   "id": "collected-third",
   "metadata": {},
   "outputs": [
    {
     "data": {
      "image/png": "[encoded data removed]",
      "text/plain": [
       "<Figure size 720x576 with 3 Axes>"
      ]
     },
     "metadata": {
      "needs_background": "light"
     },
     "output_type": "display_data"
    }
   ],
   "source": [
    "plot_all(pm20_month_avg,ozone20_month_avg,lead20_month_avg)"
   ]
  },
  {
   "cell_type": "code",
   "execution_count": 388,
   "id": "loved-armenia",
   "metadata": {},
   "outputs": [
    {
     "data": {
      "image/png": "[encoded data removed]",
      "text/plain": [
       "<Figure size 720x576 with 3 Axes>"
      ]
     },
     "metadata": {
      "needs_background": "light"
     },
     "output_type": "display_data"
    }
   ],
   "source": [
    "plot_all(pm21_month_avg,ozone21_month_avg,lead21_month_avg)"
   ]
  },
  {
   "cell_type": "markdown",
   "id": "exact-accident",
   "metadata": {},
   "source": [
    "### county avg"
   ]
  },
  {
   "cell_type": "code",
   "execution_count": 299,
   "id": "closing-overview",
   "metadata": {},
   "outputs": [
    {
     "data": {
      "text/plain": [
       "Index(['County Name', 'Arithmetic Mean'], dtype='object')"
      ]
     },
     "execution_count": 299,
     "metadata": {},
     "output_type": "execute_result"
    }
   ],
   "source": [
    "pm20_fip.columns"
   ]
  },
  {
   "cell_type": "code",
   "execution_count": 289,
   "id": "compatible-salmon",
   "metadata": {},
   "outputs": [],
   "source": [
    "test =(pm20_fip.loc[pm20_fip.index == '2020-02-29', 'Arithmetic Mean']).mean()"
   ]
  },
  {
   "cell_type": "code",
   "execution_count": null,
   "id": "flexible-penguin",
   "metadata": {},
   "outputs": [],
   "source": []
  },
  {
   "cell_type": "markdown",
   "id": "cellular-coordination",
   "metadata": {},
   "source": [
    "make a function that collects, condenses, and take the monthly average for given df of a single fip\n",
    "then monthyl average every fips in the pollutant"
   ]
  },
  {
   "cell_type": "code",
   "execution_count": 337,
   "id": "naval-petite",
   "metadata": {},
   "outputs": [],
   "source": [
    "def monthly_average_single_fips(df):\n",
    "    return monthly_avg_df"
   ]
  },
  {
   "cell_type": "code",
   "execution_count": null,
   "id": "frank-response",
   "metadata": {},
   "outputs": [],
   "source": [
    "apply to every fips in pollutant df"
   ]
  },
  {
   "cell_type": "code",
   "execution_count": 338,
   "id": "bored-cologne",
   "metadata": {},
   "outputs": [],
   "source": [
    "def monthly_avg_all(df):\n",
    "    return monthly_avg_df"
   ]
  },
  {
   "cell_type": "code",
   "execution_count": null,
   "id": "swedish-colonial",
   "metadata": {},
   "outputs": [],
   "source": []
  }
 ],
 "metadata": {
  "kernelspec": {
   "display_name": "Python 3",
   "language": "python",
   "name": "python3"
  },
  "language_info": {
   "codemirror_mode": {
    "name": "ipython",
    "version": 3
   },
   "file_extension": ".py",
   "mimetype": "text/x-python",
   "name": "python",
   "nbconvert_exporter": "python",
   "pygments_lexer": "ipython3",
   "version": "3.8.4"
  }
 },
 "nbformat": 4,
 "nbformat_minor": 5
}
