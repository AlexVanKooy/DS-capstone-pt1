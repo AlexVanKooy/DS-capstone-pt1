{
 "cells": [
  {
   "cell_type": "code",
   "execution_count": 2,
   "id": "28e01b0e-7294-4cf0-83f3-4e58839dc04e",
   "metadata": {},
   "outputs": [],
   "source": [
    "# general imports\n",
    "import numpy as np\n",
    "import pandas as pd\n",
    "from urllib.request import urlopen\n",
    "import json\n",
    "import os\n",
    "import plotly.express as px"
   ]
  },
  {
   "cell_type": "markdown",
   "id": "72497171-1114-4ac0-9e34-521c1fd58886",
   "metadata": {},
   "source": [
    "# Loading EPA Data"
   ]
  },
  {
   "cell_type": "code",
   "execution_count": 62,
   "id": "f30d03c0-ecdd-4a55-8dc7-459a83b0ae54",
   "metadata": {
    "tags": []
   },
   "outputs": [],
   "source": [
    "air_data_21 = pd.read_csv(\"./local_datasets/air_quality/daily_summaries/daily_no2_42602_2021.csv\")\n",
    "air_data_20 = pd.read_csv(\"./local_datasets/air_quality/daily_summaries/daily_no2_42602_2020.csv\")\n",
    "air_data_19 = pd.read_csv(\"./local_datasets/air_quality/daily_summaries/daily_no2_42602_2019.csv\")"
   ]
  },
  {
   "cell_type": "markdown",
   "id": "3b019fb9-944c-4ce1-9d34-d06824723959",
   "metadata": {},
   "source": [
    "## Augmenting EPA Data\n",
    "\n",
    "The EPA daily summary has the fips code broken apart into it's components. For ease of use I'll be adding it to the df"
   ]
  },
  {
   "cell_type": "code",
   "execution_count": 25,
   "id": "cfd50fe5-980e-4ae9-97f6-dccdc508e081",
   "metadata": {},
   "outputs": [],
   "source": [
    "\n",
    "def FIPS_function(row):\n",
    "    state = str(row['State Code']).zfill(2)\n",
    "    county = str(row['County Code']).zfill(3)\n",
    "    return str(state + county)\n",
    "# convert to NO2 ug/m^3 for reference\n",
    "def no2_mass_by_vol(ppb):\n",
    "    ugm3 = 1.88*ppb\n",
    "    return ugm3\n",
    "\n",
    "# plotting one day's avg \n",
    "def show_day_mean(df, date):\n",
    "    fig = px.choropleth(df[df['Date Local']==date], geojson=counties, locations='fips', color='Arithmetic Mean',\n",
    "                               color_continuous_scale=\"Plasma\",\n",
    "                               range_color=(0, 70), #max value for daily avg is ~60ppb\n",
    "                               scope=\"usa\",\n",
    "                               labels={'Arithmetic Mean':'Arithmetic Mean (ppb)'}\n",
    "                              )\n",
    "    fig.update_layout(margin={\"r\":0,\"t\":0,\"l\":0,\"b\":1,'autoexpand':True })\n",
    "    fig.update_layout(\n",
    "        autosize=False,\n",
    "        width=1200,\n",
    "        height=900,\n",
    "    )\n",
    "    return fig\n",
    "\n",
    "\n",
    "# plotting one day's max value\n",
    "def show_day_max(df, date):\n",
    "    fig = px.choropleth(df[df['Date Local']==date], geojson=counties, locations='fips', color='1st Max Value',\n",
    "                               color_continuous_scale=\"Plasma\",\n",
    "                               range_color=(0, 70), #max value for daily avg is ~60ppb\n",
    "                               scope=\"usa\",\n",
    "                               labels={'1st Max Value':'1st Max Value (ppb)'}\n",
    "                              )\n",
    "    fig.update_layout(margin={\"r\":0,\"t\":0,\"l\":0,\"b\":1,'autoexpand':True })\n",
    "    fig.update_layout(\n",
    "        autosize=False,\n",
    "        width=1200,\n",
    "        height=900,\n",
    "    )\n",
    "    return fig   \n",
    "    "
   ]
  },
  {
   "cell_type": "code",
   "execution_count": 64,
   "id": "de9f4b17-d389-4af1-89b3-78beed36bb4a",
   "metadata": {},
   "outputs": [
    {
     "data": {
      "text/plain": [
       "'01073'"
      ]
     },
     "execution_count": 64,
     "metadata": {},
     "output_type": "execute_result"
    }
   ],
   "source": [
    "air_data_20['fips'].iloc[0]"
   ]
  },
  {
   "cell_type": "code",
   "execution_count": 65,
   "id": "314d6cf0-e5d5-45c8-96f4-0a60c86b752b",
   "metadata": {},
   "outputs": [],
   "source": [
    "nair_data_19 = air_data_19.astype({'fips':pd.StringDtype()})\n",
    "nair_data_21 = air_data_21.astype({'fips':pd.StringDtype()})\n",
    "nair_data_20 = air_data_20.astype({'fips':pd.StringDtype()})"
   ]
  },
  {
   "cell_type": "code",
   "execution_count": 68,
   "id": "d39c7bf5-5014-443b-a826-64b518900f86",
   "metadata": {},
   "outputs": [],
   "source": [
    "nair_data_20.to_csv(\"./data/air_quality/no2/daily_no2_2020_with_FIPS.csv\",index=False)\n",
    "nair_data_19.to_csv(\"./data/air_quality/no2/daily_no2_2019_with_FIPS.csv\",index=False)\n",
    "nair_data_21.to_csv(\"./data/air_quality/no2/daily_no2_2021_with_FIPS.csv\",index=False)"
   ]
  },
  {
   "cell_type": "markdown",
   "id": "ce355b03-428a-4ac4-b9cd-ff7f0b300a64",
   "metadata": {},
   "source": [
    "## Testing the Dtype change"
   ]
  },
  {
   "cell_type": "code",
   "execution_count": 6,
   "id": "ba981a28-aca8-47a2-8abe-0fa796ae5acf",
   "metadata": {},
   "outputs": [],
   "source": [
    "df = pd.read_csv(\"./data/air_quality/no2/daily_no2_2020_with_FIPS.csv\", dtype={'fips':'string'})"
   ]
  },
  {
   "cell_type": "code",
   "execution_count": 5,
   "id": "6b956f3c-3148-4f37-99ec-d410ced2b13d",
   "metadata": {},
   "outputs": [],
   "source": [
    "al_cols=list(df.columns)\n",
    "with open('air_data_columns.txt','w') as fout:\n",
    "    for name in al_cols:\n",
    "        fout.write(name+'\\n')"
   ]
  },
  {
   "cell_type": "code",
   "execution_count": 9,
   "id": "a5a54ab3-b228-402f-b08d-0cbb5255df22",
   "metadata": {
    "tags": []
   },
   "outputs": [
    {
     "data": {
      "text/plain": [
       "5"
      ]
     },
     "execution_count": 9,
     "metadata": {},
     "output_type": "execute_result"
    }
   ],
   "source": [
    "# len(str(df['fips'].iloc[0]))\n",
    "len(str(list(df['fips'].unique())[0]))"
   ]
  },
  {
   "cell_type": "markdown",
   "id": "c6946a9a-8ee8-4a73-adb1-75a37ba3b7c4",
   "metadata": {},
   "source": [
    "## Can we make a single dataset for these?"
   ]
  },
  {
   "cell_type": "code",
   "execution_count": null,
   "id": "2b1940df-16fe-440b-81b4-da5e63525e31",
   "metadata": {},
   "outputs": [],
   "source": [
    "len(air_data_20)"
   ]
  },
  {
   "cell_type": "markdown",
   "id": "c40c23e6-fd16-4f96-93cd-3661b95b21d0",
   "metadata": {},
   "source": [
    "150k + rows is a lot, we might have to get clever with this stuff"
   ]
  },
  {
   "cell_type": "markdown",
   "id": "06447f66-51ff-4d51-959e-470f6214475d",
   "metadata": {},
   "source": [
    "## Setting up US county map\n",
    "\n",
    "Documentation for Plotly's county map system available [here](https://plotly.com/python/choropleth-maps/)"
   ]
  },
  {
   "cell_type": "code",
   "execution_count": null,
   "id": "0f4da2c4-00ca-4b3b-8362-bcf14ce80b4a",
   "metadata": {
    "tags": []
   },
   "outputs": [],
   "source": [
    "# Pulling a GeoJSON file to give the geometry information for us counties, See docs for more details\n",
    "\n",
    "#might want to pickle \n",
    "with urlopen('https://raw.githubusercontent.com/plotly/datasets/master/geojson-counties-fips.json') as response:\n",
    "    counties = json.load(response)\n",
    "# feature.id is a FIPS code\n"
   ]
  },
  {
   "cell_type": "code",
   "execution_count": null,
   "id": "1af83108-3c2f-4245-9cf6-8c3c1a275e48",
   "metadata": {},
   "outputs": [],
   "source": [
    "# tweaked the plotly example to show where the monitoring sites are\n",
    "fig = px.choropleth(air_data_20, geojson=counties, locations='fips', color='POC',\n",
    "                           color_continuous_scale=\"Viridis\",\n",
    "                           range_color=(0, 12),\n",
    "                           scope=\"usa\",\n",
    "                           # labels={'POC':'location of sites'}\n",
    "                          )\n",
    "# fig.update_layout(margin={\"r\":0,\"t\":0,\"l\":0,\"b\":0})\n",
    "fig.update_layout(\n",
    "    autosize=False,\n",
    "    width=900,\n",
    "    height=1100,)\n",
    "fig.show()"
   ]
  }
 ],
 "metadata": {
  "kernelspec": {
   "display_name": "capstone",
   "language": "python",
   "name": "capstone"
  },
  "language_info": {
   "codemirror_mode": {
    "name": "ipython",
    "version": 3
   },
   "file_extension": ".py",
   "mimetype": "text/x-python",
   "name": "python",
   "nbconvert_exporter": "python",
   "pygments_lexer": "ipython3",
   "version": "3.9.5"
  }
 },
 "nbformat": 4,
 "nbformat_minor": 5
}
