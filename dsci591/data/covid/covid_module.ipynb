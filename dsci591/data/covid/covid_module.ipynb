{
 "cells": [
  {
   "cell_type": "code",
   "execution_count": null,
   "id": "432426d4-609f-469c-95b7-d57c14492018",
   "metadata": {},
   "outputs": [],
   "source": [
    "!pip install  ../../../code\n"
   ]
  },
  {
   "cell_type": "code",
   "execution_count": null,
   "id": "771984cb-6ae3-45a3-ae80-2f5aea6f07ef",
   "metadata": {},
   "outputs": [],
   "source": [
    "import dsci592.covid_collector as cc"
   ]
  },
  {
   "cell_type": "code",
   "execution_count": 5,
   "id": "49147b71-b502-4315-8188-12ae8727ab55",
   "metadata": {},
   "outputs": [
    {
     "data": {
      "text/plain": [
       "'C:\\\\Users\\\\noahk\\\\projects\\\\drexel\\\\dsci592\\\\DS-capstone-pt1\\\\dsci591\\\\data\\\\covid'"
      ]
     },
     "execution_count": 5,
     "metadata": {},
     "output_type": "execute_result"
    }
   ],
   "source": [
    "import os\n",
    "os.getcwd()"
   ]
  },
  {
   "cell_type": "code",
   "execution_count": 12,
   "id": "dbaa7856-7a80-479b-a951-3f2f0aa4af45",
   "metadata": {},
   "outputs": [
    {
     "name": "stdout",
     "output_type": "stream",
     "text": [
      "anyio==3.5.0\n",
      "argon2-cffi==21.3.0\n",
      "argon2-cffi-bindings==21.2.0\n",
      "asttokens==2.0.5\n",
      "attrs==21.4.0\n",
      "Babel==2.9.1\n",
      "backcall==0.2.0\n",
      "black==21.12b0\n",
      "bleach==4.1.0\n",
      "certifi==2021.10.8\n",
      "cffi==1.15.0\n",
      "charset-normalizer==2.0.10\n",
      "click==8.0.3\n",
      "colorama==0.4.4\n",
      "covid-dsci592==0.0.1\n",
      "cycler==0.11.0\n",
      "debugpy==1.5.1\n",
      "decorator==5.1.1\n",
      "defusedxml==0.7.1\n",
      "-e git+ssh://git@github.com/FuzzyPhoton/DS-capstone-pt1.git@0bffebd039b43a29ca4d5ed0a220889074de85cc#egg=dsci592&subdirectory=code\n",
      "entrypoints==0.3\n",
      "et-xmlfile==1.1.0\n",
      "executing==0.8.2\n",
      "fonttools==4.28.5\n",
      "idna==3.3\n",
      "ipykernel==6.7.0\n",
      "ipython==8.0.0\n",
      "ipython-genutils==0.2.0\n",
      "jedi==0.18.1\n",
      "Jinja2==3.0.3\n",
      "json5==0.9.6\n",
      "jsonschema==4.4.0\n",
      "jupyter-client==7.1.1\n",
      "jupyter-core==4.9.1\n",
      "jupyter-server==1.13.3\n",
      "jupyterlab==3.2.8\n",
      "jupyterlab-pygments==0.1.2\n",
      "jupyterlab-server==2.10.3\n",
      "kiwisolver==1.3.2\n",
      "MarkupSafe==2.0.1\n",
      "matplotlib==3.5.1\n",
      "matplotlib-inline==0.1.3\n",
      "mistune==0.8.4\n",
      "mypy-extensions==0.4.3\n",
      "nbclassic==0.3.5\n",
      "nbclient==0.5.10\n",
      "nbconvert==6.4.0\n",
      "nbformat==5.1.3\n",
      "nest-asyncio==1.5.4\n",
      "notebook==6.4.7\n",
      "numpy==1.22.1\n",
      "openpyxl==3.0.9\n",
      "packaging==21.3\n",
      "pandas==1.3.5\n",
      "pandocfilters==1.5.0\n",
      "parso==0.8.3\n",
      "pathspec==0.9.0\n",
      "pickleshare==0.7.5\n",
      "Pillow==9.0.0\n",
      "platformdirs==2.4.1\n",
      "plotly==5.5.0\n",
      "prometheus-client==0.12.0\n",
      "prompt-toolkit==3.0.24\n",
      "pure-eval==0.2.1\n",
      "pycparser==2.21\n",
      "Pygments==2.11.2\n",
      "pyparsing==3.0.6\n",
      "pyrsistent==0.18.1\n",
      "python-dateutil==2.8.2\n",
      "pytz==2021.3\n",
      "pywin32==303\n",
      "pywinpty==1.1.6\n",
      "pyzmq==22.3.0\n",
      "requests==2.27.1\n",
      "scipy==1.7.3\n",
      "seaborn==0.11.2\n",
      "Send2Trash==1.8.0\n",
      "six==1.16.0\n",
      "sniffio==1.2.0\n",
      "stack-data==0.1.4\n",
      "tenacity==8.0.1\n",
      "terminado==0.12.1\n",
      "testpath==0.5.0\n",
      "tomli==1.2.3\n",
      "tornado==6.1\n",
      "traitlets==5.1.1\n",
      "typing_extensions==4.0.1\n",
      "urllib3==1.26.8\n",
      "wcwidth==0.2.5\n",
      "webencodings==0.5.1\n",
      "websocket-client==1.2.3\n"
     ]
    }
   ],
   "source": [
    "!pip freeze"
   ]
  },
  {
   "cell_type": "code",
   "execution_count": null,
   "id": "9f5c7e63-eb27-4835-93ce-fa01e80d4a0b",
   "metadata": {},
   "outputs": [],
   "source": [
    "import dsci592"
   ]
  },
  {
   "cell_type": "code",
   "execution_count": null,
   "id": "e0cea8a1-217a-439d-916a-da39a574fbb9",
   "metadata": {},
   "outputs": [],
   "source": []
  }
 ],
 "metadata": {
  "kernelspec": {
   "display_name": "Python 3 (ipykernel)",
   "language": "python",
   "name": "python3"
  },
  "language_info": {
   "codemirror_mode": {
    "name": "ipython",
    "version": 3
   },
   "file_extension": ".py",
   "mimetype": "text/x-python",
   "name": "python",
   "nbconvert_exporter": "python",
   "pygments_lexer": "ipython3",
   "version": "3.9.7"
  }
 },
 "nbformat": 4,
 "nbformat_minor": 5
}
