{
 "cells": [
  {
   "cell_type": "code",
   "execution_count": 2,
   "id": "88106f0b",
   "metadata": {},
   "outputs": [],
   "source": [
    "import pandas as pd, requests, csv"
   ]
  },
  {
   "cell_type": "code",
   "execution_count": 39,
   "id": "f755b0f8",
   "metadata": {},
   "outputs": [],
   "source": [
    "#Note: commented out all lines involved in making the api calls to prevent recalling.\n",
    "# # Construct the api call. The baseUrl should stay the same across different calls,\n",
    "# # but the other values change depending on the data being queried.\n",
    "\n",
    "# baseUrl = \"https://api.census.gov/data\"\n",
    "# year = '2019' #The year of the data desired.\n",
    "# source = 'acs' #The source such as 'acs' for American Community Survey.\n",
    "# tableName  = 'acs5' #The table name. These are different from the tables available for download as pdfs or spreadsheets.\n",
    "\n",
    "# #Every variable has a number. The census bureau has documentation available at 'https://api.census.gov/data.html'\n",
    "# #to identify each variable code.\n",
    "# vars = ['B07001_049E','B07001_065E','B07001_081E','B08101_025E','B11007_001E','B11007_002E','B11007_004E','B11007_005E','B11007_006E',\\\n",
    "#        'B11007_007E','B11007_009E','B11007_010E','B11007_011E','B11011_001E','B19013_001E','B19083_001E','B23020_001E','B25024_001E',\\\n",
    "#        'B27020_001E','B27020_003E','B27020_009E','B27020_014E']\n",
    "# county = '*' #county identified by FIPS code, * for all\n",
    "# state = '*' #state identified by FIPS code, * for all\n",
    "\n",
    "# url = f'{baseUrl}/{year}/{source}/{tableName}?get={\",\".join(vars)},NAME&for=county:{county}&in=state:{state}'\n",
    "\n",
    "# response = requests.get(url)"
   ]
  },
  {
   "cell_type": "code",
   "execution_count": 55,
   "id": "6a773366",
   "metadata": {},
   "outputs": [],
   "source": [
    "# #write the response to a file\n",
    "# with open(\"censusData.csv\", 'w', newline='', encoding='utf-8') as writefile:\n",
    "#     writer = csv.writer(writefile, quoting=csv.QUOTE_ALL, delimiter=',')\n",
    "#     writer.writerows(response.json())"
   ]
  },
  {
   "cell_type": "code",
   "execution_count": 10,
   "id": "aae220f5",
   "metadata": {},
   "outputs": [],
   "source": [
    "#importing the file into a pandas dataframe\n",
    "censusDF = pd.read_csv('./censusData/censusData.csv')"
   ]
  },
  {
   "cell_type": "code",
   "execution_count": 128,
   "id": "155014f5",
   "metadata": {},
   "outputs": [],
   "source": [
    "# #making an api call to get a file of all variable documentation\n",
    "# tt = requests.get(\"https://api.census.gov/data/2019/acs/acs5/variables\")\n",
    "\n",
    "# with open(\"acs2019Variables.csv\", 'w', newline='') as writefile:\n",
    "#     writer = csv.writer(writefile, quoting=csv.QUOTE_ALL, delimiter=',')\n",
    "#     writer.writerows(tt.json())"
   ]
  },
  {
   "cell_type": "code",
   "execution_count": 11,
   "id": "a0885882",
   "metadata": {},
   "outputs": [],
   "source": [
    "#Import the variable documentation and lookup all of the variables called above\n",
    "\n",
    "varDF = pd.read_csv(\"./censusData/acs2019Variables.csv\", skiprows=[1,2,3])\n",
    "pd.options.display.max_colwidth=1000\n"
   ]
  },
  {
   "cell_type": "code",
   "execution_count": 12,
   "id": "11b78df6",
   "metadata": {},
   "outputs": [],
   "source": [
    "#change state and county fip codes to strings with standard lengths\n",
    "censusDF['state'] = censusDF['state'].astype('str').str.zfill(2)\n",
    "censusDF['county'] = censusDF['county'].astype('str').str.zfill(3)\n",
    "#join these to create the combined fips code\n",
    "censusDF['fips'] = censusDF['state']+censusDF['county']\n",
    "#create a list of descriptive variable names in the same order as in censusDF\n",
    "a = []\n",
    "for i in censusDF.columns[:-4]:\n",
    "    vName = varDF['label'][varDF['name']==i].to_string(index=False)+varDF['concept'][varDF['name']==i].to_string(index=False)\n",
    "    a.append(vName)\n",
    "for i in censusDF.columns[-4:]:\n",
    "    a.append(i)\n",
    "#rebuild dataframe with these column names\n",
    "censusDF = pd.DataFrame(censusDF.values, columns=a)\n",
    "#et voila"
   ]
  }
 ],
 "metadata": {
  "kernelspec": {
   "display_name": "Python 3 (ipykernel)",
   "language": "python",
   "name": "python3"
  },
  "language_info": {
   "codemirror_mode": {
    "name": "ipython",
    "version": 3
   },
   "file_extension": ".py",
   "mimetype": "text/x-python",
   "name": "python",
   "nbconvert_exporter": "python",
   "pygments_lexer": "ipython3",
   "version": "3.8.12"
  }
 },
 "nbformat": 4,
 "nbformat_minor": 5
}
