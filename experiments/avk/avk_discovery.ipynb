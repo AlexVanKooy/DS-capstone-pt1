{
 "cells": [
  {
   "cell_type": "markdown",
   "id": "3d2d0698-a89c-4f60-8092-ad842f06b879",
   "metadata": {},
   "source": [
    "# Experiments Notebook 1\n"
   ]
  },
  {
   "cell_type": "code",
   "execution_count": 12,
   "id": "8fe0588d-d9dc-4ea7-ae59-f515ba3bf7c1",
   "metadata": {},
   "outputs": [],
   "source": [
    "import os\n",
    "import os.path\n",
    "import pickle\n",
    "import bz2\n",
    "from glob import glob\n",
    "import random\n",
    "import time\n",
    "import shutil\n",
    "from datetime import datetime\n",
    "import pathlib\n",
    "import pandas as pd\n",
    "import numpy as np"
   ]
  },
  {
   "cell_type": "code",
   "execution_count": 13,
   "id": "7b7de781-b19c-41f7-96d4-e7f620005fca",
   "metadata": {},
   "outputs": [],
   "source": [
    "import tensorflow as tf\n",
    "import tensorflow.keras as keras\n",
    "\n",
    "from tensorflow.keras import backend as K\n",
    "from tensorflow.keras.optimizers import Adam\n",
    "from tensorboard.plugins.hparams import api as hp\n",
    "from sklearn.model_selection import train_test_split\n",
    "from kerashypetune import KerasGridSearch\n"
   ]
  },
  {
   "cell_type": "code",
   "execution_count": 14,
   "id": "7b8ecb2e-2eb5-42c2-87a3-d2550cbf7ca3",
   "metadata": {},
   "outputs": [],
   "source": [
    "import preprocessing as pp"
   ]
  },
  {
   "cell_type": "code",
   "execution_count": 15,
   "id": "92d5bdbf-ae0b-453f-b529-7bf3223aeac4",
   "metadata": {},
   "outputs": [],
   "source": [
    "from tqdm.auto import tqdm"
   ]
  },
  {
   "cell_type": "code",
   "execution_count": 16,
   "id": "ce25521f-bad6-4705-b439-eda844e32615",
   "metadata": {},
   "outputs": [],
   "source": [
    "pd.set_option(\"display.max_columns\", None)"
   ]
  },
  {
   "cell_type": "markdown",
   "id": "7183fcd9-48c1-4e6d-a197-4c39853316c7",
   "metadata": {},
   "source": [
    "### Load the golden data"
   ]
  },
  {
   "cell_type": "code",
   "execution_count": 6,
   "id": "1c511402-262c-45a0-a9ae-148b6802fecf",
   "metadata": {},
   "outputs": [],
   "source": [
    "# Windows version\n",
    "golden_dataset_file_name = os.path.join('..', '..', 'data', 'golden', 'feeFiFoFum.pbz2')\n",
    "\n",
    "# data = bz2.BZ2File(golden_dataset_file_name,'rb')\n",
    "with bz2.BZ2File(golden_dataset_file_name,'rb') as data:\n",
    "    df = pd.read_pickle(data)\n"
   ]
  },
  {
   "cell_type": "markdown",
   "id": "fe4fde0d-13e5-4198-9f8e-5689f1130301",
   "metadata": {},
   "source": [
    "### Clean up the data\n",
    "\n",
    "#### Drop non-numeric and unnecessary columns"
   ]
  },
  {
   "cell_type": "code",
   "execution_count": 7,
   "id": "4e761798-4dba-4c6c-96db-04ba85fb6d95",
   "metadata": {},
   "outputs": [],
   "source": [
    "cols = ['NYT_ConfirmedCases.data','NYT_ConfirmedDeaths.data','NYT_ConfirmedDeaths.missing','county','LND110210','countyStateName','stateFip','countyFip']\n",
    "\n",
    "df.drop(cols, axis=1, inplace=True)"
   ]
  },
  {
   "cell_type": "markdown",
   "id": "e09cf9d9-f105-4376-80ce-65a15ad0bca0",
   "metadata": {},
   "source": [
    "#### Temporarily, replace FIPS codes with latitude and longitude of the centroid of each county"
   ]
  },
  {
   "cell_type": "code",
   "execution_count": 8,
   "id": "128e20f9-d1ca-4bfa-a76a-547209f8bb25",
   "metadata": {},
   "outputs": [],
   "source": [
    "counties = pd.read_csv('../noah/2021_Gaz_counties_national.txt', delimiter='\\t')\n",
    "counties.rename(columns={'INTPTLONG                                                                                                               ': 'longitude',\n",
    "                        'INTPTLAT': 'latitude'}, inplace=True)\n",
    "# counties.columns = counties.columns.str.replace(\" \", \"\")\n",
    "\n",
    "counties = counties[['GEOID', 'latitude', 'longitude' ]]\n",
    "df.fips = df.fips.astype('int64')\n",
    "\n",
    "df = df.merge(counties, how='left', left_on='fips', right_on='GEOID')\n",
    "df.drop(['GEOID'], axis=1, inplace=True)"
   ]
  },
  {
   "cell_type": "markdown",
   "id": "0324af6e-050d-4195-b5d9-4c9d51dac540",
   "metadata": {},
   "source": [
    "#### Replace dates with monotonically increasing integers starting with the minimum date"
   ]
  },
  {
   "cell_type": "code",
   "execution_count": 9,
   "id": "54d464b3-5904-4671-9ef8-97b2450bfc9c",
   "metadata": {},
   "outputs": [
    {
     "data": {
      "text/plain": [
       "(Timestamp('2020-03-11 00:00:00'),\n",
       " Timestamp('2022-01-16 00:00:00'),\n",
       " dtype('<M8[ns]'))"
      ]
     },
     "execution_count": 9,
     "metadata": {},
     "output_type": "execute_result"
    }
   ],
   "source": [
    "df.dates = pd.to_datetime(df.dates, format='%Y-%m-%d')\n",
    "min_date = min(df.dates)\n",
    "max_date = max(df.dates)\n",
    "min_date, max_date, df.dates.dtype"
   ]
  },
  {
   "cell_type": "code",
   "execution_count": 10,
   "id": "82a52c51-f7f0-4835-a57e-8ec4298e220c",
   "metadata": {},
   "outputs": [],
   "source": [
    "df['day'] =(df.dates - min_date).dt.days\n",
    "df.drop(['dates'], axis=1, inplace=True)"
   ]
  },
  {
   "cell_type": "markdown",
   "id": "da0581ee-2583-4748-8a3c-e4ccadc6a3ba",
   "metadata": {},
   "source": [
    "#### Replace the integer representation of date with sin and cosine encoding"
   ]
  },
  {
   "cell_type": "code",
   "execution_count": 11,
   "id": "4517112d-13a1-4685-9f96-22e5ece969b1",
   "metadata": {},
   "outputs": [],
   "source": [
    "cyclical_interval = 365\n",
    "continuous_interval = 3650\n",
    "df['cyclical_sin'] = np.sin((df.day * 2 * np.pi)/cyclical_interval)\n",
    "df['cyclical_cos'] = np.cos((df.day * 2 * np.pi)/cyclical_interval)\n",
    "df['continuous_sin'] = np.sin((df.day * 2 * np.pi)/continuous_interval)\n",
    "df['continuous_cos'] = np.cos((df.day * 2 * np.pi)/continuous_interval)\n",
    "df.drop('day', axis=1, inplace=True)"
   ]
  },
  {
   "cell_type": "code",
   "execution_count": 12,
   "id": "fb951036-ea25-47cc-96c5-5a9b36527d8e",
   "metadata": {},
   "outputs": [],
   "source": [
    "# crossed_latlong = pp.get_latlong_fc(df)\n",
    "\n",
    "lat_buckets = list(np.linspace(df.latitude.min(), df.latitude.max(),100))\n",
    "long_buckets = list(np.linspace(df.longitude.min(), df.longitude.max(),100))\n",
    "\n",
    "#make feature columns\n",
    "lat_fc = tf.feature_column.bucketized_column(tf.feature_column.numeric_column('latitude'),lat_buckets)\n",
    "long_fc= tf.feature_column.bucketized_column(tf.feature_column.numeric_column('longitude'),long_buckets)\n",
    "    \n",
    "# crossed columns tell the model how the features relate\n",
    "crossed_latlong = tf.feature_column.crossed_column(keys=[lat_fc, long_fc], hash_bucket_size=1000) # No precise rule, maybe 1000 buckets will be good?\n",
    "    \n",
    "embedded_latlong = tf.feature_column.embedding_column(crossed_latlong,9)\n",
    "\n",
    "feature_layer = tf.keras.layers.DenseFeatures(embedded_latlong)\n",
    "\n",
    "df[['geo0', 'geo1', 'geo2','geo3', 'geo4','geo5','geo6','geo7','geo8']] = feature_layer({'latitude': df.latitude, 'longitude': df.longitude})\n",
    "\n",
    "# df.drop(['longitude', 'latitude'], axis=1, inplace=True)"
   ]
  },
  {
   "cell_type": "markdown",
   "id": "416f842b-c049-404a-bb19-55f26e8efa25",
   "metadata": {},
   "source": [
    "#### Normalize the data"
   ]
  },
  {
   "cell_type": "markdown",
   "id": "feb984b3-bf5e-4875-8021-e7170afc8d7d",
   "metadata": {},
   "source": [
    "### dropping some features for a test"
   ]
  },
  {
   "cell_type": "code",
   "execution_count": 13,
   "id": "ddd4739f-0f16-4480-b707-b86596004e0a",
   "metadata": {},
   "outputs": [],
   "source": [
    "# keeps = ['AverageDailyTemperature.data',\n",
    "# 'AverageRelativeHumidity.data',\n",
    "# 'AveragePrecipitation.data',\n",
    "# 'TotalPopulation.data',\n",
    "# 'MaleAndFemale_AtLeast65_Population.data',\n",
    "# 'BLS_EmployedPopulation.data',\n",
    "# 'BLS_LaborForcePopulation.data',\n",
    "# 'houseWith65',\n",
    "# 'gini']\n",
    "# # keeps.extend(['fips','JHU_ConfirmedCases.data', 'JHU_ConfirmedDeaths.data', 'cyclical_sin', 'cyclical_cos', 'continuous_sin',\n",
    "#        # 'continuous_cos', 'latitude','longitude','geo0', 'geo1', 'geo2','geo3', 'geo4','geo5','geo6','geo7','geo8'])"
   ]
  },
  {
   "cell_type": "code",
   "execution_count": 13,
   "id": "5e3f5d94-76e5-4147-aa34-b72c1c10fe52",
   "metadata": {},
   "outputs": [],
   "source": [
    "cols_to_normalize = [\n",
    "       'TotalPopulation.data', 'MaleAndFemale_AtLeast65_Population.data',\n",
    "       'Male_Total_Population.data', 'Female_Total_Population.data',\n",
    "       'MaleAndFemale_Under18_Population.data', 'BLS_EmployedPopulation.data',\n",
    "       'BLS_EmployedPopulation.missing', 'BLS_UnemployedPopulation.data',\n",
    "       'BLS_UnemployedPopulation.missing', 'BLS_UnemploymentRate.data',\n",
    "       'BLS_UnemploymentRate.missing', 'BLS_LaborForcePopulation.data',\n",
    "       'BLS_LaborForcePopulation.missing', 'AverageDailyTemperature.data',\n",
    "       'AverageDailyTemperature.missing', 'AverageDewPoint.data',\n",
    "       'AverageDewPoint.missing', 'AverageRelativeHumidity.data',\n",
    "       'AverageRelativeHumidity.missing', 'AverageSurfaceAirPressure.data',\n",
    "       'AverageSurfaceAirPressure.missing', 'AveragePrecipitationTotal.data',\n",
    "       'AveragePrecipitationTotal.missing', 'AveragePrecipitation.data',\n",
    "       'AveragePrecipitation.missing', 'AverageWindDirection.data',\n",
    "       'AverageWindDirection.missing', 'AverageWindSpeed.data',\n",
    "       'AverageWindSpeed.missing', 'hospitalIcuBeds', 'hospitalStaffedBeds',\n",
    "       'hospitalLicensedBeds', 'latestTotalPopulation', 'jhu_daily_death',\n",
    "       'jhu_daily_cases', 'jhu_daily_new_cases', \n",
    "    'jhu_daily_death_rolling_7',\n",
    "       'jhu_daily_cases_rolling_7', 'jhu_daily_new_cases_rolling_7',\n",
    "       'jhu_daily_death_rolling_30', 'jhu_daily_cases_rolling_30',\n",
    "       'jhu_daily_new_cases_rolling_30', 'jhu_death_rate', 'jhu_case_rate',\n",
    "       'jhu_new_case_rate', 'density', 'icu_beds_per_person',\n",
    "       'staffed_beds_per_person', 'licensed_beds_per_person', 'cold_days',\n",
    "       'hot_days', 'moderate_days', 'gte_65_percent', 'lt_18_percent',\n",
    "       'employed_percent', 'unemployed_percent', 'totalMoved',\n",
    "       'movedWithinState', 'movedWithoutState', 'movedFromAbroad',\n",
    "       'publicTrans', 'totalTrans', 'householdsTotal', 'houseWith65',\n",
    "       'house2+with65', 'houseFamily65', 'houseNonfam65', 'houseNo65',\n",
    "       'house2+No65', 'houseFamilyNo65', 'houseNonfamNo65',\n",
    "       'householdStructuresTotal', 'householdIncomeMedian', 'gini',\n",
    "       'hoursWorkedMean', 'unitsInStructure', 'healthInsTotal',\n",
    "       'healthInsNativeWith', 'healthInsForeignNatWith',\n",
    "       'healthInsForeignNoncitWith', 'healthInsForeignNatNo',\n",
    "       'healthInsForeignNoncitNo', 'healthInsNativeNo', 'pm25','latitude','longitude']"
   ]
  },
  {
   "cell_type": "code",
   "execution_count": 14,
   "id": "1a177de3-fe67-4e5c-8398-95bc9f65a6b2",
   "metadata": {},
   "outputs": [],
   "source": [
    "cols_raw = ['fips','JHU_ConfirmedCases.data', 'JHU_ConfirmedDeaths.data', 'cyclical_sin', 'cyclical_cos', 'continuous_sin',\n",
    "       'continuous_cos', 'geo0', 'geo1', 'geo2','geo3', 'geo4','geo5','geo6','geo7','geo8']\n",
    "df_normalized = df[cols_to_normalize]\n",
    "df_normalized = (df_normalized - df_normalized.mean())/df_normalized.std()\n",
    "df_raw = df[cols_raw]\n",
    "df = pd.concat([df_raw, df_normalized], axis=1)"
   ]
  },
  {
   "cell_type": "markdown",
   "id": "433bf3ef-a6d5-4f22-b336-f46f2798a363",
   "metadata": {},
   "source": [
    "#### Prepare the data for training"
   ]
  },
  {
   "cell_type": "code",
   "execution_count": 59,
   "id": "781e1125-039a-45fd-bca7-0a534e24dd70",
   "metadata": {},
   "outputs": [
    {
     "data": {
      "text/plain": [
       "623"
      ]
     },
     "execution_count": 59,
     "metadata": {},
     "output_type": "execute_result"
    }
   ],
   "source": [
    "county = df[df.fips == 45001]\n",
    "len(county)"
   ]
  },
  {
   "cell_type": "code",
   "execution_count": 60,
   "id": "952048e8-6423-4a58-8390-6162620c6920",
   "metadata": {},
   "outputs": [],
   "source": [
    "days = 31\n",
    "x = None\n",
    "for i in range(days, len(county) + 1):\n",
    "    x = df.iloc[i - days: i, 1:]\n",
    "    break"
   ]
  },
  {
   "cell_type": "code",
   "execution_count": 17,
   "id": "d7731216-cef5-4d0a-a9d2-51dfbe00172f",
   "metadata": {},
   "outputs": [],
   "source": [
    "days_of_history = 30\n",
    "days_to_predict = 7"
   ]
  },
  {
   "cell_type": "code",
   "execution_count": 17,
   "id": "14b3c1f6-ec25-4420-8f70-b8d7f0cef1da",
   "metadata": {
    "tags": []
   },
   "outputs": [],
   "source": [
    "fips = df.fips.unique()\n",
    "\n",
    "def x_generator(data, days_of_history=30, days_to_predict=1):\n",
    "    for j, fip in enumerate(fips):\n",
    "        if not j % 100: print(j, end=' ')\n",
    "        county = data[data.fips == fip]\n",
    "        for i in range(days_of_history, len(county) - days_to_predict):\n",
    "            data_matrix = data.iloc[i - days_of_history: i, 1:].to_numpy()\n",
    "            yield data_matrix\n",
    "            \n",
    "def y_generator(data, days_of_history=30, days_to_predict=1):\n",
    "    for fip in fips:\n",
    "        county = data[data.fips == fip]\n",
    "        for i in range(days_of_history, len(county) - days_to_predict):\n",
    "            data_matrix = data.iloc[i: i + days_to_predict, 1:3].to_numpy()\n",
    "            yield data_matrix\n",
    "    \n",
    "def xy_generator(data, days=37):\n",
    "    for j, fip in enumerate(fips):\n",
    "        if not j % 100: print(j, end=' ')\n",
    "        county = data[data.fips == fip]\n",
    "        for i in range(days, len(county) + 1):\n",
    "            data_matrix = data.iloc[i - days: i, 1:].to_numpy()\n",
    "            yield data_matrix\n",
    "            \n",
    "            \n",
    "        \n",
    "            \n",
    "    "
   ]
  },
  {
   "cell_type": "markdown",
   "id": "8ac163c8-45f9-4a5c-972d-babb0d65816a",
   "metadata": {},
   "source": [
    "##### Save the raw X and Y to files of 50,000 sequences"
   ]
  },
  {
   "cell_type": "code",
   "execution_count": 18,
   "id": "32add75b-d9ef-432b-a607-6fe85948c224",
   "metadata": {
    "tags": []
   },
   "outputs": [
    {
     "data": {
      "application/vnd.jupyter.widget-view+json": {
       "model_id": "ce90779b35774df38069600c749c88fd",
       "version_major": 2,
       "version_minor": 0
      },
      "text/plain": [
       "0it [00:00, ?it/s]"
      ]
     },
     "metadata": {},
     "output_type": "display_data"
    },
    {
     "name": "stdout",
     "output_type": "stream",
     "text": [
      "0 100 200 300 400 500 600 700 800 900 1000 1100 1200 1300 1400 1500 1600 1700 1800 1900 2000 2100 2200 2300 2400 2500 2600 2700 2800 2900 3000 "
     ]
    }
   ],
   "source": [
    "Xi = []\n",
    "j = 0\n",
    "\n",
    "N_SAMPLES = 200\n",
    "\n",
    "for i, x in tqdm(enumerate(xy_generator(df))):\n",
    "    Xi.append(x)\n",
    "    if i and not i % (N_SAMPLES - 1):\n",
    "        X = np.asarray(Xi)\n",
    "        np.save(os.path.join('.','data', f'x_{j}.npy'), X)\n",
    "        j += 1\n",
    "        Xi = []\n",
    "    \n",
    "if Xi:\n",
    "    X = np.asarray(Xi)\n",
    "    np.save(os.path.join('.','data', f'x_{j}.npy'), X)\n",
    "\n",
    "# for i, x in tqdm(enumerate(xy_generator(df))):\n",
    "#     Xi.append(x)\n",
    "#     if i and not i % (N_SAMPLES - 1):\n",
    "#         X = np.asarray(Xi)\n",
    "#         np.save(os.path.join('.','norm_latlong_data', f'x_{j}.npy'), X)\n",
    "#         j += 1\n",
    "#         Xi = []\n",
    "    \n",
    "# if Xi:\n",
    "#     X = np.asarray(Xi)\n",
    "#     np.save(os.path.join('.','norm_latlong_data', f'x_{j}.npy'), X)\n",
    " \n",
    "\n"
   ]
  },
  {
   "cell_type": "markdown",
   "id": "6664610a-0086-4410-b237-4ae731bce0d7",
   "metadata": {},
   "source": [
    "##### Split into train, test, eval directories"
   ]
  },
  {
   "cell_type": "code",
   "execution_count": 6,
   "id": "54851ab5-4145-469a-b6c1-8de51fd9da28",
   "metadata": {},
   "outputs": [],
   "source": [
    "RANDOM_SEED = 42\n",
    "def set_seed():\n",
    "    random.seed(RANDOM_SEED)\n",
    "    np.random.seed(RANDOM_SEED)\n",
    "    tf.random.set_seed(RANDOM_SEED)\n",
    "    os.environ['PYTHONHASHSEED'] = str(RANDOM_SEED)\n",
    "set_seed()"
   ]
  },
  {
   "cell_type": "code",
   "execution_count": 8,
   "id": "ee865b7d-1f2b-4c1e-b24b-ee56a59ca907",
   "metadata": {},
   "outputs": [
    {
     "name": "stdout",
     "output_type": "stream",
     "text": [
      "8888\n",
      "6221\n",
      "1333\n",
      "1334\n"
     ]
    }
   ],
   "source": [
    "x_files = glob('./data/x_*.npy')\n",
    "\n",
    "#changing directory so I can stop regenerating everytime\n",
    "\n",
    "# x_files = glob('./norm_latlong_data/x_*.npy')\n",
    "random.shuffle(x_files)\n",
    "n_files = len(x_files)\n",
    "print(n_files)\n",
    "n_train = int(n_files * 0.70)\n",
    "print(n_train)\n",
    "n_eval = int(n_files * 0.15)\n",
    "print(n_eval)\n",
    "n_test = n_files - n_train - n_eval\n",
    "print(n_test)\n",
    "train_files = x_files[:n_train]\n",
    "# print(len(train_files))\n",
    "eval_files = x_files[n_train:n_train+n_test]\n",
    "# print(len(eval_files))\n",
    "test_files = x_files[n_train+n_test:]\n",
    "assert n_files == len(train_files) + len(eval_files) + len(test_files)\n",
    "for (subdir, lst) in [['train', train_files], ['eval', eval_files], ['test', test_files]]:\n",
    "    for file in lst:\n",
    "        shutil.move(file, os.path.join('.', 'data', subdir))\n",
    "        # shutil.move(file, os.path.join('.', 'norm_latlong_data', subdir))\n",
    "        "
   ]
  },
  {
   "cell_type": "markdown",
   "id": "72038235-dbcf-47e3-8a70-7b8021b68f7f",
   "metadata": {},
   "source": [
    "##### Create the Tensorflow Dataset"
   ]
  },
  {
   "cell_type": "code",
   "execution_count": null,
   "id": "7eb6ba81-7448-40c7-b5db-ae5382204a76",
   "metadata": {},
   "outputs": [],
   "source": [
    "t= glob('*.png')\n",
    "len(t)"
   ]
  },
  {
   "cell_type": "code",
   "execution_count": 18,
   "id": "72c917f4-f604-48cf-a8dd-d07a1fffed35",
   "metadata": {},
   "outputs": [],
   "source": [
    "# \"data\" is the 7 day predictions\n",
    "train_files = glob('./data/train/x_*.npy')\n",
    "eval_files = glob('./data/eval/x_*.npy')\n",
    "test_files = glob('./data/test/x_*.npy')\n",
    "\n",
    "# train_files = glob('./norm_latlong_data/train/x_*.npy')\n",
    "# eval_files = glob('./norm_latlong_data/eval/x_*.npy')\n",
    "# test_files = glob('./norm_latlong_data/test/x_*.npy')\n",
    "\n",
    "n_readers = 5\n",
    "n_parse_threads = 5\n",
    "len_array = 995\n",
    "\n",
    "def create_generator(files, cycle_length=5):\n",
    "    set_seed()\n",
    "    random.shuffle(files)\n",
    "    for i in range(0, len(files), cycle_length):\n",
    "        subset = files[i:i+cycle_length]\n",
    "        np_arrays = [np.load(s) for s in subset]\n",
    "        np_array = np.concatenate(np_arrays, axis=0)\n",
    "        # if np_array.shape[0] != len_array:\n",
    "        #     print('Oh no,', np_array.shape[0])\n",
    "        #     break\n",
    "        #     continue\n",
    "        np.random.shuffle(np_array)\n",
    "        yield np_array\n",
    "            \n",
    "\n",
    "def split_xy(np_array):\n",
    "    X = np_array[:,:-1,:]\n",
    "    y = np_array[:,-1:,:1]\n",
    "    return X,y\n",
    "        \n",
    "    \n",
    "train_ds = tf.data.Dataset.from_generator(lambda: create_generator(train_files, cycle_length=n_readers), output_types=tf.float32 )\n",
    "train_ds = train_ds.map(split_xy, num_parallel_calls=n_parse_threads).prefetch(1)\n",
    "\n",
    "val_ds = tf.data.Dataset.from_generator(lambda: create_generator(eval_files, cycle_length=n_readers), output_types=tf.float32 )\n",
    "val_ds = val_ds.map(split_xy, num_parallel_calls=n_parse_threads).prefetch(1)\n",
    "\n",
    "test_ds = tf.data.Dataset.from_generator(lambda: create_generator(test_files, cycle_length=n_readers), output_types=tf.float32 )\n",
    "test_ds = test_ds.map(split_xy, num_parallel_calls=n_parse_threads).prefetch(1)\n"
   ]
  },
  {
   "cell_type": "markdown",
   "id": "1eaea1d7-a885-4ca5-9f52-83846c1bd2df",
   "metadata": {
    "tags": []
   },
   "source": [
    "## Building the model"
   ]
  },
  {
   "cell_type": "code",
   "execution_count": 8,
   "id": "a4fc237f-ee3d-4cf1-a973-80a148f004db",
   "metadata": {},
   "outputs": [],
   "source": [
    "# HP_LAYER_TYPE=hp.HParam('layer_type', hp.Discrete(['keras.layers.LSTM', 'keras.layers.GRU']))\n",
    "HP_LAYER_TYPE=hp.HParam('layer_type', hp.Discrete(['keras.layers.LSTM']))\n",
    "HP_N_RECURRENT=hp.HParam('n_recurrent', hp.Discrete([3, 4, 5]))\n",
    "# HP_N_UNIT=hp.HParam('n_unit', hp.Discrete([32, 64, 128]))\n",
    "HP_N_UNIT=hp.HParam('n_unit', hp.Discrete([256]))\n",
    "HP_DROPOUT=hp.HParam('dropout', hp.Discrete([0.20]))\n",
    "HP_LR=hp.HParam('lr', hp.Discrete([1e-3]))\n",
    "METRIC_MAE = 'mae'\n",
    "METRIC_MAPE= 'mape'\n",
    "\n",
    "\n",
    "with tf.summary.create_file_writer('logs/hparam_tuning').as_default():\n",
    "    hp.hparams_config(\n",
    "    hparams=[HP_LAYER_TYPE, HP_N_RECURRENT, HP_N_UNIT, HP_DROPOUT, HP_LR],\n",
    "    metrics=[hp.Metric(METRIC_MAE, display_name='Mean Avg Error'),hp.Metric(METRIC_MAPE, display_name='Mean Absolute Percent Error')],\n",
    "  )"
   ]
  },
  {
   "cell_type": "code",
   "execution_count": 23,
   "id": "ac5a89db-7e16-4ae7-822d-94e790ca2f1a",
   "metadata": {},
   "outputs": [],
   "source": [
    "EPOCHS=30\n",
    "\n",
    "def train_test_model(hparams, shape=(30,101)):\n",
    "    set_seed()\n",
    "    input = keras.layers.Input(shape=shape)\n",
    "    last = input\n",
    "    for i in range(hparams[HP_N_RECURRENT]):\n",
    "        if i < hparams[HP_N_RECURRENT] - 1:\n",
    "            last = eval(hparams[HP_LAYER_TYPE])(hparams[HP_N_UNIT], return_sequences=True)(last)\n",
    "        else:\n",
    "            last = eval(hparams[HP_LAYER_TYPE])(hparams[HP_N_UNIT])(last)\n",
    "        \n",
    "        if hparams[HP_DROPOUT]:\n",
    "            last = keras.layers.Dropout(hparams[HP_DROPOUT])(last)\n",
    "\n",
    "    output = keras.layers.Dense(1)(last)\n",
    "    \n",
    "    model = keras.models.Model(inputs=input, outputs=output)\n",
    "    model.compile(optimizer = Adam(learning_rate=hparams[HP_LR]),\n",
    "                  loss='mae'\n",
    "                 )\n",
    "    \n",
    "    \n",
    "    \n",
    "    model.fit(train_ds,\n",
    "            validation_data=val_ds,\n",
    "            epochs=EPOCHS)\n",
    " \n",
    "    val_loss = model.evaluate(test_ds)\n",
    "    return val_loss\n",
    "        \n",
    "\n",
    "def run(run_dir, hparams):\n",
    "    with tf.summary.create_file_writer(run_dir).as_default():\n",
    "        hp.hparams(hparams)  # record the values used in this trial\n",
    "        val_loss = train_test_model(hparams)\n",
    "        tf.summary.scalar(METRIC_MAE, val_loss, step=1)"
   ]
  },
  {
   "cell_type": "code",
   "execution_count": 16,
   "id": "a692d02e",
   "metadata": {},
   "outputs": [],
   "source": [
    "%load_ext tensorboard\n"
   ]
  },
  {
   "cell_type": "code",
   "execution_count": 19,
   "id": "dac0fb34",
   "metadata": {
    "collapsed": true,
    "jupyter": {
     "outputs_hidden": true
    },
    "tags": []
   },
   "outputs": [
    {
     "data": {
      "text/html": [
       "\n",
       "      <iframe id=\"tensorboard-frame-902a405c3d9ffe59\" width=\"100%\" height=\"800\" frameborder=\"0\">\n",
       "      </iframe>\n",
       "      <script>\n",
       "        (function() {\n",
       "          const frame = document.getElementById(\"tensorboard-frame-902a405c3d9ffe59\");\n",
       "          const url = new URL(\"/\", window.location);\n",
       "          const port = 6006;\n",
       "          if (port) {\n",
       "            url.port = port;\n",
       "          }\n",
       "          frame.src = url;\n",
       "        })();\n",
       "      </script>\n",
       "    "
      ],
      "text/plain": [
       "<IPython.core.display.HTML object>"
      ]
     },
     "metadata": {},
     "output_type": "display_data"
    }
   ],
   "source": [
    "%tensorboard --logdir=logs/\n"
   ]
  },
  {
   "cell_type": "code",
   "execution_count": null,
   "id": "7153ab9f-dc3c-41b8-b5e2-0f15140d83be",
   "metadata": {},
   "outputs": [],
   "source": [
    "def get_new_loop():\n",
    "    train_ds, val_ds, test_ds = model.get_train_test_eval_ds()\n",
    "    return ('train', train_ds), ('validate', val_ds), ('test', test_ds)\n",
    "\n",
    "for name, ds in get_new_loop():\n",
    "    errors = count = 0\n",
    "    for x, y in ds:\n",
    "        y_ = y.numpy().flatten()        \n",
    "        x_ = x.numpy()[:,-1:,:1].flatten()\n",
    "        errors += np.sum(np.abs(y_ - x_))\n",
    "        count += y_.shape[0]\n",
    "    print(f'{name}: {errors/count}')"
   ]
  },
  {
   "cell_type": "code",
   "execution_count": 25,
   "id": "9060dea1-612f-4b1c-af0f-987c0b70462c",
   "metadata": {
    "collapsed": true,
    "jupyter": {
     "outputs_hidden": true
    },
    "tags": []
   },
   "outputs": [
    {
     "name": "stdout",
     "output_type": "stream",
     "text": [
      "--- Starting trial: run-0-nrecu-3\n",
      "{'layer_type': 'keras.layers.LSTM', 'n_recurrent': 3, 'n_unit': 256, 'dropout': 0.2, 'lr': 0.001}\n",
      "Epoch 1/30\n",
      "1258/1258 [==============================] - 153s 119ms/step - loss: 1606.7697 - val_loss: 1475.9077\n",
      "Epoch 2/30\n",
      "1258/1258 [==============================] - 118s 93ms/step - loss: 1356.5941 - val_loss: 1242.4910\n",
      "Epoch 3/30\n",
      "1258/1258 [==============================] - 118s 93ms/step - loss: 1149.5433 - val_loss: 1050.4062\n",
      "Epoch 4/30\n",
      "1258/1258 [==============================] - 118s 93ms/step - loss: 980.7081 - val_loss: 889.5544\n",
      "Epoch 5/30\n",
      "1258/1258 [==============================] - 118s 93ms/step - loss: 823.7610 - val_loss: 739.8621\n",
      "Epoch 6/30\n",
      "1258/1258 [==============================] - 118s 93ms/step - loss: 677.6816 - val_loss: 605.3556\n",
      "Epoch 7/30\n",
      "1258/1258 [==============================] - 118s 93ms/step - loss: 534.8561 - val_loss: 456.4543\n",
      "Epoch 8/30\n",
      "1258/1258 [==============================] - 118s 94ms/step - loss: 401.5420 - val_loss: 331.3602\n",
      "Epoch 9/30\n",
      "1258/1258 [==============================] - 118s 93ms/step - loss: 294.4434 - val_loss: 236.7320\n",
      "Epoch 10/30\n",
      "1258/1258 [==============================] - 118s 93ms/step - loss: 240.4614 - val_loss: 207.0565\n",
      "Epoch 11/30\n",
      "1258/1258 [==============================] - 118s 93ms/step - loss: 214.5865 - val_loss: 176.5003\n",
      "Epoch 12/30\n",
      "1258/1258 [==============================] - 118s 93ms/step - loss: 183.2905 - val_loss: 144.3691\n",
      "Epoch 13/30\n",
      "1258/1258 [==============================] - 118s 93ms/step - loss: 153.1144 - val_loss: 109.3625\n",
      "Epoch 14/30\n",
      "1258/1258 [==============================] - 118s 93ms/step - loss: 127.1669 - val_loss: 80.3939\n",
      "Epoch 15/30\n",
      "1258/1258 [==============================] - 118s 93ms/step - loss: 95.5831 - val_loss: 47.6357\n",
      "Epoch 16/30\n",
      "1258/1258 [==============================] - 118s 93ms/step - loss: 67.5805 - val_loss: 34.7012\n",
      "Epoch 17/30\n",
      "1258/1258 [==============================] - 118s 94ms/step - loss: 62.4043 - val_loss: 30.4952\n",
      "Epoch 18/30\n",
      "1258/1258 [==============================] - 118s 93ms/step - loss: 58.7575 - val_loss: 30.2131\n",
      "Epoch 19/30\n",
      "1258/1258 [==============================] - 118s 93ms/step - loss: 56.7853 - val_loss: 17.9041\n",
      "Epoch 20/30\n",
      "1258/1258 [==============================] - 118s 93ms/step - loss: 54.8490 - val_loss: 23.4548\n",
      "Epoch 21/30\n",
      "1258/1258 [==============================] - 118s 93ms/step - loss: 54.9211 - val_loss: 17.2291\n",
      "Epoch 22/30\n",
      "1258/1258 [==============================] - 118s 93ms/step - loss: 58.5266 - val_loss: 24.3844\n",
      "Epoch 23/30\n",
      "1258/1258 [==============================] - 118s 93ms/step - loss: 57.3591 - val_loss: 20.2071\n",
      "Epoch 24/30\n",
      "1258/1258 [==============================] - 118s 93ms/step - loss: 54.2351 - val_loss: 19.3777\n",
      "Epoch 25/30\n",
      "1258/1258 [==============================] - 119s 94ms/step - loss: 56.4688 - val_loss: 37.4402\n",
      "Epoch 26/30\n",
      "1258/1258 [==============================] - 119s 94ms/step - loss: 56.0741 - val_loss: 22.5774\n",
      "Epoch 27/30\n",
      "1258/1258 [==============================] - 119s 94ms/step - loss: 52.9904 - val_loss: 19.9161\n",
      "Epoch 28/30\n",
      "1258/1258 [==============================] - 119s 94ms/step - loss: 52.7881 - val_loss: 23.6578\n",
      "Epoch 29/30\n",
      "1258/1258 [==============================] - 119s 94ms/step - loss: 51.3089 - val_loss: 16.8457\n",
      "Epoch 30/30\n",
      "1258/1258 [==============================] - 118s 94ms/step - loss: 50.9765 - val_loss: 23.6211\n",
      "270/270 [==============================] - 27s 100ms/step - loss: 24.3858\n",
      "--- Starting trial: run-1-nrecu-4\n",
      "{'layer_type': 'keras.layers.LSTM', 'n_recurrent': 4, 'n_unit': 256, 'dropout': 0.2, 'lr': 0.001}\n",
      "Epoch 1/30\n",
      "1258/1258 [==============================] - 132s 101ms/step - loss: 1609.8558 - val_loss: 1511.9049\n",
      "Epoch 2/30\n",
      "1258/1258 [==============================] - 125s 98ms/step - loss: 1443.5122 - val_loss: 1376.8459\n",
      "Epoch 3/30\n",
      "1258/1258 [==============================] - 125s 98ms/step - loss: 1338.6332 - val_loss: 1290.3469\n",
      "Epoch 4/30\n",
      "1258/1258 [==============================] - 125s 98ms/step - loss: 1273.5253 - val_loss: 1240.7986\n",
      "Epoch 5/30\n",
      "1258/1258 [==============================] - 125s 98ms/step - loss: 1236.9718 - val_loss: 1211.4639\n",
      "Epoch 6/30\n",
      "1258/1258 [==============================] - 125s 98ms/step - loss: 1214.2034 - val_loss: 1194.0105\n",
      "Epoch 7/30\n",
      "1258/1258 [==============================] - 125s 98ms/step - loss: 863.0864 - val_loss: 712.1730\n",
      "Epoch 8/30\n",
      "1258/1258 [==============================] - 125s 98ms/step - loss: 641.9704 - val_loss: 553.3575\n",
      "Epoch 9/30\n",
      "1258/1258 [==============================] - 125s 98ms/step - loss: 492.3792 - val_loss: 411.4355\n",
      "Epoch 10/30\n",
      "1258/1258 [==============================] - 125s 99ms/step - loss: 361.2681 - val_loss: 297.4580\n",
      "Epoch 11/30\n",
      "1258/1258 [==============================] - 125s 98ms/step - loss: 265.2794 - val_loss: 225.0981\n",
      "Epoch 12/30\n",
      "1258/1258 [==============================] - 125s 99ms/step - loss: 229.0376 - val_loss: 192.9223\n",
      "Epoch 13/30\n",
      "1258/1258 [==============================] - 125s 99ms/step - loss: 203.7453 - val_loss: 171.0517\n",
      "Epoch 14/30\n",
      "1258/1258 [==============================] - 125s 99ms/step - loss: 173.7946 - val_loss: 130.5468\n",
      "Epoch 15/30\n",
      "1258/1258 [==============================] - 125s 98ms/step - loss: 143.5831 - val_loss: 107.9429\n",
      "Epoch 16/30\n",
      "1258/1258 [==============================] - 125s 98ms/step - loss: 113.0897 - val_loss: 74.1198\n",
      "Epoch 17/30\n",
      "1258/1258 [==============================] - 125s 98ms/step - loss: 87.5175 - val_loss: 38.8967\n",
      "Epoch 18/30\n",
      "1258/1258 [==============================] - 125s 99ms/step - loss: 69.0372 - val_loss: 35.4523\n",
      "Epoch 19/30\n",
      "1258/1258 [==============================] - 125s 99ms/step - loss: 63.7072 - val_loss: 31.4057\n",
      "Epoch 20/30\n",
      "1258/1258 [==============================] - 125s 98ms/step - loss: 61.9582 - val_loss: 28.0846\n",
      "Epoch 21/30\n",
      "1258/1258 [==============================] - 125s 99ms/step - loss: 59.6484 - val_loss: 36.5042\n",
      "Epoch 22/30\n",
      "1258/1258 [==============================] - 125s 99ms/step - loss: 59.2458 - val_loss: 27.2667\n",
      "Epoch 23/30\n",
      "1258/1258 [==============================] - 125s 98ms/step - loss: 61.1123 - val_loss: 27.8275\n",
      "Epoch 24/30\n",
      "1258/1258 [==============================] - 126s 99ms/step - loss: 58.3328 - val_loss: 36.6380\n",
      "Epoch 25/30\n",
      "1258/1258 [==============================] - 125s 99ms/step - loss: 58.2692 - val_loss: 30.0767\n",
      "Epoch 26/30\n",
      "1258/1258 [==============================] - 125s 98ms/step - loss: 58.0330 - val_loss: 27.4986\n",
      "Epoch 27/30\n",
      "1258/1258 [==============================] - 125s 99ms/step - loss: 57.4876 - val_loss: 21.9006\n",
      "Epoch 28/30\n",
      "1258/1258 [==============================] - 125s 99ms/step - loss: 57.7138 - val_loss: 24.2314\n",
      "Epoch 29/30\n",
      "1258/1258 [==============================] - 125s 99ms/step - loss: 56.8415 - val_loss: 26.1854\n",
      "Epoch 30/30\n",
      "1258/1258 [==============================] - 125s 99ms/step - loss: 60.7854 - val_loss: 27.9468\n",
      "270/270 [==============================] - 22s 81ms/step - loss: 28.7518\n",
      "--- Starting trial: run-2-nrecu-5\n",
      "{'layer_type': 'keras.layers.LSTM', 'n_recurrent': 5, 'n_unit': 256, 'dropout': 0.2, 'lr': 0.001}\n",
      "Epoch 1/30\n",
      "1258/1258 [==============================] - 142s 109ms/step - loss: 1607.8333 - val_loss: 1508.7620\n",
      "Epoch 2/30\n",
      "1258/1258 [==============================] - 138s 109ms/step - loss: 1439.8594 - val_loss: 1372.5902\n",
      "Epoch 3/30\n",
      "1258/1258 [==============================] - 138s 109ms/step - loss: 1334.6375 - val_loss: 1286.7476\n",
      "Epoch 4/30\n",
      "1258/1258 [==============================] - 138s 109ms/step - loss: 1270.5876 - val_loss: 1238.5315\n",
      "Epoch 5/30\n",
      "1258/1258 [==============================] - 138s 109ms/step - loss: 1235.3208 - val_loss: 1210.2074\n",
      "Epoch 6/30\n",
      "1258/1258 [==============================] - 139s 109ms/step - loss: 1212.7496 - val_loss: 1192.2069\n",
      "Epoch 7/30\n",
      "1258/1258 [==============================] - 139s 109ms/step - loss: 1199.3113 - val_loss: 1182.9803\n",
      "Epoch 8/30\n",
      "1258/1258 [==============================] - 139s 109ms/step - loss: 1192.5450 - val_loss: 1178.2872\n",
      "Epoch 9/30\n",
      "1258/1258 [==============================] - 138s 109ms/step - loss: 1188.5343 - val_loss: 1175.2996\n",
      "Epoch 10/30\n",
      "1258/1258 [==============================] - 138s 109ms/step - loss: 1185.7821 - val_loss: 1173.1285\n",
      "Epoch 11/30\n",
      "1258/1258 [==============================] - 138s 109ms/step - loss: 1183.7260 - val_loss: 1171.8191\n",
      "Epoch 12/30\n",
      "1258/1258 [==============================] - 139s 109ms/step - loss: 1182.2617 - val_loss: 1170.6893\n",
      "Epoch 13/30\n",
      "1258/1258 [==============================] - 138s 109ms/step - loss: 1181.0095 - val_loss: 1169.6799\n",
      "Epoch 14/30\n",
      "1258/1258 [==============================] - 139s 109ms/step - loss: 1179.8873 - val_loss: 1168.8057\n",
      "Epoch 15/30\n",
      "1258/1258 [==============================] - 139s 109ms/step - loss: 1178.9042 - val_loss: 1168.1278\n",
      "Epoch 16/30\n",
      "1258/1258 [==============================] - 138s 109ms/step - loss: 1178.2740 - val_loss: 1167.5740\n",
      "Epoch 17/30\n",
      "1258/1258 [==============================] - 139s 109ms/step - loss: 1177.6962 - val_loss: 1167.2413\n",
      "Epoch 18/30\n",
      "1258/1258 [==============================] - 138s 109ms/step - loss: 1177.3070 - val_loss: 1166.9985\n",
      "Epoch 19/30\n",
      "1258/1258 [==============================] - 138s 109ms/step - loss: 1177.0634 - val_loss: 1166.8378\n",
      "Epoch 20/30\n",
      "1258/1258 [==============================] - 139s 109ms/step - loss: 1176.8242 - val_loss: 1166.7831\n",
      "Epoch 21/30\n",
      "1258/1258 [==============================] - 138s 109ms/step - loss: 1176.6985 - val_loss: 1166.7347\n",
      "Epoch 22/30\n",
      "1258/1258 [==============================] - 138s 109ms/step - loss: 1176.6599 - val_loss: 1166.7667\n",
      "Epoch 23/30\n",
      "1258/1258 [==============================] - 139s 109ms/step - loss: 1176.5565 - val_loss: 1166.8340\n",
      "Epoch 24/30\n",
      "1258/1258 [==============================] - 138s 109ms/step - loss: 1176.5428 - val_loss: 1166.8760\n",
      "Epoch 25/30\n",
      "1258/1258 [==============================] - 138s 109ms/step - loss: 1176.6360 - val_loss: 1166.9214\n",
      "Epoch 26/30\n",
      "1258/1258 [==============================] - 139s 109ms/step - loss: 1176.5885 - val_loss: 1166.9552\n",
      "Epoch 27/30\n",
      "1258/1258 [==============================] - 138s 109ms/step - loss: 1176.4530 - val_loss: 1166.9862\n",
      "Epoch 28/30\n",
      "1258/1258 [==============================] - 139s 109ms/step - loss: 1176.4240 - val_loss: 1167.0072\n",
      "Epoch 29/30\n",
      "1258/1258 [==============================] - 138s 109ms/step - loss: 1176.5372 - val_loss: 1167.0353\n",
      "Epoch 30/30\n",
      "1258/1258 [==============================] - 138s 109ms/step - loss: 1176.5319 - val_loss: 1167.0483\n",
      "270/270 [==============================] - 22s 82ms/step - loss: 1157.2179\n"
     ]
    }
   ],
   "source": [
    "session_num = 0\n",
    "for layer_type in HP_LAYER_TYPE.domain.values:\n",
    "    for n_recurrent in HP_N_RECURRENT.domain.values:\n",
    "        for n_unit in HP_N_UNIT.domain.values:\n",
    "            for dropout in HP_DROPOUT.domain.values:\n",
    "                for lr in HP_LR.domain.values:\n",
    "                    hparams = {\n",
    "                      HP_LAYER_TYPE: layer_type,\n",
    "                      HP_N_RECURRENT: n_recurrent,\n",
    "                      HP_N_UNIT: n_unit,\n",
    "                      HP_DROPOUT: dropout,\n",
    "                      HP_LR: lr\n",
    "                    }\n",
    "                    run_name = f'run-{session_num}-nrecu-{n_recurrent}'\n",
    "                    print(f'--- Starting trial: {run_name}')\n",
    "                    print({h.name: hparams[h] for h in hparams})\n",
    "                    run(f'./logs/hparam_tuning/{run_name}', hparams)\n",
    "                    session_num += 1"
   ]
  },
  {
   "cell_type": "code",
   "execution_count": null,
   "id": "e4b1c8f1-773a-42ff-b636-cf4e1981214d",
   "metadata": {},
   "outputs": [],
   "source": []
  },
  {
   "cell_type": "code",
   "execution_count": 21,
   "id": "47e3c7a8-a260-4065-aa77-b14f8ec91528",
   "metadata": {},
   "outputs": [],
   "source": [
    "# Changing the model to predict 7 days ahead\n",
    "OUT_STEPS = days_to_predict\n",
    "number_of_features = 101\n",
    "input = keras.layers.Input(shape=(30,101))\n",
    "lstm1 = keras.layers.LSTM(256, return_sequences=True)(input)\n",
    "dropout1 = keras.layers.Dropout(0.20)(lstm1)\n",
    "lstm2 = keras.layers.LSTM(256, return_sequences=True)(dropout1)\n",
    "dropout2 = keras.layers.Dropout(0.20)(lstm2)\n",
    "lstm3 = keras.layers.LSTM(256, return_sequences=False)(dropout2)\n",
    "dropout3 = keras.layers.Dropout(0.20)(lstm3)\n",
    "\n",
    "dense = keras.layers.Dense(OUT_STEPS*number_of_features)(dropout3)\n",
    "output = keras.layers.Reshape([OUT_STEPS, number_of_features])(dense)\n",
    "\n",
    "model = keras.models.Model(inputs=input, outputs=output)\n",
    "\n",
    "# lstm_7_model = tf.keras.Sequential([\n",
    "#     tf.keras.layers.LSTM(\n",
    "\n",
    "\n"
   ]
  },
  {
   "cell_type": "code",
   "execution_count": null,
   "id": "4b81c661-63a9-4ee4-b838-006ea93a46e4",
   "metadata": {
    "tags": []
   },
   "outputs": [
    {
     "name": "stdout",
     "output_type": "stream",
     "text": [
      "Epoch 1/30\n",
      "1245/1245 [==============================] - 183s 142ms/step - loss: 1633.2771 - mse: 4312063.5000 - mae: 1633.2756 - root_mean_squared_error: 2076.5391 - val_loss: 1548.4994 - val_mse: 3964288.5000 - val_mae: 1548.4993 - val_root_mean_squared_error: 1991.0500\n",
      "Epoch 2/30\n",
      "1245/1245 [==============================] - 146s 116ms/step - loss: 1377.2501 - mse: 3418292.0000 - mae: 1377.2521 - root_mean_squared_error: 1848.8529 - val_loss: 1295.4736 - val_mse: 3089676.7500 - val_mae: 1295.4734 - val_root_mean_squared_error: 1757.7455\n",
      "Epoch 3/30\n",
      "1245/1245 [==============================] - 146s 117ms/step - loss: 1165.7306 - mse: 2667330.5000 - mae: 1165.7289 - root_mean_squared_error: 1633.1881 - val_loss: 1099.3989 - val_mse: 2419269.5000 - val_mae: 1099.3979 - val_root_mean_squared_error: 1555.3987\n",
      "Epoch 4/30\n",
      "1245/1245 [==============================] - 145s 116ms/step - loss: 992.4030 - mse: 2081020.6250 - mae: 992.4031 - root_mean_squared_error: 1442.5670 - val_loss: 930.3260 - val_mse: 1862944.3750 - val_mae: 930.3263 - val_root_mean_squared_error: 1364.8959\n",
      "Epoch 5/30\n",
      "1245/1245 [==============================] - 146s 116ms/step - loss: 833.3036 - mse: 1577468.3750 - mae: 833.3031 - root_mean_squared_error: 1255.9668 - val_loss: 774.2672 - val_mse: 1392561.8750 - val_mae: 774.2668 - val_root_mean_squared_error: 1180.0673\n",
      "Epoch 6/30\n",
      "1245/1245 [==============================] - 146s 117ms/step - loss: 685.1300 - mse: 1157852.8750 - mae: 685.1298 - root_mean_squared_error: 1076.0304 - val_loss: 624.3925 - val_mse: 1000462.7500 - val_mae: 624.3922 - val_root_mean_squared_error: 1000.2304\n",
      "Epoch 7/30\n",
      "1245/1245 [==============================] - 146s 116ms/step - loss: 540.3695 - mse: 816058.2500 - mae: 540.3698 - root_mean_squared_error: 903.3555 - val_loss: 480.8992 - val_mse: 690404.7500 - val_mae: 480.8994 - val_root_mean_squared_error: 830.9051\n",
      "Epoch 8/30\n",
      "1245/1245 [==============================] - 146s 117ms/step - loss: 404.6371 - mse: 558132.7500 - mae: 404.6366 - root_mean_squared_error: 747.0790 - val_loss: 346.1233 - val_mse: 468049.9062 - val_mae: 346.1233 - val_root_mean_squared_error: 684.1410\n",
      "Epoch 9/30\n",
      "1245/1245 [==============================] - 147s 117ms/step - loss: 294.3153 - mse: 381571.5938 - mae: 294.3149 - root_mean_squared_error: 617.7117 - val_loss: 250.0736 - val_mse: 327914.0625 - val_mae: 250.0737 - val_root_mean_squared_error: 572.6372\n",
      "Epoch 10/30\n",
      "1245/1245 [==============================] - 146s 117ms/step - loss: 237.1796 - mse: 288724.7500 - mae: 237.1796 - root_mean_squared_error: 537.3288 - val_loss: 214.4897 - val_mse: 270716.8125 - val_mae: 214.4897 - val_root_mean_squared_error: 520.3040\n",
      "Epoch 11/30\n",
      "1245/1245 [==============================] - 146s 117ms/step - loss: 218.0778 - mse: 240977.2344 - mae: 218.0781 - root_mean_squared_error: 490.8922 - val_loss: 183.6853 - val_mse: 211993.8125 - val_mae: 183.6853 - val_root_mean_squared_error: 460.4274\n",
      "Epoch 12/30\n",
      "1245/1245 [==============================] - 146s 116ms/step - loss: 191.7882 - mse: 183191.7656 - mae: 191.7884 - root_mean_squared_error: 428.0069 - val_loss: 153.5492 - val_mse: 150431.1094 - val_mae: 153.5491 - val_root_mean_squared_error: 387.8541\n",
      "Epoch 13/30\n",
      "1245/1245 [==============================] - 148s 118ms/step - loss: 160.8026 - mse: 125704.7812 - mae: 160.8027 - root_mean_squared_error: 354.5466 - val_loss: 126.7421 - val_mse: 95913.6328 - val_mae: 126.7421 - val_root_mean_squared_error: 309.6989\n",
      "Epoch 14/30\n",
      "1245/1245 [==============================] - 145s 115ms/step - loss: 130.4129 - mse: 78117.0469 - mae: 130.4128 - root_mean_squared_error: 279.4928 - val_loss: 90.2900 - val_mse: 51387.2930 - val_mae: 90.2900 - val_root_mean_squared_error: 226.6875\n",
      "Epoch 15/30\n",
      "1245/1245 [==============================] - 145s 116ms/step - loss: 100.4513 - mse: 46273.0820 - mae: 100.4514 - root_mean_squared_error: 215.1107 - val_loss: 70.9649 - val_mse: 33424.6211 - val_mae: 70.9649 - val_root_mean_squared_error: 182.8239\n",
      "Epoch 16/30\n",
      "1245/1245 [==============================] - 145s 115ms/step - loss: 78.5517 - mse: 31493.2285 - mae: 78.5516 - root_mean_squared_error: 177.4625 - val_loss: 40.7436 - val_mse: 18238.0449 - val_mae: 40.7436 - val_root_mean_squared_error: 135.0482\n",
      "Epoch 17/30\n",
      "1245/1245 [==============================] - 145s 116ms/step - loss: 70.3876 - mse: 25785.1309 - mae: 70.3876 - root_mean_squared_error: 160.5767 - val_loss: 42.1773 - val_mse: 17142.4258 - val_mae: 42.1773 - val_root_mean_squared_error: 130.9290\n",
      "Epoch 18/30\n",
      "1245/1245 [==============================] - 146s 117ms/step - loss: 72.3869 - mse: 26204.2773 - mae: 72.3869 - root_mean_squared_error: 161.8766 - val_loss: 54.8400 - val_mse: 24563.2109 - val_mae: 54.8399 - val_root_mean_squared_error: 156.7264\n",
      "Epoch 19/30\n",
      "1245/1245 [==============================] - 146s 117ms/step - loss: 71.8544 - mse: 25635.1719 - mae: 71.8543 - root_mean_squared_error: 160.1091 - val_loss: 43.6517 - val_mse: 16879.2832 - val_mae: 43.6517 - val_root_mean_squared_error: 129.9202\n",
      "Epoch 20/30\n",
      "1245/1245 [==============================] - 146s 116ms/step - loss: 68.0834 - mse: 23342.0195 - mae: 68.0834 - root_mean_squared_error: 152.7802 - val_loss: 27.2313 - val_mse: 11431.4893 - val_mae: 27.2313 - val_root_mean_squared_error: 106.9180\n",
      "Epoch 21/30\n",
      "1245/1245 [==============================] - 146s 117ms/step - loss: 62.4959 - mse: 19892.3359 - mae: 62.4959 - root_mean_squared_error: 141.0396 - val_loss: 26.7261 - val_mse: 10747.1484 - val_mae: 26.7261 - val_root_mean_squared_error: 103.6684\n",
      "Epoch 22/30\n",
      "1245/1245 [==============================] - 145s 116ms/step - loss: 58.4293 - mse: 17249.5273 - mae: 58.4293 - root_mean_squared_error: 131.3367 - val_loss: 26.9834 - val_mse: 10782.4951 - val_mae: 26.9834 - val_root_mean_squared_error: 103.8387\n",
      "Epoch 23/30\n",
      "1245/1245 [==============================] - 146s 117ms/step - loss: 56.5673 - mse: 16410.3242 - mae: 56.5672 - root_mean_squared_error: 128.1021 - val_loss: 30.0508 - val_mse: 11318.6719 - val_mae: 30.0508 - val_root_mean_squared_error: 106.3892\n",
      "Epoch 24/30\n",
      "1245/1245 [==============================] - 147s 117ms/step - loss: 55.8582 - mse: 16089.9619 - mae: 55.8581 - root_mean_squared_error: 126.8456 - val_loss: 21.0057 - val_mse: 9735.9258 - val_mae: 21.0057 - val_root_mean_squared_error: 98.6707\n",
      "Epoch 25/30\n",
      "1245/1245 [==============================] - 146s 117ms/step - loss: 54.4903 - mse: 15562.3672 - mae: 54.4902 - root_mean_squared_error: 124.7486 - val_loss: 34.3410 - val_mse: 10601.7666 - val_mae: 34.3411 - val_root_mean_squared_error: 102.9648\n",
      "Epoch 26/30\n",
      "1245/1245 [==============================] - 147s 117ms/step - loss: 57.6274 - mse: 18134.1660 - mae: 57.6274 - root_mean_squared_error: 134.6625 - val_loss: 18.3367 - val_mse: 9085.0527 - val_mae: 18.3367 - val_root_mean_squared_error: 95.3155\n",
      "Epoch 27/30\n",
      "1245/1245 [==============================] - 145s 116ms/step - loss: 53.3340 - mse: 14977.8838 - mae: 53.3340 - root_mean_squared_error: 122.3836 - val_loss: 21.3094 - val_mse: 9220.1758 - val_mae: 21.3094 - val_root_mean_squared_error: 96.0216\n",
      "Epoch 28/30\n",
      "1245/1245 [==============================] - 145s 115ms/step - loss: 53.2832 - mse: 14943.7822 - mae: 53.2832 - root_mean_squared_error: 122.2441 - val_loss: 24.3219 - val_mse: 9413.8955 - val_mae: 24.3219 - val_root_mean_squared_error: 97.0251\n",
      "Epoch 29/30\n",
      "1245/1245 [==============================] - 145s 116ms/step - loss: 54.1095 - mse: 15503.3682 - mae: 54.1095 - root_mean_squared_error: 124.5119 - val_loss: 25.6447 - val_mse: 9615.2686 - val_mae: 25.6447 - val_root_mean_squared_error: 98.0574\n",
      "Epoch 30/30\n",
      " 551/1245 [============>.................] - ETA: 1:09 - loss: 53.1848 - mse: 15124.1611 - mae: 53.1847 - root_mean_squared_error: 122.9804"
     ]
    }
   ],
   "source": [
    "NAME = '7_day_prediction_all_features_reshape_network'\n",
    "model.compile(optimizer = 'adam',  loss='mae',  metrics=['mse', 'mae',tf.keras.metrics.RootMeanSquaredError()])\n",
    "checkpoint_cb = keras.callbacks.ModelCheckpoint(f'./data/model/{NAME}.h5', save_best_only=True)\n",
    "early_stopping_cb = keras.callbacks.EarlyStopping(monitor='mae', patience=10, restore_best_weights=True)\n",
    "\n",
    "tensorboard = keras.callbacks.TensorBoard(log_dir=\"logs/predict_7/{}\".format(NAME))\n",
    "history = model.fit(train_ds, epochs=30, \n",
    "                    validation_data=val_ds, \n",
    "                    callbacks=[tensorboard, checkpoint_cb, early_stopping_cb]\n",
    "                   )\n"
   ]
  },
  {
   "cell_type": "code",
   "execution_count": 21,
   "id": "5810e554-61ee-4fb6-9090-bd358da38370",
   "metadata": {},
   "outputs": [
    {
     "name": "stderr",
     "output_type": "stream",
     "text": [
      "WARNING:absl:Found untraced functions such as lstm_cell_6_layer_call_fn, lstm_cell_6_layer_call_and_return_conditional_losses, lstm_cell_7_layer_call_fn, lstm_cell_7_layer_call_and_return_conditional_losses, lstm_cell_8_layer_call_fn while saving (showing 5 of 8). These functions will not be directly callable after loading.\n"
     ]
    },
    {
     "name": "stdout",
     "output_type": "stream",
     "text": [
      "INFO:tensorflow:Assets written to: ./data/model/one_day_predict/all_features_norm_latlong_4_lstm_256_\\assets\n"
     ]
    },
    {
     "name": "stderr",
     "output_type": "stream",
     "text": [
      "INFO:tensorflow:Assets written to: ./data/model/one_day_predict/all_features_norm_latlong_4_lstm_256_\\assets\n",
      "WARNING:absl:<keras.layers.recurrent.LSTMCell object at 0x000002062DB230A0> has the same name 'LSTMCell' as a built-in Keras object. Consider renaming <class 'keras.layers.recurrent.LSTMCell'> to avoid naming conflicts when loading with `tf.keras.models.load_model`. If renaming is not possible, pass the object in the `custom_objects` parameter of the load function.\n",
      "WARNING:absl:<keras.layers.recurrent.LSTMCell object at 0x000002062DB29070> has the same name 'LSTMCell' as a built-in Keras object. Consider renaming <class 'keras.layers.recurrent.LSTMCell'> to avoid naming conflicts when loading with `tf.keras.models.load_model`. If renaming is not possible, pass the object in the `custom_objects` parameter of the load function.\n",
      "WARNING:absl:<keras.layers.recurrent.LSTMCell object at 0x000002062140E7F0> has the same name 'LSTMCell' as a built-in Keras object. Consider renaming <class 'keras.layers.recurrent.LSTMCell'> to avoid naming conflicts when loading with `tf.keras.models.load_model`. If renaming is not possible, pass the object in the `custom_objects` parameter of the load function.\n",
      "WARNING:absl:<keras.layers.recurrent.LSTMCell object at 0x000002062DB8FAF0> has the same name 'LSTMCell' as a built-in Keras object. Consider renaming <class 'keras.layers.recurrent.LSTMCell'> to avoid naming conflicts when loading with `tf.keras.models.load_model`. If renaming is not possible, pass the object in the `custom_objects` parameter of the load function.\n"
     ]
    }
   ],
   "source": [
    "model.save(f'./data/model/7_day_predict/{NAME}')"
   ]
  },
  {
   "cell_type": "code",
   "execution_count": null,
   "id": "bbc5c2bd-0a48-4fa3-b37f-9efc19c2a507",
   "metadata": {},
   "outputs": [],
   "source": []
  }
 ],
 "metadata": {
  "kernelspec": {
   "display_name": "capDL",
   "language": "python",
   "name": "capdl"
  },
  "language_info": {
   "codemirror_mode": {
    "name": "ipython",
    "version": 3
   },
   "file_extension": ".py",
   "mimetype": "text/x-python",
   "name": "python",
   "nbconvert_exporter": "python",
   "pygments_lexer": "ipython3",
   "version": "3.9.5"
  }
 },
 "nbformat": 4,
 "nbformat_minor": 5
}
