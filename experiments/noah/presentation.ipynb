{
 "cells": [
  {
   "cell_type": "code",
   "execution_count": 2,
   "id": "600dc9a5-f20d-4375-86e8-b95c0b1ff0c0",
   "metadata": {},
   "outputs": [
    {
     "name": "stdout",
     "output_type": "stream",
     "text": [
      "Collecting jupyterlab-mathjax3\n",
      "  Downloading jupyterlab_mathjax3-4.3.0-py3-none-any.whl (1.1 MB)\n",
      "     |████████████████████████████████| 1.1 MB 18.0 MB/s            \n",
      "\u001b[?25hInstalling collected packages: jupyterlab-mathjax3\n",
      "Successfully installed jupyterlab-mathjax3-4.3.0\n",
      "\u001b[33mWARNING: You are using pip version 21.3.1; however, version 22.0.3 is available.\n",
      "You should consider upgrading via the '/home/noah/projects/drexel/dsci592/DS-capstone-pt1/env/bin/python -m pip install --upgrade pip' command.\u001b[0m\n"
     ]
    }
   ],
   "source": [
    "!pip install jupyterlab-mathjax3"
   ]
  },
  {
   "cell_type": "markdown",
   "id": "91f7234f-0f8a-4ee9-88f4-bf8bffbbe6a0",
   "metadata": {},
   "source": [
    "# Neural Networks for Predicting Covid-19 Morbidity\n",
    "\n",
    "## Status Update\n",
    "## February 16, 2022\n",
    "\n",
    "#### Evan Falkowski, Noah Krieger, Richard Strouss-Rooney, Alex Van Kooy"
   ]
  },
  {
   "cell_type": "code",
   "execution_count": 5,
   "id": "a792f752-0433-4cf5-837d-008cc26e879b",
   "metadata": {},
   "outputs": [
    {
     "data": {
      "text/latex": [
       "\\sum(0)\n"
      ],
      "text/plain": [
       "<IPython.core.display.Latex object>"
      ]
     },
     "metadata": {},
     "output_type": "display_data"
    }
   ],
   "source": [
    "%%latex\n",
    "\\sum(0)"
   ]
  },
  {
   "cell_type": "markdown",
   "id": "849a444f-9a98-4b16-b806-f8ba90a99da0",
   "metadata": {},
   "source": [
    "$ \\sum $"
   ]
  },
  {
   "cell_type": "markdown",
   "id": "8f1478a8-df02-42e7-b3bf-ed7b992cfc34",
   "metadata": {},
   "source": []
  },
  {
   "cell_type": "markdown",
   "id": "d88a29a9-8a70-4265-b4a3-a5840a3efe22",
   "metadata": {},
   "source": [
    "$a_2$"
   ]
  },
  {
   "cell_type": "code",
   "execution_count": null,
   "id": "9cea85f7-6553-48a0-a36d-a80edbe174ec",
   "metadata": {},
   "outputs": [],
   "source": []
  }
 ],
 "metadata": {
  "kernelspec": {
   "display_name": "Python 3 (ipykernel)",
   "language": "python",
   "name": "python3"
  },
  "language_info": {
   "codemirror_mode": {
    "name": "ipython",
    "version": 3
   },
   "file_extension": ".py",
   "mimetype": "text/x-python",
   "name": "python",
   "nbconvert_exporter": "python",
   "pygments_lexer": "ipython3",
   "version": "3.9.10"
  }
 },
 "nbformat": 4,
 "nbformat_minor": 5
}
