{
 "cells": [
  {
   "cell_type": "code",
   "execution_count": 1,
   "id": "1ea35827-c61d-4f2e-8b3f-81869cbfb6e2",
   "metadata": {},
   "outputs": [
    {
     "name": "stdout",
     "output_type": "stream",
     "text": [
      "Requirement already satisfied: tensorboard in /home/noah/projects/drexel/dsci592/DS-capstone-pt1/env/lib/python3.9/site-packages (2.8.0)\n",
      "Requirement already satisfied: wheel>=0.26 in /home/noah/projects/drexel/dsci592/DS-capstone-pt1/env/lib/python3.9/site-packages (from tensorboard) (0.37.1)\n",
      "Requirement already satisfied: requests<3,>=2.21.0 in /home/noah/projects/drexel/dsci592/DS-capstone-pt1/env/lib/python3.9/site-packages (from tensorboard) (2.27.1)\n",
      "Requirement already satisfied: tensorboard-data-server<0.7.0,>=0.6.0 in /home/noah/projects/drexel/dsci592/DS-capstone-pt1/env/lib/python3.9/site-packages (from tensorboard) (0.6.1)\n",
      "Requirement already satisfied: werkzeug>=0.11.15 in /home/noah/projects/drexel/dsci592/DS-capstone-pt1/env/lib/python3.9/site-packages (from tensorboard) (2.0.2)\n",
      "Requirement already satisfied: google-auth<3,>=1.6.3 in /home/noah/projects/drexel/dsci592/DS-capstone-pt1/env/lib/python3.9/site-packages (from tensorboard) (2.3.3)\n",
      "Requirement already satisfied: absl-py>=0.4 in /home/noah/projects/drexel/dsci592/DS-capstone-pt1/env/lib/python3.9/site-packages (from tensorboard) (1.0.0)\n",
      "Requirement already satisfied: tensorboard-plugin-wit>=1.6.0 in /home/noah/projects/drexel/dsci592/DS-capstone-pt1/env/lib/python3.9/site-packages (from tensorboard) (1.8.1)\n",
      "Requirement already satisfied: grpcio>=1.24.3 in /home/noah/projects/drexel/dsci592/DS-capstone-pt1/env/lib/python3.9/site-packages (from tensorboard) (1.43.0)\n",
      "Requirement already satisfied: setuptools>=41.0.0 in /home/noah/projects/drexel/dsci592/DS-capstone-pt1/env/lib/python3.9/site-packages (from tensorboard) (58.1.0)\n",
      "Requirement already satisfied: protobuf>=3.6.0 in /home/noah/projects/drexel/dsci592/DS-capstone-pt1/env/lib/python3.9/site-packages (from tensorboard) (3.19.3)\n",
      "Requirement already satisfied: numpy>=1.12.0 in /home/noah/projects/drexel/dsci592/DS-capstone-pt1/env/lib/python3.9/site-packages (from tensorboard) (1.22.1)\n",
      "Requirement already satisfied: google-auth-oauthlib<0.5,>=0.4.1 in /home/noah/projects/drexel/dsci592/DS-capstone-pt1/env/lib/python3.9/site-packages (from tensorboard) (0.4.6)\n",
      "Requirement already satisfied: markdown>=2.6.8 in /home/noah/projects/drexel/dsci592/DS-capstone-pt1/env/lib/python3.9/site-packages (from tensorboard) (3.3.6)\n",
      "Requirement already satisfied: six in /home/noah/projects/drexel/dsci592/DS-capstone-pt1/env/lib/python3.9/site-packages (from absl-py>=0.4->tensorboard) (1.16.0)\n",
      "Requirement already satisfied: rsa<5,>=3.1.4 in /home/noah/projects/drexel/dsci592/DS-capstone-pt1/env/lib/python3.9/site-packages (from google-auth<3,>=1.6.3->tensorboard) (4.8)\n",
      "Requirement already satisfied: cachetools<5.0,>=2.0.0 in /home/noah/projects/drexel/dsci592/DS-capstone-pt1/env/lib/python3.9/site-packages (from google-auth<3,>=1.6.3->tensorboard) (4.2.4)\n",
      "Requirement already satisfied: pyasn1-modules>=0.2.1 in /home/noah/projects/drexel/dsci592/DS-capstone-pt1/env/lib/python3.9/site-packages (from google-auth<3,>=1.6.3->tensorboard) (0.2.8)\n",
      "Requirement already satisfied: requests-oauthlib>=0.7.0 in /home/noah/projects/drexel/dsci592/DS-capstone-pt1/env/lib/python3.9/site-packages (from google-auth-oauthlib<0.5,>=0.4.1->tensorboard) (1.3.0)\n",
      "Requirement already satisfied: importlib-metadata>=4.4 in /home/noah/projects/drexel/dsci592/DS-capstone-pt1/env/lib/python3.9/site-packages (from markdown>=2.6.8->tensorboard) (4.10.1)\n",
      "Requirement already satisfied: certifi>=2017.4.17 in /home/noah/projects/drexel/dsci592/DS-capstone-pt1/env/lib/python3.9/site-packages (from requests<3,>=2.21.0->tensorboard) (2021.10.8)\n",
      "Requirement already satisfied: idna<4,>=2.5 in /home/noah/projects/drexel/dsci592/DS-capstone-pt1/env/lib/python3.9/site-packages (from requests<3,>=2.21.0->tensorboard) (3.3)\n",
      "Requirement already satisfied: charset-normalizer~=2.0.0 in /home/noah/projects/drexel/dsci592/DS-capstone-pt1/env/lib/python3.9/site-packages (from requests<3,>=2.21.0->tensorboard) (2.0.10)\n",
      "Requirement already satisfied: urllib3<1.27,>=1.21.1 in /home/noah/projects/drexel/dsci592/DS-capstone-pt1/env/lib/python3.9/site-packages (from requests<3,>=2.21.0->tensorboard) (1.26.8)\n",
      "Requirement already satisfied: zipp>=0.5 in /home/noah/projects/drexel/dsci592/DS-capstone-pt1/env/lib/python3.9/site-packages (from importlib-metadata>=4.4->markdown>=2.6.8->tensorboard) (3.7.0)\n",
      "Requirement already satisfied: pyasn1<0.5.0,>=0.4.6 in /home/noah/projects/drexel/dsci592/DS-capstone-pt1/env/lib/python3.9/site-packages (from pyasn1-modules>=0.2.1->google-auth<3,>=1.6.3->tensorboard) (0.4.8)\n",
      "Requirement already satisfied: oauthlib>=3.0.0 in /home/noah/projects/drexel/dsci592/DS-capstone-pt1/env/lib/python3.9/site-packages (from requests-oauthlib>=0.7.0->google-auth-oauthlib<0.5,>=0.4.1->tensorboard) (3.1.1)\n",
      "\u001b[33mWARNING: You are using pip version 21.3.1; however, version 22.0.3 is available.\n",
      "You should consider upgrading via the '/home/noah/projects/drexel/dsci592/DS-capstone-pt1/env/bin/python -m pip install --upgrade pip' command.\u001b[0m\n"
     ]
    }
   ],
   "source": [
    "!pip install tensorboard"
   ]
  },
  {
   "cell_type": "code",
   "execution_count": 1,
   "id": "b917e656-7fb1-4d9d-aa8d-12d43af60cf6",
   "metadata": {},
   "outputs": [
    {
     "data": {
      "text/html": [
       "\n",
       "      <iframe id=\"tensorboard-frame-964e72cbc58e57da\" width=\"100%\" height=\"800\" frameborder=\"0\">\n",
       "      </iframe>\n",
       "      <script>\n",
       "        (function() {\n",
       "          const frame = document.getElementById(\"tensorboard-frame-964e72cbc58e57da\");\n",
       "          const url = new URL(\"/\", window.location);\n",
       "          const port = 6006;\n",
       "          if (port) {\n",
       "            url.port = port;\n",
       "          }\n",
       "          frame.src = url;\n",
       "        })();\n",
       "      </script>\n",
       "    "
      ],
      "text/plain": [
       "<IPython.core.display.HTML object>"
      ]
     },
     "metadata": {},
     "output_type": "display_data"
    }
   ],
   "source": [
    "%load_ext tensorboard \n",
    "%tensorboard --logdir=./logs --port=6006 --host 0.0.0.0"
   ]
  },
  {
   "cell_type": "code",
   "execution_count": null,
   "id": "a8ca2ca9-2ff7-4be0-a02d-43b8084344a3",
   "metadata": {},
   "outputs": [],
   "source": []
  }
 ],
 "metadata": {
  "kernelspec": {
   "display_name": "Python 3 (ipykernel)",
   "language": "python",
   "name": "python3"
  },
  "language_info": {
   "codemirror_mode": {
    "name": "ipython",
    "version": 3
   },
   "file_extension": ".py",
   "mimetype": "text/x-python",
   "name": "python",
   "nbconvert_exporter": "python",
   "pygments_lexer": "ipython3",
   "version": "3.9.10"
  }
 },
 "nbformat": 4,
 "nbformat_minor": 5
}
