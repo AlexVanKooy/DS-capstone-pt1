{
 "cells": [
  {
   "cell_type": "markdown",
   "id": "e871bf85-e9dc-4b4a-9fd1-669a8a82fd0b",
   "metadata": {},
   "source": [
    "# Baseline analysis for predicting next day's Covid-19 cases from prior 30"
   ]
  },
  {
   "cell_type": "code",
   "execution_count": 117,
   "id": "0960dd8c-3d10-45a1-b695-bf551f93382b",
   "metadata": {},
   "outputs": [],
   "source": [
    "import os\n",
    "import importlib\n",
    "\n",
    "import pandas as pd\n",
    "import numpy as np\n",
    "import tensorflow as tf\n",
    "from sklearn.linear_model import LinearRegression\n",
    "import matplotlib.pyplot as plt\n",
    "\n",
    "\n",
    "import dsci592.model as model"
   ]
  },
  {
   "cell_type": "code",
   "execution_count": 144,
   "id": "47ac5c6d-c753-491e-935c-7a8e24d9da9e",
   "metadata": {},
   "outputs": [
    {
     "data": {
      "text/plain": [
       "<module 'dsci592.model' from '/home/noah/projects/drexel/dsci592/DS-capstone-pt1/code/src/dsci592/model.py'>"
      ]
     },
     "execution_count": 144,
     "metadata": {},
     "output_type": "execute_result"
    }
   ],
   "source": [
    "importlib.reload(model)"
   ]
  },
  {
   "cell_type": "code",
   "execution_count": 3,
   "id": "64db4aa8-5ff6-4965-828f-0c8d8ec952ca",
   "metadata": {},
   "outputs": [],
   "source": [
    "pd.set_option(\"display.max_columns\", None)\n",
    "os.environ['TF_GPU_ALLOCATOR'] = 'cuda_malloc_async'"
   ]
  },
  {
   "cell_type": "code",
   "execution_count": 7,
   "id": "222a4656-3400-4784-83bd-de0a7ff861a9",
   "metadata": {},
   "outputs": [],
   "source": [
    "golden_dataset_file_name = os.path.join('/', 'data', 'projects', 'drexel', 'dsci592', 'feeFiFoFum.pkl')\n",
    "with tf.device('/gpu:1'):  # using other GPU for another task\n",
    "    df = model.load_dataset(golden_dataset_file_name)\n",
    "\n",
    "# train_ds, val_ds, test_ds = model.get_train_test_eval_ds()\n"
   ]
  },
  {
   "cell_type": "code",
   "execution_count": 8,
   "id": "aa6f8f90-b4f5-4941-a835-981877099d14",
   "metadata": {},
   "outputs": [],
   "source": [
    "def get_new_loop():\n",
    "    train_ds, val_ds, test_ds = model.get_train_test_eval_ds()\n",
    "    return ('train', train_ds), ('validate', val_ds), ('test', test_ds)\n",
    "    "
   ]
  },
  {
   "cell_type": "markdown",
   "id": "2da1802b-8326-4fdd-a8bd-aa03609f5c7f",
   "metadata": {},
   "source": [
    "## Baseline 1: Guess zero every time"
   ]
  },
  {
   "cell_type": "code",
   "execution_count": 20,
   "id": "d21c5b76-501d-45d9-b0a4-480733186a09",
   "metadata": {},
   "outputs": [
    {
     "name": "stdout",
     "output_type": "stream",
     "text": [
      "train: 1738.2500355774011\n",
      "validate: 1754.9772079984493\n",
      "test: 1739.3318410911274\n"
     ]
    }
   ],
   "source": [
    "for name, ds in get_new_loop():\n",
    "    sum = count = 0\n",
    "    for _, y in ds:\n",
    "        y_ = y.numpy().flatten()\n",
    "        sum += y_.sum()\n",
    "        count += y_.shape[0]\n",
    "    print(f'{name}: {sum/count}')\n"
   ]
  },
  {
   "cell_type": "markdown",
   "id": "4221ba69-4c88-447c-8807-ffaee6b782b4",
   "metadata": {},
   "source": [
    "## Baseline 2: Guess the 30th date every time"
   ]
  },
  {
   "cell_type": "code",
   "execution_count": 51,
   "id": "8390155e-0e11-451c-a2d8-0203281ead8a",
   "metadata": {},
   "outputs": [
    {
     "name": "stdout",
     "output_type": "stream",
     "text": [
      "train: 9.785121290955985\n",
      "validate: 9.549475865976769\n",
      "test: 9.840210704599464\n"
     ]
    }
   ],
   "source": [
    "for name, ds in get_new_loop():\n",
    "    errors = count = 0\n",
    "    for x, y in ds:\n",
    "        y_ = y.numpy().flatten()        \n",
    "        x_ = x.numpy()[:,-1:,:1].flatten()\n",
    "        errors += np.sum(np.abs(y_ - x_))\n",
    "        count += y_.shape[0]\n",
    "    print(f'{name}: {errors/count}')\n"
   ]
  },
  {
   "cell_type": "markdown",
   "id": "43732162-6629-4680-8bbb-5815fe8bf019",
   "metadata": {},
   "source": [
    "## Baseline 3: Guess the mean of the 30 days every time"
   ]
  },
  {
   "cell_type": "code",
   "execution_count": 63,
   "id": "162025b6-a7e8-489c-a02d-15bd64f0be61",
   "metadata": {},
   "outputs": [
    {
     "name": "stdout",
     "output_type": "stream",
     "text": [
      "train: 121.31485035080716\n",
      "validate: 120.17304839525893\n",
      "test: 120.88257879796626\n"
     ]
    }
   ],
   "source": [
    "for name, ds in get_new_loop():\n",
    "    errors = count = 0\n",
    "    for x, y in ds:\n",
    "        y_ = y.numpy().flatten()        \n",
    "        x_ = x.numpy()[:,:,:1]\n",
    "        x_ = np.mean(x_, axis=1).flatten()\n",
    "        errors += np.sum(np.abs(y_ - x_))\n",
    "        count += y_.shape[0]\n",
    "    print(f'{name}: {errors/count}')\n"
   ]
  },
  {
   "cell_type": "markdown",
   "id": "8931e728-ed64-4668-ae89-f2c5111893aa",
   "metadata": {},
   "source": [
    "## Baseline 4: Linear regression"
   ]
  },
  {
   "cell_type": "code",
   "execution_count": 116,
   "id": "1b5d5fae-72d0-4521-90d5-ec0c58e08782",
   "metadata": {},
   "outputs": [
    {
     "name": "stdout",
     "output_type": "stream",
     "text": [
      "train: [[36.93661786]]\n",
      "validate: [[36.07154467]]\n",
      "test: [[36.6260068]]\n"
     ]
    }
   ],
   "source": [
    "for name, ds in get_new_loop():\n",
    "    errors = count = 0\n",
    "    lr = LinearRegression()\n",
    "    for x, y in ds:\n",
    "        y_ = y.numpy().flatten()        \n",
    "        x_ = x.numpy()[:,:,:1]\n",
    "        days = x_.shape[1]\n",
    "        z = np.arange(days).reshape(-1,1)\n",
    "        next_date = np.array([days + 1]).reshape(-1,1)\n",
    "        for i in range(x_.shape[0]):\n",
    "            lr.fit(z,x_[i])\n",
    "            errors += np.abs(y[i] - lr.predict(next_date)[0][0])\n",
    "            count += 1\n",
    "    print(f'{name}: {errors[0][0]/count}')\n"
   ]
  },
  {
   "cell_type": "code",
   "execution_count": 142,
   "id": "158dc738-1f32-49a3-892d-3c02e404bb86",
   "metadata": {},
   "outputs": [
    {
     "data": {
      "image/png": "[encoded data removed]",
      "text/plain": [
       "<Figure size 432x288 with 1 Axes>"
      ]
     },
     "metadata": {
      "needs_background": "light"
     },
     "output_type": "display_data"
    }
   ],
   "source": [
    "z = np.arange(days).reshape(-1,1)\n",
    "plt.scatter(z, x_[i], color=\"black\", label='Training')\n",
    "z_ = np.arange(days+1).reshape(-1,1)\n",
    "plt.plot(z_, lr.predict(z_), color=\"blue\", linewidth=1)\n",
    "plt.scatter(30, y_[i], marker='*', label='Actual')\n",
    "plt.scatter(30, lr.predict(z_)[-1], marker='+', label='Predicted')\n",
    "plt.ylabel('Covid-19 Cases')\n",
    "plt.xlabel('Days')\n",
    "plt.legend()\n",
    "# plt.xticks(())\n",
    "# plt.yticks(())\n",
    "plt.savefig('linear_regression_example.png')\n",
    "_ = plt.show()\n"
   ]
  },
  {
   "cell_type": "markdown",
   "id": "9e89b515-a451-462d-b9b5-ca6ce883d7fc",
   "metadata": {},
   "source": [
    "# Baseline analysis for predicting next seven day's Covid-19 cases from prior 30"
   ]
  },
  {
   "cell_type": "code",
   "execution_count": 230,
   "id": "31c475db-8992-4cfd-b980-b695e04ff23e",
   "metadata": {},
   "outputs": [],
   "source": [
    "# train_ds, val_ds, test_ds = model.get_train_test_eval_ds(train='./data/train7/x_*.npy', test='./data/test7/x_*.npy', eval_='./data/eval7/x_*.npy', days_to_predict=7)\n",
    "\n",
    "DAYS_TO_PREDICT=3\n",
    "\n",
    "def get_new_loop():\n",
    "    train_ds, val_ds, test_ds = model.get_train_test_eval_ds(train='./data/train7/x_*.npy', test='./data/test7/x_*.npy', eval_='./data/eval7/x_*.npy', days_to_predict=DAYS_TO_PREDICT)\n",
    "    return ('train', train_ds), ('validate', val_ds), ('test', test_ds)"
   ]
  },
  {
   "cell_type": "markdown",
   "id": "66beea64-1b23-406d-807e-a99d207a9bf0",
   "metadata": {},
   "source": [
    "## Baseline 1: Guess zero every time"
   ]
  },
  {
   "cell_type": "code",
   "execution_count": 190,
   "id": "3fbe621c-e1aa-4f24-80ba-27664ec30567",
   "metadata": {},
   "outputs": [
    {
     "name": "stdout",
     "output_type": "stream",
     "text": [
      "train mae for day 0: 1756.0914379124538\n",
      "validate mae for day 0: 1802.5589782118707\n",
      "test mae for day 0: 1719.388321305421\n"
     ]
    }
   ],
   "source": [
    "for name, ds in get_new_loop():\n",
    "    errors = np.zeros(DAYS_TO_PREDICT)\n",
    "    count = 0\n",
    "    for _, y in ds:\n",
    "        count += y_.shape[0]\n",
    "        y_ = y.numpy().squeeze()\n",
    "        x_  = np.ones(y_.shape)\n",
    "        errors += np.sum(np.abs(y_ - x_), axis=0)\n",
    "    for i in range(DAYS_TO_PREDICT):\n",
    "        print(f'{name} mae for day {i}: {errors[i]/count}')"
   ]
  },
  {
   "cell_type": "code",
   "execution_count": 188,
   "id": "7ef870f0-941a-4506-bb53-6f287e290db0",
   "metadata": {},
   "outputs": [
    {
     "name": "stdout",
     "output_type": "stream",
     "text": [
      "train mae for day 0: [1756.4777]\n",
      "validate mae for day 0: [1798.8082]\n",
      "test mae for day 0: [1720.9961]\n"
     ]
    }
   ],
   "source": [
    "# OLD VERSION -- SLOW!!!!\n",
    "for name, ds in get_new_loop():\n",
    "    sums = [0] * DAYS_TO_PREDICT\n",
    "    counts = [0] * DAYS_TO_PREDICT\n",
    "    for _, ys in ds:\n",
    "        for y_days in ys:\n",
    "            for i, y in enumerate(y_days):\n",
    "                sums[i] += y\n",
    "                counts[i] += 1\n",
    "    for i in range(DAYS_TO_PREDICT):\n",
    "        print(f'{name} mae for day {i}: {sums[i]/counts[i]}')\n"
   ]
  },
  {
   "cell_type": "markdown",
   "id": "407d390c-d5d5-40fe-a9ef-9089d2c5abca",
   "metadata": {},
   "source": [
    "## Baseline 2: Guess the 30th date every time"
   ]
  },
  {
   "cell_type": "code",
   "execution_count": 231,
   "id": "b73b40d8-0665-4a6a-bdc4-7bed6a7bd4e2",
   "metadata": {},
   "outputs": [
    {
     "name": "stdout",
     "output_type": "stream",
     "text": [
      "(995, 3)\n",
      "[[1873. 1873. 1972.]\n",
      " [1189. 1195. 1204.]\n",
      " [1848. 1848. 1873.]\n",
      " [2645. 2645. 2645.]\n",
      " [2599. 2599. 2599.]]\n",
      "\n",
      "[[1873.]\n",
      " [1183.]\n",
      " [1759.]\n",
      " [2632.]\n",
      " [2599.]]\n",
      "\n",
      "[[1873. 1873. 1873.]\n",
      " [1183. 1183. 1183.]\n",
      " [1759. 1759. 1759.]\n",
      " [2632. 2632. 2632.]\n",
      " [2599. 2599. 2599.]]\n",
      "(995, 3)\n"
     ]
    },
    {
     "ename": "NameError",
     "evalue": "name 'abort' is not defined",
     "output_type": "error",
     "traceback": [
      "\u001b[0;31m---------------------------------------------------------------------------\u001b[0m",
      "\u001b[0;31mNameError\u001b[0m                                 Traceback (most recent call last)",
      "Input \u001b[0;32mIn [231]\u001b[0m, in \u001b[0;36m<module>\u001b[0;34m\u001b[0m\n\u001b[1;32m     16\u001b[0m     \u001b[38;5;28mprint\u001b[39m(x_[:\u001b[38;5;241m5\u001b[39m])\n\u001b[1;32m     17\u001b[0m     \u001b[38;5;28mprint\u001b[39m(x_\u001b[38;5;241m.\u001b[39mshape)\n\u001b[0;32m---> 18\u001b[0m     \u001b[43mabort\u001b[49m\n\u001b[1;32m     19\u001b[0m     errors \u001b[38;5;241m+\u001b[39m\u001b[38;5;241m=\u001b[39m np\u001b[38;5;241m.\u001b[39msum(np\u001b[38;5;241m.\u001b[39mabs(y_ \u001b[38;5;241m-\u001b[39m x_), axis\u001b[38;5;241m=\u001b[39m\u001b[38;5;241m0\u001b[39m)\n\u001b[1;32m     20\u001b[0m \u001b[38;5;28;01mfor\u001b[39;00m i \u001b[38;5;129;01min\u001b[39;00m \u001b[38;5;28mrange\u001b[39m(DAYS_TO_PREDICT):\n",
      "\u001b[0;31mNameError\u001b[0m: name 'abort' is not defined"
     ]
    }
   ],
   "source": [
    "for name, ds in get_new_loop():\n",
    "    errors = np.zeros(DAYS_TO_PREDICT)\n",
    "    count = 0\n",
    "    for x, y in ds:\n",
    "        count += x_.shape[0]\n",
    "        y_ = y.numpy().squeeze(-1)\n",
    "        # print(y_.shape)\n",
    "        # print(y_[:5])\n",
    "        # print()\n",
    "        x_ = x.numpy()[:,-1:,:1]\n",
    "        x_ = x_.reshape(-1,1)\n",
    "        # print(x_[:5])\n",
    "        # print()\n",
    "        x_ = np.repeat(x_, DAYS_TO_PREDICT, axis=1)\n",
    "        # print(x_[:5])\n",
    "        # print(x_.shape)\n",
    "        errors += np.sum(np.abs(y_ - x_), axis=0)\n",
    "    for i in range(DAYS_TO_PREDICT):\n",
    "        print(f'{name} mae for day {i}: {errors[i]/count}')\n"
   ]
  },
  {
   "cell_type": "code",
   "execution_count": null,
   "id": "8881e33b-dc82-4d74-8924-092cfa315e78",
   "metadata": {},
   "outputs": [],
   "source": [
    "(995, 1)\n",
    "[[1972.]\n",
    " [1204.]\n",
    " [1873.]\n",
    " [2645.]\n",
    " [2599.]]\n",
    "\n",
    "[[1873.]\n",
    " [1195.]\n",
    " [1848.]\n",
    " [2645.]\n",
    " [2599.]]\n",
    "\n",
    "[[1873.]\n",
    " [1195.]\n",
    " [1848.]\n",
    " [2645.]\n",
    " [2599.]]\n",
    "(995, 1)\n",
    "\n",
    "\n",
    "(995, 2)\n",
    "[[1873. 1972.]\n",
    " [1195. 1204.]\n",
    " [1848. 1873.]\n",
    " [2645. 2645.]\n",
    " [2599. 2599.]]\n",
    "\n",
    "[[1873.]\n",
    " [1189.]\n",
    " [1848.]\n",
    " [2645.]\n",
    " [2599.]]\n",
    "\n",
    "[[1873. 1873.]\n",
    " [1189. 1189.]\n",
    " [1848. 1848.]\n",
    " [2645. 2645.]\n",
    " [2599. 2599.]]\n",
    "(995, 2)\n",
    "\n",
    "(995, 3)\n",
    "[[1873. 1873. 1972.]\n",
    " [1189. 1195. 1204.]\n",
    " [1848. 1848. 1873.]\n",
    " [2645. 2645. 2645.]\n",
    " [2599. 2599. 2599.]]\n",
    "\n",
    "[[1873.]\n",
    " [1183.]\n",
    " [1759.]\n",
    " [2632.]\n",
    " [2599.]]\n",
    "\n",
    "[[1873. 1873. 1873.]\n",
    " [1183. 1183. 1183.]\n",
    " [1759. 1759. 1759.]\n",
    " [2632. 2632. 2632.]\n",
    " [2599. 2599. 2599.]]\n",
    "(995, 3)"
   ]
  },
  {
   "cell_type": "code",
   "execution_count": 185,
   "id": "f0c783e6-d2da-448c-905c-1c0854e5133a",
   "metadata": {},
   "outputs": [
    {
     "data": {
      "text/plain": [
       "array([1759., 1759., 1759., 1759., 1759., 1759., 1759.], dtype=float32)"
      ]
     },
     "execution_count": 185,
     "metadata": {},
     "output_type": "execute_result"
    }
   ],
   "source": [
    "train mae for day 0: 9.840150955581118\n",
    "validate mae for day 0: 9.792210488958693\n",
    "test mae for day 0: 9.854986715908877"
   ]
  },
  {
   "cell_type": "code",
   "execution_count": null,
   "id": "8f93eb69-7db1-45d9-889f-9d8bed726c24",
   "metadata": {},
   "outputs": [],
   "source": []
  },
  {
   "cell_type": "code",
   "execution_count": 184,
   "id": "0bb2aea5-59be-4123-997a-e0c38fece99e",
   "metadata": {},
   "outputs": [
    {
     "data": {
      "text/plain": [
       "array([1759., 1848., 1848., 1873., 1873., 1873., 1972.], dtype=float32)"
      ]
     },
     "execution_count": 184,
     "metadata": {},
     "output_type": "execute_result"
    }
   ],
   "source": [
    "y_[0]"
   ]
  },
  {
   "cell_type": "code",
   "execution_count": 179,
   "id": "089e8227-5170-4beb-a967-8800ab550054",
   "metadata": {},
   "outputs": [
    {
     "data": {
      "text/plain": [
       "array([[1759., 1759., 1759., ..., 1759., 1759., 1759.],\n",
       "       [1131., 1131., 1131., ..., 1131., 1131., 1131.],\n",
       "       [1733., 1733., 1733., ..., 1733., 1733., 1733.],\n",
       "       ...,\n",
       "       [ 961.,  961.,  961., ...,  961.,  961.,  961.],\n",
       "       [ 515.,  515.,  515., ...,  515.,  515.,  515.],\n",
       "       [1282., 1282., 1282., ..., 1282., 1282., 1282.]], dtype=float32)"
      ]
     },
     "execution_count": 179,
     "metadata": {},
     "output_type": "execute_result"
    }
   ],
   "source": [
    "x_"
   ]
  },
  {
   "cell_type": "code",
   "execution_count": null,
   "id": "bf6c49c7-081b-4e1c-b9dd-0a7fa070f4b0",
   "metadata": {},
   "outputs": [],
   "source": []
  },
  {
   "cell_type": "code",
   "execution_count": null,
   "id": "1836ed22-38a9-4f98-b588-e0cff8f1ab2e",
   "metadata": {},
   "outputs": [],
   "source": []
  },
  {
   "cell_type": "code",
   "execution_count": null,
   "id": "d9db3bdf-16ef-4158-87a3-49cd22c1ca62",
   "metadata": {},
   "outputs": [],
   "source": []
  },
  {
   "cell_type": "code",
   "execution_count": null,
   "id": "746bbb1c-e477-4833-a395-ecdb3796e50e",
   "metadata": {},
   "outputs": [],
   "source": []
  },
  {
   "cell_type": "code",
   "execution_count": 112,
   "id": "8e3d5d9a-d14b-460f-9b04-97679b3e3646",
   "metadata": {},
   "outputs": [
    {
     "data": {
      "text/plain": [
       "6.5670003707823525"
      ]
     },
     "execution_count": 112,
     "metadata": {},
     "output_type": "execute_result"
    }
   ],
   "source": [
    "x = x_[0]\n",
    "z = np.arange(x.shape[0]).reshape(-1,1)\n",
    "y = y_[0]\n",
    "# z = np.expand_dims(z,1)\n",
    "lr = LinearRegression()\n",
    "lr.fit(z,x)\n",
    "np.abs(y - lr.predict(np.array([31]).reshape(-1,1))[0][0])"
   ]
  },
  {
   "cell_type": "code",
   "execution_count": 104,
   "id": "0dcbcf3b-0c69-4e46-bd81-af49502ccb78",
   "metadata": {},
   "outputs": [
    {
     "data": {
      "text/plain": [
       "array([[ 0],\n",
       "       [ 1],\n",
       "       [ 2],\n",
       "       [ 3],\n",
       "       [ 4],\n",
       "       [ 5],\n",
       "       [ 6],\n",
       "       [ 7],\n",
       "       [ 8],\n",
       "       [ 9],\n",
       "       [10],\n",
       "       [11],\n",
       "       [12],\n",
       "       [13],\n",
       "       [14],\n",
       "       [15],\n",
       "       [16],\n",
       "       [17],\n",
       "       [18],\n",
       "       [19],\n",
       "       [20],\n",
       "       [21],\n",
       "       [22],\n",
       "       [23],\n",
       "       [24],\n",
       "       [25],\n",
       "       [26],\n",
       "       [27],\n",
       "       [28],\n",
       "       [29]])"
      ]
     },
     "execution_count": 104,
     "metadata": {},
     "output_type": "execute_result"
    }
   ],
   "source": [
    "z"
   ]
  },
  {
   "cell_type": "code",
   "execution_count": 91,
   "id": "1afcd49f-e9ab-4b73-b850-6123189ab3af",
   "metadata": {},
   "outputs": [
    {
     "name": "stdout",
     "output_type": "stream",
     "text": [
      "(30, 1)\n"
     ]
    },
    {
     "data": {
      "text/plain": [
       "array([[  0., 488.],\n",
       "       [  1., 491.],\n",
       "       [  2., 492.],\n",
       "       [  3., 498.],\n",
       "       [  4., 500.],\n",
       "       [  5., 515.],\n",
       "       [  6., 530.],\n",
       "       [  7., 530.],\n",
       "       [  8., 531.],\n",
       "       [  9., 532.],\n",
       "       [ 10., 538.],\n",
       "       [ 11., 548.],\n",
       "       [ 12., 553.],\n",
       "       [ 13., 569.],\n",
       "       [ 14., 578.],\n",
       "       [ 15., 579.],\n",
       "       [ 16., 579.],\n",
       "       [ 17., 582.],\n",
       "       [ 18., 591.],\n",
       "       [ 19., 595.],\n",
       "       [ 20., 606.],\n",
       "       [ 21., 633.],\n",
       "       [ 22., 638.],\n",
       "       [ 23., 640.],\n",
       "       [ 24., 651.],\n",
       "       [ 25., 662.],\n",
       "       [ 26., 672.],\n",
       "       [ 27., 687.],\n",
       "       [ 28., 687.],\n",
       "       [ 29., 692.]])"
      ]
     },
     "execution_count": 91,
     "metadata": {},
     "output_type": "execute_result"
    }
   ],
   "source": [
    "z = np.arange(x.shape[0])\n",
    "z = np.expand_dims(z,1)\n",
    "print(z.shape)\n",
    "x = np.concatenate((z, x), axis=1)"
   ]
  },
  {
   "cell_type": "code",
   "execution_count": 95,
   "id": "e37e0269-8843-48fa-a596-a1ca10c1255a",
   "metadata": {},
   "outputs": [
    {
     "data": {
      "text/plain": [
       "array([16.])"
      ]
     },
     "execution_count": 95,
     "metadata": {},
     "output_type": "execute_result"
    }
   ],
   "source": [
    "X = np.array([[1, 1], [1, 2], [2, 2], [2, 3]])\n",
    "# y = 1 * x_0 + 2 * x_1 + 3\n",
    "y = np.dot(X, np.array([1, 2])) + 3\n",
    "reg = LinearRegression().fit(X, y)\n",
    "reg.score(X, y)\n",
    "\n",
    "reg.coef_\n",
    "\n",
    "reg.intercept_\n",
    "\n",
    "reg.predict(np.array([[3, 5]]))"
   ]
  },
  {
   "cell_type": "code",
   "execution_count": 97,
   "id": "62a349e9-2790-47db-9710-31dda7ee842b",
   "metadata": {},
   "outputs": [
    {
     "data": {
      "text/plain": [
       "(4,)"
      ]
     },
     "execution_count": 97,
     "metadata": {},
     "output_type": "execute_result"
    }
   ],
   "source": [
    "y.shape"
   ]
  },
  {
   "cell_type": "code",
   "execution_count": null,
   "id": "deedebd9-500e-48b8-b5e4-5fbaf2e4689d",
   "metadata": {},
   "outputs": [],
   "source": []
  }
 ],
 "metadata": {
  "kernelspec": {
   "display_name": "Python 3 (ipykernel)",
   "language": "python",
   "name": "python3"
  },
  "language_info": {
   "codemirror_mode": {
    "name": "ipython",
    "version": 3
   },
   "file_extension": ".py",
   "mimetype": "text/x-python",
   "name": "python",
   "nbconvert_exporter": "python",
   "pygments_lexer": "ipython3",
   "version": "3.9.10"
  }
 },
 "nbformat": 4,
 "nbformat_minor": 5
}
