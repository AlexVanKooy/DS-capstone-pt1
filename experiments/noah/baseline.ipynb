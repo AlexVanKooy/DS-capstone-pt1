{
 "cells": [
  {
   "cell_type": "markdown",
   "id": "e871bf85-e9dc-4b4a-9fd1-669a8a82fd0b",
   "metadata": {},
   "source": [
    "# Baseline analysis for predicting next day's Covid-19 cases from prior 30"
   ]
  },
  {
   "cell_type": "code",
   "execution_count": 1,
   "id": "0960dd8c-3d10-45a1-b695-bf551f93382b",
   "metadata": {},
   "outputs": [],
   "source": [
    "import os\n",
    "import importlib\n",
    "import random\n",
    "from collections import defaultdict\n",
    "import math\n",
    "\n",
    "import pandas as pd\n",
    "import numpy as np\n",
    "import tensorflow as tf\n",
    "from sklearn.linear_model import LinearRegression\n",
    "import matplotlib.pyplot as plt\n",
    "\n",
    "\n",
    "import dsci592.model as model"
   ]
  },
  {
   "cell_type": "code",
   "execution_count": 2,
   "id": "47ac5c6d-c753-491e-935c-7a8e24d9da9e",
   "metadata": {},
   "outputs": [
    {
     "data": {
      "text/plain": [
       "<module 'dsci592.model' from '/home/noah/projects/drexel/dsci592/DS-capstone-pt1/code/src/dsci592/model.py'>"
      ]
     },
     "execution_count": 2,
     "metadata": {},
     "output_type": "execute_result"
    }
   ],
   "source": [
    "importlib.reload(model)"
   ]
  },
  {
   "cell_type": "code",
   "execution_count": 3,
   "id": "64db4aa8-5ff6-4965-828f-0c8d8ec952ca",
   "metadata": {},
   "outputs": [],
   "source": [
    "pd.set_option(\"display.max_columns\", None)\n",
    "os.environ['TF_GPU_ALLOCATOR'] = 'cuda_malloc_async'"
   ]
  },
  {
   "cell_type": "code",
   "execution_count": 4,
   "id": "222a4656-3400-4784-83bd-de0a7ff861a9",
   "metadata": {},
   "outputs": [
    {
     "name": "stderr",
     "output_type": "stream",
     "text": [
      "2022-02-28 19:10:21.959058: I tensorflow/stream_executor/cuda/cuda_gpu_executor.cc:939] successful NUMA node read from SysFS had negative value (-1), but there must be at least one NUMA node, so returning NUMA node zero\n",
      "2022-02-28 19:10:21.959909: I tensorflow/stream_executor/cuda/cuda_gpu_executor.cc:939] successful NUMA node read from SysFS had negative value (-1), but there must be at least one NUMA node, so returning NUMA node zero\n",
      "2022-02-28 19:10:22.018490: I tensorflow/stream_executor/cuda/cuda_gpu_executor.cc:939] successful NUMA node read from SysFS had negative value (-1), but there must be at least one NUMA node, so returning NUMA node zero\n",
      "2022-02-28 19:10:22.018750: I tensorflow/stream_executor/cuda/cuda_gpu_executor.cc:939] successful NUMA node read from SysFS had negative value (-1), but there must be at least one NUMA node, so returning NUMA node zero\n",
      "2022-02-28 19:10:22.018980: I tensorflow/stream_executor/cuda/cuda_gpu_executor.cc:939] successful NUMA node read from SysFS had negative value (-1), but there must be at least one NUMA node, so returning NUMA node zero\n",
      "2022-02-28 19:10:22.019212: I tensorflow/stream_executor/cuda/cuda_gpu_executor.cc:939] successful NUMA node read from SysFS had negative value (-1), but there must be at least one NUMA node, so returning NUMA node zero\n",
      "2022-02-28 19:10:22.019797: I tensorflow/core/platform/cpu_feature_guard.cc:151] This TensorFlow binary is optimized with oneAPI Deep Neural Network Library (oneDNN) to use the following CPU instructions in performance-critical operations:  AVX2 FMA\n",
      "To enable them in other operations, rebuild TensorFlow with the appropriate compiler flags.\n",
      "2022-02-28 19:10:22.183331: I tensorflow/stream_executor/cuda/cuda_gpu_executor.cc:939] successful NUMA node read from SysFS had negative value (-1), but there must be at least one NUMA node, so returning NUMA node zero\n",
      "2022-02-28 19:10:22.183556: I tensorflow/stream_executor/cuda/cuda_gpu_executor.cc:939] successful NUMA node read from SysFS had negative value (-1), but there must be at least one NUMA node, so returning NUMA node zero\n",
      "2022-02-28 19:10:22.183748: I tensorflow/stream_executor/cuda/cuda_gpu_executor.cc:939] successful NUMA node read from SysFS had negative value (-1), but there must be at least one NUMA node, so returning NUMA node zero\n",
      "2022-02-28 19:10:22.183920: I tensorflow/stream_executor/cuda/cuda_gpu_executor.cc:939] successful NUMA node read from SysFS had negative value (-1), but there must be at least one NUMA node, so returning NUMA node zero\n",
      "2022-02-28 19:10:22.184097: I tensorflow/stream_executor/cuda/cuda_gpu_executor.cc:939] successful NUMA node read from SysFS had negative value (-1), but there must be at least one NUMA node, so returning NUMA node zero\n",
      "2022-02-28 19:10:22.184279: I tensorflow/stream_executor/cuda/cuda_gpu_executor.cc:939] successful NUMA node read from SysFS had negative value (-1), but there must be at least one NUMA node, so returning NUMA node zero\n",
      "2022-02-28 19:10:22.701556: I tensorflow/stream_executor/cuda/cuda_gpu_executor.cc:939] successful NUMA node read from SysFS had negative value (-1), but there must be at least one NUMA node, so returning NUMA node zero\n",
      "2022-02-28 19:10:22.701807: I tensorflow/stream_executor/cuda/cuda_gpu_executor.cc:939] successful NUMA node read from SysFS had negative value (-1), but there must be at least one NUMA node, so returning NUMA node zero\n",
      "2022-02-28 19:10:22.701997: I tensorflow/stream_executor/cuda/cuda_gpu_executor.cc:939] successful NUMA node read from SysFS had negative value (-1), but there must be at least one NUMA node, so returning NUMA node zero\n",
      "2022-02-28 19:10:22.702184: I tensorflow/stream_executor/cuda/cuda_gpu_executor.cc:939] successful NUMA node read from SysFS had negative value (-1), but there must be at least one NUMA node, so returning NUMA node zero\n",
      "2022-02-28 19:10:22.702367: I tensorflow/stream_executor/cuda/cuda_gpu_executor.cc:939] successful NUMA node read from SysFS had negative value (-1), but there must be at least one NUMA node, so returning NUMA node zero\n",
      "2022-02-28 19:10:22.702519: I tensorflow/core/common_runtime/gpu/gpu_process_state.cc:214] Using CUDA malloc Async allocator for GPU: 0\n",
      "2022-02-28 19:10:22.702605: I tensorflow/core/common_runtime/gpu/gpu_device.cc:1525] Created device /job:localhost/replica:0/task:0/device:GPU:0 with 4657 MB memory:  -> device: 0, name: NVIDIA GeForce GTX 1660 Ti, pci bus id: 0000:03:00.0, compute capability: 7.5\n",
      "2022-02-28 19:10:22.702811: I tensorflow/stream_executor/cuda/cuda_gpu_executor.cc:939] successful NUMA node read from SysFS had negative value (-1), but there must be at least one NUMA node, so returning NUMA node zero\n",
      "2022-02-28 19:10:22.702966: I tensorflow/core/common_runtime/gpu/gpu_process_state.cc:214] Using CUDA malloc Async allocator for GPU: 1\n",
      "2022-02-28 19:10:22.709768: I tensorflow/core/common_runtime/gpu/gpu_device.cc:1525] Created device /job:localhost/replica:0/task:0/device:GPU:1 with 4657 MB memory:  -> device: 1, name: NVIDIA GeForce GTX 1660 Ti, pci bus id: 0000:04:00.0, compute capability: 7.5\n"
     ]
    }
   ],
   "source": [
    "golden_dataset_file_name = os.path.join('/', 'data', 'projects', 'drexel', 'dsci592', 'feeFiFoFum.pkl')\n",
    "# with tf.device('/gpu:1'):  # using other GPU for another task\n",
    "    # df = model.load_dataset(golden_dataset_file_name)\n",
    "\n",
    "df = model.load_dataset(golden_dataset_file_name)\n"
   ]
  },
  {
   "cell_type": "code",
   "execution_count": 8,
   "id": "aa6f8f90-b4f5-4941-a835-981877099d14",
   "metadata": {},
   "outputs": [],
   "source": [
    "def get_new_loop():\n",
    "    train_ds, val_ds, test_ds = model.get_train_test_eval_ds()\n",
    "    return ('train', train_ds), ('validate', val_ds), ('test', test_ds)\n",
    "    "
   ]
  },
  {
   "cell_type": "markdown",
   "id": "2da1802b-8326-4fdd-a8bd-aa03609f5c7f",
   "metadata": {},
   "source": [
    "## Baseline 1: Guess zero every time"
   ]
  },
  {
   "cell_type": "code",
   "execution_count": 20,
   "id": "d21c5b76-501d-45d9-b0a4-480733186a09",
   "metadata": {},
   "outputs": [
    {
     "name": "stdout",
     "output_type": "stream",
     "text": [
      "train: 1738.2500355774011\n",
      "validate: 1754.9772079984493\n",
      "test: 1739.3318410911274\n"
     ]
    }
   ],
   "source": [
    "for name, ds in get_new_loop():\n",
    "    sum = count = 0\n",
    "    for _, y in ds:\n",
    "        y_ = y.numpy().flatten()\n",
    "        sum += y_.sum()\n",
    "        count += y_.shape[0]\n",
    "    print(f'{name}: {sum/count}')\n"
   ]
  },
  {
   "cell_type": "markdown",
   "id": "4221ba69-4c88-447c-8807-ffaee6b782b4",
   "metadata": {},
   "source": [
    "## Baseline 2: Guess the 30th date every time"
   ]
  },
  {
   "cell_type": "code",
   "execution_count": 51,
   "id": "8390155e-0e11-451c-a2d8-0203281ead8a",
   "metadata": {},
   "outputs": [
    {
     "name": "stdout",
     "output_type": "stream",
     "text": [
      "train: 9.785121290955985\n",
      "validate: 9.549475865976769\n",
      "test: 9.840210704599464\n"
     ]
    }
   ],
   "source": [
    "for name, ds in get_new_loop():\n",
    "    errors = count = 0\n",
    "    for x, y in ds:\n",
    "        y_ = y.numpy().flatten()        \n",
    "        x_ = x.numpy()[:,-1:,:1].flatten()\n",
    "        errors += np.sum(np.abs(y_ - x_))\n",
    "        count += y_.shape[0]\n",
    "    print(f'{name}: {errors/count}')\n"
   ]
  },
  {
   "cell_type": "markdown",
   "id": "43732162-6629-4680-8bbb-5815fe8bf019",
   "metadata": {},
   "source": [
    "## Baseline 3: Guess the mean of the 30 days every time"
   ]
  },
  {
   "cell_type": "code",
   "execution_count": 63,
   "id": "162025b6-a7e8-489c-a02d-15bd64f0be61",
   "metadata": {},
   "outputs": [
    {
     "name": "stdout",
     "output_type": "stream",
     "text": [
      "train: 121.31485035080716\n",
      "validate: 120.17304839525893\n",
      "test: 120.88257879796626\n"
     ]
    }
   ],
   "source": [
    "for name, ds in get_new_loop():\n",
    "    errors = count = 0\n",
    "    for x, y in ds:\n",
    "        y_ = y.numpy().flatten()        \n",
    "        x_ = x.numpy()[:,:,:1]\n",
    "        x_ = np.mean(x_, axis=1).flatten()\n",
    "        errors += np.sum(np.abs(y_ - x_))\n",
    "        count += y_.shape[0]\n",
    "    print(f'{name}: {errors/count}')\n"
   ]
  },
  {
   "cell_type": "markdown",
   "id": "8931e728-ed64-4668-ae89-f2c5111893aa",
   "metadata": {},
   "source": [
    "## Baseline 4: Linear regression"
   ]
  },
  {
   "cell_type": "code",
   "execution_count": 116,
   "id": "1b5d5fae-72d0-4521-90d5-ec0c58e08782",
   "metadata": {},
   "outputs": [
    {
     "name": "stdout",
     "output_type": "stream",
     "text": [
      "train: [[36.93661786]]\n",
      "validate: [[36.07154467]]\n",
      "test: [[36.6260068]]\n"
     ]
    }
   ],
   "source": [
    "for name, ds in get_new_loop():\n",
    "    errors = count = 0\n",
    "    lr = LinearRegression()\n",
    "    for x, y in ds:\n",
    "        y_ = y.numpy().flatten()        \n",
    "        x_ = x.numpy()[:,:,:1]\n",
    "        days = x_.shape[1]\n",
    "        z = np.arange(days).reshape(-1,1)\n",
    "        next_date = np.array([days + 1]).reshape(-1,1)\n",
    "        for i in range(x_.shape[0]):\n",
    "            lr.fit(z,x_[i])\n",
    "            errors += np.abs(y[i] - lr.predict(next_date)[0][0])\n",
    "            count += 1\n",
    "    print(f'{name}: {errors[0][0]/count}')\n"
   ]
  },
  {
   "cell_type": "code",
   "execution_count": null,
   "id": "158dc738-1f32-49a3-892d-3c02e404bb86",
   "metadata": {},
   "outputs": [],
   "source": [
    "z = np.arange(days).reshape(-1,1)\n",
    "plt.scatter(z, x_[i], color=\"black\", label='Training')\n",
    "z_ = np.arange(days+1).reshape(-1,1)\n",
    "plt.plot(z_, lr.predict(z_), color=\"blue\", linewidth=1)\n",
    "plt.scatter(30, y_[i], marker='*', label='Actual')\n",
    "plt.scatter(30, lr.predict(z_)[-1], marker='+', label='Predicted')\n",
    "plt.ylabel('Covid-19 Cases')\n",
    "plt.xlabel('Days')\n",
    "plt.legend()\n",
    "# plt.xticks(())\n",
    "# plt.yticks(())\n",
    "plt.savefig('linear_regression_example.png')\n",
    "_ = plt.show()\n"
   ]
  },
  {
   "cell_type": "markdown",
   "id": "9e89b515-a451-462d-b9b5-ca6ce883d7fc",
   "metadata": {},
   "source": [
    "# Baseline analysis for predicting next seven day's Covid-19 cases from prior 30"
   ]
  },
  {
   "cell_type": "code",
   "execution_count": 6,
   "id": "31c475db-8992-4cfd-b980-b695e04ff23e",
   "metadata": {},
   "outputs": [],
   "source": [
    "# train_ds, val_ds, test_ds = model.get_train_test_eval_ds(train='./data/train7/x_*.npy', test='./data/test7/x_*.npy', eval_='./data/eval7/x_*.npy', days_to_predict=7)\n",
    "\n",
    "DAYS_TO_PREDICT=7\n",
    "\n",
    "def get_new_loop():\n",
    "    train_ds, val_ds, test_ds = model.get_train_test_eval_ds(train='./data/train7/x_*.npy', test='./data/test7/x_*.npy', eval_='./data/eval7/x_*.npy', days_to_predict=DAYS_TO_PREDICT)\n",
    "    return ('train', train_ds), ('validate', val_ds), ('test', test_ds)"
   ]
  },
  {
   "cell_type": "code",
   "execution_count": 7,
   "id": "fffd0251-2ebc-4053-85e5-8ea877e8c71b",
   "metadata": {},
   "outputs": [],
   "source": [
    "class NestedDefaultDict(defaultdict):\n",
    "    def __init__(self, *args, **kwargs):\n",
    "        super(NestedDefaultDict, self).__init__(NestedDefaultDict, *args, **kwargs)\n",
    "\n",
    "    def __repr__(self):\n",
    "        return repr(dict(self))\n",
    "\n",
    "summary_results = NestedDefaultDict()\n",
    "\n",
    "def save_summary_results(baseline, dataset, day, mae, rmse):\n",
    "    summary_results[baseline][dataset][day]['mae'] = mae\n",
    "    summary_results[baseline][dataset][day]['rmse'] = rmse\n",
    "    "
   ]
  },
  {
   "cell_type": "markdown",
   "id": "66beea64-1b23-406d-807e-a99d207a9bf0",
   "metadata": {},
   "source": [
    "## Baseline 1: Guess zero every time"
   ]
  },
  {
   "cell_type": "code",
   "execution_count": 8,
   "id": "3fbe621c-e1aa-4f24-80ba-27664ec30567",
   "metadata": {},
   "outputs": [
    {
     "name": "stdout",
     "output_type": "stream",
     "text": [
      "train,0,7404.88496353823,31472.878365166045\n",
      "train,1,7437.692041859127,31569.732347338602\n",
      "train,2,7471.00723990322,31669.681334941066\n",
      "train,3,7504.273188332234,31769.242339294877\n",
      "train,4,7538.233400165812,31872.702208980216\n",
      "train,5,7572.5701800247025,31978.76036013002\n",
      "train,6,7607.041395529838,32085.798003346\n",
      "validate,0,7671.1445177220485,36784.85199742884\n",
      "validate,1,7709.306031728501,37005.46128101208\n",
      "validate,2,7748.023796375914,37231.68763346822\n",
      "validate,3,7786.715311250128,37455.316289733855\n",
      "validate,4,7826.568943619195,37697.347556323155\n",
      "validate,5,7866.799227692623,37945.35754049084\n",
      "validate,6,7907.098727546681,38198.10402259446\n",
      "test,0,7420.006486887953,26295.96608644127\n",
      "test,1,7452.162448740944,26398.496256722487\n",
      "test,2,7484.917689214068,26504.40290692683\n",
      "test,3,7517.833438682711,26612.016481222585\n",
      "test,4,7551.51453821417,26723.19296077859\n",
      "test,5,7586.005092325561,26847.09836388536\n",
      "test,6,7620.654543586988,26972.44568662165\n"
     ]
    }
   ],
   "source": [
    "with open('baseline1.csv','w') as file:\n",
    "    for name, ds in get_new_loop():\n",
    "        errors = np.zeros(DAYS_TO_PREDICT)\n",
    "        errors_sq = np.zeros(DAYS_TO_PREDICT)\n",
    "        count = 0\n",
    "        for _, y in ds:\n",
    "            count += y.shape[0]\n",
    "            y_ = y.numpy().squeeze()\n",
    "            x_  = np.ones(y_.shape)\n",
    "            errors += np.sum(np.abs(y_ - x_), axis=0)\n",
    "            errors_sq += np.sum(np.power(y_ - x_, 2), axis=0)\n",
    "        results = []\n",
    "        for i in range(DAYS_TO_PREDICT):\n",
    "            mae = errors[i]/count\n",
    "            rmse = np.sqrt(errors_sq[i]/count)\n",
    "            # print(f'{name} mae for day {i}: {mae}')\n",
    "            print(f'{name},{i},{mae},{rmse}')\n",
    "            file.write(f'{name},{i},{mae},{rmse}')\n",
    "            save_summary_results('Baseline 1', name, i, mae, rmse )"
   ]
  },
  {
   "cell_type": "code",
   "execution_count": 188,
   "id": "7ef870f0-941a-4506-bb53-6f287e290db0",
   "metadata": {},
   "outputs": [
    {
     "name": "stdout",
     "output_type": "stream",
     "text": [
      "train mae for day 0: [1756.4777]\n",
      "validate mae for day 0: [1798.8082]\n",
      "test mae for day 0: [1720.9961]\n"
     ]
    }
   ],
   "source": [
    "# OLD VERSION -- SLOW!!!!\n",
    "# for name, ds in get_new_loop():\n",
    "#     sums = [0] * DAYS_TO_PREDICT\n",
    "#     counts = [0] * DAYS_TO_PREDICT\n",
    "#     for _, ys in ds:\n",
    "#         for y_days in ys:\n",
    "#             for i, y in enumerate(y_days):\n",
    "#                 sums[i] += y\n",
    "#                 counts[i] += 1\n",
    "#     for i in range(DAYS_TO_PREDICT):\n",
    "#         print(f'{name} mae for day {i}: {sums[i]/counts[i]}')\n"
   ]
  },
  {
   "cell_type": "markdown",
   "id": "407d390c-d5d5-40fe-a9ef-9089d2c5abca",
   "metadata": {},
   "source": [
    "## Baseline 2: Guess the 30th date every time"
   ]
  },
  {
   "cell_type": "code",
   "execution_count": 9,
   "id": "b73b40d8-0665-4a6a-bdc4-7bed6a7bd4e2",
   "metadata": {},
   "outputs": [
    {
     "name": "stdout",
     "output_type": "stream",
     "text": [
      "train mae for day 0: 32.8429455683335\n",
      "train mae for day 1: 65.7398259615409\n",
      "train mae for day 2: 99.11701932265335\n",
      "train mae for day 3: 132.45343612114812\n",
      "train mae for day 4: 166.47721680662028\n",
      "train mae for day 5: 200.88710522462404\n",
      "train mae for day 6: 235.43198475110944\n",
      "validate mae for day 0: 37.91970440437481\n",
      "validate mae for day 1: 76.11719381219825\n",
      "validate mae for day 2: 114.84567543600355\n",
      "validate mae for day 3: 153.52804808355503\n",
      "validate mae for day 4: 193.36982165730615\n",
      "validate mae for day 5: 233.59019016651888\n",
      "validate mae for day 6: 273.89247413538277\n",
      "test mae for day 0: 31.995716381881007\n",
      "test mae for day 1: 64.18299648159542\n",
      "test mae for day 2: 96.95985784383332\n",
      "test mae for day 3: 129.8896080844417\n",
      "test mae for day 4: 163.57494753948345\n",
      "test mae for day 5: 198.10712595257255\n",
      "test mae for day 6: 232.79992426752497\n"
     ]
    }
   ],
   "source": [
    "for name, ds in get_new_loop():\n",
    "    errors = np.zeros(DAYS_TO_PREDICT)\n",
    "    errors_sq = np.zeros(DAYS_TO_PREDICT)\n",
    "    count = 0\n",
    "    for x, y in ds:\n",
    "        count += x_.shape[0]\n",
    "        y_ = y.numpy().squeeze(-1)\n",
    "        x_ = x.numpy()[:,-1:,:1]\n",
    "        x_ = x_.reshape(-1,1)\n",
    "        x_ = np.repeat(x_, DAYS_TO_PREDICT, axis=1)\n",
    "        errors += np.sum(np.abs(y_ - x_), axis=0)\n",
    "        errors_sq += np.sum(np.power(y_ - x_, 2), axis=0)\n",
    "    for i in range(DAYS_TO_PREDICT):\n",
    "        # print(f'{name} mae for day {i}: {errors[i]/count}')\n",
    "        mae = errors[i]/count\n",
    "        rmse = np.sqrt(errors_sq[i]/count)\n",
    "        print(f'{name} mae for day {i}: {mae}')\n",
    "        save_summary_results('Baseline 2', name, i, mae, rmse )"
   ]
  },
  {
   "cell_type": "markdown",
   "id": "51114724-e1e6-44d2-96a1-6fc5abe14f5f",
   "metadata": {},
   "source": [
    "## Baseline 3: Guess the mean of the 30 days every time"
   ]
  },
  {
   "cell_type": "code",
   "execution_count": 10,
   "id": "f246ccbe-1349-4bcb-a1bb-6701424642ac",
   "metadata": {},
   "outputs": [
    {
     "name": "stdout",
     "output_type": "stream",
     "text": [
      "train mae for day 0: 462.49514401599487\n",
      "train mae for day 1: 495.2954028348815\n",
      "train mae for day 2: 528.6010278368642\n",
      "train mae for day 3: 561.8548935491854\n",
      "train mae for day 4: 595.8009405455307\n",
      "train mae for day 5: 630.1323670250453\n",
      "train mae for day 6: 664.5959063487418\n",
      "validate mae for day 0: 532.3068330208243\n",
      "validate mae for day 1: 570.4765037042552\n",
      "validate mae for day 2: 609.201413929809\n",
      "validate mae for day 3: 647.8992898688152\n",
      "validate mae for day 4: 687.7588941506492\n",
      "validate mae for day 5: 727.9950539466366\n",
      "validate mae for day 6: 768.298935562822\n",
      "test mae for day 0: 444.395906682452\n",
      "test mae for day 1: 476.5631786132527\n",
      "test mae for day 2: 509.32837299718767\n",
      "test mae for day 3: 542.2528963509226\n",
      "test mae for day 4: 575.9422284424502\n",
      "test mae for day 5: 610.4795938040932\n",
      "test mae for day 6: 645.17408522709\n"
     ]
    }
   ],
   "source": [
    "for name, ds in get_new_loop():\n",
    "    errors = np.zeros(DAYS_TO_PREDICT)\n",
    "    errors_sq = np.zeros(DAYS_TO_PREDICT)\n",
    "    count = 0\n",
    "    for x, y in ds:\n",
    "        y_ = y.numpy().squeeze()\n",
    "        x_ = x.numpy()[:,:,:1]\n",
    "        x_ = np.mean(x_, axis=1).flatten()\n",
    "        x_ = x_.reshape(-1,1)\n",
    "        x_ = x_ = np.repeat(x_, DAYS_TO_PREDICT, axis=1)\n",
    "        count += y_.shape[0]\n",
    "        errors += np.sum(np.abs(y_ - x_), axis=0)\n",
    "        errors_sq += np.sum(np.power(y_ - x_, 2), axis=0)\n",
    "    for i in range(DAYS_TO_PREDICT):\n",
    "        # print(f'{name} mae for day {i}: {errors[i]/count}')\n",
    "        mae = errors[i]/count\n",
    "        rmse = np.sqrt(errors_sq[i]/count)\n",
    "        print(f'{name} mae for day {i}: {mae}')\n",
    "        save_summary_results('Baseline 3', name, i, mae, rmse )"
   ]
  },
  {
   "cell_type": "markdown",
   "id": "5cc9bdf0-8f4f-410b-8e6c-2e46725ffe37",
   "metadata": {},
   "source": [
    "## Baseline 4: Linear regression"
   ]
  },
  {
   "cell_type": "code",
   "execution_count": null,
   "id": "ec465390-1b5b-4087-bba2-650370743244",
   "metadata": {},
   "outputs": [],
   "source": [
    "# SLOW\n",
    "for name, ds in get_new_loop():\n",
    "    errors = np.zeros(DAYS_TO_PREDICT)\n",
    "    errors_sq = np.zeros(DAYS_TO_PREDICT)\n",
    "    count = 0\n",
    "    lr = LinearRegression()\n",
    "    for x, y in ds:\n",
    "        y_ = y.numpy().squeeze()  \n",
    "        x_ = x.numpy()[:,:,:1]\n",
    "        days = x_.shape[1]\n",
    "        z = np.arange(days).reshape(-1,1)\n",
    "        next_dates = np.arange(days +1, days + 1 + DAYS_TO_PREDICT)\n",
    "        for i in range(x_.shape[0]):\n",
    "            lr.fit(z,x_[i])\n",
    "            for j in range(DAYS_TO_PREDICT):\n",
    "                errors[j] += np.abs(y[i][j] - lr.predict(next_dates[j].reshape(-1,1))[0][0])\n",
    "                errors_sq[j] += np.power(y[i][j] - lr.predict(next_dates[j].reshape(-1,1))[0][0],2)\n",
    "        count += y_.shape[0]\n",
    "    for k in range(DAYS_TO_PREDICT):\n",
    "        # print(f'{name} mae for day {k}: {errors[k]/count}')\n",
    "        mae = errors[k]/count\n",
    "        rmse = np.sqrt(errors_sq[k]/count)\n",
    "        print(f'{name} mae for day {k}: {mae}')\n",
    "        save_summary_results('Baseline 4', name, k, mae, rmse )"
   ]
  },
  {
   "cell_type": "code",
   "execution_count": 11,
   "id": "5b2e4643-7c4a-45a7-94c0-f82fb9e6c2c0",
   "metadata": {},
   "outputs": [
    {
     "name": "stdout",
     "output_type": "stream",
     "text": [
      "train mae for day 0: 97.15781471459863\n",
      "train mae for day 1: 113.7667740411459\n",
      "train mae for day 2: 131.01529871580124\n",
      "train mae for day 3: 148.64237426448483\n",
      "train mae for day 4: 167.28808143280506\n",
      "train mae for day 5: 186.83568268693898\n",
      "train mae for day 6: 207.0493836704892\n",
      "validate mae for day 0: 74.78185427135678\n",
      "validate mae for day 1: 87.67695477386934\n",
      "validate mae for day 2: 100.69304522613065\n",
      "validate mae for day 3: 114.02956783919598\n",
      "validate mae for day 4: 128.5896381909548\n",
      "validate mae for day 5: 143.52888442211056\n",
      "validate mae for day 6: 158.85883417085427\n",
      "test mae for day 0: 97.92545419404716\n",
      "test mae for day 1: 114.75680324700426\n",
      "test mae for day 2: 132.9558851952068\n",
      "test mae for day 3: 151.3772419791264\n",
      "test mae for day 4: 170.9658484731349\n",
      "test mae for day 5: 192.266814843448\n",
      "test mae for day 6: 214.36963664476227\n"
     ]
    }
   ],
   "source": [
    "# linear regression with sampling\n",
    "for (name, ds), batches in zip(get_new_loop(), [1244, 266, 266]):\n",
    "    samples = random.sample(range(batches), int(batches*0.10))\n",
    "    errors = np.zeros(DAYS_TO_PREDICT)\n",
    "    errors_sq = np.zeros(DAYS_TO_PREDICT)\n",
    "    count = 0\n",
    "    lr = LinearRegression()\n",
    "    for l, (x, y) in enumerate(ds):\n",
    "        if l not in samples:\n",
    "            continue\n",
    "        y_ = y.numpy().squeeze()  \n",
    "        x_ = x.numpy()[:,:,:1]\n",
    "        days = x_.shape[1]\n",
    "        z = np.arange(days).reshape(-1,1)\n",
    "        next_dates = np.arange(days, days + DAYS_TO_PREDICT)\n",
    "        for i in range(x_.shape[0]):\n",
    "            lr.fit(z,x_[i])\n",
    "            for j in range(DAYS_TO_PREDICT):\n",
    "                errors[j] += np.abs(y[i][j] - lr.predict(next_dates[j].reshape(-1,1))[0][0])\n",
    "                errors_sq[j] += np.power(y[i][j] - lr.predict(next_dates[j].reshape(-1,1))[0][0],2)\n",
    "        count += y_.shape[0]\n",
    "    for k in range(DAYS_TO_PREDICT):\n",
    "        # print(f'{name} mae for day {k}: {errors[k]/count}')\n",
    "        mae = errors[k]/count\n",
    "        rmse = np.sqrt(errors_sq[k]/count)\n",
    "        print(f'{name} mae for day {k}: {mae}')\n",
    "        save_summary_results('Baseline 4', name, k, mae, rmse )"
   ]
  },
  {
   "cell_type": "code",
   "execution_count": 12,
   "id": "995d3a89-64d8-49fe-840b-ff2f69d867ef",
   "metadata": {},
   "outputs": [
    {
     "data": {
      "image/png": "[encoded data removed]",
      "text/plain": [
       "<Figure size 432x288 with 1 Axes>"
      ]
     },
     "metadata": {
      "needs_background": "light"
     },
     "output_type": "display_data"
    }
   ],
   "source": [
    "days = x_.shape[1]\n",
    "z = np.arange(days).reshape(-1,1)\n",
    "training = plt.scatter(z, x_[i], color=\"black\", marker='.', label='Training')\n",
    "z_ = np.arange(days+DAYS_TO_PREDICT).reshape(-1,1)\n",
    "\n",
    "plt.plot(z_, lr.predict(z_), color=\"blue\", linewidth=1)\n",
    "for j in range(DAYS_TO_PREDICT):\n",
    "    actual = plt.scatter(30+j, y_[i][j], marker='*', label='Actual', color='blue')\n",
    "    prediction = plt.scatter(30 + j, lr.predict(z_)[30+j], marker='+', label='Predicted', color='red')\n",
    "plt.ylabel('Covid-19 Cases')\n",
    "plt.xlabel('Days')\n",
    "plt.legend([training, actual, prediction], ['Training', 'Actual', 'Predicted'])\n",
    "# plt.xticks(())\n",
    "# plt.yticks(())\n",
    "plt.savefig('linear_regression_example.png')\n",
    "_ = plt.show()"
   ]
  },
  {
   "cell_type": "code",
   "execution_count": 13,
   "id": "4e845335-920e-4972-9120-6f686bf86117",
   "metadata": {},
   "outputs": [
    {
     "data": {
      "text/html": [
       "<div>\n",
       "<style scoped>\n",
       "    .dataframe tbody tr th:only-of-type {\n",
       "        vertical-align: middle;\n",
       "    }\n",
       "\n",
       "    .dataframe tbody tr th {\n",
       "        vertical-align: top;\n",
       "    }\n",
       "\n",
       "    .dataframe thead th {\n",
       "        text-align: right;\n",
       "    }\n",
       "</style>\n",
       "<table border=\"1\" class=\"dataframe\">\n",
       "  <thead>\n",
       "    <tr style=\"text-align: right;\">\n",
       "      <th></th>\n",
       "      <th>train</th>\n",
       "      <th>validate</th>\n",
       "      <th>test</th>\n",
       "    </tr>\n",
       "  </thead>\n",
       "  <tbody>\n",
       "    <tr>\n",
       "      <th>Baseline 1</th>\n",
       "      <td>{0: {'mae': 7404.88496353823, 'rmse': 31472.87...</td>\n",
       "      <td>{0: {'mae': 7671.1445177220485, 'rmse': 36784....</td>\n",
       "      <td>{0: {'mae': 7420.006486887953, 'rmse': 26295.9...</td>\n",
       "    </tr>\n",
       "    <tr>\n",
       "      <th>Baseline 2</th>\n",
       "      <td>{0: {'mae': 32.8429455683335, 'rmse': 289.0405...</td>\n",
       "      <td>{0: {'mae': 37.91970440437481, 'rmse': 401.553...</td>\n",
       "      <td>{0: {'mae': 31.995716381881007, 'rmse': 302.53...</td>\n",
       "    </tr>\n",
       "    <tr>\n",
       "      <th>Baseline 3</th>\n",
       "      <td>{0: {'mae': 462.49514401599487, 'rmse': 1946.0...</td>\n",
       "      <td>{0: {'mae': 532.3068330208243, 'rmse': 3812.58...</td>\n",
       "      <td>{0: {'mae': 444.395906682452, 'rmse': 1942.017...</td>\n",
       "    </tr>\n",
       "    <tr>\n",
       "      <th>Baseline 4</th>\n",
       "      <td>{0: {'mae': 97.15781471459863, 'rmse': 581.505...</td>\n",
       "      <td>{0: {'mae': 74.78185427135678, 'rmse': 297.924...</td>\n",
       "      <td>{0: {'mae': 97.92545419404716, 'rmse': 642.633...</td>\n",
       "    </tr>\n",
       "  </tbody>\n",
       "</table>\n",
       "</div>"
      ],
      "text/plain": [
       "                                                        train  \\\n",
       "Baseline 1  {0: {'mae': 7404.88496353823, 'rmse': 31472.87...   \n",
       "Baseline 2  {0: {'mae': 32.8429455683335, 'rmse': 289.0405...   \n",
       "Baseline 3  {0: {'mae': 462.49514401599487, 'rmse': 1946.0...   \n",
       "Baseline 4  {0: {'mae': 97.15781471459863, 'rmse': 581.505...   \n",
       "\n",
       "                                                     validate  \\\n",
       "Baseline 1  {0: {'mae': 7671.1445177220485, 'rmse': 36784....   \n",
       "Baseline 2  {0: {'mae': 37.91970440437481, 'rmse': 401.553...   \n",
       "Baseline 3  {0: {'mae': 532.3068330208243, 'rmse': 3812.58...   \n",
       "Baseline 4  {0: {'mae': 74.78185427135678, 'rmse': 297.924...   \n",
       "\n",
       "                                                         test  \n",
       "Baseline 1  {0: {'mae': 7420.006486887953, 'rmse': 26295.9...  \n",
       "Baseline 2  {0: {'mae': 31.995716381881007, 'rmse': 302.53...  \n",
       "Baseline 3  {0: {'mae': 444.395906682452, 'rmse': 1942.017...  \n",
       "Baseline 4  {0: {'mae': 97.92545419404716, 'rmse': 642.633...  "
      ]
     },
     "execution_count": 13,
     "metadata": {},
     "output_type": "execute_result"
    }
   ],
   "source": [
    "df = pd.DataFrame(summary_results)\n",
    "df = df.T\n",
    "df"
   ]
  },
  {
   "cell_type": "code",
   "execution_count": 16,
   "id": "93cdebce-755b-4ec6-81d5-d316a37129cb",
   "metadata": {},
   "outputs": [
    {
     "data": {
      "text/plain": [
       "['Baseline 1', 'Baseline 2', 'Baseline 3', 'Baseline 4']"
      ]
     },
     "execution_count": 16,
     "metadata": {},
     "output_type": "execute_result"
    }
   ],
   "source": [
    "list(summary_results.keys())"
   ]
  },
  {
   "cell_type": "code",
   "execution_count": 17,
   "id": "7d98bd5a-7249-4a7a-a369-bd378c7a59a1",
   "metadata": {},
   "outputs": [],
   "source": [
    "baselines_mae = [[] for i in range(4)]\n",
    "baselines_rmse = [[] for i in range(4)]\n",
    "for i, baseline in enumerate(summary_results.values()):\n",
    "    for _, days in baseline.items():\n",
    "        mae = {}\n",
    "        rmse = {}\n",
    "        for k, v in days.items():\n",
    "            mae[k] = v['mae']\n",
    "            rmse[k] = v['rmse']\n",
    "        baselines_mae[i].append(mae)\n",
    "        baselines_rmse[i].append(rmse)\n"
   ]
  },
  {
   "cell_type": "code",
   "execution_count": 18,
   "id": "73efc990-384a-4b3f-a407-38b1d48f26ff",
   "metadata": {},
   "outputs": [
    {
     "data": {
      "text/html": [
       "<div>\n",
       "<style scoped>\n",
       "    .dataframe tbody tr th:only-of-type {\n",
       "        vertical-align: middle;\n",
       "    }\n",
       "\n",
       "    .dataframe tbody tr th {\n",
       "        vertical-align: top;\n",
       "    }\n",
       "\n",
       "    .dataframe thead th {\n",
       "        text-align: right;\n",
       "    }\n",
       "</style>\n",
       "<table border=\"1\" class=\"dataframe\">\n",
       "  <thead>\n",
       "    <tr style=\"text-align: right;\">\n",
       "      <th></th>\n",
       "      <th>1</th>\n",
       "      <th>2</th>\n",
       "      <th>3</th>\n",
       "      <th>4</th>\n",
       "      <th>5</th>\n",
       "      <th>6</th>\n",
       "      <th>7</th>\n",
       "    </tr>\n",
       "  </thead>\n",
       "  <tbody>\n",
       "    <tr>\n",
       "      <th>Baseline 1</th>\n",
       "      <td>7420.006487</td>\n",
       "      <td>7452.162449</td>\n",
       "      <td>7484.917689</td>\n",
       "      <td>7517.833439</td>\n",
       "      <td>7551.514538</td>\n",
       "      <td>7586.005092</td>\n",
       "      <td>7620.654544</td>\n",
       "    </tr>\n",
       "    <tr>\n",
       "      <th>Baseline 2</th>\n",
       "      <td>31.995716</td>\n",
       "      <td>64.182996</td>\n",
       "      <td>96.959858</td>\n",
       "      <td>129.889608</td>\n",
       "      <td>163.574948</td>\n",
       "      <td>198.107126</td>\n",
       "      <td>232.799924</td>\n",
       "    </tr>\n",
       "    <tr>\n",
       "      <th>Baseline 3</th>\n",
       "      <td>444.395907</td>\n",
       "      <td>476.563179</td>\n",
       "      <td>509.328373</td>\n",
       "      <td>542.252896</td>\n",
       "      <td>575.942228</td>\n",
       "      <td>610.479594</td>\n",
       "      <td>645.174085</td>\n",
       "    </tr>\n",
       "    <tr>\n",
       "      <th>Baseline 4</th>\n",
       "      <td>97.925454</td>\n",
       "      <td>114.756803</td>\n",
       "      <td>132.955885</td>\n",
       "      <td>151.377242</td>\n",
       "      <td>170.965848</td>\n",
       "      <td>192.266815</td>\n",
       "      <td>214.369637</td>\n",
       "    </tr>\n",
       "  </tbody>\n",
       "</table>\n",
       "</div>"
      ],
      "text/plain": [
       "                      1            2            3            4            5  \\\n",
       "Baseline 1  7420.006487  7452.162449  7484.917689  7517.833439  7551.514538   \n",
       "Baseline 2    31.995716    64.182996    96.959858   129.889608   163.574948   \n",
       "Baseline 3   444.395907   476.563179   509.328373   542.252896   575.942228   \n",
       "Baseline 4    97.925454   114.756803   132.955885   151.377242   170.965848   \n",
       "\n",
       "                      6            7  \n",
       "Baseline 1  7586.005092  7620.654544  \n",
       "Baseline 2   198.107126   232.799924  \n",
       "Baseline 3   610.479594   645.174085  \n",
       "Baseline 4   192.266815   214.369637  "
      ]
     },
     "execution_count": 18,
     "metadata": {},
     "output_type": "execute_result"
    }
   ],
   "source": [
    "mae_df = pd.DataFrame({'Baseline 1': baselines_mae[0][2], 'Baseline 2': baselines_mae[1][2], 'Baseline 3': baselines_mae[2][2], 'Baseline 4': baselines_mae[3][2]}).T\n",
    "mae_df.columns = ([i for i in range(1,8)])\n",
    "mae_df"
   ]
  },
  {
   "cell_type": "code",
   "execution_count": 19,
   "id": "e5343791-0fd0-4a77-a00d-03036657ebdc",
   "metadata": {},
   "outputs": [
    {
     "data": {
      "image/png": "[encoded data removed]",
      "text/plain": [
       "<Figure size 432x288 with 1 Axes>"
      ]
     },
     "metadata": {
      "needs_background": "light"
     },
     "output_type": "display_data"
    }
   ],
   "source": [
    "ax = mae_df.T.plot(kind='line',\n",
    "                 # title='Mean Absolute Loss (Validation Set)',\n",
    "                 logy=True,\n",
    "                 xlabel='Steps (Days)',\n",
    "                 ylabel='Log MAE')\n",
    "fig = ax.get_figure()\n",
    "fig.savefig('mae_validation.png')"
   ]
  },
  {
   "cell_type": "code",
   "execution_count": 20,
   "id": "d901c4f4-a13b-4f60-9779-22000a0356b7",
   "metadata": {},
   "outputs": [
    {
     "data": {
      "text/html": [
       "<div>\n",
       "<style scoped>\n",
       "    .dataframe tbody tr th:only-of-type {\n",
       "        vertical-align: middle;\n",
       "    }\n",
       "\n",
       "    .dataframe tbody tr th {\n",
       "        vertical-align: top;\n",
       "    }\n",
       "\n",
       "    .dataframe thead th {\n",
       "        text-align: right;\n",
       "    }\n",
       "</style>\n",
       "<table border=\"1\" class=\"dataframe\">\n",
       "  <thead>\n",
       "    <tr style=\"text-align: right;\">\n",
       "      <th></th>\n",
       "      <th>1</th>\n",
       "      <th>2</th>\n",
       "      <th>3</th>\n",
       "      <th>4</th>\n",
       "      <th>5</th>\n",
       "      <th>6</th>\n",
       "      <th>7</th>\n",
       "    </tr>\n",
       "  </thead>\n",
       "  <tbody>\n",
       "    <tr>\n",
       "      <th>Baseline 1</th>\n",
       "      <td>26295.966086</td>\n",
       "      <td>26398.496257</td>\n",
       "      <td>26504.402907</td>\n",
       "      <td>26612.016481</td>\n",
       "      <td>26723.192961</td>\n",
       "      <td>26847.098364</td>\n",
       "      <td>26972.445687</td>\n",
       "    </tr>\n",
       "    <tr>\n",
       "      <th>Baseline 2</th>\n",
       "      <td>302.536934</td>\n",
       "      <td>470.624211</td>\n",
       "      <td>632.921437</td>\n",
       "      <td>789.466131</td>\n",
       "      <td>948.476749</td>\n",
       "      <td>1133.668605</td>\n",
       "      <td>1316.425357</td>\n",
       "    </tr>\n",
       "    <tr>\n",
       "      <th>Baseline 3</th>\n",
       "      <td>1942.017632</td>\n",
       "      <td>2089.197525</td>\n",
       "      <td>2240.459369</td>\n",
       "      <td>2390.455388</td>\n",
       "      <td>2545.323085</td>\n",
       "      <td>2725.077279</td>\n",
       "      <td>2903.946220</td>\n",
       "    </tr>\n",
       "    <tr>\n",
       "      <th>Baseline 4</th>\n",
       "      <td>642.633068</td>\n",
       "      <td>738.872518</td>\n",
       "      <td>838.658144</td>\n",
       "      <td>935.909669</td>\n",
       "      <td>1036.623849</td>\n",
       "      <td>1152.735478</td>\n",
       "      <td>1271.288858</td>\n",
       "    </tr>\n",
       "  </tbody>\n",
       "</table>\n",
       "</div>"
      ],
      "text/plain": [
       "                       1             2             3             4  \\\n",
       "Baseline 1  26295.966086  26398.496257  26504.402907  26612.016481   \n",
       "Baseline 2    302.536934    470.624211    632.921437    789.466131   \n",
       "Baseline 3   1942.017632   2089.197525   2240.459369   2390.455388   \n",
       "Baseline 4    642.633068    738.872518    838.658144    935.909669   \n",
       "\n",
       "                       5             6             7  \n",
       "Baseline 1  26723.192961  26847.098364  26972.445687  \n",
       "Baseline 2    948.476749   1133.668605   1316.425357  \n",
       "Baseline 3   2545.323085   2725.077279   2903.946220  \n",
       "Baseline 4   1036.623849   1152.735478   1271.288858  "
      ]
     },
     "execution_count": 20,
     "metadata": {},
     "output_type": "execute_result"
    }
   ],
   "source": [
    "rmse_df = pd.DataFrame({'Baseline 1': baselines_rmse[0][2], 'Baseline 2': baselines_rmse[1][2], 'Baseline 3': baselines_rmse[2][2], 'Baseline 4': baselines_rmse[3][2]}).T\n",
    "rmse_df.columns = ([i for i in range(1,8)])\n",
    "rmse_df"
   ]
  },
  {
   "cell_type": "code",
   "execution_count": 21,
   "id": "b451bbf7-8e9d-4bf8-9677-1ee7c3928838",
   "metadata": {},
   "outputs": [
    {
     "data": {
      "image/png": "[encoded data removed]",
      "text/plain": [
       "<Figure size 432x288 with 1 Axes>"
      ]
     },
     "metadata": {
      "needs_background": "light"
     },
     "output_type": "display_data"
    }
   ],
   "source": [
    "ax = rmse_df.T.plot(kind='line',\n",
    "                 # title='Root Mean Square Loss (Validation Set)',\n",
    "                 logy=True,\n",
    "                 xlabel='Steps (Days)',\n",
    "                 ylabel='Log RMSE')\n",
    "fig = ax.get_figure()\n",
    "fig.savefig('rmse_validation.png')"
   ]
  },
  {
   "cell_type": "code",
   "execution_count": 197,
   "id": "57fe7194-e898-41e8-893a-8ddaf5e1dac1",
   "metadata": {},
   "outputs": [
    {
     "data": {
      "text/html": [
       "<div>\n",
       "<style scoped>\n",
       "    .dataframe tbody tr th:only-of-type {\n",
       "        vertical-align: middle;\n",
       "    }\n",
       "\n",
       "    .dataframe tbody tr th {\n",
       "        vertical-align: top;\n",
       "    }\n",
       "\n",
       "    .dataframe thead th {\n",
       "        text-align: right;\n",
       "    }\n",
       "</style>\n",
       "<table border=\"1\" class=\"dataframe\">\n",
       "  <thead>\n",
       "    <tr style=\"text-align: center;\">\n",
       "      <th></th>\n",
       "      <th>mse</th>\n",
       "      <th>rmse</th>\n",
       "      <th>0</th>\n",
       "      <th>1</th>\n",
       "      <th>2</th>\n",
       "      <th>3</th>\n",
       "      <th>4</th>\n",
       "      <th>5</th>\n",
       "      <th>6</th>\n",
       "    </tr>\n",
       "  </thead>\n",
       "  <tbody>\n",
       "    <tr>\n",
       "      <th>Baseline 1</th>\n",
       "      <td>1</td>\n",
       "      <td>{0: 25747.03486813846, 1: 25857.53159076635, 2...</td>\n",
       "      <td>NaN</td>\n",
       "      <td>NaN</td>\n",
       "      <td>NaN</td>\n",
       "      <td>NaN</td>\n",
       "      <td>NaN</td>\n",
       "      <td>NaN</td>\n",
       "      <td>NaN</td>\n",
       "    </tr>\n",
       "    <tr>\n",
       "      <th>Baseline 2</th>\n",
       "      <td>NaN</td>\n",
       "      <td>NaN</td>\n",
       "      <td>288.227048</td>\n",
       "      <td>469.957367</td>\n",
       "      <td>643.21965</td>\n",
       "      <td>804.178475</td>\n",
       "      <td>975.87662</td>\n",
       "      <td>1168.78451</td>\n",
       "      <td>1358.812619</td>\n",
       "    </tr>\n",
       "    <tr>\n",
       "      <th>Baseline 3</th>\n",
       "      <td>NaN</td>\n",
       "      <td>NaN</td>\n",
       "      <td>1989.854307</td>\n",
       "      <td>2144.333389</td>\n",
       "      <td>2303.820253</td>\n",
       "      <td>2459.154202</td>\n",
       "      <td>2623.281517</td>\n",
       "      <td>2809.449287</td>\n",
       "      <td>2994.362205</td>\n",
       "    </tr>\n",
       "    <tr>\n",
       "      <th>Baseline 4</th>\n",
       "      <td>NaN</td>\n",
       "      <td>NaN</td>\n",
       "      <td>903.048098</td>\n",
       "      <td>1080.662202</td>\n",
       "      <td>1276.744465</td>\n",
       "      <td>1462.506419</td>\n",
       "      <td>1658.234656</td>\n",
       "      <td>1985.663126</td>\n",
       "      <td>2307.226328</td>\n",
       "    </tr>\n",
       "  </tbody>\n",
       "</table>\n",
       "</div>"
      ],
      "text/plain": [
       "           mse                         rmse                         \\\n",
       "Baseline 1    1  {0: 25747.03486813846, 1: 25857.53159076635, 2...   \n",
       "Baseline 2  NaN                                                NaN   \n",
       "Baseline 3  NaN                                                NaN   \n",
       "Baseline 4  NaN                                                NaN   \n",
       "\n",
       "                0            1            2            3            4        \\\n",
       "Baseline 1          NaN          NaN          NaN          NaN          NaN   \n",
       "Baseline 2   288.227048   469.957367    643.21965   804.178475    975.87662   \n",
       "Baseline 3  1989.854307  2144.333389  2303.820253  2459.154202  2623.281517   \n",
       "Baseline 4   903.048098  1080.662202  1276.744465  1462.506419  1658.234656   \n",
       "\n",
       "                5            6        \n",
       "Baseline 1          NaN          NaN  \n",
       "Baseline 2   1168.78451  1358.812619  \n",
       "Baseline 3  2809.449287  2994.362205  \n",
       "Baseline 4  1985.663126  2307.226328  "
      ]
     },
     "execution_count": 197,
     "metadata": {},
     "output_type": "execute_result"
    }
   ],
   "source": [
    "both_df = pd.DataFrame({'Baseline 1': {'mse': 1, 'rmse': baselines_rmse[0][2]}, 'Baseline 2': baselines_rmse[1][2], 'Baseline 3': baselines_rmse[2][2], 'Baseline 4': baselines_rmse[3][2]}).T\n",
    "# both_df.columns = ([i for i in range(1,8)])\n",
    "both_df"
   ]
  },
  {
   "cell_type": "code",
   "execution_count": 198,
   "id": "e1b55f6c-8d18-45eb-bcda-8aa8366a2f84",
   "metadata": {},
   "outputs": [
    {
     "data": {
      "text/html": [
       "<div>\n",
       "<style scoped>\n",
       "    .dataframe tbody tr th:only-of-type {\n",
       "        vertical-align: middle;\n",
       "    }\n",
       "\n",
       "    .dataframe tbody tr th {\n",
       "        vertical-align: top;\n",
       "    }\n",
       "\n",
       "    .dataframe thead th {\n",
       "        text-align: right;\n",
       "    }\n",
       "</style>\n",
       "<table border=\"1\" class=\"dataframe\">\n",
       "  <thead>\n",
       "    <tr style=\"text-align: center;\">\n",
       "      <th></th>\n",
       "      <th></th>\n",
       "      <th>MAE</th>\n",
       "      <th>RMSE</th>\n",
       "    </tr>\n",
       "  </thead>\n",
       "  <tbody>\n",
       "    <tr>\n",
       "      <th rowspan=\"7\" valign=\"top\">Baseline 1</th>\n",
       "      <th>0</th>\n",
       "      <td>7290.052478</td>\n",
       "      <td>25747.034868</td>\n",
       "    </tr>\n",
       "    <tr>\n",
       "      <th>1</th>\n",
       "      <td>7322.190589</td>\n",
       "      <td>25857.531591</td>\n",
       "    </tr>\n",
       "    <tr>\n",
       "      <th>2</th>\n",
       "      <td>7354.994960</td>\n",
       "      <td>25972.493580</td>\n",
       "    </tr>\n",
       "    <tr>\n",
       "      <th>3</th>\n",
       "      <td>7387.805210</td>\n",
       "      <td>26086.957315</td>\n",
       "    </tr>\n",
       "    <tr>\n",
       "      <th>4</th>\n",
       "      <td>7421.379804</td>\n",
       "      <td>26207.090798</td>\n",
       "    </tr>\n",
       "    <tr>\n",
       "      <th>5</th>\n",
       "      <td>7455.775214</td>\n",
       "      <td>26339.562432</td>\n",
       "    </tr>\n",
       "    <tr>\n",
       "      <th>6</th>\n",
       "      <td>7490.349461</td>\n",
       "      <td>26473.555333</td>\n",
       "    </tr>\n",
       "    <tr>\n",
       "      <th rowspan=\"7\" valign=\"top\">Baseline 2</th>\n",
       "      <th>0</th>\n",
       "      <td>32.002339</td>\n",
       "      <td>288.227048</td>\n",
       "    </tr>\n",
       "    <tr>\n",
       "      <th>1</th>\n",
       "      <td>64.206147</td>\n",
       "      <td>469.957367</td>\n",
       "    </tr>\n",
       "    <tr>\n",
       "      <th>2</th>\n",
       "      <td>97.051148</td>\n",
       "      <td>643.219650</td>\n",
       "    </tr>\n",
       "    <tr>\n",
       "      <th>3</th>\n",
       "      <td>129.907325</td>\n",
       "      <td>804.178475</td>\n",
       "    </tr>\n",
       "    <tr>\n",
       "      <th>4</th>\n",
       "      <td>163.540894</td>\n",
       "      <td>975.876620</td>\n",
       "    </tr>\n",
       "    <tr>\n",
       "      <th>5</th>\n",
       "      <td>197.983226</td>\n",
       "      <td>1168.784510</td>\n",
       "    </tr>\n",
       "    <tr>\n",
       "      <th>6</th>\n",
       "      <td>232.623025</td>\n",
       "      <td>1358.812619</td>\n",
       "    </tr>\n",
       "    <tr>\n",
       "      <th rowspan=\"7\" valign=\"top\">Baseline 3</th>\n",
       "      <th>0</th>\n",
       "      <td>449.128383</td>\n",
       "      <td>1989.854307</td>\n",
       "    </tr>\n",
       "    <tr>\n",
       "      <th>1</th>\n",
       "      <td>481.297429</td>\n",
       "      <td>2144.333389</td>\n",
       "    </tr>\n",
       "    <tr>\n",
       "      <th>2</th>\n",
       "      <td>514.131535</td>\n",
       "      <td>2303.820253</td>\n",
       "    </tr>\n",
       "    <tr>\n",
       "      <th>3</th>\n",
       "      <td>546.969945</td>\n",
       "      <td>2459.154202</td>\n",
       "    </tr>\n",
       "    <tr>\n",
       "      <th>4</th>\n",
       "      <td>580.571591</td>\n",
       "      <td>2623.281517</td>\n",
       "    </tr>\n",
       "    <tr>\n",
       "      <th>5</th>\n",
       "      <td>614.993736</td>\n",
       "      <td>2809.449287</td>\n",
       "    </tr>\n",
       "    <tr>\n",
       "      <th>6</th>\n",
       "      <td>649.594455</td>\n",
       "      <td>2994.362205</td>\n",
       "    </tr>\n",
       "    <tr>\n",
       "      <th rowspan=\"7\" valign=\"top\">Baseline 4</th>\n",
       "      <th>0</th>\n",
       "      <td>113.090974</td>\n",
       "      <td>903.048098</td>\n",
       "    </tr>\n",
       "    <tr>\n",
       "      <th>1</th>\n",
       "      <td>134.149932</td>\n",
       "      <td>1080.662202</td>\n",
       "    </tr>\n",
       "    <tr>\n",
       "      <th>2</th>\n",
       "      <td>156.651604</td>\n",
       "      <td>1276.744465</td>\n",
       "    </tr>\n",
       "    <tr>\n",
       "      <th>3</th>\n",
       "      <td>179.542965</td>\n",
       "      <td>1462.506419</td>\n",
       "    </tr>\n",
       "    <tr>\n",
       "      <th>4</th>\n",
       "      <td>203.992230</td>\n",
       "      <td>1658.234656</td>\n",
       "    </tr>\n",
       "    <tr>\n",
       "      <th>5</th>\n",
       "      <td>232.448183</td>\n",
       "      <td>1985.663126</td>\n",
       "    </tr>\n",
       "    <tr>\n",
       "      <th>6</th>\n",
       "      <td>261.718090</td>\n",
       "      <td>2307.226328</td>\n",
       "    </tr>\n",
       "  </tbody>\n",
       "</table>\n",
       "</div>"
      ],
      "text/plain": [
       "                  MAE          RMSE    \n",
       "Baseline 1 0  7290.052478  25747.034868\n",
       "           1  7322.190589  25857.531591\n",
       "           2  7354.994960  25972.493580\n",
       "           3  7387.805210  26086.957315\n",
       "           4  7421.379804  26207.090798\n",
       "           5  7455.775214  26339.562432\n",
       "           6  7490.349461  26473.555333\n",
       "Baseline 2 0    32.002339    288.227048\n",
       "           1    64.206147    469.957367\n",
       "           2    97.051148    643.219650\n",
       "           3   129.907325    804.178475\n",
       "           4   163.540894    975.876620\n",
       "           5   197.983226   1168.784510\n",
       "           6   232.623025   1358.812619\n",
       "Baseline 3 0   449.128383   1989.854307\n",
       "           1   481.297429   2144.333389\n",
       "           2   514.131535   2303.820253\n",
       "           3   546.969945   2459.154202\n",
       "           4   580.571591   2623.281517\n",
       "           5   614.993736   2809.449287\n",
       "           6   649.594455   2994.362205\n",
       "Baseline 4 0   113.090974    903.048098\n",
       "           1   134.149932   1080.662202\n",
       "           2   156.651604   1276.744465\n",
       "           3   179.542965   1462.506419\n",
       "           4   203.992230   1658.234656\n",
       "           5   232.448183   1985.663126\n",
       "           6   261.718090   2307.226328"
      ]
     },
     "execution_count": 198,
     "metadata": {},
     "output_type": "execute_result"
    }
   ],
   "source": [
    "sr = {}\n",
    "for k,v in summary_results.items():\n",
    "    for k_, v_ in v.items():\n",
    "        if k_ == 'test':\n",
    "            sr[k] = v_\n",
    "\n",
    "\n",
    "\n",
    "combined_df = pd.DataFrame.from_dict({(i,j): sr[i][j] \n",
    "                           for i in sr.keys() \n",
    "                           for j in sr[i].keys()},\n",
    "                       orient='index')\n",
    "combined_df.columns = ['MAE', 'RMSE']\n",
    "combined_df"
   ]
  },
  {
   "cell_type": "code",
   "execution_count": 199,
   "id": "8b3e13ca-2a7a-47e0-b953-ea1fbdcab9d8",
   "metadata": {},
   "outputs": [
    {
     "data": {
      "text/plain": [
       "{'Baseline 1': {0: {'mae': 7290.052477530079, 'rmse': 25747.03486813846}, 1: {'mae': 7322.190589378678, 'rmse': 25857.53159076635}, 2: {'mae': 7354.994959806529, 'rmse': 25972.49357974198}, 3: {'mae': 7387.8052104600965, 'rmse': 26086.957314706986}, 4: {'mae': 7421.379803816684, 'rmse': 26207.090798477326}, 5: {'mae': 7455.7752141517185, 'rmse': 26339.562432454593}, 6: {'mae': 7490.349460947918, 'rmse': 26473.555333473396}},\n",
       " 'Baseline 2': {0: {'mae': 32.00233928262, 'rmse': 288.22704839849234}, 1: {'mae': 64.20614692653673, 'rmse': 469.9573670070359}, 2: {'mae': 97.0511477929377, 'rmse': 643.2196499848361}, 3: {'mae': 129.90732523185645, 'rmse': 804.1784748611365}, 4: {'mae': 163.54089412580143, 'rmse': 975.8766200110147}, 5: {'mae': 197.9832257238215, 'rmse': 1168.78451026302}, 6: {'mae': 232.62302517083168, 'rmse': 1358.8126194109154}},\n",
       " 'Baseline 3': {0: {'mae': 449.1283827871423, 'rmse': 1989.8543070995056}, 1: {'mae': 481.2974285033452, 'rmse': 2144.3333888682196}, 2: {'mae': 514.1315348810114, 'rmse': 2303.820253172908}, 3: {'mae': 546.9699447573106, 'rmse': 2459.154202339399}, 4: {'mae': 580.5715906785663, 'rmse': 2623.281516716242}, 5: {'mae': 614.9937357926165, 'rmse': 2809.449286776139}, 6: {'mae': 649.5944546261409, 'rmse': 2994.3622053886816}},\n",
       " 'Baseline 4': {0: {'mae': 113.0909741012756, 'rmse': 903.0480978483067}, 1: {'mae': 134.1499323540781, 'rmse': 1080.6622018874937}, 2: {'mae': 156.65160417471975, 'rmse': 1276.7444645178007}, 3: {'mae': 179.54296482412062, 'rmse': 1462.5064188322826}, 4: {'mae': 203.99223038268264, 'rmse': 1658.2346555958059}, 5: {'mae': 232.44818322381136, 'rmse': 1985.6631257628526}, 6: {'mae': 261.7180904522613, 'rmse': 2307.226328441418}}}"
      ]
     },
     "execution_count": 199,
     "metadata": {},
     "output_type": "execute_result"
    }
   ],
   "source": [
    "sr = {}\n",
    "for k,v in summary_results.items():\n",
    "    for k_, v_ in v.items():\n",
    "        if k_ == 'test':\n",
    "            sr[k] = v_\n",
    "\n",
    "\n",
    "\n",
    "combined_df = pd.DataFrame.from_dict({(i,j): sr[i][j] \n",
    "                           for i in sr.keys() \n",
    "                           for j in sr[i].keys()},\n",
    "                       orient='index')\n",
    "combined_df.columns = ['MAE', 'RMSE']\n",
    "combined_df"
   ]
  },
  {
   "cell_type": "code",
   "execution_count": 24,
   "id": "2292440e-cdd6-47d9-8147-20a40a9b3151",
   "metadata": {},
   "outputs": [
    {
     "name": "stdout",
     "output_type": "stream",
     "text": [
      "\\begin{tabular}{lrrrrrrrrrrrrrr}\n",
      " & \\multicolumn{2}{r}{Step 0} & \\multicolumn{2}{r}{Step 1} & \\multicolumn{2}{r}{Step 2} & \\multicolumn{2}{r}{Step 3} & \\multicolumn{2}{r}{Step 4} & \\multicolumn{2}{r}{Step 5} & \\multicolumn{2}{r}{Step 6} \\\\\n",
      " & MAE & RMSE & MAE & RMSE & MAE & RMSE & MAE & RMSE & MAE & RMSE & MAE & RMSE & MAE & RMSE \\\\\n",
      "Baseline 3 & 444.395907 & 1942.017632 & 476.563179 & 2089.197525 & 509.328373 & 2240.459369 & 542.252896 & 2390.455388 & 575.942228 & 2545.323085 & 610.479594 & 2725.077279 & 645.174085 & 2903.946220 \\\\\n",
      "Baseline 4 & 97.925454 & 642.633068 & 114.756803 & 738.872518 & 132.955885 & 838.658144 & 151.377242 & 935.909669 & 170.965848 & 1036.623849 & 192.266815 & 1152.735478 & 214.369637 & 1271.288858 \\\\\n",
      "Baseline 1 & 7420.006487 & 26295.966086 & 7452.162449 & 26398.496257 & 7484.917689 & 26504.402907 & 7517.833439 & 26612.016481 & 7551.514538 & 26723.192961 & 7586.005092 & 26847.098364 & 7620.654544 & 26972.445687 \\\\\n",
      "Baseline 2 & 31.995716 & 302.536934 & 64.182996 & 470.624211 & 96.959858 & 632.921437 & 129.889608 & 789.466131 & 163.574948 & 948.476749 & 198.107126 & 1133.668605 & 232.799924 & 1316.425357 \\\\\n",
      "\\end{tabular}\n",
      "\n"
     ]
    }
   ],
   "source": [
    "sr = {}\n",
    "for k,v in summary_results.items():\n",
    "    for k_, v_ in v.items():\n",
    "        if k_ == 'test':\n",
    "            sr[k] = v_\n",
    "            \n",
    "sr2 = defaultdict(dict)\n",
    "for bl, days in sr.items():\n",
    "    for day, values in days.items():\n",
    "        for typ, value in values.items():\n",
    "            sr2[(f'Step {day}', typ.upper())][bl] = value\n",
    "sr2\n",
    "\n",
    "\n",
    "\n",
    "\n",
    "combined_df = pd.DataFrame.from_dict(sr2)\n",
    "pd.set_option('display.colheader_justify', 'center')\n",
    "print(combined_df.style.to_latex())"
   ]
  }
 ],
 "metadata": {
  "kernelspec": {
   "display_name": "Python 3 (ipykernel)",
   "language": "python",
   "name": "python3"
  },
  "language_info": {
   "codemirror_mode": {
    "name": "ipython",
    "version": 3
   },
   "file_extension": ".py",
   "mimetype": "text/x-python",
   "name": "python",
   "nbconvert_exporter": "python",
   "pygments_lexer": "ipython3",
   "version": "3.9.10"
  }
 },
 "nbformat": 4,
 "nbformat_minor": 5
}
