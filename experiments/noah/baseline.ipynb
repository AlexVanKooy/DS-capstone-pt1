{
 "cells": [
  {
   "cell_type": "markdown",
   "id": "e871bf85-e9dc-4b4a-9fd1-669a8a82fd0b",
   "metadata": {},
   "source": [
    "# Baseline analysis for predicting next day's Covid-19 cases from prior 30"
   ]
  },
  {
   "cell_type": "code",
   "execution_count": 2,
   "id": "0960dd8c-3d10-45a1-b695-bf551f93382b",
   "metadata": {},
   "outputs": [],
   "source": [
    "import os\n",
    "import importlib\n",
    "import random\n",
    "from collections import defaultdict\n",
    "import math\n",
    "\n",
    "import pandas as pd\n",
    "import numpy as np\n",
    "import tensorflow as tf\n",
    "from sklearn.linear_model import LinearRegression\n",
    "import matplotlib.pyplot as plt\n",
    "\n",
    "\n",
    "import dsci592.model as model"
   ]
  },
  {
   "cell_type": "code",
   "execution_count": 3,
   "id": "47ac5c6d-c753-491e-935c-7a8e24d9da9e",
   "metadata": {},
   "outputs": [
    {
     "data": {
      "text/plain": [
       "<module 'dsci592.model' from '/home/noah/projects/drexel/dsci592/DS-capstone-pt1/code/src/dsci592/model.py'>"
      ]
     },
     "execution_count": 3,
     "metadata": {},
     "output_type": "execute_result"
    }
   ],
   "source": [
    "importlib.reload(model)"
   ]
  },
  {
   "cell_type": "code",
   "execution_count": 4,
   "id": "64db4aa8-5ff6-4965-828f-0c8d8ec952ca",
   "metadata": {},
   "outputs": [],
   "source": [
    "pd.set_option(\"display.max_columns\", None)\n",
    "os.environ['TF_GPU_ALLOCATOR'] = 'cuda_malloc_async'"
   ]
  },
  {
   "cell_type": "code",
   "execution_count": 11,
   "id": "222a4656-3400-4784-83bd-de0a7ff861a9",
   "metadata": {},
   "outputs": [],
   "source": [
    "golden_dataset_file_name = os.path.join('/', 'data', 'projects', 'drexel', 'dsci592', 'feeFiFoFum.pkl')\n",
    "with tf.device('/gpu:1'):  # using other GPU for another task\n",
    "    df = model.load_dataset(golden_dataset_file_name)\n",
    "\n",
    "# train_ds, val_ds, test_ds = model.get_train_test_eval_ds()\n"
   ]
  },
  {
   "cell_type": "code",
   "execution_count": 8,
   "id": "aa6f8f90-b4f5-4941-a835-981877099d14",
   "metadata": {},
   "outputs": [],
   "source": [
    "def get_new_loop():\n",
    "    train_ds, val_ds, test_ds = model.get_train_test_eval_ds()\n",
    "    return ('train', train_ds), ('validate', val_ds), ('test', test_ds)\n",
    "    "
   ]
  },
  {
   "cell_type": "markdown",
   "id": "2da1802b-8326-4fdd-a8bd-aa03609f5c7f",
   "metadata": {},
   "source": [
    "## Baseline 1: Guess zero every time"
   ]
  },
  {
   "cell_type": "code",
   "execution_count": 20,
   "id": "d21c5b76-501d-45d9-b0a4-480733186a09",
   "metadata": {},
   "outputs": [
    {
     "name": "stdout",
     "output_type": "stream",
     "text": [
      "train: 1738.2500355774011\n",
      "validate: 1754.9772079984493\n",
      "test: 1739.3318410911274\n"
     ]
    }
   ],
   "source": [
    "for name, ds in get_new_loop():\n",
    "    sum = count = 0\n",
    "    for _, y in ds:\n",
    "        y_ = y.numpy().flatten()\n",
    "        sum += y_.sum()\n",
    "        count += y_.shape[0]\n",
    "    print(f'{name}: {sum/count}')\n"
   ]
  },
  {
   "cell_type": "markdown",
   "id": "4221ba69-4c88-447c-8807-ffaee6b782b4",
   "metadata": {},
   "source": [
    "## Baseline 2: Guess the 30th date every time"
   ]
  },
  {
   "cell_type": "code",
   "execution_count": 51,
   "id": "8390155e-0e11-451c-a2d8-0203281ead8a",
   "metadata": {},
   "outputs": [
    {
     "name": "stdout",
     "output_type": "stream",
     "text": [
      "train: 9.785121290955985\n",
      "validate: 9.549475865976769\n",
      "test: 9.840210704599464\n"
     ]
    }
   ],
   "source": [
    "for name, ds in get_new_loop():\n",
    "    errors = count = 0\n",
    "    for x, y in ds:\n",
    "        y_ = y.numpy().flatten()        \n",
    "        x_ = x.numpy()[:,-1:,:1].flatten()\n",
    "        errors += np.sum(np.abs(y_ - x_))\n",
    "        count += y_.shape[0]\n",
    "    print(f'{name}: {errors/count}')\n"
   ]
  },
  {
   "cell_type": "markdown",
   "id": "43732162-6629-4680-8bbb-5815fe8bf019",
   "metadata": {},
   "source": [
    "## Baseline 3: Guess the mean of the 30 days every time"
   ]
  },
  {
   "cell_type": "code",
   "execution_count": 63,
   "id": "162025b6-a7e8-489c-a02d-15bd64f0be61",
   "metadata": {},
   "outputs": [
    {
     "name": "stdout",
     "output_type": "stream",
     "text": [
      "train: 121.31485035080716\n",
      "validate: 120.17304839525893\n",
      "test: 120.88257879796626\n"
     ]
    }
   ],
   "source": [
    "for name, ds in get_new_loop():\n",
    "    errors = count = 0\n",
    "    for x, y in ds:\n",
    "        y_ = y.numpy().flatten()        \n",
    "        x_ = x.numpy()[:,:,:1]\n",
    "        x_ = np.mean(x_, axis=1).flatten()\n",
    "        errors += np.sum(np.abs(y_ - x_))\n",
    "        count += y_.shape[0]\n",
    "    print(f'{name}: {errors/count}')\n"
   ]
  },
  {
   "cell_type": "markdown",
   "id": "8931e728-ed64-4668-ae89-f2c5111893aa",
   "metadata": {},
   "source": [
    "## Baseline 4: Linear regression"
   ]
  },
  {
   "cell_type": "code",
   "execution_count": 116,
   "id": "1b5d5fae-72d0-4521-90d5-ec0c58e08782",
   "metadata": {},
   "outputs": [
    {
     "name": "stdout",
     "output_type": "stream",
     "text": [
      "train: [[36.93661786]]\n",
      "validate: [[36.07154467]]\n",
      "test: [[36.6260068]]\n"
     ]
    }
   ],
   "source": [
    "for name, ds in get_new_loop():\n",
    "    errors = count = 0\n",
    "    lr = LinearRegression()\n",
    "    for x, y in ds:\n",
    "        y_ = y.numpy().flatten()        \n",
    "        x_ = x.numpy()[:,:,:1]\n",
    "        days = x_.shape[1]\n",
    "        z = np.arange(days).reshape(-1,1)\n",
    "        next_date = np.array([days + 1]).reshape(-1,1)\n",
    "        for i in range(x_.shape[0]):\n",
    "            lr.fit(z,x_[i])\n",
    "            errors += np.abs(y[i] - lr.predict(next_date)[0][0])\n",
    "            count += 1\n",
    "    print(f'{name}: {errors[0][0]/count}')\n"
   ]
  },
  {
   "cell_type": "code",
   "execution_count": 188,
   "id": "158dc738-1f32-49a3-892d-3c02e404bb86",
   "metadata": {},
   "outputs": [
    {
     "ename": "TypeError",
     "evalue": "unsupported operand type(s) for -: 'NestedDefaultDict' and 'int'",
     "output_type": "error",
     "traceback": [
      "\u001b[0;31m---------------------------------------------------------------------------\u001b[0m",
      "\u001b[0;31mTypeError\u001b[0m                                 Traceback (most recent call last)",
      "Input \u001b[0;32mIn [188]\u001b[0m, in \u001b[0;36m<module>\u001b[0;34m\u001b[0m\n\u001b[0;32m----> 1\u001b[0m z \u001b[38;5;241m=\u001b[39m \u001b[43mnp\u001b[49m\u001b[38;5;241;43m.\u001b[39;49m\u001b[43marange\u001b[49m\u001b[43m(\u001b[49m\u001b[43mdays\u001b[49m\u001b[43m)\u001b[49m\u001b[38;5;241m.\u001b[39mreshape(\u001b[38;5;241m-\u001b[39m\u001b[38;5;241m1\u001b[39m,\u001b[38;5;241m1\u001b[39m)\n\u001b[1;32m      2\u001b[0m plt\u001b[38;5;241m.\u001b[39mscatter(z, x_[i], color\u001b[38;5;241m=\u001b[39m\u001b[38;5;124m\"\u001b[39m\u001b[38;5;124mblack\u001b[39m\u001b[38;5;124m\"\u001b[39m, label\u001b[38;5;241m=\u001b[39m\u001b[38;5;124m'\u001b[39m\u001b[38;5;124mTraining\u001b[39m\u001b[38;5;124m'\u001b[39m)\n\u001b[1;32m      3\u001b[0m z_ \u001b[38;5;241m=\u001b[39m np\u001b[38;5;241m.\u001b[39marange(days\u001b[38;5;241m+\u001b[39m\u001b[38;5;241m1\u001b[39m)\u001b[38;5;241m.\u001b[39mreshape(\u001b[38;5;241m-\u001b[39m\u001b[38;5;241m1\u001b[39m,\u001b[38;5;241m1\u001b[39m)\n",
      "\u001b[0;31mTypeError\u001b[0m: unsupported operand type(s) for -: 'NestedDefaultDict' and 'int'"
     ]
    }
   ],
   "source": [
    "z = np.arange(days).reshape(-1,1)\n",
    "plt.scatter(z, x_[i], color=\"black\", label='Training')\n",
    "z_ = np.arange(days+1).reshape(-1,1)\n",
    "plt.plot(z_, lr.predict(z_), color=\"blue\", linewidth=1)\n",
    "plt.scatter(30, y_[i], marker='*', label='Actual')\n",
    "plt.scatter(30, lr.predict(z_)[-1], marker='+', label='Predicted')\n",
    "plt.ylabel('Covid-19 Cases')\n",
    "plt.xlabel('Days')\n",
    "plt.legend()\n",
    "# plt.xticks(())\n",
    "# plt.yticks(())\n",
    "plt.savefig('linear_regression_example.png')\n",
    "_ = plt.show()\n"
   ]
  },
  {
   "cell_type": "markdown",
   "id": "9e89b515-a451-462d-b9b5-ca6ce883d7fc",
   "metadata": {},
   "source": [
    "# Baseline analysis for predicting next seven day's Covid-19 cases from prior 30"
   ]
  },
  {
   "cell_type": "code",
   "execution_count": 6,
   "id": "31c475db-8992-4cfd-b980-b695e04ff23e",
   "metadata": {},
   "outputs": [],
   "source": [
    "# train_ds, val_ds, test_ds = model.get_train_test_eval_ds(train='./data/train7/x_*.npy', test='./data/test7/x_*.npy', eval_='./data/eval7/x_*.npy', days_to_predict=7)\n",
    "\n",
    "DAYS_TO_PREDICT=7\n",
    "\n",
    "def get_new_loop():\n",
    "    train_ds, val_ds, test_ds = model.get_train_test_eval_ds(train='./data/train7/x_*.npy', test='./data/test7/x_*.npy', eval_='./data/eval7/x_*.npy', days_to_predict=DAYS_TO_PREDICT)\n",
    "    return ('train', train_ds), ('validate', val_ds), ('test', test_ds)"
   ]
  },
  {
   "cell_type": "code",
   "execution_count": 7,
   "id": "fffd0251-2ebc-4053-85e5-8ea877e8c71b",
   "metadata": {},
   "outputs": [],
   "source": [
    "class NestedDefaultDict(defaultdict):\n",
    "    def __init__(self, *args, **kwargs):\n",
    "        super(NestedDefaultDict, self).__init__(NestedDefaultDict, *args, **kwargs)\n",
    "\n",
    "    def __repr__(self):\n",
    "        return repr(dict(self))\n",
    "\n",
    "summary_results = NestedDefaultDict()\n",
    "\n",
    "def save_summary_results(baseline, dataset, day, mae, rmse):\n",
    "    summary_results[baseline][dataset][day]['mae'] = mae\n",
    "    summary_results[baseline][dataset][day]['rmse'] = rmse\n",
    "    "
   ]
  },
  {
   "cell_type": "markdown",
   "id": "66beea64-1b23-406d-807e-a99d207a9bf0",
   "metadata": {},
   "source": [
    "## Baseline 1: Guess zero every time"
   ]
  },
  {
   "cell_type": "code",
   "execution_count": 14,
   "id": "3fbe621c-e1aa-4f24-80ba-27664ec30567",
   "metadata": {},
   "outputs": [
    {
     "name": "stderr",
     "output_type": "stream",
     "text": [
      "2022-02-27 10:35:42.196667: E tensorflow/core/common_runtime/gpu/gpu_cudamallocasync_allocator.cc:288] gpu_async_0 cuMemAllocAsync failed to allocate 1028 bytes: CUDA error: out of memory (CUDA_ERROR_OUT_OF_MEMORY)\n",
      " Reported by CUDA: Free memory/Total memory: 4063232/6233522176\n",
      "2022-02-27 10:35:42.196710: E tensorflow/core/common_runtime/gpu/gpu_cudamallocasync_allocator.cc:293] Stats: Limit:                         4063232\n",
      "InUse:                               0\n",
      "MaxInUse:                            0\n",
      "NumAllocs:                           0\n",
      "MaxAllocSize:                        0\n",
      "Reserved:                            0\n",
      "PeakReserved:                        0\n",
      "LargestFreeBlock:                    0\n",
      "\n",
      "2022-02-27 10:35:42.196717: E tensorflow/core/common_runtime/gpu/gpu_cudamallocasync_allocator.cc:56] Histogram of current allocation: (allocation_size_in_bytes, nb_allocation_of_that_sizes), ...;\n"
     ]
    },
    {
     "ename": "FailedPreconditionError",
     "evalue": "Failed to allocate scratch buffer for device 0",
     "output_type": "error",
     "traceback": [
      "\u001b[0;31m---------------------------------------------------------------------------\u001b[0m",
      "\u001b[0;31mTypeError\u001b[0m                                 Traceback (most recent call last)",
      "File \u001b[0;32m~/projects/drexel/dsci592/DS-capstone-pt1/env/lib/python3.9/site-packages/tensorflow/python/data/util/structure.py:106\u001b[0m, in \u001b[0;36mnormalize_element\u001b[0;34m(element, element_signature)\u001b[0m\n\u001b[1;32m    105\u001b[0m   \u001b[38;5;28;01mif\u001b[39;00m spec \u001b[38;5;129;01mis\u001b[39;00m \u001b[38;5;28;01mNone\u001b[39;00m:\n\u001b[0;32m--> 106\u001b[0m     spec \u001b[38;5;241m=\u001b[39m \u001b[43mtype_spec_from_value\u001b[49m\u001b[43m(\u001b[49m\u001b[43mt\u001b[49m\u001b[43m,\u001b[49m\u001b[43m \u001b[49m\u001b[43muse_fallback\u001b[49m\u001b[38;5;241;43m=\u001b[39;49m\u001b[38;5;28;43;01mFalse\u001b[39;49;00m\u001b[43m)\u001b[49m\n\u001b[1;32m    107\u001b[0m \u001b[38;5;28;01mexcept\u001b[39;00m \u001b[38;5;167;01mTypeError\u001b[39;00m:\n\u001b[1;32m    108\u001b[0m   \u001b[38;5;66;03m# TypeError indicates it was not possible to compute a `TypeSpec` for\u001b[39;00m\n\u001b[1;32m    109\u001b[0m   \u001b[38;5;66;03m# the value. As a fallback try converting the value to a tensor.\u001b[39;00m\n",
      "File \u001b[0;32m~/projects/drexel/dsci592/DS-capstone-pt1/env/lib/python3.9/site-packages/tensorflow/python/data/util/structure.py:489\u001b[0m, in \u001b[0;36mtype_spec_from_value\u001b[0;34m(element, use_fallback)\u001b[0m\n\u001b[1;32m    486\u001b[0m     logging\u001b[38;5;241m.\u001b[39mvlog(\n\u001b[1;32m    487\u001b[0m         \u001b[38;5;241m3\u001b[39m, \u001b[38;5;124m\"\u001b[39m\u001b[38;5;124mFailed to convert \u001b[39m\u001b[38;5;132;01m%r\u001b[39;00m\u001b[38;5;124m to tensor: \u001b[39m\u001b[38;5;132;01m%s\u001b[39;00m\u001b[38;5;124m\"\u001b[39m \u001b[38;5;241m%\u001b[39m (\u001b[38;5;28mtype\u001b[39m(element)\u001b[38;5;241m.\u001b[39m\u001b[38;5;18m__name__\u001b[39m, e))\n\u001b[0;32m--> 489\u001b[0m \u001b[38;5;28;01mraise\u001b[39;00m \u001b[38;5;167;01mTypeError\u001b[39;00m(\u001b[38;5;124m\"\u001b[39m\u001b[38;5;124mCould not build a `TypeSpec` for \u001b[39m\u001b[38;5;132;01m{}\u001b[39;00m\u001b[38;5;124m with type \u001b[39m\u001b[38;5;132;01m{}\u001b[39;00m\u001b[38;5;124m\"\u001b[39m\u001b[38;5;241m.\u001b[39mformat(\n\u001b[1;32m    490\u001b[0m     element,\n\u001b[1;32m    491\u001b[0m     \u001b[38;5;28mtype\u001b[39m(element)\u001b[38;5;241m.\u001b[39m\u001b[38;5;18m__name__\u001b[39m))\n",
      "\u001b[0;31mTypeError\u001b[0m: Could not build a `TypeSpec` for 0 with type int",
      "\nDuring handling of the above exception, another exception occurred:\n",
      "\u001b[0;31mFailedPreconditionError\u001b[0m                   Traceback (most recent call last)",
      "Input \u001b[0;32mIn [14]\u001b[0m, in \u001b[0;36m<module>\u001b[0;34m\u001b[0m\n\u001b[1;32m      1\u001b[0m \u001b[38;5;28;01mwith\u001b[39;00m tf\u001b[38;5;241m.\u001b[39mdevice(\u001b[38;5;124m'\u001b[39m\u001b[38;5;124m/gpu:2\u001b[39m\u001b[38;5;124m'\u001b[39m):  \u001b[38;5;66;03m# using other GPU for another task\u001b[39;00m\n\u001b[1;32m      2\u001b[0m     \u001b[38;5;28;01mwith\u001b[39;00m \u001b[38;5;28mopen\u001b[39m(\u001b[38;5;124m'\u001b[39m\u001b[38;5;124mbaseline1.csv\u001b[39m\u001b[38;5;124m'\u001b[39m,\u001b[38;5;124m'\u001b[39m\u001b[38;5;124mw\u001b[39m\u001b[38;5;124m'\u001b[39m) \u001b[38;5;28;01mas\u001b[39;00m file:\n\u001b[0;32m----> 3\u001b[0m         \u001b[38;5;28;01mfor\u001b[39;00m name, ds \u001b[38;5;129;01min\u001b[39;00m \u001b[43mget_new_loop\u001b[49m\u001b[43m(\u001b[49m\u001b[43m)\u001b[49m:\n\u001b[1;32m      4\u001b[0m             errors \u001b[38;5;241m=\u001b[39m np\u001b[38;5;241m.\u001b[39mzeros(DAYS_TO_PREDICT)\n\u001b[1;32m      5\u001b[0m             errors_sq \u001b[38;5;241m=\u001b[39m np\u001b[38;5;241m.\u001b[39mzeros(DAYS_TO_PREDICT)\n",
      "Input \u001b[0;32mIn [6]\u001b[0m, in \u001b[0;36mget_new_loop\u001b[0;34m()\u001b[0m\n\u001b[1;32m      5\u001b[0m \u001b[38;5;28;01mdef\u001b[39;00m \u001b[38;5;21mget_new_loop\u001b[39m():\n\u001b[0;32m----> 6\u001b[0m     train_ds, val_ds, test_ds \u001b[38;5;241m=\u001b[39m \u001b[43mmodel\u001b[49m\u001b[38;5;241;43m.\u001b[39;49m\u001b[43mget_train_test_eval_ds\u001b[49m\u001b[43m(\u001b[49m\u001b[43mtrain\u001b[49m\u001b[38;5;241;43m=\u001b[39;49m\u001b[38;5;124;43m'\u001b[39;49m\u001b[38;5;124;43m./data/train7/x_*.npy\u001b[39;49m\u001b[38;5;124;43m'\u001b[39;49m\u001b[43m,\u001b[49m\u001b[43m \u001b[49m\u001b[43mtest\u001b[49m\u001b[38;5;241;43m=\u001b[39;49m\u001b[38;5;124;43m'\u001b[39;49m\u001b[38;5;124;43m./data/test7/x_*.npy\u001b[39;49m\u001b[38;5;124;43m'\u001b[39;49m\u001b[43m,\u001b[49m\u001b[43m \u001b[49m\u001b[43meval_\u001b[49m\u001b[38;5;241;43m=\u001b[39;49m\u001b[38;5;124;43m'\u001b[39;49m\u001b[38;5;124;43m./data/eval7/x_*.npy\u001b[39;49m\u001b[38;5;124;43m'\u001b[39;49m\u001b[43m,\u001b[49m\u001b[43m \u001b[49m\u001b[43mdays_to_predict\u001b[49m\u001b[38;5;241;43m=\u001b[39;49m\u001b[43mDAYS_TO_PREDICT\u001b[49m\u001b[43m)\u001b[49m\n\u001b[1;32m      7\u001b[0m     \u001b[38;5;28;01mreturn\u001b[39;00m (\u001b[38;5;124m'\u001b[39m\u001b[38;5;124mtrain\u001b[39m\u001b[38;5;124m'\u001b[39m, train_ds), (\u001b[38;5;124m'\u001b[39m\u001b[38;5;124mvalidate\u001b[39m\u001b[38;5;124m'\u001b[39m, val_ds), (\u001b[38;5;124m'\u001b[39m\u001b[38;5;124mtest\u001b[39m\u001b[38;5;124m'\u001b[39m, test_ds)\n",
      "File \u001b[0;32m~/projects/drexel/dsci592/DS-capstone-pt1/code/src/dsci592/model.py:198\u001b[0m, in \u001b[0;36mget_train_test_eval_ds\u001b[0;34m(train, eval_, test, n_readers, n_parse_threads, days_to_predict)\u001b[0m\n\u001b[1;32m    195\u001b[0m     y \u001b[38;5;241m=\u001b[39m np_array[:, \u001b[38;5;241m-\u001b[39mdays_to_predict:, :\u001b[38;5;241m1\u001b[39m]\n\u001b[1;32m    196\u001b[0m     \u001b[38;5;28;01mreturn\u001b[39;00m X, y\n\u001b[0;32m--> 198\u001b[0m train_ds \u001b[38;5;241m=\u001b[39m \u001b[43mtf\u001b[49m\u001b[38;5;241;43m.\u001b[39;49m\u001b[43mdata\u001b[49m\u001b[38;5;241;43m.\u001b[39;49m\u001b[43mDataset\u001b[49m\u001b[38;5;241;43m.\u001b[39;49m\u001b[43mfrom_generator\u001b[49m\u001b[43m(\u001b[49m\u001b[38;5;28;43;01mlambda\u001b[39;49;00m\u001b[43m:\u001b[49m\u001b[43m \u001b[49m\u001b[43mcreate_generator\u001b[49m\u001b[43m(\u001b[49m\u001b[43mtrain_files\u001b[49m\u001b[43m,\u001b[49m\u001b[43m \u001b[49m\u001b[43mcycle_length\u001b[49m\u001b[38;5;241;43m=\u001b[39;49m\u001b[43mn_readers\u001b[49m\u001b[43m)\u001b[49m\u001b[43m,\u001b[49m\n\u001b[1;32m    199\u001b[0m \u001b[43m                                          \u001b[49m\u001b[43moutput_types\u001b[49m\u001b[38;5;241;43m=\u001b[39;49m\u001b[43mtf\u001b[49m\u001b[38;5;241;43m.\u001b[39;49m\u001b[43mfloat32\u001b[49m\u001b[43m)\u001b[49m\n\u001b[1;32m    200\u001b[0m train_ds \u001b[38;5;241m=\u001b[39m train_ds\u001b[38;5;241m.\u001b[39mmap(split_xy, num_parallel_calls\u001b[38;5;241m=\u001b[39mn_parse_threads)\u001b[38;5;241m.\u001b[39mprefetch(\u001b[38;5;241m1\u001b[39m)\n\u001b[1;32m    202\u001b[0m val_ds \u001b[38;5;241m=\u001b[39m tf\u001b[38;5;241m.\u001b[39mdata\u001b[38;5;241m.\u001b[39mDataset\u001b[38;5;241m.\u001b[39mfrom_generator(\u001b[38;5;28;01mlambda\u001b[39;00m: create_generator(eval_files, cycle_length\u001b[38;5;241m=\u001b[39mn_readers),\n\u001b[1;32m    203\u001b[0m                                         output_types\u001b[38;5;241m=\u001b[39mtf\u001b[38;5;241m.\u001b[39mfloat32)\n",
      "File \u001b[0;32m~/projects/drexel/dsci592/DS-capstone-pt1/env/lib/python3.9/site-packages/tensorflow/python/util/deprecation.py:552\u001b[0m, in \u001b[0;36mdeprecated_args.<locals>.deprecated_wrapper.<locals>.new_func\u001b[0;34m(*args, **kwargs)\u001b[0m\n\u001b[1;32m    544\u001b[0m         _PRINTED_WARNING[(func, arg_name)] \u001b[38;5;241m=\u001b[39m \u001b[38;5;28;01mTrue\u001b[39;00m\n\u001b[1;32m    545\u001b[0m       logging\u001b[38;5;241m.\u001b[39mwarning(\n\u001b[1;32m    546\u001b[0m           \u001b[38;5;124m'\u001b[39m\u001b[38;5;124mFrom \u001b[39m\u001b[38;5;132;01m%s\u001b[39;00m\u001b[38;5;124m: calling \u001b[39m\u001b[38;5;132;01m%s\u001b[39;00m\u001b[38;5;124m (from \u001b[39m\u001b[38;5;132;01m%s\u001b[39;00m\u001b[38;5;124m) with \u001b[39m\u001b[38;5;132;01m%s\u001b[39;00m\u001b[38;5;124m is deprecated and will \u001b[39m\u001b[38;5;124m'\u001b[39m\n\u001b[1;32m    547\u001b[0m           \u001b[38;5;124m'\u001b[39m\u001b[38;5;124mbe removed \u001b[39m\u001b[38;5;132;01m%s\u001b[39;00m\u001b[38;5;124m.\u001b[39m\u001b[38;5;130;01m\\n\u001b[39;00m\u001b[38;5;124mInstructions for updating:\u001b[39m\u001b[38;5;130;01m\\n\u001b[39;00m\u001b[38;5;132;01m%s\u001b[39;00m\u001b[38;5;124m'\u001b[39m,\n\u001b[0;32m   (...)\u001b[0m\n\u001b[1;32m    550\u001b[0m           \u001b[38;5;124m'\u001b[39m\u001b[38;5;124min a future version\u001b[39m\u001b[38;5;124m'\u001b[39m \u001b[38;5;28;01mif\u001b[39;00m date \u001b[38;5;129;01mis\u001b[39;00m \u001b[38;5;28;01mNone\u001b[39;00m \u001b[38;5;28;01melse\u001b[39;00m (\u001b[38;5;124m'\u001b[39m\u001b[38;5;124mafter \u001b[39m\u001b[38;5;132;01m%s\u001b[39;00m\u001b[38;5;124m'\u001b[39m \u001b[38;5;241m%\u001b[39m date),\n\u001b[1;32m    551\u001b[0m           instructions)\n\u001b[0;32m--> 552\u001b[0m \u001b[38;5;28;01mreturn\u001b[39;00m \u001b[43mfunc\u001b[49m\u001b[43m(\u001b[49m\u001b[38;5;241;43m*\u001b[39;49m\u001b[43margs\u001b[49m\u001b[43m,\u001b[49m\u001b[43m \u001b[49m\u001b[38;5;241;43m*\u001b[39;49m\u001b[38;5;241;43m*\u001b[39;49m\u001b[43mkwargs\u001b[49m\u001b[43m)\u001b[49m\n",
      "File \u001b[0;32m~/projects/drexel/dsci592/DS-capstone-pt1/env/lib/python3.9/site-packages/tensorflow/python/data/ops/dataset_ops.py:1122\u001b[0m, in \u001b[0;36mDatasetV2.from_generator\u001b[0;34m(generator, output_types, output_shapes, args, output_signature, name)\u001b[0m\n\u001b[1;32m   1116\u001b[0m \u001b[38;5;66;03m# A single-element dataset that, each time it is evaluated, contains a\u001b[39;00m\n\u001b[1;32m   1117\u001b[0m \u001b[38;5;66;03m# freshly-generated and unique (for the returned dataset) int64\u001b[39;00m\n\u001b[1;32m   1118\u001b[0m \u001b[38;5;66;03m# ID that will be used to identify the appropriate Python state, which\u001b[39;00m\n\u001b[1;32m   1119\u001b[0m \u001b[38;5;66;03m# is encapsulated in `generator_state`, and captured in\u001b[39;00m\n\u001b[1;32m   1120\u001b[0m \u001b[38;5;66;03m# `get_iterator_id_map_fn`.\u001b[39;00m\n\u001b[1;32m   1121\u001b[0m dummy \u001b[38;5;241m=\u001b[39m \u001b[38;5;241m0\u001b[39m\n\u001b[0;32m-> 1122\u001b[0m id_dataset \u001b[38;5;241m=\u001b[39m \u001b[43mDataset\u001b[49m\u001b[38;5;241;43m.\u001b[39;49m\u001b[43mfrom_tensors\u001b[49m\u001b[43m(\u001b[49m\u001b[43mdummy\u001b[49m\u001b[43m,\u001b[49m\u001b[43m \u001b[49m\u001b[43mname\u001b[49m\u001b[38;5;241;43m=\u001b[39;49m\u001b[43mname\u001b[49m\u001b[43m)\u001b[49m\n\u001b[1;32m   1124\u001b[0m \u001b[38;5;66;03m# A dataset that contains all of the elements generated by a\u001b[39;00m\n\u001b[1;32m   1125\u001b[0m \u001b[38;5;66;03m# single iterator created from `generator`, identified by the\u001b[39;00m\n\u001b[1;32m   1126\u001b[0m \u001b[38;5;66;03m# iterator ID contained in `id_dataset`. Lifting the iteration\u001b[39;00m\n\u001b[1;32m   1127\u001b[0m \u001b[38;5;66;03m# into a flat_map here enables multiple repetitions and/or nested\u001b[39;00m\n\u001b[1;32m   1128\u001b[0m \u001b[38;5;66;03m# versions of the returned dataset to be created, because it forces\u001b[39;00m\n\u001b[1;32m   1129\u001b[0m \u001b[38;5;66;03m# the generation of a new ID for each version.\u001b[39;00m\n\u001b[1;32m   1130\u001b[0m \u001b[38;5;28;01mreturn\u001b[39;00m id_dataset\u001b[38;5;241m.\u001b[39mflat_map(flat_map_fn, name\u001b[38;5;241m=\u001b[39mname)\n",
      "File \u001b[0;32m~/projects/drexel/dsci592/DS-capstone-pt1/env/lib/python3.9/site-packages/tensorflow/python/data/ops/dataset_ops.py:701\u001b[0m, in \u001b[0;36mDatasetV2.from_tensors\u001b[0;34m(tensors, name)\u001b[0m\n\u001b[1;32m    664\u001b[0m \u001b[38;5;129m@staticmethod\u001b[39m\n\u001b[1;32m    665\u001b[0m \u001b[38;5;28;01mdef\u001b[39;00m \u001b[38;5;21mfrom_tensors\u001b[39m(tensors, name\u001b[38;5;241m=\u001b[39m\u001b[38;5;28;01mNone\u001b[39;00m):\n\u001b[1;32m    666\u001b[0m   \u001b[38;5;124;03m\"\"\"Creates a `Dataset` with a single element, comprising the given tensors.\u001b[39;00m\n\u001b[1;32m    667\u001b[0m \n\u001b[1;32m    668\u001b[0m \u001b[38;5;124;03m  `from_tensors` produces a dataset containing only a single element. To slice\u001b[39;00m\n\u001b[0;32m   (...)\u001b[0m\n\u001b[1;32m    699\u001b[0m \u001b[38;5;124;03m    Dataset: A `Dataset`.\u001b[39;00m\n\u001b[1;32m    700\u001b[0m \u001b[38;5;124;03m  \"\"\"\u001b[39;00m\n\u001b[0;32m--> 701\u001b[0m   \u001b[38;5;28;01mreturn\u001b[39;00m \u001b[43mTensorDataset\u001b[49m\u001b[43m(\u001b[49m\u001b[43mtensors\u001b[49m\u001b[43m,\u001b[49m\u001b[43m \u001b[49m\u001b[43mname\u001b[49m\u001b[38;5;241;43m=\u001b[39;49m\u001b[43mname\u001b[49m\u001b[43m)\u001b[49m\n",
      "File \u001b[0;32m~/projects/drexel/dsci592/DS-capstone-pt1/env/lib/python3.9/site-packages/tensorflow/python/data/ops/dataset_ops.py:4636\u001b[0m, in \u001b[0;36mTensorDataset.__init__\u001b[0;34m(self, element, name)\u001b[0m\n\u001b[1;32m   4634\u001b[0m \u001b[38;5;28;01mdef\u001b[39;00m \u001b[38;5;21m__init__\u001b[39m(\u001b[38;5;28mself\u001b[39m, element, name\u001b[38;5;241m=\u001b[39m\u001b[38;5;28;01mNone\u001b[39;00m):\n\u001b[1;32m   4635\u001b[0m   \u001b[38;5;124;03m\"\"\"See `Dataset.from_tensors()` for details.\"\"\"\u001b[39;00m\n\u001b[0;32m-> 4636\u001b[0m   element \u001b[38;5;241m=\u001b[39m \u001b[43mstructure\u001b[49m\u001b[38;5;241;43m.\u001b[39;49m\u001b[43mnormalize_element\u001b[49m\u001b[43m(\u001b[49m\u001b[43melement\u001b[49m\u001b[43m)\u001b[49m\n\u001b[1;32m   4637\u001b[0m   \u001b[38;5;28mself\u001b[39m\u001b[38;5;241m.\u001b[39m_structure \u001b[38;5;241m=\u001b[39m structure\u001b[38;5;241m.\u001b[39mtype_spec_from_value(element)\n\u001b[1;32m   4638\u001b[0m   \u001b[38;5;28mself\u001b[39m\u001b[38;5;241m.\u001b[39m_tensors \u001b[38;5;241m=\u001b[39m structure\u001b[38;5;241m.\u001b[39mto_tensor_list(\u001b[38;5;28mself\u001b[39m\u001b[38;5;241m.\u001b[39m_structure, element)\n",
      "File \u001b[0;32m~/projects/drexel/dsci592/DS-capstone-pt1/env/lib/python3.9/site-packages/tensorflow/python/data/util/structure.py:111\u001b[0m, in \u001b[0;36mnormalize_element\u001b[0;34m(element, element_signature)\u001b[0m\n\u001b[1;32m    106\u001b[0m     spec \u001b[38;5;241m=\u001b[39m type_spec_from_value(t, use_fallback\u001b[38;5;241m=\u001b[39m\u001b[38;5;28;01mFalse\u001b[39;00m)\n\u001b[1;32m    107\u001b[0m \u001b[38;5;28;01mexcept\u001b[39;00m \u001b[38;5;167;01mTypeError\u001b[39;00m:\n\u001b[1;32m    108\u001b[0m   \u001b[38;5;66;03m# TypeError indicates it was not possible to compute a `TypeSpec` for\u001b[39;00m\n\u001b[1;32m    109\u001b[0m   \u001b[38;5;66;03m# the value. As a fallback try converting the value to a tensor.\u001b[39;00m\n\u001b[1;32m    110\u001b[0m   normalized_components\u001b[38;5;241m.\u001b[39mappend(\n\u001b[0;32m--> 111\u001b[0m       \u001b[43mops\u001b[49m\u001b[38;5;241;43m.\u001b[39;49m\u001b[43mconvert_to_tensor\u001b[49m\u001b[43m(\u001b[49m\u001b[43mt\u001b[49m\u001b[43m,\u001b[49m\u001b[43m \u001b[49m\u001b[43mname\u001b[49m\u001b[38;5;241;43m=\u001b[39;49m\u001b[38;5;124;43m\"\u001b[39;49m\u001b[38;5;124;43mcomponent_\u001b[39;49m\u001b[38;5;132;43;01m%d\u001b[39;49;00m\u001b[38;5;124;43m\"\u001b[39;49m\u001b[43m \u001b[49m\u001b[38;5;241;43m%\u001b[39;49m\u001b[43m \u001b[49m\u001b[43mi\u001b[49m\u001b[43m)\u001b[49m)\n\u001b[1;32m    112\u001b[0m \u001b[38;5;28;01melse\u001b[39;00m:\n\u001b[1;32m    113\u001b[0m   \u001b[38;5;28;01mif\u001b[39;00m \u001b[38;5;28misinstance\u001b[39m(spec, sparse_tensor\u001b[38;5;241m.\u001b[39mSparseTensorSpec):\n",
      "File \u001b[0;32m~/projects/drexel/dsci592/DS-capstone-pt1/env/lib/python3.9/site-packages/tensorflow/python/profiler/trace.py:163\u001b[0m, in \u001b[0;36mtrace_wrapper.<locals>.inner_wrapper.<locals>.wrapped\u001b[0;34m(*args, **kwargs)\u001b[0m\n\u001b[1;32m    161\u001b[0m   \u001b[38;5;28;01mwith\u001b[39;00m Trace(trace_name, \u001b[38;5;241m*\u001b[39m\u001b[38;5;241m*\u001b[39mtrace_kwargs):\n\u001b[1;32m    162\u001b[0m     \u001b[38;5;28;01mreturn\u001b[39;00m func(\u001b[38;5;241m*\u001b[39margs, \u001b[38;5;241m*\u001b[39m\u001b[38;5;241m*\u001b[39mkwargs)\n\u001b[0;32m--> 163\u001b[0m \u001b[38;5;28;01mreturn\u001b[39;00m \u001b[43mfunc\u001b[49m\u001b[43m(\u001b[49m\u001b[38;5;241;43m*\u001b[39;49m\u001b[43margs\u001b[49m\u001b[43m,\u001b[49m\u001b[43m \u001b[49m\u001b[38;5;241;43m*\u001b[39;49m\u001b[38;5;241;43m*\u001b[39;49m\u001b[43mkwargs\u001b[49m\u001b[43m)\u001b[49m\n",
      "File \u001b[0;32m~/projects/drexel/dsci592/DS-capstone-pt1/env/lib/python3.9/site-packages/tensorflow/python/framework/ops.py:1621\u001b[0m, in \u001b[0;36mconvert_to_tensor\u001b[0;34m(value, dtype, name, as_ref, preferred_dtype, dtype_hint, ctx, accepted_result_types)\u001b[0m\n\u001b[1;32m   1616\u001b[0m       \u001b[38;5;28;01mraise\u001b[39;00m \u001b[38;5;167;01mTypeError\u001b[39;00m(\u001b[38;5;124m\"\u001b[39m\u001b[38;5;124mconvert_to_tensor did not convert to \u001b[39m\u001b[38;5;124m\"\u001b[39m\n\u001b[1;32m   1617\u001b[0m                       \u001b[38;5;124m\"\u001b[39m\u001b[38;5;124mthe preferred dtype: \u001b[39m\u001b[38;5;132;01m%s\u001b[39;00m\u001b[38;5;124m vs \u001b[39m\u001b[38;5;132;01m%s\u001b[39;00m\u001b[38;5;124m \u001b[39m\u001b[38;5;124m\"\u001b[39m \u001b[38;5;241m%\u001b[39m\n\u001b[1;32m   1618\u001b[0m                       (ret\u001b[38;5;241m.\u001b[39mdtype\u001b[38;5;241m.\u001b[39mbase_dtype, preferred_dtype\u001b[38;5;241m.\u001b[39mbase_dtype))\n\u001b[1;32m   1620\u001b[0m \u001b[38;5;28;01mif\u001b[39;00m ret \u001b[38;5;129;01mis\u001b[39;00m \u001b[38;5;28;01mNone\u001b[39;00m:\n\u001b[0;32m-> 1621\u001b[0m   ret \u001b[38;5;241m=\u001b[39m \u001b[43mconversion_func\u001b[49m\u001b[43m(\u001b[49m\u001b[43mvalue\u001b[49m\u001b[43m,\u001b[49m\u001b[43m \u001b[49m\u001b[43mdtype\u001b[49m\u001b[38;5;241;43m=\u001b[39;49m\u001b[43mdtype\u001b[49m\u001b[43m,\u001b[49m\u001b[43m \u001b[49m\u001b[43mname\u001b[49m\u001b[38;5;241;43m=\u001b[39;49m\u001b[43mname\u001b[49m\u001b[43m,\u001b[49m\u001b[43m \u001b[49m\u001b[43mas_ref\u001b[49m\u001b[38;5;241;43m=\u001b[39;49m\u001b[43mas_ref\u001b[49m\u001b[43m)\u001b[49m\n\u001b[1;32m   1623\u001b[0m \u001b[38;5;28;01mif\u001b[39;00m ret \u001b[38;5;129;01mis\u001b[39;00m \u001b[38;5;28mNotImplemented\u001b[39m:\n\u001b[1;32m   1624\u001b[0m   \u001b[38;5;28;01mcontinue\u001b[39;00m\n",
      "File \u001b[0;32m~/projects/drexel/dsci592/DS-capstone-pt1/env/lib/python3.9/site-packages/tensorflow/python/framework/tensor_conversion_registry.py:52\u001b[0m, in \u001b[0;36m_default_conversion_function\u001b[0;34m(***failed resolving arguments***)\u001b[0m\n\u001b[1;32m     50\u001b[0m \u001b[38;5;28;01mdef\u001b[39;00m \u001b[38;5;21m_default_conversion_function\u001b[39m(value, dtype, name, as_ref):\n\u001b[1;32m     51\u001b[0m   \u001b[38;5;28;01mdel\u001b[39;00m as_ref  \u001b[38;5;66;03m# Unused.\u001b[39;00m\n\u001b[0;32m---> 52\u001b[0m   \u001b[38;5;28;01mreturn\u001b[39;00m \u001b[43mconstant_op\u001b[49m\u001b[38;5;241;43m.\u001b[39;49m\u001b[43mconstant\u001b[49m\u001b[43m(\u001b[49m\u001b[43mvalue\u001b[49m\u001b[43m,\u001b[49m\u001b[43m \u001b[49m\u001b[43mdtype\u001b[49m\u001b[43m,\u001b[49m\u001b[43m \u001b[49m\u001b[43mname\u001b[49m\u001b[38;5;241;43m=\u001b[39;49m\u001b[43mname\u001b[49m\u001b[43m)\u001b[49m\n",
      "File \u001b[0;32m~/projects/drexel/dsci592/DS-capstone-pt1/env/lib/python3.9/site-packages/tensorflow/python/framework/constant_op.py:271\u001b[0m, in \u001b[0;36mconstant\u001b[0;34m(value, dtype, shape, name)\u001b[0m\n\u001b[1;32m    174\u001b[0m \u001b[38;5;129m@tf_export\u001b[39m(\u001b[38;5;124m\"\u001b[39m\u001b[38;5;124mconstant\u001b[39m\u001b[38;5;124m\"\u001b[39m, v1\u001b[38;5;241m=\u001b[39m[])\n\u001b[1;32m    175\u001b[0m \u001b[38;5;28;01mdef\u001b[39;00m \u001b[38;5;21mconstant\u001b[39m(value, dtype\u001b[38;5;241m=\u001b[39m\u001b[38;5;28;01mNone\u001b[39;00m, shape\u001b[38;5;241m=\u001b[39m\u001b[38;5;28;01mNone\u001b[39;00m, name\u001b[38;5;241m=\u001b[39m\u001b[38;5;124m\"\u001b[39m\u001b[38;5;124mConst\u001b[39m\u001b[38;5;124m\"\u001b[39m):\n\u001b[1;32m    176\u001b[0m   \u001b[38;5;124;03m\"\"\"Creates a constant tensor from a tensor-like object.\u001b[39;00m\n\u001b[1;32m    177\u001b[0m \n\u001b[1;32m    178\u001b[0m \u001b[38;5;124;03m  Note: All eager `tf.Tensor` values are immutable (in contrast to\u001b[39;00m\n\u001b[0;32m   (...)\u001b[0m\n\u001b[1;32m    269\u001b[0m \u001b[38;5;124;03m    ValueError: if called on a symbolic tensor.\u001b[39;00m\n\u001b[1;32m    270\u001b[0m \u001b[38;5;124;03m  \"\"\"\u001b[39;00m\n\u001b[0;32m--> 271\u001b[0m   \u001b[38;5;28;01mreturn\u001b[39;00m \u001b[43m_constant_impl\u001b[49m\u001b[43m(\u001b[49m\u001b[43mvalue\u001b[49m\u001b[43m,\u001b[49m\u001b[43m \u001b[49m\u001b[43mdtype\u001b[49m\u001b[43m,\u001b[49m\u001b[43m \u001b[49m\u001b[43mshape\u001b[49m\u001b[43m,\u001b[49m\u001b[43m \u001b[49m\u001b[43mname\u001b[49m\u001b[43m,\u001b[49m\u001b[43m \u001b[49m\u001b[43mverify_shape\u001b[49m\u001b[38;5;241;43m=\u001b[39;49m\u001b[38;5;28;43;01mFalse\u001b[39;49;00m\u001b[43m,\u001b[49m\n\u001b[1;32m    272\u001b[0m \u001b[43m                        \u001b[49m\u001b[43mallow_broadcast\u001b[49m\u001b[38;5;241;43m=\u001b[39;49m\u001b[38;5;28;43;01mTrue\u001b[39;49;00m\u001b[43m)\u001b[49m\n",
      "File \u001b[0;32m~/projects/drexel/dsci592/DS-capstone-pt1/env/lib/python3.9/site-packages/tensorflow/python/framework/constant_op.py:283\u001b[0m, in \u001b[0;36m_constant_impl\u001b[0;34m(value, dtype, shape, name, verify_shape, allow_broadcast)\u001b[0m\n\u001b[1;32m    281\u001b[0m     \u001b[38;5;28;01mwith\u001b[39;00m trace\u001b[38;5;241m.\u001b[39mTrace(\u001b[38;5;124m\"\u001b[39m\u001b[38;5;124mtf.constant\u001b[39m\u001b[38;5;124m\"\u001b[39m):\n\u001b[1;32m    282\u001b[0m       \u001b[38;5;28;01mreturn\u001b[39;00m _constant_eager_impl(ctx, value, dtype, shape, verify_shape)\n\u001b[0;32m--> 283\u001b[0m   \u001b[38;5;28;01mreturn\u001b[39;00m \u001b[43m_constant_eager_impl\u001b[49m\u001b[43m(\u001b[49m\u001b[43mctx\u001b[49m\u001b[43m,\u001b[49m\u001b[43m \u001b[49m\u001b[43mvalue\u001b[49m\u001b[43m,\u001b[49m\u001b[43m \u001b[49m\u001b[43mdtype\u001b[49m\u001b[43m,\u001b[49m\u001b[43m \u001b[49m\u001b[43mshape\u001b[49m\u001b[43m,\u001b[49m\u001b[43m \u001b[49m\u001b[43mverify_shape\u001b[49m\u001b[43m)\u001b[49m\n\u001b[1;32m    285\u001b[0m g \u001b[38;5;241m=\u001b[39m ops\u001b[38;5;241m.\u001b[39mget_default_graph()\n\u001b[1;32m    286\u001b[0m tensor_value \u001b[38;5;241m=\u001b[39m attr_value_pb2\u001b[38;5;241m.\u001b[39mAttrValue()\n",
      "File \u001b[0;32m~/projects/drexel/dsci592/DS-capstone-pt1/env/lib/python3.9/site-packages/tensorflow/python/framework/constant_op.py:308\u001b[0m, in \u001b[0;36m_constant_eager_impl\u001b[0;34m(ctx, value, dtype, shape, verify_shape)\u001b[0m\n\u001b[1;32m    306\u001b[0m \u001b[38;5;28;01mdef\u001b[39;00m \u001b[38;5;21m_constant_eager_impl\u001b[39m(ctx, value, dtype, shape, verify_shape):\n\u001b[1;32m    307\u001b[0m   \u001b[38;5;124;03m\"\"\"Creates a constant on the current device.\"\"\"\u001b[39;00m\n\u001b[0;32m--> 308\u001b[0m   t \u001b[38;5;241m=\u001b[39m \u001b[43mconvert_to_eager_tensor\u001b[49m\u001b[43m(\u001b[49m\u001b[43mvalue\u001b[49m\u001b[43m,\u001b[49m\u001b[43m \u001b[49m\u001b[43mctx\u001b[49m\u001b[43m,\u001b[49m\u001b[43m \u001b[49m\u001b[43mdtype\u001b[49m\u001b[43m)\u001b[49m\n\u001b[1;32m    309\u001b[0m   \u001b[38;5;28;01mif\u001b[39;00m shape \u001b[38;5;129;01mis\u001b[39;00m \u001b[38;5;28;01mNone\u001b[39;00m:\n\u001b[1;32m    310\u001b[0m     \u001b[38;5;28;01mreturn\u001b[39;00m t\n",
      "File \u001b[0;32m~/projects/drexel/dsci592/DS-capstone-pt1/env/lib/python3.9/site-packages/tensorflow/python/framework/constant_op.py:106\u001b[0m, in \u001b[0;36mconvert_to_eager_tensor\u001b[0;34m(value, ctx, dtype)\u001b[0m\n\u001b[1;32m    104\u001b[0m     dtype \u001b[38;5;241m=\u001b[39m dtypes\u001b[38;5;241m.\u001b[39mas_dtype(dtype)\u001b[38;5;241m.\u001b[39mas_datatype_enum\n\u001b[1;32m    105\u001b[0m ctx\u001b[38;5;241m.\u001b[39mensure_initialized()\n\u001b[0;32m--> 106\u001b[0m \u001b[38;5;28;01mreturn\u001b[39;00m \u001b[43mops\u001b[49m\u001b[38;5;241;43m.\u001b[39;49m\u001b[43mEagerTensor\u001b[49m\u001b[43m(\u001b[49m\u001b[43mvalue\u001b[49m\u001b[43m,\u001b[49m\u001b[43m \u001b[49m\u001b[43mctx\u001b[49m\u001b[38;5;241;43m.\u001b[39;49m\u001b[43mdevice_name\u001b[49m\u001b[43m,\u001b[49m\u001b[43m \u001b[49m\u001b[43mdtype\u001b[49m\u001b[43m)\u001b[49m\n",
      "\u001b[0;31mFailedPreconditionError\u001b[0m: Failed to allocate scratch buffer for device 0"
     ]
    }
   ],
   "source": [
    "with open('baseline1.csv','w') as file:\n",
    "    for name, ds in get_new_loop():\n",
    "        errors = np.zeros(DAYS_TO_PREDICT)\n",
    "        errors_sq = np.zeros(DAYS_TO_PREDICT)\n",
    "        count = 0\n",
    "        for _, y in ds:\n",
    "            count += y.shape[0]\n",
    "            y_ = y.numpy().squeeze()\n",
    "            x_  = np.ones(y_.shape)\n",
    "            errors += np.sum(np.abs(y_ - x_), axis=0)\n",
    "            errors_sq += np.sum(np.power(y_ - x_, 2), axis=0)\n",
    "        results = []\n",
    "        for i in range(DAYS_TO_PREDICT):\n",
    "            mae = errors[i]/count\n",
    "            rmse = np.sqrt(errors_sq[i]/count)\n",
    "            # print(f'{name} mae for day {i}: {mae}')\n",
    "            print(f'{name},{i},{mae},{rmse}')\n",
    "            file.write(f'{name},{i},{mae},{rmse}')\n",
    "            save_summary_results('Baseline 1', name, i, mae, rmse )"
   ]
  },
  {
   "cell_type": "code",
   "execution_count": 188,
   "id": "7ef870f0-941a-4506-bb53-6f287e290db0",
   "metadata": {},
   "outputs": [
    {
     "name": "stdout",
     "output_type": "stream",
     "text": [
      "train mae for day 0: [1756.4777]\n",
      "validate mae for day 0: [1798.8082]\n",
      "test mae for day 0: [1720.9961]\n"
     ]
    }
   ],
   "source": [
    "# OLD VERSION -- SLOW!!!!\n",
    "# for name, ds in get_new_loop():\n",
    "#     sums = [0] * DAYS_TO_PREDICT\n",
    "#     counts = [0] * DAYS_TO_PREDICT\n",
    "#     for _, ys in ds:\n",
    "#         for y_days in ys:\n",
    "#             for i, y in enumerate(y_days):\n",
    "#                 sums[i] += y\n",
    "#                 counts[i] += 1\n",
    "#     for i in range(DAYS_TO_PREDICT):\n",
    "#         print(f'{name} mae for day {i}: {sums[i]/counts[i]}')\n"
   ]
  },
  {
   "cell_type": "markdown",
   "id": "407d390c-d5d5-40fe-a9ef-9089d2c5abca",
   "metadata": {},
   "source": [
    "## Baseline 2: Guess the 30th date every time"
   ]
  },
  {
   "cell_type": "code",
   "execution_count": 12,
   "id": "b73b40d8-0665-4a6a-bdc4-7bed6a7bd4e2",
   "metadata": {},
   "outputs": [
    {
     "name": "stdout",
     "output_type": "stream",
     "text": [
      "train mae for day 0: 32.8429455683335\n",
      "train mae for day 1: 65.7398259615409\n",
      "train mae for day 2: 99.11701932265335\n",
      "train mae for day 3: 132.45343612114812\n",
      "train mae for day 4: 166.47721680662028\n",
      "train mae for day 5: 200.88710522462404\n",
      "train mae for day 6: 235.43198475110944\n",
      "validate mae for day 0: 37.91970440437481\n",
      "validate mae for day 1: 76.11719381219825\n",
      "validate mae for day 2: 114.84567543600355\n",
      "validate mae for day 3: 153.52804808355503\n",
      "validate mae for day 4: 193.36982165730615\n",
      "validate mae for day 5: 233.59019016651888\n",
      "validate mae for day 6: 273.89247413538277\n",
      "test mae for day 0: 31.995716381881007\n",
      "test mae for day 1: 64.18299648159542\n",
      "test mae for day 2: 96.95985784383332\n",
      "test mae for day 3: 129.8896080844417\n",
      "test mae for day 4: 163.57494753948345\n",
      "test mae for day 5: 198.10712595257255\n",
      "test mae for day 6: 232.79992426752497\n"
     ]
    }
   ],
   "source": [
    "for name, ds in get_new_loop():\n",
    "    errors = np.zeros(DAYS_TO_PREDICT)\n",
    "    errors_sq = np.zeros(DAYS_TO_PREDICT)\n",
    "    count = 0\n",
    "    for x, y in ds:\n",
    "        count += x_.shape[0]\n",
    "        y_ = y.numpy().squeeze(-1)\n",
    "        x_ = x.numpy()[:,-1:,:1]\n",
    "        x_ = x_.reshape(-1,1)\n",
    "        x_ = np.repeat(x_, DAYS_TO_PREDICT, axis=1)\n",
    "        errors += np.sum(np.abs(y_ - x_), axis=0)\n",
    "        errors_sq += np.sum(np.power(y_ - x_, 2), axis=0)\n",
    "    for i in range(DAYS_TO_PREDICT):\n",
    "        # print(f'{name} mae for day {i}: {errors[i]/count}')\n",
    "        mae = errors[i]/count\n",
    "        rmse = np.sqrt(errors_sq[i]/count)\n",
    "        print(f'{name} mae for day {i}: {mae}')\n",
    "        save_summary_results('Baseline 2', name, i, mae, rmse )"
   ]
  },
  {
   "cell_type": "markdown",
   "id": "51114724-e1e6-44d2-96a1-6fc5abe14f5f",
   "metadata": {},
   "source": [
    "## Baseline 3: Guess the mean of the 30 days every time"
   ]
  },
  {
   "cell_type": "code",
   "execution_count": 13,
   "id": "f246ccbe-1349-4bcb-a1bb-6701424642ac",
   "metadata": {},
   "outputs": [
    {
     "name": "stdout",
     "output_type": "stream",
     "text": [
      "train mae for day 0: 462.49514401599487\n",
      "train mae for day 1: 495.2954028348815\n",
      "train mae for day 2: 528.6010278368642\n",
      "train mae for day 3: 561.8548935491854\n",
      "train mae for day 4: 595.8009405455307\n",
      "train mae for day 5: 630.1323670250453\n",
      "train mae for day 6: 664.5959063487418\n",
      "validate mae for day 0: 532.3068330208243\n",
      "validate mae for day 1: 570.4765037042552\n",
      "validate mae for day 2: 609.201413929809\n",
      "validate mae for day 3: 647.8992898688152\n",
      "validate mae for day 4: 687.7588941506492\n",
      "validate mae for day 5: 727.9950539466366\n",
      "validate mae for day 6: 768.298935562822\n",
      "test mae for day 0: 444.395906682452\n",
      "test mae for day 1: 476.5631786132527\n",
      "test mae for day 2: 509.32837299718767\n",
      "test mae for day 3: 542.2528963509226\n",
      "test mae for day 4: 575.9422284424502\n",
      "test mae for day 5: 610.4795938040932\n",
      "test mae for day 6: 645.17408522709\n"
     ]
    }
   ],
   "source": [
    "for name, ds in get_new_loop():\n",
    "    errors = np.zeros(DAYS_TO_PREDICT)\n",
    "    errors_sq = np.zeros(DAYS_TO_PREDICT)\n",
    "    count = 0\n",
    "    for x, y in ds:\n",
    "        y_ = y.numpy().squeeze()\n",
    "        x_ = x.numpy()[:,:,:1]\n",
    "        x_ = np.mean(x_, axis=1).flatten()\n",
    "        x_ = x_.reshape(-1,1)\n",
    "        x_ = x_ = np.repeat(x_, DAYS_TO_PREDICT, axis=1)\n",
    "        count += y_.shape[0]\n",
    "        errors += np.sum(np.abs(y_ - x_), axis=0)\n",
    "        errors_sq += np.sum(np.power(y_ - x_, 2), axis=0)\n",
    "    for i in range(DAYS_TO_PREDICT):\n",
    "        # print(f'{name} mae for day {i}: {errors[i]/count}')\n",
    "        mae = errors[i]/count\n",
    "        rmse = np.sqrt(errors_sq[i]/count)\n",
    "        print(f'{name} mae for day {i}: {mae}')\n",
    "        save_summary_results('Baseline 3', name, i, mae, rmse )"
   ]
  },
  {
   "cell_type": "markdown",
   "id": "5cc9bdf0-8f4f-410b-8e6c-2e46725ffe37",
   "metadata": {},
   "source": [
    "## Baseline 4: Linear regression"
   ]
  },
  {
   "cell_type": "code",
   "execution_count": null,
   "id": "ec465390-1b5b-4087-bba2-650370743244",
   "metadata": {},
   "outputs": [],
   "source": [
    "# SLOW\n",
    "for name, ds in get_new_loop():\n",
    "    errors = np.zeros(DAYS_TO_PREDICT)\n",
    "    errors_sq = np.zeros(DAYS_TO_PREDICT)\n",
    "    count = 0\n",
    "    lr = LinearRegression()\n",
    "    for x, y in ds:\n",
    "        y_ = y.numpy().squeeze()  \n",
    "        x_ = x.numpy()[:,:,:1]\n",
    "        days = x_.shape[1]\n",
    "        z = np.arange(days).reshape(-1,1)\n",
    "        next_dates = np.arange(days +1, days + 1 + DAYS_TO_PREDICT)\n",
    "        for i in range(x_.shape[0]):\n",
    "            lr.fit(z,x_[i])\n",
    "            for j in range(DAYS_TO_PREDICT):\n",
    "                errors[j] += np.abs(y[i][j] - lr.predict(next_dates[j].reshape(-1,1))[0][0])\n",
    "                errors_sq[j] += np.power(y[i][j] - lr.predict(next_dates[j].reshape(-1,1))[0][0],2)\n",
    "        count += y_.shape[0]\n",
    "    for k in range(DAYS_TO_PREDICT):\n",
    "        # print(f'{name} mae for day {k}: {errors[k]/count}')\n",
    "        mae = errors[k]/count\n",
    "        rmse = np.sqrt(errors_sq[k]/count)\n",
    "        print(f'{name} mae for day {k}: {mae}')\n",
    "        save_summary_results('Baseline 4', name, k, mae, rmse )"
   ]
  },
  {
   "cell_type": "code",
   "execution_count": 14,
   "id": "5b2e4643-7c4a-45a7-94c0-f82fb9e6c2c0",
   "metadata": {},
   "outputs": [
    {
     "name": "stdout",
     "output_type": "stream",
     "text": [
      "train mae for day 0: 97.15781471459863\n",
      "train mae for day 1: 113.7667740411459\n",
      "train mae for day 2: 131.01529871580124\n",
      "train mae for day 3: 148.64237426448483\n",
      "train mae for day 4: 167.28808143280506\n",
      "train mae for day 5: 186.83568268693898\n",
      "train mae for day 6: 207.0493836704892\n",
      "validate mae for day 0: 74.78185427135678\n",
      "validate mae for day 1: 87.67695477386934\n",
      "validate mae for day 2: 100.69304522613065\n",
      "validate mae for day 3: 114.02956783919598\n",
      "validate mae for day 4: 128.5896381909548\n",
      "validate mae for day 5: 143.52888442211056\n",
      "validate mae for day 6: 158.85883417085427\n",
      "test mae for day 0: 97.92545419404716\n",
      "test mae for day 1: 114.75680324700426\n",
      "test mae for day 2: 132.9558851952068\n",
      "test mae for day 3: 151.3772419791264\n",
      "test mae for day 4: 170.9658484731349\n",
      "test mae for day 5: 192.266814843448\n",
      "test mae for day 6: 214.36963664476227\n"
     ]
    }
   ],
   "source": [
    "# linear regression with sampling\n",
    "for (name, ds), batches in zip(get_new_loop(), [1244, 266, 266]):\n",
    "    samples = random.sample(range(batches), int(batches*0.10))\n",
    "    errors = np.zeros(DAYS_TO_PREDICT)\n",
    "    errors_sq = np.zeros(DAYS_TO_PREDICT)\n",
    "    count = 0\n",
    "    lr = LinearRegression()\n",
    "    for l, (x, y) in enumerate(ds):\n",
    "        if l not in samples:\n",
    "            continue\n",
    "        y_ = y.numpy().squeeze()  \n",
    "        x_ = x.numpy()[:,:,:1]\n",
    "        days = x_.shape[1]\n",
    "        z = np.arange(days).reshape(-1,1)\n",
    "        next_dates = np.arange(days, days + DAYS_TO_PREDICT)\n",
    "        for i in range(x_.shape[0]):\n",
    "            lr.fit(z,x_[i])\n",
    "            for j in range(DAYS_TO_PREDICT):\n",
    "                errors[j] += np.abs(y[i][j] - lr.predict(next_dates[j].reshape(-1,1))[0][0])\n",
    "                errors_sq[j] += np.power(y[i][j] - lr.predict(next_dates[j].reshape(-1,1))[0][0],2)\n",
    "        count += y_.shape[0]\n",
    "    for k in range(DAYS_TO_PREDICT):\n",
    "        # print(f'{name} mae for day {k}: {errors[k]/count}')\n",
    "        mae = errors[k]/count\n",
    "        rmse = np.sqrt(errors_sq[k]/count)\n",
    "        print(f'{name} mae for day {k}: {mae}')\n",
    "        save_summary_results('Baseline 4', name, k, mae, rmse )"
   ]
  },
  {
   "cell_type": "code",
   "execution_count": 15,
   "id": "995d3a89-64d8-49fe-840b-ff2f69d867ef",
   "metadata": {},
   "outputs": [
    {
     "data": {
      "image/png": "[encoded data removed]",
      "text/plain": [
       "<Figure size 432x288 with 1 Axes>"
      ]
     },
     "metadata": {
      "needs_background": "light"
     },
     "output_type": "display_data"
    }
   ],
   "source": [
    "days = x_.shape[1]\n",
    "z = np.arange(days).reshape(-1,1)\n",
    "training = plt.scatter(z, x_[i], color=\"black\", marker='.', label='Training')\n",
    "z_ = np.arange(days+DAYS_TO_PREDICT).reshape(-1,1)\n",
    "\n",
    "plt.plot(z_, lr.predict(z_), color=\"blue\", linewidth=1)\n",
    "for j in range(DAYS_TO_PREDICT):\n",
    "    actual = plt.scatter(30+j, y_[i][j], marker='*', label='Actual', color='blue')\n",
    "    prediction = plt.scatter(30 + j, lr.predict(z_)[30+j], marker='+', label='Predicted', color='red')\n",
    "plt.ylabel('Covid-19 Cases')\n",
    "plt.xlabel('Days')\n",
    "plt.legend([training, actual, prediction], ['Training', 'Actual', 'Predicted'])\n",
    "# plt.xticks(())\n",
    "# plt.yticks(())\n",
    "plt.savefig('linear_regression_example.png')\n",
    "_ = plt.show()"
   ]
  },
  {
   "cell_type": "code",
   "execution_count": 17,
   "id": "4e845335-920e-4972-9120-6f686bf86117",
   "metadata": {},
   "outputs": [
    {
     "data": {
      "text/html": [
       "<div>\n",
       "<style scoped>\n",
       "    .dataframe tbody tr th:only-of-type {\n",
       "        vertical-align: middle;\n",
       "    }\n",
       "\n",
       "    .dataframe tbody tr th {\n",
       "        vertical-align: top;\n",
       "    }\n",
       "\n",
       "    .dataframe thead th {\n",
       "        text-align: right;\n",
       "    }\n",
       "</style>\n",
       "<table border=\"1\" class=\"dataframe\">\n",
       "  <thead>\n",
       "    <tr style=\"text-align: right;\">\n",
       "      <th></th>\n",
       "      <th>train</th>\n",
       "      <th>validate</th>\n",
       "      <th>test</th>\n",
       "    </tr>\n",
       "  </thead>\n",
       "  <tbody>\n",
       "    <tr>\n",
       "      <th>Baseline 3</th>\n",
       "      <td>{0: {'mae': 462.49514401599487, 'rmse': 1946.0...</td>\n",
       "      <td>{0: {'mae': 532.3068330208243, 'rmse': 3812.58...</td>\n",
       "      <td>{0: {'mae': 444.395906682452, 'rmse': 1942.017...</td>\n",
       "    </tr>\n",
       "    <tr>\n",
       "      <th>Baseline 4</th>\n",
       "      <td>{0: {'mae': 97.15781471459863, 'rmse': 581.505...</td>\n",
       "      <td>{0: {'mae': 74.78185427135678, 'rmse': 297.924...</td>\n",
       "      <td>{0: {'mae': 97.92545419404716, 'rmse': 642.633...</td>\n",
       "    </tr>\n",
       "    <tr>\n",
       "      <th>Baseline 1</th>\n",
       "      <td>{0: {'mae': 7404.88496353823, 'rmse': 31472.87...</td>\n",
       "      <td>{0: {'mae': 7671.1445177220485, 'rmse': 36784....</td>\n",
       "      <td>{0: {'mae': 7420.006486887953, 'rmse': 26295.9...</td>\n",
       "    </tr>\n",
       "    <tr>\n",
       "      <th>Baseline 2</th>\n",
       "      <td>{0: {'mae': 32.8429455683335, 'rmse': 289.0405...</td>\n",
       "      <td>{0: {'mae': 37.91970440437481, 'rmse': 401.553...</td>\n",
       "      <td>{0: {'mae': 31.995716381881007, 'rmse': 302.53...</td>\n",
       "    </tr>\n",
       "  </tbody>\n",
       "</table>\n",
       "</div>"
      ],
      "text/plain": [
       "                                                        train  \\\n",
       "Baseline 3  {0: {'mae': 462.49514401599487, 'rmse': 1946.0...   \n",
       "Baseline 4  {0: {'mae': 97.15781471459863, 'rmse': 581.505...   \n",
       "Baseline 1  {0: {'mae': 7404.88496353823, 'rmse': 31472.87...   \n",
       "Baseline 2  {0: {'mae': 32.8429455683335, 'rmse': 289.0405...   \n",
       "\n",
       "                                                     validate  \\\n",
       "Baseline 3  {0: {'mae': 532.3068330208243, 'rmse': 3812.58...   \n",
       "Baseline 4  {0: {'mae': 74.78185427135678, 'rmse': 297.924...   \n",
       "Baseline 1  {0: {'mae': 7671.1445177220485, 'rmse': 36784....   \n",
       "Baseline 2  {0: {'mae': 37.91970440437481, 'rmse': 401.553...   \n",
       "\n",
       "                                                         test  \n",
       "Baseline 3  {0: {'mae': 444.395906682452, 'rmse': 1942.017...  \n",
       "Baseline 4  {0: {'mae': 97.92545419404716, 'rmse': 642.633...  \n",
       "Baseline 1  {0: {'mae': 7420.006486887953, 'rmse': 26295.9...  \n",
       "Baseline 2  {0: {'mae': 31.995716381881007, 'rmse': 302.53...  "
      ]
     },
     "execution_count": 17,
     "metadata": {},
     "output_type": "execute_result"
    }
   ],
   "source": [
    "df = pd.DataFrame(summary_results)\n",
    "df = df.T\n",
    "df"
   ]
  },
  {
   "cell_type": "code",
   "execution_count": 18,
   "id": "7d98bd5a-7249-4a7a-a369-bd378c7a59a1",
   "metadata": {},
   "outputs": [],
   "source": [
    "baselines_mae = [[] for i in range(4)]\n",
    "baselines_rmse = [[] for i in range(4)]\n",
    "for i, baseline in enumerate(summary_results.values()):\n",
    "    for _, days in baseline.items():\n",
    "        mae = {}\n",
    "        rmse = {}\n",
    "        for k, v in days.items():\n",
    "            mae[k] = v['mae']\n",
    "            rmse[k] = v['rmse']\n",
    "        baselines_mae[i].append(mae)\n",
    "        baselines_rmse[i].append(rmse)\n"
   ]
  },
  {
   "cell_type": "code",
   "execution_count": 19,
   "id": "73efc990-384a-4b3f-a407-38b1d48f26ff",
   "metadata": {},
   "outputs": [
    {
     "data": {
      "text/html": [
       "<div>\n",
       "<style scoped>\n",
       "    .dataframe tbody tr th:only-of-type {\n",
       "        vertical-align: middle;\n",
       "    }\n",
       "\n",
       "    .dataframe tbody tr th {\n",
       "        vertical-align: top;\n",
       "    }\n",
       "\n",
       "    .dataframe thead th {\n",
       "        text-align: right;\n",
       "    }\n",
       "</style>\n",
       "<table border=\"1\" class=\"dataframe\">\n",
       "  <thead>\n",
       "    <tr style=\"text-align: right;\">\n",
       "      <th></th>\n",
       "      <th>1</th>\n",
       "      <th>2</th>\n",
       "      <th>3</th>\n",
       "      <th>4</th>\n",
       "      <th>5</th>\n",
       "      <th>6</th>\n",
       "      <th>7</th>\n",
       "    </tr>\n",
       "  </thead>\n",
       "  <tbody>\n",
       "    <tr>\n",
       "      <th>Baseline 1</th>\n",
       "      <td>444.395907</td>\n",
       "      <td>476.563179</td>\n",
       "      <td>509.328373</td>\n",
       "      <td>542.252896</td>\n",
       "      <td>575.942228</td>\n",
       "      <td>610.479594</td>\n",
       "      <td>645.174085</td>\n",
       "    </tr>\n",
       "    <tr>\n",
       "      <th>Baseline 2</th>\n",
       "      <td>97.925454</td>\n",
       "      <td>114.756803</td>\n",
       "      <td>132.955885</td>\n",
       "      <td>151.377242</td>\n",
       "      <td>170.965848</td>\n",
       "      <td>192.266815</td>\n",
       "      <td>214.369637</td>\n",
       "    </tr>\n",
       "    <tr>\n",
       "      <th>Baseline 3</th>\n",
       "      <td>7420.006487</td>\n",
       "      <td>7452.162449</td>\n",
       "      <td>7484.917689</td>\n",
       "      <td>7517.833439</td>\n",
       "      <td>7551.514538</td>\n",
       "      <td>7586.005092</td>\n",
       "      <td>7620.654544</td>\n",
       "    </tr>\n",
       "    <tr>\n",
       "      <th>Baseline 4</th>\n",
       "      <td>31.995716</td>\n",
       "      <td>64.182996</td>\n",
       "      <td>96.959858</td>\n",
       "      <td>129.889608</td>\n",
       "      <td>163.574948</td>\n",
       "      <td>198.107126</td>\n",
       "      <td>232.799924</td>\n",
       "    </tr>\n",
       "  </tbody>\n",
       "</table>\n",
       "</div>"
      ],
      "text/plain": [
       "                      1            2            3            4            5  \\\n",
       "Baseline 1   444.395907   476.563179   509.328373   542.252896   575.942228   \n",
       "Baseline 2    97.925454   114.756803   132.955885   151.377242   170.965848   \n",
       "Baseline 3  7420.006487  7452.162449  7484.917689  7517.833439  7551.514538   \n",
       "Baseline 4    31.995716    64.182996    96.959858   129.889608   163.574948   \n",
       "\n",
       "                      6            7  \n",
       "Baseline 1   610.479594   645.174085  \n",
       "Baseline 2   192.266815   214.369637  \n",
       "Baseline 3  7586.005092  7620.654544  \n",
       "Baseline 4   198.107126   232.799924  "
      ]
     },
     "execution_count": 19,
     "metadata": {},
     "output_type": "execute_result"
    }
   ],
   "source": [
    "mae_df = pd.DataFrame({'Baseline 1': baselines_mae[0][2], 'Baseline 2': baselines_mae[1][2], 'Baseline 3': baselines_mae[2][2], 'Baseline 4': baselines_mae[3][2]}).T\n",
    "mae_df.columns = ([i for i in range(1,8)])\n",
    "mae_df"
   ]
  },
  {
   "cell_type": "code",
   "execution_count": 20,
   "id": "e5343791-0fd0-4a77-a00d-03036657ebdc",
   "metadata": {},
   "outputs": [
    {
     "data": {
      "image/png": "[encoded data removed]",
      "text/plain": [
       "<Figure size 432x288 with 1 Axes>"
      ]
     },
     "metadata": {
      "needs_background": "light"
     },
     "output_type": "display_data"
    }
   ],
   "source": [
    "ax = mae_df.T.plot(kind='line',\n",
    "                 # title='Mean Absolute Loss (Validation Set)',\n",
    "                 logy=True,\n",
    "                 xlabel='Steps (Days)',\n",
    "                 ylabel='Log MAE')\n",
    "fig = ax.get_figure()\n",
    "fig.savefig('mae_validation.png')"
   ]
  },
  {
   "cell_type": "code",
   "execution_count": 21,
   "id": "d901c4f4-a13b-4f60-9779-22000a0356b7",
   "metadata": {},
   "outputs": [
    {
     "data": {
      "text/html": [
       "<div>\n",
       "<style scoped>\n",
       "    .dataframe tbody tr th:only-of-type {\n",
       "        vertical-align: middle;\n",
       "    }\n",
       "\n",
       "    .dataframe tbody tr th {\n",
       "        vertical-align: top;\n",
       "    }\n",
       "\n",
       "    .dataframe thead th {\n",
       "        text-align: right;\n",
       "    }\n",
       "</style>\n",
       "<table border=\"1\" class=\"dataframe\">\n",
       "  <thead>\n",
       "    <tr style=\"text-align: right;\">\n",
       "      <th></th>\n",
       "      <th>1</th>\n",
       "      <th>2</th>\n",
       "      <th>3</th>\n",
       "      <th>4</th>\n",
       "      <th>5</th>\n",
       "      <th>6</th>\n",
       "      <th>7</th>\n",
       "    </tr>\n",
       "  </thead>\n",
       "  <tbody>\n",
       "    <tr>\n",
       "      <th>Baseline 1</th>\n",
       "      <td>1942.017632</td>\n",
       "      <td>2089.197525</td>\n",
       "      <td>2240.459369</td>\n",
       "      <td>2390.455388</td>\n",
       "      <td>2545.323085</td>\n",
       "      <td>2725.077279</td>\n",
       "      <td>2903.946220</td>\n",
       "    </tr>\n",
       "    <tr>\n",
       "      <th>Baseline 2</th>\n",
       "      <td>642.633068</td>\n",
       "      <td>738.872518</td>\n",
       "      <td>838.658144</td>\n",
       "      <td>935.909669</td>\n",
       "      <td>1036.623849</td>\n",
       "      <td>1152.735478</td>\n",
       "      <td>1271.288858</td>\n",
       "    </tr>\n",
       "    <tr>\n",
       "      <th>Baseline 3</th>\n",
       "      <td>26295.966086</td>\n",
       "      <td>26398.496257</td>\n",
       "      <td>26504.402907</td>\n",
       "      <td>26612.016481</td>\n",
       "      <td>26723.192961</td>\n",
       "      <td>26847.098364</td>\n",
       "      <td>26972.445687</td>\n",
       "    </tr>\n",
       "    <tr>\n",
       "      <th>Baseline 4</th>\n",
       "      <td>302.536934</td>\n",
       "      <td>470.624211</td>\n",
       "      <td>632.921437</td>\n",
       "      <td>789.466131</td>\n",
       "      <td>948.476749</td>\n",
       "      <td>1133.668605</td>\n",
       "      <td>1316.425357</td>\n",
       "    </tr>\n",
       "  </tbody>\n",
       "</table>\n",
       "</div>"
      ],
      "text/plain": [
       "                       1             2             3             4  \\\n",
       "Baseline 1   1942.017632   2089.197525   2240.459369   2390.455388   \n",
       "Baseline 2    642.633068    738.872518    838.658144    935.909669   \n",
       "Baseline 3  26295.966086  26398.496257  26504.402907  26612.016481   \n",
       "Baseline 4    302.536934    470.624211    632.921437    789.466131   \n",
       "\n",
       "                       5             6             7  \n",
       "Baseline 1   2545.323085   2725.077279   2903.946220  \n",
       "Baseline 2   1036.623849   1152.735478   1271.288858  \n",
       "Baseline 3  26723.192961  26847.098364  26972.445687  \n",
       "Baseline 4    948.476749   1133.668605   1316.425357  "
      ]
     },
     "execution_count": 21,
     "metadata": {},
     "output_type": "execute_result"
    }
   ],
   "source": [
    "rmse_df = pd.DataFrame({'Baseline 1': baselines_rmse[0][2], 'Baseline 2': baselines_rmse[1][2], 'Baseline 3': baselines_rmse[2][2], 'Baseline 4': baselines_rmse[3][2]}).T\n",
    "rmse_df.columns = ([i for i in range(1,8)])\n",
    "rmse_df"
   ]
  },
  {
   "cell_type": "code",
   "execution_count": 22,
   "id": "b451bbf7-8e9d-4bf8-9677-1ee7c3928838",
   "metadata": {},
   "outputs": [
    {
     "data": {
      "image/png": "[encoded data removed]",
      "text/plain": [
       "<Figure size 432x288 with 1 Axes>"
      ]
     },
     "metadata": {
      "needs_background": "light"
     },
     "output_type": "display_data"
    }
   ],
   "source": [
    "ax = rmse_df.T.plot(kind='line',\n",
    "                 # title='Root Mean Square Loss (Validation Set)',\n",
    "                 logy=True,\n",
    "                 xlabel='Steps (Days)',\n",
    "                 ylabel='Log RMSE')\n",
    "fig = ax.get_figure()\n",
    "fig.savefig('rmse_validation.png')"
   ]
  },
  {
   "cell_type": "code",
   "execution_count": 197,
   "id": "57fe7194-e898-41e8-893a-8ddaf5e1dac1",
   "metadata": {},
   "outputs": [
    {
     "data": {
      "text/html": [
       "<div>\n",
       "<style scoped>\n",
       "    .dataframe tbody tr th:only-of-type {\n",
       "        vertical-align: middle;\n",
       "    }\n",
       "\n",
       "    .dataframe tbody tr th {\n",
       "        vertical-align: top;\n",
       "    }\n",
       "\n",
       "    .dataframe thead th {\n",
       "        text-align: right;\n",
       "    }\n",
       "</style>\n",
       "<table border=\"1\" class=\"dataframe\">\n",
       "  <thead>\n",
       "    <tr style=\"text-align: center;\">\n",
       "      <th></th>\n",
       "      <th>mse</th>\n",
       "      <th>rmse</th>\n",
       "      <th>0</th>\n",
       "      <th>1</th>\n",
       "      <th>2</th>\n",
       "      <th>3</th>\n",
       "      <th>4</th>\n",
       "      <th>5</th>\n",
       "      <th>6</th>\n",
       "    </tr>\n",
       "  </thead>\n",
       "  <tbody>\n",
       "    <tr>\n",
       "      <th>Baseline 1</th>\n",
       "      <td>1</td>\n",
       "      <td>{0: 25747.03486813846, 1: 25857.53159076635, 2...</td>\n",
       "      <td>NaN</td>\n",
       "      <td>NaN</td>\n",
       "      <td>NaN</td>\n",
       "      <td>NaN</td>\n",
       "      <td>NaN</td>\n",
       "      <td>NaN</td>\n",
       "      <td>NaN</td>\n",
       "    </tr>\n",
       "    <tr>\n",
       "      <th>Baseline 2</th>\n",
       "      <td>NaN</td>\n",
       "      <td>NaN</td>\n",
       "      <td>288.227048</td>\n",
       "      <td>469.957367</td>\n",
       "      <td>643.21965</td>\n",
       "      <td>804.178475</td>\n",
       "      <td>975.87662</td>\n",
       "      <td>1168.78451</td>\n",
       "      <td>1358.812619</td>\n",
       "    </tr>\n",
       "    <tr>\n",
       "      <th>Baseline 3</th>\n",
       "      <td>NaN</td>\n",
       "      <td>NaN</td>\n",
       "      <td>1989.854307</td>\n",
       "      <td>2144.333389</td>\n",
       "      <td>2303.820253</td>\n",
       "      <td>2459.154202</td>\n",
       "      <td>2623.281517</td>\n",
       "      <td>2809.449287</td>\n",
       "      <td>2994.362205</td>\n",
       "    </tr>\n",
       "    <tr>\n",
       "      <th>Baseline 4</th>\n",
       "      <td>NaN</td>\n",
       "      <td>NaN</td>\n",
       "      <td>903.048098</td>\n",
       "      <td>1080.662202</td>\n",
       "      <td>1276.744465</td>\n",
       "      <td>1462.506419</td>\n",
       "      <td>1658.234656</td>\n",
       "      <td>1985.663126</td>\n",
       "      <td>2307.226328</td>\n",
       "    </tr>\n",
       "  </tbody>\n",
       "</table>\n",
       "</div>"
      ],
      "text/plain": [
       "           mse                         rmse                         \\\n",
       "Baseline 1    1  {0: 25747.03486813846, 1: 25857.53159076635, 2...   \n",
       "Baseline 2  NaN                                                NaN   \n",
       "Baseline 3  NaN                                                NaN   \n",
       "Baseline 4  NaN                                                NaN   \n",
       "\n",
       "                0            1            2            3            4        \\\n",
       "Baseline 1          NaN          NaN          NaN          NaN          NaN   \n",
       "Baseline 2   288.227048   469.957367    643.21965   804.178475    975.87662   \n",
       "Baseline 3  1989.854307  2144.333389  2303.820253  2459.154202  2623.281517   \n",
       "Baseline 4   903.048098  1080.662202  1276.744465  1462.506419  1658.234656   \n",
       "\n",
       "                5            6        \n",
       "Baseline 1          NaN          NaN  \n",
       "Baseline 2   1168.78451  1358.812619  \n",
       "Baseline 3  2809.449287  2994.362205  \n",
       "Baseline 4  1985.663126  2307.226328  "
      ]
     },
     "execution_count": 197,
     "metadata": {},
     "output_type": "execute_result"
    }
   ],
   "source": [
    "both_df = pd.DataFrame({'Baseline 1': {'mse': 1, 'rmse': baselines_rmse[0][2]}, 'Baseline 2': baselines_rmse[1][2], 'Baseline 3': baselines_rmse[2][2], 'Baseline 4': baselines_rmse[3][2]}).T\n",
    "# both_df.columns = ([i for i in range(1,8)])\n",
    "both_df"
   ]
  },
  {
   "cell_type": "code",
   "execution_count": 198,
   "id": "e1b55f6c-8d18-45eb-bcda-8aa8366a2f84",
   "metadata": {},
   "outputs": [
    {
     "data": {
      "text/html": [
       "<div>\n",
       "<style scoped>\n",
       "    .dataframe tbody tr th:only-of-type {\n",
       "        vertical-align: middle;\n",
       "    }\n",
       "\n",
       "    .dataframe tbody tr th {\n",
       "        vertical-align: top;\n",
       "    }\n",
       "\n",
       "    .dataframe thead th {\n",
       "        text-align: right;\n",
       "    }\n",
       "</style>\n",
       "<table border=\"1\" class=\"dataframe\">\n",
       "  <thead>\n",
       "    <tr style=\"text-align: center;\">\n",
       "      <th></th>\n",
       "      <th></th>\n",
       "      <th>MAE</th>\n",
       "      <th>RMSE</th>\n",
       "    </tr>\n",
       "  </thead>\n",
       "  <tbody>\n",
       "    <tr>\n",
       "      <th rowspan=\"7\" valign=\"top\">Baseline 1</th>\n",
       "      <th>0</th>\n",
       "      <td>7290.052478</td>\n",
       "      <td>25747.034868</td>\n",
       "    </tr>\n",
       "    <tr>\n",
       "      <th>1</th>\n",
       "      <td>7322.190589</td>\n",
       "      <td>25857.531591</td>\n",
       "    </tr>\n",
       "    <tr>\n",
       "      <th>2</th>\n",
       "      <td>7354.994960</td>\n",
       "      <td>25972.493580</td>\n",
       "    </tr>\n",
       "    <tr>\n",
       "      <th>3</th>\n",
       "      <td>7387.805210</td>\n",
       "      <td>26086.957315</td>\n",
       "    </tr>\n",
       "    <tr>\n",
       "      <th>4</th>\n",
       "      <td>7421.379804</td>\n",
       "      <td>26207.090798</td>\n",
       "    </tr>\n",
       "    <tr>\n",
       "      <th>5</th>\n",
       "      <td>7455.775214</td>\n",
       "      <td>26339.562432</td>\n",
       "    </tr>\n",
       "    <tr>\n",
       "      <th>6</th>\n",
       "      <td>7490.349461</td>\n",
       "      <td>26473.555333</td>\n",
       "    </tr>\n",
       "    <tr>\n",
       "      <th rowspan=\"7\" valign=\"top\">Baseline 2</th>\n",
       "      <th>0</th>\n",
       "      <td>32.002339</td>\n",
       "      <td>288.227048</td>\n",
       "    </tr>\n",
       "    <tr>\n",
       "      <th>1</th>\n",
       "      <td>64.206147</td>\n",
       "      <td>469.957367</td>\n",
       "    </tr>\n",
       "    <tr>\n",
       "      <th>2</th>\n",
       "      <td>97.051148</td>\n",
       "      <td>643.219650</td>\n",
       "    </tr>\n",
       "    <tr>\n",
       "      <th>3</th>\n",
       "      <td>129.907325</td>\n",
       "      <td>804.178475</td>\n",
       "    </tr>\n",
       "    <tr>\n",
       "      <th>4</th>\n",
       "      <td>163.540894</td>\n",
       "      <td>975.876620</td>\n",
       "    </tr>\n",
       "    <tr>\n",
       "      <th>5</th>\n",
       "      <td>197.983226</td>\n",
       "      <td>1168.784510</td>\n",
       "    </tr>\n",
       "    <tr>\n",
       "      <th>6</th>\n",
       "      <td>232.623025</td>\n",
       "      <td>1358.812619</td>\n",
       "    </tr>\n",
       "    <tr>\n",
       "      <th rowspan=\"7\" valign=\"top\">Baseline 3</th>\n",
       "      <th>0</th>\n",
       "      <td>449.128383</td>\n",
       "      <td>1989.854307</td>\n",
       "    </tr>\n",
       "    <tr>\n",
       "      <th>1</th>\n",
       "      <td>481.297429</td>\n",
       "      <td>2144.333389</td>\n",
       "    </tr>\n",
       "    <tr>\n",
       "      <th>2</th>\n",
       "      <td>514.131535</td>\n",
       "      <td>2303.820253</td>\n",
       "    </tr>\n",
       "    <tr>\n",
       "      <th>3</th>\n",
       "      <td>546.969945</td>\n",
       "      <td>2459.154202</td>\n",
       "    </tr>\n",
       "    <tr>\n",
       "      <th>4</th>\n",
       "      <td>580.571591</td>\n",
       "      <td>2623.281517</td>\n",
       "    </tr>\n",
       "    <tr>\n",
       "      <th>5</th>\n",
       "      <td>614.993736</td>\n",
       "      <td>2809.449287</td>\n",
       "    </tr>\n",
       "    <tr>\n",
       "      <th>6</th>\n",
       "      <td>649.594455</td>\n",
       "      <td>2994.362205</td>\n",
       "    </tr>\n",
       "    <tr>\n",
       "      <th rowspan=\"7\" valign=\"top\">Baseline 4</th>\n",
       "      <th>0</th>\n",
       "      <td>113.090974</td>\n",
       "      <td>903.048098</td>\n",
       "    </tr>\n",
       "    <tr>\n",
       "      <th>1</th>\n",
       "      <td>134.149932</td>\n",
       "      <td>1080.662202</td>\n",
       "    </tr>\n",
       "    <tr>\n",
       "      <th>2</th>\n",
       "      <td>156.651604</td>\n",
       "      <td>1276.744465</td>\n",
       "    </tr>\n",
       "    <tr>\n",
       "      <th>3</th>\n",
       "      <td>179.542965</td>\n",
       "      <td>1462.506419</td>\n",
       "    </tr>\n",
       "    <tr>\n",
       "      <th>4</th>\n",
       "      <td>203.992230</td>\n",
       "      <td>1658.234656</td>\n",
       "    </tr>\n",
       "    <tr>\n",
       "      <th>5</th>\n",
       "      <td>232.448183</td>\n",
       "      <td>1985.663126</td>\n",
       "    </tr>\n",
       "    <tr>\n",
       "      <th>6</th>\n",
       "      <td>261.718090</td>\n",
       "      <td>2307.226328</td>\n",
       "    </tr>\n",
       "  </tbody>\n",
       "</table>\n",
       "</div>"
      ],
      "text/plain": [
       "                  MAE          RMSE    \n",
       "Baseline 1 0  7290.052478  25747.034868\n",
       "           1  7322.190589  25857.531591\n",
       "           2  7354.994960  25972.493580\n",
       "           3  7387.805210  26086.957315\n",
       "           4  7421.379804  26207.090798\n",
       "           5  7455.775214  26339.562432\n",
       "           6  7490.349461  26473.555333\n",
       "Baseline 2 0    32.002339    288.227048\n",
       "           1    64.206147    469.957367\n",
       "           2    97.051148    643.219650\n",
       "           3   129.907325    804.178475\n",
       "           4   163.540894    975.876620\n",
       "           5   197.983226   1168.784510\n",
       "           6   232.623025   1358.812619\n",
       "Baseline 3 0   449.128383   1989.854307\n",
       "           1   481.297429   2144.333389\n",
       "           2   514.131535   2303.820253\n",
       "           3   546.969945   2459.154202\n",
       "           4   580.571591   2623.281517\n",
       "           5   614.993736   2809.449287\n",
       "           6   649.594455   2994.362205\n",
       "Baseline 4 0   113.090974    903.048098\n",
       "           1   134.149932   1080.662202\n",
       "           2   156.651604   1276.744465\n",
       "           3   179.542965   1462.506419\n",
       "           4   203.992230   1658.234656\n",
       "           5   232.448183   1985.663126\n",
       "           6   261.718090   2307.226328"
      ]
     },
     "execution_count": 198,
     "metadata": {},
     "output_type": "execute_result"
    }
   ],
   "source": [
    "sr = {}\n",
    "for k,v in summary_results.items():\n",
    "    for k_, v_ in v.items():\n",
    "        if k_ == 'test':\n",
    "            sr[k] = v_\n",
    "\n",
    "\n",
    "\n",
    "combined_df = pd.DataFrame.from_dict({(i,j): sr[i][j] \n",
    "                           for i in sr.keys() \n",
    "                           for j in sr[i].keys()},\n",
    "                       orient='index')\n",
    "combined_df.columns = ['MAE', 'RMSE']\n",
    "combined_df"
   ]
  },
  {
   "cell_type": "code",
   "execution_count": 199,
   "id": "8b3e13ca-2a7a-47e0-b953-ea1fbdcab9d8",
   "metadata": {},
   "outputs": [
    {
     "data": {
      "text/plain": [
       "{'Baseline 1': {0: {'mae': 7290.052477530079, 'rmse': 25747.03486813846}, 1: {'mae': 7322.190589378678, 'rmse': 25857.53159076635}, 2: {'mae': 7354.994959806529, 'rmse': 25972.49357974198}, 3: {'mae': 7387.8052104600965, 'rmse': 26086.957314706986}, 4: {'mae': 7421.379803816684, 'rmse': 26207.090798477326}, 5: {'mae': 7455.7752141517185, 'rmse': 26339.562432454593}, 6: {'mae': 7490.349460947918, 'rmse': 26473.555333473396}},\n",
       " 'Baseline 2': {0: {'mae': 32.00233928262, 'rmse': 288.22704839849234}, 1: {'mae': 64.20614692653673, 'rmse': 469.9573670070359}, 2: {'mae': 97.0511477929377, 'rmse': 643.2196499848361}, 3: {'mae': 129.90732523185645, 'rmse': 804.1784748611365}, 4: {'mae': 163.54089412580143, 'rmse': 975.8766200110147}, 5: {'mae': 197.9832257238215, 'rmse': 1168.78451026302}, 6: {'mae': 232.62302517083168, 'rmse': 1358.8126194109154}},\n",
       " 'Baseline 3': {0: {'mae': 449.1283827871423, 'rmse': 1989.8543070995056}, 1: {'mae': 481.2974285033452, 'rmse': 2144.3333888682196}, 2: {'mae': 514.1315348810114, 'rmse': 2303.820253172908}, 3: {'mae': 546.9699447573106, 'rmse': 2459.154202339399}, 4: {'mae': 580.5715906785663, 'rmse': 2623.281516716242}, 5: {'mae': 614.9937357926165, 'rmse': 2809.449286776139}, 6: {'mae': 649.5944546261409, 'rmse': 2994.3622053886816}},\n",
       " 'Baseline 4': {0: {'mae': 113.0909741012756, 'rmse': 903.0480978483067}, 1: {'mae': 134.1499323540781, 'rmse': 1080.6622018874937}, 2: {'mae': 156.65160417471975, 'rmse': 1276.7444645178007}, 3: {'mae': 179.54296482412062, 'rmse': 1462.5064188322826}, 4: {'mae': 203.99223038268264, 'rmse': 1658.2346555958059}, 5: {'mae': 232.44818322381136, 'rmse': 1985.6631257628526}, 6: {'mae': 261.7180904522613, 'rmse': 2307.226328441418}}}"
      ]
     },
     "execution_count": 199,
     "metadata": {},
     "output_type": "execute_result"
    }
   ],
   "source": [
    "sr = {}\n",
    "for k,v in summary_results.items():\n",
    "    for k_, v_ in v.items():\n",
    "        if k_ == 'test':\n",
    "            sr[k] = v_\n",
    "\n",
    "\n",
    "\n",
    "combined_df = pd.DataFrame.from_dict({(i,j): sr[i][j] \n",
    "                           for i in sr.keys() \n",
    "                           for j in sr[i].keys()},\n",
    "                       orient='index')\n",
    "combined_df.columns = ['MAE', 'RMSE']\n",
    "combined_df"
   ]
  },
  {
   "cell_type": "code",
   "execution_count": 24,
   "id": "2292440e-cdd6-47d9-8147-20a40a9b3151",
   "metadata": {},
   "outputs": [
    {
     "name": "stdout",
     "output_type": "stream",
     "text": [
      "\\begin{tabular}{lrrrrrrrrrrrrrr}\n",
      " & \\multicolumn{2}{r}{Step 0} & \\multicolumn{2}{r}{Step 1} & \\multicolumn{2}{r}{Step 2} & \\multicolumn{2}{r}{Step 3} & \\multicolumn{2}{r}{Step 4} & \\multicolumn{2}{r}{Step 5} & \\multicolumn{2}{r}{Step 6} \\\\\n",
      " & MAE & RMSE & MAE & RMSE & MAE & RMSE & MAE & RMSE & MAE & RMSE & MAE & RMSE & MAE & RMSE \\\\\n",
      "Baseline 3 & 444.395907 & 1942.017632 & 476.563179 & 2089.197525 & 509.328373 & 2240.459369 & 542.252896 & 2390.455388 & 575.942228 & 2545.323085 & 610.479594 & 2725.077279 & 645.174085 & 2903.946220 \\\\\n",
      "Baseline 4 & 97.925454 & 642.633068 & 114.756803 & 738.872518 & 132.955885 & 838.658144 & 151.377242 & 935.909669 & 170.965848 & 1036.623849 & 192.266815 & 1152.735478 & 214.369637 & 1271.288858 \\\\\n",
      "Baseline 1 & 7420.006487 & 26295.966086 & 7452.162449 & 26398.496257 & 7484.917689 & 26504.402907 & 7517.833439 & 26612.016481 & 7551.514538 & 26723.192961 & 7586.005092 & 26847.098364 & 7620.654544 & 26972.445687 \\\\\n",
      "Baseline 2 & 31.995716 & 302.536934 & 64.182996 & 470.624211 & 96.959858 & 632.921437 & 129.889608 & 789.466131 & 163.574948 & 948.476749 & 198.107126 & 1133.668605 & 232.799924 & 1316.425357 \\\\\n",
      "\\end{tabular}\n",
      "\n"
     ]
    }
   ],
   "source": [
    "sr = {}\n",
    "for k,v in summary_results.items():\n",
    "    for k_, v_ in v.items():\n",
    "        if k_ == 'test':\n",
    "            sr[k] = v_\n",
    "            \n",
    "sr2 = defaultdict(dict)\n",
    "for bl, days in sr.items():\n",
    "    for day, values in days.items():\n",
    "        for typ, value in values.items():\n",
    "            sr2[(f'Step {day}', typ.upper())][bl] = value\n",
    "sr2\n",
    "\n",
    "\n",
    "\n",
    "\n",
    "combined_df = pd.DataFrame.from_dict(sr2)\n",
    "pd.set_option('display.colheader_justify', 'center')\n",
    "print(combined_df.style.to_latex())"
   ]
  },
  {
   "cell_type": "code",
   "execution_count": 153,
   "id": "33d7c711-2333-4ef7-a94c-eca3ed83d343",
   "metadata": {},
   "outputs": [
    {
     "data": {
      "text/plain": [
       "{('Baseline 1', 0): {'mae': 1681.0408622411487, 'rmse': 2134.5663057078123},\n",
       " ('Baseline 1', 1): {'mae': 1687.7233027453788, 'rmse': 2141.398480881179},\n",
       " ('Baseline 1', 2): {'mae': 1694.311070075936, 'rmse': 2148.1536053043465},\n",
       " ('Baseline 1', 3): {'mae': 1700.827257824424, 'rmse': 2154.852786355121},\n",
       " ('Baseline 1', 4): {'mae': 1707.1916564602136, 'rmse': 2161.401065369048},\n",
       " ('Baseline 1', 5): {'mae': 1713.4062067795971, 'rmse': 2167.8274150411007},\n",
       " ('Baseline 1', 6): {'mae': 1719.388321305421, 'rmse': 2174.0149533436165},\n",
       " ('Baseline 2', 0): {'mae': 8.361327278551375, 'rmse': 69.5849279094092},\n",
       " ('Baseline 2', 1): {'mae': 16.819735825592133, 'rmse': 103.93348088952143},\n",
       " ('Baseline 2', 2): {'mae': 25.49928963087185, 'rmse': 133.3978759184048},\n",
       " ('Baseline 2', 3): {'mae': 34.34123721052929, 'rmse': 159.17909200571256},\n",
       " ('Baseline 2', 4): {'mae': 43.431795142356464, 'rmse': 184.56480663129327},\n",
       " ('Baseline 2', 5): {'mae': 52.75118237832338, 'rmse': 209.6385137470729},\n",
       " ('Baseline 2', 6): {'mae': 62.35643571818884, 'rmse': 235.0684859375391},\n",
       " ('Baseline 3', 0): {'mae': 112.0805320146442, 'rmse': 191.10068672107312},\n",
       " ('Baseline 3', 1): {'mae': 120.35551247426044, 'rmse': 209.2377902783539},\n",
       " ('Baseline 3', 2): {'mae': 128.78724676464043, 'rmse': 227.46721426592632},\n",
       " ('Baseline 3', 3): {'mae': 137.3621345783237, 'rmse': 245.5909938345075},\n",
       " ('Baseline 3', 4): {'mae': 146.1271622000351, 'rmse': 264.1141265366207},\n",
       " ('Baseline 3', 5): {'mae': 155.0805315432236, 'rmse': 282.9536688557736},\n",
       " ('Baseline 3', 6): {'mae': 164.2627304775302, 'rmse': 302.4204108966704},\n",
       " ('Baseline 4', 0): {'mae': 30.226766041747197, 'rmse': 114.1633250455933},\n",
       " ('Baseline 4', 1): {'mae': 36.039850695786626, 'rmse': 143.28973138441035},\n",
       " ('Baseline 4', 2): {'mae': 42.25584654039428, 'rmse': 173.18942218480495},\n",
       " ('Baseline 4', 3): {'mae': 48.50122245844608, 'rmse': 196.72904965844},\n",
       " ('Baseline 4', 4): {'mae': 55.24151043679938, 'rmse': 222.033735774967},\n",
       " ('Baseline 4', 5): {'mae': 62.52985117897178, 'rmse': 248.3887970722847},\n",
       " ('Baseline 4', 6): {'mae': 70.06082334750677, 'rmse': 273.83842207958173}}"
      ]
     },
     "execution_count": 153,
     "metadata": {},
     "output_type": "execute_result"
    }
   ],
   "source": [
    "{(i,j): sr[i][j] \n",
    "                           for i in sr.keys() \n",
    "                           for j in sr[i].keys()}"
   ]
  },
  {
   "cell_type": "code",
   "execution_count": 154,
   "id": "01cfd64b-5950-4831-90a5-1746406aa144",
   "metadata": {},
   "outputs": [
    {
     "data": {
      "text/plain": [
       "{'Baseline 1': {0: {'mae': 1681.0408622411487, 'rmse': 2134.5663057078123}, 1: {'mae': 1687.7233027453788, 'rmse': 2141.398480881179}, 2: {'mae': 1694.311070075936, 'rmse': 2148.1536053043465}, 3: {'mae': 1700.827257824424, 'rmse': 2154.852786355121}, 4: {'mae': 1707.1916564602136, 'rmse': 2161.401065369048}, 5: {'mae': 1713.4062067795971, 'rmse': 2167.8274150411007}, 6: {'mae': 1719.388321305421, 'rmse': 2174.0149533436165}},\n",
       " 'Baseline 2': {0: {'mae': 8.361327278551375, 'rmse': 69.5849279094092}, 1: {'mae': 16.819735825592133, 'rmse': 103.93348088952143}, 2: {'mae': 25.49928963087185, 'rmse': 133.3978759184048}, 3: {'mae': 34.34123721052929, 'rmse': 159.17909200571256}, 4: {'mae': 43.431795142356464, 'rmse': 184.56480663129327}, 5: {'mae': 52.75118237832338, 'rmse': 209.6385137470729}, 6: {'mae': 62.35643571818884, 'rmse': 235.0684859375391}},\n",
       " 'Baseline 3': {0: {'mae': 112.0805320146442, 'rmse': 191.10068672107312}, 1: {'mae': 120.35551247426044, 'rmse': 209.2377902783539}, 2: {'mae': 128.78724676464043, 'rmse': 227.46721426592632}, 3: {'mae': 137.3621345783237, 'rmse': 245.5909938345075}, 4: {'mae': 146.1271622000351, 'rmse': 264.1141265366207}, 5: {'mae': 155.0805315432236, 'rmse': 282.9536688557736}, 6: {'mae': 164.2627304775302, 'rmse': 302.4204108966704}},\n",
       " 'Baseline 4': {0: {'mae': 30.226766041747197, 'rmse': 114.1633250455933}, 1: {'mae': 36.039850695786626, 'rmse': 143.28973138441035}, 2: {'mae': 42.25584654039428, 'rmse': 173.18942218480495}, 3: {'mae': 48.50122245844608, 'rmse': 196.72904965844}, 4: {'mae': 55.24151043679938, 'rmse': 222.033735774967}, 5: {'mae': 62.52985117897178, 'rmse': 248.3887970722847}, 6: {'mae': 70.06082334750677, 'rmse': 273.83842207958173}}}"
      ]
     },
     "execution_count": 154,
     "metadata": {},
     "output_type": "execute_result"
    }
   ],
   "source": [
    "sr"
   ]
  },
  {
   "cell_type": "code",
   "execution_count": 155,
   "id": "f35ef67b-f2a6-453b-b1a0-7cec51c79c4a",
   "metadata": {},
   "outputs": [
    {
     "data": {
      "text/plain": [
       "defaultdict(dict,\n",
       "            {('mae', 0): {'Baseline 1': 1681.0408622411487,\n",
       "              'Baseline 2': 8.361327278551375,\n",
       "              'Baseline 3': 112.0805320146442,\n",
       "              'Baseline 4': 30.226766041747197},\n",
       "             ('rmse', 0): {'Baseline 1': 2134.5663057078123,\n",
       "              'Baseline 2': 69.5849279094092,\n",
       "              'Baseline 3': 191.10068672107312,\n",
       "              'Baseline 4': 114.1633250455933},\n",
       "             ('mae', 1): {'Baseline 1': 1687.7233027453788,\n",
       "              'Baseline 2': 16.819735825592133,\n",
       "              'Baseline 3': 120.35551247426044,\n",
       "              'Baseline 4': 36.039850695786626},\n",
       "             ('rmse', 1): {'Baseline 1': 2141.398480881179,\n",
       "              'Baseline 2': 103.93348088952143,\n",
       "              'Baseline 3': 209.2377902783539,\n",
       "              'Baseline 4': 143.28973138441035},\n",
       "             ('mae', 2): {'Baseline 1': 1694.311070075936,\n",
       "              'Baseline 2': 25.49928963087185,\n",
       "              'Baseline 3': 128.78724676464043,\n",
       "              'Baseline 4': 42.25584654039428},\n",
       "             ('rmse', 2): {'Baseline 1': 2148.1536053043465,\n",
       "              'Baseline 2': 133.3978759184048,\n",
       "              'Baseline 3': 227.46721426592632,\n",
       "              'Baseline 4': 173.18942218480495},\n",
       "             ('mae', 3): {'Baseline 1': 1700.827257824424,\n",
       "              'Baseline 2': 34.34123721052929,\n",
       "              'Baseline 3': 137.3621345783237,\n",
       "              'Baseline 4': 48.50122245844608},\n",
       "             ('rmse', 3): {'Baseline 1': 2154.852786355121,\n",
       "              'Baseline 2': 159.17909200571256,\n",
       "              'Baseline 3': 245.5909938345075,\n",
       "              'Baseline 4': 196.72904965844},\n",
       "             ('mae', 4): {'Baseline 1': 1707.1916564602136,\n",
       "              'Baseline 2': 43.431795142356464,\n",
       "              'Baseline 3': 146.1271622000351,\n",
       "              'Baseline 4': 55.24151043679938},\n",
       "             ('rmse', 4): {'Baseline 1': 2161.401065369048,\n",
       "              'Baseline 2': 184.56480663129327,\n",
       "              'Baseline 3': 264.1141265366207,\n",
       "              'Baseline 4': 222.033735774967},\n",
       "             ('mae', 5): {'Baseline 1': 1713.4062067795971,\n",
       "              'Baseline 2': 52.75118237832338,\n",
       "              'Baseline 3': 155.0805315432236,\n",
       "              'Baseline 4': 62.52985117897178},\n",
       "             ('rmse', 5): {'Baseline 1': 2167.8274150411007,\n",
       "              'Baseline 2': 209.6385137470729,\n",
       "              'Baseline 3': 282.9536688557736,\n",
       "              'Baseline 4': 248.3887970722847},\n",
       "             ('mae', 6): {'Baseline 1': 1719.388321305421,\n",
       "              'Baseline 2': 62.35643571818884,\n",
       "              'Baseline 3': 164.2627304775302,\n",
       "              'Baseline 4': 70.06082334750677},\n",
       "             ('rmse', 6): {'Baseline 1': 2174.0149533436165,\n",
       "              'Baseline 2': 235.0684859375391,\n",
       "              'Baseline 3': 302.4204108966704,\n",
       "              'Baseline 4': 273.83842207958173}})"
      ]
     },
     "execution_count": 155,
     "metadata": {},
     "output_type": "execute_result"
    }
   ],
   "source": [
    "sr2 = defaultdict(dict)\n",
    "for bl, days in sr.items():\n",
    "    for day, values in days.items():\n",
    "        for typ, value in values.items():\n",
    "            sr2[(typ, day)][bl] = value\n",
    "sr2\n",
    "            "
   ]
  },
  {
   "cell_type": "code",
   "execution_count": 30,
   "id": "4faa879a-faa5-4364-b1a5-3c4e62bed3ca",
   "metadata": {},
   "outputs": [
    {
     "data": {
      "text/plain": [
       "array([[333.62068966]])"
      ]
     },
     "execution_count": 30,
     "metadata": {},
     "output_type": "execute_result"
    }
   ],
   "source": [
    "lr.predict(np.array([30]).reshape(-1,1))"
   ]
  },
  {
   "cell_type": "code",
   "execution_count": 17,
   "id": "5cdb88bf-7c24-4292-8f5e-873fd762bba8",
   "metadata": {},
   "outputs": [
    {
     "name": "stdout",
     "output_type": "stream",
     "text": [
      "(995, 30, 101)\n",
      "train - 0\n",
      "(995, 30, 101)\n",
      "validate - 0\n",
      "(995, 30, 101)\n",
      "test - 0\n"
     ]
    }
   ],
   "source": [
    "for name, ds in get_new_loop():\n",
    "    for i, (x, y) in enumerate(ds):\n",
    "        print(x.shape)\n",
    "        break\n",
    "    print(name, '-', i)"
   ]
  },
  {
   "cell_type": "code",
   "execution_count": 16,
   "id": "950463c8-19f0-42ba-8268-e9b85e6ce031",
   "metadata": {},
   "outputs": [
    {
     "data": {
      "text/plain": [
       "(995, 7)"
      ]
     },
     "execution_count": 16,
     "metadata": {},
     "output_type": "execute_result"
    }
   ],
   "source": [
    "x_.shape\n",
    "x_ = np.mean(x_, axis=1).flatten()\n",
    "x_ = x_.reshape(-1,1)\n",
    "x_ = x_ = np.repeat(x_, DAYS_TO_PREDICT, axis=1)\n",
    "x_.shape"
   ]
  },
  {
   "cell_type": "code",
   "execution_count": 18,
   "id": "3c48c542-77f8-4e00-a8fc-7dc06fc2a92f",
   "metadata": {},
   "outputs": [
    {
     "name": "stdout",
     "output_type": "stream",
     "text": [
      "pandas==1.4.0\n"
     ]
    }
   ],
   "source": [
    "!pip freeze|grep pandas"
   ]
  },
  {
   "cell_type": "code",
   "execution_count": null,
   "id": "39b1d17c-0060-42fc-a989-92cd486e744a",
   "metadata": {},
   "outputs": [],
   "source": [
    "for name, ds in get_new_loop():\n",
    "    errors = np.zeros(DAYS_TO_PREDICT)\n",
    "    count = 0\n",
    "    for x, y in ds:\n",
    "        print(x.shape, y.shape)\n",
    "        print(x[0][-1][0])\n",
    "        print(y[0][0][0])\n",
    "        return\n",
    "        print('breaking')\n",
    "        break\n",
    "        \n",
    "        "
   ]
  },
  {
   "cell_type": "code",
   "execution_count": 16,
   "id": "f7e93f39-a3b0-4124-a963-b871361a2c08",
   "metadata": {},
   "outputs": [
    {
     "data": {
      "text/plain": [
       "{'Baseline 3': {'train': {0: {'mae': 462.49514401599487, 'rmse': 1946.0006922215025}, 1: {'mae': 495.2954028348815, 'rmse': 2087.8031998340884}, 2: {'mae': 528.6010278368642, 'rmse': 2232.748223841121}, 3: {'mae': 561.8548935491854, 'rmse': 2374.3954477204597}, 4: {'mae': 595.8009405455307, 'rmse': 2522.441389062711}, 5: {'mae': 630.1323670250453, 'rmse': 2672.925327270771}, 6: {'mae': 664.5959063487418, 'rmse': 2822.1361202447415}}, 'validate': {0: {'mae': 532.3068330208243, 'rmse': 3812.586214784473}, 1: {'mae': 570.4765037042552, 'rmse': 4113.9951166005285}, 2: {'mae': 609.201413929809, 'rmse': 4423.47050705072}, 3: {'mae': 647.8992898688152, 'rmse': 4724.758639750421}, 4: {'mae': 687.7588941506492, 'rmse': 5053.20463163978}, 5: {'mae': 727.9950539466366, 'rmse': 5388.797382099832}, 6: {'mae': 768.298935562822, 'rmse': 5730.766781899452}}, 'test': {0: {'mae': 444.395906682452, 'rmse': 1942.017631852608}, 1: {'mae': 476.5631786132527, 'rmse': 2089.197525103305}, 2: {'mae': 509.32837299718767, 'rmse': 2240.459369222535}, 3: {'mae': 542.2528963509226, 'rmse': 2390.455388056993}, 4: {'mae': 575.9422284424502, 'rmse': 2545.3230854276558}, 5: {'mae': 610.4795938040932, 'rmse': 2725.077279391873}, 6: {'mae': 645.17408522709, 'rmse': 2903.9462200597955}}}, 'Baseline 4': {'train': {0: {'mae': 97.15781471459863, 'rmse': 581.505166997631}, 1: {'mae': 113.7667740411459, 'rmse': 666.6353182166991}, 2: {'mae': 131.01529871580124, 'rmse': 751.0350143760242}, 3: {'mae': 148.64237426448483, 'rmse': 833.9487009420582}, 4: {'mae': 167.28808143280506, 'rmse': 919.2720367544821}, 5: {'mae': 186.83568268693898, 'rmse': 1007.770892045544}, 6: {'mae': 207.0493836704892, 'rmse': 1097.1096473704463}}, 'validate': {0: {'mae': 74.78185427135678, 'rmse': 297.92476794785614}, 1: {'mae': 87.67695477386934, 'rmse': 344.8722507052904}, 2: {'mae': 100.69304522613065, 'rmse': 385.0475226429425}, 3: {'mae': 114.02956783919598, 'rmse': 424.9314369525427}, 4: {'mae': 128.5896381909548, 'rmse': 471.92567816187193}, 5: {'mae': 143.52888442211056, 'rmse': 516.8600092732361}, 6: {'mae': 158.85883417085427, 'rmse': 561.3230303864353}}, 'test': {0: {'mae': 97.92545419404716, 'rmse': 642.6330682871267}, 1: {'mae': 114.75680324700426, 'rmse': 738.8725175153992}, 2: {'mae': 132.9558851952068, 'rmse': 838.6581437185906}, 3: {'mae': 151.3772419791264, 'rmse': 935.9096689254227}, 4: {'mae': 170.9658484731349, 'rmse': 1036.6238488947715}, 5: {'mae': 192.266814843448, 'rmse': 1152.7354779740804}, 6: {'mae': 214.36963664476227, 'rmse': 1271.288858007802}}}, 'Baseline 1': {'train': {0: {'mae': 7404.88496353823, 'rmse': 31472.878365166045}, 1: {'mae': 7437.692041859127, 'rmse': 31569.732347338602}, 2: {'mae': 7471.00723990322, 'rmse': 31669.681334941066}, 3: {'mae': 7504.273188332234, 'rmse': 31769.242339294877}, 4: {'mae': 7538.233400165812, 'rmse': 31872.702208980216}, 5: {'mae': 7572.5701800247025, 'rmse': 31978.76036013002}, 6: {'mae': 7607.041395529838, 'rmse': 32085.798003346}}, 'validate': {0: {'mae': 7671.1445177220485, 'rmse': 36784.85199742884}, 1: {'mae': 7709.306031728501, 'rmse': 37005.46128101208}, 2: {'mae': 7748.023796375914, 'rmse': 37231.68763346822}, 3: {'mae': 7786.715311250128, 'rmse': 37455.316289733855}, 4: {'mae': 7826.568943619195, 'rmse': 37697.347556323155}, 5: {'mae': 7866.799227692623, 'rmse': 37945.35754049084}, 6: {'mae': 7907.098727546681, 'rmse': 38198.10402259446}}, 'test': {0: {'mae': 7420.006486887953, 'rmse': 26295.96608644127}, 1: {'mae': 7452.162448740944, 'rmse': 26398.496256722487}, 2: {'mae': 7484.917689214068, 'rmse': 26504.40290692683}, 3: {'mae': 7517.833438682711, 'rmse': 26612.016481222585}, 4: {'mae': 7551.51453821417, 'rmse': 26723.19296077859}, 5: {'mae': 7586.005092325561, 'rmse': 26847.09836388536}, 6: {'mae': 7620.654543586988, 'rmse': 26972.44568662165}}}, 'Baseline 2': {'train': {0: {'mae': 32.8429455683335, 'rmse': 289.04055055297215}, 1: {'mae': 65.7398259615409, 'rmse': 451.3523628864254}, 2: {'mae': 99.11701932265335, 'rmse': 606.1614700059587}, 3: {'mae': 132.45343612114812, 'rmse': 751.8435141180337}, 4: {'mae': 166.47721680662028, 'rmse': 905.3127148332258}, 5: {'mae': 200.88710522462404, 'rmse': 1059.7891748345533}, 6: {'mae': 235.43198475110944, 'rmse': 1213.2284943411123}}, 'validate': {0: {'mae': 37.91970440437481, 'rmse': 401.5537877907669}, 1: {'mae': 76.11719381219825, 'rmse': 724.1792783604218}, 2: {'mae': 114.84567543600355, 'rmse': 1059.0051945170012}, 3: {'mae': 153.52804808355503, 'rmse': 1384.9687601899684}, 4: {'mae': 193.36982165730615, 'rmse': 1739.1183035484717}, 5: {'mae': 233.59019016651888, 'rmse': 2102.867988129791}, 6: {'mae': 273.89247413538277, 'rmse': 2471.122685483663}}, 'test': {0: {'mae': 31.995716381881007, 'rmse': 302.53693407585405}, 1: {'mae': 64.18299648159542, 'rmse': 470.6242105293011}, 2: {'mae': 96.95985784383332, 'rmse': 632.9214370636427}, 3: {'mae': 129.8896080844417, 'rmse': 789.4661308562528}, 4: {'mae': 163.57494753948345, 'rmse': 948.4767491586089}, 5: {'mae': 198.10712595257255, 'rmse': 1133.6686048039855}, 6: {'mae': 232.79992426752497, 'rmse': 1316.4253571822173}}}}"
      ]
     },
     "execution_count": 16,
     "metadata": {},
     "output_type": "execute_result"
    }
   ],
   "source": [
    "summary_results"
   ]
  },
  {
   "cell_type": "code",
   "execution_count": null,
   "id": "5a727434-b81e-4e3a-8ccb-a895710d0b2e",
   "metadata": {},
   "outputs": [],
   "source": []
  },
  {
   "cell_type": "code",
   "execution_count": null,
   "id": "de229af0-2042-40de-83fd-d3c84bea719b",
   "metadata": {},
   "outputs": [],
   "source": []
  },
  {
   "cell_type": "code",
   "execution_count": 185,
   "id": "f0c783e6-d2da-448c-905c-1c0854e5133a",
   "metadata": {},
   "outputs": [
    {
     "data": {
      "text/plain": [
       "array([1759., 1759., 1759., 1759., 1759., 1759., 1759.], dtype=float32)"
      ]
     },
     "execution_count": 185,
     "metadata": {},
     "output_type": "execute_result"
    }
   ],
   "source": [
    "train mae for day 0: 9.840150955581118\n",
    "validate mae for day 0: 9.792210488958693\n",
    "test mae for day 0: 9.854986715908877"
   ]
  },
  {
   "cell_type": "code",
   "execution_count": null,
   "id": "8f93eb69-7db1-45d9-889f-9d8bed726c24",
   "metadata": {},
   "outputs": [],
   "source": []
  },
  {
   "cell_type": "code",
   "execution_count": 184,
   "id": "0bb2aea5-59be-4123-997a-e0c38fece99e",
   "metadata": {},
   "outputs": [
    {
     "data": {
      "text/plain": [
       "array([1759., 1848., 1848., 1873., 1873., 1873., 1972.], dtype=float32)"
      ]
     },
     "execution_count": 184,
     "metadata": {},
     "output_type": "execute_result"
    }
   ],
   "source": [
    "y_[0]"
   ]
  },
  {
   "cell_type": "code",
   "execution_count": 179,
   "id": "089e8227-5170-4beb-a967-8800ab550054",
   "metadata": {},
   "outputs": [
    {
     "data": {
      "text/plain": [
       "array([[1759., 1759., 1759., ..., 1759., 1759., 1759.],\n",
       "       [1131., 1131., 1131., ..., 1131., 1131., 1131.],\n",
       "       [1733., 1733., 1733., ..., 1733., 1733., 1733.],\n",
       "       ...,\n",
       "       [ 961.,  961.,  961., ...,  961.,  961.,  961.],\n",
       "       [ 515.,  515.,  515., ...,  515.,  515.,  515.],\n",
       "       [1282., 1282., 1282., ..., 1282., 1282., 1282.]], dtype=float32)"
      ]
     },
     "execution_count": 179,
     "metadata": {},
     "output_type": "execute_result"
    }
   ],
   "source": [
    "x_"
   ]
  },
  {
   "cell_type": "code",
   "execution_count": null,
   "id": "bf6c49c7-081b-4e1c-b9dd-0a7fa070f4b0",
   "metadata": {},
   "outputs": [],
   "source": []
  },
  {
   "cell_type": "code",
   "execution_count": null,
   "id": "1836ed22-38a9-4f98-b588-e0cff8f1ab2e",
   "metadata": {},
   "outputs": [],
   "source": []
  },
  {
   "cell_type": "code",
   "execution_count": null,
   "id": "d9db3bdf-16ef-4158-87a3-49cd22c1ca62",
   "metadata": {},
   "outputs": [],
   "source": []
  },
  {
   "cell_type": "code",
   "execution_count": null,
   "id": "746bbb1c-e477-4833-a395-ecdb3796e50e",
   "metadata": {},
   "outputs": [],
   "source": []
  },
  {
   "cell_type": "code",
   "execution_count": 112,
   "id": "8e3d5d9a-d14b-460f-9b04-97679b3e3646",
   "metadata": {},
   "outputs": [
    {
     "data": {
      "text/plain": [
       "6.5670003707823525"
      ]
     },
     "execution_count": 112,
     "metadata": {},
     "output_type": "execute_result"
    }
   ],
   "source": [
    "x = x_[0]\n",
    "z = np.arange(x.shape[0]).reshape(-1,1)\n",
    "y = y_[0]\n",
    "# z = np.expand_dims(z,1)\n",
    "lr = LinearRegression()\n",
    "lr.fit(z,x)\n",
    "np.abs(y - lr.predict(np.array([31]).reshape(-1,1))[0][0])"
   ]
  },
  {
   "cell_type": "code",
   "execution_count": 104,
   "id": "0dcbcf3b-0c69-4e46-bd81-af49502ccb78",
   "metadata": {},
   "outputs": [
    {
     "data": {
      "text/plain": [
       "array([[ 0],\n",
       "       [ 1],\n",
       "       [ 2],\n",
       "       [ 3],\n",
       "       [ 4],\n",
       "       [ 5],\n",
       "       [ 6],\n",
       "       [ 7],\n",
       "       [ 8],\n",
       "       [ 9],\n",
       "       [10],\n",
       "       [11],\n",
       "       [12],\n",
       "       [13],\n",
       "       [14],\n",
       "       [15],\n",
       "       [16],\n",
       "       [17],\n",
       "       [18],\n",
       "       [19],\n",
       "       [20],\n",
       "       [21],\n",
       "       [22],\n",
       "       [23],\n",
       "       [24],\n",
       "       [25],\n",
       "       [26],\n",
       "       [27],\n",
       "       [28],\n",
       "       [29]])"
      ]
     },
     "execution_count": 104,
     "metadata": {},
     "output_type": "execute_result"
    }
   ],
   "source": [
    "z"
   ]
  },
  {
   "cell_type": "code",
   "execution_count": 91,
   "id": "1afcd49f-e9ab-4b73-b850-6123189ab3af",
   "metadata": {},
   "outputs": [
    {
     "name": "stdout",
     "output_type": "stream",
     "text": [
      "(30, 1)\n"
     ]
    },
    {
     "data": {
      "text/plain": [
       "array([[  0., 488.],\n",
       "       [  1., 491.],\n",
       "       [  2., 492.],\n",
       "       [  3., 498.],\n",
       "       [  4., 500.],\n",
       "       [  5., 515.],\n",
       "       [  6., 530.],\n",
       "       [  7., 530.],\n",
       "       [  8., 531.],\n",
       "       [  9., 532.],\n",
       "       [ 10., 538.],\n",
       "       [ 11., 548.],\n",
       "       [ 12., 553.],\n",
       "       [ 13., 569.],\n",
       "       [ 14., 578.],\n",
       "       [ 15., 579.],\n",
       "       [ 16., 579.],\n",
       "       [ 17., 582.],\n",
       "       [ 18., 591.],\n",
       "       [ 19., 595.],\n",
       "       [ 20., 606.],\n",
       "       [ 21., 633.],\n",
       "       [ 22., 638.],\n",
       "       [ 23., 640.],\n",
       "       [ 24., 651.],\n",
       "       [ 25., 662.],\n",
       "       [ 26., 672.],\n",
       "       [ 27., 687.],\n",
       "       [ 28., 687.],\n",
       "       [ 29., 692.]])"
      ]
     },
     "execution_count": 91,
     "metadata": {},
     "output_type": "execute_result"
    }
   ],
   "source": [
    "z = np.arange(x.shape[0])\n",
    "z = np.expand_dims(z,1)\n",
    "print(z.shape)\n",
    "x = np.concatenate((z, x), axis=1)"
   ]
  },
  {
   "cell_type": "code",
   "execution_count": 95,
   "id": "e37e0269-8843-48fa-a596-a1ca10c1255a",
   "metadata": {},
   "outputs": [
    {
     "data": {
      "text/plain": [
       "array([16.])"
      ]
     },
     "execution_count": 95,
     "metadata": {},
     "output_type": "execute_result"
    }
   ],
   "source": [
    "X = np.array([[1, 1], [1, 2], [2, 2], [2, 3]])\n",
    "# y = 1 * x_0 + 2 * x_1 + 3\n",
    "y = np.dot(X, np.array([1, 2])) + 3\n",
    "reg = LinearRegression().fit(X, y)\n",
    "reg.score(X, y)\n",
    "\n",
    "reg.coef_\n",
    "\n",
    "reg.intercept_\n",
    "\n",
    "reg.predict(np.array([[3, 5]]))"
   ]
  },
  {
   "cell_type": "code",
   "execution_count": 97,
   "id": "62a349e9-2790-47db-9710-31dda7ee842b",
   "metadata": {},
   "outputs": [
    {
     "data": {
      "text/plain": [
       "(4,)"
      ]
     },
     "execution_count": 97,
     "metadata": {},
     "output_type": "execute_result"
    }
   ],
   "source": [
    "y.shape"
   ]
  },
  {
   "cell_type": "code",
   "execution_count": 1,
   "id": "deedebd9-500e-48b8-b5e4-5fbaf2e4689d",
   "metadata": {},
   "outputs": [
    {
     "ename": "NameError",
     "evalue": "name 'sr' is not defined",
     "output_type": "error",
     "traceback": [
      "\u001b[0;31m---------------------------------------------------------------------------\u001b[0m",
      "\u001b[0;31mNameError\u001b[0m                                 Traceback (most recent call last)",
      "Input \u001b[0;32mIn [1]\u001b[0m, in \u001b[0;36m<module>\u001b[0;34m\u001b[0m\n\u001b[0;32m----> 1\u001b[0m \u001b[43msr\u001b[49m\n",
      "\u001b[0;31mNameError\u001b[0m: name 'sr' is not defined"
     ]
    }
   ],
   "source": [
    "sr"
   ]
  },
  {
   "cell_type": "code",
   "execution_count": null,
   "id": "3259b7e0-3ec4-4976-98ff-5f16ecfeed1d",
   "metadata": {},
   "outputs": [],
   "source": []
  }
 ],
 "metadata": {
  "kernelspec": {
   "display_name": "Python 3 (ipykernel)",
   "language": "python",
   "name": "python3"
  },
  "language_info": {
   "codemirror_mode": {
    "name": "ipython",
    "version": 3
   },
   "file_extension": ".py",
   "mimetype": "text/x-python",
   "name": "python",
   "nbconvert_exporter": "python",
   "pygments_lexer": "ipython3",
   "version": "3.9.10"
  }
 },
 "nbformat": 4,
 "nbformat_minor": 5
}
