{
 "cells": [
  {
   "cell_type": "markdown",
   "id": "e871bf85-e9dc-4b4a-9fd1-669a8a82fd0b",
   "metadata": {},
   "source": [
    "# Baseline analysis for predicting next day's Covid-19 cases from prior 30"
   ]
  },
  {
   "cell_type": "code",
   "execution_count": 167,
   "id": "0960dd8c-3d10-45a1-b695-bf551f93382b",
   "metadata": {},
   "outputs": [],
   "source": [
    "import os\n",
    "import importlib\n",
    "import random\n",
    "from collections import defaultdict\n",
    "import math\n",
    "\n",
    "import pandas as pd\n",
    "import numpy as np\n",
    "import tensorflow as tf\n",
    "from sklearn.linear_model import LinearRegression\n",
    "import matplotlib.pyplot as plt\n",
    "\n",
    "\n",
    "import dsci592.model as model"
   ]
  },
  {
   "cell_type": "code",
   "execution_count": 168,
   "id": "47ac5c6d-c753-491e-935c-7a8e24d9da9e",
   "metadata": {},
   "outputs": [
    {
     "data": {
      "text/plain": [
       "<module 'dsci592.model' from '/home/noah/projects/drexel/dsci592/DS-capstone-pt1/code/src/dsci592/model.py'>"
      ]
     },
     "execution_count": 168,
     "metadata": {},
     "output_type": "execute_result"
    }
   ],
   "source": [
    "importlib.reload(model)"
   ]
  },
  {
   "cell_type": "code",
   "execution_count": 3,
   "id": "64db4aa8-5ff6-4965-828f-0c8d8ec952ca",
   "metadata": {},
   "outputs": [],
   "source": [
    "pd.set_option(\"display.max_columns\", None)\n",
    "os.environ['TF_GPU_ALLOCATOR'] = 'cuda_malloc_async'"
   ]
  },
  {
   "cell_type": "code",
   "execution_count": 4,
   "id": "222a4656-3400-4784-83bd-de0a7ff861a9",
   "metadata": {},
   "outputs": [
    {
     "name": "stderr",
     "output_type": "stream",
     "text": [
      "2022-02-20 15:27:50.415299: I tensorflow/stream_executor/cuda/cuda_gpu_executor.cc:939] successful NUMA node read from SysFS had negative value (-1), but there must be at least one NUMA node, so returning NUMA node zero\n",
      "2022-02-20 15:27:50.415531: I tensorflow/stream_executor/cuda/cuda_gpu_executor.cc:939] successful NUMA node read from SysFS had negative value (-1), but there must be at least one NUMA node, so returning NUMA node zero\n",
      "2022-02-20 15:27:50.444235: I tensorflow/stream_executor/cuda/cuda_gpu_executor.cc:939] successful NUMA node read from SysFS had negative value (-1), but there must be at least one NUMA node, so returning NUMA node zero\n",
      "2022-02-20 15:27:50.444469: I tensorflow/stream_executor/cuda/cuda_gpu_executor.cc:939] successful NUMA node read from SysFS had negative value (-1), but there must be at least one NUMA node, so returning NUMA node zero\n",
      "2022-02-20 15:27:50.444671: I tensorflow/stream_executor/cuda/cuda_gpu_executor.cc:939] successful NUMA node read from SysFS had negative value (-1), but there must be at least one NUMA node, so returning NUMA node zero\n",
      "2022-02-20 15:27:50.444876: I tensorflow/stream_executor/cuda/cuda_gpu_executor.cc:939] successful NUMA node read from SysFS had negative value (-1), but there must be at least one NUMA node, so returning NUMA node zero\n",
      "2022-02-20 15:27:50.445434: I tensorflow/core/platform/cpu_feature_guard.cc:151] This TensorFlow binary is optimized with oneAPI Deep Neural Network Library (oneDNN) to use the following CPU instructions in performance-critical operations:  AVX2 FMA\n",
      "To enable them in other operations, rebuild TensorFlow with the appropriate compiler flags.\n",
      "2022-02-20 15:27:50.568470: I tensorflow/stream_executor/cuda/cuda_gpu_executor.cc:939] successful NUMA node read from SysFS had negative value (-1), but there must be at least one NUMA node, so returning NUMA node zero\n",
      "2022-02-20 15:27:50.568691: I tensorflow/stream_executor/cuda/cuda_gpu_executor.cc:939] successful NUMA node read from SysFS had negative value (-1), but there must be at least one NUMA node, so returning NUMA node zero\n",
      "2022-02-20 15:27:50.568868: I tensorflow/stream_executor/cuda/cuda_gpu_executor.cc:939] successful NUMA node read from SysFS had negative value (-1), but there must be at least one NUMA node, so returning NUMA node zero\n",
      "2022-02-20 15:27:50.569046: I tensorflow/stream_executor/cuda/cuda_gpu_executor.cc:939] successful NUMA node read from SysFS had negative value (-1), but there must be at least one NUMA node, so returning NUMA node zero\n",
      "2022-02-20 15:27:50.569215: I tensorflow/stream_executor/cuda/cuda_gpu_executor.cc:939] successful NUMA node read from SysFS had negative value (-1), but there must be at least one NUMA node, so returning NUMA node zero\n",
      "2022-02-20 15:27:50.569382: I tensorflow/stream_executor/cuda/cuda_gpu_executor.cc:939] successful NUMA node read from SysFS had negative value (-1), but there must be at least one NUMA node, so returning NUMA node zero\n",
      "2022-02-20 15:27:51.102146: I tensorflow/stream_executor/cuda/cuda_gpu_executor.cc:939] successful NUMA node read from SysFS had negative value (-1), but there must be at least one NUMA node, so returning NUMA node zero\n",
      "2022-02-20 15:27:51.102393: I tensorflow/stream_executor/cuda/cuda_gpu_executor.cc:939] successful NUMA node read from SysFS had negative value (-1), but there must be at least one NUMA node, so returning NUMA node zero\n",
      "2022-02-20 15:27:51.102579: I tensorflow/stream_executor/cuda/cuda_gpu_executor.cc:939] successful NUMA node read from SysFS had negative value (-1), but there must be at least one NUMA node, so returning NUMA node zero\n",
      "2022-02-20 15:27:51.102757: I tensorflow/stream_executor/cuda/cuda_gpu_executor.cc:939] successful NUMA node read from SysFS had negative value (-1), but there must be at least one NUMA node, so returning NUMA node zero\n",
      "2022-02-20 15:27:51.102938: I tensorflow/stream_executor/cuda/cuda_gpu_executor.cc:939] successful NUMA node read from SysFS had negative value (-1), but there must be at least one NUMA node, so returning NUMA node zero\n",
      "2022-02-20 15:27:51.103102: I tensorflow/core/common_runtime/gpu/gpu_process_state.cc:214] Using CUDA malloc Async allocator for GPU: 0\n",
      "2022-02-20 15:27:51.103187: I tensorflow/core/common_runtime/gpu/gpu_device.cc:1525] Created device /job:localhost/replica:0/task:0/device:GPU:0 with 204 MB memory:  -> device: 0, name: NVIDIA GeForce GTX 1660 Ti, pci bus id: 0000:03:00.0, compute capability: 7.5\n",
      "2022-02-20 15:27:51.103381: I tensorflow/stream_executor/cuda/cuda_gpu_executor.cc:939] successful NUMA node read from SysFS had negative value (-1), but there must be at least one NUMA node, so returning NUMA node zero\n",
      "2022-02-20 15:27:51.103536: I tensorflow/core/common_runtime/gpu/gpu_process_state.cc:214] Using CUDA malloc Async allocator for GPU: 1\n",
      "2022-02-20 15:27:51.103563: I tensorflow/core/common_runtime/gpu/gpu_device.cc:1525] Created device /job:localhost/replica:0/task:0/device:GPU:1 with 4191 MB memory:  -> device: 1, name: NVIDIA GeForce GTX 1660 Ti, pci bus id: 0000:04:00.0, compute capability: 7.5\n"
     ]
    }
   ],
   "source": [
    "golden_dataset_file_name = os.path.join('/', 'data', 'projects', 'drexel', 'dsci592', 'feeFiFoFum.pkl')\n",
    "with tf.device('/gpu:1'):  # using other GPU for another task\n",
    "    df = model.load_dataset(golden_dataset_file_name)\n",
    "\n",
    "# train_ds, val_ds, test_ds = model.get_train_test_eval_ds()\n"
   ]
  },
  {
   "cell_type": "code",
   "execution_count": 8,
   "id": "aa6f8f90-b4f5-4941-a835-981877099d14",
   "metadata": {},
   "outputs": [],
   "source": [
    "def get_new_loop():\n",
    "    train_ds, val_ds, test_ds = model.get_train_test_eval_ds()\n",
    "    return ('train', train_ds), ('validate', val_ds), ('test', test_ds)\n",
    "    "
   ]
  },
  {
   "cell_type": "markdown",
   "id": "2da1802b-8326-4fdd-a8bd-aa03609f5c7f",
   "metadata": {},
   "source": [
    "## Baseline 1: Guess zero every time"
   ]
  },
  {
   "cell_type": "code",
   "execution_count": 20,
   "id": "d21c5b76-501d-45d9-b0a4-480733186a09",
   "metadata": {},
   "outputs": [
    {
     "name": "stdout",
     "output_type": "stream",
     "text": [
      "train: 1738.2500355774011\n",
      "validate: 1754.9772079984493\n",
      "test: 1739.3318410911274\n"
     ]
    }
   ],
   "source": [
    "for name, ds in get_new_loop():\n",
    "    sum = count = 0\n",
    "    for _, y in ds:\n",
    "        y_ = y.numpy().flatten()\n",
    "        sum += y_.sum()\n",
    "        count += y_.shape[0]\n",
    "    print(f'{name}: {sum/count}')\n"
   ]
  },
  {
   "cell_type": "markdown",
   "id": "4221ba69-4c88-447c-8807-ffaee6b782b4",
   "metadata": {},
   "source": [
    "## Baseline 2: Guess the 30th date every time"
   ]
  },
  {
   "cell_type": "code",
   "execution_count": 51,
   "id": "8390155e-0e11-451c-a2d8-0203281ead8a",
   "metadata": {},
   "outputs": [
    {
     "name": "stdout",
     "output_type": "stream",
     "text": [
      "train: 9.785121290955985\n",
      "validate: 9.549475865976769\n",
      "test: 9.840210704599464\n"
     ]
    }
   ],
   "source": [
    "for name, ds in get_new_loop():\n",
    "    errors = count = 0\n",
    "    for x, y in ds:\n",
    "        y_ = y.numpy().flatten()        \n",
    "        x_ = x.numpy()[:,-1:,:1].flatten()\n",
    "        errors += np.sum(np.abs(y_ - x_))\n",
    "        count += y_.shape[0]\n",
    "    print(f'{name}: {errors/count}')\n"
   ]
  },
  {
   "cell_type": "markdown",
   "id": "43732162-6629-4680-8bbb-5815fe8bf019",
   "metadata": {},
   "source": [
    "## Baseline 3: Guess the mean of the 30 days every time"
   ]
  },
  {
   "cell_type": "code",
   "execution_count": 63,
   "id": "162025b6-a7e8-489c-a02d-15bd64f0be61",
   "metadata": {},
   "outputs": [
    {
     "name": "stdout",
     "output_type": "stream",
     "text": [
      "train: 121.31485035080716\n",
      "validate: 120.17304839525893\n",
      "test: 120.88257879796626\n"
     ]
    }
   ],
   "source": [
    "for name, ds in get_new_loop():\n",
    "    errors = count = 0\n",
    "    for x, y in ds:\n",
    "        y_ = y.numpy().flatten()        \n",
    "        x_ = x.numpy()[:,:,:1]\n",
    "        x_ = np.mean(x_, axis=1).flatten()\n",
    "        errors += np.sum(np.abs(y_ - x_))\n",
    "        count += y_.shape[0]\n",
    "    print(f'{name}: {errors/count}')\n"
   ]
  },
  {
   "cell_type": "markdown",
   "id": "8931e728-ed64-4668-ae89-f2c5111893aa",
   "metadata": {},
   "source": [
    "## Baseline 4: Linear regression"
   ]
  },
  {
   "cell_type": "code",
   "execution_count": 116,
   "id": "1b5d5fae-72d0-4521-90d5-ec0c58e08782",
   "metadata": {},
   "outputs": [
    {
     "name": "stdout",
     "output_type": "stream",
     "text": [
      "train: [[36.93661786]]\n",
      "validate: [[36.07154467]]\n",
      "test: [[36.6260068]]\n"
     ]
    }
   ],
   "source": [
    "for name, ds in get_new_loop():\n",
    "    errors = count = 0\n",
    "    lr = LinearRegression()\n",
    "    for x, y in ds:\n",
    "        y_ = y.numpy().flatten()        \n",
    "        x_ = x.numpy()[:,:,:1]\n",
    "        days = x_.shape[1]\n",
    "        z = np.arange(days).reshape(-1,1)\n",
    "        next_date = np.array([days + 1]).reshape(-1,1)\n",
    "        for i in range(x_.shape[0]):\n",
    "            lr.fit(z,x_[i])\n",
    "            errors += np.abs(y[i] - lr.predict(next_date)[0][0])\n",
    "            count += 1\n",
    "    print(f'{name}: {errors[0][0]/count}')\n"
   ]
  },
  {
   "cell_type": "code",
   "execution_count": 142,
   "id": "158dc738-1f32-49a3-892d-3c02e404bb86",
   "metadata": {},
   "outputs": [
    {
     "data": {
      "image/png": "[encoded data removed]",
      "text/plain": [
       "<Figure size 432x288 with 1 Axes>"
      ]
     },
     "metadata": {
      "needs_background": "light"
     },
     "output_type": "display_data"
    }
   ],
   "source": [
    "z = np.arange(days).reshape(-1,1)\n",
    "plt.scatter(z, x_[i], color=\"black\", label='Training')\n",
    "z_ = np.arange(days+1).reshape(-1,1)\n",
    "plt.plot(z_, lr.predict(z_), color=\"blue\", linewidth=1)\n",
    "plt.scatter(30, y_[i], marker='*', label='Actual')\n",
    "plt.scatter(30, lr.predict(z_)[-1], marker='+', label='Predicted')\n",
    "plt.ylabel('Covid-19 Cases')\n",
    "plt.xlabel('Days')\n",
    "plt.legend()\n",
    "# plt.xticks(())\n",
    "# plt.yticks(())\n",
    "plt.savefig('linear_regression_example.png')\n",
    "_ = plt.show()\n"
   ]
  },
  {
   "cell_type": "markdown",
   "id": "9e89b515-a451-462d-b9b5-ca6ce883d7fc",
   "metadata": {},
   "source": [
    "# Baseline analysis for predicting next seven day's Covid-19 cases from prior 30"
   ]
  },
  {
   "cell_type": "code",
   "execution_count": 175,
   "id": "31c475db-8992-4cfd-b980-b695e04ff23e",
   "metadata": {},
   "outputs": [],
   "source": [
    "# train_ds, val_ds, test_ds = model.get_train_test_eval_ds(train='./data/train7/x_*.npy', test='./data/test7/x_*.npy', eval_='./data/eval7/x_*.npy', days_to_predict=7)\n",
    "\n",
    "DAYS_TO_PREDICT=7\n",
    "\n",
    "def get_new_loop():\n",
    "    train_ds, val_ds, test_ds = model.get_train_test_eval_ds(train='./data/train7/x_*.npy', test='./data/test7/x_*.npy', eval_='./data/eval7/x_*.npy', days_to_predict=DAYS_TO_PREDICT)\n",
    "    return ('train', train_ds), ('validate', val_ds), ('test', test_ds)"
   ]
  },
  {
   "cell_type": "code",
   "execution_count": 176,
   "id": "fffd0251-2ebc-4053-85e5-8ea877e8c71b",
   "metadata": {},
   "outputs": [],
   "source": [
    "class NestedDefaultDict(defaultdict):\n",
    "    def __init__(self, *args, **kwargs):\n",
    "        super(NestedDefaultDict, self).__init__(NestedDefaultDict, *args, **kwargs)\n",
    "\n",
    "    def __repr__(self):\n",
    "        return repr(dict(self))\n",
    "\n",
    "summary_results = NestedDefaultDict()\n",
    "\n",
    "def save_summary_results(baseline, dataset, day, mae, rmse):\n",
    "    summary_results[baseline][dataset][day]['mae'] = mae\n",
    "    summary_results[baseline][dataset][day]['rmse'] = rmse\n",
    "    "
   ]
  },
  {
   "cell_type": "markdown",
   "id": "66beea64-1b23-406d-807e-a99d207a9bf0",
   "metadata": {},
   "source": [
    "## Baseline 1: Guess zero every time"
   ]
  },
  {
   "cell_type": "code",
   "execution_count": 177,
   "id": "3fbe621c-e1aa-4f24-80ba-27664ec30567",
   "metadata": {},
   "outputs": [
    {
     "name": "stdout",
     "output_type": "stream",
     "text": [
      "train mae for day 0: 7105.520275271942\n",
      "train mae for day 1: 7137.868651692196\n",
      "train mae for day 2: 7170.674811810054\n",
      "train mae for day 3: 7203.467715283244\n",
      "train mae for day 4: 7237.01048535852\n",
      "train mae for day 5: 7270.894388407903\n",
      "train mae for day 6: 7304.888483380759\n",
      "validate mae for day 0: 7059.028871648827\n",
      "validate mae for day 1: 7089.716439163311\n",
      "validate mae for day 2: 7120.973330362067\n",
      "validate mae for day 3: 7152.19449081803\n",
      "validate mae for day 4: 7184.09452405593\n",
      "validate mae for day 5: 7216.39195038488\n",
      "validate mae for day 6: 7248.8122738500815\n",
      "test mae for day 0: 7290.052477530079\n",
      "test mae for day 1: 7322.190589378678\n",
      "test mae for day 2: 7354.994959806529\n",
      "test mae for day 3: 7387.8052104600965\n",
      "test mae for day 4: 7421.379803816684\n",
      "test mae for day 5: 7455.7752141517185\n",
      "test mae for day 6: 7490.349460947918\n"
     ]
    }
   ],
   "source": [
    "for name, ds in get_new_loop():\n",
    "    errors = np.zeros(DAYS_TO_PREDICT)\n",
    "    errors_sq = np.zeros(DAYS_TO_PREDICT)\n",
    "    count = 0\n",
    "    for _, y in ds:\n",
    "        count += y_.shape[0]\n",
    "        y_ = y.numpy().squeeze()\n",
    "        x_  = np.ones(y_.shape)\n",
    "        errors += np.sum(np.abs(y_ - x_), axis=0)\n",
    "        errors_sq += np.sum(np.power(y_ - x_, 2), axis=0)\n",
    "    results = []\n",
    "    for i in range(DAYS_TO_PREDICT):\n",
    "        mae = errors[i]/count\n",
    "        rmse = np.sqrt(errors_sq[i]/count)\n",
    "        print(f'{name} mae for day {i}: {mae}')\n",
    "        save_summary_results('Baseline 1', name, i, mae, rmse )"
   ]
  },
  {
   "cell_type": "code",
   "execution_count": 188,
   "id": "7ef870f0-941a-4506-bb53-6f287e290db0",
   "metadata": {},
   "outputs": [
    {
     "name": "stdout",
     "output_type": "stream",
     "text": [
      "train mae for day 0: [1756.4777]\n",
      "validate mae for day 0: [1798.8082]\n",
      "test mae for day 0: [1720.9961]\n"
     ]
    }
   ],
   "source": [
    "# OLD VERSION -- SLOW!!!!\n",
    "# for name, ds in get_new_loop():\n",
    "#     sums = [0] * DAYS_TO_PREDICT\n",
    "#     counts = [0] * DAYS_TO_PREDICT\n",
    "#     for _, ys in ds:\n",
    "#         for y_days in ys:\n",
    "#             for i, y in enumerate(y_days):\n",
    "#                 sums[i] += y\n",
    "#                 counts[i] += 1\n",
    "#     for i in range(DAYS_TO_PREDICT):\n",
    "#         print(f'{name} mae for day {i}: {sums[i]/counts[i]}')\n"
   ]
  },
  {
   "cell_type": "markdown",
   "id": "407d390c-d5d5-40fe-a9ef-9089d2c5abca",
   "metadata": {},
   "source": [
    "## Baseline 2: Guess the 30th date every time"
   ]
  },
  {
   "cell_type": "code",
   "execution_count": 178,
   "id": "b73b40d8-0665-4a6a-bdc4-7bed6a7bd4e2",
   "metadata": {},
   "outputs": [
    {
     "name": "stdout",
     "output_type": "stream",
     "text": [
      "train mae for day 0: 32.341718232816014\n",
      "train mae for day 1: 64.77173913921204\n",
      "train mae for day 2: 97.63921729812489\n",
      "train mae for day 3: 130.4963205873494\n",
      "train mae for day 4: 164.0918597486872\n",
      "train mae for day 5: 198.0376129401628\n",
      "train mae for day 6: 232.0931299596165\n",
      "validate mae for day 0: 30.704564168032693\n",
      "validate mae for day 1: 61.47365518700096\n",
      "validate mae for day 2: 92.77324953353629\n",
      "validate mae for day 3: 124.02778386299941\n",
      "validate mae for day 4: 155.96018628332288\n",
      "validate mae for day 5: 188.33965734746448\n",
      "validate mae for day 6: 220.84343060455208\n",
      "test mae for day 0: 32.00233928262\n",
      "test mae for day 1: 64.20614692653673\n",
      "test mae for day 2: 97.0511477929377\n",
      "test mae for day 3: 129.90732523185645\n",
      "test mae for day 4: 163.54089412580143\n",
      "test mae for day 5: 197.9832257238215\n",
      "test mae for day 6: 232.62302517083168\n"
     ]
    }
   ],
   "source": [
    "for name, ds in get_new_loop():\n",
    "    errors = np.zeros(DAYS_TO_PREDICT)\n",
    "    errors_sq = np.zeros(DAYS_TO_PREDICT)\n",
    "    count = 0\n",
    "    for x, y in ds:\n",
    "        count += x_.shape[0]\n",
    "        y_ = y.numpy().squeeze(-1)\n",
    "        x_ = x.numpy()[:,-1:,:1]\n",
    "        x_ = x_.reshape(-1,1)\n",
    "        x_ = np.repeat(x_, DAYS_TO_PREDICT, axis=1)\n",
    "        errors += np.sum(np.abs(y_ - x_), axis=0)\n",
    "        errors_sq += np.sum(np.power(y_ - x_, 2), axis=0)\n",
    "    for i in range(DAYS_TO_PREDICT):\n",
    "        # print(f'{name} mae for day {i}: {errors[i]/count}')\n",
    "        mae = errors[i]/count\n",
    "        rmse = np.sqrt(errors_sq[i]/count)\n",
    "        print(f'{name} mae for day {i}: {mae}')\n",
    "        save_summary_results('Baseline 2', name, i, mae, rmse )"
   ]
  },
  {
   "cell_type": "markdown",
   "id": "51114724-e1e6-44d2-96a1-6fc5abe14f5f",
   "metadata": {},
   "source": [
    "## Baseline 3: Guess the mean of the 30 days every time"
   ]
  },
  {
   "cell_type": "code",
   "execution_count": 179,
   "id": "f246ccbe-1349-4bcb-a1bb-6701424642ac",
   "metadata": {},
   "outputs": [
    {
     "name": "stdout",
     "output_type": "stream",
     "text": [
      "train mae for day 0: 454.9815767365349\n",
      "train mae for day 1: 487.34915012883397\n",
      "train mae for day 2: 520.1723302846312\n",
      "train mae for day 3: 552.9802290937109\n",
      "train mae for day 4: 586.5365012281358\n",
      "train mae for day 5: 620.4411717968736\n",
      "train mae for day 6: 654.4530033204571\n",
      "validate mae for day 0: 428.71775282463585\n",
      "validate mae for day 1: 459.32721482483373\n",
      "validate mae for day 2: 490.5031528665608\n",
      "validate mae for day 3: 521.6414216627254\n",
      "validate mae for day 4: 553.4573132425195\n",
      "validate mae for day 5: 585.7136610919805\n",
      "validate mae for day 6: 618.0936525627226\n",
      "test mae for day 0: 449.1283827871423\n",
      "test mae for day 1: 481.2974285033452\n",
      "test mae for day 2: 514.1315348810114\n",
      "test mae for day 3: 546.9699447573106\n",
      "test mae for day 4: 580.5715906785663\n",
      "test mae for day 5: 614.9937357926165\n",
      "test mae for day 6: 649.5944546261409\n"
     ]
    }
   ],
   "source": [
    "for name, ds in get_new_loop():\n",
    "    errors = np.zeros(DAYS_TO_PREDICT)\n",
    "    errors_sq = np.zeros(DAYS_TO_PREDICT)\n",
    "    count = 0\n",
    "    for x, y in ds:\n",
    "        y_ = y.numpy().squeeze()\n",
    "        x_ = x.numpy()[:,:,:1]\n",
    "        x_ = np.mean(x_, axis=1).flatten()\n",
    "        x_ = x_.reshape(-1,1)\n",
    "        x_ = x_ = np.repeat(x_, DAYS_TO_PREDICT, axis=1)\n",
    "        count += y_.shape[0]\n",
    "        errors += np.sum(np.abs(y_ - x_), axis=0)\n",
    "        errors_sq += np.sum(np.power(y_ - x_, 2), axis=0)\n",
    "    for i in range(DAYS_TO_PREDICT):\n",
    "        # print(f'{name} mae for day {i}: {errors[i]/count}')\n",
    "        mae = errors[i]/count\n",
    "        rmse = np.sqrt(errors_sq[i]/count)\n",
    "        print(f'{name} mae for day {i}: {mae}')\n",
    "        save_summary_results('Baseline 3', name, i, mae, rmse )"
   ]
  },
  {
   "cell_type": "markdown",
   "id": "5cc9bdf0-8f4f-410b-8e6c-2e46725ffe37",
   "metadata": {},
   "source": [
    "## Baseline 4: Linear regression"
   ]
  },
  {
   "cell_type": "code",
   "execution_count": null,
   "id": "ec465390-1b5b-4087-bba2-650370743244",
   "metadata": {},
   "outputs": [],
   "source": [
    "for name, ds in get_new_loop():\n",
    "    errors = np.zeros(DAYS_TO_PREDICT)\n",
    "    errors_sq = np.zeros(DAYS_TO_PREDICT)\n",
    "    count = 0\n",
    "    lr = LinearRegression()\n",
    "    for x, y in ds:\n",
    "        y_ = y.numpy().squeeze()  \n",
    "        x_ = x.numpy()[:,:,:1]\n",
    "        days = x_.shape[1]\n",
    "        z = np.arange(days).reshape(-1,1)\n",
    "        next_dates = np.arange(days +1, days + 1 + DAYS_TO_PREDICT)\n",
    "        for i in range(x_.shape[0]):\n",
    "            lr.fit(z,x_[i])\n",
    "            for j in range(DAYS_TO_PREDICT):\n",
    "                errors[j] += np.abs(y[i][j] - lr.predict(next_dates[j].reshape(-1,1))[0][0])\n",
    "                errors_sq[j] += np.power(y[i][j] - lr.predict(next_dates[j].reshape(-1,1))[0][0],2)\n",
    "        count += y_.shape[0]\n",
    "    for k in range(DAYS_TO_PREDICT):\n",
    "        # print(f'{name} mae for day {k}: {errors[k]/count}')\n",
    "        mae = errors[k]/count\n",
    "        rmse = np.sqrt(errors_sq[k]/count)\n",
    "        print(f'{name} mae for day {k}: {mae}')\n",
    "        save_summary_results('Baseline 4', name, k, mae, rmse )"
   ]
  },
  {
   "cell_type": "code",
   "execution_count": 181,
   "id": "5b2e4643-7c4a-45a7-94c0-f82fb9e6c2c0",
   "metadata": {},
   "outputs": [
    {
     "name": "stdout",
     "output_type": "stream",
     "text": [
      "train mae for day 0: 72.69569622305073\n",
      "train mae for day 1: 85.17797049764954\n",
      "train mae for day 2: 98.13484357270222\n",
      "train mae for day 3: 111.35690549521803\n",
      "train mae for day 4: 125.37293726698006\n",
      "train mae for day 5: 139.97403144756038\n",
      "train mae for day 6: 155.0512724914897\n",
      "validate mae for day 0: 101.37421724004639\n",
      "validate mae for day 1: 119.05385581754929\n",
      "validate mae for day 2: 137.78168728256668\n",
      "validate mae for day 3: 156.74590258987243\n",
      "validate mae for day 4: 176.8715500579822\n",
      "validate mae for day 5: 198.44972941631232\n",
      "validate mae for day 6: 220.7067259373792\n",
      "test mae for day 0: 113.0909741012756\n",
      "test mae for day 1: 134.1499323540781\n",
      "test mae for day 2: 156.65160417471975\n",
      "test mae for day 3: 179.54296482412062\n",
      "test mae for day 4: 203.99223038268264\n",
      "test mae for day 5: 232.44818322381136\n",
      "test mae for day 6: 261.7180904522613\n"
     ]
    }
   ],
   "source": [
    "# linear regression with sampling\n",
    "for (name, ds), batches in zip(get_new_loop(), [1244, 266, 266]):\n",
    "    samples = random.sample(range(batches), int(batches*0.10))\n",
    "    errors = np.zeros(DAYS_TO_PREDICT)\n",
    "    errors_sq = np.zeros(DAYS_TO_PREDICT)\n",
    "    count = 0\n",
    "    lr = LinearRegression()\n",
    "    for l, (x, y) in enumerate(ds):\n",
    "        if l not in samples:\n",
    "            continue\n",
    "        y_ = y.numpy().squeeze()  \n",
    "        x_ = x.numpy()[:,:,:1]\n",
    "        days = x_.shape[1]\n",
    "        z = np.arange(days).reshape(-1,1)\n",
    "        next_dates = np.arange(days, days + DAYS_TO_PREDICT)\n",
    "        for i in range(x_.shape[0]):\n",
    "            lr.fit(z,x_[i])\n",
    "            for j in range(DAYS_TO_PREDICT):\n",
    "                errors[j] += np.abs(y[i][j] - lr.predict(next_dates[j].reshape(-1,1))[0][0])\n",
    "                errors_sq[j] += np.power(y[i][j] - lr.predict(next_dates[j].reshape(-1,1))[0][0],2)\n",
    "        count += y_.shape[0]\n",
    "    for k in range(DAYS_TO_PREDICT):\n",
    "        # print(f'{name} mae for day {k}: {errors[k]/count}')\n",
    "        mae = errors[k]/count\n",
    "        rmse = np.sqrt(errors_sq[k]/count)\n",
    "        print(f'{name} mae for day {k}: {mae}')\n",
    "        save_summary_results('Baseline 4', name, k, mae, rmse )"
   ]
  },
  {
   "cell_type": "code",
   "execution_count": 183,
   "id": "995d3a89-64d8-49fe-840b-ff2f69d867ef",
   "metadata": {},
   "outputs": [
    {
     "data": {
      "image/png": "[encoded data removed]",
      "text/plain": [
       "<Figure size 432x288 with 1 Axes>"
      ]
     },
     "metadata": {
      "needs_background": "light"
     },
     "output_type": "display_data"
    }
   ],
   "source": [
    "z = np.arange(days).reshape(-1,1)\n",
    "training = plt.scatter(z, x_[i], color=\"black\", marker='.', label='Training')\n",
    "z_ = np.arange(days+DAYS_TO_PREDICT).reshape(-1,1)\n",
    "\n",
    "plt.plot(z_, lr.predict(z_), color=\"blue\", linewidth=1)\n",
    "for j in range(DAYS_TO_PREDICT):\n",
    "    actual = plt.scatter(30+j, y_[i][j], marker='*', label='Actual', color='blue')\n",
    "    prediction = plt.scatter(30 + j, lr.predict(z_)[30+j], marker='+', label='Predicted', color='red')\n",
    "plt.ylabel('Covid-19 Cases')\n",
    "plt.xlabel('Days')\n",
    "plt.legend([training, actual, prediction], ['Training', 'Actual', 'Predicted'])\n",
    "# plt.xticks(())\n",
    "# plt.yticks(())\n",
    "plt.savefig('linear_regression_example.png')\n",
    "_ = plt.show()"
   ]
  },
  {
   "cell_type": "code",
   "execution_count": 81,
   "id": "4e845335-920e-4972-9120-6f686bf86117",
   "metadata": {},
   "outputs": [
    {
     "data": {
      "text/html": [
       "<div>\n",
       "<style scoped>\n",
       "    .dataframe tbody tr th:only-of-type {\n",
       "        vertical-align: middle;\n",
       "    }\n",
       "\n",
       "    .dataframe tbody tr th {\n",
       "        vertical-align: top;\n",
       "    }\n",
       "\n",
       "    .dataframe thead th {\n",
       "        text-align: right;\n",
       "    }\n",
       "</style>\n",
       "<table border=\"1\" class=\"dataframe\">\n",
       "  <thead>\n",
       "    <tr style=\"text-align: right;\">\n",
       "      <th></th>\n",
       "      <th>train</th>\n",
       "      <th>validate</th>\n",
       "      <th>test</th>\n",
       "    </tr>\n",
       "  </thead>\n",
       "  <tbody>\n",
       "    <tr>\n",
       "      <th>Baseline 1</th>\n",
       "      <td>{0: {'mae': 1717.3618469859337, 'rmse': 2152.4...</td>\n",
       "      <td>{0: {'mae': 1763.4056156062054, 'rmse': 2190.8...</td>\n",
       "      <td>{0: {'mae': 1681.0408622411487, 'rmse': 2134.5...</td>\n",
       "    </tr>\n",
       "    <tr>\n",
       "      <th>Baseline 2</th>\n",
       "      <td>{0: {'mae': 8.429402354856396, 'rmse': 68.8041...</td>\n",
       "      <td>{0: {'mae': 8.351147170865598, 'rmse': 67.2000...</td>\n",
       "      <td>{0: {'mae': 8.361327278551375, 'rmse': 69.5849...</td>\n",
       "    </tr>\n",
       "    <tr>\n",
       "      <th>Baseline 3</th>\n",
       "      <td>{0: {'mae': 113.34337381354005, 'rmse': 191.11...</td>\n",
       "      <td>{0: {'mae': 112.74494491526222, 'rmse': 190.26...</td>\n",
       "      <td>{0: {'mae': 112.0805320146442, 'rmse': 191.100...</td>\n",
       "    </tr>\n",
       "    <tr>\n",
       "      <th>Baseline 4</th>\n",
       "      <td>{0: {'mae': 30.205387826227913, 'rmse': 112.48...</td>\n",
       "      <td>{0: {'mae': 28.305218399690762, 'rmse': 110.42...</td>\n",
       "      <td>{0: {'mae': 30.226766041747197, 'rmse': 114.16...</td>\n",
       "    </tr>\n",
       "  </tbody>\n",
       "</table>\n",
       "</div>"
      ],
      "text/plain": [
       "                                                        train  \\\n",
       "Baseline 1  {0: {'mae': 1717.3618469859337, 'rmse': 2152.4...   \n",
       "Baseline 2  {0: {'mae': 8.429402354856396, 'rmse': 68.8041...   \n",
       "Baseline 3  {0: {'mae': 113.34337381354005, 'rmse': 191.11...   \n",
       "Baseline 4  {0: {'mae': 30.205387826227913, 'rmse': 112.48...   \n",
       "\n",
       "                                                     validate  \\\n",
       "Baseline 1  {0: {'mae': 1763.4056156062054, 'rmse': 2190.8...   \n",
       "Baseline 2  {0: {'mae': 8.351147170865598, 'rmse': 67.2000...   \n",
       "Baseline 3  {0: {'mae': 112.74494491526222, 'rmse': 190.26...   \n",
       "Baseline 4  {0: {'mae': 28.305218399690762, 'rmse': 110.42...   \n",
       "\n",
       "                                                         test  \n",
       "Baseline 1  {0: {'mae': 1681.0408622411487, 'rmse': 2134.5...  \n",
       "Baseline 2  {0: {'mae': 8.361327278551375, 'rmse': 69.5849...  \n",
       "Baseline 3  {0: {'mae': 112.0805320146442, 'rmse': 191.100...  \n",
       "Baseline 4  {0: {'mae': 30.226766041747197, 'rmse': 114.16...  "
      ]
     },
     "execution_count": 81,
     "metadata": {},
     "output_type": "execute_result"
    }
   ],
   "source": [
    "df = pd.DataFrame(summary_results)\n",
    "df = df.T\n",
    "df"
   ]
  },
  {
   "cell_type": "code",
   "execution_count": 99,
   "id": "7d98bd5a-7249-4a7a-a369-bd378c7a59a1",
   "metadata": {},
   "outputs": [],
   "source": [
    "baselines_mae = [[] for i in range(4)]\n",
    "baselines_rmse = [[] for i in range(4)]\n",
    "for i, baseline in enumerate(summary_results.values()):\n",
    "    for _, days in baseline.items():\n",
    "        mae = {}\n",
    "        rmse = {}\n",
    "        for k, v in days.items():\n",
    "            mae[k] = v['mae']\n",
    "            rmse[k] = v['rmse']\n",
    "        baselines_mae[i].append(mae)\n",
    "        baselines_rmse[i].append(rmse)\n"
   ]
  },
  {
   "cell_type": "code",
   "execution_count": 109,
   "id": "73efc990-384a-4b3f-a407-38b1d48f26ff",
   "metadata": {},
   "outputs": [
    {
     "data": {
      "text/html": [
       "<div>\n",
       "<style scoped>\n",
       "    .dataframe tbody tr th:only-of-type {\n",
       "        vertical-align: middle;\n",
       "    }\n",
       "\n",
       "    .dataframe tbody tr th {\n",
       "        vertical-align: top;\n",
       "    }\n",
       "\n",
       "    .dataframe thead th {\n",
       "        text-align: right;\n",
       "    }\n",
       "</style>\n",
       "<table border=\"1\" class=\"dataframe\">\n",
       "  <thead>\n",
       "    <tr style=\"text-align: right;\">\n",
       "      <th></th>\n",
       "      <th>1</th>\n",
       "      <th>2</th>\n",
       "      <th>3</th>\n",
       "      <th>4</th>\n",
       "      <th>5</th>\n",
       "      <th>6</th>\n",
       "      <th>7</th>\n",
       "    </tr>\n",
       "  </thead>\n",
       "  <tbody>\n",
       "    <tr>\n",
       "      <th>Baseline 1</th>\n",
       "      <td>1681.040862</td>\n",
       "      <td>1687.723303</td>\n",
       "      <td>1694.311070</td>\n",
       "      <td>1700.827258</td>\n",
       "      <td>1707.191656</td>\n",
       "      <td>1713.406207</td>\n",
       "      <td>1719.388321</td>\n",
       "    </tr>\n",
       "    <tr>\n",
       "      <th>Baseline 2</th>\n",
       "      <td>8.361327</td>\n",
       "      <td>16.819736</td>\n",
       "      <td>25.499290</td>\n",
       "      <td>34.341237</td>\n",
       "      <td>43.431795</td>\n",
       "      <td>52.751182</td>\n",
       "      <td>62.356436</td>\n",
       "    </tr>\n",
       "    <tr>\n",
       "      <th>Baseline 3</th>\n",
       "      <td>112.080532</td>\n",
       "      <td>120.355512</td>\n",
       "      <td>128.787247</td>\n",
       "      <td>137.362135</td>\n",
       "      <td>146.127162</td>\n",
       "      <td>155.080532</td>\n",
       "      <td>164.262730</td>\n",
       "    </tr>\n",
       "    <tr>\n",
       "      <th>Baseline 4</th>\n",
       "      <td>30.226766</td>\n",
       "      <td>36.039851</td>\n",
       "      <td>42.255847</td>\n",
       "      <td>48.501222</td>\n",
       "      <td>55.241510</td>\n",
       "      <td>62.529851</td>\n",
       "      <td>70.060823</td>\n",
       "    </tr>\n",
       "  </tbody>\n",
       "</table>\n",
       "</div>"
      ],
      "text/plain": [
       "                      1            2            3            4            5  \\\n",
       "Baseline 1  1681.040862  1687.723303  1694.311070  1700.827258  1707.191656   \n",
       "Baseline 2     8.361327    16.819736    25.499290    34.341237    43.431795   \n",
       "Baseline 3   112.080532   120.355512   128.787247   137.362135   146.127162   \n",
       "Baseline 4    30.226766    36.039851    42.255847    48.501222    55.241510   \n",
       "\n",
       "                      6            7  \n",
       "Baseline 1  1713.406207  1719.388321  \n",
       "Baseline 2    52.751182    62.356436  \n",
       "Baseline 3   155.080532   164.262730  \n",
       "Baseline 4    62.529851    70.060823  "
      ]
     },
     "execution_count": 109,
     "metadata": {},
     "output_type": "execute_result"
    }
   ],
   "source": [
    "mae_df = pd.DataFrame({'Baseline 1': baselines_mae[0][2], 'Baseline 2': baselines_mae[1][2], 'Baseline 3': baselines_mae[2][2], 'Baseline 4': baselines_mae[3][2]}).T\n",
    "mae_df.columns = ([i for i in range(1,8)])\n",
    "mae_df"
   ]
  },
  {
   "cell_type": "code",
   "execution_count": 184,
   "id": "e5343791-0fd0-4a77-a00d-03036657ebdc",
   "metadata": {},
   "outputs": [
    {
     "data": {
      "image/png": "[encoded data removed]",
      "text/plain": [
       "<Figure size 432x288 with 1 Axes>"
      ]
     },
     "metadata": {
      "needs_background": "light"
     },
     "output_type": "display_data"
    }
   ],
   "source": [
    "ax = mae_df.T.plot(kind='line',\n",
    "                 # title='Mean Absolute Loss (Validation Set)',\n",
    "                 logy=True,\n",
    "                 xlabel='Steps (Days)',\n",
    "                 ylabel='Log MAE')\n",
    "fig = ax.get_figure()\n",
    "fig.savefig('mae_validation.png')"
   ]
  },
  {
   "cell_type": "code",
   "execution_count": 132,
   "id": "d901c4f4-a13b-4f60-9779-22000a0356b7",
   "metadata": {},
   "outputs": [
    {
     "data": {
      "text/html": [
       "<div>\n",
       "<style scoped>\n",
       "    .dataframe tbody tr th:only-of-type {\n",
       "        vertical-align: middle;\n",
       "    }\n",
       "\n",
       "    .dataframe tbody tr th {\n",
       "        vertical-align: top;\n",
       "    }\n",
       "\n",
       "    .dataframe thead th {\n",
       "        text-align: right;\n",
       "    }\n",
       "</style>\n",
       "<table border=\"1\" class=\"dataframe\">\n",
       "  <thead>\n",
       "    <tr style=\"text-align: right;\">\n",
       "      <th></th>\n",
       "      <th>1</th>\n",
       "      <th>2</th>\n",
       "      <th>3</th>\n",
       "      <th>4</th>\n",
       "      <th>5</th>\n",
       "      <th>6</th>\n",
       "      <th>7</th>\n",
       "    </tr>\n",
       "  </thead>\n",
       "  <tbody>\n",
       "    <tr>\n",
       "      <th>Baseline 1</th>\n",
       "      <td>2134.566306</td>\n",
       "      <td>2141.398481</td>\n",
       "      <td>2148.153605</td>\n",
       "      <td>2154.852786</td>\n",
       "      <td>2161.401065</td>\n",
       "      <td>2167.827415</td>\n",
       "      <td>2174.014953</td>\n",
       "    </tr>\n",
       "    <tr>\n",
       "      <th>Baseline 2</th>\n",
       "      <td>69.584928</td>\n",
       "      <td>103.933481</td>\n",
       "      <td>133.397876</td>\n",
       "      <td>159.179092</td>\n",
       "      <td>184.564807</td>\n",
       "      <td>209.638514</td>\n",
       "      <td>235.068486</td>\n",
       "    </tr>\n",
       "    <tr>\n",
       "      <th>Baseline 3</th>\n",
       "      <td>191.100687</td>\n",
       "      <td>209.237790</td>\n",
       "      <td>227.467214</td>\n",
       "      <td>245.590994</td>\n",
       "      <td>264.114127</td>\n",
       "      <td>282.953669</td>\n",
       "      <td>302.420411</td>\n",
       "    </tr>\n",
       "    <tr>\n",
       "      <th>Baseline 4</th>\n",
       "      <td>114.163325</td>\n",
       "      <td>143.289731</td>\n",
       "      <td>173.189422</td>\n",
       "      <td>196.729050</td>\n",
       "      <td>222.033736</td>\n",
       "      <td>248.388797</td>\n",
       "      <td>273.838422</td>\n",
       "    </tr>\n",
       "  </tbody>\n",
       "</table>\n",
       "</div>"
      ],
      "text/plain": [
       "                      1            2            3            4            5  \\\n",
       "Baseline 1  2134.566306  2141.398481  2148.153605  2154.852786  2161.401065   \n",
       "Baseline 2    69.584928   103.933481   133.397876   159.179092   184.564807   \n",
       "Baseline 3   191.100687   209.237790   227.467214   245.590994   264.114127   \n",
       "Baseline 4   114.163325   143.289731   173.189422   196.729050   222.033736   \n",
       "\n",
       "                      6            7  \n",
       "Baseline 1  2167.827415  2174.014953  \n",
       "Baseline 2   209.638514   235.068486  \n",
       "Baseline 3   282.953669   302.420411  \n",
       "Baseline 4   248.388797   273.838422  "
      ]
     },
     "execution_count": 132,
     "metadata": {},
     "output_type": "execute_result"
    }
   ],
   "source": [
    "rmse_df = pd.DataFrame({'Baseline 1': baselines_rmse[0][2], 'Baseline 2': baselines_rmse[1][2], 'Baseline 3': baselines_rmse[2][2], 'Baseline 4': baselines_rmse[3][2]}).T\n",
    "rmse_df.columns = ([i for i in range(1,8)])\n",
    "rmse_df"
   ]
  },
  {
   "cell_type": "code",
   "execution_count": 185,
   "id": "b451bbf7-8e9d-4bf8-9677-1ee7c3928838",
   "metadata": {},
   "outputs": [
    {
     "data": {
      "image/png": "[encoded data removed]",
      "text/plain": [
       "<Figure size 432x288 with 1 Axes>"
      ]
     },
     "metadata": {
      "needs_background": "light"
     },
     "output_type": "display_data"
    }
   ],
   "source": [
    "ax = rmse_df.T.plot(kind='line',\n",
    "                 # title='Root Mean Square Loss (Validation Set)',\n",
    "                 logy=True,\n",
    "                 xlabel='Steps (Days)',\n",
    "                 ylabel='Log RMSE')\n",
    "fig = ax.get_figure()\n",
    "fig.savefig('rmse_validation.png')"
   ]
  },
  {
   "cell_type": "code",
   "execution_count": 134,
   "id": "57fe7194-e898-41e8-893a-8ddaf5e1dac1",
   "metadata": {},
   "outputs": [
    {
     "data": {
      "text/html": [
       "<div>\n",
       "<style scoped>\n",
       "    .dataframe tbody tr th:only-of-type {\n",
       "        vertical-align: middle;\n",
       "    }\n",
       "\n",
       "    .dataframe tbody tr th {\n",
       "        vertical-align: top;\n",
       "    }\n",
       "\n",
       "    .dataframe thead th {\n",
       "        text-align: right;\n",
       "    }\n",
       "</style>\n",
       "<table border=\"1\" class=\"dataframe\">\n",
       "  <thead>\n",
       "    <tr style=\"text-align: right;\">\n",
       "      <th></th>\n",
       "      <th>mse</th>\n",
       "      <th>rmse</th>\n",
       "      <th>0</th>\n",
       "      <th>1</th>\n",
       "      <th>2</th>\n",
       "      <th>3</th>\n",
       "      <th>4</th>\n",
       "      <th>5</th>\n",
       "      <th>6</th>\n",
       "    </tr>\n",
       "  </thead>\n",
       "  <tbody>\n",
       "    <tr>\n",
       "      <th>Baseline 1</th>\n",
       "      <td>1</td>\n",
       "      <td>{0: 2134.5663057078123, 1: 2141.398480881179, ...</td>\n",
       "      <td>NaN</td>\n",
       "      <td>NaN</td>\n",
       "      <td>NaN</td>\n",
       "      <td>NaN</td>\n",
       "      <td>NaN</td>\n",
       "      <td>NaN</td>\n",
       "      <td>NaN</td>\n",
       "    </tr>\n",
       "    <tr>\n",
       "      <th>Baseline 2</th>\n",
       "      <td>NaN</td>\n",
       "      <td>NaN</td>\n",
       "      <td>69.584928</td>\n",
       "      <td>103.933481</td>\n",
       "      <td>133.397876</td>\n",
       "      <td>159.179092</td>\n",
       "      <td>184.564807</td>\n",
       "      <td>209.638514</td>\n",
       "      <td>235.068486</td>\n",
       "    </tr>\n",
       "    <tr>\n",
       "      <th>Baseline 3</th>\n",
       "      <td>NaN</td>\n",
       "      <td>NaN</td>\n",
       "      <td>191.100687</td>\n",
       "      <td>209.23779</td>\n",
       "      <td>227.467214</td>\n",
       "      <td>245.590994</td>\n",
       "      <td>264.114127</td>\n",
       "      <td>282.953669</td>\n",
       "      <td>302.420411</td>\n",
       "    </tr>\n",
       "    <tr>\n",
       "      <th>Baseline 4</th>\n",
       "      <td>NaN</td>\n",
       "      <td>NaN</td>\n",
       "      <td>114.163325</td>\n",
       "      <td>143.289731</td>\n",
       "      <td>173.189422</td>\n",
       "      <td>196.72905</td>\n",
       "      <td>222.033736</td>\n",
       "      <td>248.388797</td>\n",
       "      <td>273.838422</td>\n",
       "    </tr>\n",
       "  </tbody>\n",
       "</table>\n",
       "</div>"
      ],
      "text/plain": [
       "            mse                                               rmse  \\\n",
       "Baseline 1    1  {0: 2134.5663057078123, 1: 2141.398480881179, ...   \n",
       "Baseline 2  NaN                                                NaN   \n",
       "Baseline 3  NaN                                                NaN   \n",
       "Baseline 4  NaN                                                NaN   \n",
       "\n",
       "                     0           1           2           3           4  \\\n",
       "Baseline 1         NaN         NaN         NaN         NaN         NaN   \n",
       "Baseline 2   69.584928  103.933481  133.397876  159.179092  184.564807   \n",
       "Baseline 3  191.100687   209.23779  227.467214  245.590994  264.114127   \n",
       "Baseline 4  114.163325  143.289731  173.189422   196.72905  222.033736   \n",
       "\n",
       "                     5           6  \n",
       "Baseline 1         NaN         NaN  \n",
       "Baseline 2  209.638514  235.068486  \n",
       "Baseline 3  282.953669  302.420411  \n",
       "Baseline 4  248.388797  273.838422  "
      ]
     },
     "execution_count": 134,
     "metadata": {},
     "output_type": "execute_result"
    }
   ],
   "source": [
    "both_df = pd.DataFrame({'Baseline 1': {'mse': 1, 'rmse': baselines_rmse[0][2]}, 'Baseline 2': baselines_rmse[1][2], 'Baseline 3': baselines_rmse[2][2], 'Baseline 4': baselines_rmse[3][2]}).T\n",
    "# both_df.columns = ([i for i in range(1,8)])\n",
    "both_df"
   ]
  },
  {
   "cell_type": "code",
   "execution_count": 186,
   "id": "e1b55f6c-8d18-45eb-bcda-8aa8366a2f84",
   "metadata": {},
   "outputs": [
    {
     "data": {
      "text/html": [
       "<div>\n",
       "<style scoped>\n",
       "    .dataframe tbody tr th:only-of-type {\n",
       "        vertical-align: middle;\n",
       "    }\n",
       "\n",
       "    .dataframe tbody tr th {\n",
       "        vertical-align: top;\n",
       "    }\n",
       "\n",
       "    .dataframe thead th {\n",
       "        text-align: right;\n",
       "    }\n",
       "</style>\n",
       "<table border=\"1\" class=\"dataframe\">\n",
       "  <thead>\n",
       "    <tr style=\"text-align: center;\">\n",
       "      <th></th>\n",
       "      <th></th>\n",
       "      <th>MAE</th>\n",
       "      <th>RMSE</th>\n",
       "    </tr>\n",
       "  </thead>\n",
       "  <tbody>\n",
       "    <tr>\n",
       "      <th rowspan=\"7\" valign=\"top\">Baseline 1</th>\n",
       "      <th>0</th>\n",
       "      <td>7290.052478</td>\n",
       "      <td>25747.034868</td>\n",
       "    </tr>\n",
       "    <tr>\n",
       "      <th>1</th>\n",
       "      <td>7322.190589</td>\n",
       "      <td>25857.531591</td>\n",
       "    </tr>\n",
       "    <tr>\n",
       "      <th>2</th>\n",
       "      <td>7354.994960</td>\n",
       "      <td>25972.493580</td>\n",
       "    </tr>\n",
       "    <tr>\n",
       "      <th>3</th>\n",
       "      <td>7387.805210</td>\n",
       "      <td>26086.957315</td>\n",
       "    </tr>\n",
       "    <tr>\n",
       "      <th>4</th>\n",
       "      <td>7421.379804</td>\n",
       "      <td>26207.090798</td>\n",
       "    </tr>\n",
       "    <tr>\n",
       "      <th>5</th>\n",
       "      <td>7455.775214</td>\n",
       "      <td>26339.562432</td>\n",
       "    </tr>\n",
       "    <tr>\n",
       "      <th>6</th>\n",
       "      <td>7490.349461</td>\n",
       "      <td>26473.555333</td>\n",
       "    </tr>\n",
       "    <tr>\n",
       "      <th rowspan=\"7\" valign=\"top\">Baseline 2</th>\n",
       "      <th>0</th>\n",
       "      <td>32.002339</td>\n",
       "      <td>288.227048</td>\n",
       "    </tr>\n",
       "    <tr>\n",
       "      <th>1</th>\n",
       "      <td>64.206147</td>\n",
       "      <td>469.957367</td>\n",
       "    </tr>\n",
       "    <tr>\n",
       "      <th>2</th>\n",
       "      <td>97.051148</td>\n",
       "      <td>643.219650</td>\n",
       "    </tr>\n",
       "    <tr>\n",
       "      <th>3</th>\n",
       "      <td>129.907325</td>\n",
       "      <td>804.178475</td>\n",
       "    </tr>\n",
       "    <tr>\n",
       "      <th>4</th>\n",
       "      <td>163.540894</td>\n",
       "      <td>975.876620</td>\n",
       "    </tr>\n",
       "    <tr>\n",
       "      <th>5</th>\n",
       "      <td>197.983226</td>\n",
       "      <td>1168.784510</td>\n",
       "    </tr>\n",
       "    <tr>\n",
       "      <th>6</th>\n",
       "      <td>232.623025</td>\n",
       "      <td>1358.812619</td>\n",
       "    </tr>\n",
       "    <tr>\n",
       "      <th rowspan=\"7\" valign=\"top\">Baseline 3</th>\n",
       "      <th>0</th>\n",
       "      <td>449.128383</td>\n",
       "      <td>1989.854307</td>\n",
       "    </tr>\n",
       "    <tr>\n",
       "      <th>1</th>\n",
       "      <td>481.297429</td>\n",
       "      <td>2144.333389</td>\n",
       "    </tr>\n",
       "    <tr>\n",
       "      <th>2</th>\n",
       "      <td>514.131535</td>\n",
       "      <td>2303.820253</td>\n",
       "    </tr>\n",
       "    <tr>\n",
       "      <th>3</th>\n",
       "      <td>546.969945</td>\n",
       "      <td>2459.154202</td>\n",
       "    </tr>\n",
       "    <tr>\n",
       "      <th>4</th>\n",
       "      <td>580.571591</td>\n",
       "      <td>2623.281517</td>\n",
       "    </tr>\n",
       "    <tr>\n",
       "      <th>5</th>\n",
       "      <td>614.993736</td>\n",
       "      <td>2809.449287</td>\n",
       "    </tr>\n",
       "    <tr>\n",
       "      <th>6</th>\n",
       "      <td>649.594455</td>\n",
       "      <td>2994.362205</td>\n",
       "    </tr>\n",
       "    <tr>\n",
       "      <th rowspan=\"7\" valign=\"top\">Baseline 4</th>\n",
       "      <th>0</th>\n",
       "      <td>113.090974</td>\n",
       "      <td>903.048098</td>\n",
       "    </tr>\n",
       "    <tr>\n",
       "      <th>1</th>\n",
       "      <td>134.149932</td>\n",
       "      <td>1080.662202</td>\n",
       "    </tr>\n",
       "    <tr>\n",
       "      <th>2</th>\n",
       "      <td>156.651604</td>\n",
       "      <td>1276.744465</td>\n",
       "    </tr>\n",
       "    <tr>\n",
       "      <th>3</th>\n",
       "      <td>179.542965</td>\n",
       "      <td>1462.506419</td>\n",
       "    </tr>\n",
       "    <tr>\n",
       "      <th>4</th>\n",
       "      <td>203.992230</td>\n",
       "      <td>1658.234656</td>\n",
       "    </tr>\n",
       "    <tr>\n",
       "      <th>5</th>\n",
       "      <td>232.448183</td>\n",
       "      <td>1985.663126</td>\n",
       "    </tr>\n",
       "    <tr>\n",
       "      <th>6</th>\n",
       "      <td>261.718090</td>\n",
       "      <td>2307.226328</td>\n",
       "    </tr>\n",
       "  </tbody>\n",
       "</table>\n",
       "</div>"
      ],
      "text/plain": [
       "                  MAE          RMSE    \n",
       "Baseline 1 0  7290.052478  25747.034868\n",
       "           1  7322.190589  25857.531591\n",
       "           2  7354.994960  25972.493580\n",
       "           3  7387.805210  26086.957315\n",
       "           4  7421.379804  26207.090798\n",
       "           5  7455.775214  26339.562432\n",
       "           6  7490.349461  26473.555333\n",
       "Baseline 2 0    32.002339    288.227048\n",
       "           1    64.206147    469.957367\n",
       "           2    97.051148    643.219650\n",
       "           3   129.907325    804.178475\n",
       "           4   163.540894    975.876620\n",
       "           5   197.983226   1168.784510\n",
       "           6   232.623025   1358.812619\n",
       "Baseline 3 0   449.128383   1989.854307\n",
       "           1   481.297429   2144.333389\n",
       "           2   514.131535   2303.820253\n",
       "           3   546.969945   2459.154202\n",
       "           4   580.571591   2623.281517\n",
       "           5   614.993736   2809.449287\n",
       "           6   649.594455   2994.362205\n",
       "Baseline 4 0   113.090974    903.048098\n",
       "           1   134.149932   1080.662202\n",
       "           2   156.651604   1276.744465\n",
       "           3   179.542965   1462.506419\n",
       "           4   203.992230   1658.234656\n",
       "           5   232.448183   1985.663126\n",
       "           6   261.718090   2307.226328"
      ]
     },
     "execution_count": 186,
     "metadata": {},
     "output_type": "execute_result"
    }
   ],
   "source": [
    "sr = {}\n",
    "for k,v in summary_results.items():\n",
    "    for k_, v_ in v.items():\n",
    "        if k_ == 'test':\n",
    "            sr[k] = v_\n",
    "\n",
    "\n",
    "\n",
    "combined_df = pd.DataFrame.from_dict({(i,j): sr[i][j] \n",
    "                           for i in sr.keys() \n",
    "                           for j in sr[i].keys()},\n",
    "                       orient='index')\n",
    "combined_df.columns = ['MAE', 'RMSE']\n",
    "combined_df"
   ]
  },
  {
   "cell_type": "code",
   "execution_count": 152,
   "id": "8b3e13ca-2a7a-47e0-b953-ea1fbdcab9d8",
   "metadata": {},
   "outputs": [
    {
     "data": {
      "text/plain": [
       "{'Baseline 1': {0: {'mae': 1681.0408622411487, 'rmse': 2134.5663057078123}, 1: {'mae': 1687.7233027453788, 'rmse': 2141.398480881179}, 2: {'mae': 1694.311070075936, 'rmse': 2148.1536053043465}, 3: {'mae': 1700.827257824424, 'rmse': 2154.852786355121}, 4: {'mae': 1707.1916564602136, 'rmse': 2161.401065369048}, 5: {'mae': 1713.4062067795971, 'rmse': 2167.8274150411007}, 6: {'mae': 1719.388321305421, 'rmse': 2174.0149533436165}},\n",
       " 'Baseline 2': {0: {'mae': 8.361327278551375, 'rmse': 69.5849279094092}, 1: {'mae': 16.819735825592133, 'rmse': 103.93348088952143}, 2: {'mae': 25.49928963087185, 'rmse': 133.3978759184048}, 3: {'mae': 34.34123721052929, 'rmse': 159.17909200571256}, 4: {'mae': 43.431795142356464, 'rmse': 184.56480663129327}, 5: {'mae': 52.75118237832338, 'rmse': 209.6385137470729}, 6: {'mae': 62.35643571818884, 'rmse': 235.0684859375391}},\n",
       " 'Baseline 3': {0: {'mae': 112.0805320146442, 'rmse': 191.10068672107312}, 1: {'mae': 120.35551247426044, 'rmse': 209.2377902783539}, 2: {'mae': 128.78724676464043, 'rmse': 227.46721426592632}, 3: {'mae': 137.3621345783237, 'rmse': 245.5909938345075}, 4: {'mae': 146.1271622000351, 'rmse': 264.1141265366207}, 5: {'mae': 155.0805315432236, 'rmse': 282.9536688557736}, 6: {'mae': 164.2627304775302, 'rmse': 302.4204108966704}},\n",
       " 'Baseline 4': {0: {'mae': 30.226766041747197, 'rmse': 114.1633250455933}, 1: {'mae': 36.039850695786626, 'rmse': 143.28973138441035}, 2: {'mae': 42.25584654039428, 'rmse': 173.18942218480495}, 3: {'mae': 48.50122245844608, 'rmse': 196.72904965844}, 4: {'mae': 55.24151043679938, 'rmse': 222.033735774967}, 5: {'mae': 62.52985117897178, 'rmse': 248.3887970722847}, 6: {'mae': 70.06082334750677, 'rmse': 273.83842207958173}}}"
      ]
     },
     "execution_count": 152,
     "metadata": {},
     "output_type": "execute_result"
    }
   ],
   "source": [
    "sr"
   ]
  },
  {
   "cell_type": "code",
   "execution_count": 187,
   "id": "2292440e-cdd6-47d9-8147-20a40a9b3151",
   "metadata": {},
   "outputs": [
    {
     "name": "stdout",
     "output_type": "stream",
     "text": [
      "\\begin{tabular}{lrrrrrrrrrrrrrr}\n",
      " & \\multicolumn{2}{r}{Step 0} & \\multicolumn{2}{r}{Step 1} & \\multicolumn{2}{r}{Step 2} & \\multicolumn{2}{r}{Step 3} & \\multicolumn{2}{r}{Step 4} & \\multicolumn{2}{r}{Step 5} & \\multicolumn{2}{r}{Step 6} \\\\\n",
      " & MAE & RMSE & MAE & RMSE & MAE & RMSE & MAE & RMSE & MAE & RMSE & MAE & RMSE & MAE & RMSE \\\\\n",
      "Baseline 1 & 7290.052478 & 25747.034868 & 7322.190589 & 25857.531591 & 7354.994960 & 25972.493580 & 7387.805210 & 26086.957315 & 7421.379804 & 26207.090798 & 7455.775214 & 26339.562432 & 7490.349461 & 26473.555333 \\\\\n",
      "Baseline 2 & 32.002339 & 288.227048 & 64.206147 & 469.957367 & 97.051148 & 643.219650 & 129.907325 & 804.178475 & 163.540894 & 975.876620 & 197.983226 & 1168.784510 & 232.623025 & 1358.812619 \\\\\n",
      "Baseline 3 & 449.128383 & 1989.854307 & 481.297429 & 2144.333389 & 514.131535 & 2303.820253 & 546.969945 & 2459.154202 & 580.571591 & 2623.281517 & 614.993736 & 2809.449287 & 649.594455 & 2994.362205 \\\\\n",
      "Baseline 4 & 113.090974 & 903.048098 & 134.149932 & 1080.662202 & 156.651604 & 1276.744465 & 179.542965 & 1462.506419 & 203.992230 & 1658.234656 & 232.448183 & 1985.663126 & 261.718090 & 2307.226328 \\\\\n",
      "\\end{tabular}\n",
      "\n"
     ]
    }
   ],
   "source": [
    "sr = {}\n",
    "for k,v in summary_results.items():\n",
    "    for k_, v_ in v.items():\n",
    "        if k_ == 'test':\n",
    "            sr[k] = v_\n",
    "            \n",
    "sr2 = defaultdict(dict)\n",
    "for bl, days in sr.items():\n",
    "    for day, values in days.items():\n",
    "        for typ, value in values.items():\n",
    "            sr2[(f'Step {day}', typ.upper())][bl] = value\n",
    "sr2\n",
    "\n",
    "\n",
    "\n",
    "\n",
    "combined_df = pd.DataFrame.from_dict(sr2)\n",
    "pd.set_option('display.colheader_justify', 'center')\n",
    "print(combined_df.style.to_latex())"
   ]
  },
  {
   "cell_type": "code",
   "execution_count": 153,
   "id": "33d7c711-2333-4ef7-a94c-eca3ed83d343",
   "metadata": {},
   "outputs": [
    {
     "data": {
      "text/plain": [
       "{('Baseline 1', 0): {'mae': 1681.0408622411487, 'rmse': 2134.5663057078123},\n",
       " ('Baseline 1', 1): {'mae': 1687.7233027453788, 'rmse': 2141.398480881179},\n",
       " ('Baseline 1', 2): {'mae': 1694.311070075936, 'rmse': 2148.1536053043465},\n",
       " ('Baseline 1', 3): {'mae': 1700.827257824424, 'rmse': 2154.852786355121},\n",
       " ('Baseline 1', 4): {'mae': 1707.1916564602136, 'rmse': 2161.401065369048},\n",
       " ('Baseline 1', 5): {'mae': 1713.4062067795971, 'rmse': 2167.8274150411007},\n",
       " ('Baseline 1', 6): {'mae': 1719.388321305421, 'rmse': 2174.0149533436165},\n",
       " ('Baseline 2', 0): {'mae': 8.361327278551375, 'rmse': 69.5849279094092},\n",
       " ('Baseline 2', 1): {'mae': 16.819735825592133, 'rmse': 103.93348088952143},\n",
       " ('Baseline 2', 2): {'mae': 25.49928963087185, 'rmse': 133.3978759184048},\n",
       " ('Baseline 2', 3): {'mae': 34.34123721052929, 'rmse': 159.17909200571256},\n",
       " ('Baseline 2', 4): {'mae': 43.431795142356464, 'rmse': 184.56480663129327},\n",
       " ('Baseline 2', 5): {'mae': 52.75118237832338, 'rmse': 209.6385137470729},\n",
       " ('Baseline 2', 6): {'mae': 62.35643571818884, 'rmse': 235.0684859375391},\n",
       " ('Baseline 3', 0): {'mae': 112.0805320146442, 'rmse': 191.10068672107312},\n",
       " ('Baseline 3', 1): {'mae': 120.35551247426044, 'rmse': 209.2377902783539},\n",
       " ('Baseline 3', 2): {'mae': 128.78724676464043, 'rmse': 227.46721426592632},\n",
       " ('Baseline 3', 3): {'mae': 137.3621345783237, 'rmse': 245.5909938345075},\n",
       " ('Baseline 3', 4): {'mae': 146.1271622000351, 'rmse': 264.1141265366207},\n",
       " ('Baseline 3', 5): {'mae': 155.0805315432236, 'rmse': 282.9536688557736},\n",
       " ('Baseline 3', 6): {'mae': 164.2627304775302, 'rmse': 302.4204108966704},\n",
       " ('Baseline 4', 0): {'mae': 30.226766041747197, 'rmse': 114.1633250455933},\n",
       " ('Baseline 4', 1): {'mae': 36.039850695786626, 'rmse': 143.28973138441035},\n",
       " ('Baseline 4', 2): {'mae': 42.25584654039428, 'rmse': 173.18942218480495},\n",
       " ('Baseline 4', 3): {'mae': 48.50122245844608, 'rmse': 196.72904965844},\n",
       " ('Baseline 4', 4): {'mae': 55.24151043679938, 'rmse': 222.033735774967},\n",
       " ('Baseline 4', 5): {'mae': 62.52985117897178, 'rmse': 248.3887970722847},\n",
       " ('Baseline 4', 6): {'mae': 70.06082334750677, 'rmse': 273.83842207958173}}"
      ]
     },
     "execution_count": 153,
     "metadata": {},
     "output_type": "execute_result"
    }
   ],
   "source": [
    "{(i,j): sr[i][j] \n",
    "                           for i in sr.keys() \n",
    "                           for j in sr[i].keys()}"
   ]
  },
  {
   "cell_type": "code",
   "execution_count": 154,
   "id": "01cfd64b-5950-4831-90a5-1746406aa144",
   "metadata": {},
   "outputs": [
    {
     "data": {
      "text/plain": [
       "{'Baseline 1': {0: {'mae': 1681.0408622411487, 'rmse': 2134.5663057078123}, 1: {'mae': 1687.7233027453788, 'rmse': 2141.398480881179}, 2: {'mae': 1694.311070075936, 'rmse': 2148.1536053043465}, 3: {'mae': 1700.827257824424, 'rmse': 2154.852786355121}, 4: {'mae': 1707.1916564602136, 'rmse': 2161.401065369048}, 5: {'mae': 1713.4062067795971, 'rmse': 2167.8274150411007}, 6: {'mae': 1719.388321305421, 'rmse': 2174.0149533436165}},\n",
       " 'Baseline 2': {0: {'mae': 8.361327278551375, 'rmse': 69.5849279094092}, 1: {'mae': 16.819735825592133, 'rmse': 103.93348088952143}, 2: {'mae': 25.49928963087185, 'rmse': 133.3978759184048}, 3: {'mae': 34.34123721052929, 'rmse': 159.17909200571256}, 4: {'mae': 43.431795142356464, 'rmse': 184.56480663129327}, 5: {'mae': 52.75118237832338, 'rmse': 209.6385137470729}, 6: {'mae': 62.35643571818884, 'rmse': 235.0684859375391}},\n",
       " 'Baseline 3': {0: {'mae': 112.0805320146442, 'rmse': 191.10068672107312}, 1: {'mae': 120.35551247426044, 'rmse': 209.2377902783539}, 2: {'mae': 128.78724676464043, 'rmse': 227.46721426592632}, 3: {'mae': 137.3621345783237, 'rmse': 245.5909938345075}, 4: {'mae': 146.1271622000351, 'rmse': 264.1141265366207}, 5: {'mae': 155.0805315432236, 'rmse': 282.9536688557736}, 6: {'mae': 164.2627304775302, 'rmse': 302.4204108966704}},\n",
       " 'Baseline 4': {0: {'mae': 30.226766041747197, 'rmse': 114.1633250455933}, 1: {'mae': 36.039850695786626, 'rmse': 143.28973138441035}, 2: {'mae': 42.25584654039428, 'rmse': 173.18942218480495}, 3: {'mae': 48.50122245844608, 'rmse': 196.72904965844}, 4: {'mae': 55.24151043679938, 'rmse': 222.033735774967}, 5: {'mae': 62.52985117897178, 'rmse': 248.3887970722847}, 6: {'mae': 70.06082334750677, 'rmse': 273.83842207958173}}}"
      ]
     },
     "execution_count": 154,
     "metadata": {},
     "output_type": "execute_result"
    }
   ],
   "source": [
    "sr"
   ]
  },
  {
   "cell_type": "code",
   "execution_count": 155,
   "id": "f35ef67b-f2a6-453b-b1a0-7cec51c79c4a",
   "metadata": {},
   "outputs": [
    {
     "data": {
      "text/plain": [
       "defaultdict(dict,\n",
       "            {('mae', 0): {'Baseline 1': 1681.0408622411487,\n",
       "              'Baseline 2': 8.361327278551375,\n",
       "              'Baseline 3': 112.0805320146442,\n",
       "              'Baseline 4': 30.226766041747197},\n",
       "             ('rmse', 0): {'Baseline 1': 2134.5663057078123,\n",
       "              'Baseline 2': 69.5849279094092,\n",
       "              'Baseline 3': 191.10068672107312,\n",
       "              'Baseline 4': 114.1633250455933},\n",
       "             ('mae', 1): {'Baseline 1': 1687.7233027453788,\n",
       "              'Baseline 2': 16.819735825592133,\n",
       "              'Baseline 3': 120.35551247426044,\n",
       "              'Baseline 4': 36.039850695786626},\n",
       "             ('rmse', 1): {'Baseline 1': 2141.398480881179,\n",
       "              'Baseline 2': 103.93348088952143,\n",
       "              'Baseline 3': 209.2377902783539,\n",
       "              'Baseline 4': 143.28973138441035},\n",
       "             ('mae', 2): {'Baseline 1': 1694.311070075936,\n",
       "              'Baseline 2': 25.49928963087185,\n",
       "              'Baseline 3': 128.78724676464043,\n",
       "              'Baseline 4': 42.25584654039428},\n",
       "             ('rmse', 2): {'Baseline 1': 2148.1536053043465,\n",
       "              'Baseline 2': 133.3978759184048,\n",
       "              'Baseline 3': 227.46721426592632,\n",
       "              'Baseline 4': 173.18942218480495},\n",
       "             ('mae', 3): {'Baseline 1': 1700.827257824424,\n",
       "              'Baseline 2': 34.34123721052929,\n",
       "              'Baseline 3': 137.3621345783237,\n",
       "              'Baseline 4': 48.50122245844608},\n",
       "             ('rmse', 3): {'Baseline 1': 2154.852786355121,\n",
       "              'Baseline 2': 159.17909200571256,\n",
       "              'Baseline 3': 245.5909938345075,\n",
       "              'Baseline 4': 196.72904965844},\n",
       "             ('mae', 4): {'Baseline 1': 1707.1916564602136,\n",
       "              'Baseline 2': 43.431795142356464,\n",
       "              'Baseline 3': 146.1271622000351,\n",
       "              'Baseline 4': 55.24151043679938},\n",
       "             ('rmse', 4): {'Baseline 1': 2161.401065369048,\n",
       "              'Baseline 2': 184.56480663129327,\n",
       "              'Baseline 3': 264.1141265366207,\n",
       "              'Baseline 4': 222.033735774967},\n",
       "             ('mae', 5): {'Baseline 1': 1713.4062067795971,\n",
       "              'Baseline 2': 52.75118237832338,\n",
       "              'Baseline 3': 155.0805315432236,\n",
       "              'Baseline 4': 62.52985117897178},\n",
       "             ('rmse', 5): {'Baseline 1': 2167.8274150411007,\n",
       "              'Baseline 2': 209.6385137470729,\n",
       "              'Baseline 3': 282.9536688557736,\n",
       "              'Baseline 4': 248.3887970722847},\n",
       "             ('mae', 6): {'Baseline 1': 1719.388321305421,\n",
       "              'Baseline 2': 62.35643571818884,\n",
       "              'Baseline 3': 164.2627304775302,\n",
       "              'Baseline 4': 70.06082334750677},\n",
       "             ('rmse', 6): {'Baseline 1': 2174.0149533436165,\n",
       "              'Baseline 2': 235.0684859375391,\n",
       "              'Baseline 3': 302.4204108966704,\n",
       "              'Baseline 4': 273.83842207958173}})"
      ]
     },
     "execution_count": 155,
     "metadata": {},
     "output_type": "execute_result"
    }
   ],
   "source": [
    "sr2 = defaultdict(dict)\n",
    "for bl, days in sr.items():\n",
    "    for day, values in days.items():\n",
    "        for typ, value in values.items():\n",
    "            sr2[(typ, day)][bl] = value\n",
    "sr2\n",
    "            "
   ]
  },
  {
   "cell_type": "code",
   "execution_count": 30,
   "id": "4faa879a-faa5-4364-b1a5-3c4e62bed3ca",
   "metadata": {},
   "outputs": [
    {
     "data": {
      "text/plain": [
       "array([[333.62068966]])"
      ]
     },
     "execution_count": 30,
     "metadata": {},
     "output_type": "execute_result"
    }
   ],
   "source": [
    "lr.predict(np.array([30]).reshape(-1,1))"
   ]
  },
  {
   "cell_type": "code",
   "execution_count": 17,
   "id": "5cdb88bf-7c24-4292-8f5e-873fd762bba8",
   "metadata": {},
   "outputs": [
    {
     "name": "stdout",
     "output_type": "stream",
     "text": [
      "(995, 30, 101)\n",
      "train - 0\n",
      "(995, 30, 101)\n",
      "validate - 0\n",
      "(995, 30, 101)\n",
      "test - 0\n"
     ]
    }
   ],
   "source": [
    "for name, ds in get_new_loop():\n",
    "    for i, (x, y) in enumerate(ds):\n",
    "        print(x.shape)\n",
    "        break\n",
    "    print(name, '-', i)"
   ]
  },
  {
   "cell_type": "code",
   "execution_count": 16,
   "id": "950463c8-19f0-42ba-8268-e9b85e6ce031",
   "metadata": {},
   "outputs": [
    {
     "data": {
      "text/plain": [
       "(995, 7)"
      ]
     },
     "execution_count": 16,
     "metadata": {},
     "output_type": "execute_result"
    }
   ],
   "source": [
    "x_.shape\n",
    "x_ = np.mean(x_, axis=1).flatten()\n",
    "x_ = x_.reshape(-1,1)\n",
    "x_ = x_ = np.repeat(x_, DAYS_TO_PREDICT, axis=1)\n",
    "x_.shape"
   ]
  },
  {
   "cell_type": "code",
   "execution_count": 18,
   "id": "3c48c542-77f8-4e00-a8fc-7dc06fc2a92f",
   "metadata": {},
   "outputs": [
    {
     "name": "stdout",
     "output_type": "stream",
     "text": [
      "pandas==1.4.0\n"
     ]
    }
   ],
   "source": [
    "!pip freeze|grep pandas"
   ]
  },
  {
   "cell_type": "code",
   "execution_count": null,
   "id": "39b1d17c-0060-42fc-a989-92cd486e744a",
   "metadata": {},
   "outputs": [],
   "source": [
    "for name, ds in get_new_loop():\n",
    "    errors = np.zeros(DAYS_TO_PREDICT)\n",
    "    count = 0\n",
    "    for x, y in ds:\n",
    "        print(x.shape, y.shape)\n",
    "        print(x[0][-1][0])\n",
    "        print(y[0][0][0])\n",
    "        return\n",
    "        print('breaking')\n",
    "        break\n",
    "        \n",
    "        "
   ]
  },
  {
   "cell_type": "code",
   "execution_count": null,
   "id": "f7e93f39-a3b0-4124-a963-b871361a2c08",
   "metadata": {},
   "outputs": [],
   "source": []
  },
  {
   "cell_type": "code",
   "execution_count": null,
   "id": "5a727434-b81e-4e3a-8ccb-a895710d0b2e",
   "metadata": {},
   "outputs": [],
   "source": []
  },
  {
   "cell_type": "code",
   "execution_count": null,
   "id": "de229af0-2042-40de-83fd-d3c84bea719b",
   "metadata": {},
   "outputs": [],
   "source": []
  },
  {
   "cell_type": "code",
   "execution_count": 185,
   "id": "f0c783e6-d2da-448c-905c-1c0854e5133a",
   "metadata": {},
   "outputs": [
    {
     "data": {
      "text/plain": [
       "array([1759., 1759., 1759., 1759., 1759., 1759., 1759.], dtype=float32)"
      ]
     },
     "execution_count": 185,
     "metadata": {},
     "output_type": "execute_result"
    }
   ],
   "source": [
    "train mae for day 0: 9.840150955581118\n",
    "validate mae for day 0: 9.792210488958693\n",
    "test mae for day 0: 9.854986715908877"
   ]
  },
  {
   "cell_type": "code",
   "execution_count": null,
   "id": "8f93eb69-7db1-45d9-889f-9d8bed726c24",
   "metadata": {},
   "outputs": [],
   "source": []
  },
  {
   "cell_type": "code",
   "execution_count": 184,
   "id": "0bb2aea5-59be-4123-997a-e0c38fece99e",
   "metadata": {},
   "outputs": [
    {
     "data": {
      "text/plain": [
       "array([1759., 1848., 1848., 1873., 1873., 1873., 1972.], dtype=float32)"
      ]
     },
     "execution_count": 184,
     "metadata": {},
     "output_type": "execute_result"
    }
   ],
   "source": [
    "y_[0]"
   ]
  },
  {
   "cell_type": "code",
   "execution_count": 179,
   "id": "089e8227-5170-4beb-a967-8800ab550054",
   "metadata": {},
   "outputs": [
    {
     "data": {
      "text/plain": [
       "array([[1759., 1759., 1759., ..., 1759., 1759., 1759.],\n",
       "       [1131., 1131., 1131., ..., 1131., 1131., 1131.],\n",
       "       [1733., 1733., 1733., ..., 1733., 1733., 1733.],\n",
       "       ...,\n",
       "       [ 961.,  961.,  961., ...,  961.,  961.,  961.],\n",
       "       [ 515.,  515.,  515., ...,  515.,  515.,  515.],\n",
       "       [1282., 1282., 1282., ..., 1282., 1282., 1282.]], dtype=float32)"
      ]
     },
     "execution_count": 179,
     "metadata": {},
     "output_type": "execute_result"
    }
   ],
   "source": [
    "x_"
   ]
  },
  {
   "cell_type": "code",
   "execution_count": null,
   "id": "bf6c49c7-081b-4e1c-b9dd-0a7fa070f4b0",
   "metadata": {},
   "outputs": [],
   "source": []
  },
  {
   "cell_type": "code",
   "execution_count": null,
   "id": "1836ed22-38a9-4f98-b588-e0cff8f1ab2e",
   "metadata": {},
   "outputs": [],
   "source": []
  },
  {
   "cell_type": "code",
   "execution_count": null,
   "id": "d9db3bdf-16ef-4158-87a3-49cd22c1ca62",
   "metadata": {},
   "outputs": [],
   "source": []
  },
  {
   "cell_type": "code",
   "execution_count": null,
   "id": "746bbb1c-e477-4833-a395-ecdb3796e50e",
   "metadata": {},
   "outputs": [],
   "source": []
  },
  {
   "cell_type": "code",
   "execution_count": 112,
   "id": "8e3d5d9a-d14b-460f-9b04-97679b3e3646",
   "metadata": {},
   "outputs": [
    {
     "data": {
      "text/plain": [
       "6.5670003707823525"
      ]
     },
     "execution_count": 112,
     "metadata": {},
     "output_type": "execute_result"
    }
   ],
   "source": [
    "x = x_[0]\n",
    "z = np.arange(x.shape[0]).reshape(-1,1)\n",
    "y = y_[0]\n",
    "# z = np.expand_dims(z,1)\n",
    "lr = LinearRegression()\n",
    "lr.fit(z,x)\n",
    "np.abs(y - lr.predict(np.array([31]).reshape(-1,1))[0][0])"
   ]
  },
  {
   "cell_type": "code",
   "execution_count": 104,
   "id": "0dcbcf3b-0c69-4e46-bd81-af49502ccb78",
   "metadata": {},
   "outputs": [
    {
     "data": {
      "text/plain": [
       "array([[ 0],\n",
       "       [ 1],\n",
       "       [ 2],\n",
       "       [ 3],\n",
       "       [ 4],\n",
       "       [ 5],\n",
       "       [ 6],\n",
       "       [ 7],\n",
       "       [ 8],\n",
       "       [ 9],\n",
       "       [10],\n",
       "       [11],\n",
       "       [12],\n",
       "       [13],\n",
       "       [14],\n",
       "       [15],\n",
       "       [16],\n",
       "       [17],\n",
       "       [18],\n",
       "       [19],\n",
       "       [20],\n",
       "       [21],\n",
       "       [22],\n",
       "       [23],\n",
       "       [24],\n",
       "       [25],\n",
       "       [26],\n",
       "       [27],\n",
       "       [28],\n",
       "       [29]])"
      ]
     },
     "execution_count": 104,
     "metadata": {},
     "output_type": "execute_result"
    }
   ],
   "source": [
    "z"
   ]
  },
  {
   "cell_type": "code",
   "execution_count": 91,
   "id": "1afcd49f-e9ab-4b73-b850-6123189ab3af",
   "metadata": {},
   "outputs": [
    {
     "name": "stdout",
     "output_type": "stream",
     "text": [
      "(30, 1)\n"
     ]
    },
    {
     "data": {
      "text/plain": [
       "array([[  0., 488.],\n",
       "       [  1., 491.],\n",
       "       [  2., 492.],\n",
       "       [  3., 498.],\n",
       "       [  4., 500.],\n",
       "       [  5., 515.],\n",
       "       [  6., 530.],\n",
       "       [  7., 530.],\n",
       "       [  8., 531.],\n",
       "       [  9., 532.],\n",
       "       [ 10., 538.],\n",
       "       [ 11., 548.],\n",
       "       [ 12., 553.],\n",
       "       [ 13., 569.],\n",
       "       [ 14., 578.],\n",
       "       [ 15., 579.],\n",
       "       [ 16., 579.],\n",
       "       [ 17., 582.],\n",
       "       [ 18., 591.],\n",
       "       [ 19., 595.],\n",
       "       [ 20., 606.],\n",
       "       [ 21., 633.],\n",
       "       [ 22., 638.],\n",
       "       [ 23., 640.],\n",
       "       [ 24., 651.],\n",
       "       [ 25., 662.],\n",
       "       [ 26., 672.],\n",
       "       [ 27., 687.],\n",
       "       [ 28., 687.],\n",
       "       [ 29., 692.]])"
      ]
     },
     "execution_count": 91,
     "metadata": {},
     "output_type": "execute_result"
    }
   ],
   "source": [
    "z = np.arange(x.shape[0])\n",
    "z = np.expand_dims(z,1)\n",
    "print(z.shape)\n",
    "x = np.concatenate((z, x), axis=1)"
   ]
  },
  {
   "cell_type": "code",
   "execution_count": 95,
   "id": "e37e0269-8843-48fa-a596-a1ca10c1255a",
   "metadata": {},
   "outputs": [
    {
     "data": {
      "text/plain": [
       "array([16.])"
      ]
     },
     "execution_count": 95,
     "metadata": {},
     "output_type": "execute_result"
    }
   ],
   "source": [
    "X = np.array([[1, 1], [1, 2], [2, 2], [2, 3]])\n",
    "# y = 1 * x_0 + 2 * x_1 + 3\n",
    "y = np.dot(X, np.array([1, 2])) + 3\n",
    "reg = LinearRegression().fit(X, y)\n",
    "reg.score(X, y)\n",
    "\n",
    "reg.coef_\n",
    "\n",
    "reg.intercept_\n",
    "\n",
    "reg.predict(np.array([[3, 5]]))"
   ]
  },
  {
   "cell_type": "code",
   "execution_count": 97,
   "id": "62a349e9-2790-47db-9710-31dda7ee842b",
   "metadata": {},
   "outputs": [
    {
     "data": {
      "text/plain": [
       "(4,)"
      ]
     },
     "execution_count": 97,
     "metadata": {},
     "output_type": "execute_result"
    }
   ],
   "source": [
    "y.shape"
   ]
  },
  {
   "cell_type": "code",
   "execution_count": null,
   "id": "deedebd9-500e-48b8-b5e4-5fbaf2e4689d",
   "metadata": {},
   "outputs": [],
   "source": []
  }
 ],
 "metadata": {
  "kernelspec": {
   "display_name": "Python 3 (ipykernel)",
   "language": "python",
   "name": "python3"
  },
  "language_info": {
   "codemirror_mode": {
    "name": "ipython",
    "version": 3
   },
   "file_extension": ".py",
   "mimetype": "text/x-python",
   "name": "python",
   "nbconvert_exporter": "python",
   "pygments_lexer": "ipython3",
   "version": "3.9.10"
  }
 },
 "nbformat": 4,
 "nbformat_minor": 5
}
