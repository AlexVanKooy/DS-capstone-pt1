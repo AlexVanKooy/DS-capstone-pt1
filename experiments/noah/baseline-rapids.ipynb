{
 "cells": [
  {
   "cell_type": "markdown",
   "id": "e871bf85-e9dc-4b4a-9fd1-669a8a82fd0b",
   "metadata": {},
   "source": [
    "# Baseline analysis for predicting next day's Covid-19 cases from prior 30"
   ]
  },
  {
   "cell_type": "code",
   "execution_count": 1,
   "id": "0960dd8c-3d10-45a1-b695-bf551f93382b",
   "metadata": {},
   "outputs": [
    {
     "name": "stderr",
     "output_type": "stream",
     "text": [
      "/home/noah/miniconda3/envs/rapids-22.02/lib/python3.9/site-packages/cupy/_environment.py:434: UserWarning: \n",
      "--------------------------------------------------------------------------------\n",
      "\n",
      "  CuPy may not function correctly because multiple CuPy packages are installed\n",
      "  in your environment:\n",
      "\n",
      "    cupy, cupy-cuda115\n",
      "\n",
      "  Follow these steps to resolve this issue:\n",
      "\n",
      "    1. For all packages listed above, run the following command to remove all\n",
      "       existing CuPy installations:\n",
      "\n",
      "         $ pip uninstall <package_name>\n",
      "\n",
      "      If you previously installed CuPy via conda, also run the following:\n",
      "\n",
      "         $ conda uninstall cupy\n",
      "\n",
      "    2. Install the appropriate CuPy package.\n",
      "       Refer to the Installation Guide for detailed instructions.\n",
      "\n",
      "         https://docs.cupy.dev/en/stable/install.html\n",
      "\n",
      "--------------------------------------------------------------------------------\n",
      "\n",
      "  warnings.warn(f'''\n"
     ]
    }
   ],
   "source": [
    "import os\n",
    "import importlib\n",
    "\n",
    "import cuml\n",
    "import pandas as pd\n",
    "import numpy as np\n",
    "import tensorflow as tf\n",
    "from sklearn.linear_model import LinearRegression\n",
    "import matplotlib.pyplot as plt\n",
    "\n",
    "\n",
    "import dsci592.model as model"
   ]
  },
  {
   "cell_type": "code",
   "execution_count": 3,
   "id": "47ac5c6d-c753-491e-935c-7a8e24d9da9e",
   "metadata": {},
   "outputs": [
    {
     "data": {
      "text/plain": [
       "<module 'dsci592.model' from '/home/noah/miniconda3/envs/rapids-22.02/lib/python3.9/site-packages/dsci592/model.py'>"
      ]
     },
     "execution_count": 3,
     "metadata": {},
     "output_type": "execute_result"
    }
   ],
   "source": [
    "importlib.reload(model)"
   ]
  },
  {
   "cell_type": "code",
   "execution_count": 4,
   "id": "64db4aa8-5ff6-4965-828f-0c8d8ec952ca",
   "metadata": {},
   "outputs": [],
   "source": [
    "pd.set_option(\"display.max_columns\", None)\n",
    "os.environ['TF_GPU_ALLOCATOR'] = 'cuda_malloc_async'"
   ]
  },
  {
   "cell_type": "code",
   "execution_count": 4,
   "id": "77ac1e6f-63fd-4e06-8ce6-8e1441ec8128",
   "metadata": {},
   "outputs": [
    {
     "name": "stdout",
     "output_type": "stream",
     "text": [
      "Python 3.9.10\n"
     ]
    }
   ],
   "source": [
    "!python --version"
   ]
  },
  {
   "cell_type": "code",
   "execution_count": 5,
   "id": "222a4656-3400-4784-83bd-de0a7ff861a9",
   "metadata": {},
   "outputs": [
    {
     "name": "stderr",
     "output_type": "stream",
     "text": [
      "2022-02-21 08:25:46.557591: I tensorflow/stream_executor/cuda/cuda_gpu_executor.cc:936] successful NUMA node read from SysFS had negative value (-1), but there must be at least one NUMA node, so returning NUMA node zero\n",
      "2022-02-21 08:25:46.557870: I tensorflow/stream_executor/cuda/cuda_gpu_executor.cc:936] successful NUMA node read from SysFS had negative value (-1), but there must be at least one NUMA node, so returning NUMA node zero\n",
      "2022-02-21 08:25:46.558311: I tensorflow/stream_executor/cuda/cuda_gpu_executor.cc:936] successful NUMA node read from SysFS had negative value (-1), but there must be at least one NUMA node, so returning NUMA node zero\n",
      "2022-02-21 08:25:46.558517: I tensorflow/stream_executor/cuda/cuda_gpu_executor.cc:936] successful NUMA node read from SysFS had negative value (-1), but there must be at least one NUMA node, so returning NUMA node zero\n",
      "2022-02-21 08:25:46.558716: I tensorflow/stream_executor/cuda/cuda_gpu_executor.cc:936] successful NUMA node read from SysFS had negative value (-1), but there must be at least one NUMA node, so returning NUMA node zero\n",
      "2022-02-21 08:25:46.558918: I tensorflow/stream_executor/cuda/cuda_gpu_executor.cc:936] successful NUMA node read from SysFS had negative value (-1), but there must be at least one NUMA node, so returning NUMA node zero\n",
      "2022-02-21 08:25:46.559325: I tensorflow/core/platform/cpu_feature_guard.cc:151] This TensorFlow binary is optimized with oneAPI Deep Neural Network Library (oneDNN) to use the following CPU instructions in performance-critical operations:  AVX2 FMA\n",
      "To enable them in other operations, rebuild TensorFlow with the appropriate compiler flags.\n",
      "2022-02-21 08:25:46.630165: I tensorflow/stream_executor/cuda/cuda_gpu_executor.cc:936] successful NUMA node read from SysFS had negative value (-1), but there must be at least one NUMA node, so returning NUMA node zero\n",
      "2022-02-21 08:25:46.630549: I tensorflow/stream_executor/cuda/cuda_gpu_executor.cc:936] successful NUMA node read from SysFS had negative value (-1), but there must be at least one NUMA node, so returning NUMA node zero\n",
      "2022-02-21 08:25:46.630767: I tensorflow/stream_executor/cuda/cuda_gpu_executor.cc:936] successful NUMA node read from SysFS had negative value (-1), but there must be at least one NUMA node, so returning NUMA node zero\n",
      "2022-02-21 08:25:46.630963: I tensorflow/stream_executor/cuda/cuda_gpu_executor.cc:936] successful NUMA node read from SysFS had negative value (-1), but there must be at least one NUMA node, so returning NUMA node zero\n",
      "2022-02-21 08:25:46.631169: I tensorflow/stream_executor/cuda/cuda_gpu_executor.cc:936] successful NUMA node read from SysFS had negative value (-1), but there must be at least one NUMA node, so returning NUMA node zero\n",
      "2022-02-21 08:25:46.631369: I tensorflow/stream_executor/cuda/cuda_gpu_executor.cc:936] successful NUMA node read from SysFS had negative value (-1), but there must be at least one NUMA node, so returning NUMA node zero\n",
      "2022-02-21 08:25:49.012233: I tensorflow/stream_executor/cuda/cuda_gpu_executor.cc:936] successful NUMA node read from SysFS had negative value (-1), but there must be at least one NUMA node, so returning NUMA node zero\n",
      "2022-02-21 08:25:49.012548: I tensorflow/stream_executor/cuda/cuda_gpu_executor.cc:936] successful NUMA node read from SysFS had negative value (-1), but there must be at least one NUMA node, so returning NUMA node zero\n",
      "2022-02-21 08:25:49.012756: I tensorflow/stream_executor/cuda/cuda_gpu_executor.cc:936] successful NUMA node read from SysFS had negative value (-1), but there must be at least one NUMA node, so returning NUMA node zero\n",
      "2022-02-21 08:25:49.012953: I tensorflow/stream_executor/cuda/cuda_gpu_executor.cc:936] successful NUMA node read from SysFS had negative value (-1), but there must be at least one NUMA node, so returning NUMA node zero\n",
      "2022-02-21 08:25:49.013169: I tensorflow/stream_executor/cuda/cuda_gpu_executor.cc:936] successful NUMA node read from SysFS had negative value (-1), but there must be at least one NUMA node, so returning NUMA node zero\n",
      "2022-02-21 08:25:49.013323: I tensorflow/core/common_runtime/gpu/gpu_process_state.cc:214] Using CUDA malloc Async allocator for GPU: 0\n",
      "2022-02-21 08:25:49.013417: I tensorflow/core/common_runtime/gpu/gpu_device.cc:1525] Created device /job:localhost/replica:0/task:0/device:GPU:0 with 19 MB memory:  -> device: 0, name: NVIDIA GeForce GTX 1660 Ti, pci bus id: 0000:03:00.0, compute capability: 7.5\n",
      "2022-02-21 08:25:49.013621: I tensorflow/stream_executor/cuda/cuda_gpu_executor.cc:936] successful NUMA node read from SysFS had negative value (-1), but there must be at least one NUMA node, so returning NUMA node zero\n",
      "2022-02-21 08:25:49.013771: I tensorflow/core/common_runtime/gpu/gpu_process_state.cc:214] Using CUDA malloc Async allocator for GPU: 1\n",
      "2022-02-21 08:25:49.013799: I tensorflow/core/common_runtime/gpu/gpu_device.cc:1525] Created device /job:localhost/replica:0/task:0/device:GPU:1 with 2692 MB memory:  -> device: 1, name: NVIDIA GeForce GTX 1660 Ti, pci bus id: 0000:04:00.0, compute capability: 7.5\n"
     ]
    },
    {
     "ename": "AttributeError",
     "evalue": "Can't get attribute '_unpickle_block' on <module 'pandas._libs.internals' from '/home/noah/miniconda3/envs/rapids-22.02/lib/python3.9/site-packages/pandas/_libs/internals.cpython-39-x86_64-linux-gnu.so'>",
     "output_type": "error",
     "traceback": [
      "\u001b[0;31m---------------------------------------------------------------------------\u001b[0m",
      "\u001b[0;31mAttributeError\u001b[0m                            Traceback (most recent call last)",
      "Input \u001b[0;32mIn [5]\u001b[0m, in \u001b[0;36m<module>\u001b[0;34m\u001b[0m\n\u001b[1;32m      1\u001b[0m golden_dataset_file_name \u001b[38;5;241m=\u001b[39m os\u001b[38;5;241m.\u001b[39mpath\u001b[38;5;241m.\u001b[39mjoin(\u001b[38;5;124m'\u001b[39m\u001b[38;5;124m/\u001b[39m\u001b[38;5;124m'\u001b[39m, \u001b[38;5;124m'\u001b[39m\u001b[38;5;124mdata\u001b[39m\u001b[38;5;124m'\u001b[39m, \u001b[38;5;124m'\u001b[39m\u001b[38;5;124mprojects\u001b[39m\u001b[38;5;124m'\u001b[39m, \u001b[38;5;124m'\u001b[39m\u001b[38;5;124mdrexel\u001b[39m\u001b[38;5;124m'\u001b[39m, \u001b[38;5;124m'\u001b[39m\u001b[38;5;124mdsci592\u001b[39m\u001b[38;5;124m'\u001b[39m, \u001b[38;5;124m'\u001b[39m\u001b[38;5;124mfeeFiFoFum.pkl\u001b[39m\u001b[38;5;124m'\u001b[39m)\n\u001b[1;32m      2\u001b[0m \u001b[38;5;28;01mwith\u001b[39;00m tf\u001b[38;5;241m.\u001b[39mdevice(\u001b[38;5;124m'\u001b[39m\u001b[38;5;124m/gpu:0\u001b[39m\u001b[38;5;124m'\u001b[39m):  \u001b[38;5;66;03m# using other GPU for another task\u001b[39;00m\n\u001b[0;32m----> 3\u001b[0m     df \u001b[38;5;241m=\u001b[39m \u001b[43mmodel\u001b[49m\u001b[38;5;241;43m.\u001b[39;49m\u001b[43mload_dataset\u001b[49m\u001b[43m(\u001b[49m\u001b[43mgolden_dataset_file_name\u001b[49m\u001b[43m)\u001b[49m\n",
      "File \u001b[0;32m~/miniconda3/envs/rapids-22.02/lib/python3.9/site-packages/dsci592/model.py:15\u001b[0m, in \u001b[0;36mload_dataset\u001b[0;34m(filepath)\u001b[0m\n\u001b[1;32m     14\u001b[0m \u001b[38;5;28;01mdef\u001b[39;00m \u001b[38;5;21mload_dataset\u001b[39m(filepath: \u001b[38;5;28mstr\u001b[39m) \u001b[38;5;241m-\u001b[39m\u001b[38;5;241m>\u001b[39m pd\u001b[38;5;241m.\u001b[39mDataFrame:\n\u001b[0;32m---> 15\u001b[0m     df \u001b[38;5;241m=\u001b[39m \u001b[43mpd\u001b[49m\u001b[38;5;241;43m.\u001b[39;49m\u001b[43mread_pickle\u001b[49m\u001b[43m(\u001b[49m\u001b[43mfilepath\u001b[49m\u001b[43m)\u001b[49m\n\u001b[1;32m     17\u001b[0m     \u001b[38;5;66;03m# drop numeric and unnecessary columns\u001b[39;00m\n\u001b[1;32m     18\u001b[0m     cols \u001b[38;5;241m=\u001b[39m [\u001b[38;5;124m'\u001b[39m\u001b[38;5;124mNYT_ConfirmedCases.data\u001b[39m\u001b[38;5;124m'\u001b[39m, \u001b[38;5;124m'\u001b[39m\u001b[38;5;124mNYT_ConfirmedDeaths.data\u001b[39m\u001b[38;5;124m'\u001b[39m, \u001b[38;5;124m'\u001b[39m\u001b[38;5;124mNYT_ConfirmedDeaths.missing\u001b[39m\u001b[38;5;124m'\u001b[39m,\n\u001b[1;32m     19\u001b[0m             \u001b[38;5;124m'\u001b[39m\u001b[38;5;124mcounty\u001b[39m\u001b[38;5;124m'\u001b[39m, \u001b[38;5;124m'\u001b[39m\u001b[38;5;124mLND110210\u001b[39m\u001b[38;5;124m'\u001b[39m, \u001b[38;5;124m'\u001b[39m\u001b[38;5;124mcountyStateName\u001b[39m\u001b[38;5;124m'\u001b[39m, \u001b[38;5;124m'\u001b[39m\u001b[38;5;124mstateFip\u001b[39m\u001b[38;5;124m'\u001b[39m, \u001b[38;5;124m'\u001b[39m\u001b[38;5;124mcountyFip\u001b[39m\u001b[38;5;124m'\u001b[39m]\n",
      "File \u001b[0;32m~/miniconda3/envs/rapids-22.02/lib/python3.9/site-packages/pandas/io/pickle.py:222\u001b[0m, in \u001b[0;36mread_pickle\u001b[0;34m(filepath_or_buffer, compression, storage_options)\u001b[0m\n\u001b[1;32m    217\u001b[0m             \u001b[38;5;28;01mreturn\u001b[39;00m pickle\u001b[38;5;241m.\u001b[39mload(handles\u001b[38;5;241m.\u001b[39mhandle)  \u001b[38;5;66;03m# type: ignore[arg-type]\u001b[39;00m\n\u001b[1;32m    218\u001b[0m     \u001b[38;5;28;01mexcept\u001b[39;00m excs_to_catch:\n\u001b[1;32m    219\u001b[0m         \u001b[38;5;66;03m# e.g.\u001b[39;00m\n\u001b[1;32m    220\u001b[0m         \u001b[38;5;66;03m#  \"No module named 'pandas.core.sparse.series'\"\u001b[39;00m\n\u001b[1;32m    221\u001b[0m         \u001b[38;5;66;03m#  \"Can't get attribute '__nat_unpickle' on <module 'pandas._libs.tslib\"\u001b[39;00m\n\u001b[0;32m--> 222\u001b[0m         \u001b[38;5;28;01mreturn\u001b[39;00m \u001b[43mpc\u001b[49m\u001b[38;5;241;43m.\u001b[39;49m\u001b[43mload\u001b[49m\u001b[43m(\u001b[49m\u001b[43mhandles\u001b[49m\u001b[38;5;241;43m.\u001b[39;49m\u001b[43mhandle\u001b[49m\u001b[43m,\u001b[49m\u001b[43m \u001b[49m\u001b[43mencoding\u001b[49m\u001b[38;5;241;43m=\u001b[39;49m\u001b[38;5;28;43;01mNone\u001b[39;49;00m\u001b[43m)\u001b[49m\n\u001b[1;32m    223\u001b[0m \u001b[38;5;28;01mexcept\u001b[39;00m \u001b[38;5;167;01mUnicodeDecodeError\u001b[39;00m:\n\u001b[1;32m    224\u001b[0m     \u001b[38;5;66;03m# e.g. can occur for files written in py27; see GH#28645 and GH#31988\u001b[39;00m\n\u001b[1;32m    225\u001b[0m     \u001b[38;5;28;01mreturn\u001b[39;00m pc\u001b[38;5;241m.\u001b[39mload(handles\u001b[38;5;241m.\u001b[39mhandle, encoding\u001b[38;5;241m=\u001b[39m\u001b[38;5;124m\"\u001b[39m\u001b[38;5;124mlatin-1\u001b[39m\u001b[38;5;124m\"\u001b[39m)\n",
      "File \u001b[0;32m~/miniconda3/envs/rapids-22.02/lib/python3.9/site-packages/pandas/compat/pickle_compat.py:274\u001b[0m, in \u001b[0;36mload\u001b[0;34m(fh, encoding, is_verbose)\u001b[0m\n\u001b[1;32m    271\u001b[0m         up \u001b[38;5;241m=\u001b[39m Unpickler(fh)\n\u001b[1;32m    272\u001b[0m     up\u001b[38;5;241m.\u001b[39mis_verbose \u001b[38;5;241m=\u001b[39m is_verbose\n\u001b[0;32m--> 274\u001b[0m     \u001b[38;5;28;01mreturn\u001b[39;00m \u001b[43mup\u001b[49m\u001b[38;5;241;43m.\u001b[39;49m\u001b[43mload\u001b[49m\u001b[43m(\u001b[49m\u001b[43m)\u001b[49m\n\u001b[1;32m    275\u001b[0m \u001b[38;5;28;01mexcept\u001b[39;00m (\u001b[38;5;167;01mValueError\u001b[39;00m, \u001b[38;5;167;01mTypeError\u001b[39;00m):\n\u001b[1;32m    276\u001b[0m     \u001b[38;5;28;01mraise\u001b[39;00m\n",
      "File \u001b[0;32m~/miniconda3/envs/rapids-22.02/lib/python3.9/pickle.py:1212\u001b[0m, in \u001b[0;36m_Unpickler.load\u001b[0;34m(self)\u001b[0m\n\u001b[1;32m   1210\u001b[0m             \u001b[38;5;28;01mraise\u001b[39;00m \u001b[38;5;167;01mEOFError\u001b[39;00m\n\u001b[1;32m   1211\u001b[0m         \u001b[38;5;28;01massert\u001b[39;00m \u001b[38;5;28misinstance\u001b[39m(key, bytes_types)\n\u001b[0;32m-> 1212\u001b[0m         \u001b[43mdispatch\u001b[49m\u001b[43m[\u001b[49m\u001b[43mkey\u001b[49m\u001b[43m[\u001b[49m\u001b[38;5;241;43m0\u001b[39;49m\u001b[43m]\u001b[49m\u001b[43m]\u001b[49m\u001b[43m(\u001b[49m\u001b[38;5;28;43mself\u001b[39;49m\u001b[43m)\u001b[49m\n\u001b[1;32m   1213\u001b[0m \u001b[38;5;28;01mexcept\u001b[39;00m _Stop \u001b[38;5;28;01mas\u001b[39;00m stopinst:\n\u001b[1;32m   1214\u001b[0m     \u001b[38;5;28;01mreturn\u001b[39;00m stopinst\u001b[38;5;241m.\u001b[39mvalue\n",
      "File \u001b[0;32m~/miniconda3/envs/rapids-22.02/lib/python3.9/pickle.py:1537\u001b[0m, in \u001b[0;36m_Unpickler.load_stack_global\u001b[0;34m(self)\u001b[0m\n\u001b[1;32m   1535\u001b[0m \u001b[38;5;28;01mif\u001b[39;00m \u001b[38;5;28mtype\u001b[39m(name) \u001b[38;5;129;01mis\u001b[39;00m \u001b[38;5;129;01mnot\u001b[39;00m \u001b[38;5;28mstr\u001b[39m \u001b[38;5;129;01mor\u001b[39;00m \u001b[38;5;28mtype\u001b[39m(module) \u001b[38;5;129;01mis\u001b[39;00m \u001b[38;5;129;01mnot\u001b[39;00m \u001b[38;5;28mstr\u001b[39m:\n\u001b[1;32m   1536\u001b[0m     \u001b[38;5;28;01mraise\u001b[39;00m UnpicklingError(\u001b[38;5;124m\"\u001b[39m\u001b[38;5;124mSTACK_GLOBAL requires str\u001b[39m\u001b[38;5;124m\"\u001b[39m)\n\u001b[0;32m-> 1537\u001b[0m \u001b[38;5;28mself\u001b[39m\u001b[38;5;241m.\u001b[39mappend(\u001b[38;5;28;43mself\u001b[39;49m\u001b[38;5;241;43m.\u001b[39;49m\u001b[43mfind_class\u001b[49m\u001b[43m(\u001b[49m\u001b[43mmodule\u001b[49m\u001b[43m,\u001b[49m\u001b[43m \u001b[49m\u001b[43mname\u001b[49m\u001b[43m)\u001b[49m)\n",
      "File \u001b[0;32m~/miniconda3/envs/rapids-22.02/lib/python3.9/site-packages/pandas/compat/pickle_compat.py:206\u001b[0m, in \u001b[0;36mUnpickler.find_class\u001b[0;34m(self, module, name)\u001b[0m\n\u001b[1;32m    204\u001b[0m key \u001b[38;5;241m=\u001b[39m (module, name)\n\u001b[1;32m    205\u001b[0m module, name \u001b[38;5;241m=\u001b[39m _class_locations_map\u001b[38;5;241m.\u001b[39mget(key, key)\n\u001b[0;32m--> 206\u001b[0m \u001b[38;5;28;01mreturn\u001b[39;00m \u001b[38;5;28;43msuper\u001b[39;49m\u001b[43m(\u001b[49m\u001b[43m)\u001b[49m\u001b[38;5;241;43m.\u001b[39;49m\u001b[43mfind_class\u001b[49m\u001b[43m(\u001b[49m\u001b[43mmodule\u001b[49m\u001b[43m,\u001b[49m\u001b[43m \u001b[49m\u001b[43mname\u001b[49m\u001b[43m)\u001b[49m\n",
      "File \u001b[0;32m~/miniconda3/envs/rapids-22.02/lib/python3.9/pickle.py:1581\u001b[0m, in \u001b[0;36m_Unpickler.find_class\u001b[0;34m(self, module, name)\u001b[0m\n\u001b[1;32m   1579\u001b[0m \u001b[38;5;28m__import__\u001b[39m(module, level\u001b[38;5;241m=\u001b[39m\u001b[38;5;241m0\u001b[39m)\n\u001b[1;32m   1580\u001b[0m \u001b[38;5;28;01mif\u001b[39;00m \u001b[38;5;28mself\u001b[39m\u001b[38;5;241m.\u001b[39mproto \u001b[38;5;241m>\u001b[39m\u001b[38;5;241m=\u001b[39m \u001b[38;5;241m4\u001b[39m:\n\u001b[0;32m-> 1581\u001b[0m     \u001b[38;5;28;01mreturn\u001b[39;00m \u001b[43m_getattribute\u001b[49m\u001b[43m(\u001b[49m\u001b[43msys\u001b[49m\u001b[38;5;241;43m.\u001b[39;49m\u001b[43mmodules\u001b[49m\u001b[43m[\u001b[49m\u001b[43mmodule\u001b[49m\u001b[43m]\u001b[49m\u001b[43m,\u001b[49m\u001b[43m \u001b[49m\u001b[43mname\u001b[49m\u001b[43m)\u001b[49m[\u001b[38;5;241m0\u001b[39m]\n\u001b[1;32m   1582\u001b[0m \u001b[38;5;28;01melse\u001b[39;00m:\n\u001b[1;32m   1583\u001b[0m     \u001b[38;5;28;01mreturn\u001b[39;00m \u001b[38;5;28mgetattr\u001b[39m(sys\u001b[38;5;241m.\u001b[39mmodules[module], name)\n",
      "File \u001b[0;32m~/miniconda3/envs/rapids-22.02/lib/python3.9/pickle.py:331\u001b[0m, in \u001b[0;36m_getattribute\u001b[0;34m(obj, name)\u001b[0m\n\u001b[1;32m    329\u001b[0m         obj \u001b[38;5;241m=\u001b[39m \u001b[38;5;28mgetattr\u001b[39m(obj, subpath)\n\u001b[1;32m    330\u001b[0m     \u001b[38;5;28;01mexcept\u001b[39;00m \u001b[38;5;167;01mAttributeError\u001b[39;00m:\n\u001b[0;32m--> 331\u001b[0m         \u001b[38;5;28;01mraise\u001b[39;00m \u001b[38;5;167;01mAttributeError\u001b[39;00m(\u001b[38;5;124m\"\u001b[39m\u001b[38;5;124mCan\u001b[39m\u001b[38;5;124m'\u001b[39m\u001b[38;5;124mt get attribute \u001b[39m\u001b[38;5;132;01m{!r}\u001b[39;00m\u001b[38;5;124m on \u001b[39m\u001b[38;5;132;01m{!r}\u001b[39;00m\u001b[38;5;124m\"\u001b[39m\n\u001b[1;32m    332\u001b[0m                              \u001b[38;5;241m.\u001b[39mformat(name, obj)) \u001b[38;5;28;01mfrom\u001b[39;00m \u001b[38;5;28mNone\u001b[39m\n\u001b[1;32m    333\u001b[0m \u001b[38;5;28;01mreturn\u001b[39;00m obj, parent\n",
      "\u001b[0;31mAttributeError\u001b[0m: Can't get attribute '_unpickle_block' on <module 'pandas._libs.internals' from '/home/noah/miniconda3/envs/rapids-22.02/lib/python3.9/site-packages/pandas/_libs/internals.cpython-39-x86_64-linux-gnu.so'>"
     ]
    }
   ],
   "source": [
    "golden_dataset_file_name = os.path.join('/', 'data', 'projects', 'drexel', 'dsci592', 'feeFiFoFum.pkl')\n",
    "with tf.device('/gpu:0'):  # using other GPU for another task\n",
    "    df = model.load_dataset(golden_dataset_file_name)\n",
    "\n",
    "# train_ds, val_ds, test_ds = model.get_train_test_eval_ds()\n"
   ]
  },
  {
   "cell_type": "code",
   "execution_count": 8,
   "id": "aa6f8f90-b4f5-4941-a835-981877099d14",
   "metadata": {},
   "outputs": [],
   "source": [
    "def get_new_loop():\n",
    "    train_ds, val_ds, test_ds = model.get_train_test_eval_ds()\n",
    "    return ('train', train_ds), ('validate', val_ds), ('test', test_ds)\n",
    "    "
   ]
  },
  {
   "cell_type": "markdown",
   "id": "2da1802b-8326-4fdd-a8bd-aa03609f5c7f",
   "metadata": {},
   "source": [
    "## Baseline 1: Guess zero every time"
   ]
  },
  {
   "cell_type": "code",
   "execution_count": 20,
   "id": "d21c5b76-501d-45d9-b0a4-480733186a09",
   "metadata": {},
   "outputs": [
    {
     "name": "stdout",
     "output_type": "stream",
     "text": [
      "train: 1738.2500355774011\n",
      "validate: 1754.9772079984493\n",
      "test: 1739.3318410911274\n"
     ]
    }
   ],
   "source": [
    "for name, ds in get_new_loop():\n",
    "    sum = count = 0\n",
    "    for _, y in ds:\n",
    "        y_ = y.numpy().flatten()\n",
    "        sum += y_.sum()\n",
    "        count += y_.shape[0]\n",
    "    print(f'{name}: {sum/count}')\n"
   ]
  },
  {
   "cell_type": "markdown",
   "id": "4221ba69-4c88-447c-8807-ffaee6b782b4",
   "metadata": {},
   "source": [
    "## Baseline 2: Guess the 30th date every time"
   ]
  },
  {
   "cell_type": "code",
   "execution_count": 51,
   "id": "8390155e-0e11-451c-a2d8-0203281ead8a",
   "metadata": {},
   "outputs": [
    {
     "name": "stdout",
     "output_type": "stream",
     "text": [
      "train: 9.785121290955985\n",
      "validate: 9.549475865976769\n",
      "test: 9.840210704599464\n"
     ]
    }
   ],
   "source": [
    "for name, ds in get_new_loop():\n",
    "    errors = count = 0\n",
    "    for x, y in ds:\n",
    "        y_ = y.numpy().flatten()        \n",
    "        x_ = x.numpy()[:,-1:,:1].flatten()\n",
    "        errors += np.sum(np.abs(y_ - x_))\n",
    "        count += y_.shape[0]\n",
    "    print(f'{name}: {errors/count}')\n"
   ]
  },
  {
   "cell_type": "markdown",
   "id": "43732162-6629-4680-8bbb-5815fe8bf019",
   "metadata": {},
   "source": [
    "## Baseline 3: Guess the mean of the 30 days every time"
   ]
  },
  {
   "cell_type": "code",
   "execution_count": 63,
   "id": "162025b6-a7e8-489c-a02d-15bd64f0be61",
   "metadata": {},
   "outputs": [
    {
     "name": "stdout",
     "output_type": "stream",
     "text": [
      "train: 121.31485035080716\n",
      "validate: 120.17304839525893\n",
      "test: 120.88257879796626\n"
     ]
    }
   ],
   "source": [
    "for name, ds in get_new_loop():\n",
    "    errors = count = 0\n",
    "    for x, y in ds:\n",
    "        y_ = y.numpy().flatten()        \n",
    "        x_ = x.numpy()[:,:,:1]\n",
    "        x_ = np.mean(x_, axis=1).flatten()\n",
    "        errors += np.sum(np.abs(y_ - x_))\n",
    "        count += y_.shape[0]\n",
    "    print(f'{name}: {errors/count}')\n"
   ]
  },
  {
   "cell_type": "markdown",
   "id": "8931e728-ed64-4668-ae89-f2c5111893aa",
   "metadata": {},
   "source": [
    "## Baseline 4: Linear regression"
   ]
  },
  {
   "cell_type": "code",
   "execution_count": 116,
   "id": "1b5d5fae-72d0-4521-90d5-ec0c58e08782",
   "metadata": {},
   "outputs": [
    {
     "name": "stdout",
     "output_type": "stream",
     "text": [
      "train: [[36.93661786]]\n",
      "validate: [[36.07154467]]\n",
      "test: [[36.6260068]]\n"
     ]
    }
   ],
   "source": [
    "for name, ds in get_new_loop():\n",
    "    errors = count = 0\n",
    "    lr = LinearRegression()\n",
    "    for x, y in ds:\n",
    "        y_ = y.numpy().flatten()        \n",
    "        x_ = x.numpy()[:,:,:1]\n",
    "        days = x_.shape[1]\n",
    "        z = np.arange(days).reshape(-1,1)\n",
    "        next_date = np.array([days + 1]).reshape(-1,1)\n",
    "        for i in range(x_.shape[0]):\n",
    "            lr.fit(z,x_[i])\n",
    "            errors += np.abs(y[i] - lr.predict(next_date)[0][0])\n",
    "            count += 1\n",
    "    print(f'{name}: {errors[0][0]/count}')\n"
   ]
  },
  {
   "cell_type": "code",
   "execution_count": 142,
   "id": "158dc738-1f32-49a3-892d-3c02e404bb86",
   "metadata": {},
   "outputs": [
    {
     "data": {
      "image/png": "[encoded data removed]",
      "text/plain": [
       "<Figure size 432x288 with 1 Axes>"
      ]
     },
     "metadata": {
      "needs_background": "light"
     },
     "output_type": "display_data"
    }
   ],
   "source": [
    "z = np.arange(days).reshape(-1,1)\n",
    "plt.scatter(z, x_[i], color=\"black\", label='Training')\n",
    "z_ = np.arange(days+1).reshape(-1,1)\n",
    "plt.plot(z_, lr.predict(z_), color=\"blue\", linewidth=1)\n",
    "plt.scatter(30, y_[i], marker='*', label='Actual')\n",
    "plt.scatter(30, lr.predict(z_)[-1], marker='+', label='Predicted')\n",
    "plt.ylabel('Covid-19 Cases')\n",
    "plt.xlabel('Days')\n",
    "plt.legend()\n",
    "# plt.xticks(())\n",
    "# plt.yticks(())\n",
    "plt.savefig('linear_regression_example.png')\n",
    "_ = plt.show()\n"
   ]
  },
  {
   "cell_type": "markdown",
   "id": "9e89b515-a451-462d-b9b5-ca6ce883d7fc",
   "metadata": {},
   "source": [
    "# Baseline analysis for predicting next seven day's Covid-19 cases from prior 30"
   ]
  },
  {
   "cell_type": "code",
   "execution_count": 5,
   "id": "31c475db-8992-4cfd-b980-b695e04ff23e",
   "metadata": {},
   "outputs": [],
   "source": [
    "# train_ds, val_ds, test_ds = model.get_train_test_eval_ds(train='./data/train7/x_*.npy', test='./data/test7/x_*.npy', eval_='./data/eval7/x_*.npy', days_to_predict=7)\n",
    "\n",
    "DAYS_TO_PREDICT=7\n",
    "\n",
    "def get_new_loop():\n",
    "    train_ds, val_ds, test_ds = model.get_train_test_eval_ds(train='./data/train7/x_*.npy', test='./data/test7/x_*.npy', eval_='./data/eval7/x_*.npy', days_to_predict=DAYS_TO_PREDICT)\n",
    "    return ('train', train_ds), ('validate', val_ds), ('test', test_ds)"
   ]
  },
  {
   "cell_type": "markdown",
   "id": "66beea64-1b23-406d-807e-a99d207a9bf0",
   "metadata": {},
   "source": [
    "## Baseline 1: Guess zero every time"
   ]
  },
  {
   "cell_type": "code",
   "execution_count": 190,
   "id": "3fbe621c-e1aa-4f24-80ba-27664ec30567",
   "metadata": {},
   "outputs": [
    {
     "name": "stdout",
     "output_type": "stream",
     "text": [
      "train mae for day 0: 1756.0914379124538\n",
      "validate mae for day 0: 1802.5589782118707\n",
      "test mae for day 0: 1719.388321305421\n"
     ]
    }
   ],
   "source": [
    "for name, ds in get_new_loop():\n",
    "    errors = np.zeros(DAYS_TO_PREDICT)\n",
    "    count = 0\n",
    "    for _, y in ds:\n",
    "        count += y_.shape[0]\n",
    "        y_ = y.numpy().squeeze()\n",
    "        x_  = np.ones(y_.shape)\n",
    "        errors += np.sum(np.abs(y_ - x_), axis=0)\n",
    "    for i in range(DAYS_TO_PREDICT):\n",
    "        print(f'{name} mae for day {i}: {errors[i]/count}')"
   ]
  },
  {
   "cell_type": "code",
   "execution_count": 188,
   "id": "7ef870f0-941a-4506-bb53-6f287e290db0",
   "metadata": {},
   "outputs": [
    {
     "name": "stdout",
     "output_type": "stream",
     "text": [
      "train mae for day 0: [1756.4777]\n",
      "validate mae for day 0: [1798.8082]\n",
      "test mae for day 0: [1720.9961]\n"
     ]
    }
   ],
   "source": [
    "# OLD VERSION -- SLOW!!!!\n",
    "for name, ds in get_new_loop():\n",
    "    sums = [0] * DAYS_TO_PREDICT\n",
    "    counts = [0] * DAYS_TO_PREDICT\n",
    "    for _, ys in ds:\n",
    "        for y_days in ys:\n",
    "            for i, y in enumerate(y_days):\n",
    "                sums[i] += y\n",
    "                counts[i] += 1\n",
    "    for i in range(DAYS_TO_PREDICT):\n",
    "        print(f'{name} mae for day {i}: {sums[i]/counts[i]}')\n"
   ]
  },
  {
   "cell_type": "markdown",
   "id": "407d390c-d5d5-40fe-a9ef-9089d2c5abca",
   "metadata": {},
   "source": [
    "## Baseline 2: Guess the 30th date every time"
   ]
  },
  {
   "cell_type": "code",
   "execution_count": 234,
   "id": "b73b40d8-0665-4a6a-bdc4-7bed6a7bd4e2",
   "metadata": {},
   "outputs": [
    {
     "name": "stdout",
     "output_type": "stream",
     "text": [
      "train mae for day 0: 8.429402354856396\n",
      "train mae for day 1: 16.990242066834252\n",
      "train mae for day 2: 25.797032729128528\n",
      "train mae for day 3: 34.780839760428364\n",
      "train mae for day 4: 43.895477709938085\n",
      "train mae for day 5: 53.218530382912476\n",
      "train mae for day 6: 62.822478938158575\n",
      "validate mae for day 0: 8.351147170865598\n",
      "validate mae for day 1: 16.78191860882172\n",
      "validate mae for day 2: 25.43629492315069\n",
      "validate mae for day 3: 34.28488045033583\n",
      "validate mae for day 4: 43.40373543147745\n",
      "validate mae for day 5: 52.70864842620314\n",
      "validate mae for day 6: 62.26579176876116\n",
      "test mae for day 0: 8.361327278551375\n",
      "test mae for day 1: 16.819735825592133\n",
      "test mae for day 2: 25.49928963087185\n",
      "test mae for day 3: 34.34123721052929\n",
      "test mae for day 4: 43.431795142356464\n",
      "test mae for day 5: 52.75118237832338\n",
      "test mae for day 6: 62.35643571818884\n"
     ]
    }
   ],
   "source": [
    "for name, ds in get_new_loop():\n",
    "    errors = np.zeros(DAYS_TO_PREDICT)\n",
    "    count = 0\n",
    "    for x, y in ds:\n",
    "        count += x_.shape[0]\n",
    "        y_ = y.numpy().squeeze(-1)\n",
    "        x_ = x.numpy()[:,-1:,:1]\n",
    "        x_ = x_.reshape(-1,1)\n",
    "        x_ = np.repeat(x_, DAYS_TO_PREDICT, axis=1)\n",
    "        errors += np.sum(np.abs(y_ - x_), axis=0)\n",
    "    for i in range(DAYS_TO_PREDICT):\n",
    "        print(f'{name} mae for day {i}: {errors[i]/count}')\n"
   ]
  },
  {
   "cell_type": "markdown",
   "id": "51114724-e1e6-44d2-96a1-6fc5abe14f5f",
   "metadata": {},
   "source": [
    "## Baseline 3: Guess the mean of the 30 days every time"
   ]
  },
  {
   "cell_type": "code",
   "execution_count": 24,
   "id": "f246ccbe-1349-4bcb-a1bb-6701424642ac",
   "metadata": {},
   "outputs": [
    {
     "name": "stdout",
     "output_type": "stream",
     "text": [
      "train mae for day 0: 113.34337381354005\n",
      "train mae for day 1: 121.7092398237874\n",
      "train mae for day 2: 130.24927769751142\n",
      "train mae for day 3: 138.94539164550145\n",
      "train mae for day 4: 147.739523060998\n",
      "train mae for day 5: 156.70327931526907\n",
      "train mae for day 6: 165.89514317538908\n",
      "validate mae for day 0: 112.74494491526222\n",
      "validate mae for day 1: 120.98651404511313\n",
      "validate mae for day 2: 129.3879898049562\n",
      "validate mae for day 3: 137.9555395041173\n",
      "validate mae for day 4: 146.73057175283276\n",
      "validate mae for day 5: 155.6588614749629\n",
      "validate mae for day 6: 164.78974649766826\n",
      "test mae for day 0: 112.0805320146442\n",
      "test mae for day 1: 120.35551247426044\n",
      "test mae for day 2: 128.78724676464043\n",
      "test mae for day 3: 137.3621345783237\n",
      "test mae for day 4: 146.1271622000351\n",
      "test mae for day 5: 155.0805315432236\n",
      "test mae for day 6: 164.2627304775302\n"
     ]
    }
   ],
   "source": [
    "for name, ds in get_new_loop():\n",
    "    errors = np.zeros(DAYS_TO_PREDICT)\n",
    "    count = 0\n",
    "    for x, y in ds:\n",
    "        y_ = y.numpy().squeeze()\n",
    "        x_ = x.numpy()[:,:,:1]\n",
    "        x_ = np.mean(x_, axis=1).flatten()\n",
    "        x_ = x_.reshape(-1,1)\n",
    "        x_ = x_ = np.repeat(x_, DAYS_TO_PREDICT, axis=1)\n",
    "        count += y_.shape[0]\n",
    "        errors += np.sum(np.abs(y_ - x_), axis=0)\n",
    "    for i in range(DAYS_TO_PREDICT):\n",
    "        print(f'{name} mae for day {i}: {errors[i]/count}')\n"
   ]
  },
  {
   "cell_type": "markdown",
   "id": "5cc9bdf0-8f4f-410b-8e6c-2e46725ffe37",
   "metadata": {},
   "source": [
    "## Baseline 4: Linear regression"
   ]
  },
  {
   "cell_type": "code",
   "execution_count": 7,
   "id": "ec465390-1b5b-4087-bba2-650370743244",
   "metadata": {},
   "outputs": [
    {
     "name": "stdout",
     "output_type": "stream",
     "text": [
      "train mae for day 0: 31.09305731357317\n",
      "train mae for day 1: 36.561657346368555\n",
      "train mae for day 2: 42.30315053809475\n",
      "train mae for day 3: 48.37364123300961\n",
      "train mae for day 4: 54.7286052509776\n",
      "train mae for day 5: 61.37189079944005\n",
      "train mae for day 6: 68.4145175322037\n",
      "validate mae for day 0: 31.24242652543075\n",
      "validate mae for day 1: 36.6673698326716\n",
      "validate mae for day 2: 42.37596151672907\n",
      "validate mae for day 3: 48.39688698364386\n",
      "validate mae for day 4: 54.81291012785065\n",
      "validate mae for day 5: 61.55768346982288\n",
      "validate mae for day 6: 68.65197049716348\n",
      "test mae for day 0: 31.021310096697793\n",
      "test mae for day 1: 36.46308211015402\n",
      "test mae for day 2: 42.17483292854018\n",
      "test mae for day 3: 48.15547451311681\n",
      "test mae for day 4: 54.50655840335501\n",
      "test mae for day 5: 61.22295177178717\n",
      "test mae for day 6: 68.31251791398272\n"
     ]
    }
   ],
   "source": [
    "for name, ds in get_new_loop():\n",
    "    errors = np.zeros(DAYS_TO_PREDICT)\n",
    "    count = 0\n",
    "    lr = LinearRegression()\n",
    "    for x, y in ds:\n",
    "        y_ = y.numpy().squeeze()  \n",
    "        # print(y_.shape)\n",
    "        # abort\n",
    "        x_ = x.numpy()[:,:,:1]\n",
    "        days = x_.shape[1]\n",
    "        z = np.arange(days).reshape(-1,1)\n",
    "        # next_date = np.array([days + 1]).reshape(-1,1)\n",
    "        next_dates = np.arange(days +1, days + 1 + DAYS_TO_PREDICT)\n",
    "        for i in range(x_.shape[0]):\n",
    "            lr.fit(z,x_[i])\n",
    "            for j in range(DAYS_TO_PREDICT):\n",
    "                errors[j] += np.abs(y[i][j] - lr.predict(next_dates[j].reshape(-1,1))[0][0])\n",
    "        count += y_.shape[0]\n",
    "    for k in range(DAYS_TO_PREDICT):\n",
    "        print(f'{name} mae for day {k}: {errors[k]/count}')\n"
   ]
  },
  {
   "cell_type": "code",
   "execution_count": 15,
   "id": "995d3a89-64d8-49fe-840b-ff2f69d867ef",
   "metadata": {},
   "outputs": [
    {
     "data": {
      "image/png": "[encoded data removed]",
      "text/plain": [
       "<Figure size 432x288 with 1 Axes>"
      ]
     },
     "metadata": {
      "needs_background": "light"
     },
     "output_type": "display_data"
    }
   ],
   "source": [
    "z = np.arange(days).reshape(-1,1)\n",
    "plt.scatter(z, x_[i], color=\"black\", label='Training')\n",
    "z_ = np.arange(days+1+DAYS_TO_PREDICT).reshape(-1,1)\n",
    "plt.plot(z_, lr.predict(z_), color=\"blue\", linewidth=1)\n",
    "for j in range(DAYS_TO_PREDICT):\n",
    "    plt.scatter(31+j, y_[i][j], marker='*', label='Actual', color='blue')\n",
    "    plt.scatter(31 + j, lr.predict(z_)[j], marker='+', label='Predicted', color='red')\n",
    "plt.ylabel('Covid-19 Cases')\n",
    "plt.xlabel('Days')\n",
    "# plt.legend()\n",
    "# plt.xticks(())\n",
    "# plt.yticks(())\n",
    "plt.savefig('linear_regression_example.png')\n",
    "_ = plt.show()"
   ]
  },
  {
   "cell_type": "code",
   "execution_count": 14,
   "id": "5cdb88bf-7c24-4292-8f5e-873fd762bba8",
   "metadata": {},
   "outputs": [
    {
     "data": {
      "text/plain": [
       "596"
      ]
     },
     "execution_count": 14,
     "metadata": {},
     "output_type": "execute_result"
    }
   ],
   "source": [
    "i"
   ]
  },
  {
   "cell_type": "code",
   "execution_count": 16,
   "id": "950463c8-19f0-42ba-8268-e9b85e6ce031",
   "metadata": {},
   "outputs": [
    {
     "data": {
      "text/plain": [
       "(995, 7)"
      ]
     },
     "execution_count": 16,
     "metadata": {},
     "output_type": "execute_result"
    }
   ],
   "source": [
    "x_.shape\n",
    "x_ = np.mean(x_, axis=1).flatten()\n",
    "x_ = x_.reshape(-1,1)\n",
    "x_ = x_ = np.repeat(x_, DAYS_TO_PREDICT, axis=1)\n",
    "x_.shape"
   ]
  },
  {
   "cell_type": "code",
   "execution_count": null,
   "id": "39b1d17c-0060-42fc-a989-92cd486e744a",
   "metadata": {},
   "outputs": [],
   "source": [
    "for name, ds in get_new_loop():\n",
    "    errors = np.zeros(DAYS_TO_PREDICT)\n",
    "    count = 0\n",
    "    for x, y in ds:\n",
    "        print(x.shape, y.shape)\n",
    "        print(x[0][-1][0])\n",
    "        print(y[0][0][0])\n",
    "        return\n",
    "        print('breaking')\n",
    "        break\n",
    "        \n",
    "        "
   ]
  },
  {
   "cell_type": "code",
   "execution_count": null,
   "id": "f7e93f39-a3b0-4124-a963-b871361a2c08",
   "metadata": {},
   "outputs": [],
   "source": []
  },
  {
   "cell_type": "code",
   "execution_count": null,
   "id": "5a727434-b81e-4e3a-8ccb-a895710d0b2e",
   "metadata": {},
   "outputs": [],
   "source": []
  },
  {
   "cell_type": "code",
   "execution_count": null,
   "id": "de229af0-2042-40de-83fd-d3c84bea719b",
   "metadata": {},
   "outputs": [],
   "source": []
  },
  {
   "cell_type": "code",
   "execution_count": 185,
   "id": "f0c783e6-d2da-448c-905c-1c0854e5133a",
   "metadata": {},
   "outputs": [
    {
     "data": {
      "text/plain": [
       "array([1759., 1759., 1759., 1759., 1759., 1759., 1759.], dtype=float32)"
      ]
     },
     "execution_count": 185,
     "metadata": {},
     "output_type": "execute_result"
    }
   ],
   "source": [
    "train mae for day 0: 9.840150955581118\n",
    "validate mae for day 0: 9.792210488958693\n",
    "test mae for day 0: 9.854986715908877"
   ]
  },
  {
   "cell_type": "code",
   "execution_count": null,
   "id": "8f93eb69-7db1-45d9-889f-9d8bed726c24",
   "metadata": {},
   "outputs": [],
   "source": []
  },
  {
   "cell_type": "code",
   "execution_count": 184,
   "id": "0bb2aea5-59be-4123-997a-e0c38fece99e",
   "metadata": {},
   "outputs": [
    {
     "data": {
      "text/plain": [
       "array([1759., 1848., 1848., 1873., 1873., 1873., 1972.], dtype=float32)"
      ]
     },
     "execution_count": 184,
     "metadata": {},
     "output_type": "execute_result"
    }
   ],
   "source": [
    "y_[0]"
   ]
  },
  {
   "cell_type": "code",
   "execution_count": 179,
   "id": "089e8227-5170-4beb-a967-8800ab550054",
   "metadata": {},
   "outputs": [
    {
     "data": {
      "text/plain": [
       "array([[1759., 1759., 1759., ..., 1759., 1759., 1759.],\n",
       "       [1131., 1131., 1131., ..., 1131., 1131., 1131.],\n",
       "       [1733., 1733., 1733., ..., 1733., 1733., 1733.],\n",
       "       ...,\n",
       "       [ 961.,  961.,  961., ...,  961.,  961.,  961.],\n",
       "       [ 515.,  515.,  515., ...,  515.,  515.,  515.],\n",
       "       [1282., 1282., 1282., ..., 1282., 1282., 1282.]], dtype=float32)"
      ]
     },
     "execution_count": 179,
     "metadata": {},
     "output_type": "execute_result"
    }
   ],
   "source": [
    "x_"
   ]
  },
  {
   "cell_type": "code",
   "execution_count": null,
   "id": "bf6c49c7-081b-4e1c-b9dd-0a7fa070f4b0",
   "metadata": {},
   "outputs": [],
   "source": []
  },
  {
   "cell_type": "code",
   "execution_count": null,
   "id": "1836ed22-38a9-4f98-b588-e0cff8f1ab2e",
   "metadata": {},
   "outputs": [],
   "source": []
  },
  {
   "cell_type": "code",
   "execution_count": null,
   "id": "d9db3bdf-16ef-4158-87a3-49cd22c1ca62",
   "metadata": {},
   "outputs": [],
   "source": []
  },
  {
   "cell_type": "code",
   "execution_count": null,
   "id": "746bbb1c-e477-4833-a395-ecdb3796e50e",
   "metadata": {},
   "outputs": [],
   "source": []
  },
  {
   "cell_type": "code",
   "execution_count": 112,
   "id": "8e3d5d9a-d14b-460f-9b04-97679b3e3646",
   "metadata": {},
   "outputs": [
    {
     "data": {
      "text/plain": [
       "6.5670003707823525"
      ]
     },
     "execution_count": 112,
     "metadata": {},
     "output_type": "execute_result"
    }
   ],
   "source": [
    "x = x_[0]\n",
    "z = np.arange(x.shape[0]).reshape(-1,1)\n",
    "y = y_[0]\n",
    "# z = np.expand_dims(z,1)\n",
    "lr = LinearRegression()\n",
    "lr.fit(z,x)\n",
    "np.abs(y - lr.predict(np.array([31]).reshape(-1,1))[0][0])"
   ]
  },
  {
   "cell_type": "code",
   "execution_count": 104,
   "id": "0dcbcf3b-0c69-4e46-bd81-af49502ccb78",
   "metadata": {},
   "outputs": [
    {
     "data": {
      "text/plain": [
       "array([[ 0],\n",
       "       [ 1],\n",
       "       [ 2],\n",
       "       [ 3],\n",
       "       [ 4],\n",
       "       [ 5],\n",
       "       [ 6],\n",
       "       [ 7],\n",
       "       [ 8],\n",
       "       [ 9],\n",
       "       [10],\n",
       "       [11],\n",
       "       [12],\n",
       "       [13],\n",
       "       [14],\n",
       "       [15],\n",
       "       [16],\n",
       "       [17],\n",
       "       [18],\n",
       "       [19],\n",
       "       [20],\n",
       "       [21],\n",
       "       [22],\n",
       "       [23],\n",
       "       [24],\n",
       "       [25],\n",
       "       [26],\n",
       "       [27],\n",
       "       [28],\n",
       "       [29]])"
      ]
     },
     "execution_count": 104,
     "metadata": {},
     "output_type": "execute_result"
    }
   ],
   "source": [
    "z"
   ]
  },
  {
   "cell_type": "code",
   "execution_count": 91,
   "id": "1afcd49f-e9ab-4b73-b850-6123189ab3af",
   "metadata": {},
   "outputs": [
    {
     "name": "stdout",
     "output_type": "stream",
     "text": [
      "(30, 1)\n"
     ]
    },
    {
     "data": {
      "text/plain": [
       "array([[  0., 488.],\n",
       "       [  1., 491.],\n",
       "       [  2., 492.],\n",
       "       [  3., 498.],\n",
       "       [  4., 500.],\n",
       "       [  5., 515.],\n",
       "       [  6., 530.],\n",
       "       [  7., 530.],\n",
       "       [  8., 531.],\n",
       "       [  9., 532.],\n",
       "       [ 10., 538.],\n",
       "       [ 11., 548.],\n",
       "       [ 12., 553.],\n",
       "       [ 13., 569.],\n",
       "       [ 14., 578.],\n",
       "       [ 15., 579.],\n",
       "       [ 16., 579.],\n",
       "       [ 17., 582.],\n",
       "       [ 18., 591.],\n",
       "       [ 19., 595.],\n",
       "       [ 20., 606.],\n",
       "       [ 21., 633.],\n",
       "       [ 22., 638.],\n",
       "       [ 23., 640.],\n",
       "       [ 24., 651.],\n",
       "       [ 25., 662.],\n",
       "       [ 26., 672.],\n",
       "       [ 27., 687.],\n",
       "       [ 28., 687.],\n",
       "       [ 29., 692.]])"
      ]
     },
     "execution_count": 91,
     "metadata": {},
     "output_type": "execute_result"
    }
   ],
   "source": [
    "z = np.arange(x.shape[0])\n",
    "z = np.expand_dims(z,1)\n",
    "print(z.shape)\n",
    "x = np.concatenate((z, x), axis=1)"
   ]
  },
  {
   "cell_type": "code",
   "execution_count": 95,
   "id": "e37e0269-8843-48fa-a596-a1ca10c1255a",
   "metadata": {},
   "outputs": [
    {
     "data": {
      "text/plain": [
       "array([16.])"
      ]
     },
     "execution_count": 95,
     "metadata": {},
     "output_type": "execute_result"
    }
   ],
   "source": [
    "X = np.array([[1, 1], [1, 2], [2, 2], [2, 3]])\n",
    "# y = 1 * x_0 + 2 * x_1 + 3\n",
    "y = np.dot(X, np.array([1, 2])) + 3\n",
    "reg = LinearRegression().fit(X, y)\n",
    "reg.score(X, y)\n",
    "\n",
    "reg.coef_\n",
    "\n",
    "reg.intercept_\n",
    "\n",
    "reg.predict(np.array([[3, 5]]))"
   ]
  },
  {
   "cell_type": "code",
   "execution_count": 97,
   "id": "62a349e9-2790-47db-9710-31dda7ee842b",
   "metadata": {},
   "outputs": [
    {
     "data": {
      "text/plain": [
       "(4,)"
      ]
     },
     "execution_count": 97,
     "metadata": {},
     "output_type": "execute_result"
    }
   ],
   "source": [
    "y.shape"
   ]
  },
  {
   "cell_type": "code",
   "execution_count": null,
   "id": "deedebd9-500e-48b8-b5e4-5fbaf2e4689d",
   "metadata": {},
   "outputs": [],
   "source": []
  }
 ],
 "metadata": {
  "kernelspec": {
   "display_name": "Python 3 (ipykernel)",
   "language": "python",
   "name": "python3"
  },
  "language_info": {
   "codemirror_mode": {
    "name": "ipython",
    "version": 3
   },
   "file_extension": ".py",
   "mimetype": "text/x-python",
   "name": "python",
   "nbconvert_exporter": "python",
   "pygments_lexer": "ipython3",
   "version": "3.9.10"
  }
 },
 "nbformat": 4,
 "nbformat_minor": 5
}
