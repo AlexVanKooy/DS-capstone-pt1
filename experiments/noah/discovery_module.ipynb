{
 "cells": [
  {
   "cell_type": "code",
   "execution_count": 1,
   "id": "65161f99-6610-4b05-9c8b-e035dcffcf0d",
   "metadata": {},
   "outputs": [],
   "source": [
    "import os\n",
    "import importlib\n",
    "\n",
    "import pandas as pd\n",
    "\n",
    "import dsci592.model as model"
   ]
  },
  {
   "cell_type": "code",
   "execution_count": 2,
   "id": "61263979-c3cc-4528-a25d-46505e5298d6",
   "metadata": {},
   "outputs": [],
   "source": [
    "pd.set_option(\"display.max_columns\", None)"
   ]
  },
  {
   "cell_type": "code",
   "execution_count": 3,
   "id": "39776ae7-41c3-40b4-86a3-541df06da9bb",
   "metadata": {},
   "outputs": [
    {
     "data": {
      "text/plain": [
       "<module 'dsci592.model' from '/home/noah/projects/drexel/dsci592/DS-capstone-pt1/code/src/dsci592/model.py'>"
      ]
     },
     "execution_count": 3,
     "metadata": {},
     "output_type": "execute_result"
    }
   ],
   "source": [
    "importlib.reload(model)"
   ]
  },
  {
   "cell_type": "code",
   "execution_count": 4,
   "id": "4337d9fd-03fc-4ff2-a5c4-96f8682a3219",
   "metadata": {},
   "outputs": [],
   "source": [
    "os.environ['TF_GPU_ALLOCATOR'] = 'cuda_malloc_async'"
   ]
  },
  {
   "cell_type": "code",
   "execution_count": 12,
   "id": "78b725b2-b9e8-4a30-ab90-396a7b109080",
   "metadata": {},
   "outputs": [],
   "source": [
    "golden_dataset_file_name = os.path.join('/', 'data', 'projects', 'drexel', 'dsci592', 'feeFiFoFum.pkl')\n",
    "df = model.load_dataset(golden_dataset_file_name)"
   ]
  },
  {
   "cell_type": "code",
   "execution_count": 13,
   "id": "6d34f689-2acf-4605-a0d4-fb1211d2dd39",
   "metadata": {},
   "outputs": [],
   "source": [
    "df = df.drop(columns='hoursWorkedMean')"
   ]
  },
  {
   "cell_type": "code",
   "execution_count": 7,
   "id": "b15c747e-1095-44b0-b787-53b423e0d423",
   "metadata": {},
   "outputs": [
    {
     "data": {
      "text/plain": [
       "Index(['fips', 'JHU_ConfirmedCases.data', 'JHU_ConfirmedDeaths.data',\n",
       "       'cyclical_sin', 'cyclical_cos', 'continuous_sin', 'continuous_cos',\n",
       "       'geo0', 'geo1', 'geo2',\n",
       "       ...\n",
       "       'healthInsTotal', 'healthInsNativeWith', 'healthInsForeignNatWith',\n",
       "       'healthInsForeignNoncitWith', 'healthInsForeignNatNo',\n",
       "       'healthInsForeignNoncitNo', 'healthInsNativeNo', 'pm25', 'latitude',\n",
       "       'longitude'],\n",
       "      dtype='object', length=102)"
      ]
     },
     "execution_count": 7,
     "metadata": {},
     "output_type": "execute_result"
    }
   ],
   "source": [
    "df.columns"
   ]
  },
  {
   "cell_type": "code",
   "execution_count": 14,
   "id": "a2d09a15-aec2-41ff-b707-d0c8bf49adb9",
   "metadata": {},
   "outputs": [
    {
     "name": "stdout",
     "output_type": "stream",
     "text": [
      "0 100 200 300 400 500 600 700 800 900 1000 1100 1200 1300 1400 1500 1600 1700 1800 1900 2000 2100 2200 2300 2400 2500 2600 2700 2800 2900 3000 "
     ]
    }
   ],
   "source": [
    "# If data has not already been prepared, execute the following\n",
    "# Important:  Delete *.npy files from data directory and delete all files in eval, test, and train first\n",
    "\n",
    "# 7 steps\n",
    "# model.prepare_data(df, days_to_predict=7, output_path='./data/tmp')\n",
    "# model.train_test_eval_split(train='./data/train7', test='./data/test7', eval_='./data/eval7', source='./data/tmp')\n",
    "\n",
    "# 1 step\n",
    "model.prepare_data(df, days_to_predict=1, output_path='./data/tmp')\n",
    "model.train_test_eval_split(train='./data/train', test='./data/test', eval_='./data/eval', source='./data/tmp')"
   ]
  },
  {
   "cell_type": "code",
   "execution_count": null,
   "id": "4162ba43-6306-4a48-b47f-d7c5e96cd719",
   "metadata": {},
   "outputs": [],
   "source": [
    "train_ds, val_ds, test_ds = model.get_train_test_eval_ds(train='./data/train/x_*.npy', test='./data/test/x_*.npy', eval_='./data/eval/x_*.npy', days_to_predict=1)\n",
    "# train_ds, val_ds, test_ds = model.get_train_test_eval_ds()"
   ]
  },
  {
   "cell_type": "code",
   "execution_count": 15,
   "id": "99f25ab3-e607-4e0f-9353-34a91595f78a",
   "metadata": {},
   "outputs": [],
   "source": [
    "train_ds, val_ds, test_ds = model.get_train_test_eval_ds()"
   ]
  },
  {
   "cell_type": "code",
   "execution_count": 16,
   "id": "3a839e88-838d-42c2-997b-c8aa2ba68bdf",
   "metadata": {},
   "outputs": [
    {
     "name": "stdout",
     "output_type": "stream",
     "text": [
      "(995, 30, 100) (995, 1, 1)\n",
      "(995, 30, 100) (995, 1, 1)\n",
      "(995, 30, 100) (995, 1, 1)\n",
      "(995, 30, 100) (995, 1, 1)\n",
      "(995, 30, 100) (995, 1, 1)\n",
      "(995, 30, 100) (995, 1, 1)\n",
      "(995, 30, 100) (995, 1, 1)\n",
      "(995, 30, 100) (995, 1, 1)\n",
      "(995, 30, 100) (995, 1, 1)\n",
      "(995, 30, 100) (995, 1, 1)\n",
      "(995, 30, 100) (995, 1, 1)\n"
     ]
    }
   ],
   "source": [
    "i = 0\n",
    "for x,y in train_ds:\n",
    "    print(x.shape, y.shape)\n",
    "    i += 1\n",
    "    if i > 10: break"
   ]
  },
  {
   "cell_type": "code",
   "execution_count": 19,
   "id": "d02df09c-9bd8-4d92-b8f3-80057f2a3693",
   "metadata": {},
   "outputs": [],
   "source": [
    "import numpy as np\n",
    "train_ds, val_ds, test_ds = model.get_train_test_eval_ds()\n",
    "for x,y in train_ds:\n",
    "    if np.any(np.isnan(x)):\n",
    "        print(x, y)\n",
    "        break"
   ]
  },
  {
   "cell_type": "code",
   "execution_count": null,
   "id": "e1148447-7898-4193-88de-b5e340a1cd62",
   "metadata": {},
   "outputs": [],
   "source": [
    "import numpy as np\n",
    "train_ds, val_ds, test_ds = model.get_train_test_eval_ds()\n",
    "for xs,ys in train_ds:\n",
    "    for x,y in zip(xs, ys):\n",
    "        if np.any(np.isnan(x)):\n",
    "            print(x, y)\n",
    "            break"
   ]
  },
  {
   "cell_type": "code",
   "execution_count": 18,
   "id": "a5309290-cd84-4c3e-ad46-b0e3c04b7e08",
   "metadata": {},
   "outputs": [
    {
     "data": {
      "text/html": [
       "<div>\n",
       "<style scoped>\n",
       "    .dataframe tbody tr th:only-of-type {\n",
       "        vertical-align: middle;\n",
       "    }\n",
       "\n",
       "    .dataframe tbody tr th {\n",
       "        vertical-align: top;\n",
       "    }\n",
       "\n",
       "    .dataframe thead th {\n",
       "        text-align: right;\n",
       "    }\n",
       "</style>\n",
       "<table border=\"1\" class=\"dataframe\">\n",
       "  <thead>\n",
       "    <tr style=\"text-align: right;\">\n",
       "      <th></th>\n",
       "      <th>fips</th>\n",
       "      <th>JHU_ConfirmedCases.data</th>\n",
       "      <th>JHU_ConfirmedDeaths.data</th>\n",
       "      <th>cyclical_sin</th>\n",
       "      <th>cyclical_cos</th>\n",
       "      <th>continuous_sin</th>\n",
       "      <th>continuous_cos</th>\n",
       "      <th>geo0</th>\n",
       "      <th>geo1</th>\n",
       "      <th>geo2</th>\n",
       "      <th>geo3</th>\n",
       "      <th>geo4</th>\n",
       "      <th>geo5</th>\n",
       "      <th>geo6</th>\n",
       "      <th>geo7</th>\n",
       "      <th>geo8</th>\n",
       "      <th>TotalPopulation.data</th>\n",
       "      <th>MaleAndFemale_AtLeast65_Population.data</th>\n",
       "      <th>Male_Total_Population.data</th>\n",
       "      <th>Female_Total_Population.data</th>\n",
       "      <th>MaleAndFemale_Under18_Population.data</th>\n",
       "      <th>BLS_EmployedPopulation.data</th>\n",
       "      <th>BLS_EmployedPopulation.missing</th>\n",
       "      <th>BLS_UnemployedPopulation.data</th>\n",
       "      <th>BLS_UnemployedPopulation.missing</th>\n",
       "      <th>BLS_UnemploymentRate.data</th>\n",
       "      <th>BLS_UnemploymentRate.missing</th>\n",
       "      <th>BLS_LaborForcePopulation.data</th>\n",
       "      <th>BLS_LaborForcePopulation.missing</th>\n",
       "      <th>AverageDailyTemperature.data</th>\n",
       "      <th>AverageDailyTemperature.missing</th>\n",
       "      <th>AverageDewPoint.data</th>\n",
       "      <th>AverageDewPoint.missing</th>\n",
       "      <th>AverageRelativeHumidity.data</th>\n",
       "      <th>AverageRelativeHumidity.missing</th>\n",
       "      <th>AverageSurfaceAirPressure.data</th>\n",
       "      <th>AverageSurfaceAirPressure.missing</th>\n",
       "      <th>AveragePrecipitationTotal.data</th>\n",
       "      <th>AveragePrecipitationTotal.missing</th>\n",
       "      <th>AveragePrecipitation.data</th>\n",
       "      <th>AveragePrecipitation.missing</th>\n",
       "      <th>AverageWindDirection.data</th>\n",
       "      <th>AverageWindDirection.missing</th>\n",
       "      <th>AverageWindSpeed.data</th>\n",
       "      <th>AverageWindSpeed.missing</th>\n",
       "      <th>hospitalIcuBeds</th>\n",
       "      <th>hospitalStaffedBeds</th>\n",
       "      <th>hospitalLicensedBeds</th>\n",
       "      <th>latestTotalPopulation</th>\n",
       "      <th>jhu_daily_death</th>\n",
       "      <th>jhu_daily_cases</th>\n",
       "      <th>jhu_daily_new_cases</th>\n",
       "      <th>jhu_daily_death_rolling_7</th>\n",
       "      <th>jhu_daily_cases_rolling_7</th>\n",
       "      <th>jhu_daily_new_cases_rolling_7</th>\n",
       "      <th>jhu_daily_death_rolling_30</th>\n",
       "      <th>jhu_daily_cases_rolling_30</th>\n",
       "      <th>jhu_daily_new_cases_rolling_30</th>\n",
       "      <th>jhu_death_rate</th>\n",
       "      <th>jhu_case_rate</th>\n",
       "      <th>jhu_new_case_rate</th>\n",
       "      <th>density</th>\n",
       "      <th>icu_beds_per_person</th>\n",
       "      <th>staffed_beds_per_person</th>\n",
       "      <th>licensed_beds_per_person</th>\n",
       "      <th>cold_days</th>\n",
       "      <th>hot_days</th>\n",
       "      <th>moderate_days</th>\n",
       "      <th>gte_65_percent</th>\n",
       "      <th>lt_18_percent</th>\n",
       "      <th>employed_percent</th>\n",
       "      <th>unemployed_percent</th>\n",
       "      <th>totalMoved</th>\n",
       "      <th>movedWithinState</th>\n",
       "      <th>movedWithoutState</th>\n",
       "      <th>movedFromAbroad</th>\n",
       "      <th>publicTrans</th>\n",
       "      <th>totalTrans</th>\n",
       "      <th>householdsTotal</th>\n",
       "      <th>houseWith65</th>\n",
       "      <th>house2+with65</th>\n",
       "      <th>houseFamily65</th>\n",
       "      <th>houseNonfam65</th>\n",
       "      <th>houseNo65</th>\n",
       "      <th>house2+No65</th>\n",
       "      <th>houseFamilyNo65</th>\n",
       "      <th>houseNonfamNo65</th>\n",
       "      <th>householdStructuresTotal</th>\n",
       "      <th>householdIncomeMedian</th>\n",
       "      <th>gini</th>\n",
       "      <th>unitsInStructure</th>\n",
       "      <th>healthInsTotal</th>\n",
       "      <th>healthInsNativeWith</th>\n",
       "      <th>healthInsForeignNatWith</th>\n",
       "      <th>healthInsForeignNoncitWith</th>\n",
       "      <th>healthInsForeignNatNo</th>\n",
       "      <th>healthInsForeignNoncitNo</th>\n",
       "      <th>healthInsNativeNo</th>\n",
       "      <th>pm25</th>\n",
       "      <th>latitude</th>\n",
       "      <th>longitude</th>\n",
       "    </tr>\n",
       "  </thead>\n",
       "  <tbody>\n",
       "  </tbody>\n",
       "</table>\n",
       "</div>"
      ],
      "text/plain": [
       "Empty DataFrame\n",
       "Columns: [fips, JHU_ConfirmedCases.data, JHU_ConfirmedDeaths.data, cyclical_sin, cyclical_cos, continuous_sin, continuous_cos, geo0, geo1, geo2, geo3, geo4, geo5, geo6, geo7, geo8, TotalPopulation.data, MaleAndFemale_AtLeast65_Population.data, Male_Total_Population.data, Female_Total_Population.data, MaleAndFemale_Under18_Population.data, BLS_EmployedPopulation.data, BLS_EmployedPopulation.missing, BLS_UnemployedPopulation.data, BLS_UnemployedPopulation.missing, BLS_UnemploymentRate.data, BLS_UnemploymentRate.missing, BLS_LaborForcePopulation.data, BLS_LaborForcePopulation.missing, AverageDailyTemperature.data, AverageDailyTemperature.missing, AverageDewPoint.data, AverageDewPoint.missing, AverageRelativeHumidity.data, AverageRelativeHumidity.missing, AverageSurfaceAirPressure.data, AverageSurfaceAirPressure.missing, AveragePrecipitationTotal.data, AveragePrecipitationTotal.missing, AveragePrecipitation.data, AveragePrecipitation.missing, AverageWindDirection.data, AverageWindDirection.missing, AverageWindSpeed.data, AverageWindSpeed.missing, hospitalIcuBeds, hospitalStaffedBeds, hospitalLicensedBeds, latestTotalPopulation, jhu_daily_death, jhu_daily_cases, jhu_daily_new_cases, jhu_daily_death_rolling_7, jhu_daily_cases_rolling_7, jhu_daily_new_cases_rolling_7, jhu_daily_death_rolling_30, jhu_daily_cases_rolling_30, jhu_daily_new_cases_rolling_30, jhu_death_rate, jhu_case_rate, jhu_new_case_rate, density, icu_beds_per_person, staffed_beds_per_person, licensed_beds_per_person, cold_days, hot_days, moderate_days, gte_65_percent, lt_18_percent, employed_percent, unemployed_percent, totalMoved, movedWithinState, movedWithoutState, movedFromAbroad, publicTrans, totalTrans, householdsTotal, houseWith65, house2+with65, houseFamily65, houseNonfam65, houseNo65, house2+No65, houseFamilyNo65, houseNonfamNo65, householdStructuresTotal, householdIncomeMedian, gini, unitsInStructure, healthInsTotal, healthInsNativeWith, healthInsForeignNatWith, healthInsForeignNoncitWith, healthInsForeignNatNo, healthInsForeignNoncitNo, healthInsNativeNo, pm25, latitude, ...]\n",
       "Index: []"
      ]
     },
     "execution_count": 18,
     "metadata": {},
     "output_type": "execute_result"
    }
   ],
   "source": [
    "df[df.isnull().any(axis=1)]"
   ]
  },
  {
   "cell_type": "code",
   "execution_count": null,
   "id": "90f46ab3-1842-44b7-8418-7be0be16a1c4",
   "metadata": {},
   "outputs": [],
   "source": []
  }
 ],
 "metadata": {
  "kernelspec": {
   "display_name": "Python 3 (ipykernel)",
   "language": "python",
   "name": "python3"
  },
  "language_info": {
   "codemirror_mode": {
    "name": "ipython",
    "version": 3
   },
   "file_extension": ".py",
   "mimetype": "text/x-python",
   "name": "python",
   "nbconvert_exporter": "python",
   "pygments_lexer": "ipython3",
   "version": "3.9.10"
  }
 },
 "nbformat": 4,
 "nbformat_minor": 5
}
