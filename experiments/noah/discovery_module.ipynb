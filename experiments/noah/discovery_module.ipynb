{
 "cells": [
  {
   "cell_type": "markdown",
   "id": "a88a2b27-45a9-48db-8c35-9e3c9b92a86d",
   "metadata": {},
   "source": [
    "# Demonstration of use of DSCI module"
   ]
  },
  {
   "cell_type": "code",
   "execution_count": 2,
   "id": "65161f99-6610-4b05-9c8b-e035dcffcf0d",
   "metadata": {},
   "outputs": [],
   "source": [
    "import os\n",
    "import importlib\n",
    "\n",
    "import pandas as pd\n",
    "\n",
    "import tensorflow.keras as keras\n",
    "\n",
    "\n",
    "\n",
    "import dsci592.model as model"
   ]
  },
  {
   "cell_type": "code",
   "execution_count": 2,
   "id": "61263979-c3cc-4528-a25d-46505e5298d6",
   "metadata": {},
   "outputs": [],
   "source": [
    "pd.set_option(\"display.max_columns\", None)"
   ]
  },
  {
   "cell_type": "code",
   "execution_count": 9,
   "id": "39776ae7-41c3-40b4-86a3-541df06da9bb",
   "metadata": {},
   "outputs": [
    {
     "data": {
      "text/plain": [
       "<module 'dsci592.model' from '/home/noah/projects/drexel/dsci592/DS-capstone-pt1/code/src/dsci592/model.py'>"
      ]
     },
     "execution_count": 9,
     "metadata": {},
     "output_type": "execute_result"
    }
   ],
   "source": [
    "importlib.reload(model)"
   ]
  },
  {
   "cell_type": "code",
   "execution_count": 4,
   "id": "4337d9fd-03fc-4ff2-a5c4-96f8682a3219",
   "metadata": {},
   "outputs": [],
   "source": [
    "os.environ['TF_GPU_ALLOCATOR'] = 'cuda_malloc_async'"
   ]
  },
  {
   "cell_type": "code",
   "execution_count": 5,
   "id": "78b725b2-b9e8-4a30-ab90-396a7b109080",
   "metadata": {},
   "outputs": [
    {
     "name": "stderr",
     "output_type": "stream",
     "text": [
      "2022-02-24 20:40:58.382479: I tensorflow/stream_executor/cuda/cuda_gpu_executor.cc:939] successful NUMA node read from SysFS had negative value (-1), but there must be at least one NUMA node, so returning NUMA node zero\n",
      "2022-02-24 20:40:58.382720: I tensorflow/stream_executor/cuda/cuda_gpu_executor.cc:939] successful NUMA node read from SysFS had negative value (-1), but there must be at least one NUMA node, so returning NUMA node zero\n",
      "2022-02-24 20:40:58.432209: I tensorflow/stream_executor/cuda/cuda_gpu_executor.cc:939] successful NUMA node read from SysFS had negative value (-1), but there must be at least one NUMA node, so returning NUMA node zero\n",
      "2022-02-24 20:40:58.432448: I tensorflow/stream_executor/cuda/cuda_gpu_executor.cc:939] successful NUMA node read from SysFS had negative value (-1), but there must be at least one NUMA node, so returning NUMA node zero\n",
      "2022-02-24 20:40:58.432649: I tensorflow/stream_executor/cuda/cuda_gpu_executor.cc:939] successful NUMA node read from SysFS had negative value (-1), but there must be at least one NUMA node, so returning NUMA node zero\n",
      "2022-02-24 20:40:58.432967: I tensorflow/stream_executor/cuda/cuda_gpu_executor.cc:939] successful NUMA node read from SysFS had negative value (-1), but there must be at least one NUMA node, so returning NUMA node zero\n",
      "2022-02-24 20:40:58.433550: I tensorflow/core/platform/cpu_feature_guard.cc:151] This TensorFlow binary is optimized with oneAPI Deep Neural Network Library (oneDNN) to use the following CPU instructions in performance-critical operations:  AVX2 FMA\n",
      "To enable them in other operations, rebuild TensorFlow with the appropriate compiler flags.\n",
      "2022-02-24 20:40:58.557026: I tensorflow/stream_executor/cuda/cuda_gpu_executor.cc:939] successful NUMA node read from SysFS had negative value (-1), but there must be at least one NUMA node, so returning NUMA node zero\n",
      "2022-02-24 20:40:58.557238: I tensorflow/stream_executor/cuda/cuda_gpu_executor.cc:939] successful NUMA node read from SysFS had negative value (-1), but there must be at least one NUMA node, so returning NUMA node zero\n",
      "2022-02-24 20:40:58.557414: I tensorflow/stream_executor/cuda/cuda_gpu_executor.cc:939] successful NUMA node read from SysFS had negative value (-1), but there must be at least one NUMA node, so returning NUMA node zero\n",
      "2022-02-24 20:40:58.557585: I tensorflow/stream_executor/cuda/cuda_gpu_executor.cc:939] successful NUMA node read from SysFS had negative value (-1), but there must be at least one NUMA node, so returning NUMA node zero\n",
      "2022-02-24 20:40:58.557754: I tensorflow/stream_executor/cuda/cuda_gpu_executor.cc:939] successful NUMA node read from SysFS had negative value (-1), but there must be at least one NUMA node, so returning NUMA node zero\n",
      "2022-02-24 20:40:58.557927: I tensorflow/stream_executor/cuda/cuda_gpu_executor.cc:939] successful NUMA node read from SysFS had negative value (-1), but there must be at least one NUMA node, so returning NUMA node zero\n",
      "2022-02-24 20:40:59.253255: I tensorflow/stream_executor/cuda/cuda_gpu_executor.cc:939] successful NUMA node read from SysFS had negative value (-1), but there must be at least one NUMA node, so returning NUMA node zero\n",
      "2022-02-24 20:40:59.253484: I tensorflow/stream_executor/cuda/cuda_gpu_executor.cc:939] successful NUMA node read from SysFS had negative value (-1), but there must be at least one NUMA node, so returning NUMA node zero\n",
      "2022-02-24 20:40:59.253664: I tensorflow/stream_executor/cuda/cuda_gpu_executor.cc:939] successful NUMA node read from SysFS had negative value (-1), but there must be at least one NUMA node, so returning NUMA node zero\n",
      "2022-02-24 20:40:59.253841: I tensorflow/stream_executor/cuda/cuda_gpu_executor.cc:939] successful NUMA node read from SysFS had negative value (-1), but there must be at least one NUMA node, so returning NUMA node zero\n",
      "2022-02-24 20:40:59.254007: I tensorflow/stream_executor/cuda/cuda_gpu_executor.cc:939] successful NUMA node read from SysFS had negative value (-1), but there must be at least one NUMA node, so returning NUMA node zero\n",
      "2022-02-24 20:40:59.254187: I tensorflow/core/common_runtime/gpu/gpu_process_state.cc:214] Using CUDA malloc Async allocator for GPU: 0\n",
      "2022-02-24 20:40:59.257115: I tensorflow/core/common_runtime/gpu/gpu_device.cc:1525] Created device /job:localhost/replica:0/task:0/device:GPU:0 with 949 MB memory:  -> device: 0, name: NVIDIA GeForce GTX 1660 Ti, pci bus id: 0000:03:00.0, compute capability: 7.5\n",
      "2022-02-24 20:40:59.257751: I tensorflow/stream_executor/cuda/cuda_gpu_executor.cc:939] successful NUMA node read from SysFS had negative value (-1), but there must be at least one NUMA node, so returning NUMA node zero\n",
      "2022-02-24 20:40:59.257909: I tensorflow/core/common_runtime/gpu/gpu_process_state.cc:214] Using CUDA malloc Async allocator for GPU: 1\n",
      "2022-02-24 20:40:59.257935: I tensorflow/core/common_runtime/gpu/gpu_device.cc:1525] Created device /job:localhost/replica:0/task:0/device:GPU:1 with 823 MB memory:  -> device: 1, name: NVIDIA GeForce GTX 1660 Ti, pci bus id: 0000:04:00.0, compute capability: 7.5\n"
     ]
    }
   ],
   "source": [
    "golden_dataset_file_name = os.path.join('/', 'data', 'projects', 'drexel', 'dsci592', 'feeFiFoFum.pkl')\n",
    "df = model.load_dataset(golden_dataset_file_name)"
   ]
  },
  {
   "cell_type": "code",
   "execution_count": 6,
   "id": "6d34f689-2acf-4605-a0d4-fb1211d2dd39",
   "metadata": {},
   "outputs": [],
   "source": [
    "df = df.drop(columns='hoursWorkedMean')"
   ]
  },
  {
   "cell_type": "markdown",
   "id": "f7559c6a-a332-46a4-9b76-360f4d86d4cb",
   "metadata": {},
   "source": [
    "### Generate the datasets"
   ]
  },
  {
   "cell_type": "code",
   "execution_count": 11,
   "id": "a2d09a15-aec2-41ff-b707-d0c8bf49adb9",
   "metadata": {},
   "outputs": [
    {
     "name": "stdout",
     "output_type": "stream",
     "text": [
      "0.100.200.300.400.500.600.700.800.900.1000.1100.1200.1300.1400.1500.1600.1700.1800.1900.2000.2100.2200.2300.2400.2500.2600.2700.2800.2900.3000."
     ]
    }
   ],
   "source": [
    "# If data has not already been prepared, execute the following\n",
    "# Important:  Delete *.npy files from data directory and delete all files in eval, test, and train first\n",
    "\n",
    "# 7 steps\n",
    "model.prepare_data(df, days_to_predict=7, output_path='./data/tmp')\n",
    "model.train_test_eval_split(train='./data/train7', test='./data/test7', eval_='./data/eval7', source='./data/tmp')\n",
    "\n",
    "# 1 step\n",
    "# model.prepare_data(df, days_to_predict=1, output_path='./data/tmp')\n",
    "# model.train_test_eval_split(train='./data/train', test='./data/test', eval_='./data/eval', source='./data/tmp')"
   ]
  },
  {
   "cell_type": "code",
   "execution_count": null,
   "id": "4162ba43-6306-4a48-b47f-d7c5e96cd719",
   "metadata": {},
   "outputs": [],
   "source": [
    "train_ds, val_ds, test_ds = model.get_train_test_eval_ds(train='./data/train/x_*.npy', test='./data/test/x_*.npy', eval_='./data/eval/x_*.npy', days_to_predict=1)\n",
    "# train_ds, val_ds, test_ds = model.get_train_test_eval_ds()"
   ]
  },
  {
   "cell_type": "code",
   "execution_count": null,
   "id": "99f25ab3-e607-4e0f-9353-34a91595f78a",
   "metadata": {},
   "outputs": [],
   "source": [
    "train_ds, val_ds, test_ds = model.get_train_test_eval_ds()"
   ]
  }
 ],
 "metadata": {
  "kernelspec": {
   "display_name": "Python 3 (ipykernel)",
   "language": "python",
   "name": "python3"
  },
  "language_info": {
   "codemirror_mode": {
    "name": "ipython",
    "version": 3
   },
   "file_extension": ".py",
   "mimetype": "text/x-python",
   "name": "python",
   "nbconvert_exporter": "python",
   "pygments_lexer": "ipython3",
   "version": "3.9.10"
  }
 },
 "nbformat": 4,
 "nbformat_minor": 5
}
