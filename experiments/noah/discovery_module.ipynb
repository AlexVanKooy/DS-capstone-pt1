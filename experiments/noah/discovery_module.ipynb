{
 "cells": [
  {
   "cell_type": "code",
   "execution_count": 2,
   "id": "65161f99-6610-4b05-9c8b-e035dcffcf0d",
   "metadata": {},
   "outputs": [],
   "source": [
    "import os\n",
    "import importlib\n",
    "\n",
    "import pandas as pd\n",
    "\n",
    "import tensorflow.keras as keras\n",
    "\n",
    "\n",
    "\n",
    "import dsci592.model as model"
   ]
  },
  {
   "cell_type": "code",
   "execution_count": 2,
   "id": "61263979-c3cc-4528-a25d-46505e5298d6",
   "metadata": {},
   "outputs": [],
   "source": [
    "pd.set_option(\"display.max_columns\", None)"
   ]
  },
  {
   "cell_type": "code",
   "execution_count": 9,
   "id": "39776ae7-41c3-40b4-86a3-541df06da9bb",
   "metadata": {},
   "outputs": [
    {
     "data": {
      "text/plain": [
       "<module 'dsci592.model' from '/home/noah/projects/drexel/dsci592/DS-capstone-pt1/code/src/dsci592/model.py'>"
      ]
     },
     "execution_count": 9,
     "metadata": {},
     "output_type": "execute_result"
    }
   ],
   "source": [
    "importlib.reload(model)"
   ]
  },
  {
   "cell_type": "code",
   "execution_count": 4,
   "id": "4337d9fd-03fc-4ff2-a5c4-96f8682a3219",
   "metadata": {},
   "outputs": [],
   "source": [
    "os.environ['TF_GPU_ALLOCATOR'] = 'cuda_malloc_async'"
   ]
  },
  {
   "cell_type": "code",
   "execution_count": 5,
   "id": "78b725b2-b9e8-4a30-ab90-396a7b109080",
   "metadata": {},
   "outputs": [
    {
     "name": "stderr",
     "output_type": "stream",
     "text": [
      "2022-02-24 20:40:58.382479: I tensorflow/stream_executor/cuda/cuda_gpu_executor.cc:939] successful NUMA node read from SysFS had negative value (-1), but there must be at least one NUMA node, so returning NUMA node zero\n",
      "2022-02-24 20:40:58.382720: I tensorflow/stream_executor/cuda/cuda_gpu_executor.cc:939] successful NUMA node read from SysFS had negative value (-1), but there must be at least one NUMA node, so returning NUMA node zero\n",
      "2022-02-24 20:40:58.432209: I tensorflow/stream_executor/cuda/cuda_gpu_executor.cc:939] successful NUMA node read from SysFS had negative value (-1), but there must be at least one NUMA node, so returning NUMA node zero\n",
      "2022-02-24 20:40:58.432448: I tensorflow/stream_executor/cuda/cuda_gpu_executor.cc:939] successful NUMA node read from SysFS had negative value (-1), but there must be at least one NUMA node, so returning NUMA node zero\n",
      "2022-02-24 20:40:58.432649: I tensorflow/stream_executor/cuda/cuda_gpu_executor.cc:939] successful NUMA node read from SysFS had negative value (-1), but there must be at least one NUMA node, so returning NUMA node zero\n",
      "2022-02-24 20:40:58.432967: I tensorflow/stream_executor/cuda/cuda_gpu_executor.cc:939] successful NUMA node read from SysFS had negative value (-1), but there must be at least one NUMA node, so returning NUMA node zero\n",
      "2022-02-24 20:40:58.433550: I tensorflow/core/platform/cpu_feature_guard.cc:151] This TensorFlow binary is optimized with oneAPI Deep Neural Network Library (oneDNN) to use the following CPU instructions in performance-critical operations:  AVX2 FMA\n",
      "To enable them in other operations, rebuild TensorFlow with the appropriate compiler flags.\n",
      "2022-02-24 20:40:58.557026: I tensorflow/stream_executor/cuda/cuda_gpu_executor.cc:939] successful NUMA node read from SysFS had negative value (-1), but there must be at least one NUMA node, so returning NUMA node zero\n",
      "2022-02-24 20:40:58.557238: I tensorflow/stream_executor/cuda/cuda_gpu_executor.cc:939] successful NUMA node read from SysFS had negative value (-1), but there must be at least one NUMA node, so returning NUMA node zero\n",
      "2022-02-24 20:40:58.557414: I tensorflow/stream_executor/cuda/cuda_gpu_executor.cc:939] successful NUMA node read from SysFS had negative value (-1), but there must be at least one NUMA node, so returning NUMA node zero\n",
      "2022-02-24 20:40:58.557585: I tensorflow/stream_executor/cuda/cuda_gpu_executor.cc:939] successful NUMA node read from SysFS had negative value (-1), but there must be at least one NUMA node, so returning NUMA node zero\n",
      "2022-02-24 20:40:58.557754: I tensorflow/stream_executor/cuda/cuda_gpu_executor.cc:939] successful NUMA node read from SysFS had negative value (-1), but there must be at least one NUMA node, so returning NUMA node zero\n",
      "2022-02-24 20:40:58.557927: I tensorflow/stream_executor/cuda/cuda_gpu_executor.cc:939] successful NUMA node read from SysFS had negative value (-1), but there must be at least one NUMA node, so returning NUMA node zero\n",
      "2022-02-24 20:40:59.253255: I tensorflow/stream_executor/cuda/cuda_gpu_executor.cc:939] successful NUMA node read from SysFS had negative value (-1), but there must be at least one NUMA node, so returning NUMA node zero\n",
      "2022-02-24 20:40:59.253484: I tensorflow/stream_executor/cuda/cuda_gpu_executor.cc:939] successful NUMA node read from SysFS had negative value (-1), but there must be at least one NUMA node, so returning NUMA node zero\n",
      "2022-02-24 20:40:59.253664: I tensorflow/stream_executor/cuda/cuda_gpu_executor.cc:939] successful NUMA node read from SysFS had negative value (-1), but there must be at least one NUMA node, so returning NUMA node zero\n",
      "2022-02-24 20:40:59.253841: I tensorflow/stream_executor/cuda/cuda_gpu_executor.cc:939] successful NUMA node read from SysFS had negative value (-1), but there must be at least one NUMA node, so returning NUMA node zero\n",
      "2022-02-24 20:40:59.254007: I tensorflow/stream_executor/cuda/cuda_gpu_executor.cc:939] successful NUMA node read from SysFS had negative value (-1), but there must be at least one NUMA node, so returning NUMA node zero\n",
      "2022-02-24 20:40:59.254187: I tensorflow/core/common_runtime/gpu/gpu_process_state.cc:214] Using CUDA malloc Async allocator for GPU: 0\n",
      "2022-02-24 20:40:59.257115: I tensorflow/core/common_runtime/gpu/gpu_device.cc:1525] Created device /job:localhost/replica:0/task:0/device:GPU:0 with 949 MB memory:  -> device: 0, name: NVIDIA GeForce GTX 1660 Ti, pci bus id: 0000:03:00.0, compute capability: 7.5\n",
      "2022-02-24 20:40:59.257751: I tensorflow/stream_executor/cuda/cuda_gpu_executor.cc:939] successful NUMA node read from SysFS had negative value (-1), but there must be at least one NUMA node, so returning NUMA node zero\n",
      "2022-02-24 20:40:59.257909: I tensorflow/core/common_runtime/gpu/gpu_process_state.cc:214] Using CUDA malloc Async allocator for GPU: 1\n",
      "2022-02-24 20:40:59.257935: I tensorflow/core/common_runtime/gpu/gpu_device.cc:1525] Created device /job:localhost/replica:0/task:0/device:GPU:1 with 823 MB memory:  -> device: 1, name: NVIDIA GeForce GTX 1660 Ti, pci bus id: 0000:04:00.0, compute capability: 7.5\n"
     ]
    }
   ],
   "source": [
    "golden_dataset_file_name = os.path.join('/', 'data', 'projects', 'drexel', 'dsci592', 'feeFiFoFum.pkl')\n",
    "df = model.load_dataset(golden_dataset_file_name)"
   ]
  },
  {
   "cell_type": "code",
   "execution_count": 6,
   "id": "6d34f689-2acf-4605-a0d4-fb1211d2dd39",
   "metadata": {},
   "outputs": [],
   "source": [
    "df = df.drop(columns='hoursWorkedMean')"
   ]
  },
  {
   "cell_type": "code",
   "execution_count": 7,
   "id": "b15c747e-1095-44b0-b787-53b423e0d423",
   "metadata": {},
   "outputs": [
    {
     "data": {
      "text/plain": [
       "Index(['fips', 'JHU_ConfirmedCases.data', 'JHU_ConfirmedDeaths.data',\n",
       "       'cyclical_sin', 'cyclical_cos', 'continuous_sin', 'continuous_cos',\n",
       "       'geo0', 'geo1', 'geo2',\n",
       "       ...\n",
       "       'healthInsTotal', 'healthInsNativeWith', 'healthInsForeignNatWith',\n",
       "       'healthInsForeignNoncitWith', 'healthInsForeignNatNo',\n",
       "       'healthInsForeignNoncitNo', 'healthInsNativeNo', 'pm25', 'latitude',\n",
       "       'longitude'],\n",
       "      dtype='object', length=101)"
      ]
     },
     "execution_count": 7,
     "metadata": {},
     "output_type": "execute_result"
    }
   ],
   "source": [
    "df.columns"
   ]
  },
  {
   "cell_type": "code",
   "execution_count": 11,
   "id": "a2d09a15-aec2-41ff-b707-d0c8bf49adb9",
   "metadata": {},
   "outputs": [
    {
     "name": "stdout",
     "output_type": "stream",
     "text": [
      "0.100.200.300.400.500.600.700.800.900.1000.1100.1200.1300.1400.1500.1600.1700.1800.1900.2000.2100.2200.2300.2400.2500.2600.2700.2800.2900.3000."
     ]
    }
   ],
   "source": [
    "# If data has not already been prepared, execute the following\n",
    "# Important:  Delete *.npy files from data directory and delete all files in eval, test, and train first\n",
    "\n",
    "# 7 steps\n",
    "model.prepare_data(df, days_to_predict=7, output_path='./data/tmp')\n",
    "model.train_test_eval_split(train='./data/train7', test='./data/test7', eval_='./data/eval7', source='./data/tmp')\n",
    "\n",
    "# 1 step\n",
    "# model.prepare_data(df, days_to_predict=1, output_path='./data/tmp')\n",
    "# model.train_test_eval_split(train='./data/train', test='./data/test', eval_='./data/eval', source='./data/tmp')"
   ]
  },
  {
   "cell_type": "code",
   "execution_count": null,
   "id": "4162ba43-6306-4a48-b47f-d7c5e96cd719",
   "metadata": {},
   "outputs": [],
   "source": [
    "train_ds, val_ds, test_ds = model.get_train_test_eval_ds(train='./data/train/x_*.npy', test='./data/test/x_*.npy', eval_='./data/eval/x_*.npy', days_to_predict=1)\n",
    "# train_ds, val_ds, test_ds = model.get_train_test_eval_ds()"
   ]
  },
  {
   "cell_type": "code",
   "execution_count": null,
   "id": "99f25ab3-e607-4e0f-9353-34a91595f78a",
   "metadata": {},
   "outputs": [],
   "source": [
    "train_ds, val_ds, test_ds = model.get_train_test_eval_ds()"
   ]
  },
  {
   "cell_type": "code",
   "execution_count": null,
   "id": "3a839e88-838d-42c2-997b-c8aa2ba68bdf",
   "metadata": {},
   "outputs": [],
   "source": [
    "i = 0\n",
    "for x,y in train_ds:\n",
    "    print(x.shape, y.shape)\n",
    "    i += 1\n",
    "    if i > 10: break"
   ]
  },
  {
   "cell_type": "code",
   "execution_count": null,
   "id": "d02df09c-9bd8-4d92-b8f3-80057f2a3693",
   "metadata": {},
   "outputs": [],
   "source": [
    "import numpy as np\n",
    "train_ds, val_ds, test_ds = model.get_train_test_eval_ds()\n",
    "for x,y in train_ds:\n",
    "    if np.any(np.isnan(x)):\n",
    "        print(x, y)\n",
    "        break"
   ]
  },
  {
   "cell_type": "code",
   "execution_count": null,
   "id": "e1148447-7898-4193-88de-b5e340a1cd62",
   "metadata": {},
   "outputs": [],
   "source": [
    "import numpy as np\n",
    "train_ds, val_ds, test_ds = model.get_train_test_eval_ds()\n",
    "for xs,ys in train_ds:\n",
    "    for x,y in zip(xs, ys):\n",
    "        if np.any(np.isnan(x)):\n",
    "            print(x, y)\n",
    "            break"
   ]
  },
  {
   "cell_type": "code",
   "execution_count": 14,
   "id": "9af3c9e1-43ac-488d-b1b7-6bd6066b6c9f",
   "metadata": {},
   "outputs": [
    {
     "ename": "KeyError",
     "evalue": "\"['hoursWorkedMean'] not found in axis\"",
     "output_type": "error",
     "traceback": [
      "\u001b[0;31m---------------------------------------------------------------------------\u001b[0m",
      "\u001b[0;31mKeyError\u001b[0m                                  Traceback (most recent call last)",
      "Input \u001b[0;32mIn [14]\u001b[0m, in \u001b[0;36m<module>\u001b[0;34m\u001b[0m\n\u001b[0;32m----> 1\u001b[0m df \u001b[38;5;241m=\u001b[39m \u001b[43mdf\u001b[49m\u001b[38;5;241;43m.\u001b[39;49m\u001b[43mdrop\u001b[49m\u001b[43m(\u001b[49m\u001b[43mcolumns\u001b[49m\u001b[38;5;241;43m=\u001b[39;49m\u001b[38;5;124;43m'\u001b[39;49m\u001b[38;5;124;43mhoursWorkedMean\u001b[39;49m\u001b[38;5;124;43m'\u001b[39;49m\u001b[43m)\u001b[49m\n",
      "File \u001b[0;32m~/projects/drexel/dsci592/DS-capstone-pt1/env/lib/python3.9/site-packages/pandas/util/_decorators.py:311\u001b[0m, in \u001b[0;36mdeprecate_nonkeyword_arguments.<locals>.decorate.<locals>.wrapper\u001b[0;34m(*args, **kwargs)\u001b[0m\n\u001b[1;32m    305\u001b[0m \u001b[38;5;28;01mif\u001b[39;00m \u001b[38;5;28mlen\u001b[39m(args) \u001b[38;5;241m>\u001b[39m num_allow_args:\n\u001b[1;32m    306\u001b[0m     warnings\u001b[38;5;241m.\u001b[39mwarn(\n\u001b[1;32m    307\u001b[0m         msg\u001b[38;5;241m.\u001b[39mformat(arguments\u001b[38;5;241m=\u001b[39marguments),\n\u001b[1;32m    308\u001b[0m         \u001b[38;5;167;01mFutureWarning\u001b[39;00m,\n\u001b[1;32m    309\u001b[0m         stacklevel\u001b[38;5;241m=\u001b[39mstacklevel,\n\u001b[1;32m    310\u001b[0m     )\n\u001b[0;32m--> 311\u001b[0m \u001b[38;5;28;01mreturn\u001b[39;00m \u001b[43mfunc\u001b[49m\u001b[43m(\u001b[49m\u001b[38;5;241;43m*\u001b[39;49m\u001b[43margs\u001b[49m\u001b[43m,\u001b[49m\u001b[43m \u001b[49m\u001b[38;5;241;43m*\u001b[39;49m\u001b[38;5;241;43m*\u001b[39;49m\u001b[43mkwargs\u001b[49m\u001b[43m)\u001b[49m\n",
      "File \u001b[0;32m~/projects/drexel/dsci592/DS-capstone-pt1/env/lib/python3.9/site-packages/pandas/core/frame.py:4956\u001b[0m, in \u001b[0;36mDataFrame.drop\u001b[0;34m(self, labels, axis, index, columns, level, inplace, errors)\u001b[0m\n\u001b[1;32m   4808\u001b[0m \u001b[38;5;129m@deprecate_nonkeyword_arguments\u001b[39m(version\u001b[38;5;241m=\u001b[39m\u001b[38;5;28;01mNone\u001b[39;00m, allowed_args\u001b[38;5;241m=\u001b[39m[\u001b[38;5;124m\"\u001b[39m\u001b[38;5;124mself\u001b[39m\u001b[38;5;124m\"\u001b[39m, \u001b[38;5;124m\"\u001b[39m\u001b[38;5;124mlabels\u001b[39m\u001b[38;5;124m\"\u001b[39m])\n\u001b[1;32m   4809\u001b[0m \u001b[38;5;28;01mdef\u001b[39;00m \u001b[38;5;21mdrop\u001b[39m(\n\u001b[1;32m   4810\u001b[0m     \u001b[38;5;28mself\u001b[39m,\n\u001b[0;32m   (...)\u001b[0m\n\u001b[1;32m   4817\u001b[0m     errors: \u001b[38;5;28mstr\u001b[39m \u001b[38;5;241m=\u001b[39m \u001b[38;5;124m\"\u001b[39m\u001b[38;5;124mraise\u001b[39m\u001b[38;5;124m\"\u001b[39m,\n\u001b[1;32m   4818\u001b[0m ):\n\u001b[1;32m   4819\u001b[0m     \u001b[38;5;124;03m\"\"\"\u001b[39;00m\n\u001b[1;32m   4820\u001b[0m \u001b[38;5;124;03m    Drop specified labels from rows or columns.\u001b[39;00m\n\u001b[1;32m   4821\u001b[0m \n\u001b[0;32m   (...)\u001b[0m\n\u001b[1;32m   4954\u001b[0m \u001b[38;5;124;03m            weight  1.0     0.8\u001b[39;00m\n\u001b[1;32m   4955\u001b[0m \u001b[38;5;124;03m    \"\"\"\u001b[39;00m\n\u001b[0;32m-> 4956\u001b[0m     \u001b[38;5;28;01mreturn\u001b[39;00m \u001b[38;5;28;43msuper\u001b[39;49m\u001b[43m(\u001b[49m\u001b[43m)\u001b[49m\u001b[38;5;241;43m.\u001b[39;49m\u001b[43mdrop\u001b[49m\u001b[43m(\u001b[49m\n\u001b[1;32m   4957\u001b[0m \u001b[43m        \u001b[49m\u001b[43mlabels\u001b[49m\u001b[38;5;241;43m=\u001b[39;49m\u001b[43mlabels\u001b[49m\u001b[43m,\u001b[49m\n\u001b[1;32m   4958\u001b[0m \u001b[43m        \u001b[49m\u001b[43maxis\u001b[49m\u001b[38;5;241;43m=\u001b[39;49m\u001b[43maxis\u001b[49m\u001b[43m,\u001b[49m\n\u001b[1;32m   4959\u001b[0m \u001b[43m        \u001b[49m\u001b[43mindex\u001b[49m\u001b[38;5;241;43m=\u001b[39;49m\u001b[43mindex\u001b[49m\u001b[43m,\u001b[49m\n\u001b[1;32m   4960\u001b[0m \u001b[43m        \u001b[49m\u001b[43mcolumns\u001b[49m\u001b[38;5;241;43m=\u001b[39;49m\u001b[43mcolumns\u001b[49m\u001b[43m,\u001b[49m\n\u001b[1;32m   4961\u001b[0m \u001b[43m        \u001b[49m\u001b[43mlevel\u001b[49m\u001b[38;5;241;43m=\u001b[39;49m\u001b[43mlevel\u001b[49m\u001b[43m,\u001b[49m\n\u001b[1;32m   4962\u001b[0m \u001b[43m        \u001b[49m\u001b[43minplace\u001b[49m\u001b[38;5;241;43m=\u001b[39;49m\u001b[43minplace\u001b[49m\u001b[43m,\u001b[49m\n\u001b[1;32m   4963\u001b[0m \u001b[43m        \u001b[49m\u001b[43merrors\u001b[49m\u001b[38;5;241;43m=\u001b[39;49m\u001b[43merrors\u001b[49m\u001b[43m,\u001b[49m\n\u001b[1;32m   4964\u001b[0m \u001b[43m    \u001b[49m\u001b[43m)\u001b[49m\n",
      "File \u001b[0;32m~/projects/drexel/dsci592/DS-capstone-pt1/env/lib/python3.9/site-packages/pandas/core/generic.py:4279\u001b[0m, in \u001b[0;36mNDFrame.drop\u001b[0;34m(self, labels, axis, index, columns, level, inplace, errors)\u001b[0m\n\u001b[1;32m   4277\u001b[0m \u001b[38;5;28;01mfor\u001b[39;00m axis, labels \u001b[38;5;129;01min\u001b[39;00m axes\u001b[38;5;241m.\u001b[39mitems():\n\u001b[1;32m   4278\u001b[0m     \u001b[38;5;28;01mif\u001b[39;00m labels \u001b[38;5;129;01mis\u001b[39;00m \u001b[38;5;129;01mnot\u001b[39;00m \u001b[38;5;28;01mNone\u001b[39;00m:\n\u001b[0;32m-> 4279\u001b[0m         obj \u001b[38;5;241m=\u001b[39m \u001b[43mobj\u001b[49m\u001b[38;5;241;43m.\u001b[39;49m\u001b[43m_drop_axis\u001b[49m\u001b[43m(\u001b[49m\u001b[43mlabels\u001b[49m\u001b[43m,\u001b[49m\u001b[43m \u001b[49m\u001b[43maxis\u001b[49m\u001b[43m,\u001b[49m\u001b[43m \u001b[49m\u001b[43mlevel\u001b[49m\u001b[38;5;241;43m=\u001b[39;49m\u001b[43mlevel\u001b[49m\u001b[43m,\u001b[49m\u001b[43m \u001b[49m\u001b[43merrors\u001b[49m\u001b[38;5;241;43m=\u001b[39;49m\u001b[43merrors\u001b[49m\u001b[43m)\u001b[49m\n\u001b[1;32m   4281\u001b[0m \u001b[38;5;28;01mif\u001b[39;00m inplace:\n\u001b[1;32m   4282\u001b[0m     \u001b[38;5;28mself\u001b[39m\u001b[38;5;241m.\u001b[39m_update_inplace(obj)\n",
      "File \u001b[0;32m~/projects/drexel/dsci592/DS-capstone-pt1/env/lib/python3.9/site-packages/pandas/core/generic.py:4323\u001b[0m, in \u001b[0;36mNDFrame._drop_axis\u001b[0;34m(self, labels, axis, level, errors, consolidate, only_slice)\u001b[0m\n\u001b[1;32m   4321\u001b[0m         new_axis \u001b[38;5;241m=\u001b[39m axis\u001b[38;5;241m.\u001b[39mdrop(labels, level\u001b[38;5;241m=\u001b[39mlevel, errors\u001b[38;5;241m=\u001b[39merrors)\n\u001b[1;32m   4322\u001b[0m     \u001b[38;5;28;01melse\u001b[39;00m:\n\u001b[0;32m-> 4323\u001b[0m         new_axis \u001b[38;5;241m=\u001b[39m \u001b[43maxis\u001b[49m\u001b[38;5;241;43m.\u001b[39;49m\u001b[43mdrop\u001b[49m\u001b[43m(\u001b[49m\u001b[43mlabels\u001b[49m\u001b[43m,\u001b[49m\u001b[43m \u001b[49m\u001b[43merrors\u001b[49m\u001b[38;5;241;43m=\u001b[39;49m\u001b[43merrors\u001b[49m\u001b[43m)\u001b[49m\n\u001b[1;32m   4324\u001b[0m     indexer \u001b[38;5;241m=\u001b[39m axis\u001b[38;5;241m.\u001b[39mget_indexer(new_axis)\n\u001b[1;32m   4326\u001b[0m \u001b[38;5;66;03m# Case for non-unique axis\u001b[39;00m\n\u001b[1;32m   4327\u001b[0m \u001b[38;5;28;01melse\u001b[39;00m:\n",
      "File \u001b[0;32m~/projects/drexel/dsci592/DS-capstone-pt1/env/lib/python3.9/site-packages/pandas/core/indexes/base.py:6644\u001b[0m, in \u001b[0;36mIndex.drop\u001b[0;34m(self, labels, errors)\u001b[0m\n\u001b[1;32m   6642\u001b[0m \u001b[38;5;28;01mif\u001b[39;00m mask\u001b[38;5;241m.\u001b[39many():\n\u001b[1;32m   6643\u001b[0m     \u001b[38;5;28;01mif\u001b[39;00m errors \u001b[38;5;241m!=\u001b[39m \u001b[38;5;124m\"\u001b[39m\u001b[38;5;124mignore\u001b[39m\u001b[38;5;124m\"\u001b[39m:\n\u001b[0;32m-> 6644\u001b[0m         \u001b[38;5;28;01mraise\u001b[39;00m \u001b[38;5;167;01mKeyError\u001b[39;00m(\u001b[38;5;124mf\u001b[39m\u001b[38;5;124m\"\u001b[39m\u001b[38;5;132;01m{\u001b[39;00m\u001b[38;5;28mlist\u001b[39m(labels[mask])\u001b[38;5;132;01m}\u001b[39;00m\u001b[38;5;124m not found in axis\u001b[39m\u001b[38;5;124m\"\u001b[39m)\n\u001b[1;32m   6645\u001b[0m     indexer \u001b[38;5;241m=\u001b[39m indexer[\u001b[38;5;241m~\u001b[39mmask]\n\u001b[1;32m   6646\u001b[0m \u001b[38;5;28;01mreturn\u001b[39;00m \u001b[38;5;28mself\u001b[39m\u001b[38;5;241m.\u001b[39mdelete(indexer)\n",
      "\u001b[0;31mKeyError\u001b[0m: \"['hoursWorkedMean'] not found in axis\""
     ]
    }
   ],
   "source": [
    "df = df.drop(columns='hoursWorkedMean')"
   ]
  },
  {
   "cell_type": "code",
   "execution_count": 13,
   "id": "a5309290-cd84-4c3e-ad46-b0e3c04b7e08",
   "metadata": {},
   "outputs": [
    {
     "data": {
      "text/plain": [
       "(1879589, 101)"
      ]
     },
     "execution_count": 13,
     "metadata": {},
     "output_type": "execute_result"
    }
   ],
   "source": [
    "df.shape"
   ]
  },
  {
   "cell_type": "code",
   "execution_count": 15,
   "id": "90f46ab3-1842-44b7-8418-7be0be16a1c4",
   "metadata": {},
   "outputs": [],
   "source": [
    "train_ds, val_ds, test_ds = model.get_train_test_eval_ds()"
   ]
  },
  {
   "cell_type": "code",
   "execution_count": 16,
   "id": "1e62b65c-ec97-4275-bfcc-9e218333f588",
   "metadata": {},
   "outputs": [
    {
     "data": {
      "text/plain": [
       "Index(['fips', 'JHU_ConfirmedCases.data', 'JHU_ConfirmedDeaths.data',\n",
       "       'cyclical_sin', 'cyclical_cos', 'continuous_sin', 'continuous_cos',\n",
       "       'geo0', 'geo1', 'geo2',\n",
       "       ...\n",
       "       'healthInsTotal', 'healthInsNativeWith', 'healthInsForeignNatWith',\n",
       "       'healthInsForeignNoncitWith', 'healthInsForeignNatNo',\n",
       "       'healthInsForeignNoncitNo', 'healthInsNativeNo', 'pm25', 'latitude',\n",
       "       'longitude'],\n",
       "      dtype='object', length=101)"
      ]
     },
     "execution_count": 16,
     "metadata": {},
     "output_type": "execute_result"
    }
   ],
   "source": [
    "df.columns"
   ]
  },
  {
   "cell_type": "code",
   "execution_count": 17,
   "id": "22b55f00-fbd3-47ed-8f1d-8c362ee7ab9c",
   "metadata": {},
   "outputs": [
    {
     "data": {
      "text/plain": [
       "3083"
      ]
     },
     "execution_count": 17,
     "metadata": {},
     "output_type": "execute_result"
    }
   ],
   "source": [
    "len(set(df.fips))"
   ]
  },
  {
   "cell_type": "code",
   "execution_count": 23,
   "id": "da3cf613-d312-4af2-adc8-30cb6d68772c",
   "metadata": {},
   "outputs": [
    {
     "name": "stdout",
     "output_type": "stream",
     "text": [
      "623\n",
      "620\n",
      "622\n",
      "625\n",
      "606\n",
      "619\n",
      "617\n",
      "630\n",
      "611\n",
      "631\n",
      "624\n",
      "492\n",
      "607\n",
      "609\n",
      "629\n",
      "594\n",
      "615\n",
      "621\n",
      "596\n",
      "612\n",
      "595\n",
      "598\n",
      "540\n",
      "627\n",
      "626\n",
      "613\n",
      "628\n",
      "610\n",
      "535\n",
      "614\n",
      "600\n",
      "616\n",
      "589\n",
      "605\n",
      "618\n",
      "597\n",
      "608\n",
      "484\n",
      "592\n",
      "576\n",
      "603\n",
      "602\n",
      "541\n",
      "604\n",
      "539\n",
      "512\n",
      "545\n",
      "520\n",
      "601\n",
      "599\n",
      "530\n",
      "504\n",
      "433\n",
      "531\n",
      "525\n",
      "577\n",
      "435\n",
      "549\n",
      "580\n",
      "579\n",
      "476\n",
      "553\n",
      "583\n",
      "478\n",
      "513\n",
      "518\n",
      "584\n",
      "517\n",
      "588\n",
      "593\n",
      "434\n",
      "591\n",
      "590\n",
      "582\n",
      "499\n",
      "495\n",
      "524\n",
      "537\n",
      "538\n",
      "546\n",
      "448\n",
      "573\n",
      "501\n",
      "508\n",
      "566\n",
      "506\n",
      "534\n",
      "548\n",
      "503\n",
      "550\n",
      "568\n",
      "533\n",
      "529\n",
      "569\n",
      "384\n",
      "510\n",
      "507\n",
      "581\n",
      "516\n",
      "586\n",
      "514\n",
      "587\n",
      "442\n",
      "558\n",
      "562\n",
      "585\n",
      "547\n",
      "521\n",
      "424\n",
      "564\n",
      "578\n",
      "523\n",
      "498\n",
      "554\n",
      "415\n",
      "544\n",
      "526\n",
      "472\n",
      "509\n",
      "469\n",
      "380\n",
      "500\n",
      "567\n",
      "528\n",
      "493\n",
      "423\n",
      "574\n",
      "560\n",
      "497\n",
      "491\n",
      "485\n",
      "565\n",
      "543\n",
      "465\n",
      "519\n",
      "559\n",
      "561\n",
      "502\n",
      "563\n",
      "505\n",
      "527\n",
      "556\n",
      "571\n",
      "532\n",
      "486\n",
      "417\n",
      "92\n",
      "{512, 513, 514, 516, 517, 518, 519, 520, 521, 523, 524, 525, 526, 527, 528, 529, 530, 531, 532, 533, 534, 535, 537, 538, 539, 540, 541, 543, 544, 545, 546, 547, 548, 549, 550, 553, 554, 556, 558, 559, 560, 561, 562, 563, 564, 565, 566, 567, 568, 569, 571, 573, 574, 576, 577, 578, 579, 580, 581, 582, 583, 584, 585, 586, 587, 588, 589, 590, 591, 592, 593, 594, 595, 596, 597, 598, 599, 600, 601, 602, 603, 604, 605, 606, 607, 608, 609, 610, 611, 612, 613, 614, 615, 616, 617, 618, 619, 620, 621, 622, 623, 624, 625, 626, 627, 628, 629, 630, 631, 380, 384, 415, 417, 423, 424, 433, 434, 435, 442, 448, 92, 465, 469, 472, 476, 478, 484, 485, 486, 491, 492, 493, 495, 497, 498, 499, 500, 501, 502, 503, 504, 505, 506, 507, 508, 509, 510}\n"
     ]
    }
   ],
   "source": [
    "sizes = set()\n",
    "for fip in df.fips:\n",
    "    size = df[df.fips==fip].shape[0]\n",
    "    if size not in sizes:\n",
    "        sizes.add(size)\n",
    "        print(size)\n",
    "print(sizes)"
   ]
  },
  {
   "cell_type": "code",
   "execution_count": 24,
   "id": "ebffaead-4729-44a1-bbeb-54ae23685d8a",
   "metadata": {},
   "outputs": [
    {
     "data": {
      "text/plain": [
       "(92, 631)"
      ]
     },
     "execution_count": 24,
     "metadata": {},
     "output_type": "execute_result"
    }
   ],
   "source": [
    "min(sizes), max(sizes)"
   ]
  },
  {
   "cell_type": "code",
   "execution_count": 5,
   "id": "dc1d374c-f29f-46cc-badc-7ed8ad208265",
   "metadata": {},
   "outputs": [],
   "source": [
    "# Complex model\n",
    "\n",
    "input = keras.layers.Input(shape=(30,100), name='Input')\n",
    "lstm1 = keras.layers.LSTM(256, return_sequences=True, name='LSTM-1')(input)\n",
    "dropout1 = keras.layers.Dropout(0.20, name='Dropout-1')(lstm1)\n",
    "lstm2 = keras.layers.LSTM(256, return_sequences=True, name='LSTM-2')(dropout1)\n",
    "dropout2 = keras.layers.Dropout(0.20, name='Dropout-2')(lstm2)\n",
    "lstm3 = keras.layers.LSTM(256, return_sequences=True, name='LSTM-3')(dropout2)\n",
    "# output = keras.layers.TimeDistributed(keras.layers.Dense(1, name='Output'))(lstm3)\n",
    "output = keras.layers.Dense(1, name='Output')(lstm3)\n",
    "model = keras.models.Model(inputs=input, outputs=output, name='Covid-Prediction-30-1')"
   ]
  },
  {
   "cell_type": "code",
   "execution_count": 6,
   "id": "1cbb5d5f-180b-4b4b-b74f-61844b602bad",
   "metadata": {},
   "outputs": [
    {
     "data": {
      "image/png": "[encoded data removed]",
      "text/plain": [
       "<IPython.core.display.Image object>"
      ]
     },
     "execution_count": 6,
     "metadata": {},
     "output_type": "execute_result"
    }
   ],
   "source": [
    "keras.utils.plot_model(model, to_file='model_3_256_detailed.png', show_shapes=True, show_dtype=True, \n",
    "                       show_layer_activations=False, rankdir='TB', dpi=70)"
   ]
  },
  {
   "cell_type": "code",
   "execution_count": null,
   "id": "f93a2d43-2abc-4783-9035-ff9f7c0b6510",
   "metadata": {},
   "outputs": [],
   "source": []
  }
 ],
 "metadata": {
  "kernelspec": {
   "display_name": "Python 3 (ipykernel)",
   "language": "python",
   "name": "python3"
  },
  "language_info": {
   "codemirror_mode": {
    "name": "ipython",
    "version": 3
   },
   "file_extension": ".py",
   "mimetype": "text/x-python",
   "name": "python",
   "nbconvert_exporter": "python",
   "pygments_lexer": "ipython3",
   "version": "3.9.10"
  }
 },
 "nbformat": 4,
 "nbformat_minor": 5
}
