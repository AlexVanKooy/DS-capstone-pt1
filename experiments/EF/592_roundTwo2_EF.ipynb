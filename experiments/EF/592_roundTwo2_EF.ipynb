{
 "cells": [
  {
   "cell_type": "code",
   "execution_count": 1,
   "id": "exceptional-kidney",
   "metadata": {},
   "outputs": [],
   "source": [
    "import pickle\n",
    "import tensorflow as tf\n",
    "import pandas as pd\n",
    "import matplotlib.pyplot as plt\n",
    "import datetime\n",
    "from datetime import datetime\n",
    "#print(tf.version)\n",
    "import bz2\n",
    "import random\n",
    "import numpy as np\n",
    "from sklearn.model_selection import train_test_split\n",
    "from sklearn.decomposition import PCA\n",
    "from sklearn import preprocessing\n",
    "from sklearn.preprocessing import StandardScaler\n",
    "from sklearn.linear_model import LogisticRegression\n",
    "from sklearn.linear_model import LinearRegression\n",
    "from sklearn.metrics import accuracy_score\n",
    "import matplotlib.pyplot as plt\n",
    "import warnings\n",
    "from sklearn import metrics\n",
    "import seaborn as sns\n",
    "import itertools\n",
    "warnings.filterwarnings('ignore')"
   ]
  },
  {
   "cell_type": "code",
   "execution_count": 2,
   "id": "creative-sleeping",
   "metadata": {},
   "outputs": [],
   "source": [
    "import os\n",
    "import os.path\n",
    "from glob import glob\n",
    "import random\n",
    "import shutil\n",
    "from tqdm.auto import tqdm\n",
    "import tensorflow as tf\n",
    "import tensorflow.keras as keras\n",
    "from tensorflow.keras import backend as K\n",
    "from tensorflow.keras.optimizers import Adam\n",
    "from tensorboard.plugins.hparams import api as hp\n",
    "from sklearn.model_selection import train_test_split\n",
    "#from kerashypetune import KerasGridSearch"
   ]
  },
  {
   "cell_type": "code",
   "execution_count": 3,
   "id": "digital-field",
   "metadata": {},
   "outputs": [],
   "source": [
    "def FIPS_function(row):\n",
    "    state = str(row['stateFip']).zfill(2)\n",
    "    county = str(row['countyFip']).zfill(3)\n",
    "    return str(state + county)"
   ]
  },
  {
   "cell_type": "markdown",
   "id": "dying-butter",
   "metadata": {},
   "source": [
    "### --- Note ---\n",
    "- Original load, but I used different dfs throughout on different parts.\n",
    "- Wanted to make sure I was doing it correctly before I ran on the whole"
   ]
  },
  {
   "cell_type": "code",
   "execution_count": 4,
   "id": "dimensional-deployment",
   "metadata": {},
   "outputs": [
    {
     "data": {
      "text/html": [
       "<div>\n",
       "<style scoped>\n",
       "    .dataframe tbody tr th:only-of-type {\n",
       "        vertical-align: middle;\n",
       "    }\n",
       "\n",
       "    .dataframe tbody tr th {\n",
       "        vertical-align: top;\n",
       "    }\n",
       "\n",
       "    .dataframe thead th {\n",
       "        text-align: right;\n",
       "    }\n",
       "</style>\n",
       "<table border=\"1\" class=\"dataframe\">\n",
       "  <thead>\n",
       "    <tr style=\"text-align: right;\">\n",
       "      <th></th>\n",
       "      <th>dates</th>\n",
       "      <th>JHU_ConfirmedCases.data</th>\n",
       "      <th>NYT_ConfirmedCases.data</th>\n",
       "      <th>JHU_ConfirmedDeaths.data</th>\n",
       "      <th>NYT_ConfirmedDeaths.data</th>\n",
       "      <th>NYT_ConfirmedDeaths.missing</th>\n",
       "      <th>TotalPopulation.data</th>\n",
       "      <th>MaleAndFemale_AtLeast65_Population.data</th>\n",
       "      <th>Male_Total_Population.data</th>\n",
       "      <th>Female_Total_Population.data</th>\n",
       "      <th>...</th>\n",
       "      <th>healthInsNativeWith</th>\n",
       "      <th>healthInsForeignNatWith</th>\n",
       "      <th>healthInsForeignNoncitWith</th>\n",
       "      <th>healthInsForeignNatNo</th>\n",
       "      <th>healthInsForeignNoncitNo</th>\n",
       "      <th>healthInsNativeNo</th>\n",
       "      <th>countyStateName</th>\n",
       "      <th>stateFip</th>\n",
       "      <th>countyFip</th>\n",
       "      <th>pm25</th>\n",
       "    </tr>\n",
       "  </thead>\n",
       "  <tbody>\n",
       "    <tr>\n",
       "      <th>0</th>\n",
       "      <td>2020-03-19</td>\n",
       "      <td>1.0</td>\n",
       "      <td>1.0</td>\n",
       "      <td>0.0</td>\n",
       "      <td>0.0</td>\n",
       "      <td>0</td>\n",
       "      <td>24527.0</td>\n",
       "      <td>5343.0</td>\n",
       "      <td>11868.0</td>\n",
       "      <td>12673.0</td>\n",
       "      <td>...</td>\n",
       "      <td>21415</td>\n",
       "      <td>179</td>\n",
       "      <td>87</td>\n",
       "      <td>39</td>\n",
       "      <td>122</td>\n",
       "      <td>2555</td>\n",
       "      <td>Abbeville County, South Carolina</td>\n",
       "      <td>45</td>\n",
       "      <td>001</td>\n",
       "      <td>9.618551</td>\n",
       "    </tr>\n",
       "    <tr>\n",
       "      <th>1</th>\n",
       "      <td>2020-03-20</td>\n",
       "      <td>1.0</td>\n",
       "      <td>1.0</td>\n",
       "      <td>0.0</td>\n",
       "      <td>0.0</td>\n",
       "      <td>0</td>\n",
       "      <td>24527.0</td>\n",
       "      <td>5343.0</td>\n",
       "      <td>11868.0</td>\n",
       "      <td>12673.0</td>\n",
       "      <td>...</td>\n",
       "      <td>21415</td>\n",
       "      <td>179</td>\n",
       "      <td>87</td>\n",
       "      <td>39</td>\n",
       "      <td>122</td>\n",
       "      <td>2555</td>\n",
       "      <td>Abbeville County, South Carolina</td>\n",
       "      <td>45</td>\n",
       "      <td>001</td>\n",
       "      <td>9.618551</td>\n",
       "    </tr>\n",
       "    <tr>\n",
       "      <th>2</th>\n",
       "      <td>2020-03-21</td>\n",
       "      <td>1.0</td>\n",
       "      <td>1.0</td>\n",
       "      <td>0.0</td>\n",
       "      <td>0.0</td>\n",
       "      <td>0</td>\n",
       "      <td>24527.0</td>\n",
       "      <td>5343.0</td>\n",
       "      <td>11868.0</td>\n",
       "      <td>12673.0</td>\n",
       "      <td>...</td>\n",
       "      <td>21415</td>\n",
       "      <td>179</td>\n",
       "      <td>87</td>\n",
       "      <td>39</td>\n",
       "      <td>122</td>\n",
       "      <td>2555</td>\n",
       "      <td>Abbeville County, South Carolina</td>\n",
       "      <td>45</td>\n",
       "      <td>001</td>\n",
       "      <td>9.618551</td>\n",
       "    </tr>\n",
       "    <tr>\n",
       "      <th>3</th>\n",
       "      <td>2020-03-22</td>\n",
       "      <td>1.0</td>\n",
       "      <td>1.0</td>\n",
       "      <td>0.0</td>\n",
       "      <td>0.0</td>\n",
       "      <td>0</td>\n",
       "      <td>24527.0</td>\n",
       "      <td>5343.0</td>\n",
       "      <td>11868.0</td>\n",
       "      <td>12673.0</td>\n",
       "      <td>...</td>\n",
       "      <td>21415</td>\n",
       "      <td>179</td>\n",
       "      <td>87</td>\n",
       "      <td>39</td>\n",
       "      <td>122</td>\n",
       "      <td>2555</td>\n",
       "      <td>Abbeville County, South Carolina</td>\n",
       "      <td>45</td>\n",
       "      <td>001</td>\n",
       "      <td>9.618551</td>\n",
       "    </tr>\n",
       "    <tr>\n",
       "      <th>4</th>\n",
       "      <td>2020-03-23</td>\n",
       "      <td>1.0</td>\n",
       "      <td>1.0</td>\n",
       "      <td>0.0</td>\n",
       "      <td>0.0</td>\n",
       "      <td>0</td>\n",
       "      <td>24527.0</td>\n",
       "      <td>5343.0</td>\n",
       "      <td>11868.0</td>\n",
       "      <td>12673.0</td>\n",
       "      <td>...</td>\n",
       "      <td>21415</td>\n",
       "      <td>179</td>\n",
       "      <td>87</td>\n",
       "      <td>39</td>\n",
       "      <td>122</td>\n",
       "      <td>2555</td>\n",
       "      <td>Abbeville County, South Carolina</td>\n",
       "      <td>45</td>\n",
       "      <td>001</td>\n",
       "      <td>9.618551</td>\n",
       "    </tr>\n",
       "  </tbody>\n",
       "</table>\n",
       "<p>5 rows × 96 columns</p>\n",
       "</div>"
      ],
      "text/plain": [
       "        dates  JHU_ConfirmedCases.data  NYT_ConfirmedCases.data  \\\n",
       "0  2020-03-19                      1.0                      1.0   \n",
       "1  2020-03-20                      1.0                      1.0   \n",
       "2  2020-03-21                      1.0                      1.0   \n",
       "3  2020-03-22                      1.0                      1.0   \n",
       "4  2020-03-23                      1.0                      1.0   \n",
       "\n",
       "   JHU_ConfirmedDeaths.data  NYT_ConfirmedDeaths.data  \\\n",
       "0                       0.0                       0.0   \n",
       "1                       0.0                       0.0   \n",
       "2                       0.0                       0.0   \n",
       "3                       0.0                       0.0   \n",
       "4                       0.0                       0.0   \n",
       "\n",
       "   NYT_ConfirmedDeaths.missing  TotalPopulation.data  \\\n",
       "0                            0               24527.0   \n",
       "1                            0               24527.0   \n",
       "2                            0               24527.0   \n",
       "3                            0               24527.0   \n",
       "4                            0               24527.0   \n",
       "\n",
       "   MaleAndFemale_AtLeast65_Population.data  Male_Total_Population.data  \\\n",
       "0                                   5343.0                     11868.0   \n",
       "1                                   5343.0                     11868.0   \n",
       "2                                   5343.0                     11868.0   \n",
       "3                                   5343.0                     11868.0   \n",
       "4                                   5343.0                     11868.0   \n",
       "\n",
       "   Female_Total_Population.data  ...  healthInsNativeWith  \\\n",
       "0                       12673.0  ...                21415   \n",
       "1                       12673.0  ...                21415   \n",
       "2                       12673.0  ...                21415   \n",
       "3                       12673.0  ...                21415   \n",
       "4                       12673.0  ...                21415   \n",
       "\n",
       "   healthInsForeignNatWith  healthInsForeignNoncitWith  healthInsForeignNatNo  \\\n",
       "0                      179                          87                     39   \n",
       "1                      179                          87                     39   \n",
       "2                      179                          87                     39   \n",
       "3                      179                          87                     39   \n",
       "4                      179                          87                     39   \n",
       "\n",
       "   healthInsForeignNoncitNo  healthInsNativeNo  \\\n",
       "0                       122               2555   \n",
       "1                       122               2555   \n",
       "2                       122               2555   \n",
       "3                       122               2555   \n",
       "4                       122               2555   \n",
       "\n",
       "                    countyStateName  stateFip  countyFip      pm25  \n",
       "0  Abbeville County, South Carolina        45        001  9.618551  \n",
       "1  Abbeville County, South Carolina        45        001  9.618551  \n",
       "2  Abbeville County, South Carolina        45        001  9.618551  \n",
       "3  Abbeville County, South Carolina        45        001  9.618551  \n",
       "4  Abbeville County, South Carolina        45        001  9.618551  \n",
       "\n",
       "[5 rows x 96 columns]"
      ]
     },
     "execution_count": 4,
     "metadata": {},
     "output_type": "execute_result"
    }
   ],
   "source": [
    "bz_file = bz2.BZ2File(\"feeFiFoFum.pbz2\",'rb')\n",
    "df = pd.read_pickle(bz_file)\n",
    "df.head()"
   ]
  },
  {
   "cell_type": "code",
   "execution_count": 5,
   "id": "wrong-wheel",
   "metadata": {},
   "outputs": [],
   "source": [
    "### Drop non-numeric and unnecessary columns\n",
    "cols = ['NYT_ConfirmedCases.data','NYT_ConfirmedDeaths.data','NYT_ConfirmedDeaths.missing','county','LND110210','countyStateName','stateFip','countyFip']\n",
    "df.drop(cols, axis=1, inplace=True)"
   ]
  },
  {
   "cell_type": "markdown",
   "id": "valued-chambers",
   "metadata": {},
   "source": [
    "## --------- Update EDA ----------\n",
    "\n",
    "- I can do some plots, and then suggestions for other EDA i could include???\n",
    "- I think I can run it on the entire dataset, it just takes a while and wanted to make sure it   was right before I did it"
   ]
  },
  {
   "cell_type": "code",
   "execution_count": 6,
   "id": "german-jamaica",
   "metadata": {},
   "outputs": [
    {
     "name": "stdout",
     "output_type": "stream",
     "text": [
      "(1879589, 88)\n",
      "187.9589\n"
     ]
    }
   ],
   "source": [
    "print(df.shape); print(1879589/10000)"
   ]
  },
  {
   "cell_type": "code",
   "execution_count": 7,
   "id": "double-keeping",
   "metadata": {},
   "outputs": [
    {
     "data": {
      "text/plain": [
       "939794.5"
      ]
     },
     "execution_count": 7,
     "metadata": {},
     "output_type": "execute_result"
    }
   ],
   "source": [
    "1879589/2"
   ]
  },
  {
   "cell_type": "code",
   "execution_count": 8,
   "id": "meaningful-anniversary",
   "metadata": {},
   "outputs": [],
   "source": [
    "##function for above and below a threshold\n",
    "\n",
    "def get_above_threshold(dff,thresh):\n",
    "    corr_mtrx = dff.corr()\n",
    "    corr_vals = corr_mtrx.values\n",
    "    flds = list(corr_mtrx.columns)\n",
    "    numCols = corr_mtrx.shape[0]\n",
    "    above_threshold = []\n",
    "    \n",
    "    for i in range(numCols):\n",
    "        for j in range(i+1, numCols):\n",
    "            if corr_vals[i,j] > thresh:\n",
    "                if i != j:\n",
    "                    above_threshold.append([flds[i],flds[j],corr_vals[i,j]])\n",
    "    above_threshold.sort(reverse=True)\n",
    "    return above_threshold\n",
    "\n",
    "def get_below_threshold(dff,thresh):\n",
    "    corr_mtrx = dff.corr()\n",
    "    corr_vals = corr_mtrx.values\n",
    "    flds = list(corr_mtrx.columns)\n",
    "    numCols = corr_mtrx.shape[0]\n",
    "    above_threshold = []\n",
    "    \n",
    "    for i in range(numCols):\n",
    "        for j in range(i+1, numCols):\n",
    "            if corr_vals[i,j] < thresh:\n",
    "                if i != j:\n",
    "                    above_threshold.append([flds[i],flds[j],corr_vals[i,j]])\n",
    "    above_threshold.sort(reverse=True)\n",
    "    return above_threshold"
   ]
  },
  {
   "cell_type": "code",
   "execution_count": 9,
   "id": "interested-visit",
   "metadata": {},
   "outputs": [
    {
     "data": {
      "text/plain": [
       "[['unitsInStructure', 'healthInsTotal', 0.994129629869046],\n",
       " ['unitsInStructure', 'healthInsNativeWith', 0.9949704848079665],\n",
       " ['totalTrans', 'unitsInStructure', 0.9929803019216017],\n",
       " ['totalTrans', 'householdsTotal', 0.9963845175005094],\n",
       " ['totalTrans', 'householdStructuresTotal', 0.9963845175005094],\n",
       " ['totalTrans', 'houseWith65', 0.9808301889300902],\n",
       " ['totalTrans', 'houseNonfamNo65', 0.9649106176366248],\n",
       " ['totalTrans', 'houseNonfam65', 0.9476931509873331],\n",
       " ['totalTrans', 'houseNo65', 0.9961388201760542],\n",
       " ['totalTrans', 'houseFamilyNo65', 0.9969163007655882]]"
      ]
     },
     "execution_count": 9,
     "metadata": {},
     "output_type": "execute_result"
    }
   ],
   "source": [
    "## raw correlations\n",
    "df_raw_corrs = get_above_threshold(df,0.9)\n",
    "df_raw_corrs[0:10]"
   ]
  },
  {
   "cell_type": "code",
   "execution_count": 10,
   "id": "signal-victoria",
   "metadata": {},
   "outputs": [],
   "source": [
    "### pca here or after conversions?\n",
    "\n",
    "#pca = PCA(n_components=2)\n",
    "#principalComponents = pca.fit_transform(x_p)\n",
    "#principalDf = pd.DataFrame(data = principalComponents, columns = ['pc1','pc2'])"
   ]
  },
  {
   "cell_type": "markdown",
   "id": "threaded-promotion",
   "metadata": {},
   "source": [
    "# ------------- Clean up -----------\n",
    "- Followed Noah's notebook\n",
    "- back to original dataset for clean up"
   ]
  },
  {
   "cell_type": "code",
   "execution_count": 11,
   "id": "daily-retreat",
   "metadata": {},
   "outputs": [
    {
     "name": "stdout",
     "output_type": "stream",
     "text": [
      "2020-03-11 00:00:00 2022-01-16 00:00:00 datetime64[ns]\n"
     ]
    }
   ],
   "source": [
    "### Temporarily, replace FIPS codes with latitude and longitude of the centroid of each county\n",
    "counties = pd.read_csv('2021_Gaz_counties_national.txt', delimiter='\\t')\n",
    "counties.rename(columns={'INTPTLONG                                                                                                               ': 'longitude',\n",
    "                        'INTPTLAT': 'latitude'}, inplace=True)\n",
    "\n",
    "counties = counties[['GEOID', 'latitude', 'longitude' ]]\n",
    "df.fips = df.fips.astype('int64')\n",
    "\n",
    "df = df.merge(counties, how='left', left_on='fips', right_on='GEOID')\n",
    "df.drop(['GEOID'], axis=1, inplace=True)\n",
    "\n",
    "### Replace dates with monotonically increasing integers starting with the minimum date\n",
    "df.dates = pd.to_datetime(df.dates, format='%Y-%m-%d')\n",
    "min_date = min(df.dates)\n",
    "max_date = max(df.dates)\n",
    "print(min_date, max_date, df.dates.dtype)\n",
    "df['day'] =(df.dates - min_date).dt.days\n",
    "df.drop(['dates'], axis=1, inplace=True)\n",
    "\n",
    "###Replace the integer representation of date with sin and cosine encoding\n",
    "\n",
    "cyclical_interval = 365\n",
    "continuous_interval = 3650\n",
    "df['cyclical_sin'] = np.sin((df.day * 2 * np.pi)/cyclical_interval)\n",
    "df['cyclical_cos'] = np.cos((df.day * 2 * np.pi)/cyclical_interval)\n",
    "df['continuous_sin'] = np.sin((df.day * 2 * np.pi)/continuous_interval)\n",
    "df['continuous_cos'] = np.cos((df.day * 2 * np.pi)/continuous_interval)\n",
    "df.drop('day', axis=1, inplace=True)"
   ]
  },
  {
   "cell_type": "code",
   "execution_count": 12,
   "id": "friendly-adapter",
   "metadata": {},
   "outputs": [],
   "source": [
    "###Get the feature column for latitude and longitude\n",
    "# crossed_latlong = pp.get_latlong_fc(df)\n",
    "\n",
    "lat_buckets = list(np.linspace(df.latitude.min(), df.latitude.max(),100))\n",
    "long_buckets = list(np.linspace(df.longitude.min(), df.longitude.max(),100))\n",
    "\n",
    "#make feature columns\n",
    "lat_fc = tf.feature_column.bucketized_column(tf.feature_column.numeric_column('latitude'),lat_buckets)\n",
    "long_fc= tf.feature_column.bucketized_column(tf.feature_column.numeric_column('longitude'),long_buckets)\n",
    "    \n",
    "# crossed columns tell the model how the features relate\n",
    "crossed_latlong = tf.feature_column.crossed_column(keys=[lat_fc, long_fc], hash_bucket_size=1000) # No precise rule, maybe 1000 buckets will be good?\n",
    "    \n",
    "embedded_latlong = tf.feature_column.embedding_column(crossed_latlong,9)\n",
    "\n",
    "feature_layer = tf.keras.layers.DenseFeatures(embedded_latlong)\n",
    "\n",
    "df[['geo0', 'geo1', 'geo2','geo3', 'geo4','geo5','geo6','geo7','geo8']] = feature_layer({'latitude': df.latitude, 'longitude': df.longitude})\n",
    "\n",
    "# df.drop(['longitude', 'latitude'], axis=1, inplace=True)"
   ]
  },
  {
   "cell_type": "code",
   "execution_count": 13,
   "id": "documented-development",
   "metadata": {},
   "outputs": [],
   "source": [
    "### normalize the data\n",
    "cols_to_normalize = [\n",
    "       'TotalPopulation.data', 'MaleAndFemale_AtLeast65_Population.data',\n",
    "       'Male_Total_Population.data', 'Female_Total_Population.data',\n",
    "       'MaleAndFemale_Under18_Population.data', 'BLS_EmployedPopulation.data',\n",
    "       'BLS_EmployedPopulation.missing', 'BLS_UnemployedPopulation.data',\n",
    "       'BLS_UnemployedPopulation.missing', 'BLS_UnemploymentRate.data',\n",
    "       'BLS_UnemploymentRate.missing', 'BLS_LaborForcePopulation.data',\n",
    "       'BLS_LaborForcePopulation.missing', 'AverageDailyTemperature.data',\n",
    "       'AverageDailyTemperature.missing', 'AverageDewPoint.data',\n",
    "       'AverageDewPoint.missing', 'AverageRelativeHumidity.data',\n",
    "       'AverageRelativeHumidity.missing', 'AverageSurfaceAirPressure.data',\n",
    "       'AverageSurfaceAirPressure.missing', 'AveragePrecipitationTotal.data',\n",
    "       'AveragePrecipitationTotal.missing', 'AveragePrecipitation.data',\n",
    "       'AveragePrecipitation.missing', 'AverageWindDirection.data',\n",
    "       'AverageWindDirection.missing', 'AverageWindSpeed.data',\n",
    "       'AverageWindSpeed.missing', 'hospitalIcuBeds', 'hospitalStaffedBeds',\n",
    "       'hospitalLicensedBeds', 'latestTotalPopulation', 'jhu_daily_death',\n",
    "       'jhu_daily_cases', 'jhu_daily_new_cases', \n",
    "    'jhu_daily_death_rolling_7',\n",
    "       'jhu_daily_cases_rolling_7', 'jhu_daily_new_cases_rolling_7',\n",
    "       'jhu_daily_death_rolling_30', 'jhu_daily_cases_rolling_30',\n",
    "       'jhu_daily_new_cases_rolling_30', 'jhu_death_rate', 'jhu_case_rate',\n",
    "       'jhu_new_case_rate', 'density', 'icu_beds_per_person',\n",
    "       'staffed_beds_per_person', 'licensed_beds_per_person', 'cold_days',\n",
    "       'hot_days', 'moderate_days', 'gte_65_percent', 'lt_18_percent',\n",
    "       'employed_percent', 'unemployed_percent', 'totalMoved',\n",
    "       'movedWithinState', 'movedWithoutState', 'movedFromAbroad',\n",
    "       'publicTrans', 'totalTrans', 'householdsTotal', 'houseWith65',\n",
    "       'house2+with65', 'houseFamily65', 'houseNonfam65', 'houseNo65',\n",
    "       'house2+No65', 'houseFamilyNo65', 'houseNonfamNo65',\n",
    "       'householdStructuresTotal', 'householdIncomeMedian', 'gini',\n",
    "       'hoursWorkedMean', 'unitsInStructure', 'healthInsTotal',\n",
    "       'healthInsNativeWith', 'healthInsForeignNatWith',\n",
    "       'healthInsForeignNoncitWith', 'healthInsForeignNatNo',\n",
    "       'healthInsForeignNoncitNo', 'healthInsNativeNo', 'pm25', 'latitude',\n",
    "       'longitude']\n",
    "cols_raw = ['fips','JHU_ConfirmedCases.data', 'JHU_ConfirmedDeaths.data', 'cyclical_sin', 'cyclical_cos', 'continuous_sin',\n",
    "       'continuous_cos', 'geo0', 'geo1', 'geo2','geo3', 'geo4','geo5','geo6','geo7','geo8']\n",
    "df_normalized = df[cols_to_normalize]\n",
    "df_normalized = (df_normalized - df_normalized.mean())/df_normalized.std()\n",
    "df_raw = df[cols_raw]\n",
    "df = pd.concat([df_raw, df_normalized], axis=1)"
   ]
  },
  {
   "cell_type": "code",
   "execution_count": 14,
   "id": "actual-wallpaper",
   "metadata": {},
   "outputs": [
    {
     "name": "stdout",
     "output_type": "stream",
     "text": [
      "(1879589, 102)\n"
     ]
    },
    {
     "data": {
      "text/html": [
       "<div>\n",
       "<style scoped>\n",
       "    .dataframe tbody tr th:only-of-type {\n",
       "        vertical-align: middle;\n",
       "    }\n",
       "\n",
       "    .dataframe tbody tr th {\n",
       "        vertical-align: top;\n",
       "    }\n",
       "\n",
       "    .dataframe thead th {\n",
       "        text-align: right;\n",
       "    }\n",
       "</style>\n",
       "<table border=\"1\" class=\"dataframe\">\n",
       "  <thead>\n",
       "    <tr style=\"text-align: right;\">\n",
       "      <th></th>\n",
       "      <th>fips</th>\n",
       "      <th>JHU_ConfirmedCases.data</th>\n",
       "      <th>JHU_ConfirmedDeaths.data</th>\n",
       "      <th>cyclical_sin</th>\n",
       "      <th>cyclical_cos</th>\n",
       "      <th>continuous_sin</th>\n",
       "      <th>continuous_cos</th>\n",
       "      <th>geo0</th>\n",
       "      <th>geo1</th>\n",
       "      <th>geo2</th>\n",
       "      <th>...</th>\n",
       "      <th>healthInsTotal</th>\n",
       "      <th>healthInsNativeWith</th>\n",
       "      <th>healthInsForeignNatWith</th>\n",
       "      <th>healthInsForeignNoncitWith</th>\n",
       "      <th>healthInsForeignNatNo</th>\n",
       "      <th>healthInsForeignNoncitNo</th>\n",
       "      <th>healthInsNativeNo</th>\n",
       "      <th>pm25</th>\n",
       "      <th>latitude</th>\n",
       "      <th>longitude</th>\n",
       "    </tr>\n",
       "  </thead>\n",
       "  <tbody>\n",
       "    <tr>\n",
       "      <th>0</th>\n",
       "      <td>45001</td>\n",
       "      <td>1.0</td>\n",
       "      <td>0.0</td>\n",
       "      <td>0.137279</td>\n",
       "      <td>0.990532</td>\n",
       "      <td>0.013771</td>\n",
       "      <td>0.999905</td>\n",
       "      <td>-0.008167</td>\n",
       "      <td>0.151876</td>\n",
       "      <td>-0.164822</td>\n",
       "      <td>...</td>\n",
       "      <td>-0.235997</td>\n",
       "      <td>-0.262976</td>\n",
       "      <td>-0.137842</td>\n",
       "      <td>-0.148042</td>\n",
       "      <td>-0.143646</td>\n",
       "      <td>-0.141956</td>\n",
       "      <td>-0.196056</td>\n",
       "      <td>0.811931</td>\n",
       "      <td>-0.830256</td>\n",
       "      <td>0.80029</td>\n",
       "    </tr>\n",
       "    <tr>\n",
       "      <th>1</th>\n",
       "      <td>45001</td>\n",
       "      <td>1.0</td>\n",
       "      <td>0.0</td>\n",
       "      <td>0.154309</td>\n",
       "      <td>0.988023</td>\n",
       "      <td>0.015492</td>\n",
       "      <td>0.999880</td>\n",
       "      <td>-0.008167</td>\n",
       "      <td>0.151876</td>\n",
       "      <td>-0.164822</td>\n",
       "      <td>...</td>\n",
       "      <td>-0.235997</td>\n",
       "      <td>-0.262976</td>\n",
       "      <td>-0.137842</td>\n",
       "      <td>-0.148042</td>\n",
       "      <td>-0.143646</td>\n",
       "      <td>-0.141956</td>\n",
       "      <td>-0.196056</td>\n",
       "      <td>0.811931</td>\n",
       "      <td>-0.830256</td>\n",
       "      <td>0.80029</td>\n",
       "    </tr>\n",
       "  </tbody>\n",
       "</table>\n",
       "<p>2 rows × 102 columns</p>\n",
       "</div>"
      ],
      "text/plain": [
       "    fips  JHU_ConfirmedCases.data  JHU_ConfirmedDeaths.data  cyclical_sin  \\\n",
       "0  45001                      1.0                       0.0      0.137279   \n",
       "1  45001                      1.0                       0.0      0.154309   \n",
       "\n",
       "   cyclical_cos  continuous_sin  continuous_cos      geo0      geo1      geo2  \\\n",
       "0      0.990532        0.013771        0.999905 -0.008167  0.151876 -0.164822   \n",
       "1      0.988023        0.015492        0.999880 -0.008167  0.151876 -0.164822   \n",
       "\n",
       "   ...  healthInsTotal  healthInsNativeWith  healthInsForeignNatWith  \\\n",
       "0  ...       -0.235997            -0.262976                -0.137842   \n",
       "1  ...       -0.235997            -0.262976                -0.137842   \n",
       "\n",
       "   healthInsForeignNoncitWith  healthInsForeignNatNo  \\\n",
       "0                   -0.148042              -0.143646   \n",
       "1                   -0.148042              -0.143646   \n",
       "\n",
       "   healthInsForeignNoncitNo  healthInsNativeNo      pm25  latitude  longitude  \n",
       "0                 -0.141956          -0.196056  0.811931 -0.830256    0.80029  \n",
       "1                 -0.141956          -0.196056  0.811931 -0.830256    0.80029  \n",
       "\n",
       "[2 rows x 102 columns]"
      ]
     },
     "execution_count": 14,
     "metadata": {},
     "output_type": "execute_result"
    }
   ],
   "source": [
    "print(df.shape); df.head(2)"
   ]
  },
  {
   "cell_type": "markdown",
   "id": "designed-cleaner",
   "metadata": {},
   "source": [
    "# ----------- PCA -------------\n",
    "- need to run on the entirety of it \n",
    "- df_pca is used throughout the pca portion"
   ]
  },
  {
   "cell_type": "code",
   "execution_count": 15,
   "id": "prepared-plaintiff",
   "metadata": {},
   "outputs": [
    {
     "name": "stdout",
     "output_type": "stream",
     "text": [
      "(939794, 102)\n"
     ]
    },
    {
     "data": {
      "text/html": [
       "<div>\n",
       "<style scoped>\n",
       "    .dataframe tbody tr th:only-of-type {\n",
       "        vertical-align: middle;\n",
       "    }\n",
       "\n",
       "    .dataframe tbody tr th {\n",
       "        vertical-align: top;\n",
       "    }\n",
       "\n",
       "    .dataframe thead th {\n",
       "        text-align: right;\n",
       "    }\n",
       "</style>\n",
       "<table border=\"1\" class=\"dataframe\">\n",
       "  <thead>\n",
       "    <tr style=\"text-align: right;\">\n",
       "      <th></th>\n",
       "      <th>0</th>\n",
       "      <th>1</th>\n",
       "      <th>2</th>\n",
       "      <th>3</th>\n",
       "      <th>4</th>\n",
       "      <th>5</th>\n",
       "      <th>6</th>\n",
       "      <th>7</th>\n",
       "      <th>8</th>\n",
       "      <th>9</th>\n",
       "      <th>...</th>\n",
       "      <th>28</th>\n",
       "      <th>29</th>\n",
       "      <th>30</th>\n",
       "      <th>31</th>\n",
       "      <th>32</th>\n",
       "      <th>33</th>\n",
       "      <th>34</th>\n",
       "      <th>35</th>\n",
       "      <th>36</th>\n",
       "      <th>JHU_ConfirmedCases.data</th>\n",
       "    </tr>\n",
       "  </thead>\n",
       "  <tbody>\n",
       "    <tr>\n",
       "      <th>0</th>\n",
       "      <td>-1.640641</td>\n",
       "      <td>-1.055009</td>\n",
       "      <td>-1.455177</td>\n",
       "      <td>-0.520824</td>\n",
       "      <td>0.406486</td>\n",
       "      <td>0.480722</td>\n",
       "      <td>0.125168</td>\n",
       "      <td>-0.337877</td>\n",
       "      <td>-0.640319</td>\n",
       "      <td>-0.553381</td>\n",
       "      <td>...</td>\n",
       "      <td>-0.142045</td>\n",
       "      <td>0.130110</td>\n",
       "      <td>0.501689</td>\n",
       "      <td>-0.698604</td>\n",
       "      <td>1.109730</td>\n",
       "      <td>-1.686129</td>\n",
       "      <td>-0.322436</td>\n",
       "      <td>0.003316</td>\n",
       "      <td>-1.039747</td>\n",
       "      <td>1.0</td>\n",
       "    </tr>\n",
       "    <tr>\n",
       "      <th>1</th>\n",
       "      <td>-1.636635</td>\n",
       "      <td>-0.956706</td>\n",
       "      <td>-1.350717</td>\n",
       "      <td>-0.506024</td>\n",
       "      <td>0.123140</td>\n",
       "      <td>0.480542</td>\n",
       "      <td>0.236734</td>\n",
       "      <td>-0.184858</td>\n",
       "      <td>-0.054646</td>\n",
       "      <td>-0.478891</td>\n",
       "      <td>...</td>\n",
       "      <td>-0.115545</td>\n",
       "      <td>0.169004</td>\n",
       "      <td>0.568634</td>\n",
       "      <td>-0.849584</td>\n",
       "      <td>1.367345</td>\n",
       "      <td>-1.427543</td>\n",
       "      <td>-0.126986</td>\n",
       "      <td>-0.184188</td>\n",
       "      <td>-1.009659</td>\n",
       "      <td>1.0</td>\n",
       "    </tr>\n",
       "    <tr>\n",
       "      <th>2</th>\n",
       "      <td>-1.636802</td>\n",
       "      <td>-0.869672</td>\n",
       "      <td>-1.254741</td>\n",
       "      <td>-0.457528</td>\n",
       "      <td>0.042677</td>\n",
       "      <td>0.548637</td>\n",
       "      <td>0.245740</td>\n",
       "      <td>-0.172257</td>\n",
       "      <td>-0.114805</td>\n",
       "      <td>-0.491030</td>\n",
       "      <td>...</td>\n",
       "      <td>-0.113319</td>\n",
       "      <td>0.193466</td>\n",
       "      <td>0.634689</td>\n",
       "      <td>-0.864518</td>\n",
       "      <td>1.420159</td>\n",
       "      <td>-1.331028</td>\n",
       "      <td>-0.082880</td>\n",
       "      <td>-0.357216</td>\n",
       "      <td>-0.816644</td>\n",
       "      <td>1.0</td>\n",
       "    </tr>\n",
       "  </tbody>\n",
       "</table>\n",
       "<p>3 rows × 38 columns</p>\n",
       "</div>"
      ],
      "text/plain": [
       "          0         1         2         3         4         5         6  \\\n",
       "0 -1.640641 -1.055009 -1.455177 -0.520824  0.406486  0.480722  0.125168   \n",
       "1 -1.636635 -0.956706 -1.350717 -0.506024  0.123140  0.480542  0.236734   \n",
       "2 -1.636802 -0.869672 -1.254741 -0.457528  0.042677  0.548637  0.245740   \n",
       "\n",
       "          7         8         9  ...        28        29        30        31  \\\n",
       "0 -0.337877 -0.640319 -0.553381  ... -0.142045  0.130110  0.501689 -0.698604   \n",
       "1 -0.184858 -0.054646 -0.478891  ... -0.115545  0.169004  0.568634 -0.849584   \n",
       "2 -0.172257 -0.114805 -0.491030  ... -0.113319  0.193466  0.634689 -0.864518   \n",
       "\n",
       "         32        33        34        35        36  JHU_ConfirmedCases.data  \n",
       "0  1.109730 -1.686129 -0.322436  0.003316 -1.039747                      1.0  \n",
       "1  1.367345 -1.427543 -0.126986 -0.184188 -1.009659                      1.0  \n",
       "2  1.420159 -1.331028 -0.082880 -0.357216 -0.816644                      1.0  \n",
       "\n",
       "[3 rows x 38 columns]"
      ]
     },
     "execution_count": 15,
     "metadata": {},
     "output_type": "execute_result"
    }
   ],
   "source": [
    "###https://towardsdatascience.com/pca-using-python-scikit-learn-e653f8989e60\n",
    "\n",
    "#df_pca = df.copy() # if ran on the whole, it returns:\n",
    " # ValueError: Input contains NaN, infinity or a value too large for dtype('float64').\n",
    "    \n",
    "df_pca = df.head(939794) #half\n",
    "print(df_pca.shape)\n",
    "\n",
    "### PCA\n",
    "target = 'JHU_ConfirmedCases.data'\n",
    "features = list(df_pca.columns); features.remove(target)\n",
    "feature_columns = [tf.feature_column.numeric_column(i) for i in features]\n",
    "\n",
    "x_p = df_pca.loc[:, features].values\n",
    "x_p = StandardScaler().fit_transform(x_p)\n",
    "y_p = df_pca.loc[:,[target]].values\n",
    "\n",
    "pca = PCA(n_components=0.95)\n",
    "principalComponents = pca.fit_transform(x_p)\n",
    "principalDf = pd.DataFrame(data = principalComponents)\n",
    "\n",
    "finalDf = pd.concat([principalDf, df_pca[[target]]], axis = 1)\n",
    "finalDf.head(3)"
   ]
  },
  {
   "cell_type": "code",
   "execution_count": 16,
   "id": "suited-rhythm",
   "metadata": {},
   "outputs": [
    {
     "data": {
      "text/plain": [
       "[0.36087999385142866,\n",
       " 0.061481371793262116,\n",
       " 0.051814411959314584,\n",
       " 0.0435960410339256,\n",
       " 0.03522512265833085]"
      ]
     },
     "execution_count": 16,
     "metadata": {},
     "output_type": "execute_result"
    }
   ],
   "source": [
    "var_expln = list(pca.explained_variance_ratio_)\n",
    "var_expln.sort(reverse=True)\n",
    "var_expln[0:5]"
   ]
  },
  {
   "cell_type": "code",
   "execution_count": 17,
   "id": "directed-vatican",
   "metadata": {},
   "outputs": [
    {
     "data": {
      "text/plain": [
       "Text(0, 0.5, 'pc-2')"
      ]
     },
     "execution_count": 17,
     "metadata": {},
     "output_type": "execute_result"
    },
    {
     "data": {
      "image/png": "[encoded data removed]",
      "text/plain": [
       "<Figure size 504x504 with 1 Axes>"
      ]
     },
     "metadata": {
      "needs_background": "light"
     },
     "output_type": "display_data"
    }
   ],
   "source": [
    "plt.figure(figsize=(7,7))\n",
    "plt.scatter(finalDf[1],finalDf[2],c=finalDf['JHU_ConfirmedCases.data'],cmap='prism', s =5)\n",
    "plt.xlabel('pc-1')\n",
    "plt.ylabel('pc-2')"
   ]
  },
  {
   "cell_type": "code",
   "execution_count": 18,
   "id": "pacific-canada",
   "metadata": {},
   "outputs": [
    {
     "data": {
      "text/plain": [
       "Text(0, 0.5, 'pc-4')"
      ]
     },
     "execution_count": 18,
     "metadata": {},
     "output_type": "execute_result"
    },
    {
     "data": {
      "image/png": "[encoded data removed]",
      "text/plain": [
       "<Figure size 504x504 with 1 Axes>"
      ]
     },
     "metadata": {
      "needs_background": "light"
     },
     "output_type": "display_data"
    }
   ],
   "source": [
    "plt.figure(figsize=(7,7))\n",
    "plt.scatter(finalDf[3],finalDf[4],c=finalDf['JHU_ConfirmedCases.data'],cmap='prism', s =5)\n",
    "plt.xlabel('pc-3')\n",
    "plt.ylabel('pc-4')"
   ]
  },
  {
   "cell_type": "markdown",
   "id": "following-annotation",
   "metadata": {},
   "source": [
    "### another look at correlation\n",
    "- used pca_df since it was smaller til i make sure it's right"
   ]
  },
  {
   "cell_type": "code",
   "execution_count": 19,
   "id": "peaceful-chemical",
   "metadata": {},
   "outputs": [
    {
     "data": {
      "text/plain": [
       "[['unitsInStructure', 'healthInsTotal', 0.9941296298690643],\n",
       " ['unitsInStructure', 'healthInsNativeWith', 0.9949704848081234],\n",
       " ['totalTrans', 'unitsInStructure', 0.9929803019216314],\n",
       " ['totalTrans', 'householdsTotal', 0.9963845175006059],\n",
       " ['totalTrans', 'householdStructuresTotal', 0.9963845175006059],\n",
       " ['totalTrans', 'houseWith65', 0.9808301889300108],\n",
       " ['totalTrans', 'houseNonfamNo65', 0.9649106176366371],\n",
       " ['totalTrans', 'houseNonfam65', 0.9476931509873973],\n",
       " ['totalTrans', 'houseNo65', 0.9961388201760928],\n",
       " ['totalTrans', 'houseFamilyNo65', 0.9969163007657244]]"
      ]
     },
     "execution_count": 19,
     "metadata": {},
     "output_type": "execute_result"
    }
   ],
   "source": [
    "## correlations\n",
    "\n",
    "df_corrs = get_above_threshold(df,0.9)\n",
    "df_corrs[0:10]"
   ]
  },
  {
   "cell_type": "markdown",
   "id": "swiss-algebra",
   "metadata": {},
   "source": [
    "#### extra not needed, article just continued with this stuff"
   ]
  },
  {
   "cell_type": "markdown",
   "id": "waiting-unemployment",
   "metadata": {},
   "source": [
    "# ------- linear regression / baseline ------\n",
    "- need to run on whole dataset and separate 1 day every 30 for x/y"
   ]
  },
  {
   "cell_type": "markdown",
   "id": "black-enemy",
   "metadata": {},
   "source": [
    "## took a different approach to building the datasets, but lmk if it's off\n",
    "- https://www.guru99.com/linear-regression-tensorflow.html\n",
    "\n",
    "### works, but need to come back and get right x/y \n",
    "- need to sort x and y to 30 days to predict 1. Need to run on the entire dataset."
   ]
  },
  {
   "cell_type": "code",
   "execution_count": 20,
   "id": "brief-technical",
   "metadata": {},
   "outputs": [],
   "source": [
    "## function to automate that day split, skip to 3rd attempt\n",
    "\n",
    "def days_to_predict(dff,numDays):\n",
    "    train = pd.DataFrame(); test = pd.DataFrame()\n",
    "    numDays = numDays+1\n",
    "\n",
    "    for i in range(len(dff)):\n",
    "        if i%numDays == 0:\n",
    "            test = test.append(dff.loc[[i]], ignore_index = True)\n",
    "        else:\n",
    "            train = train.append(dff.loc[[i]], ignore_index = True)\n",
    "    return train,test\n",
    "\n",
    "def days_to_predict2(dff,numDays):\n",
    "    index_len = dff.shape[0]\n",
    "    numDays = numDays+1\n",
    "    train = pd.DataFrame()\n",
    "    test = dff[0:index_len:numDays]\n",
    "    \n",
    "    for i in range(index_len):\n",
    "        if i%numDays != 0:\n",
    "            train.append(dff.loc[[i]], ignore_index = True)\n",
    "    \n",
    "    return train,test\n",
    "\n",
    "### both took too long"
   ]
  },
  {
   "cell_type": "code",
   "execution_count": 21,
   "id": "sticky-iraqi",
   "metadata": {},
   "outputs": [],
   "source": [
    "def days_to_predict3(dff,numDays):\n",
    "    ##round decimals since it's too long or to big\n",
    "    ##get an error if i run it as a whole\n",
    "    #dff = dff.apply(lambda row : round(row, 2)) \n",
    "    index_len = dff.shape[0]\n",
    "    numDays = numDays+1\n",
    "    test = dff[0:index_len:numDays]; train_lst=[]\n",
    "    \n",
    "    for i in range(df.shape[0]):\n",
    "        if i%numDays!=0:\n",
    "            train_lst.append(i)       \n",
    "    train = pd.DataFrame(dff, index = train_lst)\n",
    "    \n",
    "    return train,test"
   ]
  },
  {
   "cell_type": "code",
   "execution_count": 22,
   "id": "personalized-primary",
   "metadata": {},
   "outputs": [],
   "source": [
    "### rounding down decimals to see if i can run on the hole\n",
    "# dff = df.apply(lambda row : round(row,5))\n",
    "# halff = dff.shape[0]/2\n",
    "# dff.replace([np.inf, -np.inf], np.nan, inplace=True)"
   ]
  },
  {
   "cell_type": "code",
   "execution_count": 23,
   "id": "earned-interval",
   "metadata": {
    "scrolled": true
   },
   "outputs": [],
   "source": [
    "##using rounded dataframe\n",
    "train_df, test_df = days_to_predict3(df,30)"
   ]
  },
  {
   "cell_type": "code",
   "execution_count": 24,
   "id": "rough-sierra",
   "metadata": {},
   "outputs": [
    {
     "data": {
      "text/html": [
       "<div>\n",
       "<style scoped>\n",
       "    .dataframe tbody tr th:only-of-type {\n",
       "        vertical-align: middle;\n",
       "    }\n",
       "\n",
       "    .dataframe tbody tr th {\n",
       "        vertical-align: top;\n",
       "    }\n",
       "\n",
       "    .dataframe thead th {\n",
       "        text-align: right;\n",
       "    }\n",
       "</style>\n",
       "<table border=\"1\" class=\"dataframe\">\n",
       "  <thead>\n",
       "    <tr style=\"text-align: right;\">\n",
       "      <th></th>\n",
       "      <th>fips</th>\n",
       "      <th>JHU_ConfirmedCases.data</th>\n",
       "      <th>JHU_ConfirmedDeaths.data</th>\n",
       "      <th>cyclical_sin</th>\n",
       "      <th>cyclical_cos</th>\n",
       "      <th>continuous_sin</th>\n",
       "      <th>continuous_cos</th>\n",
       "      <th>geo0</th>\n",
       "      <th>geo1</th>\n",
       "      <th>geo2</th>\n",
       "      <th>...</th>\n",
       "      <th>healthInsTotal</th>\n",
       "      <th>healthInsNativeWith</th>\n",
       "      <th>healthInsForeignNatWith</th>\n",
       "      <th>healthInsForeignNoncitWith</th>\n",
       "      <th>healthInsForeignNatNo</th>\n",
       "      <th>healthInsForeignNoncitNo</th>\n",
       "      <th>healthInsNativeNo</th>\n",
       "      <th>pm25</th>\n",
       "      <th>latitude</th>\n",
       "      <th>longitude</th>\n",
       "    </tr>\n",
       "  </thead>\n",
       "  <tbody>\n",
       "    <tr>\n",
       "      <th>1</th>\n",
       "      <td>45001</td>\n",
       "      <td>1.0</td>\n",
       "      <td>0.0</td>\n",
       "      <td>0.154309</td>\n",
       "      <td>0.988023</td>\n",
       "      <td>0.015492</td>\n",
       "      <td>0.999880</td>\n",
       "      <td>-0.008167</td>\n",
       "      <td>0.151876</td>\n",
       "      <td>-0.164822</td>\n",
       "      <td>...</td>\n",
       "      <td>-0.235997</td>\n",
       "      <td>-0.262976</td>\n",
       "      <td>-0.137842</td>\n",
       "      <td>-0.148042</td>\n",
       "      <td>-0.143646</td>\n",
       "      <td>-0.141956</td>\n",
       "      <td>-0.196056</td>\n",
       "      <td>0.811931</td>\n",
       "      <td>-0.830256</td>\n",
       "      <td>0.80029</td>\n",
       "    </tr>\n",
       "    <tr>\n",
       "      <th>2</th>\n",
       "      <td>45001</td>\n",
       "      <td>1.0</td>\n",
       "      <td>0.0</td>\n",
       "      <td>0.171293</td>\n",
       "      <td>0.985220</td>\n",
       "      <td>0.017213</td>\n",
       "      <td>0.999852</td>\n",
       "      <td>-0.008167</td>\n",
       "      <td>0.151876</td>\n",
       "      <td>-0.164822</td>\n",
       "      <td>...</td>\n",
       "      <td>-0.235997</td>\n",
       "      <td>-0.262976</td>\n",
       "      <td>-0.137842</td>\n",
       "      <td>-0.148042</td>\n",
       "      <td>-0.143646</td>\n",
       "      <td>-0.141956</td>\n",
       "      <td>-0.196056</td>\n",
       "      <td>0.811931</td>\n",
       "      <td>-0.830256</td>\n",
       "      <td>0.80029</td>\n",
       "    </tr>\n",
       "    <tr>\n",
       "      <th>3</th>\n",
       "      <td>45001</td>\n",
       "      <td>1.0</td>\n",
       "      <td>0.0</td>\n",
       "      <td>0.188227</td>\n",
       "      <td>0.982126</td>\n",
       "      <td>0.018934</td>\n",
       "      <td>0.999821</td>\n",
       "      <td>-0.008167</td>\n",
       "      <td>0.151876</td>\n",
       "      <td>-0.164822</td>\n",
       "      <td>...</td>\n",
       "      <td>-0.235997</td>\n",
       "      <td>-0.262976</td>\n",
       "      <td>-0.137842</td>\n",
       "      <td>-0.148042</td>\n",
       "      <td>-0.143646</td>\n",
       "      <td>-0.141956</td>\n",
       "      <td>-0.196056</td>\n",
       "      <td>0.811931</td>\n",
       "      <td>-0.830256</td>\n",
       "      <td>0.80029</td>\n",
       "    </tr>\n",
       "  </tbody>\n",
       "</table>\n",
       "<p>3 rows × 102 columns</p>\n",
       "</div>"
      ],
      "text/plain": [
       "    fips  JHU_ConfirmedCases.data  JHU_ConfirmedDeaths.data  cyclical_sin  \\\n",
       "1  45001                      1.0                       0.0      0.154309   \n",
       "2  45001                      1.0                       0.0      0.171293   \n",
       "3  45001                      1.0                       0.0      0.188227   \n",
       "\n",
       "   cyclical_cos  continuous_sin  continuous_cos      geo0      geo1      geo2  \\\n",
       "1      0.988023        0.015492        0.999880 -0.008167  0.151876 -0.164822   \n",
       "2      0.985220        0.017213        0.999852 -0.008167  0.151876 -0.164822   \n",
       "3      0.982126        0.018934        0.999821 -0.008167  0.151876 -0.164822   \n",
       "\n",
       "   ...  healthInsTotal  healthInsNativeWith  healthInsForeignNatWith  \\\n",
       "1  ...       -0.235997            -0.262976                -0.137842   \n",
       "2  ...       -0.235997            -0.262976                -0.137842   \n",
       "3  ...       -0.235997            -0.262976                -0.137842   \n",
       "\n",
       "   healthInsForeignNoncitWith  healthInsForeignNatNo  \\\n",
       "1                   -0.148042              -0.143646   \n",
       "2                   -0.148042              -0.143646   \n",
       "3                   -0.148042              -0.143646   \n",
       "\n",
       "   healthInsForeignNoncitNo  healthInsNativeNo      pm25  latitude  longitude  \n",
       "1                 -0.141956          -0.196056  0.811931 -0.830256    0.80029  \n",
       "2                 -0.141956          -0.196056  0.811931 -0.830256    0.80029  \n",
       "3                 -0.141956          -0.196056  0.811931 -0.830256    0.80029  \n",
       "\n",
       "[3 rows x 102 columns]"
      ]
     },
     "execution_count": 24,
     "metadata": {},
     "output_type": "execute_result"
    }
   ],
   "source": [
    "train_df.head(3)"
   ]
  },
  {
   "cell_type": "code",
   "execution_count": 25,
   "id": "powered-paradise",
   "metadata": {},
   "outputs": [
    {
     "data": {
      "text/html": [
       "<div>\n",
       "<style scoped>\n",
       "    .dataframe tbody tr th:only-of-type {\n",
       "        vertical-align: middle;\n",
       "    }\n",
       "\n",
       "    .dataframe tbody tr th {\n",
       "        vertical-align: top;\n",
       "    }\n",
       "\n",
       "    .dataframe thead th {\n",
       "        text-align: right;\n",
       "    }\n",
       "</style>\n",
       "<table border=\"1\" class=\"dataframe\">\n",
       "  <thead>\n",
       "    <tr style=\"text-align: right;\">\n",
       "      <th></th>\n",
       "      <th>fips</th>\n",
       "      <th>JHU_ConfirmedCases.data</th>\n",
       "      <th>JHU_ConfirmedDeaths.data</th>\n",
       "      <th>cyclical_sin</th>\n",
       "      <th>cyclical_cos</th>\n",
       "      <th>continuous_sin</th>\n",
       "      <th>continuous_cos</th>\n",
       "      <th>geo0</th>\n",
       "      <th>geo1</th>\n",
       "      <th>geo2</th>\n",
       "      <th>...</th>\n",
       "      <th>healthInsTotal</th>\n",
       "      <th>healthInsNativeWith</th>\n",
       "      <th>healthInsForeignNatWith</th>\n",
       "      <th>healthInsForeignNoncitWith</th>\n",
       "      <th>healthInsForeignNatNo</th>\n",
       "      <th>healthInsForeignNoncitNo</th>\n",
       "      <th>healthInsNativeNo</th>\n",
       "      <th>pm25</th>\n",
       "      <th>latitude</th>\n",
       "      <th>longitude</th>\n",
       "    </tr>\n",
       "  </thead>\n",
       "  <tbody>\n",
       "    <tr>\n",
       "      <th>0</th>\n",
       "      <td>45001</td>\n",
       "      <td>1.0</td>\n",
       "      <td>0.0</td>\n",
       "      <td>0.137279</td>\n",
       "      <td>0.990532</td>\n",
       "      <td>0.013771</td>\n",
       "      <td>0.999905</td>\n",
       "      <td>-0.008167</td>\n",
       "      <td>0.151876</td>\n",
       "      <td>-0.164822</td>\n",
       "      <td>...</td>\n",
       "      <td>-0.235997</td>\n",
       "      <td>-0.262976</td>\n",
       "      <td>-0.137842</td>\n",
       "      <td>-0.148042</td>\n",
       "      <td>-0.143646</td>\n",
       "      <td>-0.141956</td>\n",
       "      <td>-0.196056</td>\n",
       "      <td>0.811931</td>\n",
       "      <td>-0.830256</td>\n",
       "      <td>0.80029</td>\n",
       "    </tr>\n",
       "    <tr>\n",
       "      <th>31</th>\n",
       "      <td>45001</td>\n",
       "      <td>17.0</td>\n",
       "      <td>0.0</td>\n",
       "      <td>0.622047</td>\n",
       "      <td>0.782980</td>\n",
       "      <td>0.067085</td>\n",
       "      <td>0.997747</td>\n",
       "      <td>-0.008167</td>\n",
       "      <td>0.151876</td>\n",
       "      <td>-0.164822</td>\n",
       "      <td>...</td>\n",
       "      <td>-0.235997</td>\n",
       "      <td>-0.262976</td>\n",
       "      <td>-0.137842</td>\n",
       "      <td>-0.148042</td>\n",
       "      <td>-0.143646</td>\n",
       "      <td>-0.141956</td>\n",
       "      <td>-0.196056</td>\n",
       "      <td>0.811931</td>\n",
       "      <td>-0.830256</td>\n",
       "      <td>0.80029</td>\n",
       "    </tr>\n",
       "    <tr>\n",
       "      <th>62</th>\n",
       "      <td>45001</td>\n",
       "      <td>36.0</td>\n",
       "      <td>0.0</td>\n",
       "      <td>0.933837</td>\n",
       "      <td>0.357698</td>\n",
       "      <td>0.120208</td>\n",
       "      <td>0.992749</td>\n",
       "      <td>-0.008167</td>\n",
       "      <td>0.151876</td>\n",
       "      <td>-0.164822</td>\n",
       "      <td>...</td>\n",
       "      <td>-0.235997</td>\n",
       "      <td>-0.262976</td>\n",
       "      <td>-0.137842</td>\n",
       "      <td>-0.148042</td>\n",
       "      <td>-0.143646</td>\n",
       "      <td>-0.141956</td>\n",
       "      <td>-0.196056</td>\n",
       "      <td>0.811931</td>\n",
       "      <td>-0.830256</td>\n",
       "      <td>0.80029</td>\n",
       "    </tr>\n",
       "  </tbody>\n",
       "</table>\n",
       "<p>3 rows × 102 columns</p>\n",
       "</div>"
      ],
      "text/plain": [
       "     fips  JHU_ConfirmedCases.data  JHU_ConfirmedDeaths.data  cyclical_sin  \\\n",
       "0   45001                      1.0                       0.0      0.137279   \n",
       "31  45001                     17.0                       0.0      0.622047   \n",
       "62  45001                     36.0                       0.0      0.933837   \n",
       "\n",
       "    cyclical_cos  continuous_sin  continuous_cos      geo0      geo1  \\\n",
       "0       0.990532        0.013771        0.999905 -0.008167  0.151876   \n",
       "31      0.782980        0.067085        0.997747 -0.008167  0.151876   \n",
       "62      0.357698        0.120208        0.992749 -0.008167  0.151876   \n",
       "\n",
       "        geo2  ...  healthInsTotal  healthInsNativeWith  \\\n",
       "0  -0.164822  ...       -0.235997            -0.262976   \n",
       "31 -0.164822  ...       -0.235997            -0.262976   \n",
       "62 -0.164822  ...       -0.235997            -0.262976   \n",
       "\n",
       "    healthInsForeignNatWith  healthInsForeignNoncitWith  \\\n",
       "0                 -0.137842                   -0.148042   \n",
       "31                -0.137842                   -0.148042   \n",
       "62                -0.137842                   -0.148042   \n",
       "\n",
       "    healthInsForeignNatNo  healthInsForeignNoncitNo  healthInsNativeNo  \\\n",
       "0               -0.143646                 -0.141956          -0.196056   \n",
       "31              -0.143646                 -0.141956          -0.196056   \n",
       "62              -0.143646                 -0.141956          -0.196056   \n",
       "\n",
       "        pm25  latitude  longitude  \n",
       "0   0.811931 -0.830256    0.80029  \n",
       "31  0.811931 -0.830256    0.80029  \n",
       "62  0.811931 -0.830256    0.80029  \n",
       "\n",
       "[3 rows x 102 columns]"
      ]
     },
     "execution_count": 25,
     "metadata": {},
     "output_type": "execute_result"
    }
   ],
   "source": [
    "test_df.head(3)"
   ]
  },
  {
   "cell_type": "code",
   "execution_count": 26,
   "id": "diverse-qatar",
   "metadata": {},
   "outputs": [],
   "source": [
    "def input_fn(dataset, batch_size=128, num_epochs=None, shuffle=True):\n",
    "    return tf.compat.v1.estimator.inputs.pandas_input_fn(\n",
    "    x = dataset[features],\n",
    "    y = dataset[target],\n",
    "    batch_size=batch_size,\n",
    "    num_epochs=num_epochs,\n",
    "    shuffle=shuffle )"
   ]
  },
  {
   "cell_type": "code",
   "execution_count": 27,
   "id": "horizontal-carol",
   "metadata": {},
   "outputs": [
    {
     "name": "stdout",
     "output_type": "stream",
     "text": [
      "INFO:tensorflow:Using default config.\n",
      "INFO:tensorflow:Using config: {'_model_dir': 'LinRegTrain', '_tf_random_seed': None, '_save_summary_steps': 100, '_save_checkpoints_steps': None, '_save_checkpoints_secs': 600, '_session_config': allow_soft_placement: true\n",
      "graph_options {\n",
      "  rewrite_options {\n",
      "    meta_optimizer_iterations: ONE\n",
      "  }\n",
      "}\n",
      ", '_keep_checkpoint_max': 5, '_keep_checkpoint_every_n_hours': 10000, '_log_step_count_steps': 100, '_train_distribute': None, '_device_fn': None, '_protocol': None, '_eval_distribute': None, '_experimental_distribute': None, '_experimental_max_worker_delay_secs': None, '_session_creation_timeout_secs': 7200, '_checkpoint_save_graph_def': True, '_service': None, '_cluster_spec': ClusterSpec({}), '_task_type': 'worker', '_task_id': 0, '_global_id_in_cluster': 0, '_master': '', '_evaluation_master': '', '_is_chief': True, '_num_ps_replicas': 0, '_num_worker_replicas': 1}\n"
     ]
    }
   ],
   "source": [
    "## https://www.h2kinfosys.com/blog/linear-regression-using-tensorflow-with-examples/\n",
    "target = 'JHU_ConfirmedCases.data'\n",
    "features = list(df.columns); features.remove(target)\n",
    "feature_columns = [tf.feature_column.numeric_column(i) for i in features]\n",
    "\n",
    "estimator = tf.estimator.LinearRegressor(feature_columns=feature_columns, model_dir='LinRegTrain')"
   ]
  },
  {
   "cell_type": "code",
   "execution_count": 28,
   "id": "bridal-disabled",
   "metadata": {},
   "outputs": [
    {
     "name": "stdout",
     "output_type": "stream",
     "text": [
      "WARNING:tensorflow:From /Library/Frameworks/Python.framework/Versions/3.8/lib/python3.8/site-packages/tensorflow/python/util/lazy_loader.py:63: The name tf.estimator.inputs is deprecated. Please use tf.compat.v1.estimator.inputs instead.\n",
      "\n",
      "WARNING:tensorflow:From /Library/Frameworks/Python.framework/Versions/3.8/lib/python3.8/site-packages/tensorflow/python/training/training_util.py:235: Variable.initialized_value (from tensorflow.python.ops.variables) is deprecated and will be removed in a future version.\n",
      "Instructions for updating:\n",
      "Use Variable.read_value. Variables in 2.X are initialized automatically both in eager and graph (inside tf.defun) contexts.\n",
      "WARNING:tensorflow:From /Library/Frameworks/Python.framework/Versions/3.8/lib/python3.8/site-packages/tensorflow_estimator/python/estimator/inputs/queues/feeding_queue_runner.py:60: QueueRunner.__init__ (from tensorflow.python.training.queue_runner_impl) is deprecated and will be removed in a future version.\n",
      "Instructions for updating:\n",
      "To construct input pipelines, use the `tf.data` module.\n",
      "WARNING:tensorflow:From /Library/Frameworks/Python.framework/Versions/3.8/lib/python3.8/site-packages/tensorflow_estimator/python/estimator/inputs/queues/feeding_functions.py:491: add_queue_runner (from tensorflow.python.training.queue_runner_impl) is deprecated and will be removed in a future version.\n",
      "Instructions for updating:\n",
      "To construct input pipelines, use the `tf.data` module.\n",
      "INFO:tensorflow:Calling model_fn.\n",
      "WARNING:tensorflow:From /Library/Frameworks/Python.framework/Versions/3.8/lib/python3.8/site-packages/tensorflow/python/keras/optimizer_v2/ftrl.py:133: calling Constant.__init__ (from tensorflow.python.ops.init_ops) with dtype is deprecated and will be removed in a future version.\n",
      "Instructions for updating:\n",
      "Call initializer instance with the dtype argument instead of passing it to the constructor\n",
      "INFO:tensorflow:Done calling model_fn.\n",
      "INFO:tensorflow:Create CheckpointSaverHook.\n",
      "INFO:tensorflow:Graph was finalized.\n",
      "INFO:tensorflow:Restoring parameters from LinRegTrain/model.ckpt-12800\n",
      "WARNING:tensorflow:From /Library/Frameworks/Python.framework/Versions/3.8/lib/python3.8/site-packages/tensorflow/python/training/saver.py:1076: get_checkpoint_mtimes (from tensorflow.python.training.checkpoint_management) is deprecated and will be removed in a future version.\n",
      "Instructions for updating:\n",
      "Use standard file utilities to get mtimes.\n",
      "INFO:tensorflow:Running local_init_op.\n",
      "INFO:tensorflow:Done running local_init_op.\n",
      "WARNING:tensorflow:From /Library/Frameworks/Python.framework/Versions/3.8/lib/python3.8/site-packages/tensorflow/python/training/monitored_session.py:906: start_queue_runners (from tensorflow.python.training.queue_runner_impl) is deprecated and will be removed in a future version.\n",
      "Instructions for updating:\n",
      "To construct input pipelines, use the `tf.data` module.\n",
      "INFO:tensorflow:Calling checkpoint listeners before saving checkpoint 12800...\n",
      "INFO:tensorflow:Saving checkpoints for 12800 into LinRegTrain/model.ckpt.\n",
      "INFO:tensorflow:Calling checkpoint listeners after saving checkpoint 12800...\n",
      "INFO:tensorflow:loss = 62775524.0, step = 12800\n",
      "INFO:tensorflow:global_step/sec: 36.5857\n",
      "INFO:tensorflow:loss = 4529048.5, step = 12900 (2.735 sec)\n",
      "INFO:tensorflow:global_step/sec: 48.7705\n",
      "INFO:tensorflow:loss = 5840615400.0, step = 13000 (2.050 sec)\n",
      "INFO:tensorflow:global_step/sec: 49.3077\n",
      "INFO:tensorflow:loss = 30313674.0, step = 13100 (2.027 sec)\n",
      "INFO:tensorflow:global_step/sec: 50.2023\n",
      "INFO:tensorflow:loss = 31251900.0, step = 13200 (1.993 sec)\n",
      "INFO:tensorflow:global_step/sec: 50.4167\n",
      "INFO:tensorflow:loss = 11509106.0, step = 13300 (1.983 sec)\n",
      "INFO:tensorflow:global_step/sec: 49.5391\n",
      "INFO:tensorflow:loss = 1477384.0, step = 13400 (2.020 sec)\n",
      "INFO:tensorflow:global_step/sec: 49.8059\n",
      "INFO:tensorflow:loss = 894908300.0, step = 13500 (2.006 sec)\n",
      "INFO:tensorflow:global_step/sec: 48.3653\n",
      "INFO:tensorflow:loss = 35272480.0, step = 13600 (2.069 sec)\n",
      "INFO:tensorflow:global_step/sec: 50.0646\n",
      "INFO:tensorflow:loss = 101112904.0, step = 13700 (1.997 sec)\n",
      "INFO:tensorflow:global_step/sec: 49.3545\n",
      "INFO:tensorflow:loss = 16971382.0, step = 13800 (2.025 sec)\n",
      "INFO:tensorflow:global_step/sec: 49.4556\n",
      "INFO:tensorflow:loss = 138594940.0, step = 13900 (2.022 sec)\n",
      "INFO:tensorflow:global_step/sec: 43.5271\n",
      "INFO:tensorflow:loss = 1019087.5, step = 14000 (2.299 sec)\n",
      "INFO:tensorflow:global_step/sec: 49.5246\n",
      "INFO:tensorflow:loss = 15841202.0, step = 14100 (2.019 sec)\n",
      "INFO:tensorflow:global_step/sec: 50.6833\n",
      "INFO:tensorflow:loss = 302984260.0, step = 14200 (1.973 sec)\n",
      "INFO:tensorflow:global_step/sec: 50.1971\n",
      "INFO:tensorflow:loss = 15968250.0, step = 14300 (1.993 sec)\n",
      "INFO:tensorflow:global_step/sec: 41.3621\n",
      "INFO:tensorflow:loss = 11972792.0, step = 14400 (2.417 sec)\n",
      "INFO:tensorflow:global_step/sec: 37.8234\n",
      "INFO:tensorflow:loss = 13148600.0, step = 14500 (2.644 sec)\n",
      "INFO:tensorflow:global_step/sec: 35.6066\n",
      "INFO:tensorflow:loss = 25509800.0, step = 14600 (2.808 sec)\n",
      "INFO:tensorflow:global_step/sec: 45.6694\n",
      "INFO:tensorflow:loss = 14111450.0, step = 14700 (2.190 sec)\n",
      "INFO:tensorflow:Calling checkpoint listeners before saving checkpoint 14800...\n",
      "INFO:tensorflow:Saving checkpoints for 14800 into LinRegTrain/model.ckpt.\n",
      "WARNING:tensorflow:From /Library/Frameworks/Python.framework/Versions/3.8/lib/python3.8/site-packages/tensorflow/python/training/saver.py:968: remove_checkpoint (from tensorflow.python.training.checkpoint_management) is deprecated and will be removed in a future version.\n",
      "Instructions for updating:\n",
      "Use standard file APIs to delete files with this prefix.\n",
      "INFO:tensorflow:Calling checkpoint listeners after saving checkpoint 14800...\n",
      "INFO:tensorflow:Loss for final step: 16071531.0.\n"
     ]
    },
    {
     "data": {
      "text/plain": [
       "<tensorflow_estimator.python.estimator.canned.linear.LinearRegressorV2 at 0x7f907cf98a60>"
      ]
     },
     "execution_count": 28,
     "metadata": {},
     "output_type": "execute_result"
    }
   ],
   "source": [
    "#train the model with 2000 steps\n",
    "estimator.train(input_fn=input_fn(train_df, num_epochs=None), steps=2000)"
   ]
  },
  {
   "cell_type": "code",
   "execution_count": 29,
   "id": "reduced-verification",
   "metadata": {},
   "outputs": [
    {
     "name": "stdout",
     "output_type": "stream",
     "text": [
      "INFO:tensorflow:Calling model_fn.\n",
      "INFO:tensorflow:Done calling model_fn.\n",
      "INFO:tensorflow:Starting evaluation at 2022-02-19T06:36:12Z\n",
      "INFO:tensorflow:Graph was finalized.\n",
      "INFO:tensorflow:Restoring parameters from LinRegTrain/model.ckpt-14800\n",
      "INFO:tensorflow:Running local_init_op.\n",
      "INFO:tensorflow:Done running local_init_op.\n",
      "INFO:tensorflow:Inference Time : 95.92779s\n",
      "INFO:tensorflow:Finished evaluation at 2022-02-19-06:37:48\n",
      "INFO:tensorflow:Saving dict for global step 14800: average_loss = nan, global_step = 14800, label/mean = 6895.043, loss = nan, prediction/mean = nan\n",
      "INFO:tensorflow:Saving 'checkpoint_path' summary for global step 14800: LinRegTrain/model.ckpt-14800\n"
     ]
    }
   ],
   "source": [
    "#evaluate the model\n",
    "ev = estimator.evaluate(input_fn=input_fn(test_df, num_epochs=10, shuffle=True))"
   ]
  },
  {
   "cell_type": "code",
   "execution_count": 30,
   "id": "looking-shanghai",
   "metadata": {},
   "outputs": [
    {
     "data": {
      "text/plain": [
       "count    1.818957e+06\n",
       "mean     6.898406e+03\n",
       "std      2.989528e+04\n",
       "min      0.000000e+00\n",
       "25%      2.230000e+02\n",
       "50%      1.232000e+03\n",
       "75%      4.206000e+03\n",
       "max      2.257502e+06\n",
       "Name: JHU_ConfirmedCases.data, dtype: float64"
      ]
     },
     "execution_count": 30,
     "metadata": {},
     "output_type": "execute_result"
    }
   ],
   "source": [
    "train_df[target].describe()"
   ]
  },
  {
   "cell_type": "code",
   "execution_count": 31,
   "id": "every-playing",
   "metadata": {},
   "outputs": [
    {
     "name": "stdout",
     "output_type": "stream",
     "text": [
      "Loss: nan\n"
     ]
    }
   ],
   "source": [
    "loss_score = ev[\"loss\"]\n",
    "print(\"Loss: {0:f}\".format(loss_score))"
   ]
  },
  {
   "cell_type": "code",
   "execution_count": 32,
   "id": "sapphire-senegal",
   "metadata": {},
   "outputs": [
    {
     "data": {
      "text/plain": [
       "102"
      ]
     },
     "execution_count": 32,
     "metadata": {},
     "output_type": "execute_result"
    }
   ],
   "source": [
    "### is this suppuse to go where it is in the line below??\n",
    "test_df.shape[1]"
   ]
  },
  {
   "cell_type": "code",
   "execution_count": 33,
   "id": "extra-house",
   "metadata": {},
   "outputs": [
    {
     "name": "stdout",
     "output_type": "stream",
     "text": [
      "INFO:tensorflow:Calling model_fn.\n",
      "INFO:tensorflow:Done calling model_fn.\n",
      "INFO:tensorflow:Graph was finalized.\n",
      "INFO:tensorflow:Restoring parameters from LinRegTrain/model.ckpt-14800\n",
      "INFO:tensorflow:Running local_init_op.\n",
      "INFO:tensorflow:Done running local_init_op.\n"
     ]
    }
   ],
   "source": [
    "y_pred_df = estimator.predict(input_fn=input_fn(test_df,num_epochs=None))\n",
    "predictions = list(p[\"predictions\"] for p in itertools.islice(y_pred_df, test_df.shape[0]))\n",
    "#print(\"Predictions: {}\".format(str(predictions)))"
   ]
  },
  {
   "cell_type": "code",
   "execution_count": 34,
   "id": "straight-texas",
   "metadata": {},
   "outputs": [
    {
     "data": {
      "text/plain": [
       "[2854.8914, 4876.688, 2483.334, 1581.4907, 4454.39]"
      ]
     },
     "execution_count": 34,
     "metadata": {},
     "output_type": "execute_result"
    }
   ],
   "source": [
    "ypred_df = [x[0] for x in predictions]\n",
    "ypred_df[0:5]"
   ]
  },
  {
   "cell_type": "code",
   "execution_count": 36,
   "id": "bibliographic-blade",
   "metadata": {},
   "outputs": [],
   "source": [
    "### turned zero's into means\n",
    "import statistics\n",
    "\n",
    "y_true = list(test_df[target].values)\n",
    "ymean = statistics.mean(y_true)\n",
    "y_true = pd.DataFrame(y_true)\n",
    "\n",
    "y_pred = pd.DataFrame(ypred_df)\n",
    "y_pred.where(y_pred.notnull(),ymean,inplace=True)\n"
   ]
  },
  {
   "cell_type": "code",
   "execution_count": 37,
   "id": "anonymous-month",
   "metadata": {
    "scrolled": true
   },
   "outputs": [
    {
     "name": "stdout",
     "output_type": "stream",
     "text": [
      "7728.641283159654\n"
     ]
    }
   ],
   "source": [
    "from sklearn.metrics import mean_absolute_error as mae\n",
    "MAE = mae(y_true,y_pred)\n",
    "print(MAE)"
   ]
  },
  {
   "cell_type": "code",
   "execution_count": 38,
   "id": "thirty-recruitment",
   "metadata": {},
   "outputs": [
    {
     "data": {
      "text/plain": [
       "Text(0, 0.5, 'ypred')"
      ]
     },
     "execution_count": 38,
     "metadata": {},
     "output_type": "execute_result"
    },
    {
     "data": {
      "image/png": "[encoded data removed]",
      "text/plain": [
       "<Figure size 504x504 with 1 Axes>"
      ]
     },
     "metadata": {
      "needs_background": "light"
     },
     "output_type": "display_data"
    }
   ],
   "source": [
    "plt.figure(figsize=(7,7))\n",
    "plt.scatter(y_pred,y_true,s =5, cmap='prism')\n",
    "plt.xlabel('y')\n",
    "plt.ylabel('ypred')"
   ]
  },
  {
   "cell_type": "code",
   "execution_count": 39,
   "id": "established-excellence",
   "metadata": {},
   "outputs": [
    {
     "name": "stdout",
     "output_type": "stream",
     "text": [
      "done\n"
     ]
    }
   ],
   "source": [
    "print('done')"
   ]
  },
  {
   "cell_type": "code",
   "execution_count": null,
   "id": "silver-bracelet",
   "metadata": {},
   "outputs": [],
   "source": []
  }
 ],
 "metadata": {
  "kernelspec": {
   "display_name": "Python 3",
   "language": "python",
   "name": "python3"
  },
  "language_info": {
   "codemirror_mode": {
    "name": "ipython",
    "version": 3
   },
   "file_extension": ".py",
   "mimetype": "text/x-python",
   "name": "python",
   "nbconvert_exporter": "python",
   "pygments_lexer": "ipython3",
   "version": "3.8.4"
  }
 },
 "nbformat": 4,
 "nbformat_minor": 5
}
