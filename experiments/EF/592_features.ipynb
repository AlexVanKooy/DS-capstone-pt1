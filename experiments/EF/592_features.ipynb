{
 "cells": [
  {
   "cell_type": "code",
   "execution_count": 1,
   "id": "exceptional-kidney",
   "metadata": {},
   "outputs": [],
   "source": [
    "import pickle; import tensorflow as tf; import pandas as pd\n",
    "import matplotlib.pyplot as plt ; import datetime; from datetime import datetime\n",
    "#print(tf.version)\n",
    "import bz2; import random; import numpy as np\n",
    "from sklearn.model_selection import train_test_split\n",
    "from sklearn.decomposition import PCA\n",
    "from sklearn import preprocessing\n",
    "from sklearn.preprocessing import StandardScaler\n",
    "from sklearn.linear_model import LogisticRegression\n",
    "from sklearn.linear_model import LinearRegression\n",
    "from sklearn.metrics import accuracy_score\n",
    "import warnings; from sklearn import metrics\n",
    "import seaborn as sns; import itertools\n",
    "warnings.filterwarnings('ignore')\n",
    "###\n",
    "import os; import os.path; from glob import glob\n",
    "import random; import shutil\n",
    "from tqdm.auto import tqdm\n",
    "import tensorflow.keras as keras\n",
    "from tensorflow.keras import backend as K\n",
    "from tensorflow.keras.optimizers import Adam\n",
    "from tensorboard.plugins.hparams import api as hp\n",
    "from sklearn.model_selection import train_test_split\n",
    "#from kerashypetune import KerasGridSearch\n",
    "from numpy import mean; from numpy import std\n",
    "from sklearn.datasets import make_classification\n",
    "from sklearn.model_selection import cross_val_score\n",
    "from sklearn.model_selection import RepeatedStratifiedKFold\n",
    "from sklearn.pipeline import Pipeline\n",
    "from sklearn.decomposition import TruncatedSVD\n",
    "from numpy.linalg import eigh; import plotly.express as px; "
   ]
  },
  {
   "cell_type": "code",
   "execution_count": 2,
   "id": "digital-field",
   "metadata": {},
   "outputs": [],
   "source": [
    "def FIPS_function(row):\n",
    "    state = str(row['stateFip']).zfill(2)\n",
    "    county = str(row['countyFip']).zfill(3)\n",
    "    return str(state + county)\n",
    "\n",
    "\n",
    "def get_above_threshold_2(dff,target,thresh):\n",
    "    \n",
    "    corr_mtrx = dff.corr(); corr_vals = corr_mtrx.values\n",
    "    flds = list(corr_mtrx.columns); numCols = corr_mtrx.shape[0]\n",
    "    \n",
    "    above_threshold = []\n",
    "    for i in range(numCols):\n",
    "        for j in range(i+1, numCols):\n",
    "            if corr_vals[i,j] > thresh:\n",
    "                if i != j:\n",
    "                    above_threshold.append([flds[i],flds[j],corr_vals[i,j]])\n",
    "    above_threshold.sort(reverse=True)\n",
    "    \n",
    "    #above = [above.append(i) for i in above_threshold if i[0] == target or if i[1] == target:]\n",
    "    list_above = []\n",
    "    for i in above_threshold:\n",
    "        if i[0] == target or i[1] == target:\n",
    "            list_above.append(i)\n",
    "            \n",
    "    return corr_mtrx, list_above\n",
    "\n",
    "\n",
    "def get_suggestions(dff,num,methodd):\n",
    "    \n",
    "    # get correlation matrix using desired method\n",
    "    og_corr_mtrx = dff.corr(method=methodd); corr_vals = og_corr_mtrx.values\n",
    "    flds = list(og_corr_mtrx.columns); numCols = og_corr_mtrx.shape[0]; \n",
    "    target_corrs = []; target = 'JHU_ConfirmedCases.data'\n",
    "    \n",
    "    # iterate throughout matrix and get all correlations associated with target\n",
    "    for i in range(numCols):\n",
    "        for j in range(i+1, numCols):\n",
    "            if i != j:\n",
    "                if flds[i] == target or flds[j] == target:\n",
    "                    target_corrs.append([flds[i],flds[j],corr_vals[i,j]])\n",
    "    \n",
    "    # convert corrs to df, sort by correlations and keep only the number of desried rows \n",
    "    s_corrs = pd.DataFrame(target_corrs,columns=['col1','col2','corr'])\n",
    "    s_corrs = s_corrs.sort_values(by='corr', ascending=False).head(num)\n",
    "    s_corrs.reset_index(drop=True); suggestion_lst=[]\n",
    "    \n",
    "    # put the names of columns into a list\n",
    "    for i, j in s_corrs.iterrows():\n",
    "        if j[\"col1\"] != target:\n",
    "            suggestion_lst.append(j['col1'])\n",
    "        if j['col2'] != target:\n",
    "            suggestion_lst.append(j['col2'])\n",
    "            \n",
    "    return suggestion_lst, s_corrs, og_corr_mtrx"
   ]
  },
  {
   "cell_type": "code",
   "execution_count": 3,
   "id": "dimensional-deployment",
   "metadata": {},
   "outputs": [
    {
     "name": "stdout",
     "output_type": "stream",
     "text": [
      "(1879589, 88) (1879589, 88)\n"
     ]
    },
    {
     "data": {
      "text/html": [
       "<div>\n",
       "<style scoped>\n",
       "    .dataframe tbody tr th:only-of-type {\n",
       "        vertical-align: middle;\n",
       "    }\n",
       "\n",
       "    .dataframe tbody tr th {\n",
       "        vertical-align: top;\n",
       "    }\n",
       "\n",
       "    .dataframe thead th {\n",
       "        text-align: right;\n",
       "    }\n",
       "</style>\n",
       "<table border=\"1\" class=\"dataframe\">\n",
       "  <thead>\n",
       "    <tr style=\"text-align: right;\">\n",
       "      <th></th>\n",
       "      <th>dates</th>\n",
       "      <th>JHU_ConfirmedCases.data</th>\n",
       "      <th>JHU_ConfirmedDeaths.data</th>\n",
       "      <th>TotalPopulation.data</th>\n",
       "      <th>MaleAndFemale_AtLeast65_Population.data</th>\n",
       "      <th>Male_Total_Population.data</th>\n",
       "      <th>Female_Total_Population.data</th>\n",
       "      <th>MaleAndFemale_Under18_Population.data</th>\n",
       "      <th>BLS_EmployedPopulation.data</th>\n",
       "      <th>BLS_EmployedPopulation.missing</th>\n",
       "      <th>...</th>\n",
       "      <th>hoursWorkedMean</th>\n",
       "      <th>unitsInStructure</th>\n",
       "      <th>healthInsTotal</th>\n",
       "      <th>healthInsNativeWith</th>\n",
       "      <th>healthInsForeignNatWith</th>\n",
       "      <th>healthInsForeignNoncitWith</th>\n",
       "      <th>healthInsForeignNatNo</th>\n",
       "      <th>healthInsForeignNoncitNo</th>\n",
       "      <th>healthInsNativeNo</th>\n",
       "      <th>pm25</th>\n",
       "    </tr>\n",
       "  </thead>\n",
       "  <tbody>\n",
       "    <tr>\n",
       "      <th>0</th>\n",
       "      <td>2020-03-19</td>\n",
       "      <td>1.0</td>\n",
       "      <td>0.0</td>\n",
       "      <td>24527.0</td>\n",
       "      <td>5343.0</td>\n",
       "      <td>11868.0</td>\n",
       "      <td>12673.0</td>\n",
       "      <td>4924.0</td>\n",
       "      <td>9716.5</td>\n",
       "      <td>0.0</td>\n",
       "      <td>...</td>\n",
       "      <td>38.1</td>\n",
       "      <td>12191</td>\n",
       "      <td>24397</td>\n",
       "      <td>21415</td>\n",
       "      <td>179</td>\n",
       "      <td>87</td>\n",
       "      <td>39</td>\n",
       "      <td>122</td>\n",
       "      <td>2555</td>\n",
       "      <td>9.618551</td>\n",
       "    </tr>\n",
       "    <tr>\n",
       "      <th>1</th>\n",
       "      <td>2020-03-20</td>\n",
       "      <td>1.0</td>\n",
       "      <td>0.0</td>\n",
       "      <td>24527.0</td>\n",
       "      <td>5343.0</td>\n",
       "      <td>11868.0</td>\n",
       "      <td>12673.0</td>\n",
       "      <td>4924.0</td>\n",
       "      <td>9716.5</td>\n",
       "      <td>0.0</td>\n",
       "      <td>...</td>\n",
       "      <td>38.1</td>\n",
       "      <td>12191</td>\n",
       "      <td>24397</td>\n",
       "      <td>21415</td>\n",
       "      <td>179</td>\n",
       "      <td>87</td>\n",
       "      <td>39</td>\n",
       "      <td>122</td>\n",
       "      <td>2555</td>\n",
       "      <td>9.618551</td>\n",
       "    </tr>\n",
       "    <tr>\n",
       "      <th>2</th>\n",
       "      <td>2020-03-21</td>\n",
       "      <td>1.0</td>\n",
       "      <td>0.0</td>\n",
       "      <td>24527.0</td>\n",
       "      <td>5343.0</td>\n",
       "      <td>11868.0</td>\n",
       "      <td>12673.0</td>\n",
       "      <td>4924.0</td>\n",
       "      <td>9716.5</td>\n",
       "      <td>0.0</td>\n",
       "      <td>...</td>\n",
       "      <td>38.1</td>\n",
       "      <td>12191</td>\n",
       "      <td>24397</td>\n",
       "      <td>21415</td>\n",
       "      <td>179</td>\n",
       "      <td>87</td>\n",
       "      <td>39</td>\n",
       "      <td>122</td>\n",
       "      <td>2555</td>\n",
       "      <td>9.618551</td>\n",
       "    </tr>\n",
       "  </tbody>\n",
       "</table>\n",
       "<p>3 rows × 88 columns</p>\n",
       "</div>"
      ],
      "text/plain": [
       "        dates  JHU_ConfirmedCases.data  JHU_ConfirmedDeaths.data  \\\n",
       "0  2020-03-19                      1.0                       0.0   \n",
       "1  2020-03-20                      1.0                       0.0   \n",
       "2  2020-03-21                      1.0                       0.0   \n",
       "\n",
       "   TotalPopulation.data  MaleAndFemale_AtLeast65_Population.data  \\\n",
       "0               24527.0                                   5343.0   \n",
       "1               24527.0                                   5343.0   \n",
       "2               24527.0                                   5343.0   \n",
       "\n",
       "   Male_Total_Population.data  Female_Total_Population.data  \\\n",
       "0                     11868.0                       12673.0   \n",
       "1                     11868.0                       12673.0   \n",
       "2                     11868.0                       12673.0   \n",
       "\n",
       "   MaleAndFemale_Under18_Population.data  BLS_EmployedPopulation.data  \\\n",
       "0                                 4924.0                       9716.5   \n",
       "1                                 4924.0                       9716.5   \n",
       "2                                 4924.0                       9716.5   \n",
       "\n",
       "   BLS_EmployedPopulation.missing  ...  hoursWorkedMean  unitsInStructure  \\\n",
       "0                             0.0  ...             38.1             12191   \n",
       "1                             0.0  ...             38.1             12191   \n",
       "2                             0.0  ...             38.1             12191   \n",
       "\n",
       "   healthInsTotal  healthInsNativeWith  healthInsForeignNatWith  \\\n",
       "0           24397                21415                      179   \n",
       "1           24397                21415                      179   \n",
       "2           24397                21415                      179   \n",
       "\n",
       "   healthInsForeignNoncitWith  healthInsForeignNatNo  \\\n",
       "0                          87                     39   \n",
       "1                          87                     39   \n",
       "2                          87                     39   \n",
       "\n",
       "   healthInsForeignNoncitNo  healthInsNativeNo      pm25  \n",
       "0                       122               2555  9.618551  \n",
       "1                       122               2555  9.618551  \n",
       "2                       122               2555  9.618551  \n",
       "\n",
       "[3 rows x 88 columns]"
      ]
     },
     "execution_count": 3,
     "metadata": {},
     "output_type": "execute_result"
    }
   ],
   "source": [
    "file_name = '/Users/evanfalkowski/Documents/Drexel/Capstone/DSCI_592/workspace/feeFiFoFum.pbz2'\n",
    "bz_file = bz2.BZ2File(file_name,'rb'); df = pd.read_pickle(bz_file)\n",
    "cols = ['NYT_ConfirmedCases.data','NYT_ConfirmedDeaths.data','NYT_ConfirmedDeaths.missing','county','LND110210','countyStateName','stateFip','countyFip']\n",
    "df.drop(cols, axis=1, inplace=True); raw_df = df.copy()\n",
    "print(df.shape,raw_df.shape); df.head(3)"
   ]
  },
  {
   "cell_type": "code",
   "execution_count": 4,
   "id": "lightweight-riding",
   "metadata": {},
   "outputs": [
    {
     "name": "stdout",
     "output_type": "stream",
     "text": [
      "(1879589, 88) 380\n",
      "(1879209, 87) 0\n"
     ]
    }
   ],
   "source": [
    "print(raw_df.shape,raw_df.isnull().sum().sum())\n",
    "raw_df = raw_df.dropna(); raw_df = raw_df.reset_index(drop = True)\n",
    "raw_df = raw_df.drop(columns='dates')\n",
    "print(raw_df.shape,raw_df.isnull().sum().sum())"
   ]
  },
  {
   "cell_type": "markdown",
   "id": "selected-container",
   "metadata": {},
   "source": [
    "## PCA\n",
    "- https://towardsdatascience.com/pca-using-python-scikit-learn-e653f8989e60\n",
    "- at 95% variance"
   ]
  },
  {
   "cell_type": "code",
   "execution_count": 34,
   "id": "liked-secondary",
   "metadata": {},
   "outputs": [
    {
     "name": "stdout",
     "output_type": "stream",
     "text": [
      "(1879209, 88)\n"
     ]
    },
    {
     "data": {
      "text/html": [
       "<div>\n",
       "<style scoped>\n",
       "    .dataframe tbody tr th:only-of-type {\n",
       "        vertical-align: middle;\n",
       "    }\n",
       "\n",
       "    .dataframe tbody tr th {\n",
       "        vertical-align: top;\n",
       "    }\n",
       "\n",
       "    .dataframe thead th {\n",
       "        text-align: right;\n",
       "    }\n",
       "</style>\n",
       "<table border=\"1\" class=\"dataframe\">\n",
       "  <thead>\n",
       "    <tr style=\"text-align: right;\">\n",
       "      <th></th>\n",
       "      <th>0</th>\n",
       "      <th>1</th>\n",
       "      <th>2</th>\n",
       "      <th>3</th>\n",
       "      <th>4</th>\n",
       "      <th>5</th>\n",
       "      <th>6</th>\n",
       "      <th>7</th>\n",
       "      <th>8</th>\n",
       "      <th>9</th>\n",
       "      <th>...</th>\n",
       "      <th>78</th>\n",
       "      <th>79</th>\n",
       "      <th>80</th>\n",
       "      <th>81</th>\n",
       "      <th>82</th>\n",
       "      <th>83</th>\n",
       "      <th>84</th>\n",
       "      <th>85</th>\n",
       "      <th>86</th>\n",
       "      <th>JHU_ConfirmedCases.data</th>\n",
       "    </tr>\n",
       "  </thead>\n",
       "  <tbody>\n",
       "    <tr>\n",
       "      <th>0</th>\n",
       "      <td>-1.564139</td>\n",
       "      <td>-0.755117</td>\n",
       "      <td>-0.114888</td>\n",
       "      <td>-1.106719</td>\n",
       "      <td>1.002595</td>\n",
       "      <td>-0.397365</td>\n",
       "      <td>0.042617</td>\n",
       "      <td>-0.152608</td>\n",
       "      <td>0.450444</td>\n",
       "      <td>-1.201397</td>\n",
       "      <td>...</td>\n",
       "      <td>1.217559e-14</td>\n",
       "      <td>-1.339001e-14</td>\n",
       "      <td>-6.837584e-16</td>\n",
       "      <td>2.001022e-14</td>\n",
       "      <td>-2.146018e-14</td>\n",
       "      <td>2.834464e-16</td>\n",
       "      <td>7.881675e-15</td>\n",
       "      <td>-9.945185e-14</td>\n",
       "      <td>-7.165531e-15</td>\n",
       "      <td>1.0</td>\n",
       "    </tr>\n",
       "    <tr>\n",
       "      <th>1</th>\n",
       "      <td>-1.555596</td>\n",
       "      <td>-0.668478</td>\n",
       "      <td>-0.153416</td>\n",
       "      <td>-0.987555</td>\n",
       "      <td>0.759823</td>\n",
       "      <td>-0.344670</td>\n",
       "      <td>-0.085902</td>\n",
       "      <td>-0.395554</td>\n",
       "      <td>-0.247785</td>\n",
       "      <td>-0.968838</td>\n",
       "      <td>...</td>\n",
       "      <td>-2.602005e-14</td>\n",
       "      <td>-5.600070e-14</td>\n",
       "      <td>-9.525339e-15</td>\n",
       "      <td>-4.425394e-14</td>\n",
       "      <td>-1.444669e-15</td>\n",
       "      <td>4.271694e-14</td>\n",
       "      <td>1.369225e-14</td>\n",
       "      <td>2.418320e-13</td>\n",
       "      <td>5.991649e-14</td>\n",
       "      <td>1.0</td>\n",
       "    </tr>\n",
       "    <tr>\n",
       "      <th>2</th>\n",
       "      <td>-1.554759</td>\n",
       "      <td>-0.599130</td>\n",
       "      <td>-0.167944</td>\n",
       "      <td>-0.869562</td>\n",
       "      <td>0.644037</td>\n",
       "      <td>-0.347350</td>\n",
       "      <td>-0.083119</td>\n",
       "      <td>-0.295409</td>\n",
       "      <td>-0.248425</td>\n",
       "      <td>-0.975986</td>\n",
       "      <td>...</td>\n",
       "      <td>-1.599064e-14</td>\n",
       "      <td>-6.221446e-16</td>\n",
       "      <td>4.145507e-15</td>\n",
       "      <td>3.205565e-14</td>\n",
       "      <td>-7.640593e-15</td>\n",
       "      <td>-1.820712e-16</td>\n",
       "      <td>7.692143e-15</td>\n",
       "      <td>-6.519218e-14</td>\n",
       "      <td>-1.172969e-14</td>\n",
       "      <td>1.0</td>\n",
       "    </tr>\n",
       "  </tbody>\n",
       "</table>\n",
       "<p>3 rows × 88 columns</p>\n",
       "</div>"
      ],
      "text/plain": [
       "          0         1         2         3         4         5         6  \\\n",
       "0 -1.564139 -0.755117 -0.114888 -1.106719  1.002595 -0.397365  0.042617   \n",
       "1 -1.555596 -0.668478 -0.153416 -0.987555  0.759823 -0.344670 -0.085902   \n",
       "2 -1.554759 -0.599130 -0.167944 -0.869562  0.644037 -0.347350 -0.083119   \n",
       "\n",
       "          7         8         9  ...            78            79  \\\n",
       "0 -0.152608  0.450444 -1.201397  ...  1.217559e-14 -1.339001e-14   \n",
       "1 -0.395554 -0.247785 -0.968838  ... -2.602005e-14 -5.600070e-14   \n",
       "2 -0.295409 -0.248425 -0.975986  ... -1.599064e-14 -6.221446e-16   \n",
       "\n",
       "             80            81            82            83            84  \\\n",
       "0 -6.837584e-16  2.001022e-14 -2.146018e-14  2.834464e-16  7.881675e-15   \n",
       "1 -9.525339e-15 -4.425394e-14 -1.444669e-15  4.271694e-14  1.369225e-14   \n",
       "2  4.145507e-15  3.205565e-14 -7.640593e-15 -1.820712e-16  7.692143e-15   \n",
       "\n",
       "             85            86  JHU_ConfirmedCases.data  \n",
       "0 -9.945185e-14 -7.165531e-15                      1.0  \n",
       "1  2.418320e-13  5.991649e-14                      1.0  \n",
       "2 -6.519218e-14 -1.172969e-14                      1.0  \n",
       "\n",
       "[3 rows x 88 columns]"
      ]
     },
     "execution_count": 34,
     "metadata": {},
     "output_type": "execute_result"
    }
   ],
   "source": [
    "target = 'JHU_ConfirmedCases.data'\n",
    "features = list(raw_df.columns) \n",
    "\n",
    "x_df = raw_df.loc[:, features].values\n",
    "x_df = StandardScaler().fit_transform(x_df)\n",
    "y_df = raw_df.loc[:,[target]].values\n",
    "\n",
    "pca = PCA(); principalComponents = pca.fit_transform(x_df)\n",
    "principalDf = pd.DataFrame(data = principalComponents)\n",
    "\n",
    "pca_df = pd.concat([principalDf, raw_df[[target]]], axis = 1)\n",
    "print(pca_df.shape); pca_df.head(3)"
   ]
  },
  {
   "cell_type": "markdown",
   "id": "smoking-pitch",
   "metadata": {},
   "source": [
    "#### Number of suggested compnents\n",
    "    - if components not set, all components are kept"
   ]
  },
  {
   "cell_type": "code",
   "execution_count": 36,
   "id": "monthly-visiting",
   "metadata": {},
   "outputs": [
    {
     "name": "stdout",
     "output_type": "stream",
     "text": [
      "Number of principle compnents:  87\n"
     ]
    }
   ],
   "source": [
    "var_expln = list(pca.explained_variance_ratio_); var_expln.sort(reverse=True)\n",
    "print('Number of principle compnents: ', len(var_expln))\n",
    "print('Original number of compnents: ', raw_df.shape[1])"
   ]
  },
  {
   "cell_type": "code",
   "execution_count": 37,
   "id": "alert-corrections",
   "metadata": {},
   "outputs": [
    {
     "data": {
      "image/png": "[encoded data removed]",
      "text/plain": [
       "<Figure size 432x288 with 1 Axes>"
      ]
     },
     "metadata": {
      "needs_background": "light"
     },
     "output_type": "display_data"
    }
   ],
   "source": [
    "cum_sum_eigenvalues = np.cumsum(var_expln)\n",
    "\n",
    "plt.bar(range(0,len(var_expln)), var_expln, alpha=0.5, align='center', label='Individual explained variance')\n",
    "plt.step(range(0,len(cum_sum_eigenvalues)), cum_sum_eigenvalues, where='mid',label='Cumulative explained variance')\n",
    "plt.ylabel('Explained variance ratio')\n",
    "plt.xlabel('Principal component index'); plt.legend(loc='best')\n",
    "plt.tight_layout(); plt.show()"
   ]
  },
  {
   "cell_type": "code",
   "execution_count": 87,
   "id": "military-investment",
   "metadata": {},
   "outputs": [],
   "source": [
    "#exp_var_cumul = np.cumsum(pca.explained_variance_ratio_)\n",
    "\n",
    "#px.area(\n",
    "#    x=range(1, exp_var_cumul.shape[0] + 1),\n",
    "#    y=exp_var_cumul,\n",
    "#    labels={\"x\": \"# Components\", \"y\": \"Explained Variance\"}\n",
    "#)"
   ]
  },
  {
   "cell_type": "code",
   "execution_count": 139,
   "id": "boxed-stack",
   "metadata": {},
   "outputs": [
    {
     "data": {
      "image/png": "[encoded data removed]",
      "text/plain": [
       "<Figure size 1152x576 with 1 Axes>"
      ]
     },
     "metadata": {
      "needs_background": "light"
     },
     "output_type": "display_data"
    }
   ],
   "source": [
    "# Plot the cumulative variance for each component\n",
    "#https://statisticallyrelevant.com/principal-component-analysis-in-python/\n",
    "plt.figure(figsize = (16, 8))\n",
    "components = np.arange(1, 88, step=1)\n",
    "variance = np.cumsum(pca.explained_variance_ratio_)\n",
    "plt.ylim(0.4,1.1)\n",
    "plt.plot(components, variance, marker='.', linestyle='-', color='black')\n",
    "plt.xlabel('Number of Components')\n",
    "plt.xticks(np.arange(1, 39, step=1))\n",
    "plt.ylabel('Cumulative variance (%)')\n",
    "plt.title('The number of components needed to explain variance')\n",
    "#95%\n",
    "plt.axhline(y=0.95, color='b', linestyle='-')\n",
    "plt.text(0.75, 0.96, '95% variance threshold', color = 'blue', fontsize=12)\n",
    "plt.text(50, 0.96, \"Components needed: \"+str(np.where(np.cumsum(pca.explained_variance_ratio_)>=0.95)[0][0]), color = \"blue\", fontsize=12)\n",
    "#90%\n",
    "plt.axhline(y=0.88, color='r', linestyle='-')\n",
    "plt.text(0.75, 0.89, '88% variance threshold', color = 'red', fontsize=12)\n",
    "plt.text(50, 0.89, \"Components needed: \"+str(np.where(np.cumsum(pca.explained_variance_ratio_)>=0.88)[0][0]), color = \"red\", fontsize=12)\n",
    "#80%\n",
    "plt.axhline(y=0.80, color='b', linestyle='-')\n",
    "plt.text(0.75, 0.81, '80% variance threshold', color = 'blue', fontsize=12)\n",
    "plt.text(50, 0.81, \"Components needed: \"+str(np.where(np.cumsum(pca.explained_variance_ratio_)>=0.80)[0][0]), color = \"blue\", fontsize=12)\n",
    "plt.show()"
   ]
  },
  {
   "cell_type": "code",
   "execution_count": 78,
   "id": "average-prerequisite",
   "metadata": {},
   "outputs": [
    {
     "data": {
      "image/png": "[encoded data removed]",
      "text/plain": [
       "<Figure size 1296x576 with 1 Axes>"
      ]
     },
     "metadata": {
      "needs_background": "light"
     },
     "output_type": "display_data"
    }
   ],
   "source": [
    "# Scree plot\n",
    "\n",
    "\n",
    "plt.figure(figsize=(18, 8))\n",
    "components = np.arange(1, 88, step=1)\n",
    "eigenvalues = pca.explained_variance_\n",
    "plt.plot(components, eigenvalues, marker = '.', linestyle = '-', color = 'black')\n",
    "#plt.ylim(0, max(eigenvalues))\n",
    "plt.ylim(0, max(eigenvalues)/4)\n",
    "plt.ylabel('Eigenvalue')\n",
    "plt.xlabel('Number of Components')\n",
    "plt.xticks(np.arange(1, 88, step = 1))\n",
    "plt.title('Scree plot')\n",
    "plt.axhline(y=1, color = 'r', linestyle = '-')\n",
    "plt.text(0, 1.11, 'Eigenvalue Cutoff', color = 'red', fontsize=12)\n",
    "plt.text(45, 1.11, 'Components Needed: '+str(np.where(eigenvalues<=1)[0][0]), \n",
    "                 color = 'red', fontsize=12)\n",
    "plt.show()"
   ]
  },
  {
   "cell_type": "markdown",
   "id": "signed-specific",
   "metadata": {},
   "source": [
    "The above scree plot contains the eigenvalues on the y axis and the number of components \n",
    "on the x axis. A general rule of thumb, is to keep number of components that have an \n",
    "eigenvalue greater than 1. The scree plot suggests to keep 17 components. "
   ]
  },
  {
   "cell_type": "markdown",
   "id": "capable-antibody",
   "metadata": {},
   "source": [
    "## Suggestions from correlations and components"
   ]
  },
  {
   "cell_type": "markdown",
   "id": "aboriginal-potter",
   "metadata": {},
   "source": [
    "#### Pearson"
   ]
  },
  {
   "cell_type": "code",
   "execution_count": 81,
   "id": "empty-japan",
   "metadata": {
    "scrolled": true
   },
   "outputs": [
    {
     "name": "stdout",
     "output_type": "stream",
     "text": [
      "                      col1                         col2      corr\n",
      "0  JHU_ConfirmedCases.data     JHU_ConfirmedDeaths.data  0.957832\n",
      "6  JHU_ConfirmedCases.data  BLS_EmployedPopulation.data  0.782552\n",
      "---\n",
      "                       col1              col2      corr\n",
      "76  JHU_ConfirmedCases.data  unitsInStructure  0.763475\n",
      "66  JHU_ConfirmedCases.data     houseFamily65  0.763316\n"
     ]
    }
   ],
   "source": [
    "p_suggestions, p_suggestion_df, p_corr_matrx = get_suggestions(raw_df,17,'pearson')\n",
    "print(p_suggestion_df.head(2));print('---');print(p_suggestion_df.tail(2))"
   ]
  },
  {
   "cell_type": "markdown",
   "id": "loaded-tunnel",
   "metadata": {},
   "source": [
    "#### Spearman"
   ]
  },
  {
   "cell_type": "code",
   "execution_count": 82,
   "id": "billion-pakistan",
   "metadata": {},
   "outputs": [
    {
     "name": "stdout",
     "output_type": "stream",
     "text": [
      "                       col1                        col2      corr\n",
      "0   JHU_ConfirmedCases.data    JHU_ConfirmedDeaths.data  0.949478\n",
      "41  JHU_ConfirmedCases.data  jhu_daily_cases_rolling_30  0.783351\n",
      "---\n",
      "                       col1         col2      corr\n",
      "69  JHU_ConfirmedCases.data  house2+No65  0.614664\n",
      "62  JHU_ConfirmedCases.data   totalTrans  0.612343\n"
     ]
    }
   ],
   "source": [
    "s_suggestions, s_suggestion_df, s_corr_matrx = get_suggestions(raw_df,17,'spearman')\n",
    "print(s_suggestion_df.head(2));print('---');print(s_suggestion_df.tail(2))"
   ]
  },
  {
   "cell_type": "markdown",
   "id": "streaming-assistant",
   "metadata": {},
   "source": [
    "## List of suggestions\n",
    "- I used pearson and spearman correlation to give me the top correlated features\n",
    "- Using the number of suggested components from pca to determine number of returned features"
   ]
  },
  {
   "cell_type": "code",
   "execution_count": 83,
   "id": "verified-personal",
   "metadata": {},
   "outputs": [
    {
     "data": {
      "text/plain": [
       "['JHU_ConfirmedDeaths.data',\n",
       " 'BLS_EmployedPopulation.data',\n",
       " 'BLS_LaborForcePopulation.data',\n",
       " 'healthInsTotal',\n",
       " 'totalMoved',\n",
       " 'Female_Total_Population.data',\n",
       " 'TotalPopulation.data',\n",
       " 'latestTotalPopulation',\n",
       " 'Male_Total_Population.data',\n",
       " 'MaleAndFemale_Under18_Population.data',\n",
       " 'totalTrans',\n",
       " 'houseFamilyNo65',\n",
       " 'householdStructuresTotal',\n",
       " 'householdsTotal',\n",
       " 'house2+No65',\n",
       " 'unitsInStructure',\n",
       " 'houseFamily65']"
      ]
     },
     "execution_count": 83,
     "metadata": {},
     "output_type": "execute_result"
    }
   ],
   "source": [
    "p_suggestions #pearson"
   ]
  },
  {
   "cell_type": "code",
   "execution_count": 84,
   "id": "capable-literacy",
   "metadata": {},
   "outputs": [
    {
     "data": {
      "text/plain": [
       "['JHU_ConfirmedDeaths.data',\n",
       " 'jhu_daily_cases_rolling_30',\n",
       " 'jhu_daily_new_cases_rolling_30',\n",
       " 'jhu_daily_new_cases_rolling_7',\n",
       " 'jhu_daily_cases_rolling_7',\n",
       " 'jhu_daily_death_rolling_30',\n",
       " 'MaleAndFemale_Under18_Population.data',\n",
       " 'totalMoved',\n",
       " 'Male_Total_Population.data',\n",
       " 'TotalPopulation.data',\n",
       " 'latestTotalPopulation',\n",
       " 'houseFamilyNo65',\n",
       " 'healthInsTotal',\n",
       " 'Female_Total_Population.data',\n",
       " 'houseNo65',\n",
       " 'house2+No65',\n",
       " 'totalTrans']"
      ]
     },
     "execution_count": 84,
     "metadata": {},
     "output_type": "execute_result"
    }
   ],
   "source": [
    "s_suggestions #spearman"
   ]
  },
  {
   "cell_type": "code",
   "execution_count": 85,
   "id": "weird-czech",
   "metadata": {},
   "outputs": [
    {
     "name": "stdout",
     "output_type": "stream",
     "text": [
      "difference between spearman and pearson\n",
      "['houseNo65', 'jhu_daily_new_cases_rolling_7', 'jhu_daily_death_rolling_30', 'jhu_daily_cases_rolling_7', 'jhu_daily_cases_rolling_30', 'jhu_daily_new_cases_rolling_30']\n",
      "difference between pearson and spearman\n",
      "['houseFamily65', 'BLS_EmployedPopulation.data', 'householdsTotal', 'BLS_LaborForcePopulation.data', 'householdStructuresTotal', 'unitsInStructure']\n"
     ]
    }
   ],
   "source": [
    "print('difference between spearman and pearson')\n",
    "print(list(set(s_suggestions).difference(p_suggestions))) # difference between spearman and pearson\n",
    "print('difference between pearson and spearman')\n",
    "print(list(set(p_suggestions).difference(s_suggestions))) # difference between pearson and spearman"
   ]
  },
  {
   "cell_type": "code",
   "execution_count": 30,
   "id": "dying-strap",
   "metadata": {},
   "outputs": [],
   "source": [
    "#p_suggestion_df; #s_suggestion_df"
   ]
  },
  {
   "cell_type": "markdown",
   "id": "labeled-cylinder",
   "metadata": {},
   "source": [
    "### Other dimensionality techniques\n",
    " - #https://towardsdatascience.com/dimensionality-reduction-with-python-d3fac4e57c71\n",
    " - #https://scikit-learn.org/stable/modules/generated/sklearn.decomposition.PCA.html\n",
    " - #https://www.learndatasci.com/tutorials/applied-dimensionality-reduction-techniques-using-python/\n",
    " - #https://statisticallyrelevant.com/principal-component-analysis-in-python/"
   ]
  },
  {
   "cell_type": "code",
   "execution_count": 88,
   "id": "binding-aruba",
   "metadata": {},
   "outputs": [
    {
     "name": "stdout",
     "output_type": "stream",
     "text": [
      "Original number of features: 87\n",
      "Reduced number of features: 37\n"
     ]
    }
   ],
   "source": [
    "###from above \n",
    "#target = 'JHU_ConfirmedCases.data'; features = list(raw_df.columns) \n",
    "#x_df = raw_df.loc[:, features].values; x_df = StandardScaler().fit_transform(x_df)\n",
    "#y_df = raw_df.loc[:,[target]].values\n",
    "\n",
    "pca_2 = PCA(n_components=0.99, whiten=True)\n",
    "features_pca = pca_2.fit_transform(x_df)\n",
    "\n",
    "print(\"Original number of features:\", raw_df.shape[1])\n",
    "print(\"Reduced number of features:\", features_pca.shape[1])"
   ]
  },
  {
   "cell_type": "code",
   "execution_count": 101,
   "id": "velvet-rings",
   "metadata": {},
   "outputs": [],
   "source": [
    "###Irrelevant features in classification\n",
    "\n",
    "#from sklearn.feature_selection import SelectKBest\n",
    "#from sklearn.feature_selection import chi2, f_classif\n",
    "\n",
    "#xx = raw_df[features].astype(int)\n",
    "#chi2_selector = SelectKBest(chi2, k=17)\n",
    "#features_kbest = chi2_selector.fit_transform(xx,raw_df[target])\n",
    "# Show results\n",
    "#print(\"Original number of features:\", raw_df.shape[1])\n",
    "#print(\"Reduced number of features:\", features_kbest.shape[1])\n",
    "\n",
    "##error x must be non-negative"
   ]
  },
  {
   "cell_type": "code",
   "execution_count": 103,
   "id": "fuzzy-asian",
   "metadata": {},
   "outputs": [
    {
     "data": {
      "text/plain": [
       "array([[1.0, 0.0],\n",
       "       [1.0, 0.0],\n",
       "       [1.0, 0.0],\n",
       "       ...,\n",
       "       [501.0, 0.0],\n",
       "       [501.0, 0.0],\n",
       "       [501.0, 0.0]], dtype=object)"
      ]
     },
     "execution_count": 103,
     "metadata": {},
     "output_type": "execute_result"
    }
   ],
   "source": [
    "#### recursive feature elimination\n",
    "import warnings;from sklearn.feature_selection import RFECV;from sklearn import linear_model\n",
    "\n",
    "# Generate features matrix, target vector, and the true coefficients\n",
    "#features, target = make_regression(n_samples = 10000, n_features = 100, n_informative = 2, random_state = 1)\n",
    "lr = linear_model.LinearRegression()\n",
    "\n",
    "# Recursively eliminate features\n",
    "rfecv = RFECV(estimator=lr, step=1, scoring=\"neg_mean_squared_error\")\n",
    "rfecv.fit(raw_df[features], raw_df[target])\n",
    "rfecv.transform(raw_df[features])\n"
   ]
  },
  {
   "cell_type": "code",
   "execution_count": 122,
   "id": "dental-small",
   "metadata": {},
   "outputs": [
    {
     "name": "stdout",
     "output_type": "stream",
     "text": [
      "RFECV(estimator=LinearRegression(), scoring='neg_mean_squared_error')\n",
      "2 87\n"
     ]
    },
    {
     "data": {
      "text/plain": [
       "array([ 1, 44, 61, 21, 75, 73, 65, 86, 41, 81, 36, 27, 43, 82, 42, 38, 25,\n",
       "       32, 35, 24, 30, 29, 37, 12, 34, 14, 69, 48, 28, 52, 26, 49, 33, 31,\n",
       "       76, 85, 17, 47, 45, 78, 40, 39, 15, 54, 60,  1,  4,  2, 59,  3,  5,\n",
       "        6,  9,  7,  8, 10, 11, 16, 46, 20, 56, 71, 57, 79, 77, 74, 22, 53,\n",
       "       51, 80, 19, 68, 62, 64, 72, 84, 13, 83, 18, 58, 67, 70, 63, 55, 50,\n",
       "       66, 23])"
      ]
     },
     "execution_count": 122,
     "metadata": {},
     "output_type": "execute_result"
    }
   ],
   "source": [
    "##https://scikit-learn.org/stable/modules/generated/sklearn.feature_selection.RFECV.html\n",
    "print(rfecv); print(rfecv.n_features_, rfecv.n_features_in_)\n",
    "rfecv.ranking_"
   ]
  },
  {
   "cell_type": "code",
   "execution_count": 128,
   "id": "commercial-norwegian",
   "metadata": {},
   "outputs": [
    {
     "name": "stdout",
     "output_type": "stream",
     "text": [
      "JHU_ConfirmedCases.data\n",
      "jhu_death_rate\n"
     ]
    }
   ],
   "source": [
    "### support masks the variable if you should use it or not, masks with true or false\n",
    "for i in range(rfecv.n_features_in_):\n",
    "    if rfecv.support_[i] == True:\n",
    "        print(rfecv.feature_names_in_[i])\n",
    "        "
   ]
  },
  {
   "cell_type": "code",
   "execution_count": 136,
   "id": "relative-irish",
   "metadata": {},
   "outputs": [
    {
     "name": "stdout",
     "output_type": "stream",
     "text": [
      "JHU_ConfirmedCases.data\n",
      "AveragePrecipitationTotal.data\n",
      "AveragePrecipitation.data\n",
      "jhu_daily_death\n",
      "jhu_daily_death_rolling_30\n",
      "jhu_death_rate\n",
      "jhu_case_rate\n",
      "jhu_new_case_rate\n",
      "icu_beds_per_person\n",
      "staffed_beds_per_person\n",
      "licensed_beds_per_person\n",
      "cold_days\n",
      "hot_days\n",
      "moderate_days\n",
      "gte_65_percent\n",
      "lt_18_percent\n",
      "employed_percent\n",
      "gini\n",
      "unitsInStructure\n"
     ]
    }
   ],
   "source": [
    "## ranking ranks the variables of usefulness, 1 to the # of features you have\n",
    "### set to pca suggestion number of components\n",
    "for i in range(rfecv.n_features_in_):\n",
    "    if rfecv.ranking_[i] <= 18:\n",
    "        print(rfecv.feature_names_in_[i])"
   ]
  },
  {
   "cell_type": "code",
   "execution_count": 140,
   "id": "approximate-ballot",
   "metadata": {},
   "outputs": [],
   "source": [
    "## trying this next --> #RFECV visualizer with a linear SVM classifier\n",
    "\n",
    "#from sklearn.svm import SVC; from yellowbrick.model_selection import RFECV\n",
    "#visualizer = RFECV(SVC(kernel='linear', C=1))\n",
    "#visualizer.fit(raw_df[features], raw_df[target]) # Fit the data to the visualizer\n",
    "#visualizer.show()   # Finalize and render the figure"
   ]
  },
  {
   "cell_type": "code",
   "execution_count": null,
   "id": "demanding-guidance",
   "metadata": {},
   "outputs": [],
   "source": []
  }
 ],
 "metadata": {
  "kernelspec": {
   "display_name": "Python 3",
   "language": "python",
   "name": "python3"
  },
  "language_info": {
   "codemirror_mode": {
    "name": "ipython",
    "version": 3
   },
   "file_extension": ".py",
   "mimetype": "text/x-python",
   "name": "python",
   "nbconvert_exporter": "python",
   "pygments_lexer": "ipython3",
   "version": "3.8.4"
  }
 },
 "nbformat": 4,
 "nbformat_minor": 5
}
