{
 "cells": [
  {
   "cell_type": "code",
   "execution_count": 5,
   "id": "exceptional-kidney",
   "metadata": {},
   "outputs": [],
   "source": [
    "import pickle\n",
    "import tensorflow as tf\n",
    "import pandas as pd\n",
    "import matplotlib.pyplot as plt\n",
    "import datetime\n",
    "from datetime import datetime\n",
    "#print(tf.version)\n",
    "import bz2\n",
    "import random\n",
    "import numpy as np\n",
    "from sklearn.model_selection import train_test_split\n",
    "from sklearn.decomposition import PCA\n",
    "from sklearn import preprocessing\n",
    "from sklearn.preprocessing import StandardScaler\n",
    "from sklearn.linear_model import LogisticRegression\n",
    "from sklearn.linear_model import LinearRegression\n",
    "from sklearn.metrics import accuracy_score\n",
    "import matplotlib.pyplot as plt\n",
    "import warnings\n",
    "from sklearn import metrics\n",
    "import seaborn as sns\n",
    "import itertools\n",
    "warnings.filterwarnings('ignore')"
   ]
  },
  {
   "cell_type": "code",
   "execution_count": 6,
   "id": "creative-sleeping",
   "metadata": {},
   "outputs": [],
   "source": [
    "import os\n",
    "import os.path\n",
    "from glob import glob\n",
    "import random\n",
    "import shutil\n",
    "from tqdm.auto import tqdm\n",
    "import tensorflow as tf\n",
    "import tensorflow.keras as keras\n",
    "from tensorflow.keras import backend as K\n",
    "from tensorflow.keras.optimizers import Adam\n",
    "from tensorboard.plugins.hparams import api as hp\n",
    "from sklearn.model_selection import train_test_split\n",
    "#from kerashypetune import KerasGridSearch"
   ]
  },
  {
   "cell_type": "code",
   "execution_count": 7,
   "id": "digital-field",
   "metadata": {},
   "outputs": [],
   "source": [
    "def FIPS_function(row):\n",
    "    state = str(row['stateFip']).zfill(2)\n",
    "    county = str(row['countyFip']).zfill(3)\n",
    "    return str(state + county)"
   ]
  },
  {
   "cell_type": "markdown",
   "id": "dying-butter",
   "metadata": {},
   "source": [
    "### --- Note ---\n",
    "- Original load, but I used different dfs throughout on different parts.\n",
    "- Wanted to make sure I was doing it correctly before I ran on the whole"
   ]
  },
  {
   "cell_type": "code",
   "execution_count": 8,
   "id": "dimensional-deployment",
   "metadata": {},
   "outputs": [
    {
     "data": {
      "text/html": [
       "<div>\n",
       "<style scoped>\n",
       "    .dataframe tbody tr th:only-of-type {\n",
       "        vertical-align: middle;\n",
       "    }\n",
       "\n",
       "    .dataframe tbody tr th {\n",
       "        vertical-align: top;\n",
       "    }\n",
       "\n",
       "    .dataframe thead th {\n",
       "        text-align: right;\n",
       "    }\n",
       "</style>\n",
       "<table border=\"1\" class=\"dataframe\">\n",
       "  <thead>\n",
       "    <tr style=\"text-align: right;\">\n",
       "      <th></th>\n",
       "      <th>dates</th>\n",
       "      <th>JHU_ConfirmedCases.data</th>\n",
       "      <th>NYT_ConfirmedCases.data</th>\n",
       "      <th>JHU_ConfirmedDeaths.data</th>\n",
       "      <th>NYT_ConfirmedDeaths.data</th>\n",
       "      <th>NYT_ConfirmedDeaths.missing</th>\n",
       "      <th>TotalPopulation.data</th>\n",
       "      <th>MaleAndFemale_AtLeast65_Population.data</th>\n",
       "      <th>Male_Total_Population.data</th>\n",
       "      <th>Female_Total_Population.data</th>\n",
       "      <th>...</th>\n",
       "      <th>healthInsNativeWith</th>\n",
       "      <th>healthInsForeignNatWith</th>\n",
       "      <th>healthInsForeignNoncitWith</th>\n",
       "      <th>healthInsForeignNatNo</th>\n",
       "      <th>healthInsForeignNoncitNo</th>\n",
       "      <th>healthInsNativeNo</th>\n",
       "      <th>countyStateName</th>\n",
       "      <th>stateFip</th>\n",
       "      <th>countyFip</th>\n",
       "      <th>pm25</th>\n",
       "    </tr>\n",
       "  </thead>\n",
       "  <tbody>\n",
       "    <tr>\n",
       "      <th>0</th>\n",
       "      <td>2020-03-19</td>\n",
       "      <td>1.0</td>\n",
       "      <td>1.0</td>\n",
       "      <td>0.0</td>\n",
       "      <td>0.0</td>\n",
       "      <td>0</td>\n",
       "      <td>24527.0</td>\n",
       "      <td>5343.0</td>\n",
       "      <td>11868.0</td>\n",
       "      <td>12673.0</td>\n",
       "      <td>...</td>\n",
       "      <td>21415</td>\n",
       "      <td>179</td>\n",
       "      <td>87</td>\n",
       "      <td>39</td>\n",
       "      <td>122</td>\n",
       "      <td>2555</td>\n",
       "      <td>Abbeville County, South Carolina</td>\n",
       "      <td>45</td>\n",
       "      <td>001</td>\n",
       "      <td>9.618551</td>\n",
       "    </tr>\n",
       "    <tr>\n",
       "      <th>1</th>\n",
       "      <td>2020-03-20</td>\n",
       "      <td>1.0</td>\n",
       "      <td>1.0</td>\n",
       "      <td>0.0</td>\n",
       "      <td>0.0</td>\n",
       "      <td>0</td>\n",
       "      <td>24527.0</td>\n",
       "      <td>5343.0</td>\n",
       "      <td>11868.0</td>\n",
       "      <td>12673.0</td>\n",
       "      <td>...</td>\n",
       "      <td>21415</td>\n",
       "      <td>179</td>\n",
       "      <td>87</td>\n",
       "      <td>39</td>\n",
       "      <td>122</td>\n",
       "      <td>2555</td>\n",
       "      <td>Abbeville County, South Carolina</td>\n",
       "      <td>45</td>\n",
       "      <td>001</td>\n",
       "      <td>9.618551</td>\n",
       "    </tr>\n",
       "    <tr>\n",
       "      <th>2</th>\n",
       "      <td>2020-03-21</td>\n",
       "      <td>1.0</td>\n",
       "      <td>1.0</td>\n",
       "      <td>0.0</td>\n",
       "      <td>0.0</td>\n",
       "      <td>0</td>\n",
       "      <td>24527.0</td>\n",
       "      <td>5343.0</td>\n",
       "      <td>11868.0</td>\n",
       "      <td>12673.0</td>\n",
       "      <td>...</td>\n",
       "      <td>21415</td>\n",
       "      <td>179</td>\n",
       "      <td>87</td>\n",
       "      <td>39</td>\n",
       "      <td>122</td>\n",
       "      <td>2555</td>\n",
       "      <td>Abbeville County, South Carolina</td>\n",
       "      <td>45</td>\n",
       "      <td>001</td>\n",
       "      <td>9.618551</td>\n",
       "    </tr>\n",
       "    <tr>\n",
       "      <th>3</th>\n",
       "      <td>2020-03-22</td>\n",
       "      <td>1.0</td>\n",
       "      <td>1.0</td>\n",
       "      <td>0.0</td>\n",
       "      <td>0.0</td>\n",
       "      <td>0</td>\n",
       "      <td>24527.0</td>\n",
       "      <td>5343.0</td>\n",
       "      <td>11868.0</td>\n",
       "      <td>12673.0</td>\n",
       "      <td>...</td>\n",
       "      <td>21415</td>\n",
       "      <td>179</td>\n",
       "      <td>87</td>\n",
       "      <td>39</td>\n",
       "      <td>122</td>\n",
       "      <td>2555</td>\n",
       "      <td>Abbeville County, South Carolina</td>\n",
       "      <td>45</td>\n",
       "      <td>001</td>\n",
       "      <td>9.618551</td>\n",
       "    </tr>\n",
       "    <tr>\n",
       "      <th>4</th>\n",
       "      <td>2020-03-23</td>\n",
       "      <td>1.0</td>\n",
       "      <td>1.0</td>\n",
       "      <td>0.0</td>\n",
       "      <td>0.0</td>\n",
       "      <td>0</td>\n",
       "      <td>24527.0</td>\n",
       "      <td>5343.0</td>\n",
       "      <td>11868.0</td>\n",
       "      <td>12673.0</td>\n",
       "      <td>...</td>\n",
       "      <td>21415</td>\n",
       "      <td>179</td>\n",
       "      <td>87</td>\n",
       "      <td>39</td>\n",
       "      <td>122</td>\n",
       "      <td>2555</td>\n",
       "      <td>Abbeville County, South Carolina</td>\n",
       "      <td>45</td>\n",
       "      <td>001</td>\n",
       "      <td>9.618551</td>\n",
       "    </tr>\n",
       "  </tbody>\n",
       "</table>\n",
       "<p>5 rows × 96 columns</p>\n",
       "</div>"
      ],
      "text/plain": [
       "        dates  JHU_ConfirmedCases.data  NYT_ConfirmedCases.data  \\\n",
       "0  2020-03-19                      1.0                      1.0   \n",
       "1  2020-03-20                      1.0                      1.0   \n",
       "2  2020-03-21                      1.0                      1.0   \n",
       "3  2020-03-22                      1.0                      1.0   \n",
       "4  2020-03-23                      1.0                      1.0   \n",
       "\n",
       "   JHU_ConfirmedDeaths.data  NYT_ConfirmedDeaths.data  \\\n",
       "0                       0.0                       0.0   \n",
       "1                       0.0                       0.0   \n",
       "2                       0.0                       0.0   \n",
       "3                       0.0                       0.0   \n",
       "4                       0.0                       0.0   \n",
       "\n",
       "   NYT_ConfirmedDeaths.missing  TotalPopulation.data  \\\n",
       "0                            0               24527.0   \n",
       "1                            0               24527.0   \n",
       "2                            0               24527.0   \n",
       "3                            0               24527.0   \n",
       "4                            0               24527.0   \n",
       "\n",
       "   MaleAndFemale_AtLeast65_Population.data  Male_Total_Population.data  \\\n",
       "0                                   5343.0                     11868.0   \n",
       "1                                   5343.0                     11868.0   \n",
       "2                                   5343.0                     11868.0   \n",
       "3                                   5343.0                     11868.0   \n",
       "4                                   5343.0                     11868.0   \n",
       "\n",
       "   Female_Total_Population.data  ...  healthInsNativeWith  \\\n",
       "0                       12673.0  ...                21415   \n",
       "1                       12673.0  ...                21415   \n",
       "2                       12673.0  ...                21415   \n",
       "3                       12673.0  ...                21415   \n",
       "4                       12673.0  ...                21415   \n",
       "\n",
       "   healthInsForeignNatWith  healthInsForeignNoncitWith  healthInsForeignNatNo  \\\n",
       "0                      179                          87                     39   \n",
       "1                      179                          87                     39   \n",
       "2                      179                          87                     39   \n",
       "3                      179                          87                     39   \n",
       "4                      179                          87                     39   \n",
       "\n",
       "   healthInsForeignNoncitNo  healthInsNativeNo  \\\n",
       "0                       122               2555   \n",
       "1                       122               2555   \n",
       "2                       122               2555   \n",
       "3                       122               2555   \n",
       "4                       122               2555   \n",
       "\n",
       "                    countyStateName  stateFip  countyFip      pm25  \n",
       "0  Abbeville County, South Carolina        45        001  9.618551  \n",
       "1  Abbeville County, South Carolina        45        001  9.618551  \n",
       "2  Abbeville County, South Carolina        45        001  9.618551  \n",
       "3  Abbeville County, South Carolina        45        001  9.618551  \n",
       "4  Abbeville County, South Carolina        45        001  9.618551  \n",
       "\n",
       "[5 rows x 96 columns]"
      ]
     },
     "execution_count": 8,
     "metadata": {},
     "output_type": "execute_result"
    }
   ],
   "source": [
    "bz_file = bz2.BZ2File(\"feeFiFoFum.pbz2\",'rb')\n",
    "df = pd.read_pickle(bz_file)\n",
    "df.head()"
   ]
  },
  {
   "cell_type": "code",
   "execution_count": 9,
   "id": "wrong-wheel",
   "metadata": {},
   "outputs": [],
   "source": [
    "### Drop non-numeric and unnecessary columns\n",
    "cols = ['NYT_ConfirmedCases.data','NYT_ConfirmedDeaths.data','NYT_ConfirmedDeaths.missing','county','LND110210','countyStateName','stateFip','countyFip']\n",
    "df.drop(cols, axis=1, inplace=True)"
   ]
  },
  {
   "cell_type": "markdown",
   "id": "valued-chambers",
   "metadata": {},
   "source": [
    "## --------- Update EDA ----------\n",
    "\n",
    "- I can do some plots, and then suggestions for other EDA i could include???\n",
    "- I think I can run it on the entire dataset, it just takes a while and wanted to make sure it   was right before I did it"
   ]
  },
  {
   "cell_type": "markdown",
   "id": "creative-healthcare",
   "metadata": {},
   "source": [
    "## df2 is used throughout EDA"
   ]
  },
  {
   "cell_type": "code",
   "execution_count": 10,
   "id": "german-jamaica",
   "metadata": {},
   "outputs": [
    {
     "name": "stdout",
     "output_type": "stream",
     "text": [
      "(1879589, 88)\n",
      "187.9589\n"
     ]
    }
   ],
   "source": [
    "print(df.shape); print(1879589/10000)"
   ]
  },
  {
   "cell_type": "code",
   "execution_count": 11,
   "id": "charged-paraguay",
   "metadata": {},
   "outputs": [
    {
     "data": {
      "text/html": [
       "<div>\n",
       "<style scoped>\n",
       "    .dataframe tbody tr th:only-of-type {\n",
       "        vertical-align: middle;\n",
       "    }\n",
       "\n",
       "    .dataframe tbody tr th {\n",
       "        vertical-align: top;\n",
       "    }\n",
       "\n",
       "    .dataframe thead th {\n",
       "        text-align: right;\n",
       "    }\n",
       "</style>\n",
       "<table border=\"1\" class=\"dataframe\">\n",
       "  <thead>\n",
       "    <tr style=\"text-align: right;\">\n",
       "      <th></th>\n",
       "      <th>dates</th>\n",
       "      <th>JHU_ConfirmedCases.data</th>\n",
       "      <th>JHU_ConfirmedDeaths.data</th>\n",
       "      <th>TotalPopulation.data</th>\n",
       "      <th>MaleAndFemale_AtLeast65_Population.data</th>\n",
       "      <th>Male_Total_Population.data</th>\n",
       "      <th>Female_Total_Population.data</th>\n",
       "      <th>MaleAndFemale_Under18_Population.data</th>\n",
       "      <th>BLS_EmployedPopulation.data</th>\n",
       "      <th>BLS_EmployedPopulation.missing</th>\n",
       "      <th>...</th>\n",
       "      <th>hoursWorkedMean</th>\n",
       "      <th>unitsInStructure</th>\n",
       "      <th>healthInsTotal</th>\n",
       "      <th>healthInsNativeWith</th>\n",
       "      <th>healthInsForeignNatWith</th>\n",
       "      <th>healthInsForeignNoncitWith</th>\n",
       "      <th>healthInsForeignNatNo</th>\n",
       "      <th>healthInsForeignNoncitNo</th>\n",
       "      <th>healthInsNativeNo</th>\n",
       "      <th>pm25</th>\n",
       "    </tr>\n",
       "  </thead>\n",
       "  <tbody>\n",
       "    <tr>\n",
       "      <th>0</th>\n",
       "      <td>2020-03-19</td>\n",
       "      <td>1.0</td>\n",
       "      <td>0.0</td>\n",
       "      <td>24527.0</td>\n",
       "      <td>5343.0</td>\n",
       "      <td>11868.0</td>\n",
       "      <td>12673.0</td>\n",
       "      <td>4924.0</td>\n",
       "      <td>9716.5</td>\n",
       "      <td>0.0</td>\n",
       "      <td>...</td>\n",
       "      <td>38.1</td>\n",
       "      <td>12191</td>\n",
       "      <td>24397</td>\n",
       "      <td>21415</td>\n",
       "      <td>179</td>\n",
       "      <td>87</td>\n",
       "      <td>39</td>\n",
       "      <td>122</td>\n",
       "      <td>2555</td>\n",
       "      <td>9.618551</td>\n",
       "    </tr>\n",
       "    <tr>\n",
       "      <th>1</th>\n",
       "      <td>2020-03-20</td>\n",
       "      <td>1.0</td>\n",
       "      <td>0.0</td>\n",
       "      <td>24527.0</td>\n",
       "      <td>5343.0</td>\n",
       "      <td>11868.0</td>\n",
       "      <td>12673.0</td>\n",
       "      <td>4924.0</td>\n",
       "      <td>9716.5</td>\n",
       "      <td>0.0</td>\n",
       "      <td>...</td>\n",
       "      <td>38.1</td>\n",
       "      <td>12191</td>\n",
       "      <td>24397</td>\n",
       "      <td>21415</td>\n",
       "      <td>179</td>\n",
       "      <td>87</td>\n",
       "      <td>39</td>\n",
       "      <td>122</td>\n",
       "      <td>2555</td>\n",
       "      <td>9.618551</td>\n",
       "    </tr>\n",
       "    <tr>\n",
       "      <th>2</th>\n",
       "      <td>2020-03-21</td>\n",
       "      <td>1.0</td>\n",
       "      <td>0.0</td>\n",
       "      <td>24527.0</td>\n",
       "      <td>5343.0</td>\n",
       "      <td>11868.0</td>\n",
       "      <td>12673.0</td>\n",
       "      <td>4924.0</td>\n",
       "      <td>9716.5</td>\n",
       "      <td>0.0</td>\n",
       "      <td>...</td>\n",
       "      <td>38.1</td>\n",
       "      <td>12191</td>\n",
       "      <td>24397</td>\n",
       "      <td>21415</td>\n",
       "      <td>179</td>\n",
       "      <td>87</td>\n",
       "      <td>39</td>\n",
       "      <td>122</td>\n",
       "      <td>2555</td>\n",
       "      <td>9.618551</td>\n",
       "    </tr>\n",
       "  </tbody>\n",
       "</table>\n",
       "<p>3 rows × 88 columns</p>\n",
       "</div>"
      ],
      "text/plain": [
       "        dates  JHU_ConfirmedCases.data  JHU_ConfirmedDeaths.data  \\\n",
       "0  2020-03-19                      1.0                       0.0   \n",
       "1  2020-03-20                      1.0                       0.0   \n",
       "2  2020-03-21                      1.0                       0.0   \n",
       "\n",
       "   TotalPopulation.data  MaleAndFemale_AtLeast65_Population.data  \\\n",
       "0               24527.0                                   5343.0   \n",
       "1               24527.0                                   5343.0   \n",
       "2               24527.0                                   5343.0   \n",
       "\n",
       "   Male_Total_Population.data  Female_Total_Population.data  \\\n",
       "0                     11868.0                       12673.0   \n",
       "1                     11868.0                       12673.0   \n",
       "2                     11868.0                       12673.0   \n",
       "\n",
       "   MaleAndFemale_Under18_Population.data  BLS_EmployedPopulation.data  \\\n",
       "0                                 4924.0                       9716.5   \n",
       "1                                 4924.0                       9716.5   \n",
       "2                                 4924.0                       9716.5   \n",
       "\n",
       "   BLS_EmployedPopulation.missing  ...  hoursWorkedMean  unitsInStructure  \\\n",
       "0                             0.0  ...             38.1             12191   \n",
       "1                             0.0  ...             38.1             12191   \n",
       "2                             0.0  ...             38.1             12191   \n",
       "\n",
       "   healthInsTotal  healthInsNativeWith  healthInsForeignNatWith  \\\n",
       "0           24397                21415                      179   \n",
       "1           24397                21415                      179   \n",
       "2           24397                21415                      179   \n",
       "\n",
       "   healthInsForeignNoncitWith  healthInsForeignNatNo  \\\n",
       "0                          87                     39   \n",
       "1                          87                     39   \n",
       "2                          87                     39   \n",
       "\n",
       "   healthInsForeignNoncitNo  healthInsNativeNo      pm25  \n",
       "0                       122               2555  9.618551  \n",
       "1                       122               2555  9.618551  \n",
       "2                       122               2555  9.618551  \n",
       "\n",
       "[3 rows x 88 columns]"
      ]
     },
     "execution_count": 11,
     "metadata": {},
     "output_type": "execute_result"
    }
   ],
   "source": [
    "df2 = df.copy(188)\n",
    "df2.head(3)"
   ]
  },
  {
   "cell_type": "code",
   "execution_count": 12,
   "id": "meaningful-anniversary",
   "metadata": {},
   "outputs": [],
   "source": [
    "##function for above and below a threshold\n",
    "\n",
    "def get_above_threshold(dff,thresh):\n",
    "    corr_mtrx = dff.corr()\n",
    "    corr_vals = corr_mtrx.values\n",
    "    flds = list(corr_mtrx.columns)\n",
    "    numCols = corr_mtrx.shape[0]\n",
    "    above_threshold = []\n",
    "    \n",
    "    for i in range(numCols):\n",
    "        for j in range(i+1, numCols):\n",
    "            if corr_vals[i,j] > thresh:\n",
    "                if i != j:\n",
    "                    above_threshold.append([flds[i],flds[j],corr_vals[i,j]])\n",
    "    above_threshold.sort(reverse=True)\n",
    "    return above_threshold\n",
    "\n",
    "def get_below_threshold(dff,thresh):\n",
    "    corr_mtrx = dff.corr()\n",
    "    corr_vals = corr_mtrx.values\n",
    "    flds = list(corr_mtrx.columns)\n",
    "    numCols = corr_mtrx.shape[0]\n",
    "    above_threshold = []\n",
    "    \n",
    "    for i in range(numCols):\n",
    "        for j in range(i+1, numCols):\n",
    "            if corr_vals[i,j] < thresh:\n",
    "                if i != j:\n",
    "                    above_threshold.append([flds[i],flds[j],corr_vals[i,j]])\n",
    "    above_threshold.sort(reverse=True)\n",
    "    return above_threshold"
   ]
  },
  {
   "cell_type": "code",
   "execution_count": 13,
   "id": "interested-visit",
   "metadata": {},
   "outputs": [
    {
     "data": {
      "text/plain": [
       "[['unitsInStructure', 'healthInsTotal', 0.994129629869046],\n",
       " ['unitsInStructure', 'healthInsNativeWith', 0.9949704848079665],\n",
       " ['totalTrans', 'unitsInStructure', 0.9929803019216017],\n",
       " ['totalTrans', 'householdsTotal', 0.9963845175005094],\n",
       " ['totalTrans', 'householdStructuresTotal', 0.9963845175005094],\n",
       " ['totalTrans', 'houseWith65', 0.9808301889300902],\n",
       " ['totalTrans', 'houseNonfamNo65', 0.9649106176366248],\n",
       " ['totalTrans', 'houseNonfam65', 0.9476931509873331],\n",
       " ['totalTrans', 'houseNo65', 0.9961388201760542],\n",
       " ['totalTrans', 'houseFamilyNo65', 0.9969163007655882]]"
      ]
     },
     "execution_count": 13,
     "metadata": {},
     "output_type": "execute_result"
    }
   ],
   "source": [
    "## raw correlations\n",
    "df2_corrs = get_above_threshold(df2,0.9)\n",
    "df2_corrs[0:10]"
   ]
  },
  {
   "cell_type": "code",
   "execution_count": 14,
   "id": "signal-victoria",
   "metadata": {},
   "outputs": [],
   "source": [
    "### pca here or after conversions?\n",
    "\n",
    "#pca = PCA(n_components=2)\n",
    "#principalComponents = pca.fit_transform(x_p)\n",
    "#principalDf = pd.DataFrame(data = principalComponents, columns = ['pc1','pc2'])"
   ]
  },
  {
   "cell_type": "markdown",
   "id": "threaded-promotion",
   "metadata": {},
   "source": [
    "# ------------- Clean up -----------\n",
    "- Followed Noah's notebook\n",
    "- back to original dataset for clean up"
   ]
  },
  {
   "cell_type": "code",
   "execution_count": 15,
   "id": "daily-retreat",
   "metadata": {},
   "outputs": [
    {
     "name": "stdout",
     "output_type": "stream",
     "text": [
      "2020-03-11 00:00:00 2022-01-16 00:00:00 datetime64[ns]\n"
     ]
    }
   ],
   "source": [
    "### Temporarily, replace FIPS codes with latitude and longitude of the centroid of each county\n",
    "counties = pd.read_csv('2021_Gaz_counties_national.txt', delimiter='\\t')\n",
    "counties.rename(columns={'INTPTLONG                                                                                                               ': 'longitude',\n",
    "                        'INTPTLAT': 'latitude'}, inplace=True)\n",
    "\n",
    "counties = counties[['GEOID', 'latitude', 'longitude' ]]\n",
    "df.fips = df.fips.astype('int64')\n",
    "\n",
    "df = df.merge(counties, how='left', left_on='fips', right_on='GEOID')\n",
    "df.drop(['GEOID'], axis=1, inplace=True)\n",
    "\n",
    "### Replace dates with monotonically increasing integers starting with the minimum date\n",
    "df.dates = pd.to_datetime(df.dates, format='%Y-%m-%d')\n",
    "min_date = min(df.dates)\n",
    "max_date = max(df.dates)\n",
    "print(min_date, max_date, df.dates.dtype)\n",
    "df['day'] =(df.dates - min_date).dt.days\n",
    "df.drop(['dates'], axis=1, inplace=True)\n",
    "\n",
    "###Replace the integer representation of date with sin and cosine encoding\n",
    "\n",
    "cyclical_interval = 365\n",
    "continuous_interval = 3650\n",
    "df['cyclical_sin'] = np.sin((df.day * 2 * np.pi)/cyclical_interval)\n",
    "df['cyclical_cos'] = np.cos((df.day * 2 * np.pi)/cyclical_interval)\n",
    "df['continuous_sin'] = np.sin((df.day * 2 * np.pi)/continuous_interval)\n",
    "df['continuous_cos'] = np.cos((df.day * 2 * np.pi)/continuous_interval)\n",
    "df.drop('day', axis=1, inplace=True)"
   ]
  },
  {
   "cell_type": "code",
   "execution_count": 16,
   "id": "friendly-adapter",
   "metadata": {},
   "outputs": [],
   "source": [
    "###Get the feature column for latitude and longitude\n",
    "# crossed_latlong = pp.get_latlong_fc(df)\n",
    "\n",
    "lat_buckets = list(np.linspace(df.latitude.min(), df.latitude.max(),100))\n",
    "long_buckets = list(np.linspace(df.longitude.min(), df.longitude.max(),100))\n",
    "\n",
    "#make feature columns\n",
    "lat_fc = tf.feature_column.bucketized_column(tf.feature_column.numeric_column('latitude'),lat_buckets)\n",
    "long_fc= tf.feature_column.bucketized_column(tf.feature_column.numeric_column('longitude'),long_buckets)\n",
    "    \n",
    "# crossed columns tell the model how the features relate\n",
    "crossed_latlong = tf.feature_column.crossed_column(keys=[lat_fc, long_fc], hash_bucket_size=1000) # No precise rule, maybe 1000 buckets will be good?\n",
    "    \n",
    "embedded_latlong = tf.feature_column.embedding_column(crossed_latlong,9)\n",
    "\n",
    "feature_layer = tf.keras.layers.DenseFeatures(embedded_latlong)\n",
    "\n",
    "df[['geo0', 'geo1', 'geo2','geo3', 'geo4','geo5','geo6','geo7','geo8']] = feature_layer({'latitude': df.latitude, 'longitude': df.longitude})\n",
    "\n",
    "# df.drop(['longitude', 'latitude'], axis=1, inplace=True)"
   ]
  },
  {
   "cell_type": "code",
   "execution_count": 17,
   "id": "documented-development",
   "metadata": {},
   "outputs": [],
   "source": [
    "### normalize the data\n",
    "cols_to_normalize = [\n",
    "       'TotalPopulation.data', 'MaleAndFemale_AtLeast65_Population.data',\n",
    "       'Male_Total_Population.data', 'Female_Total_Population.data',\n",
    "       'MaleAndFemale_Under18_Population.data', 'BLS_EmployedPopulation.data',\n",
    "       'BLS_EmployedPopulation.missing', 'BLS_UnemployedPopulation.data',\n",
    "       'BLS_UnemployedPopulation.missing', 'BLS_UnemploymentRate.data',\n",
    "       'BLS_UnemploymentRate.missing', 'BLS_LaborForcePopulation.data',\n",
    "       'BLS_LaborForcePopulation.missing', 'AverageDailyTemperature.data',\n",
    "       'AverageDailyTemperature.missing', 'AverageDewPoint.data',\n",
    "       'AverageDewPoint.missing', 'AverageRelativeHumidity.data',\n",
    "       'AverageRelativeHumidity.missing', 'AverageSurfaceAirPressure.data',\n",
    "       'AverageSurfaceAirPressure.missing', 'AveragePrecipitationTotal.data',\n",
    "       'AveragePrecipitationTotal.missing', 'AveragePrecipitation.data',\n",
    "       'AveragePrecipitation.missing', 'AverageWindDirection.data',\n",
    "       'AverageWindDirection.missing', 'AverageWindSpeed.data',\n",
    "       'AverageWindSpeed.missing', 'hospitalIcuBeds', 'hospitalStaffedBeds',\n",
    "       'hospitalLicensedBeds', 'latestTotalPopulation', 'jhu_daily_death',\n",
    "       'jhu_daily_cases', 'jhu_daily_new_cases', \n",
    "    'jhu_daily_death_rolling_7',\n",
    "       'jhu_daily_cases_rolling_7', 'jhu_daily_new_cases_rolling_7',\n",
    "       'jhu_daily_death_rolling_30', 'jhu_daily_cases_rolling_30',\n",
    "       'jhu_daily_new_cases_rolling_30', 'jhu_death_rate', 'jhu_case_rate',\n",
    "       'jhu_new_case_rate', 'density', 'icu_beds_per_person',\n",
    "       'staffed_beds_per_person', 'licensed_beds_per_person', 'cold_days',\n",
    "       'hot_days', 'moderate_days', 'gte_65_percent', 'lt_18_percent',\n",
    "       'employed_percent', 'unemployed_percent', 'totalMoved',\n",
    "       'movedWithinState', 'movedWithoutState', 'movedFromAbroad',\n",
    "       'publicTrans', 'totalTrans', 'householdsTotal', 'houseWith65',\n",
    "       'house2+with65', 'houseFamily65', 'houseNonfam65', 'houseNo65',\n",
    "       'house2+No65', 'houseFamilyNo65', 'houseNonfamNo65',\n",
    "       'householdStructuresTotal', 'householdIncomeMedian', 'gini',\n",
    "       'hoursWorkedMean', 'unitsInStructure', 'healthInsTotal',\n",
    "       'healthInsNativeWith', 'healthInsForeignNatWith',\n",
    "       'healthInsForeignNoncitWith', 'healthInsForeignNatNo',\n",
    "       'healthInsForeignNoncitNo', 'healthInsNativeNo', 'pm25', 'latitude',\n",
    "       'longitude']\n",
    "cols_raw = ['fips','JHU_ConfirmedCases.data', 'JHU_ConfirmedDeaths.data', 'cyclical_sin', 'cyclical_cos', 'continuous_sin',\n",
    "       'continuous_cos', 'geo0', 'geo1', 'geo2','geo3', 'geo4','geo5','geo6','geo7','geo8']\n",
    "df_normalized = df[cols_to_normalize]\n",
    "df_normalized = (df_normalized - df_normalized.mean())/df_normalized.std()\n",
    "df_raw = df[cols_raw]\n",
    "df = pd.concat([df_raw, df_normalized], axis=1)"
   ]
  },
  {
   "cell_type": "code",
   "execution_count": 18,
   "id": "actual-wallpaper",
   "metadata": {},
   "outputs": [
    {
     "name": "stdout",
     "output_type": "stream",
     "text": [
      "(1879589, 102)\n"
     ]
    },
    {
     "data": {
      "text/html": [
       "<div>\n",
       "<style scoped>\n",
       "    .dataframe tbody tr th:only-of-type {\n",
       "        vertical-align: middle;\n",
       "    }\n",
       "\n",
       "    .dataframe tbody tr th {\n",
       "        vertical-align: top;\n",
       "    }\n",
       "\n",
       "    .dataframe thead th {\n",
       "        text-align: right;\n",
       "    }\n",
       "</style>\n",
       "<table border=\"1\" class=\"dataframe\">\n",
       "  <thead>\n",
       "    <tr style=\"text-align: right;\">\n",
       "      <th></th>\n",
       "      <th>fips</th>\n",
       "      <th>JHU_ConfirmedCases.data</th>\n",
       "      <th>JHU_ConfirmedDeaths.data</th>\n",
       "      <th>cyclical_sin</th>\n",
       "      <th>cyclical_cos</th>\n",
       "      <th>continuous_sin</th>\n",
       "      <th>continuous_cos</th>\n",
       "      <th>geo0</th>\n",
       "      <th>geo1</th>\n",
       "      <th>geo2</th>\n",
       "      <th>...</th>\n",
       "      <th>healthInsTotal</th>\n",
       "      <th>healthInsNativeWith</th>\n",
       "      <th>healthInsForeignNatWith</th>\n",
       "      <th>healthInsForeignNoncitWith</th>\n",
       "      <th>healthInsForeignNatNo</th>\n",
       "      <th>healthInsForeignNoncitNo</th>\n",
       "      <th>healthInsNativeNo</th>\n",
       "      <th>pm25</th>\n",
       "      <th>latitude</th>\n",
       "      <th>longitude</th>\n",
       "    </tr>\n",
       "  </thead>\n",
       "  <tbody>\n",
       "    <tr>\n",
       "      <th>0</th>\n",
       "      <td>45001</td>\n",
       "      <td>1.0</td>\n",
       "      <td>0.0</td>\n",
       "      <td>0.137279</td>\n",
       "      <td>0.990532</td>\n",
       "      <td>0.013771</td>\n",
       "      <td>0.999905</td>\n",
       "      <td>-0.141803</td>\n",
       "      <td>-0.011835</td>\n",
       "      <td>-0.198773</td>\n",
       "      <td>...</td>\n",
       "      <td>-0.235997</td>\n",
       "      <td>-0.262976</td>\n",
       "      <td>-0.137842</td>\n",
       "      <td>-0.148042</td>\n",
       "      <td>-0.143646</td>\n",
       "      <td>-0.141956</td>\n",
       "      <td>-0.196056</td>\n",
       "      <td>0.811931</td>\n",
       "      <td>-0.830256</td>\n",
       "      <td>0.80029</td>\n",
       "    </tr>\n",
       "    <tr>\n",
       "      <th>1</th>\n",
       "      <td>45001</td>\n",
       "      <td>1.0</td>\n",
       "      <td>0.0</td>\n",
       "      <td>0.154309</td>\n",
       "      <td>0.988023</td>\n",
       "      <td>0.015492</td>\n",
       "      <td>0.999880</td>\n",
       "      <td>-0.141803</td>\n",
       "      <td>-0.011835</td>\n",
       "      <td>-0.198773</td>\n",
       "      <td>...</td>\n",
       "      <td>-0.235997</td>\n",
       "      <td>-0.262976</td>\n",
       "      <td>-0.137842</td>\n",
       "      <td>-0.148042</td>\n",
       "      <td>-0.143646</td>\n",
       "      <td>-0.141956</td>\n",
       "      <td>-0.196056</td>\n",
       "      <td>0.811931</td>\n",
       "      <td>-0.830256</td>\n",
       "      <td>0.80029</td>\n",
       "    </tr>\n",
       "  </tbody>\n",
       "</table>\n",
       "<p>2 rows × 102 columns</p>\n",
       "</div>"
      ],
      "text/plain": [
       "    fips  JHU_ConfirmedCases.data  JHU_ConfirmedDeaths.data  cyclical_sin  \\\n",
       "0  45001                      1.0                       0.0      0.137279   \n",
       "1  45001                      1.0                       0.0      0.154309   \n",
       "\n",
       "   cyclical_cos  continuous_sin  continuous_cos      geo0      geo1      geo2  \\\n",
       "0      0.990532        0.013771        0.999905 -0.141803 -0.011835 -0.198773   \n",
       "1      0.988023        0.015492        0.999880 -0.141803 -0.011835 -0.198773   \n",
       "\n",
       "   ...  healthInsTotal  healthInsNativeWith  healthInsForeignNatWith  \\\n",
       "0  ...       -0.235997            -0.262976                -0.137842   \n",
       "1  ...       -0.235997            -0.262976                -0.137842   \n",
       "\n",
       "   healthInsForeignNoncitWith  healthInsForeignNatNo  \\\n",
       "0                   -0.148042              -0.143646   \n",
       "1                   -0.148042              -0.143646   \n",
       "\n",
       "   healthInsForeignNoncitNo  healthInsNativeNo      pm25  latitude  longitude  \n",
       "0                 -0.141956          -0.196056  0.811931 -0.830256    0.80029  \n",
       "1                 -0.141956          -0.196056  0.811931 -0.830256    0.80029  \n",
       "\n",
       "[2 rows x 102 columns]"
      ]
     },
     "execution_count": 18,
     "metadata": {},
     "output_type": "execute_result"
    }
   ],
   "source": [
    "print(df.shape); df.head(2)"
   ]
  },
  {
   "cell_type": "markdown",
   "id": "designed-cleaner",
   "metadata": {},
   "source": [
    "# ----------- PCA -------------\n",
    "- need to run on the entirety of it \n",
    "- df_pca is used throughout the pca portion"
   ]
  },
  {
   "cell_type": "code",
   "execution_count": 19,
   "id": "prepared-plaintiff",
   "metadata": {},
   "outputs": [
    {
     "name": "stdout",
     "output_type": "stream",
     "text": [
      "(18795, 102)\n"
     ]
    },
    {
     "data": {
      "text/html": [
       "<div>\n",
       "<style scoped>\n",
       "    .dataframe tbody tr th:only-of-type {\n",
       "        vertical-align: middle;\n",
       "    }\n",
       "\n",
       "    .dataframe tbody tr th {\n",
       "        vertical-align: top;\n",
       "    }\n",
       "\n",
       "    .dataframe thead th {\n",
       "        text-align: right;\n",
       "    }\n",
       "</style>\n",
       "<table border=\"1\" class=\"dataframe\">\n",
       "  <thead>\n",
       "    <tr style=\"text-align: right;\">\n",
       "      <th></th>\n",
       "      <th>0</th>\n",
       "      <th>1</th>\n",
       "      <th>2</th>\n",
       "      <th>3</th>\n",
       "      <th>4</th>\n",
       "      <th>5</th>\n",
       "      <th>6</th>\n",
       "      <th>7</th>\n",
       "      <th>8</th>\n",
       "      <th>9</th>\n",
       "      <th>...</th>\n",
       "      <th>17</th>\n",
       "      <th>18</th>\n",
       "      <th>19</th>\n",
       "      <th>20</th>\n",
       "      <th>21</th>\n",
       "      <th>22</th>\n",
       "      <th>23</th>\n",
       "      <th>24</th>\n",
       "      <th>25</th>\n",
       "      <th>JHU_ConfirmedCases.data</th>\n",
       "    </tr>\n",
       "  </thead>\n",
       "  <tbody>\n",
       "    <tr>\n",
       "      <th>0</th>\n",
       "      <td>-2.750322</td>\n",
       "      <td>-2.041194</td>\n",
       "      <td>-0.772570</td>\n",
       "      <td>0.940103</td>\n",
       "      <td>0.308611</td>\n",
       "      <td>0.67561</td>\n",
       "      <td>-0.609230</td>\n",
       "      <td>-1.708400</td>\n",
       "      <td>-0.199656</td>\n",
       "      <td>0.898551</td>\n",
       "      <td>...</td>\n",
       "      <td>-0.338319</td>\n",
       "      <td>-0.241249</td>\n",
       "      <td>0.203264</td>\n",
       "      <td>-1.038440</td>\n",
       "      <td>-0.881575</td>\n",
       "      <td>-0.940840</td>\n",
       "      <td>2.258481</td>\n",
       "      <td>0.392117</td>\n",
       "      <td>0.382929</td>\n",
       "      <td>1.0</td>\n",
       "    </tr>\n",
       "    <tr>\n",
       "      <th>1</th>\n",
       "      <td>-2.748442</td>\n",
       "      <td>-2.010375</td>\n",
       "      <td>-0.762758</td>\n",
       "      <td>0.769274</td>\n",
       "      <td>0.166306</td>\n",
       "      <td>0.47892</td>\n",
       "      <td>-0.244577</td>\n",
       "      <td>-1.502119</td>\n",
       "      <td>0.143362</td>\n",
       "      <td>0.658879</td>\n",
       "      <td>...</td>\n",
       "      <td>-0.741112</td>\n",
       "      <td>-0.190844</td>\n",
       "      <td>0.302148</td>\n",
       "      <td>-1.191186</td>\n",
       "      <td>-0.698068</td>\n",
       "      <td>-1.220403</td>\n",
       "      <td>2.265507</td>\n",
       "      <td>0.469698</td>\n",
       "      <td>0.653683</td>\n",
       "      <td>1.0</td>\n",
       "    </tr>\n",
       "    <tr>\n",
       "      <th>2</th>\n",
       "      <td>-2.728482</td>\n",
       "      <td>-1.881418</td>\n",
       "      <td>-0.774482</td>\n",
       "      <td>0.703564</td>\n",
       "      <td>0.154630</td>\n",
       "      <td>0.41818</td>\n",
       "      <td>-0.275312</td>\n",
       "      <td>-1.478774</td>\n",
       "      <td>0.113005</td>\n",
       "      <td>0.736892</td>\n",
       "      <td>...</td>\n",
       "      <td>-0.817255</td>\n",
       "      <td>-0.199889</td>\n",
       "      <td>0.301297</td>\n",
       "      <td>-1.057052</td>\n",
       "      <td>-0.569702</td>\n",
       "      <td>-1.343759</td>\n",
       "      <td>2.155358</td>\n",
       "      <td>0.541665</td>\n",
       "      <td>0.749551</td>\n",
       "      <td>1.0</td>\n",
       "    </tr>\n",
       "  </tbody>\n",
       "</table>\n",
       "<p>3 rows × 27 columns</p>\n",
       "</div>"
      ],
      "text/plain": [
       "          0         1         2         3         4        5         6  \\\n",
       "0 -2.750322 -2.041194 -0.772570  0.940103  0.308611  0.67561 -0.609230   \n",
       "1 -2.748442 -2.010375 -0.762758  0.769274  0.166306  0.47892 -0.244577   \n",
       "2 -2.728482 -1.881418 -0.774482  0.703564  0.154630  0.41818 -0.275312   \n",
       "\n",
       "          7         8         9  ...        17        18        19        20  \\\n",
       "0 -1.708400 -0.199656  0.898551  ... -0.338319 -0.241249  0.203264 -1.038440   \n",
       "1 -1.502119  0.143362  0.658879  ... -0.741112 -0.190844  0.302148 -1.191186   \n",
       "2 -1.478774  0.113005  0.736892  ... -0.817255 -0.199889  0.301297 -1.057052   \n",
       "\n",
       "         21        22        23        24        25  JHU_ConfirmedCases.data  \n",
       "0 -0.881575 -0.940840  2.258481  0.392117  0.382929                      1.0  \n",
       "1 -0.698068 -1.220403  2.265507  0.469698  0.653683                      1.0  \n",
       "2 -0.569702 -1.343759  2.155358  0.541665  0.749551                      1.0  \n",
       "\n",
       "[3 rows x 27 columns]"
      ]
     },
     "execution_count": 19,
     "metadata": {},
     "output_type": "execute_result"
    }
   ],
   "source": [
    "###https://towardsdatascience.com/pca-using-python-scikit-learn-e653f8989e60\n",
    "\n",
    "#df_pca = df.copy() # if ran on the whole, it returns:\n",
    " # ValueError: Input contains NaN, infinity or a value too large for dtype('float64').\n",
    "    \n",
    "df_pca = df.head(18795)\n",
    "print(df_pca.shape);df_pca.head(1)\n",
    "\n",
    "### PCA\n",
    "target = 'JHU_ConfirmedCases.data'\n",
    "features = list(df_pca.columns); features.remove(target)\n",
    "feature_columns = [tf.feature_column.numeric_column(i) for i in features]\n",
    "\n",
    "x_p = df_pca.loc[:, features].values\n",
    "x_p = StandardScaler().fit_transform(x_p)\n",
    "y_p = df_pca.loc[:,[target]].values\n",
    "\n",
    "pca = PCA(n_components=0.95)\n",
    "principalComponents = pca.fit_transform(x_p)\n",
    "principalDf = pd.DataFrame(data = principalComponents)\n",
    "\n",
    "finalDf = pd.concat([principalDf, df_pca[[target]]], axis = 1)\n",
    "finalDf.head(3)"
   ]
  },
  {
   "cell_type": "code",
   "execution_count": 20,
   "id": "suited-rhythm",
   "metadata": {},
   "outputs": [
    {
     "data": {
      "text/plain": [
       "[0.41750646668900737, 0.07797568792381514, 0.05761482744716327]"
      ]
     },
     "execution_count": 20,
     "metadata": {},
     "output_type": "execute_result"
    }
   ],
   "source": [
    "var_expln = list(pca.explained_variance_ratio_)\n",
    "var_expln.sort(reverse=True)\n",
    "var_expln[0:3]"
   ]
  },
  {
   "cell_type": "code",
   "execution_count": 21,
   "id": "directed-vatican",
   "metadata": {},
   "outputs": [
    {
     "data": {
      "text/plain": [
       "Text(0, 0.5, 'pc-2')"
      ]
     },
     "execution_count": 21,
     "metadata": {},
     "output_type": "execute_result"
    },
    {
     "data": {
      "image/png": "[encoded data removed]",
      "text/plain": [
       "<Figure size 504x504 with 1 Axes>"
      ]
     },
     "metadata": {
      "needs_background": "light"
     },
     "output_type": "display_data"
    }
   ],
   "source": [
    "plt.figure(figsize=(7,7))\n",
    "plt.scatter(finalDf[1],finalDf[2],c=finalDf['JHU_ConfirmedCases.data'],cmap='prism', s =5)\n",
    "plt.xlabel('pc-1')\n",
    "plt.ylabel('pc-2')"
   ]
  },
  {
   "cell_type": "code",
   "execution_count": 22,
   "id": "velvet-allocation",
   "metadata": {},
   "outputs": [],
   "source": [
    "#total size /1000 = 18795 then /2 = 9397.5 then /2 = 4698"
   ]
  },
  {
   "cell_type": "markdown",
   "id": "following-annotation",
   "metadata": {},
   "source": [
    "### another look at correlation\n",
    "- used pca_df since it was smaller til i make sure it's right"
   ]
  },
  {
   "cell_type": "code",
   "execution_count": 23,
   "id": "peaceful-chemical",
   "metadata": {},
   "outputs": [
    {
     "data": {
      "text/plain": [
       "[['unitsInStructure', 'healthInsTotal', 0.9978549866058533],\n",
       " ['unitsInStructure', 'healthInsNativeWith', 0.9953833218744516],\n",
       " ['unitsInStructure', 'healthInsForeignNoncitWith', 0.9473192178744134],\n",
       " ['unitsInStructure', 'healthInsForeignNatWith', 0.9417778011262916],\n",
       " ['unitsInStructure', 'healthInsForeignNatNo', 0.979872200637409],\n",
       " ['totalTrans', 'unitsInStructure', 0.9973157007980598],\n",
       " ['totalTrans', 'householdsTotal', 0.9985537485743665],\n",
       " ['totalTrans', 'householdStructuresTotal', 0.9985537485743665],\n",
       " ['totalTrans', 'houseWith65', 0.9924844064824354],\n",
       " ['totalTrans', 'houseNonfamNo65', 0.9901929709862141]]"
      ]
     },
     "execution_count": 23,
     "metadata": {},
     "output_type": "execute_result"
    }
   ],
   "source": [
    "## correlations\n",
    "\n",
    "dfpca_corrs = get_above_threshold(df_pca,0.9)\n",
    "dfpca_corrs[0:10]"
   ]
  },
  {
   "cell_type": "markdown",
   "id": "swiss-algebra",
   "metadata": {},
   "source": [
    "#### extra not needed, article just continued with this stuff"
   ]
  },
  {
   "cell_type": "code",
   "execution_count": 24,
   "id": "removable-paradise",
   "metadata": {},
   "outputs": [],
   "source": [
    "### logistic regression wihtout pca\n",
    "\n",
    "#logisticRegr = LogisticRegression()\n",
    "#logisticRegr.fit(train_x_dfp,train_y_dfp)\n",
    "\n",
    "#y_train_hat =logisticRegr.predict(test_x_dfp)\n",
    "#train_accuracy = accuracy_score(test_y_dfp, y_train_hat)*100\n",
    "#print('\"Accuracy for our Training dataset with PCA is: %.4f %%' % train_accuracy)\n",
    "\n",
    "#y_test_hat=logisticRegr.predict(test_x_dfp)\n",
    "#test_accuracy=accuracy_score(test_y_dfp,y_test_hat)*100\n",
    "#print(\"Accuracy for our Testing dataset with tuning is : {:.3f}%\".format(test_accuracy) )"
   ]
  },
  {
   "cell_type": "code",
   "execution_count": 25,
   "id": "exclusive-policy",
   "metadata": {},
   "outputs": [],
   "source": [
    "### logistic with pca \n",
    "#scaler = StandardScaler()\n",
    "\n",
    "#X_train_pca = scaler.transform(train_x_dfp)\n",
    "#X_test_pca = scaler.transform(test_x_dfp)\n",
    "\n",
    "#logisticRegr = LogisticRegression()\n",
    "#logisticRegr.fit(X_train_pca,train_y_dfp)\n",
    "\n",
    "#y_train_hat =logisticRegr.predict(X_train_pca)\n",
    "#train_accuracy = accuracy_score(train_y_dfp, y_train_hat)*100\n",
    "#print('\"Accuracy for our Training dataset with PCA is: %.4f %%' % train_accuracy)\n",
    "\n",
    "#y_test_hat=logisticRegr.predict(X_test_pca)\n",
    "#test_accuracy=accuracy_score(test_y_dfp,y_test_hat)*100\n",
    "#print(\"Accuracy for our Testing dataset with PCA is : {:.3f}%\".format(test_accuracy) )"
   ]
  },
  {
   "cell_type": "code",
   "execution_count": 26,
   "id": "decimal-portland",
   "metadata": {},
   "outputs": [],
   "source": [
    "### linear regression\n",
    "\n",
    "#model = LinearRegression()\n",
    "#model.fit(X_train, y_train)\n",
    "#print(model.coef_);print(model.intercept_)\n",
    "\n",
    "\n",
    "#pd.DataFrame(model.coef_, x.columns, columns = ['Coeff'])\n",
    "#predictions = model.predict(X_test)\n",
    "\n",
    "#plt.scatter(y_test, predictions)\n",
    "#plt.hist(y_test - predictions)\n",
    "\n",
    "#metrics.mean_absolute_error(y_test, predictions)\n",
    "#metrics.mean_squared_error(y_test, predictions)\n",
    "#np.sqrt(metrics.mean_squared_error(y_test, predictions))"
   ]
  },
  {
   "cell_type": "code",
   "execution_count": null,
   "id": "understood-arbor",
   "metadata": {},
   "outputs": [],
   "source": []
  },
  {
   "cell_type": "markdown",
   "id": "waiting-unemployment",
   "metadata": {},
   "source": [
    "# ------- linear regression / baseline ------\n",
    "- i think\n",
    "- had trouble with reading through all files with date adjustments\n",
    "- need to run on whole dataset and separate 1 day every 30 for x/y"
   ]
  },
  {
   "cell_type": "code",
   "execution_count": 27,
   "id": "dated-heater",
   "metadata": {},
   "outputs": [
    {
     "data": {
      "text/plain": [
       "18795.89"
      ]
     },
     "execution_count": 27,
     "metadata": {},
     "output_type": "execute_result"
    }
   ],
   "source": [
    "1879589/100"
   ]
  },
  {
   "cell_type": "code",
   "execution_count": 28,
   "id": "transsexual-vacation",
   "metadata": {},
   "outputs": [
    {
     "name": "stdout",
     "output_type": "stream",
     "text": [
      "(18795, 102)\n"
     ]
    },
    {
     "data": {
      "text/html": [
       "<div>\n",
       "<style scoped>\n",
       "    .dataframe tbody tr th:only-of-type {\n",
       "        vertical-align: middle;\n",
       "    }\n",
       "\n",
       "    .dataframe tbody tr th {\n",
       "        vertical-align: top;\n",
       "    }\n",
       "\n",
       "    .dataframe thead th {\n",
       "        text-align: right;\n",
       "    }\n",
       "</style>\n",
       "<table border=\"1\" class=\"dataframe\">\n",
       "  <thead>\n",
       "    <tr style=\"text-align: right;\">\n",
       "      <th></th>\n",
       "      <th>fips</th>\n",
       "      <th>JHU_ConfirmedCases.data</th>\n",
       "      <th>JHU_ConfirmedDeaths.data</th>\n",
       "      <th>cyclical_sin</th>\n",
       "      <th>cyclical_cos</th>\n",
       "      <th>continuous_sin</th>\n",
       "      <th>continuous_cos</th>\n",
       "      <th>geo0</th>\n",
       "      <th>geo1</th>\n",
       "      <th>geo2</th>\n",
       "      <th>...</th>\n",
       "      <th>healthInsTotal</th>\n",
       "      <th>healthInsNativeWith</th>\n",
       "      <th>healthInsForeignNatWith</th>\n",
       "      <th>healthInsForeignNoncitWith</th>\n",
       "      <th>healthInsForeignNatNo</th>\n",
       "      <th>healthInsForeignNoncitNo</th>\n",
       "      <th>healthInsNativeNo</th>\n",
       "      <th>pm25</th>\n",
       "      <th>latitude</th>\n",
       "      <th>longitude</th>\n",
       "    </tr>\n",
       "  </thead>\n",
       "  <tbody>\n",
       "    <tr>\n",
       "      <th>0</th>\n",
       "      <td>45001</td>\n",
       "      <td>1.0</td>\n",
       "      <td>0.0</td>\n",
       "      <td>0.137279</td>\n",
       "      <td>0.990532</td>\n",
       "      <td>0.013771</td>\n",
       "      <td>0.999905</td>\n",
       "      <td>-0.141803</td>\n",
       "      <td>-0.011835</td>\n",
       "      <td>-0.198773</td>\n",
       "      <td>...</td>\n",
       "      <td>-0.235997</td>\n",
       "      <td>-0.262976</td>\n",
       "      <td>-0.137842</td>\n",
       "      <td>-0.148042</td>\n",
       "      <td>-0.143646</td>\n",
       "      <td>-0.141956</td>\n",
       "      <td>-0.196056</td>\n",
       "      <td>0.811931</td>\n",
       "      <td>-0.830256</td>\n",
       "      <td>0.80029</td>\n",
       "    </tr>\n",
       "  </tbody>\n",
       "</table>\n",
       "<p>1 rows × 102 columns</p>\n",
       "</div>"
      ],
      "text/plain": [
       "    fips  JHU_ConfirmedCases.data  JHU_ConfirmedDeaths.data  cyclical_sin  \\\n",
       "0  45001                      1.0                       0.0      0.137279   \n",
       "\n",
       "   cyclical_cos  continuous_sin  continuous_cos      geo0      geo1      geo2  \\\n",
       "0      0.990532        0.013771        0.999905 -0.141803 -0.011835 -0.198773   \n",
       "\n",
       "   ...  healthInsTotal  healthInsNativeWith  healthInsForeignNatWith  \\\n",
       "0  ...       -0.235997            -0.262976                -0.137842   \n",
       "\n",
       "   healthInsForeignNoncitWith  healthInsForeignNatNo  \\\n",
       "0                   -0.148042              -0.143646   \n",
       "\n",
       "   healthInsForeignNoncitNo  healthInsNativeNo      pm25  latitude  longitude  \n",
       "0                 -0.141956          -0.196056  0.811931 -0.830256    0.80029  \n",
       "\n",
       "[1 rows x 102 columns]"
      ]
     },
     "execution_count": 28,
     "metadata": {},
     "output_type": "execute_result"
    }
   ],
   "source": [
    "## reduced size\n",
    "df3 = df.head(18795)\n",
    "print(df3.shape);df3.head(1)"
   ]
  },
  {
   "cell_type": "markdown",
   "id": "offensive-hebrew",
   "metadata": {},
   "source": [
    "### changed to df3 until i figure out links"
   ]
  },
  {
   "cell_type": "code",
   "execution_count": 29,
   "id": "upset-burning",
   "metadata": {},
   "outputs": [],
   "source": [
    "### prepare the data for training\n",
    "days_of_history = 30\n",
    "days_to_predict = 1\n",
    "\n",
    "fips = df3.fips.unique() #changed to df3\n",
    "\n",
    "def xy_generator(data, days=31):\n",
    "    for j, fip in enumerate(fips):\n",
    "        if not j % 100: print(j, end=' ')\n",
    "        county = data[data.fips == fip]\n",
    "        for i in range(days, len(county) + 1):\n",
    "            data_matrix = data.iloc[i - days: i, 1:].to_numpy()\n",
    "            yield data_matrix"
   ]
  },
  {
   "cell_type": "code",
   "execution_count": 30,
   "id": "oriental-bangladesh",
   "metadata": {},
   "outputs": [],
   "source": [
    "def xy_generator_2(data, days=31):\n",
    "    for j, fip in enumerate(fips):\n",
    "        if not j % 100: print(j, end=' ')\n",
    "        county = data[data.fips == fip]\n",
    "        for i in range(days, len(county) + 1):\n",
    "            testing_data = data.iloc[i - days: i, 1:]\n",
    "            yield testing_data"
   ]
  },
  {
   "cell_type": "code",
   "execution_count": 31,
   "id": "third-homeless",
   "metadata": {
    "scrolled": true
   },
   "outputs": [
    {
     "name": "stdout",
     "output_type": "stream",
     "text": [
      "0 "
     ]
    }
   ],
   "source": [
    "Xi = []\n",
    "j = 0\n",
    "\n",
    "N_SAMPLES = 200\n",
    "\n",
    "for i, x in enumerate(xy_generator(df3)):  #chnaged to df3\n",
    "    Xi.append(x)\n",
    "    if i and not i % (N_SAMPLES - 1):\n",
    "        X = np.asarray(Xi)\n",
    "        np.save(os.path.join('.','data', f'x_{j}.npy'), X)\n",
    "        j += 1\n",
    "        Xi = []\n",
    "if Xi:\n",
    "    X = np.asarray(Xi)\n",
    "    np.save(os.path.join('.','data', f'x_{j}.npy'), X)"
   ]
  },
  {
   "cell_type": "code",
   "execution_count": 32,
   "id": "bound-above",
   "metadata": {},
   "outputs": [
    {
     "data": {
      "text/plain": [
       "(200, 31, 101)"
      ]
     },
     "execution_count": 32,
     "metadata": {},
     "output_type": "execute_result"
    }
   ],
   "source": [
    "x = np.load('./data/x_0.npy')\n",
    "x.shape"
   ]
  },
  {
   "cell_type": "code",
   "execution_count": 33,
   "id": "narrow-weekly",
   "metadata": {},
   "outputs": [],
   "source": [
    "RANDOM_SEED = 42\n",
    "def set_seed():\n",
    "    random.seed(RANDOM_SEED)\n",
    "    np.random.seed(RANDOM_SEED)\n",
    "    tf.random.set_seed(RANDOM_SEED)\n",
    "    os.environ['PYTHONHASHSEED'] = str(RANDOM_SEED)\n",
    "set_seed()"
   ]
  },
  {
   "cell_type": "code",
   "execution_count": 34,
   "id": "quick-merchandise",
   "metadata": {},
   "outputs": [
    {
     "name": "stdout",
     "output_type": "stream",
     "text": [
      "90\n",
      "62\n",
      "13\n",
      "15\n"
     ]
    }
   ],
   "source": [
    "x_files = glob('./data/x_*.npy')\n",
    "random.shuffle(x_files)\n",
    "n_files = len(x_files)\n",
    "print(n_files)\n",
    "n_train = int(n_files * 0.70)\n",
    "print(n_train)\n",
    "n_eval = int(n_files * 0.15)\n",
    "print(n_eval)\n",
    "n_test = n_files - n_train - n_eval\n",
    "print(n_test)\n",
    "train_files = x_files[:n_train]\n",
    "# print(len(train_files))\n",
    "eval_files = x_files[n_train:n_train+n_test]\n",
    "# print(len(eval_files))\n",
    "test_files = x_files[n_train+n_test:]\n",
    "assert n_files == len(train_files) + len(eval_files) + len(test_files)\n",
    "for (subdir, lst) in [['train', train_files], ['eval', eval_files], ['test', test_files]]:\n",
    "    for file in lst:\n",
    "        shutil.move(file, os.path.join('.', 'data', subdir))"
   ]
  },
  {
   "cell_type": "code",
   "execution_count": 35,
   "id": "hollywood-fishing",
   "metadata": {},
   "outputs": [],
   "source": [
    "train_files = glob('./data/train/x_*.npy')\n",
    "eval_files = glob('./data/eval/x_*.npy')\n",
    "test_files = glob('./data/test/x_*.npy')\n",
    "\n",
    "n_readers = 5\n",
    "n_parse_threads = 5\n",
    "len_array = 995\n",
    "\n",
    "def create_generator(files, cycle_length=5):\n",
    "    set_seed()\n",
    "    random.shuffle(files)\n",
    "    for i in range(0, len(files), cycle_length):\n",
    "        subset = files[i:i+cycle_length]\n",
    "        np_arrays = [np.load(s) for s in subset]\n",
    "        np_array = np.concatenate(np_arrays, axis=0)\n",
    "        np.random.shuffle(np_array)\n",
    "        yield np_array\n",
    "            \n",
    "\n",
    "def split_xy(np_array):\n",
    "    X = np_array[:,:-1,:]\n",
    "    y = np_array[:,-1:,:1]\n",
    "    return X,y\n",
    "        \n",
    "    \n",
    "train_ds = tf.data.Dataset.from_generator(lambda: create_generator(train_files, cycle_length=n_readers), output_types=tf.float32 )\n",
    "train_ds = train_ds.map(split_xy, num_parallel_calls=n_parse_threads).prefetch(1)\n",
    "\n",
    "val_ds = tf.data.Dataset.from_generator(lambda: create_generator(eval_files, cycle_length=n_readers), output_types=tf.float32 )\n",
    "val_ds = val_ds.map(split_xy, num_parallel_calls=n_parse_threads).prefetch(1)\n",
    "\n",
    "test_ds = tf.data.Dataset.from_generator(lambda: create_generator(test_files, cycle_length=n_readers), output_types=tf.float32 )\n",
    "test_ds = test_ds.map(split_xy, num_parallel_calls=n_parse_threads).prefetch(1)"
   ]
  },
  {
   "cell_type": "code",
   "execution_count": 36,
   "id": "central-accordance",
   "metadata": {},
   "outputs": [],
   "source": [
    "# run linear regression with these? or not necessary?\n",
    "## or how would i do that with a prefetch dataset\n",
    " ## that was the error I kept coming across"
   ]
  },
  {
   "cell_type": "markdown",
   "id": "stock-repository",
   "metadata": {},
   "source": [
    "### ??? Trying to get URL's from github to run with all files ???"
   ]
  },
  {
   "cell_type": "code",
   "execution_count": 37,
   "id": "characteristic-serial",
   "metadata": {},
   "outputs": [
    {
     "data": {
      "text/plain": [
       "tensorflow.python.data.ops.dataset_ops.PrefetchDataset"
      ]
     },
     "execution_count": 37,
     "metadata": {},
     "output_type": "execute_result"
    }
   ],
   "source": [
    "type(train_ds) #eval_ds,test_ds"
   ]
  },
  {
   "cell_type": "code",
   "execution_count": 38,
   "id": "stone-malaysia",
   "metadata": {},
   "outputs": [],
   "source": [
    "#train_files = glob('./data/train/x_*.npy')\n",
    "#eval_files = glob('./data/eval/x_*.npy')\n",
    "#test_files = glob('./data/test/x_*.npy')\n",
    "\n",
    "#train_url = 'https://github.com/FuzzyPhoton/DS-capstone-pt1/tree/main/experiments/noah/data/train/x_*.npy'\n",
    "#test_url = 'https://github.com/FuzzyPhoton/DS-capstone-pt1/tree/main/experiments/noah/data/test/x_*.npy'\n",
    "#eval_url = 'https://github.com/FuzzyPhoton/DS-capstone-pt1/tree/main/experiments/noah/data/eval/x_*.npy'\n",
    "\n",
    "#train_files = glob(train_url)\n",
    "#eval_files = glob(eval_url)\n",
    "#test_files = glob(test_url)\n",
    "\n",
    "#n_readers = 5\n",
    "#n_parse_threads = 5\n",
    "#len_array = 995       \n",
    "    \n",
    "#train_ds = tf.data.Dataset.from_generator(lambda: create_generator(train_files, cycle_length=n_readers), output_types=tf.float32)\n",
    "#train_ds = train_ds.map(split_xy, num_parallel_calls=n_parse_threads).prefetch(1)\n",
    "\n",
    "#val_ds = tf.data.Dataset.from_generator(lambda: create_generator(eval_files, cycle_length=n_readers), output_types=tf.float32)\n",
    "#val_ds = val_ds.map(split_xy, num_parallel_calls=n_parse_threads).prefetch(1)\n",
    "\n",
    "#test_ds = tf.data.Dataset.from_generator(lambda: create_generator(test_files, cycle_length=n_readers), output_types=tf.float32)\n",
    "#test_ds = test_ds.map(split_xy, num_parallel_calls=n_parse_threads).prefetch(1)"
   ]
  },
  {
   "cell_type": "code",
   "execution_count": 39,
   "id": "younger-tactics",
   "metadata": {},
   "outputs": [],
   "source": [
    "def linear_reg(x):\n",
    "   return A * x + b\n",
    "def mean_square_error(y_pred, y_true):\n",
    "   return tf.reduce_mean(tf.square(y_pred - y_true))\n",
    "\n",
    "learning_rate = 0.0\n",
    "optimizer = tf.optimizers.SGD(learning_rate)\n",
    "\n",
    "def run_optimization():\n",
    "   with tf.GradientTape() as g:\n",
    "      pred = linear_reg(X)\n",
    "      loss = mean_square_error(pred, Y)\n",
    "   gradients = g.gradient(loss, [A, b])\n",
    "   optimizer.apply_gradients(zip(gradients, [A, b]))"
   ]
  },
  {
   "cell_type": "code",
   "execution_count": 40,
   "id": "occasional-former",
   "metadata": {},
   "outputs": [],
   "source": [
    "# https://medium.com/analytics-vidhya/linear-regression-with-tensorflow-161f35a6ef3f\n",
    "\n",
    "#num_features = 102\n",
    "#W = tf.Variable([tf.random.normal(shape=[num_features,1])])\n",
    "#B = tf.Variable(0.05)\n",
    "\n",
    "#perform matrix multiplication and predicted y\n",
    "#xW = tf.matmul(train_ds, W)\n",
    "#ymodel = tf.add(xW, B)\n",
    "#calculate error aka loss function\n",
    "#error = tf.reduce_sum(tf.square(eval_ds-ymodel))\n",
    "       \n",
    "#define optimizer. In this case gradient descent\n",
    "#optimizer = tf.train.GradientDescentOptimizer(0.00001)\n",
    "#train = optimizer.minimize(error)"
   ]
  },
  {
   "cell_type": "code",
   "execution_count": null,
   "id": "professional-indicator",
   "metadata": {},
   "outputs": [],
   "source": []
  },
  {
   "cell_type": "markdown",
   "id": "black-enemy",
   "metadata": {},
   "source": [
    "## took a different approach to building the datasets, but lmk if it's off\n",
    "- https://www.guru99.com/linear-regression-tensorflow.html\n",
    "\n",
    "### works, but need to come back and get right x/y \n",
    "- need to sort x and y to 30 days to predict 1. Need to run on the entire dataset."
   ]
  },
  {
   "cell_type": "markdown",
   "id": "bulgarian-nursery",
   "metadata": {},
   "source": [
    "## ------ DF4 is used throughout linear regression ------"
   ]
  },
  {
   "cell_type": "code",
   "execution_count": 41,
   "id": "opposite-decade",
   "metadata": {},
   "outputs": [
    {
     "data": {
      "text/plain": [
       "1879.589"
      ]
     },
     "execution_count": 41,
     "metadata": {},
     "output_type": "execute_result"
    }
   ],
   "source": [
    "df.shape[0]/1000"
   ]
  },
  {
   "cell_type": "code",
   "execution_count": 42,
   "id": "extreme-basement",
   "metadata": {},
   "outputs": [
    {
     "data": {
      "text/html": [
       "<div>\n",
       "<style scoped>\n",
       "    .dataframe tbody tr th:only-of-type {\n",
       "        vertical-align: middle;\n",
       "    }\n",
       "\n",
       "    .dataframe tbody tr th {\n",
       "        vertical-align: top;\n",
       "    }\n",
       "\n",
       "    .dataframe thead th {\n",
       "        text-align: right;\n",
       "    }\n",
       "</style>\n",
       "<table border=\"1\" class=\"dataframe\">\n",
       "  <thead>\n",
       "    <tr style=\"text-align: right;\">\n",
       "      <th></th>\n",
       "      <th>fips</th>\n",
       "      <th>JHU_ConfirmedCases.data</th>\n",
       "      <th>JHU_ConfirmedDeaths.data</th>\n",
       "      <th>cyclical_sin</th>\n",
       "      <th>cyclical_cos</th>\n",
       "      <th>continuous_sin</th>\n",
       "      <th>continuous_cos</th>\n",
       "      <th>geo0</th>\n",
       "      <th>geo1</th>\n",
       "      <th>geo2</th>\n",
       "      <th>...</th>\n",
       "      <th>healthInsTotal</th>\n",
       "      <th>healthInsNativeWith</th>\n",
       "      <th>healthInsForeignNatWith</th>\n",
       "      <th>healthInsForeignNoncitWith</th>\n",
       "      <th>healthInsForeignNatNo</th>\n",
       "      <th>healthInsForeignNoncitNo</th>\n",
       "      <th>healthInsNativeNo</th>\n",
       "      <th>pm25</th>\n",
       "      <th>latitude</th>\n",
       "      <th>longitude</th>\n",
       "    </tr>\n",
       "  </thead>\n",
       "  <tbody>\n",
       "    <tr>\n",
       "      <th>0</th>\n",
       "      <td>45001</td>\n",
       "      <td>1.0</td>\n",
       "      <td>0.0</td>\n",
       "      <td>0.137279</td>\n",
       "      <td>0.990532</td>\n",
       "      <td>0.013771</td>\n",
       "      <td>0.999905</td>\n",
       "      <td>-0.141803</td>\n",
       "      <td>-0.011835</td>\n",
       "      <td>-0.198773</td>\n",
       "      <td>...</td>\n",
       "      <td>-0.235997</td>\n",
       "      <td>-0.262976</td>\n",
       "      <td>-0.137842</td>\n",
       "      <td>-0.148042</td>\n",
       "      <td>-0.143646</td>\n",
       "      <td>-0.141956</td>\n",
       "      <td>-0.196056</td>\n",
       "      <td>0.811931</td>\n",
       "      <td>-0.830256</td>\n",
       "      <td>0.80029</td>\n",
       "    </tr>\n",
       "    <tr>\n",
       "      <th>1</th>\n",
       "      <td>45001</td>\n",
       "      <td>1.0</td>\n",
       "      <td>0.0</td>\n",
       "      <td>0.154309</td>\n",
       "      <td>0.988023</td>\n",
       "      <td>0.015492</td>\n",
       "      <td>0.999880</td>\n",
       "      <td>-0.141803</td>\n",
       "      <td>-0.011835</td>\n",
       "      <td>-0.198773</td>\n",
       "      <td>...</td>\n",
       "      <td>-0.235997</td>\n",
       "      <td>-0.262976</td>\n",
       "      <td>-0.137842</td>\n",
       "      <td>-0.148042</td>\n",
       "      <td>-0.143646</td>\n",
       "      <td>-0.141956</td>\n",
       "      <td>-0.196056</td>\n",
       "      <td>0.811931</td>\n",
       "      <td>-0.830256</td>\n",
       "      <td>0.80029</td>\n",
       "    </tr>\n",
       "  </tbody>\n",
       "</table>\n",
       "<p>2 rows × 102 columns</p>\n",
       "</div>"
      ],
      "text/plain": [
       "    fips  JHU_ConfirmedCases.data  JHU_ConfirmedDeaths.data  cyclical_sin  \\\n",
       "0  45001                      1.0                       0.0      0.137279   \n",
       "1  45001                      1.0                       0.0      0.154309   \n",
       "\n",
       "   cyclical_cos  continuous_sin  continuous_cos      geo0      geo1      geo2  \\\n",
       "0      0.990532        0.013771        0.999905 -0.141803 -0.011835 -0.198773   \n",
       "1      0.988023        0.015492        0.999880 -0.141803 -0.011835 -0.198773   \n",
       "\n",
       "   ...  healthInsTotal  healthInsNativeWith  healthInsForeignNatWith  \\\n",
       "0  ...       -0.235997            -0.262976                -0.137842   \n",
       "1  ...       -0.235997            -0.262976                -0.137842   \n",
       "\n",
       "   healthInsForeignNoncitWith  healthInsForeignNatNo  \\\n",
       "0                   -0.148042              -0.143646   \n",
       "1                   -0.148042              -0.143646   \n",
       "\n",
       "   healthInsForeignNoncitNo  healthInsNativeNo      pm25  latitude  longitude  \n",
       "0                 -0.141956          -0.196056  0.811931 -0.830256    0.80029  \n",
       "1                 -0.141956          -0.196056  0.811931 -0.830256    0.80029  \n",
       "\n",
       "[2 rows x 102 columns]"
      ]
     },
     "execution_count": 42,
     "metadata": {},
     "output_type": "execute_result"
    }
   ],
   "source": [
    "df4 = df.head(1879)\n",
    "df4.head(2)"
   ]
  },
  {
   "cell_type": "code",
   "execution_count": 43,
   "id": "brief-technical",
   "metadata": {},
   "outputs": [],
   "source": [
    "## function to automate that day split\n",
    "\n",
    "def days_to_predict(dff,numDays):\n",
    "    train = pd.DataFrame(); test = pd.DataFrame()\n",
    "    numDays = numDays+1\n",
    "\n",
    "    for i in range(len(dff)):\n",
    "        if i%numDays == 0:\n",
    "            test = test.append(dff.loc[[i]], ignore_index = True)\n",
    "        else:\n",
    "            train = train.append(dff.loc[[i]], ignore_index = True)\n",
    "    return train,test"
   ]
  },
  {
   "cell_type": "code",
   "execution_count": 44,
   "id": "expanded-terrain",
   "metadata": {},
   "outputs": [
    {
     "data": {
      "text/html": [
       "<div>\n",
       "<style scoped>\n",
       "    .dataframe tbody tr th:only-of-type {\n",
       "        vertical-align: middle;\n",
       "    }\n",
       "\n",
       "    .dataframe tbody tr th {\n",
       "        vertical-align: top;\n",
       "    }\n",
       "\n",
       "    .dataframe thead th {\n",
       "        text-align: right;\n",
       "    }\n",
       "</style>\n",
       "<table border=\"1\" class=\"dataframe\">\n",
       "  <thead>\n",
       "    <tr style=\"text-align: right;\">\n",
       "      <th></th>\n",
       "      <th>fips</th>\n",
       "      <th>JHU_ConfirmedCases.data</th>\n",
       "      <th>JHU_ConfirmedDeaths.data</th>\n",
       "      <th>cyclical_sin</th>\n",
       "      <th>cyclical_cos</th>\n",
       "      <th>continuous_sin</th>\n",
       "      <th>continuous_cos</th>\n",
       "      <th>geo0</th>\n",
       "      <th>geo1</th>\n",
       "      <th>geo2</th>\n",
       "      <th>...</th>\n",
       "      <th>healthInsTotal</th>\n",
       "      <th>healthInsNativeWith</th>\n",
       "      <th>healthInsForeignNatWith</th>\n",
       "      <th>healthInsForeignNoncitWith</th>\n",
       "      <th>healthInsForeignNatNo</th>\n",
       "      <th>healthInsForeignNoncitNo</th>\n",
       "      <th>healthInsNativeNo</th>\n",
       "      <th>pm25</th>\n",
       "      <th>latitude</th>\n",
       "      <th>longitude</th>\n",
       "    </tr>\n",
       "  </thead>\n",
       "  <tbody>\n",
       "    <tr>\n",
       "      <th>0</th>\n",
       "      <td>45001</td>\n",
       "      <td>1.0</td>\n",
       "      <td>0.0</td>\n",
       "      <td>0.154309</td>\n",
       "      <td>0.988023</td>\n",
       "      <td>0.015492</td>\n",
       "      <td>0.999880</td>\n",
       "      <td>-0.141803</td>\n",
       "      <td>-0.011835</td>\n",
       "      <td>-0.198773</td>\n",
       "      <td>...</td>\n",
       "      <td>-0.235997</td>\n",
       "      <td>-0.262976</td>\n",
       "      <td>-0.137842</td>\n",
       "      <td>-0.148042</td>\n",
       "      <td>-0.143646</td>\n",
       "      <td>-0.141956</td>\n",
       "      <td>-0.196056</td>\n",
       "      <td>0.811931</td>\n",
       "      <td>-0.830256</td>\n",
       "      <td>0.80029</td>\n",
       "    </tr>\n",
       "    <tr>\n",
       "      <th>1</th>\n",
       "      <td>45001</td>\n",
       "      <td>1.0</td>\n",
       "      <td>0.0</td>\n",
       "      <td>0.171293</td>\n",
       "      <td>0.985220</td>\n",
       "      <td>0.017213</td>\n",
       "      <td>0.999852</td>\n",
       "      <td>-0.141803</td>\n",
       "      <td>-0.011835</td>\n",
       "      <td>-0.198773</td>\n",
       "      <td>...</td>\n",
       "      <td>-0.235997</td>\n",
       "      <td>-0.262976</td>\n",
       "      <td>-0.137842</td>\n",
       "      <td>-0.148042</td>\n",
       "      <td>-0.143646</td>\n",
       "      <td>-0.141956</td>\n",
       "      <td>-0.196056</td>\n",
       "      <td>0.811931</td>\n",
       "      <td>-0.830256</td>\n",
       "      <td>0.80029</td>\n",
       "    </tr>\n",
       "    <tr>\n",
       "      <th>2</th>\n",
       "      <td>45001</td>\n",
       "      <td>1.0</td>\n",
       "      <td>0.0</td>\n",
       "      <td>0.188227</td>\n",
       "      <td>0.982126</td>\n",
       "      <td>0.018934</td>\n",
       "      <td>0.999821</td>\n",
       "      <td>-0.141803</td>\n",
       "      <td>-0.011835</td>\n",
       "      <td>-0.198773</td>\n",
       "      <td>...</td>\n",
       "      <td>-0.235997</td>\n",
       "      <td>-0.262976</td>\n",
       "      <td>-0.137842</td>\n",
       "      <td>-0.148042</td>\n",
       "      <td>-0.143646</td>\n",
       "      <td>-0.141956</td>\n",
       "      <td>-0.196056</td>\n",
       "      <td>0.811931</td>\n",
       "      <td>-0.830256</td>\n",
       "      <td>0.80029</td>\n",
       "    </tr>\n",
       "  </tbody>\n",
       "</table>\n",
       "<p>3 rows × 102 columns</p>\n",
       "</div>"
      ],
      "text/plain": [
       "    fips  JHU_ConfirmedCases.data  JHU_ConfirmedDeaths.data  cyclical_sin  \\\n",
       "0  45001                      1.0                       0.0      0.154309   \n",
       "1  45001                      1.0                       0.0      0.171293   \n",
       "2  45001                      1.0                       0.0      0.188227   \n",
       "\n",
       "   cyclical_cos  continuous_sin  continuous_cos      geo0      geo1      geo2  \\\n",
       "0      0.988023        0.015492        0.999880 -0.141803 -0.011835 -0.198773   \n",
       "1      0.985220        0.017213        0.999852 -0.141803 -0.011835 -0.198773   \n",
       "2      0.982126        0.018934        0.999821 -0.141803 -0.011835 -0.198773   \n",
       "\n",
       "   ...  healthInsTotal  healthInsNativeWith  healthInsForeignNatWith  \\\n",
       "0  ...       -0.235997            -0.262976                -0.137842   \n",
       "1  ...       -0.235997            -0.262976                -0.137842   \n",
       "2  ...       -0.235997            -0.262976                -0.137842   \n",
       "\n",
       "   healthInsForeignNoncitWith  healthInsForeignNatNo  \\\n",
       "0                   -0.148042              -0.143646   \n",
       "1                   -0.148042              -0.143646   \n",
       "2                   -0.148042              -0.143646   \n",
       "\n",
       "   healthInsForeignNoncitNo  healthInsNativeNo      pm25  latitude  longitude  \n",
       "0                 -0.141956          -0.196056  0.811931 -0.830256    0.80029  \n",
       "1                 -0.141956          -0.196056  0.811931 -0.830256    0.80029  \n",
       "2                 -0.141956          -0.196056  0.811931 -0.830256    0.80029  \n",
       "\n",
       "[3 rows x 102 columns]"
      ]
     },
     "execution_count": 44,
     "metadata": {},
     "output_type": "execute_result"
    }
   ],
   "source": [
    "train_df4, test_df4 = days_to_predict(df4,30)\n",
    "train_df4.head(3) #;train_df4.head(3)"
   ]
  },
  {
   "cell_type": "code",
   "execution_count": 45,
   "id": "architectural-booth",
   "metadata": {},
   "outputs": [
    {
     "data": {
      "text/html": [
       "<div>\n",
       "<style scoped>\n",
       "    .dataframe tbody tr th:only-of-type {\n",
       "        vertical-align: middle;\n",
       "    }\n",
       "\n",
       "    .dataframe tbody tr th {\n",
       "        vertical-align: top;\n",
       "    }\n",
       "\n",
       "    .dataframe thead th {\n",
       "        text-align: right;\n",
       "    }\n",
       "</style>\n",
       "<table border=\"1\" class=\"dataframe\">\n",
       "  <thead>\n",
       "    <tr style=\"text-align: right;\">\n",
       "      <th></th>\n",
       "      <th>fips</th>\n",
       "      <th>JHU_ConfirmedCases.data</th>\n",
       "      <th>JHU_ConfirmedDeaths.data</th>\n",
       "      <th>cyclical_sin</th>\n",
       "      <th>cyclical_cos</th>\n",
       "      <th>continuous_sin</th>\n",
       "      <th>continuous_cos</th>\n",
       "      <th>geo0</th>\n",
       "      <th>geo1</th>\n",
       "      <th>geo2</th>\n",
       "      <th>...</th>\n",
       "      <th>healthInsTotal</th>\n",
       "      <th>healthInsNativeWith</th>\n",
       "      <th>healthInsForeignNatWith</th>\n",
       "      <th>healthInsForeignNoncitWith</th>\n",
       "      <th>healthInsForeignNatNo</th>\n",
       "      <th>healthInsForeignNoncitNo</th>\n",
       "      <th>healthInsNativeNo</th>\n",
       "      <th>pm25</th>\n",
       "      <th>latitude</th>\n",
       "      <th>longitude</th>\n",
       "    </tr>\n",
       "  </thead>\n",
       "  <tbody>\n",
       "    <tr>\n",
       "      <th>0</th>\n",
       "      <td>45001</td>\n",
       "      <td>1.0</td>\n",
       "      <td>0.0</td>\n",
       "      <td>0.137279</td>\n",
       "      <td>0.990532</td>\n",
       "      <td>0.013771</td>\n",
       "      <td>0.999905</td>\n",
       "      <td>-0.141803</td>\n",
       "      <td>-0.011835</td>\n",
       "      <td>-0.198773</td>\n",
       "      <td>...</td>\n",
       "      <td>-0.235997</td>\n",
       "      <td>-0.262976</td>\n",
       "      <td>-0.137842</td>\n",
       "      <td>-0.148042</td>\n",
       "      <td>-0.143646</td>\n",
       "      <td>-0.141956</td>\n",
       "      <td>-0.196056</td>\n",
       "      <td>0.811931</td>\n",
       "      <td>-0.830256</td>\n",
       "      <td>0.80029</td>\n",
       "    </tr>\n",
       "    <tr>\n",
       "      <th>1</th>\n",
       "      <td>45001</td>\n",
       "      <td>17.0</td>\n",
       "      <td>0.0</td>\n",
       "      <td>0.622047</td>\n",
       "      <td>0.782980</td>\n",
       "      <td>0.067085</td>\n",
       "      <td>0.997747</td>\n",
       "      <td>-0.141803</td>\n",
       "      <td>-0.011835</td>\n",
       "      <td>-0.198773</td>\n",
       "      <td>...</td>\n",
       "      <td>-0.235997</td>\n",
       "      <td>-0.262976</td>\n",
       "      <td>-0.137842</td>\n",
       "      <td>-0.148042</td>\n",
       "      <td>-0.143646</td>\n",
       "      <td>-0.141956</td>\n",
       "      <td>-0.196056</td>\n",
       "      <td>0.811931</td>\n",
       "      <td>-0.830256</td>\n",
       "      <td>0.80029</td>\n",
       "    </tr>\n",
       "    <tr>\n",
       "      <th>2</th>\n",
       "      <td>45001</td>\n",
       "      <td>36.0</td>\n",
       "      <td>0.0</td>\n",
       "      <td>0.933837</td>\n",
       "      <td>0.357698</td>\n",
       "      <td>0.120208</td>\n",
       "      <td>0.992749</td>\n",
       "      <td>-0.141803</td>\n",
       "      <td>-0.011835</td>\n",
       "      <td>-0.198773</td>\n",
       "      <td>...</td>\n",
       "      <td>-0.235997</td>\n",
       "      <td>-0.262976</td>\n",
       "      <td>-0.137842</td>\n",
       "      <td>-0.148042</td>\n",
       "      <td>-0.143646</td>\n",
       "      <td>-0.141956</td>\n",
       "      <td>-0.196056</td>\n",
       "      <td>0.811931</td>\n",
       "      <td>-0.830256</td>\n",
       "      <td>0.80029</td>\n",
       "    </tr>\n",
       "  </tbody>\n",
       "</table>\n",
       "<p>3 rows × 102 columns</p>\n",
       "</div>"
      ],
      "text/plain": [
       "    fips  JHU_ConfirmedCases.data  JHU_ConfirmedDeaths.data  cyclical_sin  \\\n",
       "0  45001                      1.0                       0.0      0.137279   \n",
       "1  45001                     17.0                       0.0      0.622047   \n",
       "2  45001                     36.0                       0.0      0.933837   \n",
       "\n",
       "   cyclical_cos  continuous_sin  continuous_cos      geo0      geo1      geo2  \\\n",
       "0      0.990532        0.013771        0.999905 -0.141803 -0.011835 -0.198773   \n",
       "1      0.782980        0.067085        0.997747 -0.141803 -0.011835 -0.198773   \n",
       "2      0.357698        0.120208        0.992749 -0.141803 -0.011835 -0.198773   \n",
       "\n",
       "   ...  healthInsTotal  healthInsNativeWith  healthInsForeignNatWith  \\\n",
       "0  ...       -0.235997            -0.262976                -0.137842   \n",
       "1  ...       -0.235997            -0.262976                -0.137842   \n",
       "2  ...       -0.235997            -0.262976                -0.137842   \n",
       "\n",
       "   healthInsForeignNoncitWith  healthInsForeignNatNo  \\\n",
       "0                   -0.148042              -0.143646   \n",
       "1                   -0.148042              -0.143646   \n",
       "2                   -0.148042              -0.143646   \n",
       "\n",
       "   healthInsForeignNoncitNo  healthInsNativeNo      pm25  latitude  longitude  \n",
       "0                 -0.141956          -0.196056  0.811931 -0.830256    0.80029  \n",
       "1                 -0.141956          -0.196056  0.811931 -0.830256    0.80029  \n",
       "2                 -0.141956          -0.196056  0.811931 -0.830256    0.80029  \n",
       "\n",
       "[3 rows x 102 columns]"
      ]
     },
     "execution_count": 45,
     "metadata": {},
     "output_type": "execute_result"
    }
   ],
   "source": [
    "test_df4.head(3)"
   ]
  },
  {
   "cell_type": "code",
   "execution_count": 46,
   "id": "diverse-qatar",
   "metadata": {},
   "outputs": [],
   "source": [
    "#training_size = int(len(df4) * 0.8)\n",
    "#train_df4 = df4.iloc[:training_size, :]\n",
    "#test_df4 = df4.iloc[training_size:, :]\n",
    "\n",
    "def input_fn(dataset, batch_size=128, num_epochs=None, shuffle=True):\n",
    "    return tf.compat.v1.estimator.inputs.pandas_input_fn(\n",
    "    x = dataset[features],\n",
    "    y = dataset[target],\n",
    "    batch_size=batch_size,\n",
    "    num_epochs=num_epochs,\n",
    "    shuffle=shuffle )"
   ]
  },
  {
   "cell_type": "code",
   "execution_count": 47,
   "id": "horizontal-carol",
   "metadata": {},
   "outputs": [
    {
     "name": "stdout",
     "output_type": "stream",
     "text": [
      "INFO:tensorflow:Using default config.\n",
      "INFO:tensorflow:Using config: {'_model_dir': 'LinRegTrain', '_tf_random_seed': None, '_save_summary_steps': 100, '_save_checkpoints_steps': None, '_save_checkpoints_secs': 600, '_session_config': allow_soft_placement: true\n",
      "graph_options {\n",
      "  rewrite_options {\n",
      "    meta_optimizer_iterations: ONE\n",
      "  }\n",
      "}\n",
      ", '_keep_checkpoint_max': 5, '_keep_checkpoint_every_n_hours': 10000, '_log_step_count_steps': 100, '_train_distribute': None, '_device_fn': None, '_protocol': None, '_eval_distribute': None, '_experimental_distribute': None, '_experimental_max_worker_delay_secs': None, '_session_creation_timeout_secs': 7200, '_checkpoint_save_graph_def': True, '_service': None, '_cluster_spec': ClusterSpec({}), '_task_type': 'worker', '_task_id': 0, '_global_id_in_cluster': 0, '_master': '', '_evaluation_master': '', '_is_chief': True, '_num_ps_replicas': 0, '_num_worker_replicas': 1}\n"
     ]
    }
   ],
   "source": [
    "## https://www.h2kinfosys.com/blog/linear-regression-using-tensorflow-with-examples/\n",
    "target = 'JHU_ConfirmedCases.data'\n",
    "features = list(df4.columns); features.remove(target)\n",
    "feature_columns = [tf.feature_column.numeric_column(i) for i in features]\n",
    "\n",
    "estimator = tf.estimator.LinearRegressor(feature_columns=feature_columns, model_dir='LinRegTrain')"
   ]
  },
  {
   "cell_type": "code",
   "execution_count": 48,
   "id": "bridal-disabled",
   "metadata": {},
   "outputs": [
    {
     "name": "stdout",
     "output_type": "stream",
     "text": [
      "WARNING:tensorflow:From /Library/Frameworks/Python.framework/Versions/3.8/lib/python3.8/site-packages/tensorflow/python/util/lazy_loader.py:63: The name tf.estimator.inputs is deprecated. Please use tf.compat.v1.estimator.inputs instead.\n",
      "\n",
      "WARNING:tensorflow:From /Library/Frameworks/Python.framework/Versions/3.8/lib/python3.8/site-packages/tensorflow/python/training/training_util.py:235: Variable.initialized_value (from tensorflow.python.ops.variables) is deprecated and will be removed in a future version.\n",
      "Instructions for updating:\n",
      "Use Variable.read_value. Variables in 2.X are initialized automatically both in eager and graph (inside tf.defun) contexts.\n",
      "WARNING:tensorflow:From /Library/Frameworks/Python.framework/Versions/3.8/lib/python3.8/site-packages/tensorflow_estimator/python/estimator/inputs/queues/feeding_queue_runner.py:60: QueueRunner.__init__ (from tensorflow.python.training.queue_runner_impl) is deprecated and will be removed in a future version.\n",
      "Instructions for updating:\n",
      "To construct input pipelines, use the `tf.data` module.\n",
      "WARNING:tensorflow:From /Library/Frameworks/Python.framework/Versions/3.8/lib/python3.8/site-packages/tensorflow_estimator/python/estimator/inputs/queues/feeding_functions.py:491: add_queue_runner (from tensorflow.python.training.queue_runner_impl) is deprecated and will be removed in a future version.\n",
      "Instructions for updating:\n",
      "To construct input pipelines, use the `tf.data` module.\n",
      "INFO:tensorflow:Calling model_fn.\n",
      "WARNING:tensorflow:From /Library/Frameworks/Python.framework/Versions/3.8/lib/python3.8/site-packages/tensorflow/python/keras/optimizer_v2/ftrl.py:133: calling Constant.__init__ (from tensorflow.python.ops.init_ops) with dtype is deprecated and will be removed in a future version.\n",
      "Instructions for updating:\n",
      "Call initializer instance with the dtype argument instead of passing it to the constructor\n",
      "INFO:tensorflow:Done calling model_fn.\n",
      "INFO:tensorflow:Create CheckpointSaverHook.\n",
      "INFO:tensorflow:Graph was finalized.\n",
      "INFO:tensorflow:Running local_init_op.\n",
      "INFO:tensorflow:Done running local_init_op.\n",
      "WARNING:tensorflow:From /Library/Frameworks/Python.framework/Versions/3.8/lib/python3.8/site-packages/tensorflow/python/training/monitored_session.py:906: start_queue_runners (from tensorflow.python.training.queue_runner_impl) is deprecated and will be removed in a future version.\n",
      "Instructions for updating:\n",
      "To construct input pipelines, use the `tf.data` module.\n",
      "INFO:tensorflow:Calling checkpoint listeners before saving checkpoint 0...\n",
      "INFO:tensorflow:Saving checkpoints for 0 into LinRegTrain/model.ckpt.\n",
      "INFO:tensorflow:Calling checkpoint listeners after saving checkpoint 0...\n",
      "INFO:tensorflow:loss = 22407224.0, step = 0\n",
      "INFO:tensorflow:global_step/sec: 38.7329\n",
      "INFO:tensorflow:loss = 2361572.0, step = 100 (2.584 sec)\n",
      "INFO:tensorflow:global_step/sec: 47.1792\n",
      "INFO:tensorflow:loss = 4068400.0, step = 200 (2.119 sec)\n",
      "INFO:tensorflow:global_step/sec: 49.8182\n",
      "INFO:tensorflow:loss = 8386783.0, step = 300 (2.008 sec)\n",
      "INFO:tensorflow:global_step/sec: 54.8251\n",
      "INFO:tensorflow:loss = 9057480.0, step = 400 (1.824 sec)\n",
      "INFO:tensorflow:global_step/sec: 54.5931\n",
      "INFO:tensorflow:loss = 16088234.0, step = 500 (1.832 sec)\n",
      "INFO:tensorflow:global_step/sec: 54.3581\n",
      "INFO:tensorflow:loss = 19808314.0, step = 600 (1.840 sec)\n",
      "INFO:tensorflow:global_step/sec: 55.3523\n",
      "INFO:tensorflow:loss = 16236977.0, step = 700 (1.806 sec)\n",
      "INFO:tensorflow:global_step/sec: 54.8931\n",
      "INFO:tensorflow:loss = 12724538.0, step = 800 (1.821 sec)\n",
      "INFO:tensorflow:global_step/sec: 55.0547\n",
      "INFO:tensorflow:loss = 10706320.0, step = 900 (1.816 sec)\n",
      "INFO:tensorflow:global_step/sec: 55.1209\n",
      "INFO:tensorflow:loss = 9159124.0, step = 1000 (1.815 sec)\n",
      "INFO:tensorflow:global_step/sec: 56.3923\n",
      "INFO:tensorflow:loss = 7176601.0, step = 1100 (1.774 sec)\n",
      "INFO:tensorflow:global_step/sec: 49.9863\n",
      "INFO:tensorflow:loss = 3935237.0, step = 1200 (2.000 sec)\n",
      "INFO:tensorflow:global_step/sec: 54.0149\n",
      "INFO:tensorflow:loss = 3586624.5, step = 1300 (1.852 sec)\n",
      "INFO:tensorflow:global_step/sec: 55.1686\n",
      "INFO:tensorflow:loss = 3290296.0, step = 1400 (1.812 sec)\n",
      "INFO:tensorflow:global_step/sec: 55.363\n",
      "INFO:tensorflow:loss = 4196228.5, step = 1500 (1.807 sec)\n",
      "INFO:tensorflow:global_step/sec: 55.3002\n",
      "INFO:tensorflow:loss = 3930083.5, step = 1600 (1.807 sec)\n",
      "INFO:tensorflow:global_step/sec: 54.8632\n",
      "INFO:tensorflow:loss = 3689193.2, step = 1700 (1.824 sec)\n",
      "INFO:tensorflow:global_step/sec: 54.2922\n",
      "INFO:tensorflow:loss = 1706335.5, step = 1800 (1.841 sec)\n",
      "INFO:tensorflow:global_step/sec: 54.2956\n",
      "INFO:tensorflow:loss = 1886719.9, step = 1900 (1.843 sec)\n",
      "INFO:tensorflow:Calling checkpoint listeners before saving checkpoint 2000...\n",
      "INFO:tensorflow:Saving checkpoints for 2000 into LinRegTrain/model.ckpt.\n",
      "INFO:tensorflow:Calling checkpoint listeners after saving checkpoint 2000...\n",
      "INFO:tensorflow:Loss for final step: 2125543.0.\n"
     ]
    },
    {
     "data": {
      "text/plain": [
       "<tensorflow_estimator.python.estimator.canned.linear.LinearRegressorV2 at 0x7fe85c65cb80>"
      ]
     },
     "execution_count": 48,
     "metadata": {},
     "output_type": "execute_result"
    }
   ],
   "source": [
    "#train the model with 2000 steps\n",
    "estimator.train(input_fn=input_fn(train_df4, num_epochs=None), steps=2000)"
   ]
  },
  {
   "cell_type": "code",
   "execution_count": 49,
   "id": "reduced-verification",
   "metadata": {},
   "outputs": [
    {
     "name": "stdout",
     "output_type": "stream",
     "text": [
      "INFO:tensorflow:Calling model_fn.\n",
      "INFO:tensorflow:Done calling model_fn.\n",
      "INFO:tensorflow:Starting evaluation at 2022-02-17T22:23:24Z\n",
      "INFO:tensorflow:Graph was finalized.\n",
      "INFO:tensorflow:Restoring parameters from LinRegTrain/model.ckpt-2000\n",
      "INFO:tensorflow:Running local_init_op.\n",
      "INFO:tensorflow:Done running local_init_op.\n",
      "INFO:tensorflow:Inference Time : 1.83444s\n",
      "INFO:tensorflow:Finished evaluation at 2022-02-17-22:23:26\n",
      "INFO:tensorflow:Saving dict for global step 2000: average_loss = 5380381.0, global_step = 2000, label/mean = 3120.5083, loss = 5549696.0, prediction/mean = 2267.804\n",
      "INFO:tensorflow:Saving 'checkpoint_path' summary for global step 2000: LinRegTrain/model.ckpt-2000\n"
     ]
    }
   ],
   "source": [
    "#evaluate the model\n",
    "ev = estimator.evaluate(input_fn=input_fn(test_df4, num_epochs=10, shuffle=True))"
   ]
  },
  {
   "cell_type": "code",
   "execution_count": 50,
   "id": "looking-shanghai",
   "metadata": {},
   "outputs": [
    {
     "data": {
      "text/plain": [
       "count     1818.000000\n",
       "mean      2976.956546\n",
       "std       2708.463689\n",
       "min          0.000000\n",
       "25%       1009.250000\n",
       "50%       2597.000000\n",
       "75%       4096.500000\n",
       "max      12748.000000\n",
       "Name: JHU_ConfirmedCases.data, dtype: float64"
      ]
     },
     "execution_count": 50,
     "metadata": {},
     "output_type": "execute_result"
    }
   ],
   "source": [
    "train_df4[target].describe()"
   ]
  },
  {
   "cell_type": "code",
   "execution_count": 51,
   "id": "every-playing",
   "metadata": {},
   "outputs": [
    {
     "name": "stdout",
     "output_type": "stream",
     "text": [
      "Loss: 5549696.000000\n"
     ]
    }
   ],
   "source": [
    "loss_score = ev[\"loss\"]\n",
    "print(\"Loss: {0:f}\".format(loss_score))"
   ]
  },
  {
   "cell_type": "code",
   "execution_count": 57,
   "id": "sapphire-senegal",
   "metadata": {},
   "outputs": [
    {
     "data": {
      "text/plain": [
       "102"
      ]
     },
     "execution_count": 57,
     "metadata": {},
     "output_type": "execute_result"
    }
   ],
   "source": [
    "### is this suppuse to go where it is in the line below??\n",
    "test_df4.shape[1]"
   ]
  },
  {
   "cell_type": "code",
   "execution_count": 61,
   "id": "extra-house",
   "metadata": {},
   "outputs": [
    {
     "name": "stdout",
     "output_type": "stream",
     "text": [
      "INFO:tensorflow:Calling model_fn.\n",
      "INFO:tensorflow:Done calling model_fn.\n",
      "INFO:tensorflow:Graph was finalized.\n",
      "INFO:tensorflow:Restoring parameters from LinRegTrain/model.ckpt-2000\n",
      "INFO:tensorflow:Running local_init_op.\n",
      "INFO:tensorflow:Done running local_init_op.\n"
     ]
    }
   ],
   "source": [
    "y_pred_df4 = estimator.predict(input_fn=input_fn(test_df4,num_epochs=None))\n",
    "predictions = list(p[\"predictions\"] for p in itertools.islice(y_pred_df4, test_df4.shape[0]))\n",
    "#print(\"Predictions: {}\".format(str(predictions)))"
   ]
  },
  {
   "cell_type": "code",
   "execution_count": 62,
   "id": "straight-texas",
   "metadata": {},
   "outputs": [
    {
     "data": {
      "text/plain": [
       "[2074.5508, 2776.4573, 2006.8436, 2167.3044, 3157.1533]"
      ]
     },
     "execution_count": 62,
     "metadata": {},
     "output_type": "execute_result"
    }
   ],
   "source": [
    "ypred_df4 = [x[0] for x in predictions]\n",
    "ypred_df4[0:5]"
   ]
  },
  {
   "cell_type": "code",
   "execution_count": 63,
   "id": "anonymous-month",
   "metadata": {},
   "outputs": [
    {
     "name": "stdout",
     "output_type": "stream",
     "text": [
      "2181.5626600922133\n"
     ]
    }
   ],
   "source": [
    "from sklearn.metrics import mean_absolute_error\n",
    "MAE = mean_absolute_error(test_df4[target], ypred_df4)\n",
    "print(MAE)"
   ]
  },
  {
   "cell_type": "code",
   "execution_count": 56,
   "id": "thirty-recruitment",
   "metadata": {},
   "outputs": [
    {
     "data": {
      "text/plain": [
       "Text(0, 0.5, 'ypred')"
      ]
     },
     "execution_count": 56,
     "metadata": {},
     "output_type": "execute_result"
    },
    {
     "data": {
      "image/png": "[encoded data removed]",
      "text/plain": [
       "<Figure size 504x504 with 1 Axes>"
      ]
     },
     "metadata": {
      "needs_background": "light"
     },
     "output_type": "display_data"
    }
   ],
   "source": [
    "plt.figure(figsize=(7,7))\n",
    "plt.scatter(ypred_df4,test_df4[target],s =5, cmap='prism')\n",
    "plt.xlabel('y')\n",
    "plt.ylabel('ypred')"
   ]
  },
  {
   "cell_type": "code",
   "execution_count": null,
   "id": "straight-monster",
   "metadata": {},
   "outputs": [],
   "source": [
    "# plots?"
   ]
  },
  {
   "cell_type": "markdown",
   "id": "previous-marriage",
   "metadata": {},
   "source": [
    "### another attempt, not needed"
   ]
  },
  {
   "cell_type": "code",
   "execution_count": null,
   "id": "smart-terminal",
   "metadata": {},
   "outputs": [],
   "source": [
    "### https://www.machinelearningmindset.com/linear-regression-with-tensorflow/\n",
    "\n",
    "#p=0.8\n",
    "#trainDataset = df4.sample(frac=p,random_state=0)\n",
    "#testDataset = df4.drop(trainDataset.index)\n",
    "\n",
    "#target = 'JHU_ConfirmedCases.data'\n",
    "#features = list(df4.columns)\n",
    "#feature_columns = [tf.feature_column.numeric_column(i) for i in features]\n",
    "\n",
    "#trainInput = trainDataset[features]; testInput = testDataset[features]\n",
    "#trainTarget = trainDataset[target]; testTarget = testDataset[target]"
   ]
  },
  {
   "cell_type": "code",
   "execution_count": null,
   "id": "divided-buddy",
   "metadata": {},
   "outputs": [],
   "source": [
    "#trainInput = trainInput.T; testInput = testInput.T"
   ]
  },
  {
   "cell_type": "code",
   "execution_count": null,
   "id": "turned-heating",
   "metadata": {},
   "outputs": [],
   "source": [
    "### https://techbrij.com/tensorflow-linear-regression-model\n",
    "\n",
    "# Define layer\n",
    "#layer0 = tf.keras.layers.Dense(units=1, input_shape=[102])\n",
    "#model = tf.keras.Sequential([layer0])\n",
    " \n",
    "# Compile model\n",
    "#model.compile(loss='mean_squared_error', optimizer=tf.keras.optimizers.Adam(1))\n",
    " \n",
    "# Train the model\n",
    "#history = model.fit(trainInput, testInput, epochs=100, verbose=False)\n",
    " \n",
    "# Prediction\n",
    "#print('Prediction: {}'.format(model.predict([10])))\n",
    " \n",
    "# Get weight and bias\n",
    "#weights = layer0.get_weights()\n",
    "#print('weight: {} bias: {}'.format(weights[0], weights[1]))"
   ]
  }
 ],
 "metadata": {
  "kernelspec": {
   "display_name": "Python 3",
   "language": "python",
   "name": "python3"
  },
  "language_info": {
   "codemirror_mode": {
    "name": "ipython",
    "version": 3
   },
   "file_extension": ".py",
   "mimetype": "text/x-python",
   "name": "python",
   "nbconvert_exporter": "python",
   "pygments_lexer": "ipython3",
   "version": "3.8.4"
  }
 },
 "nbformat": 4,
 "nbformat_minor": 5
}
