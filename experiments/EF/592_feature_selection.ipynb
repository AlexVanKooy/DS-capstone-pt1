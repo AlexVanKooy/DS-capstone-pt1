{
 "cells": [
  {
   "cell_type": "code",
   "execution_count": 1,
   "id": "exceptional-kidney",
   "metadata": {},
   "outputs": [],
   "source": [
    "import pickle; import tensorflow as tf; import pandas as pd\n",
    "import matplotlib.pyplot as plt ; import datetime; from datetime import datetime\n",
    "#print(tf.version)\n",
    "import bz2; import random; import numpy as np\n",
    "from sklearn.model_selection import train_test_split\n",
    "from sklearn.decomposition import PCA\n",
    "from sklearn import preprocessing\n",
    "from sklearn.preprocessing import StandardScaler\n",
    "from sklearn.linear_model import LogisticRegression\n",
    "from sklearn.linear_model import LinearRegression\n",
    "from sklearn.metrics import accuracy_score\n",
    "import warnings; from sklearn import metrics\n",
    "import seaborn as sns; import itertools\n",
    "warnings.filterwarnings('ignore')\n",
    "###\n",
    "import os; import os.path; from glob import glob\n",
    "import random; import shutil\n",
    "from tqdm.auto import tqdm\n",
    "import tensorflow.keras as keras\n",
    "from tensorflow.keras import backend as K\n",
    "from tensorflow.keras.optimizers import Adam\n",
    "from tensorboard.plugins.hparams import api as hp\n",
    "from sklearn.model_selection import train_test_split\n",
    "#from kerashypetune import KerasGridSearch\n",
    "from numpy import mean; from numpy import std\n",
    "from sklearn.datasets import make_classification\n",
    "from sklearn.model_selection import cross_val_score\n",
    "from sklearn.model_selection import RepeatedStratifiedKFold\n",
    "from sklearn.pipeline import Pipeline\n",
    "from sklearn.decomposition import TruncatedSVD\n",
    "from numpy.linalg import eigh; import plotly.express as px; "
   ]
  },
  {
   "cell_type": "code",
   "execution_count": 2,
   "id": "digital-field",
   "metadata": {},
   "outputs": [],
   "source": [
    "def FIPS_function(row):\n",
    "    state = str(row['stateFip']).zfill(2)\n",
    "    county = str(row['countyFip']).zfill(3)\n",
    "    return str(state + county)\n",
    "\n",
    "\n",
    "def get_above_threshold_2(dff,target,thresh):\n",
    "    \n",
    "    corr_mtrx = dff.corr(); corr_vals = corr_mtrx.values\n",
    "    flds = list(corr_mtrx.columns); numCols = corr_mtrx.shape[0]\n",
    "    \n",
    "    above_threshold = []\n",
    "    for i in range(numCols):\n",
    "        for j in range(i+1, numCols):\n",
    "            if corr_vals[i,j] > thresh:\n",
    "                if i != j:\n",
    "                    above_threshold.append([flds[i],flds[j],corr_vals[i,j]])\n",
    "    above_threshold.sort(reverse=True)\n",
    "    \n",
    "    #above = [above.append(i) for i in above_threshold if i[0] == target or if i[1] == target:]\n",
    "    list_above = []\n",
    "    for i in above_threshold:\n",
    "        if i[0] == target or i[1] == target:\n",
    "            list_above.append(i)\n",
    "            \n",
    "    return corr_mtrx, list_above\n",
    "\n",
    "\n",
    "def get_suggestions(dff,num,methodd):\n",
    "    \n",
    "    # get correlation matrix using desired method\n",
    "    og_corr_mtrx = dff.corr(method=methodd); corr_vals = og_corr_mtrx.values\n",
    "    flds = list(og_corr_mtrx.columns); numCols = og_corr_mtrx.shape[0]; \n",
    "    target_corrs = []; target = 'JHU_ConfirmedCases.data'\n",
    "    \n",
    "    # iterate throughout matrix and get all correlations associated with target\n",
    "    for i in range(numCols):\n",
    "        for j in range(i+1, numCols):\n",
    "            if i != j:\n",
    "                if flds[i] == target or flds[j] == target:\n",
    "                    target_corrs.append([flds[i],flds[j],corr_vals[i,j]])\n",
    "    \n",
    "    # convert corrs to df, sort by correlations and keep only the number of desried rows \n",
    "    s_corrs = pd.DataFrame(target_corrs,columns=['col1','col2','corr'])\n",
    "    s_corrs = s_corrs.sort_values(by='corr', ascending=False).head(num)\n",
    "    s_corrs.reset_index(drop=True); suggestion_lst=[]\n",
    "    \n",
    "    # put the names of columns into a list\n",
    "    for i, j in s_corrs.iterrows():\n",
    "        if j[\"col1\"] != target:\n",
    "            suggestion_lst.append(j['col1'])\n",
    "        if j['col2'] != target:\n",
    "            suggestion_lst.append(j['col2'])\n",
    "            \n",
    "    return suggestion_lst, s_corrs, og_corr_mtrx"
   ]
  },
  {
   "cell_type": "code",
   "execution_count": 11,
   "id": "dimensional-deployment",
   "metadata": {},
   "outputs": [
    {
     "name": "stdout",
     "output_type": "stream",
     "text": [
      "(1879589, 88)\n"
     ]
    },
    {
     "data": {
      "text/html": [
       "<div>\n",
       "<style scoped>\n",
       "    .dataframe tbody tr th:only-of-type {\n",
       "        vertical-align: middle;\n",
       "    }\n",
       "\n",
       "    .dataframe tbody tr th {\n",
       "        vertical-align: top;\n",
       "    }\n",
       "\n",
       "    .dataframe thead th {\n",
       "        text-align: right;\n",
       "    }\n",
       "</style>\n",
       "<table border=\"1\" class=\"dataframe\">\n",
       "  <thead>\n",
       "    <tr style=\"text-align: right;\">\n",
       "      <th></th>\n",
       "      <th>dates</th>\n",
       "      <th>JHU_ConfirmedCases.data</th>\n",
       "      <th>JHU_ConfirmedDeaths.data</th>\n",
       "      <th>TotalPopulation.data</th>\n",
       "      <th>MaleAndFemale_AtLeast65_Population.data</th>\n",
       "      <th>Male_Total_Population.data</th>\n",
       "      <th>Female_Total_Population.data</th>\n",
       "      <th>MaleAndFemale_Under18_Population.data</th>\n",
       "      <th>BLS_EmployedPopulation.data</th>\n",
       "      <th>BLS_EmployedPopulation.missing</th>\n",
       "      <th>...</th>\n",
       "      <th>hoursWorkedMean</th>\n",
       "      <th>unitsInStructure</th>\n",
       "      <th>healthInsTotal</th>\n",
       "      <th>healthInsNativeWith</th>\n",
       "      <th>healthInsForeignNatWith</th>\n",
       "      <th>healthInsForeignNoncitWith</th>\n",
       "      <th>healthInsForeignNatNo</th>\n",
       "      <th>healthInsForeignNoncitNo</th>\n",
       "      <th>healthInsNativeNo</th>\n",
       "      <th>pm25</th>\n",
       "    </tr>\n",
       "  </thead>\n",
       "  <tbody>\n",
       "    <tr>\n",
       "      <th>0</th>\n",
       "      <td>2020-03-19</td>\n",
       "      <td>1.0</td>\n",
       "      <td>0.0</td>\n",
       "      <td>24527.0</td>\n",
       "      <td>5343.0</td>\n",
       "      <td>11868.0</td>\n",
       "      <td>12673.0</td>\n",
       "      <td>4924.0</td>\n",
       "      <td>9716.5</td>\n",
       "      <td>0.0</td>\n",
       "      <td>...</td>\n",
       "      <td>38.1</td>\n",
       "      <td>12191</td>\n",
       "      <td>24397</td>\n",
       "      <td>21415</td>\n",
       "      <td>179</td>\n",
       "      <td>87</td>\n",
       "      <td>39</td>\n",
       "      <td>122</td>\n",
       "      <td>2555</td>\n",
       "      <td>9.618551</td>\n",
       "    </tr>\n",
       "    <tr>\n",
       "      <th>1</th>\n",
       "      <td>2020-03-20</td>\n",
       "      <td>1.0</td>\n",
       "      <td>0.0</td>\n",
       "      <td>24527.0</td>\n",
       "      <td>5343.0</td>\n",
       "      <td>11868.0</td>\n",
       "      <td>12673.0</td>\n",
       "      <td>4924.0</td>\n",
       "      <td>9716.5</td>\n",
       "      <td>0.0</td>\n",
       "      <td>...</td>\n",
       "      <td>38.1</td>\n",
       "      <td>12191</td>\n",
       "      <td>24397</td>\n",
       "      <td>21415</td>\n",
       "      <td>179</td>\n",
       "      <td>87</td>\n",
       "      <td>39</td>\n",
       "      <td>122</td>\n",
       "      <td>2555</td>\n",
       "      <td>9.618551</td>\n",
       "    </tr>\n",
       "    <tr>\n",
       "      <th>2</th>\n",
       "      <td>2020-03-21</td>\n",
       "      <td>1.0</td>\n",
       "      <td>0.0</td>\n",
       "      <td>24527.0</td>\n",
       "      <td>5343.0</td>\n",
       "      <td>11868.0</td>\n",
       "      <td>12673.0</td>\n",
       "      <td>4924.0</td>\n",
       "      <td>9716.5</td>\n",
       "      <td>0.0</td>\n",
       "      <td>...</td>\n",
       "      <td>38.1</td>\n",
       "      <td>12191</td>\n",
       "      <td>24397</td>\n",
       "      <td>21415</td>\n",
       "      <td>179</td>\n",
       "      <td>87</td>\n",
       "      <td>39</td>\n",
       "      <td>122</td>\n",
       "      <td>2555</td>\n",
       "      <td>9.618551</td>\n",
       "    </tr>\n",
       "  </tbody>\n",
       "</table>\n",
       "<p>3 rows × 88 columns</p>\n",
       "</div>"
      ],
      "text/plain": [
       "        dates  JHU_ConfirmedCases.data  JHU_ConfirmedDeaths.data  \\\n",
       "0  2020-03-19                      1.0                       0.0   \n",
       "1  2020-03-20                      1.0                       0.0   \n",
       "2  2020-03-21                      1.0                       0.0   \n",
       "\n",
       "   TotalPopulation.data  MaleAndFemale_AtLeast65_Population.data  \\\n",
       "0               24527.0                                   5343.0   \n",
       "1               24527.0                                   5343.0   \n",
       "2               24527.0                                   5343.0   \n",
       "\n",
       "   Male_Total_Population.data  Female_Total_Population.data  \\\n",
       "0                     11868.0                       12673.0   \n",
       "1                     11868.0                       12673.0   \n",
       "2                     11868.0                       12673.0   \n",
       "\n",
       "   MaleAndFemale_Under18_Population.data  BLS_EmployedPopulation.data  \\\n",
       "0                                 4924.0                       9716.5   \n",
       "1                                 4924.0                       9716.5   \n",
       "2                                 4924.0                       9716.5   \n",
       "\n",
       "   BLS_EmployedPopulation.missing  ...  hoursWorkedMean  unitsInStructure  \\\n",
       "0                             0.0  ...             38.1             12191   \n",
       "1                             0.0  ...             38.1             12191   \n",
       "2                             0.0  ...             38.1             12191   \n",
       "\n",
       "   healthInsTotal  healthInsNativeWith  healthInsForeignNatWith  \\\n",
       "0           24397                21415                      179   \n",
       "1           24397                21415                      179   \n",
       "2           24397                21415                      179   \n",
       "\n",
       "   healthInsForeignNoncitWith  healthInsForeignNatNo  \\\n",
       "0                          87                     39   \n",
       "1                          87                     39   \n",
       "2                          87                     39   \n",
       "\n",
       "   healthInsForeignNoncitNo  healthInsNativeNo      pm25  \n",
       "0                       122               2555  9.618551  \n",
       "1                       122               2555  9.618551  \n",
       "2                       122               2555  9.618551  \n",
       "\n",
       "[3 rows x 88 columns]"
      ]
     },
     "execution_count": 11,
     "metadata": {},
     "output_type": "execute_result"
    }
   ],
   "source": [
    "file_name = '/Users/evanfalkowski/Documents/Drexel/Capstone/DSCI_592/workspace/feeFiFoFum.pbz2'\n",
    "bz_file = bz2.BZ2File(file_name,'rb'); df = pd.read_pickle(bz_file)\n",
    "cols = ['NYT_ConfirmedCases.data','NYT_ConfirmedDeaths.data','NYT_ConfirmedDeaths.missing','county','LND110210','countyStateName','stateFip','countyFip']\n",
    "df.drop(cols, axis=1, inplace=True); print(df.shape); df.head(3)"
   ]
  },
  {
   "cell_type": "code",
   "execution_count": 12,
   "id": "lightweight-riding",
   "metadata": {},
   "outputs": [
    {
     "name": "stdout",
     "output_type": "stream",
     "text": [
      "(1879589, 88) 380\n",
      "(1879209, 87) 0\n"
     ]
    }
   ],
   "source": [
    "print(df.shape,df.isnull().sum().sum())\n",
    "df = df.dropna(); df = df.reset_index(drop = True);df = df.drop(columns='dates')\n",
    "print(df.shape,df.isnull().sum().sum())"
   ]
  },
  {
   "cell_type": "markdown",
   "id": "selected-container",
   "metadata": {},
   "source": [
    "## PCA\n",
    "- https://towardsdatascience.com/pca-using-python-scikit-learn-e653f8989e60\n",
    "- at 95% variance"
   ]
  },
  {
   "cell_type": "code",
   "execution_count": 36,
   "id": "random-declaration",
   "metadata": {},
   "outputs": [
    {
     "name": "stdout",
     "output_type": "stream",
     "text": [
      "Number of principle compnents:  87\n",
      "Original number of compnents:  87\n"
     ]
    }
   ],
   "source": [
    "target = 'JHU_ConfirmedCases.data'; features = list(df.columns);y = df.loc[:,[target]].values\n",
    "x = df.loc[:, features].values; x = StandardScaler().fit_transform(x)\n",
    "\n",
    "pca = PCA(); principalComponents = pca.fit_transform(x)\n",
    "principalDf = pd.DataFrame(data = principalComponents)\n",
    "\n",
    "pca_df = pd.concat([principalDf, df[[target]]], axis = 1)\n",
    "var_expln = list(pca.explained_variance_ratio_);var_expln.sort(reverse=True)\n",
    "print('Number of principle compnents: ', len(var_expln))\n",
    "print('Original number of compnents: ', df.shape[1])"
   ]
  },
  {
   "cell_type": "code",
   "execution_count": 37,
   "id": "offensive-cologne",
   "metadata": {},
   "outputs": [
    {
     "data": {
      "image/png": "[encoded data removed]",
      "text/plain": [
       "<Figure size 1152x576 with 1 Axes>"
      ]
     },
     "metadata": {
      "needs_background": "light"
     },
     "output_type": "display_data"
    }
   ],
   "source": [
    "# Plot the cumulative variance for each component\n",
    "#https://statisticallyrelevant.com/principal-component-analysis-in-python/\n",
    "plt.figure(figsize = (16, 8))\n",
    "components = np.arange(1, 88, step=1)\n",
    "variance = np.cumsum(pca.explained_variance_ratio_)\n",
    "plt.ylim(0.4,1.1)\n",
    "plt.plot(components, variance, marker='.', linestyle='-', color='black')\n",
    "plt.xlabel('Number of Components')\n",
    "plt.xticks(np.arange(1, 39, step=1))\n",
    "plt.ylabel('Cumulative variance (%)')\n",
    "plt.title('The number of components needed to explain variance')\n",
    "#95%\n",
    "plt.axhline(y=0.95, color='b', linestyle='-')\n",
    "plt.text(0.75, 0.96, '95% variance threshold', color = 'blue', fontsize=12)\n",
    "plt.text(50, 0.96, \"Components needed: \"+str(np.where(np.cumsum(pca.explained_variance_ratio_)>=0.95)[0][0]), color = \"blue\", fontsize=12)\n",
    "#90%\n",
    "plt.axhline(y=0.88, color='r', linestyle='-')\n",
    "plt.text(0.75, 0.89, '88% variance threshold', color = 'red', fontsize=12)\n",
    "plt.text(50, 0.89, \"Components needed: \"+str(np.where(np.cumsum(pca.explained_variance_ratio_)>=0.88)[0][0]), color = \"red\", fontsize=12)\n",
    "#80%\n",
    "plt.axhline(y=0.80, color='b', linestyle='-')\n",
    "plt.text(0.75, 0.81, '80% variance threshold', color = 'blue', fontsize=12)\n",
    "plt.text(50, 0.81, \"Components needed: \"+str(np.where(np.cumsum(pca.explained_variance_ratio_)>=0.80)[0][0]), color = \"blue\", fontsize=12)\n",
    "plt.show()"
   ]
  },
  {
   "cell_type": "code",
   "execution_count": 39,
   "id": "incorporated-processor",
   "metadata": {},
   "outputs": [
    {
     "data": {
      "image/png": "[encoded data removed]",
      "text/plain": [
       "<Figure size 1296x576 with 1 Axes>"
      ]
     },
     "metadata": {
      "needs_background": "light"
     },
     "output_type": "display_data"
    }
   ],
   "source": [
    "# Scree plot\n",
    "plt.figure(figsize=(18, 8))\n",
    "components = np.arange(1, 88, step=1)\n",
    "eigenvalues = pca.explained_variance_\n",
    "plt.plot(components, eigenvalues, marker = '.', linestyle = '-', color = 'black')\n",
    "#plt.ylim(0, max(eigenvalues))\n",
    "plt.ylim(0, max(eigenvalues)/4)\n",
    "plt.ylabel('Eigenvalue')\n",
    "plt.xlabel('Number of Components')\n",
    "plt.xticks(np.arange(1, 88, step = 1))\n",
    "plt.title('Scree plot')\n",
    "plt.axhline(y=1, color = 'r', linestyle = '-')\n",
    "plt.text(0, 1.11, 'Eigenvalue Cutoff', color = 'red', fontsize=12)\n",
    "plt.text(45,1.11,'Components Needed: '+str(np.where(eigenvalues<=1)[0][0]),color='red',fontsize=12)\n",
    "plt.show()"
   ]
  },
  {
   "cell_type": "markdown",
   "id": "backed-continent",
   "metadata": {},
   "source": [
    "The above scree plot contains the eigenvalues on the y axis and the number of components \n",
    "on the x axis. A general rule of thumb, is to keep number of components that have an \n",
    "eigenvalue greater than 1. The scree plot suggests to keep 17 components. "
   ]
  },
  {
   "cell_type": "markdown",
   "id": "capable-antibody",
   "metadata": {},
   "source": [
    "## Suggestions from correlations and components"
   ]
  },
  {
   "cell_type": "markdown",
   "id": "aboriginal-potter",
   "metadata": {},
   "source": [
    "#### Pearson"
   ]
  },
  {
   "cell_type": "code",
   "execution_count": 42,
   "id": "empty-japan",
   "metadata": {
    "scrolled": true
   },
   "outputs": [
    {
     "name": "stdout",
     "output_type": "stream",
     "text": [
      "                      col1                         col2      corr\n",
      "0  JHU_ConfirmedCases.data     JHU_ConfirmedDeaths.data  0.957832\n",
      "6  JHU_ConfirmedCases.data  BLS_EmployedPopulation.data  0.782552\n",
      "---\n",
      "                       col1              col2      corr\n",
      "76  JHU_ConfirmedCases.data  unitsInStructure  0.763475\n",
      "66  JHU_ConfirmedCases.data     houseFamily65  0.763316\n",
      "\n",
      " ['JHU_ConfirmedDeaths.data', 'BLS_EmployedPopulation.data', 'BLS_LaborForcePopulation.data', 'healthInsTotal', 'totalMoved', 'Female_Total_Population.data', 'TotalPopulation.data', 'latestTotalPopulation', 'Male_Total_Population.data', 'MaleAndFemale_Under18_Population.data', 'totalTrans', 'houseFamilyNo65', 'householdStructuresTotal', 'householdsTotal', 'house2+No65', 'unitsInStructure', 'houseFamily65']\n"
     ]
    }
   ],
   "source": [
    "p_suggestions, p_suggestion_df, p_corr_matrx = get_suggestions(df,17,'pearson')\n",
    "print(p_suggestion_df.head(2));print('---');print(p_suggestion_df.tail(2));print('\\n',p_suggestions)"
   ]
  },
  {
   "cell_type": "markdown",
   "id": "naughty-thought",
   "metadata": {},
   "source": [
    "### Other dimensionality techniques\n",
    " - #https://towardsdatascience.com/dimensionality-reduction-with-python-d3fac4e57c71\n",
    " - #https://scikit-learn.org/stable/modules/generated/sklearn.decomposition.PCA.html\n",
    " - #https://www.learndatasci.com/tutorials/applied-dimensionality-reduction-techniques-using-python/\n",
    " - #https://statisticallyrelevant.com/principal-component-analysis-in-python/"
   ]
  },
  {
   "cell_type": "code",
   "execution_count": 22,
   "id": "binding-aruba",
   "metadata": {},
   "outputs": [],
   "source": [
    "###from above ## try different pca filters\n",
    "\n",
    "#pca_2 = PCA(n_components=0.99, whiten=True)\n",
    "#features_pca = pca_2.fit_transform(x_df)\n",
    "\n",
    "#print(\"Original number of features:\", raw_df.shape[1])\n",
    "#print(\"Reduced number of features:\", features_pca.shape[1])"
   ]
  },
  {
   "cell_type": "code",
   "execution_count": 44,
   "id": "respective-powell",
   "metadata": {},
   "outputs": [],
   "source": [
    "X,Y = df[features], df[target]; X = X.drop(target,axis=1)"
   ]
  },
  {
   "cell_type": "code",
   "execution_count": 50,
   "id": "declared-thompson",
   "metadata": {},
   "outputs": [
    {
     "data": {
      "text/plain": [
       "array([[24527.0, 9716.5, 0.0, ..., 39, 122, 2555],\n",
       "       [24527.0, 9716.5, 0.0, ..., 39, 122, 2555],\n",
       "       [24527.0, 9716.5, 0.0, ..., 39, 122, 2555],\n",
       "       ...,\n",
       "       [2756.0, 978.0, 0.0, ..., 0, 16, 751],\n",
       "       [2756.0, 978.0, 0.0, ..., 0, 16, 751],\n",
       "       [2756.0, 978.0, 0.0, ..., 0, 16, 751]], dtype=object)"
      ]
     },
     "execution_count": 50,
     "metadata": {},
     "output_type": "execute_result"
    }
   ],
   "source": [
    "#### recursive feature elimination\n",
    "import warnings;from sklearn.feature_selection import RFECV;from sklearn import linear_model\n",
    "\n",
    "lr = linear_model.LinearRegression()\n",
    "\n",
    "rfecv = RFECV(estimator=lr, step=1, scoring=\"neg_mean_squared_error\")\n",
    "rfecv.fit(X,Y)\n",
    "rfecv.transform(X)"
   ]
  },
  {
   "cell_type": "code",
   "execution_count": 58,
   "id": "friendly-victor",
   "metadata": {},
   "outputs": [
    {
     "name": "stdout",
     "output_type": "stream",
     "text": [
      "RFECV(estimator=LinearRegression(), scoring='neg_mean_squared_error')\n",
      "52 86\n"
     ]
    }
   ],
   "source": [
    "##https://scikit-learn.org/stable/modules/generated/sklearn.feature_selection.RFECV.html\n",
    "print(rfecv); print(rfecv.n_features_, rfecv.n_features_in_)"
   ]
  },
  {
   "cell_type": "code",
   "execution_count": 71,
   "id": "racial-scholar",
   "metadata": {},
   "outputs": [
    {
     "name": "stdout",
     "output_type": "stream",
     "text": [
      "52\n"
     ]
    },
    {
     "data": {
      "text/plain": [
       "['TotalPopulation.data',\n",
       " 'BLS_EmployedPopulation.data',\n",
       " 'BLS_EmployedPopulation.missing',\n",
       " 'BLS_UnemployedPopulation.data',\n",
       " 'BLS_UnemployedPopulation.missing',\n",
       " 'BLS_UnemploymentRate.missing',\n",
       " 'BLS_LaborForcePopulation.data',\n",
       " 'BLS_LaborForcePopulation.missing',\n",
       " 'AverageDewPoint.missing',\n",
       " 'AverageRelativeHumidity.missing',\n",
       " 'AverageSurfaceAirPressure.missing',\n",
       " 'AveragePrecipitationTotal.data',\n",
       " 'AveragePrecipitationTotal.missing',\n",
       " 'AveragePrecipitation.missing',\n",
       " 'AverageWindDirection.missing',\n",
       " 'AverageWindSpeed.missing',\n",
       " 'latestTotalPopulation',\n",
       " 'jhu_daily_cases',\n",
       " 'jhu_daily_new_cases',\n",
       " 'jhu_daily_cases_rolling_7',\n",
       " 'jhu_daily_new_cases_rolling_7',\n",
       " 'jhu_daily_cases_rolling_30',\n",
       " 'jhu_daily_new_cases_rolling_30',\n",
       " 'jhu_death_rate',\n",
       " 'jhu_case_rate',\n",
       " 'jhu_new_case_rate',\n",
       " 'icu_beds_per_person',\n",
       " 'staffed_beds_per_person',\n",
       " 'licensed_beds_per_person',\n",
       " 'cold_days',\n",
       " 'hot_days',\n",
       " 'moderate_days',\n",
       " 'lt_18_percent',\n",
       " 'employed_percent',\n",
       " 'householdsTotal',\n",
       " 'houseWith65',\n",
       " 'house2+with65',\n",
       " 'houseFamily65',\n",
       " 'houseNonfam65',\n",
       " 'houseNo65',\n",
       " 'house2+No65',\n",
       " 'houseFamilyNo65',\n",
       " 'houseNonfamNo65',\n",
       " 'householdStructuresTotal',\n",
       " 'gini',\n",
       " 'healthInsTotal',\n",
       " 'healthInsNativeWith',\n",
       " 'healthInsForeignNatWith',\n",
       " 'healthInsForeignNoncitWith',\n",
       " 'healthInsForeignNatNo',\n",
       " 'healthInsForeignNoncitNo',\n",
       " 'healthInsNativeNo']"
      ]
     },
     "execution_count": 71,
     "metadata": {},
     "output_type": "execute_result"
    }
   ],
   "source": [
    "### support masks the variable if you should use it or not, masks with true or false\n",
    "rfecv_suggestion = []\n",
    "for i in range(rfecv.n_features_in_):\n",
    "    if rfecv.support_[i] == True:\n",
    "        rfecv_suggestion.append(rfecv.feature_names_in_[i])\n",
    "print(len(rfecv_suggestion)); rfecv_suggestion\n"
   ]
  },
  {
   "cell_type": "code",
   "execution_count": 62,
   "id": "speaking-experiment",
   "metadata": {},
   "outputs": [],
   "source": [
    "### set to pca suggestion number of components\n",
    "#for i in range(rfecv.n_features_in_):\n",
    "    #if rfecv.ranking_[i] <= 18:\n",
    "        #print(rfecv.feature_names_in_[i])"
   ]
  },
  {
   "cell_type": "code",
   "execution_count": 55,
   "id": "expected-concentration",
   "metadata": {},
   "outputs": [
    {
     "data": {
      "image/png": "[encoded data removed]",
      "text/plain": [
       "<Figure size 1152x648 with 1 Axes>"
      ]
     },
     "metadata": {
      "needs_background": "light"
     },
     "output_type": "display_data"
    }
   ],
   "source": [
    "plt.figure(figsize=(16, 9))\n",
    "plt.title('Recursive Feature Elimination with Cross-Validation', fontsize=18, fontweight='bold', pad=20)\n",
    "plt.xlabel('Number of features selected', fontsize=14, labelpad=20)\n",
    "plt.ylabel('% Correct Classification', fontsize=14, labelpad=20)\n",
    "plt.plot(range(1, len(rfecv.grid_scores_) + 1), rfecv.grid_scores_, color='#303F9F', linewidth=3)\n",
    "\n",
    "plt.show()"
   ]
  },
  {
   "cell_type": "code",
   "execution_count": 64,
   "id": "variable-broad",
   "metadata": {},
   "outputs": [
    {
     "name": "stdout",
     "output_type": "stream",
     "text": [
      "JHU_ConfirmedDeaths.data\n",
      "MaleAndFemale_AtLeast65_Population.data\n",
      "Male_Total_Population.data\n",
      "Female_Total_Population.data\n",
      "MaleAndFemale_Under18_Population.data\n",
      "BLS_UnemploymentRate.data\n",
      "AverageDailyTemperature.data\n",
      "AverageDailyTemperature.missing\n",
      "AverageDewPoint.data\n",
      "AverageRelativeHumidity.data\n",
      "AverageSurfaceAirPressure.data\n",
      "AveragePrecipitation.data\n",
      "AverageWindDirection.data\n",
      "AverageWindSpeed.data\n",
      "hospitalIcuBeds\n",
      "hospitalStaffedBeds\n",
      "hospitalLicensedBeds\n",
      "fips\n",
      "jhu_daily_death\n",
      "jhu_daily_death_rolling_7\n",
      "jhu_daily_death_rolling_30\n",
      "density\n",
      "gte_65_percent\n",
      "unemployed_percent\n",
      "totalMoved\n",
      "movedWithinState\n",
      "movedWithoutState\n",
      "movedFromAbroad\n",
      "publicTrans\n",
      "totalTrans\n",
      "householdIncomeMedian\n",
      "hoursWorkedMean\n",
      "unitsInStructure\n",
      "pm25\n"
     ]
    }
   ],
   "source": [
    "#print(np.where(rfecv.support_ == False)[0])\n",
    "#x.drop(x.columns[np.where(rfecv.support_ == False)[0]], axis=1, inplace=True)\n",
    "\n",
    "#least important features\n",
    "for i in range(rfecv.n_features_in_):\n",
    "    if rfecv.support_[i] == False:\n",
    "        print(rfecv.feature_names_in_[i])"
   ]
  },
  {
   "cell_type": "code",
   "execution_count": 69,
   "id": "thirty-kruger",
   "metadata": {},
   "outputs": [
    {
     "data": {
      "text/plain": [
       "array([ 8,  1, 22, 33, 25, 26,  1,  1,  1,  1,  3,  1,  1,  1, 14, 12, 16,\n",
       "        1, 18,  1, 11,  1,  1,  1,  7,  1, 29,  1, 10,  1, 13, 19, 23,  1,\n",
       "       34, 15,  1,  1,  6,  1,  1,  5,  1,  1,  1,  1,  1, 17,  1,  1,  1,\n",
       "        1,  1,  1,  4,  1,  1,  2, 30, 21, 24, 20, 31, 28,  1,  1,  1,  1,\n",
       "        1,  1,  1,  1,  1,  1, 35,  1, 27, 32,  1,  1,  1,  1,  1,  1,  1,\n",
       "        9])"
      ]
     },
     "execution_count": 69,
     "metadata": {},
     "output_type": "execute_result"
    }
   ],
   "source": [
    "rfecv.ranking_"
   ]
  },
  {
   "cell_type": "code",
   "execution_count": 54,
   "id": "olive-intro",
   "metadata": {},
   "outputs": [],
   "source": [
    "#### recursive feature elimination ## different model? socring? classification?\n",
    "#import warnings;from sklearn.feature_selection import RFECV;from sklearn import linear_model\n",
    "\n",
    "# Generate features matrix, target vector, and the true coefficients\n",
    "#features, target = make_regression(n_samples = 10000, n_features = 100, n_informative = 2, random_state = 1)\n",
    "#lr = linear_model.LinearRegression()\n",
    "\n",
    "# Recursively eliminate features\n",
    "#rfecv = RFECV(estimator=lr, step=1, scoring=\"neg_mean_squared_error\")\n",
    "#rfecv.fit(raw_df[features], raw_df[target])\n",
    "#rfecv.transform(raw_df[features])"
   ]
  },
  {
   "cell_type": "code",
   "execution_count": 140,
   "id": "informed-seventh",
   "metadata": {},
   "outputs": [],
   "source": [
    "## trying this next --> #RFECV visualizer with a linear SVM classifier\n",
    "\n",
    "#from sklearn.svm import SVC; from yellowbrick.model_selection import RFECV\n",
    "#visualizer = RFECV(SVC(kernel='linear', C=1))\n",
    "#visualizer.fit(raw_df[features], raw_df[target]) # Fit the data to the visualizer\n",
    "#visualizer.show()   # Finalize and render the figure"
   ]
  }
 ],
 "metadata": {
  "kernelspec": {
   "display_name": "Python 3",
   "language": "python",
   "name": "python3"
  },
  "language_info": {
   "codemirror_mode": {
    "name": "ipython",
    "version": 3
   },
   "file_extension": ".py",
   "mimetype": "text/x-python",
   "name": "python",
   "nbconvert_exporter": "python",
   "pygments_lexer": "ipython3",
   "version": "3.8.4"
  }
 },
 "nbformat": 4,
 "nbformat_minor": 5
}
