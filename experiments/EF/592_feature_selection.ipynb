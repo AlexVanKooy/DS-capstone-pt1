{
 "cells": [
  {
   "cell_type": "code",
   "execution_count": 27,
   "id": "exceptional-kidney",
   "metadata": {},
   "outputs": [],
   "source": [
    "import pickle; import tensorflow as tf; import pandas as pd\n",
    "import matplotlib.pyplot as plt ; import datetime; from datetime import datetime\n",
    "#print(tf.version)\n",
    "import bz2; import random; import numpy as np\n",
    "from sklearn.model_selection import train_test_split\n",
    "from sklearn.decomposition import PCA\n",
    "from sklearn import preprocessing\n",
    "from sklearn.preprocessing import StandardScaler\n",
    "from sklearn.linear_model import LogisticRegression\n",
    "from sklearn.linear_model import LinearRegression\n",
    "from sklearn.metrics import accuracy_score\n",
    "import warnings; from sklearn import metrics\n",
    "import seaborn as sns; import itertools\n",
    "warnings.filterwarnings('ignore')\n",
    "###\n",
    "import os; import os.path; from glob import glob\n",
    "import random; import shutil\n",
    "from tqdm.auto import tqdm\n",
    "import tensorflow.keras as keras\n",
    "from tensorflow.keras import backend as K\n",
    "from tensorflow.keras.optimizers import Adam\n",
    "from tensorboard.plugins.hparams import api as hp\n",
    "from sklearn.model_selection import train_test_split\n",
    "#from kerashypetune import KerasGridSearch\n",
    "from numpy import mean; from numpy import std\n",
    "from sklearn.datasets import make_classification\n",
    "from sklearn.model_selection import cross_val_score\n",
    "from sklearn.model_selection import RepeatedStratifiedKFold\n",
    "from sklearn.pipeline import Pipeline\n",
    "from sklearn.decomposition import TruncatedSVD\n",
    "from numpy.linalg import eigh; import plotly.express as px; "
   ]
  },
  {
   "cell_type": "code",
   "execution_count": 28,
   "id": "digital-field",
   "metadata": {},
   "outputs": [],
   "source": [
    "def FIPS_function(row):\n",
    "    state = str(row['stateFip']).zfill(2)\n",
    "    county = str(row['countyFip']).zfill(3)\n",
    "    return str(state + county)\n",
    "\n",
    "\n",
    "def get_above_threshold_2(dff,target,thresh):\n",
    "    \n",
    "    corr_mtrx = dff.corr(); corr_vals = corr_mtrx.values\n",
    "    flds = list(corr_mtrx.columns); numCols = corr_mtrx.shape[0]\n",
    "    \n",
    "    above_threshold = []\n",
    "    for i in range(numCols):\n",
    "        for j in range(i+1, numCols):\n",
    "            if corr_vals[i,j] > thresh:\n",
    "                if i != j:\n",
    "                    above_threshold.append([flds[i],flds[j],corr_vals[i,j]])\n",
    "    above_threshold.sort(reverse=True)\n",
    "    \n",
    "    #above = [above.append(i) for i in above_threshold if i[0] == target or if i[1] == target:]\n",
    "    list_above = []\n",
    "    for i in above_threshold:\n",
    "        if i[0] == target or i[1] == target:\n",
    "            list_above.append(i)\n",
    "            \n",
    "    return corr_mtrx, list_above\n",
    "\n",
    "\n",
    "def get_suggestions(dff,num,methodd):\n",
    "    \n",
    "    # get correlation matrix using desired method\n",
    "    og_corr_mtrx = dff.corr(method=methodd); corr_vals = og_corr_mtrx.values\n",
    "    flds = list(og_corr_mtrx.columns); numCols = og_corr_mtrx.shape[0]; \n",
    "    target_corrs = []; target = 'JHU_ConfirmedCases.data'\n",
    "    \n",
    "    # iterate throughout matrix and get all correlations associated with target\n",
    "    for i in range(numCols):\n",
    "        for j in range(i+1, numCols):\n",
    "            if i != j:\n",
    "                if flds[i] == target or flds[j] == target:\n",
    "                    target_corrs.append([flds[i],flds[j],corr_vals[i,j]])\n",
    "    \n",
    "    # convert corrs to df, sort by correlations and keep only the number of desried rows \n",
    "    s_corrs = pd.DataFrame(target_corrs,columns=['col1','col2','corr'])\n",
    "    s_corrs = s_corrs.sort_values(by='corr', ascending=False).head(num)\n",
    "    s_corrs.reset_index(drop=True); suggestion_lst=[]\n",
    "    \n",
    "    # put the names of columns into a list\n",
    "    for i, j in s_corrs.iterrows():\n",
    "        if j[\"col1\"] != target:\n",
    "            suggestion_lst.append(j['col1'])\n",
    "        if j['col2'] != target:\n",
    "            suggestion_lst.append(j['col2'])\n",
    "            \n",
    "    return suggestion_lst, s_corrs, og_corr_mtrx"
   ]
  },
  {
   "cell_type": "code",
   "execution_count": 29,
   "id": "desirable-publicity",
   "metadata": {},
   "outputs": [],
   "source": [
    "#pd.show_versions() #pandas: 1.0.5\n",
    "#!pip install pandas==1.4.1 --user\n",
    "#pd.show_versions() #pandas: 1.4.1"
   ]
  },
  {
   "cell_type": "code",
   "execution_count": 30,
   "id": "dimensional-deployment",
   "metadata": {},
   "outputs": [
    {
     "name": "stdout",
     "output_type": "stream",
     "text": [
      "(1879589, 88) 380\n",
      "(1879209, 87) 0\n"
     ]
    },
    {
     "data": {
      "text/html": [
       "<div>\n",
       "<style scoped>\n",
       "    .dataframe tbody tr th:only-of-type {\n",
       "        vertical-align: middle;\n",
       "    }\n",
       "\n",
       "    .dataframe tbody tr th {\n",
       "        vertical-align: top;\n",
       "    }\n",
       "\n",
       "    .dataframe thead th {\n",
       "        text-align: right;\n",
       "    }\n",
       "</style>\n",
       "<table border=\"1\" class=\"dataframe\">\n",
       "  <thead>\n",
       "    <tr style=\"text-align: right;\">\n",
       "      <th></th>\n",
       "      <th>JHU_ConfirmedCases.data</th>\n",
       "      <th>JHU_ConfirmedDeaths.data</th>\n",
       "      <th>TotalPopulation.data</th>\n",
       "      <th>MaleAndFemale_AtLeast65_Population.data</th>\n",
       "      <th>Male_Total_Population.data</th>\n",
       "      <th>Female_Total_Population.data</th>\n",
       "      <th>MaleAndFemale_Under18_Population.data</th>\n",
       "      <th>BLS_EmployedPopulation.data</th>\n",
       "      <th>BLS_EmployedPopulation.missing</th>\n",
       "      <th>BLS_UnemployedPopulation.data</th>\n",
       "      <th>...</th>\n",
       "      <th>hoursWorkedMean</th>\n",
       "      <th>unitsInStructure</th>\n",
       "      <th>healthInsTotal</th>\n",
       "      <th>healthInsNativeWith</th>\n",
       "      <th>healthInsForeignNatWith</th>\n",
       "      <th>healthInsForeignNoncitWith</th>\n",
       "      <th>healthInsForeignNatNo</th>\n",
       "      <th>healthInsForeignNoncitNo</th>\n",
       "      <th>healthInsNativeNo</th>\n",
       "      <th>pm25</th>\n",
       "    </tr>\n",
       "  </thead>\n",
       "  <tbody>\n",
       "    <tr>\n",
       "      <th>0</th>\n",
       "      <td>1.00</td>\n",
       "      <td>0.00</td>\n",
       "      <td>24527.00</td>\n",
       "      <td>5343.00</td>\n",
       "      <td>11868.00</td>\n",
       "      <td>12673.00</td>\n",
       "      <td>4924.00</td>\n",
       "      <td>9716.50</td>\n",
       "      <td>0.00</td>\n",
       "      <td>386.50</td>\n",
       "      <td>...</td>\n",
       "      <td>38.10</td>\n",
       "      <td>12191</td>\n",
       "      <td>24397</td>\n",
       "      <td>21415</td>\n",
       "      <td>179</td>\n",
       "      <td>87</td>\n",
       "      <td>39</td>\n",
       "      <td>122</td>\n",
       "      <td>2555</td>\n",
       "      <td>9.62</td>\n",
       "    </tr>\n",
       "    <tr>\n",
       "      <th>1</th>\n",
       "      <td>1.00</td>\n",
       "      <td>0.00</td>\n",
       "      <td>24527.00</td>\n",
       "      <td>5343.00</td>\n",
       "      <td>11868.00</td>\n",
       "      <td>12673.00</td>\n",
       "      <td>4924.00</td>\n",
       "      <td>9716.50</td>\n",
       "      <td>0.00</td>\n",
       "      <td>386.50</td>\n",
       "      <td>...</td>\n",
       "      <td>38.10</td>\n",
       "      <td>12191</td>\n",
       "      <td>24397</td>\n",
       "      <td>21415</td>\n",
       "      <td>179</td>\n",
       "      <td>87</td>\n",
       "      <td>39</td>\n",
       "      <td>122</td>\n",
       "      <td>2555</td>\n",
       "      <td>9.62</td>\n",
       "    </tr>\n",
       "    <tr>\n",
       "      <th>2</th>\n",
       "      <td>1.00</td>\n",
       "      <td>0.00</td>\n",
       "      <td>24527.00</td>\n",
       "      <td>5343.00</td>\n",
       "      <td>11868.00</td>\n",
       "      <td>12673.00</td>\n",
       "      <td>4924.00</td>\n",
       "      <td>9716.50</td>\n",
       "      <td>0.00</td>\n",
       "      <td>386.50</td>\n",
       "      <td>...</td>\n",
       "      <td>38.10</td>\n",
       "      <td>12191</td>\n",
       "      <td>24397</td>\n",
       "      <td>21415</td>\n",
       "      <td>179</td>\n",
       "      <td>87</td>\n",
       "      <td>39</td>\n",
       "      <td>122</td>\n",
       "      <td>2555</td>\n",
       "      <td>9.62</td>\n",
       "    </tr>\n",
       "  </tbody>\n",
       "</table>\n",
       "<p>3 rows × 87 columns</p>\n",
       "</div>"
      ],
      "text/plain": [
       "   JHU_ConfirmedCases.data  JHU_ConfirmedDeaths.data  TotalPopulation.data  \\\n",
       "0                     1.00                      0.00              24527.00   \n",
       "1                     1.00                      0.00              24527.00   \n",
       "2                     1.00                      0.00              24527.00   \n",
       "\n",
       "   MaleAndFemale_AtLeast65_Population.data  Male_Total_Population.data  \\\n",
       "0                                  5343.00                    11868.00   \n",
       "1                                  5343.00                    11868.00   \n",
       "2                                  5343.00                    11868.00   \n",
       "\n",
       "   Female_Total_Population.data  MaleAndFemale_Under18_Population.data  \\\n",
       "0                      12673.00                                4924.00   \n",
       "1                      12673.00                                4924.00   \n",
       "2                      12673.00                                4924.00   \n",
       "\n",
       "   BLS_EmployedPopulation.data  BLS_EmployedPopulation.missing  \\\n",
       "0                      9716.50                            0.00   \n",
       "1                      9716.50                            0.00   \n",
       "2                      9716.50                            0.00   \n",
       "\n",
       "   BLS_UnemployedPopulation.data  ...  hoursWorkedMean  unitsInStructure  \\\n",
       "0                         386.50  ...            38.10             12191   \n",
       "1                         386.50  ...            38.10             12191   \n",
       "2                         386.50  ...            38.10             12191   \n",
       "\n",
       "   healthInsTotal  healthInsNativeWith  healthInsForeignNatWith  \\\n",
       "0           24397                21415                      179   \n",
       "1           24397                21415                      179   \n",
       "2           24397                21415                      179   \n",
       "\n",
       "   healthInsForeignNoncitWith  healthInsForeignNatNo  \\\n",
       "0                          87                     39   \n",
       "1                          87                     39   \n",
       "2                          87                     39   \n",
       "\n",
       "   healthInsForeignNoncitNo  healthInsNativeNo  pm25  \n",
       "0                       122               2555  9.62  \n",
       "1                       122               2555  9.62  \n",
       "2                       122               2555  9.62  \n",
       "\n",
       "[3 rows x 87 columns]"
      ]
     },
     "execution_count": 30,
     "metadata": {},
     "output_type": "execute_result"
    }
   ],
   "source": [
    "file_name = '/Users/evanfalkowski/Documents/Drexel/Capstone/DSCI_592/workspace/feeFiFoFum.pbz2'\n",
    "bz_file = bz2.BZ2File(file_name,'rb'); df = pd.read_pickle(bz_file)\n",
    "cols = ['NYT_ConfirmedCases.data','NYT_ConfirmedDeaths.data','NYT_ConfirmedDeaths.missing','county','LND110210','countyStateName','stateFip','countyFip']\n",
    "df.drop(cols, axis=1, inplace=True); print(df.shape,df.isnull().sum().sum())\n",
    "df = df.dropna(); df = df.reset_index(drop = True); df = df.drop(columns='dates')\n",
    "print(df.shape,df.isnull().sum().sum()); df.head(3)"
   ]
  },
  {
   "cell_type": "markdown",
   "id": "selected-container",
   "metadata": {},
   "source": [
    "## PCA\n",
    "- https://towardsdatascience.com/pca-using-python-scikit-learn-e653f8989e60"
   ]
  },
  {
   "cell_type": "code",
   "execution_count": 31,
   "id": "valid-mouth",
   "metadata": {},
   "outputs": [
    {
     "name": "stdout",
     "output_type": "stream",
     "text": [
      "Number of principle compnents:  87\n",
      "Original number of compnents:  87\n"
     ]
    }
   ],
   "source": [
    "target = 'JHU_ConfirmedCases.data'; features = list(df.columns);y = df.loc[:,[target]].values\n",
    "x = df.loc[:, features].values; x = StandardScaler().fit_transform(x)\n",
    "\n",
    "pca = PCA(); principalComponents = pca.fit_transform(x)\n",
    "principalDf = pd.DataFrame(data = principalComponents)\n",
    "\n",
    "pca_df = pd.concat([principalDf, df[[target]]], axis = 1)\n",
    "var_expln = list(pca.explained_variance_ratio_);var_expln.sort(reverse=True)\n",
    "print('Number of principle compnents: ', len(var_expln))\n",
    "print('Original number of compnents: ', df.shape[1])"
   ]
  },
  {
   "cell_type": "code",
   "execution_count": 88,
   "id": "offensive-cologne",
   "metadata": {},
   "outputs": [
    {
     "data": {
      "image/png": "[encoded data removed]",
      "text/plain": [
       "<Figure size 1152x576 with 1 Axes>"
      ]
     },
     "metadata": {
      "needs_background": "light"
     },
     "output_type": "display_data"
    }
   ],
   "source": [
    "# Plot the cumulative variance for each component\n",
    "#https://statisticallyrelevant.com/principal-component-analysis-in-python/\n",
    "\n",
    "plt.figure(figsize = (16, 8))\n",
    "components = np.arange(1, 88, step=1)\n",
    "variance = np.cumsum(pca.explained_variance_ratio_)\n",
    "plt.ylim(0.7,1.05)\n",
    "plt.plot(components, variance, marker='.', linestyle='-', color='black')\n",
    "plt.xlabel('Number of Components')\n",
    "plt.xticks(np.arange(1, 88, step=3))\n",
    "plt.ylabel('Cumulative variance (%)')\n",
    "plt.title('The number of components needed to explain variance')\n",
    "#95%\n",
    "plt.axhline(y=0.95, color='b', linestyle='-')\n",
    "plt.text(0.75, 0.96, '95% variance threshold', color = 'blue', fontsize=12)\n",
    "plt.text(50, 0.96, \"Components needed: \"+str(np.where(np.cumsum(pca.explained_variance_ratio_)>=0.95)[0][0]), color = \"blue\", fontsize=12)\n",
    "#90%\n",
    "plt.axhline(y=0.88, color='r', linestyle='-')\n",
    "plt.text(0.75, 0.89, '88% variance threshold', color = 'red', fontsize=15)\n",
    "plt.text(50, 0.89, \"Components needed: \"+str(np.where(np.cumsum(pca.explained_variance_ratio_)>=0.88)[0][0]), color = \"red\", fontsize=15)\n",
    "#80%\n",
    "plt.axhline(y=0.80, color='b', linestyle='-')\n",
    "plt.text(0.75, 0.81, '80% variance threshold', color = 'blue', fontsize=12)\n",
    "plt.text(50, 0.81, \"Components needed: \"+str(np.where(np.cumsum(pca.explained_variance_ratio_)>=0.80)[0][0]), color = \"blue\", fontsize=12)\n",
    "plt.show()"
   ]
  },
  {
   "cell_type": "code",
   "execution_count": 87,
   "id": "incorporated-processor",
   "metadata": {},
   "outputs": [
    {
     "data": {
      "image/png": "[encoded data removed]",
      "text/plain": [
       "<Figure size 1296x576 with 1 Axes>"
      ]
     },
     "metadata": {
      "needs_background": "light"
     },
     "output_type": "display_data"
    }
   ],
   "source": [
    "# Scree plot\n",
    "plt.figure(figsize=(18, 8))\n",
    "components = np.arange(1, 88, step=1)\n",
    "eigenvalues = pca.explained_variance_\n",
    "plt.plot(components, eigenvalues, marker = '.', linestyle = '-', color = 'black')\n",
    "#plt.ylim(0, max(eigenvalues))\n",
    "plt.ylim(0, max(eigenvalues)/16)\n",
    "plt.ylabel('Eigenvalue')\n",
    "plt.xlabel('Number of Components')\n",
    "plt.xticks(np.arange(1, 88, step = 3))\n",
    "plt.title('Scree plot')\n",
    "plt.axhline(y=1, color = 'r', linestyle = '-')\n",
    "plt.text(-2, 1.1, 'Eigenvalue Cutoff', color = 'red', fontsize=18)\n",
    "plt.text(30,1.1,'Components Needed: '+str(np.where(eigenvalues<=1)[0][0]),color='red',fontsize=18)\n",
    "plt.show()"
   ]
  },
  {
   "cell_type": "markdown",
   "id": "backed-continent",
   "metadata": {},
   "source": [
    "The above scree plot contains the eigenvalues on the y axis and the number of components \n",
    "on the x axis. A general rule of thumb, is to keep number of components that have an \n",
    "eigenvalue greater than 1. The scree plot suggests to keep 17 components. \n",
    "\n",
    "The eigvalues are really the pca.explained_variance, which is calculated as ratio of eigenvalue of a articular principal component (eigenvector) with total eigenvalues"
   ]
  },
  {
   "cell_type": "markdown",
   "id": "capable-antibody",
   "metadata": {},
   "source": [
    "## Suggestions from correlations and components"
   ]
  },
  {
   "cell_type": "markdown",
   "id": "aboriginal-potter",
   "metadata": {},
   "source": [
    "#### Pearson"
   ]
  },
  {
   "cell_type": "code",
   "execution_count": 34,
   "id": "empty-japan",
   "metadata": {
    "scrolled": true
   },
   "outputs": [
    {
     "name": "stdout",
     "output_type": "stream",
     "text": [
      "                      col1                         col2  corr\n",
      "0  JHU_ConfirmedCases.data     JHU_ConfirmedDeaths.data  0.96\n",
      "6  JHU_ConfirmedCases.data  BLS_EmployedPopulation.data  0.78\n",
      "---\n",
      "                       col1              col2  corr\n",
      "76  JHU_ConfirmedCases.data  unitsInStructure  0.76\n",
      "66  JHU_ConfirmedCases.data     houseFamily65  0.76\n",
      "\n",
      " ['JHU_ConfirmedDeaths.data', 'BLS_EmployedPopulation.data', 'BLS_LaborForcePopulation.data', 'healthInsTotal', 'totalMoved', 'Female_Total_Population.data', 'TotalPopulation.data', 'latestTotalPopulation', 'Male_Total_Population.data', 'MaleAndFemale_Under18_Population.data', 'totalTrans', 'houseFamilyNo65', 'householdStructuresTotal', 'householdsTotal', 'house2+No65', 'unitsInStructure', 'houseFamily65']\n"
     ]
    }
   ],
   "source": [
    "p_suggestions, p_suggestion_df, p_corr_matrx = get_suggestions(df,17,'pearson')\n",
    "print(p_suggestion_df.head(2));print('---');print(p_suggestion_df.tail(2));print('\\n',p_suggestions)"
   ]
  },
  {
   "cell_type": "markdown",
   "id": "naughty-thought",
   "metadata": {},
   "source": [
    "### Other dimensionality techniques\n",
    " - #https://towardsdatascience.com/dimensionality-reduction-with-python-d3fac4e57c71\n",
    " - #https://scikit-learn.org/stable/modules/generated/sklearn.decomposition.PCA.html\n",
    " - #https://www.learndatasci.com/tutorials/applied-dimensionality-reduction-techniques-using-python/\n",
    " - #https://statisticallyrelevant.com/principal-component-analysis-in-python/"
   ]
  },
  {
   "cell_type": "code",
   "execution_count": 35,
   "id": "round-assembly",
   "metadata": {},
   "outputs": [],
   "source": [
    "X,Y = df[features], df[target]; X = X.drop(target,axis=1)"
   ]
  },
  {
   "cell_type": "code",
   "execution_count": 55,
   "id": "expressed-mustang",
   "metadata": {},
   "outputs": [
    {
     "name": "stdout",
     "output_type": "stream",
     "text": [
      "RFECV(estimator=LinearRegression(), scoring='neg_mean_squared_error')\n",
      "52 86\n"
     ]
    }
   ],
   "source": [
    "#### recursive feature elimination\n",
    "import warnings;from sklearn.feature_selection import RFECV;from sklearn import linear_model\n",
    "\n",
    "lr = linear_model.LinearRegression()\n",
    "rfecv = RFECV(estimator=lr, step=1, scoring=\"neg_mean_squared_error\")\n",
    "rfecv.fit(X,Y); rfecv.transform(X)\n",
    "print(rfecv); print(rfecv.n_features_, rfecv.n_features_in_)"
   ]
  },
  {
   "cell_type": "code",
   "execution_count": 89,
   "id": "infrared-assumption",
   "metadata": {},
   "outputs": [],
   "source": [
    "#dir(rfecv)"
   ]
  },
  {
   "cell_type": "code",
   "execution_count": 72,
   "id": "unlike-holmes",
   "metadata": {},
   "outputs": [
    {
     "name": "stdout",
     "output_type": "stream",
     "text": [
      "52\n"
     ]
    },
    {
     "data": {
      "text/plain": [
       "['TotalPopulation.data',\n",
       " 'BLS_EmployedPopulation.data',\n",
       " 'BLS_EmployedPopulation.missing',\n",
       " 'BLS_UnemployedPopulation.data',\n",
       " 'BLS_UnemployedPopulation.missing',\n",
       " 'BLS_UnemploymentRate.missing',\n",
       " 'BLS_LaborForcePopulation.data',\n",
       " 'BLS_LaborForcePopulation.missing',\n",
       " 'AverageDewPoint.missing',\n",
       " 'AverageRelativeHumidity.missing',\n",
       " 'AverageSurfaceAirPressure.missing',\n",
       " 'AveragePrecipitationTotal.data',\n",
       " 'AveragePrecipitationTotal.missing',\n",
       " 'AveragePrecipitation.missing',\n",
       " 'AverageWindDirection.missing',\n",
       " 'AverageWindSpeed.missing',\n",
       " 'latestTotalPopulation',\n",
       " 'jhu_daily_cases',\n",
       " 'jhu_daily_new_cases',\n",
       " 'jhu_daily_cases_rolling_7',\n",
       " 'jhu_daily_new_cases_rolling_7',\n",
       " 'jhu_daily_cases_rolling_30',\n",
       " 'jhu_daily_new_cases_rolling_30',\n",
       " 'jhu_death_rate',\n",
       " 'jhu_case_rate',\n",
       " 'jhu_new_case_rate',\n",
       " 'icu_beds_per_person',\n",
       " 'staffed_beds_per_person',\n",
       " 'licensed_beds_per_person',\n",
       " 'cold_days',\n",
       " 'hot_days',\n",
       " 'moderate_days',\n",
       " 'lt_18_percent',\n",
       " 'employed_percent',\n",
       " 'householdsTotal',\n",
       " 'houseWith65',\n",
       " 'house2+with65',\n",
       " 'houseFamily65',\n",
       " 'houseNonfam65',\n",
       " 'houseNo65',\n",
       " 'house2+No65',\n",
       " 'houseFamilyNo65',\n",
       " 'houseNonfamNo65',\n",
       " 'householdStructuresTotal',\n",
       " 'gini',\n",
       " 'healthInsTotal',\n",
       " 'healthInsNativeWith',\n",
       " 'healthInsForeignNatWith',\n",
       " 'healthInsForeignNoncitWith',\n",
       " 'healthInsForeignNatNo',\n",
       " 'healthInsForeignNoncitNo',\n",
       " 'healthInsNativeNo']"
      ]
     },
     "execution_count": 72,
     "metadata": {},
     "output_type": "execute_result"
    }
   ],
   "source": [
    "rfecv_suggestion = [] ### all suggested columns from above model\n",
    "for i in range(rfecv.n_features_in_):\n",
    "    if rfecv.support_[i] == True:\n",
    "        rfecv_suggestion.append(X.columns[i])\n",
    "print(len(rfecv_suggestion)); rfecv_suggestion"
   ]
  },
  {
   "cell_type": "code",
   "execution_count": 54,
   "id": "fatal-vegetable",
   "metadata": {},
   "outputs": [],
   "source": [
    "#rfecv.feature_names_in_"
   ]
  },
  {
   "cell_type": "code",
   "execution_count": 53,
   "id": "blessed-taylor",
   "metadata": {},
   "outputs": [
    {
     "name": "stdout",
     "output_type": "stream",
     "text": [
      "Original number of compnents:  87\n",
      "Number of suggested compnents from pearsons and regression :  10\n"
     ]
    }
   ],
   "source": [
    "# pearson's correlation feature selection with regression\n",
    "from sklearn.feature_selection import SelectKBest, f_regression\n",
    "\n",
    "xx = df.loc[:, features].values; xx = StandardScaler().fit_transform(xx)\n",
    "yy = df.loc[:,[target]].values\n",
    "\n",
    "f_s = SelectKBest(score_func=f_regression)\n",
    "x_selected = f_s.fit_transform(xx,yy)\n",
    "print('Original number of compnents: ', df.shape[1])\n",
    "print('Number of suggested compnents from pearsons and regression : ', x_selected.shape[1])"
   ]
  },
  {
   "cell_type": "code",
   "execution_count": null,
   "id": "threaded-softball",
   "metadata": {},
   "outputs": [],
   "source": [
    "#from sklearn.feature_selection import mutual_info_regression\n",
    "\n",
    "#mi_s = SelectKBest(score_func=mutual_info_regression); x_miselected = mi_s.fit_transform(xx,yy)\n",
    "\n",
    "#print('Original number of compnents: ', df.shape[1])\n",
    "#print('Number of suggested compnents from pearsons and regression : ', x_miselected.shape[1])"
   ]
  },
  {
   "cell_type": "markdown",
   "id": "sought-standard",
   "metadata": {},
   "source": [
    "### Lazy Predict"
   ]
  },
  {
   "cell_type": "code",
   "execution_count": null,
   "id": "directed-companion",
   "metadata": {},
   "outputs": [],
   "source": [
    "# trys all different regressor models \n",
    "# https://libraries.io/pypi/lazypredict\n",
    "#https://thecleverprogrammer.com/2021/06/19/lazy-predict-in-python-tutorial/"
   ]
  },
  {
   "cell_type": "code",
   "execution_count": null,
   "id": "loving-russian",
   "metadata": {},
   "outputs": [
    {
     "name": "stderr",
     "output_type": "stream",
     "text": [
      "\r",
      "  0%|          | 0/42 [00:00<?, ?it/s]"
     ]
    }
   ],
   "source": [
    "##lazy predict: regressor  # x & y are from above\n",
    "from lazypredict.Supervised import LazyRegressor\n",
    "\n",
    "X_lazy,Y_lazy = df[features], df[target]; X_lazy = X_lazy.drop(target,axis=1)\n",
    "\n",
    "x_lazy = X_lazy.values; y_lazy = Y_lazy.values\n",
    "x_lazy = StandardScaler().fit_transform(x_lazy)\n",
    "\n",
    "xtrain, xtest, ytrain, ytest = train_test_split(x_lazy,y_lazy,test_size=0.2,random_state=42)\n",
    "\n",
    "lazy_reg = LazyRegressor(verbose=0, ignore_warnings=False, custom_metric=None)\n",
    "models, predictions = lazy_reg.fit(xtrain, xtest, ytrain, ytest)\n",
    "models"
   ]
  },
  {
   "cell_type": "code",
   "execution_count": null,
   "id": "broadband-jumping",
   "metadata": {},
   "outputs": [],
   "source": [
    "#pca_cor_cols = ['JHU_ConfirmedDeaths.data', 'BLS_EmployedPopulation.data', 'BLS_LaborForcePopulation.data', 'healthInsTotal', 'totalMoved', 'Female_Total_Population.data', 'TotalPopulation.data', 'latestTotalPopulation', 'Male_Total_Population.data', 'MaleAndFemale_Under18_Population.data', 'totalTrans', 'houseFamilyNo65', 'householdStructuresTotal', 'householdsTotal', 'house2+No65', 'unitsInStructure', 'houseFamily65']\n",
    "\n",
    "#slim_x = df.loc[:, pca_cor_cols].values; slim_x = StandardScaler().fit_transform(slim_x)\n",
    "#slim_y = df.loc[:,[target]].values\n",
    "\n",
    "#slim_xtrain, slim_xtest, slim_ytrain, slim_ytest = train_test_split(slim_x, slim_y, test_size=0.2, random_state=42)\n",
    "\n",
    "#slim__lazy_reg = LazyRegressor(verbose=0, ignore_warnings=False, custom_metric=None)\n",
    "#slim_models, slim_predictions = slim_lazy_reg.fit(slim_xtrain, slim_xtest, slim_ytrain, slim_ytest)\n",
    "#slim_models"
   ]
  }
 ],
 "metadata": {
  "kernelspec": {
   "display_name": "Python 3",
   "language": "python",
   "name": "python3"
  },
  "language_info": {
   "codemirror_mode": {
    "name": "ipython",
    "version": 3
   },
   "file_extension": ".py",
   "mimetype": "text/x-python",
   "name": "python",
   "nbconvert_exporter": "python",
   "pygments_lexer": "ipython3",
   "version": "3.8.4"
  }
 },
 "nbformat": 4,
 "nbformat_minor": 5
}
